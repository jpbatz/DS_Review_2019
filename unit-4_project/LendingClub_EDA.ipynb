{
 "cells": [
  {
   "cell_type": "markdown",
   "metadata": {},
   "source": [
    "### Lending Club Datasets"
   ]
  },
  {
   "cell_type": "code",
   "execution_count": 1,
   "metadata": {
    "collapsed": true
   },
   "outputs": [],
   "source": [
    "import pandas as pd\n",
    "import numpy as np\n",
    "import seaborn as sns\n",
    "import matplotlib.pyplot as plt\n",
    "# from ipywidgets import interact\n",
    "# from matplotlib import pyplot as plt\n",
    "\n",
    "# This allows plots to appear directly in the notebook\n",
    "%matplotlib inline\n",
    "\n",
    "import datetime as dt\n",
    "\n",
    "plt.rcParams['figure.figsize'] = (6, 6)\n",
    "plt.rcParams['font.size'] = 14\n",
    "\n",
    "plt.style.use(\"fivethirtyeight\")\n",
    "# plt.style.use('ggplot')\n",
    "\n",
    "# common data science modules\n",
    "from IPython.display import HTML"
   ]
  },
  {
   "cell_type": "code",
   "execution_count": 3,
   "metadata": {
    "collapsed": false
   },
   "outputs": [
    {
     "data": {
      "text/plain": [
       "(42536, 137)"
      ]
     },
     "execution_count": 3,
     "metadata": {},
     "output_type": "execute_result"
    }
   ],
   "source": [
    "# Kaggle All 2007-2015 (887379, 74)\n",
    "# kdata_path_2007_2015 = 'loan.csv'\n",
    "# kloans_2007_2015 = pd.read_csv(kdata_path_2007_2015, parse_dates=['issue_d'], date_parser=pd.to_datetime)\n",
    "# kloans_2007_2015.shape\n",
    "\n",
    "# ********************** LC Originals **********************\n",
    "\n",
    "# LC 2007-2015 (887441, 137)\n",
    "# data_path_2007_2015 = 'DataFiles/Accepted/2007_2015/LoanStats3a.csv'            # ( 42536, 137)\n",
    "# data_path_2007_2015 = 'DataFiles/Accepted/2007_2015/LoanStats3b.csv'            # (188181, 137)\n",
    "# data_path_2007_2015 = 'DataFiles/Accepted/2007_2015/LoanStats3c.csv'            # (235629, 137)\n",
    "# data_path_2007_2015 = 'DataFiles/Accepted/2007_2015/LoanStats3d.csv'            # (421095, 137)\n",
    "# data_path_2007_2015 = 'DataFiles/Accepted/2007_2015/LoanStatus_2007_2015.csv'   # (887441, 137)\n",
    "# loans_2007_2015 = pd.read_csv(data_path_2007_2015, parse_dates=['issue_d'], date_parser=pd.to_datetime, low_memory=False)\n",
    "# loans_2007_2015.shape\n",
    "\n",
    "\n",
    "# data_path_2016 = 'DataFiles/Accepted/2016/LoanStats_2016Q1.csv'                 # (133889, 137)\n",
    "# data_path_2016 = 'DataFiles/Accepted/2016/LoanStats_2016Q2.csv'                 # ( 97854, 137)\n",
    "# data_path_2016 = 'DataFiles/Accepted/2016/LoanStats_2016Q3.csv'                 # ( 99120, 137)\n",
    "# data_path_2016 = 'DataFiles/Accepted/2016/LoanStats_2016Q4.csv'                 # (103546, 137)\n",
    "# data_path_2016 = 'DataFiles/Accepted/2016/LoanStats_2016.csv'                   # (434409, 137)\n",
    "# loans_2016 = pd.read_csv(data_path_2016, parse_dates=['issue_d'], date_parser=pd.to_datetime)\n",
    "# loans_2016.shape\n",
    "\n",
    "\n",
    "# data_path_2017 = 'DataFiles/Accepted/2017/LoanStats_2017Q1.csv'                 # ( 96779, 137)\n",
    "# data_path_2017 = 'DataFiles/Accepted/2017/LoanStats_2017Q2.csv'                 # (105451, 137)\n",
    "# data_path_2017 = 'DataFiles/Accepted/2017/LoanStats_2017.csv'                   # (202230, 137)\n",
    "# loans_2017 = pd.read_csv(data_path_2017, parse_dates=['issue_d'], date_parser=pd.to_datetime)\n",
    "# loans_2017.shape\n",
    "\n",
    "\n",
    "# ********************** LC Consolidated **********************\n",
    "\n",
    "# LC All 2007-2015 (887441, 137)\n",
    "# LCdata_path_2007 = 'DataFiles/Accepted/LoanStats_2007_2015.csv'\n",
    "# LCloans_2007 = pd.read_csv(LCdata_path_2007, parse_dates=['issue_d'], date_parser=pd.to_datetime, low_memory=False)\n",
    "# LCloans_2007.shape\n",
    "\n",
    "# LC All 2016 (434409, 137)\n",
    "# LCdata_path_2016 = 'DataFiles/Accepted/LoanStats_2016.csv'\n",
    "# LCloans_2016 = pd.read_csv(LCdata_path_2016, parse_dates=['issue_d'], date_parser=pd.to_datetime, low_memory=False)\n",
    "# LCloans_2016.shape\n",
    "\n",
    "# LC All 2017 (202230, 137)\n",
    "# LCdata_path_2017 = 'DataFiles/Accepted/LoanStats_2017.csv'\n",
    "# LCloans_2017 = pd.read_csv(LCdata_path_2017, parse_dates=['issue_d'], date_parser=pd.to_datetime, low_memory=False)\n",
    "# LCloans_2017.shape\n",
    "\n",
    "# LC All 2007-2017 (1524080, 137)\n",
    "# LCdata_path_2007_2017 = 'DataFiles/Accepted/LoanStats_2007_2017.csv'\n",
    "# LCloans_2007_2017 = pd.read_csv(LCdata_path_2007_2017, parse_dates=['issue_d'], date_parser=pd.to_datetime)\n",
    "# LCloans_2007_2017.shape\n"
   ]
  }
 ],
 "metadata": {
  "kernelspec": {
   "display_name": "Python 2",
   "language": "python",
   "name": "python2"
  },
  "language_info": {
   "codemirror_mode": {
    "name": "ipython",
    "version": 2
   },
   "file_extension": ".py",
   "mimetype": "text/x-python",
   "name": "python",
   "nbconvert_exporter": "python",
   "pygments_lexer": "ipython2",
   "version": "2.7.13"
  }
 },
 "nbformat": 4,
 "nbformat_minor": 2
}
