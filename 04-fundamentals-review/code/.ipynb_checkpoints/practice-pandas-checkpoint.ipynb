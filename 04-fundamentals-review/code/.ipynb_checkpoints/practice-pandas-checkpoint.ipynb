{
 "cells": [
  {
   "cell_type": "markdown",
   "metadata": {},
   "source": [
    "## Intro to Pandas\n",
    "+ Object Creation\n",
    "+ Viewing data\n",
    "+ Selection\n",
    "+ Missing data\n",
    "+ Grouping\n",
    "+ Reshaping\n",
    "+ Time series\n",
    "+ Plotting\n",
    "+ I/O\n",
    "\n",
    "pandas.pydata.org\n"
   ]
  },
  {
   "cell_type": "code",
   "execution_count": 1,
   "metadata": {},
   "outputs": [],
   "source": [
    "import pandas as pd\n",
    "import numpy as np\n",
    "import matplotlib.pyplot as plt\n",
    "plt.style.use('ggplot')\n",
    "%matplotlib inline"
   ]
  },
  {
   "cell_type": "code",
   "execution_count": 2,
   "metadata": {},
   "outputs": [
    {
     "name": "stdout",
     "output_type": "stream",
     "text": [
      "<class 'numpy.ndarray'>\n",
      "(24,)\n"
     ]
    },
    {
     "data": {
      "text/plain": [
       "array([ 0,  1,  2,  3,  4,  5,  6,  7,  8,  9, 10, 11, 12, 13, 14, 15, 16,\n",
       "       17, 18, 19, 20, 21, 22, 23])"
      ]
     },
     "execution_count": 2,
     "metadata": {},
     "output_type": "execute_result"
    }
   ],
   "source": [
    "demo_2d = np.arange(24)\n",
    "print(type(demo_2d))\n",
    "print(demo_2d.shape)\n",
    "demo_2d"
   ]
  },
  {
   "cell_type": "code",
   "execution_count": 3,
   "metadata": {},
   "outputs": [
    {
     "name": "stdout",
     "output_type": "stream",
     "text": [
      "<class 'numpy.ndarray'>\n",
      "(12, 2)\n"
     ]
    },
    {
     "data": {
      "text/plain": [
       "array([[ 0,  1],\n",
       "       [ 2,  3],\n",
       "       [ 4,  5],\n",
       "       [ 6,  7],\n",
       "       [ 8,  9],\n",
       "       [10, 11],\n",
       "       [12, 13],\n",
       "       [14, 15],\n",
       "       [16, 17],\n",
       "       [18, 19],\n",
       "       [20, 21],\n",
       "       [22, 23]])"
      ]
     },
     "execution_count": 3,
     "metadata": {},
     "output_type": "execute_result"
    }
   ],
   "source": [
    "demo_2d = np.arange(24).reshape(-1,2)\n",
    "print(type(demo_2d))\n",
    "print(demo_2d.shape)\n",
    "demo_2d"
   ]
  },
  {
   "cell_type": "markdown",
   "metadata": {},
   "source": [
    "### Q: Why is -1 the same as 12?"
   ]
  },
  {
   "cell_type": "code",
   "execution_count": 4,
   "metadata": {},
   "outputs": [
    {
     "data": {
      "text/html": [
       "<div>\n",
       "<style scoped>\n",
       "    .dataframe tbody tr th:only-of-type {\n",
       "        vertical-align: middle;\n",
       "    }\n",
       "\n",
       "    .dataframe tbody tr th {\n",
       "        vertical-align: top;\n",
       "    }\n",
       "\n",
       "    .dataframe thead th {\n",
       "        text-align: right;\n",
       "    }\n",
       "</style>\n",
       "<table border=\"1\" class=\"dataframe\">\n",
       "  <thead>\n",
       "    <tr style=\"text-align: right;\">\n",
       "      <th></th>\n",
       "      <th>0</th>\n",
       "      <th>1</th>\n",
       "    </tr>\n",
       "  </thead>\n",
       "  <tbody>\n",
       "    <tr>\n",
       "      <th>0</th>\n",
       "      <td>0</td>\n",
       "      <td>1</td>\n",
       "    </tr>\n",
       "    <tr>\n",
       "      <th>1</th>\n",
       "      <td>2</td>\n",
       "      <td>3</td>\n",
       "    </tr>\n",
       "    <tr>\n",
       "      <th>2</th>\n",
       "      <td>4</td>\n",
       "      <td>5</td>\n",
       "    </tr>\n",
       "    <tr>\n",
       "      <th>3</th>\n",
       "      <td>6</td>\n",
       "      <td>7</td>\n",
       "    </tr>\n",
       "    <tr>\n",
       "      <th>4</th>\n",
       "      <td>8</td>\n",
       "      <td>9</td>\n",
       "    </tr>\n",
       "    <tr>\n",
       "      <th>5</th>\n",
       "      <td>10</td>\n",
       "      <td>11</td>\n",
       "    </tr>\n",
       "    <tr>\n",
       "      <th>6</th>\n",
       "      <td>12</td>\n",
       "      <td>13</td>\n",
       "    </tr>\n",
       "    <tr>\n",
       "      <th>7</th>\n",
       "      <td>14</td>\n",
       "      <td>15</td>\n",
       "    </tr>\n",
       "    <tr>\n",
       "      <th>8</th>\n",
       "      <td>16</td>\n",
       "      <td>17</td>\n",
       "    </tr>\n",
       "    <tr>\n",
       "      <th>9</th>\n",
       "      <td>18</td>\n",
       "      <td>19</td>\n",
       "    </tr>\n",
       "    <tr>\n",
       "      <th>10</th>\n",
       "      <td>20</td>\n",
       "      <td>21</td>\n",
       "    </tr>\n",
       "    <tr>\n",
       "      <th>11</th>\n",
       "      <td>22</td>\n",
       "      <td>23</td>\n",
       "    </tr>\n",
       "  </tbody>\n",
       "</table>\n",
       "</div>"
      ],
      "text/plain": [
       "     0   1\n",
       "0    0   1\n",
       "1    2   3\n",
       "2    4   5\n",
       "3    6   7\n",
       "4    8   9\n",
       "5   10  11\n",
       "6   12  13\n",
       "7   14  15\n",
       "8   16  17\n",
       "9   18  19\n",
       "10  20  21\n",
       "11  22  23"
      ]
     },
     "execution_count": 4,
     "metadata": {},
     "output_type": "execute_result"
    }
   ],
   "source": [
    "pd.DataFrame(demo_2d)   # note row and col indexes are auto-generated"
   ]
  },
  {
   "cell_type": "code",
   "execution_count": 5,
   "metadata": {},
   "outputs": [],
   "source": [
    "pd.date_range?"
   ]
  },
  {
   "cell_type": "code",
   "execution_count": 6,
   "metadata": {},
   "outputs": [
    {
     "data": {
      "text/plain": [
       "DatetimeIndex(['2014-01-01', '2014-01-02', '2014-01-03', '2014-01-04',\n",
       "               '2014-01-05', '2014-01-06'],\n",
       "              dtype='datetime64[ns]', freq='D')"
      ]
     },
     "execution_count": 6,
     "metadata": {},
     "output_type": "execute_result"
    }
   ],
   "source": [
    "# creates a DateTime index\n",
    "dates = pd.date_range('20140101', periods=6)\n",
    "dates"
   ]
  },
  {
   "cell_type": "code",
   "execution_count": 7,
   "metadata": {},
   "outputs": [
    {
     "data": {
      "text/plain": [
       "['A', 'B', 'C', 'D']"
      ]
     },
     "execution_count": 7,
     "metadata": {},
     "output_type": "execute_result"
    }
   ],
   "source": [
    "list('ABCD')"
   ]
  },
  {
   "cell_type": "code",
   "execution_count": 8,
   "metadata": {},
   "outputs": [
    {
     "data": {
      "text/html": [
       "<div>\n",
       "<style scoped>\n",
       "    .dataframe tbody tr th:only-of-type {\n",
       "        vertical-align: middle;\n",
       "    }\n",
       "\n",
       "    .dataframe tbody tr th {\n",
       "        vertical-align: top;\n",
       "    }\n",
       "\n",
       "    .dataframe thead th {\n",
       "        text-align: right;\n",
       "    }\n",
       "</style>\n",
       "<table border=\"1\" class=\"dataframe\">\n",
       "  <thead>\n",
       "    <tr style=\"text-align: right;\">\n",
       "      <th></th>\n",
       "      <th>A</th>\n",
       "      <th>B</th>\n",
       "      <th>C</th>\n",
       "      <th>D</th>\n",
       "    </tr>\n",
       "  </thead>\n",
       "  <tbody>\n",
       "    <tr>\n",
       "      <th>2014-01-01</th>\n",
       "      <td>2.001162</td>\n",
       "      <td>0.255463</td>\n",
       "      <td>-0.291282</td>\n",
       "      <td>-0.620007</td>\n",
       "    </tr>\n",
       "    <tr>\n",
       "      <th>2014-01-02</th>\n",
       "      <td>0.141413</td>\n",
       "      <td>0.577172</td>\n",
       "      <td>0.635464</td>\n",
       "      <td>-1.700828</td>\n",
       "    </tr>\n",
       "    <tr>\n",
       "      <th>2014-01-03</th>\n",
       "      <td>-0.077065</td>\n",
       "      <td>0.982297</td>\n",
       "      <td>-0.488085</td>\n",
       "      <td>-1.104606</td>\n",
       "    </tr>\n",
       "    <tr>\n",
       "      <th>2014-01-04</th>\n",
       "      <td>-0.156456</td>\n",
       "      <td>0.997146</td>\n",
       "      <td>-0.223241</td>\n",
       "      <td>0.563419</td>\n",
       "    </tr>\n",
       "    <tr>\n",
       "      <th>2014-01-05</th>\n",
       "      <td>-1.105205</td>\n",
       "      <td>1.904528</td>\n",
       "      <td>0.083606</td>\n",
       "      <td>0.004600</td>\n",
       "    </tr>\n",
       "    <tr>\n",
       "      <th>2014-01-06</th>\n",
       "      <td>-1.222064</td>\n",
       "      <td>-2.305866</td>\n",
       "      <td>0.254411</td>\n",
       "      <td>-0.237221</td>\n",
       "    </tr>\n",
       "  </tbody>\n",
       "</table>\n",
       "</div>"
      ],
      "text/plain": [
       "                   A         B         C         D\n",
       "2014-01-01  2.001162  0.255463 -0.291282 -0.620007\n",
       "2014-01-02  0.141413  0.577172  0.635464 -1.700828\n",
       "2014-01-03 -0.077065  0.982297 -0.488085 -1.104606\n",
       "2014-01-04 -0.156456  0.997146 -0.223241  0.563419\n",
       "2014-01-05 -1.105205  1.904528  0.083606  0.004600\n",
       "2014-01-06 -1.222064 -2.305866  0.254411 -0.237221"
      ]
     },
     "execution_count": 8,
     "metadata": {},
     "output_type": "execute_result"
    }
   ],
   "source": [
    "# generates 6x4 dataframe with random numbers\n",
    "# assigns dates (derined above) as indexes\n",
    "df = pd.DataFrame(np.random.randn(6,4), \n",
    "                  index=dates, \n",
    "                  columns=list('ABCD'))\n",
    "df"
   ]
  },
  {
   "cell_type": "code",
   "execution_count": 9,
   "metadata": {},
   "outputs": [
    {
     "name": "stdout",
     "output_type": "stream",
     "text": [
      "<class 'pandas.core.frame.DataFrame'>\n",
      "DatetimeIndex: 6 entries, 2014-01-01 to 2014-01-06\n",
      "Freq: D\n",
      "Data columns (total 4 columns):\n",
      "A    6 non-null float64\n",
      "B    6 non-null float64\n",
      "C    6 non-null float64\n",
      "D    6 non-null float64\n",
      "dtypes: float64(4)\n",
      "memory usage: 240.0 bytes\n"
     ]
    }
   ],
   "source": [
    "df.info()"
   ]
  },
  {
   "cell_type": "code",
   "execution_count": 10,
   "metadata": {},
   "outputs": [
    {
     "data": {
      "text/html": [
       "<div>\n",
       "<style scoped>\n",
       "    .dataframe tbody tr th:only-of-type {\n",
       "        vertical-align: middle;\n",
       "    }\n",
       "\n",
       "    .dataframe tbody tr th {\n",
       "        vertical-align: top;\n",
       "    }\n",
       "\n",
       "    .dataframe thead th {\n",
       "        text-align: right;\n",
       "    }\n",
       "</style>\n",
       "<table border=\"1\" class=\"dataframe\">\n",
       "  <thead>\n",
       "    <tr style=\"text-align: right;\">\n",
       "      <th></th>\n",
       "      <th>A</th>\n",
       "      <th>B</th>\n",
       "      <th>C</th>\n",
       "      <th>D</th>\n",
       "    </tr>\n",
       "  </thead>\n",
       "  <tbody>\n",
       "    <tr>\n",
       "      <th>count</th>\n",
       "      <td>6.000000</td>\n",
       "      <td>6.000000</td>\n",
       "      <td>6.000000</td>\n",
       "      <td>6.000000</td>\n",
       "    </tr>\n",
       "    <tr>\n",
       "      <th>mean</th>\n",
       "      <td>-0.069702</td>\n",
       "      <td>0.401790</td>\n",
       "      <td>-0.004855</td>\n",
       "      <td>-0.515774</td>\n",
       "    </tr>\n",
       "    <tr>\n",
       "      <th>std</th>\n",
       "      <td>1.161106</td>\n",
       "      <td>1.437584</td>\n",
       "      <td>0.411897</td>\n",
       "      <td>0.809318</td>\n",
       "    </tr>\n",
       "    <tr>\n",
       "      <th>min</th>\n",
       "      <td>-1.222064</td>\n",
       "      <td>-2.305866</td>\n",
       "      <td>-0.488085</td>\n",
       "      <td>-1.700828</td>\n",
       "    </tr>\n",
       "    <tr>\n",
       "      <th>25%</th>\n",
       "      <td>-0.868017</td>\n",
       "      <td>0.335890</td>\n",
       "      <td>-0.274272</td>\n",
       "      <td>-0.983456</td>\n",
       "    </tr>\n",
       "    <tr>\n",
       "      <th>50%</th>\n",
       "      <td>-0.116760</td>\n",
       "      <td>0.779735</td>\n",
       "      <td>-0.069817</td>\n",
       "      <td>-0.428614</td>\n",
       "    </tr>\n",
       "    <tr>\n",
       "      <th>75%</th>\n",
       "      <td>0.086794</td>\n",
       "      <td>0.993434</td>\n",
       "      <td>0.211709</td>\n",
       "      <td>-0.055855</td>\n",
       "    </tr>\n",
       "    <tr>\n",
       "      <th>max</th>\n",
       "      <td>2.001162</td>\n",
       "      <td>1.904528</td>\n",
       "      <td>0.635464</td>\n",
       "      <td>0.563419</td>\n",
       "    </tr>\n",
       "  </tbody>\n",
       "</table>\n",
       "</div>"
      ],
      "text/plain": [
       "              A         B         C         D\n",
       "count  6.000000  6.000000  6.000000  6.000000\n",
       "mean  -0.069702  0.401790 -0.004855 -0.515774\n",
       "std    1.161106  1.437584  0.411897  0.809318\n",
       "min   -1.222064 -2.305866 -0.488085 -1.700828\n",
       "25%   -0.868017  0.335890 -0.274272 -0.983456\n",
       "50%   -0.116760  0.779735 -0.069817 -0.428614\n",
       "75%    0.086794  0.993434  0.211709 -0.055855\n",
       "max    2.001162  1.904528  0.635464  0.563419"
      ]
     },
     "execution_count": 10,
     "metadata": {},
     "output_type": "execute_result"
    }
   ],
   "source": [
    "df.describe()"
   ]
  },
  {
   "cell_type": "code",
   "execution_count": 11,
   "metadata": {},
   "outputs": [
    {
     "data": {
      "text/plain": [
       "<bound method NDFrame.describe of                    A         B         C         D\n",
       "2014-01-01  2.001162  0.255463 -0.291282 -0.620007\n",
       "2014-01-02  0.141413  0.577172  0.635464 -1.700828\n",
       "2014-01-03 -0.077065  0.982297 -0.488085 -1.104606\n",
       "2014-01-04 -0.156456  0.997146 -0.223241  0.563419\n",
       "2014-01-05 -1.105205  1.904528  0.083606  0.004600\n",
       "2014-01-06 -1.222064 -2.305866  0.254411 -0.237221>"
      ]
     },
     "execution_count": 11,
     "metadata": {},
     "output_type": "execute_result"
    }
   ],
   "source": [
    "df.describe"
   ]
  },
  {
   "cell_type": "code",
   "execution_count": 12,
   "metadata": {},
   "outputs": [
    {
     "data": {
      "text/html": [
       "<div>\n",
       "<style scoped>\n",
       "    .dataframe tbody tr th:only-of-type {\n",
       "        vertical-align: middle;\n",
       "    }\n",
       "\n",
       "    .dataframe tbody tr th {\n",
       "        vertical-align: top;\n",
       "    }\n",
       "\n",
       "    .dataframe thead th {\n",
       "        text-align: right;\n",
       "    }\n",
       "</style>\n",
       "<table border=\"1\" class=\"dataframe\">\n",
       "  <thead>\n",
       "    <tr style=\"text-align: right;\">\n",
       "      <th></th>\n",
       "      <th>A</th>\n",
       "      <th>B</th>\n",
       "      <th>C</th>\n",
       "      <th>D</th>\n",
       "    </tr>\n",
       "  </thead>\n",
       "  <tbody>\n",
       "    <tr>\n",
       "      <th>2014-01-01</th>\n",
       "      <td>2.001162</td>\n",
       "      <td>0.255463</td>\n",
       "      <td>-0.291282</td>\n",
       "      <td>-0.620007</td>\n",
       "    </tr>\n",
       "    <tr>\n",
       "      <th>2014-01-02</th>\n",
       "      <td>0.141413</td>\n",
       "      <td>0.577172</td>\n",
       "      <td>0.635464</td>\n",
       "      <td>-1.700828</td>\n",
       "    </tr>\n",
       "    <tr>\n",
       "      <th>2014-01-03</th>\n",
       "      <td>-0.077065</td>\n",
       "      <td>0.982297</td>\n",
       "      <td>-0.488085</td>\n",
       "      <td>-1.104606</td>\n",
       "    </tr>\n",
       "    <tr>\n",
       "      <th>2014-01-04</th>\n",
       "      <td>-0.156456</td>\n",
       "      <td>0.997146</td>\n",
       "      <td>-0.223241</td>\n",
       "      <td>0.563419</td>\n",
       "    </tr>\n",
       "    <tr>\n",
       "      <th>2014-01-05</th>\n",
       "      <td>-1.105205</td>\n",
       "      <td>1.904528</td>\n",
       "      <td>0.083606</td>\n",
       "      <td>0.004600</td>\n",
       "    </tr>\n",
       "    <tr>\n",
       "      <th>2014-01-06</th>\n",
       "      <td>-1.222064</td>\n",
       "      <td>-2.305866</td>\n",
       "      <td>0.254411</td>\n",
       "      <td>-0.237221</td>\n",
       "    </tr>\n",
       "  </tbody>\n",
       "</table>\n",
       "</div>"
      ],
      "text/plain": [
       "                   A         B         C         D\n",
       "2014-01-01  2.001162  0.255463 -0.291282 -0.620007\n",
       "2014-01-02  0.141413  0.577172  0.635464 -1.700828\n",
       "2014-01-03 -0.077065  0.982297 -0.488085 -1.104606\n",
       "2014-01-04 -0.156456  0.997146 -0.223241  0.563419\n",
       "2014-01-05 -1.105205  1.904528  0.083606  0.004600\n",
       "2014-01-06 -1.222064 -2.305866  0.254411 -0.237221"
      ]
     },
     "execution_count": 12,
     "metadata": {},
     "output_type": "execute_result"
    }
   ],
   "source": [
    "# index, columns, underlying numpy data\n",
    "df"
   ]
  },
  {
   "cell_type": "code",
   "execution_count": 13,
   "metadata": {},
   "outputs": [
    {
     "data": {
      "text/html": [
       "<div>\n",
       "<style scoped>\n",
       "    .dataframe tbody tr th:only-of-type {\n",
       "        vertical-align: middle;\n",
       "    }\n",
       "\n",
       "    .dataframe tbody tr th {\n",
       "        vertical-align: top;\n",
       "    }\n",
       "\n",
       "    .dataframe thead th {\n",
       "        text-align: right;\n",
       "    }\n",
       "</style>\n",
       "<table border=\"1\" class=\"dataframe\">\n",
       "  <thead>\n",
       "    <tr style=\"text-align: right;\">\n",
       "      <th></th>\n",
       "      <th>2014-01-01 00:00:00</th>\n",
       "      <th>2014-01-02 00:00:00</th>\n",
       "      <th>2014-01-03 00:00:00</th>\n",
       "      <th>2014-01-04 00:00:00</th>\n",
       "      <th>2014-01-05 00:00:00</th>\n",
       "      <th>2014-01-06 00:00:00</th>\n",
       "    </tr>\n",
       "  </thead>\n",
       "  <tbody>\n",
       "    <tr>\n",
       "      <th>A</th>\n",
       "      <td>2.001162</td>\n",
       "      <td>0.141413</td>\n",
       "      <td>-0.077065</td>\n",
       "      <td>-0.156456</td>\n",
       "      <td>-1.105205</td>\n",
       "      <td>-1.222064</td>\n",
       "    </tr>\n",
       "    <tr>\n",
       "      <th>B</th>\n",
       "      <td>0.255463</td>\n",
       "      <td>0.577172</td>\n",
       "      <td>0.982297</td>\n",
       "      <td>0.997146</td>\n",
       "      <td>1.904528</td>\n",
       "      <td>-2.305866</td>\n",
       "    </tr>\n",
       "    <tr>\n",
       "      <th>C</th>\n",
       "      <td>-0.291282</td>\n",
       "      <td>0.635464</td>\n",
       "      <td>-0.488085</td>\n",
       "      <td>-0.223241</td>\n",
       "      <td>0.083606</td>\n",
       "      <td>0.254411</td>\n",
       "    </tr>\n",
       "    <tr>\n",
       "      <th>D</th>\n",
       "      <td>-0.620007</td>\n",
       "      <td>-1.700828</td>\n",
       "      <td>-1.104606</td>\n",
       "      <td>0.563419</td>\n",
       "      <td>0.004600</td>\n",
       "      <td>-0.237221</td>\n",
       "    </tr>\n",
       "  </tbody>\n",
       "</table>\n",
       "</div>"
      ],
      "text/plain": [
       "   2014-01-01  2014-01-02  2014-01-03  2014-01-04  2014-01-05  2014-01-06\n",
       "A    2.001162    0.141413   -0.077065   -0.156456   -1.105205   -1.222064\n",
       "B    0.255463    0.577172    0.982297    0.997146    1.904528   -2.305866\n",
       "C   -0.291282    0.635464   -0.488085   -0.223241    0.083606    0.254411\n",
       "D   -0.620007   -1.700828   -1.104606    0.563419    0.004600   -0.237221"
      ]
     },
     "execution_count": 13,
     "metadata": {},
     "output_type": "execute_result"
    }
   ],
   "source": [
    "df.transpose()"
   ]
  },
  {
   "cell_type": "code",
   "execution_count": 14,
   "metadata": {},
   "outputs": [
    {
     "data": {
      "text/html": [
       "<div>\n",
       "<style scoped>\n",
       "    .dataframe tbody tr th:only-of-type {\n",
       "        vertical-align: middle;\n",
       "    }\n",
       "\n",
       "    .dataframe tbody tr th {\n",
       "        vertical-align: top;\n",
       "    }\n",
       "\n",
       "    .dataframe thead th {\n",
       "        text-align: right;\n",
       "    }\n",
       "</style>\n",
       "<table border=\"1\" class=\"dataframe\">\n",
       "  <thead>\n",
       "    <tr style=\"text-align: right;\">\n",
       "      <th></th>\n",
       "      <th>2014-01-01 00:00:00</th>\n",
       "      <th>2014-01-02 00:00:00</th>\n",
       "      <th>2014-01-03 00:00:00</th>\n",
       "      <th>2014-01-04 00:00:00</th>\n",
       "      <th>2014-01-05 00:00:00</th>\n",
       "      <th>2014-01-06 00:00:00</th>\n",
       "    </tr>\n",
       "  </thead>\n",
       "  <tbody>\n",
       "    <tr>\n",
       "      <th>A</th>\n",
       "      <td>2.001162</td>\n",
       "      <td>0.141413</td>\n",
       "      <td>-0.077065</td>\n",
       "      <td>-0.156456</td>\n",
       "      <td>-1.105205</td>\n",
       "      <td>-1.222064</td>\n",
       "    </tr>\n",
       "    <tr>\n",
       "      <th>B</th>\n",
       "      <td>0.255463</td>\n",
       "      <td>0.577172</td>\n",
       "      <td>0.982297</td>\n",
       "      <td>0.997146</td>\n",
       "      <td>1.904528</td>\n",
       "      <td>-2.305866</td>\n",
       "    </tr>\n",
       "    <tr>\n",
       "      <th>C</th>\n",
       "      <td>-0.291282</td>\n",
       "      <td>0.635464</td>\n",
       "      <td>-0.488085</td>\n",
       "      <td>-0.223241</td>\n",
       "      <td>0.083606</td>\n",
       "      <td>0.254411</td>\n",
       "    </tr>\n",
       "    <tr>\n",
       "      <th>D</th>\n",
       "      <td>-0.620007</td>\n",
       "      <td>-1.700828</td>\n",
       "      <td>-1.104606</td>\n",
       "      <td>0.563419</td>\n",
       "      <td>0.004600</td>\n",
       "      <td>-0.237221</td>\n",
       "    </tr>\n",
       "  </tbody>\n",
       "</table>\n",
       "</div>"
      ],
      "text/plain": [
       "   2014-01-01  2014-01-02  2014-01-03  2014-01-04  2014-01-05  2014-01-06\n",
       "A    2.001162    0.141413   -0.077065   -0.156456   -1.105205   -1.222064\n",
       "B    0.255463    0.577172    0.982297    0.997146    1.904528   -2.305866\n",
       "C   -0.291282    0.635464   -0.488085   -0.223241    0.083606    0.254411\n",
       "D   -0.620007   -1.700828   -1.104606    0.563419    0.004600   -0.237221"
      ]
     },
     "execution_count": 14,
     "metadata": {},
     "output_type": "execute_result"
    }
   ],
   "source": [
    "# shorthand for transpose\n",
    "df.T"
   ]
  },
  {
   "cell_type": "code",
   "execution_count": 15,
   "metadata": {},
   "outputs": [
    {
     "data": {
      "text/plain": [
       "DatetimeIndex(['2014-01-01', '2014-01-02', '2014-01-03', '2014-01-04',\n",
       "               '2014-01-05', '2014-01-06'],\n",
       "              dtype='datetime64[ns]', freq='D')"
      ]
     },
     "execution_count": 15,
     "metadata": {},
     "output_type": "execute_result"
    }
   ],
   "source": [
    "df.index"
   ]
  },
  {
   "cell_type": "code",
   "execution_count": 16,
   "metadata": {},
   "outputs": [
    {
     "data": {
      "text/plain": [
       "Index(['A', 'B', 'C', 'D'], dtype='object')"
      ]
     },
     "execution_count": 16,
     "metadata": {},
     "output_type": "execute_result"
    }
   ],
   "source": [
    "df.columns"
   ]
  },
  {
   "cell_type": "code",
   "execution_count": 17,
   "metadata": {},
   "outputs": [
    {
     "data": {
      "text/plain": [
       "array([[ 2.00116175,  0.25546273, -0.29128214, -0.62000669],\n",
       "       [ 0.1414132 ,  0.57717162,  0.63546379, -1.70082758],\n",
       "       [-0.07706479,  0.98229748, -0.48808548, -1.10460611],\n",
       "       [-0.15645561,  0.99714613, -0.22324102,  0.56341907],\n",
       "       [-1.1052046 ,  1.90452791,  0.08360618,  0.00459986],\n",
       "       [-1.22206425, -2.30586636,  0.25441056, -0.23722088]])"
      ]
     },
     "execution_count": 17,
     "metadata": {},
     "output_type": "execute_result"
    }
   ],
   "source": [
    "df.values"
   ]
  },
  {
   "cell_type": "markdown",
   "metadata": {},
   "source": [
    "### New Example"
   ]
  },
  {
   "cell_type": "code",
   "execution_count": 18,
   "metadata": {},
   "outputs": [
    {
     "data": {
      "text/plain": [
       "0    1.0\n",
       "1    1.0\n",
       "2    1.0\n",
       "3    1.0\n",
       "dtype: float32"
      ]
     },
     "execution_count": 18,
     "metadata": {},
     "output_type": "execute_result"
    }
   ],
   "source": [
    "pd.Series(1, \n",
    "          index=list(range(4)), \n",
    "          dtype='float32')"
   ]
  },
  {
   "cell_type": "code",
   "execution_count": 19,
   "metadata": {},
   "outputs": [
    {
     "data": {
      "text/html": [
       "<div>\n",
       "<style scoped>\n",
       "    .dataframe tbody tr th:only-of-type {\n",
       "        vertical-align: middle;\n",
       "    }\n",
       "\n",
       "    .dataframe tbody tr th {\n",
       "        vertical-align: top;\n",
       "    }\n",
       "\n",
       "    .dataframe thead th {\n",
       "        text-align: right;\n",
       "    }\n",
       "</style>\n",
       "<table border=\"1\" class=\"dataframe\">\n",
       "  <thead>\n",
       "    <tr style=\"text-align: right;\">\n",
       "      <th></th>\n",
       "      <th>A</th>\n",
       "      <th>B</th>\n",
       "      <th>C</th>\n",
       "      <th>D</th>\n",
       "      <th>E</th>\n",
       "    </tr>\n",
       "  </thead>\n",
       "  <tbody>\n",
       "    <tr>\n",
       "      <th>0</th>\n",
       "      <td>1.0</td>\n",
       "      <td>2013-01-02</td>\n",
       "      <td>1.0</td>\n",
       "      <td>3</td>\n",
       "      <td>foo</td>\n",
       "    </tr>\n",
       "    <tr>\n",
       "      <th>1</th>\n",
       "      <td>1.0</td>\n",
       "      <td>2013-01-02</td>\n",
       "      <td>1.0</td>\n",
       "      <td>3</td>\n",
       "      <td>foo</td>\n",
       "    </tr>\n",
       "    <tr>\n",
       "      <th>2</th>\n",
       "      <td>1.0</td>\n",
       "      <td>2013-01-02</td>\n",
       "      <td>1.0</td>\n",
       "      <td>3</td>\n",
       "      <td>foo</td>\n",
       "    </tr>\n",
       "    <tr>\n",
       "      <th>3</th>\n",
       "      <td>1.0</td>\n",
       "      <td>2013-01-02</td>\n",
       "      <td>1.0</td>\n",
       "      <td>3</td>\n",
       "      <td>foo</td>\n",
       "    </tr>\n",
       "  </tbody>\n",
       "</table>\n",
       "</div>"
      ],
      "text/plain": [
       "     A          B    C  D    E\n",
       "0  1.0 2013-01-02  1.0  3  foo\n",
       "1  1.0 2013-01-02  1.0  3  foo\n",
       "2  1.0 2013-01-02  1.0  3  foo\n",
       "3  1.0 2013-01-02  1.0  3  foo"
      ]
     },
     "execution_count": 19,
     "metadata": {},
     "output_type": "execute_result"
    }
   ],
   "source": [
    "df2 = pd.DataFrame(\n",
    "    { 'A' : 1.,\n",
    "      'B' : pd.Timestamp('20130102'),\n",
    "      'C' : pd.Series(1, index=list(range(4)), dtype='float32'),\n",
    "      'D' : np.array([3] * 4, dtype='int32'),\n",
    "      'E' : 'foo'})\n",
    "df2"
   ]
  },
  {
   "cell_type": "code",
   "execution_count": 20,
   "metadata": {},
   "outputs": [
    {
     "data": {
      "text/plain": [
       "A           float64\n",
       "B    datetime64[ns]\n",
       "C           float32\n",
       "D             int32\n",
       "E            object\n",
       "dtype: object"
      ]
     },
     "execution_count": 20,
     "metadata": {},
     "output_type": "execute_result"
    }
   ],
   "source": [
    "# with specific dtypes\n",
    "df2.dtypes"
   ]
  },
  {
   "cell_type": "markdown",
   "metadata": {},
   "source": [
    "### Viewing Data"
   ]
  },
  {
   "cell_type": "code",
   "execution_count": 21,
   "metadata": {},
   "outputs": [
    {
     "data": {
      "text/html": [
       "<div>\n",
       "<style scoped>\n",
       "    .dataframe tbody tr th:only-of-type {\n",
       "        vertical-align: middle;\n",
       "    }\n",
       "\n",
       "    .dataframe tbody tr th {\n",
       "        vertical-align: top;\n",
       "    }\n",
       "\n",
       "    .dataframe thead th {\n",
       "        text-align: right;\n",
       "    }\n",
       "</style>\n",
       "<table border=\"1\" class=\"dataframe\">\n",
       "  <thead>\n",
       "    <tr style=\"text-align: right;\">\n",
       "      <th></th>\n",
       "      <th>A</th>\n",
       "      <th>B</th>\n",
       "      <th>C</th>\n",
       "      <th>D</th>\n",
       "    </tr>\n",
       "  </thead>\n",
       "  <tbody>\n",
       "    <tr>\n",
       "      <th>2014-01-01</th>\n",
       "      <td>2.001162</td>\n",
       "      <td>0.255463</td>\n",
       "      <td>-0.291282</td>\n",
       "      <td>-0.620007</td>\n",
       "    </tr>\n",
       "  </tbody>\n",
       "</table>\n",
       "</div>"
      ],
      "text/plain": [
       "                   A         B         C         D\n",
       "2014-01-01  2.001162  0.255463 -0.291282 -0.620007"
      ]
     },
     "execution_count": 21,
     "metadata": {},
     "output_type": "execute_result"
    }
   ],
   "source": [
    "df.head(1)"
   ]
  },
  {
   "cell_type": "code",
   "execution_count": 22,
   "metadata": {},
   "outputs": [
    {
     "data": {
      "text/html": [
       "<div>\n",
       "<style scoped>\n",
       "    .dataframe tbody tr th:only-of-type {\n",
       "        vertical-align: middle;\n",
       "    }\n",
       "\n",
       "    .dataframe tbody tr th {\n",
       "        vertical-align: top;\n",
       "    }\n",
       "\n",
       "    .dataframe thead th {\n",
       "        text-align: right;\n",
       "    }\n",
       "</style>\n",
       "<table border=\"1\" class=\"dataframe\">\n",
       "  <thead>\n",
       "    <tr style=\"text-align: right;\">\n",
       "      <th></th>\n",
       "      <th>A</th>\n",
       "      <th>B</th>\n",
       "      <th>C</th>\n",
       "      <th>D</th>\n",
       "    </tr>\n",
       "  </thead>\n",
       "  <tbody>\n",
       "    <tr>\n",
       "      <th>2014-01-05</th>\n",
       "      <td>-1.105205</td>\n",
       "      <td>1.904528</td>\n",
       "      <td>0.083606</td>\n",
       "      <td>0.004600</td>\n",
       "    </tr>\n",
       "    <tr>\n",
       "      <th>2014-01-06</th>\n",
       "      <td>-1.222064</td>\n",
       "      <td>-2.305866</td>\n",
       "      <td>0.254411</td>\n",
       "      <td>-0.237221</td>\n",
       "    </tr>\n",
       "  </tbody>\n",
       "</table>\n",
       "</div>"
      ],
      "text/plain": [
       "                   A         B         C         D\n",
       "2014-01-05 -1.105205  1.904528  0.083606  0.004600\n",
       "2014-01-06 -1.222064 -2.305866  0.254411 -0.237221"
      ]
     },
     "execution_count": 22,
     "metadata": {},
     "output_type": "execute_result"
    }
   ],
   "source": [
    "df.tail(2)"
   ]
  },
  {
   "cell_type": "code",
   "execution_count": 23,
   "metadata": {},
   "outputs": [
    {
     "data": {
      "text/plain": [
       "DatetimeIndex(['2014-01-01', '2014-01-02', '2014-01-03', '2014-01-04',\n",
       "               '2014-01-05', '2014-01-06'],\n",
       "              dtype='datetime64[ns]', freq='D')"
      ]
     },
     "execution_count": 23,
     "metadata": {},
     "output_type": "execute_result"
    }
   ],
   "source": [
    "df.index"
   ]
  },
  {
   "cell_type": "code",
   "execution_count": 24,
   "metadata": {},
   "outputs": [
    {
     "data": {
      "text/plain": [
       "Index(['A', 'B', 'C', 'D'], dtype='object')"
      ]
     },
     "execution_count": 24,
     "metadata": {},
     "output_type": "execute_result"
    }
   ],
   "source": [
    "# Note: columns are also of type 'Index'\n",
    "df.columns"
   ]
  },
  {
   "cell_type": "markdown",
   "metadata": {},
   "source": [
    "### Quick summary statistics"
   ]
  },
  {
   "cell_type": "code",
   "execution_count": 25,
   "metadata": {},
   "outputs": [
    {
     "data": {
      "text/html": [
       "<div>\n",
       "<style scoped>\n",
       "    .dataframe tbody tr th:only-of-type {\n",
       "        vertical-align: middle;\n",
       "    }\n",
       "\n",
       "    .dataframe tbody tr th {\n",
       "        vertical-align: top;\n",
       "    }\n",
       "\n",
       "    .dataframe thead th {\n",
       "        text-align: right;\n",
       "    }\n",
       "</style>\n",
       "<table border=\"1\" class=\"dataframe\">\n",
       "  <thead>\n",
       "    <tr style=\"text-align: right;\">\n",
       "      <th></th>\n",
       "      <th>A</th>\n",
       "      <th>B</th>\n",
       "      <th>C</th>\n",
       "      <th>D</th>\n",
       "    </tr>\n",
       "  </thead>\n",
       "  <tbody>\n",
       "    <tr>\n",
       "      <th>count</th>\n",
       "      <td>6.000000</td>\n",
       "      <td>6.000000</td>\n",
       "      <td>6.000000</td>\n",
       "      <td>6.000000</td>\n",
       "    </tr>\n",
       "    <tr>\n",
       "      <th>mean</th>\n",
       "      <td>-0.069702</td>\n",
       "      <td>0.401790</td>\n",
       "      <td>-0.004855</td>\n",
       "      <td>-0.515774</td>\n",
       "    </tr>\n",
       "    <tr>\n",
       "      <th>std</th>\n",
       "      <td>1.161106</td>\n",
       "      <td>1.437584</td>\n",
       "      <td>0.411897</td>\n",
       "      <td>0.809318</td>\n",
       "    </tr>\n",
       "    <tr>\n",
       "      <th>min</th>\n",
       "      <td>-1.222064</td>\n",
       "      <td>-2.305866</td>\n",
       "      <td>-0.488085</td>\n",
       "      <td>-1.700828</td>\n",
       "    </tr>\n",
       "    <tr>\n",
       "      <th>25%</th>\n",
       "      <td>-0.868017</td>\n",
       "      <td>0.335890</td>\n",
       "      <td>-0.274272</td>\n",
       "      <td>-0.983456</td>\n",
       "    </tr>\n",
       "    <tr>\n",
       "      <th>50%</th>\n",
       "      <td>-0.116760</td>\n",
       "      <td>0.779735</td>\n",
       "      <td>-0.069817</td>\n",
       "      <td>-0.428614</td>\n",
       "    </tr>\n",
       "    <tr>\n",
       "      <th>75%</th>\n",
       "      <td>0.086794</td>\n",
       "      <td>0.993434</td>\n",
       "      <td>0.211709</td>\n",
       "      <td>-0.055855</td>\n",
       "    </tr>\n",
       "    <tr>\n",
       "      <th>max</th>\n",
       "      <td>2.001162</td>\n",
       "      <td>1.904528</td>\n",
       "      <td>0.635464</td>\n",
       "      <td>0.563419</td>\n",
       "    </tr>\n",
       "  </tbody>\n",
       "</table>\n",
       "</div>"
      ],
      "text/plain": [
       "              A         B         C         D\n",
       "count  6.000000  6.000000  6.000000  6.000000\n",
       "mean  -0.069702  0.401790 -0.004855 -0.515774\n",
       "std    1.161106  1.437584  0.411897  0.809318\n",
       "min   -1.222064 -2.305866 -0.488085 -1.700828\n",
       "25%   -0.868017  0.335890 -0.274272 -0.983456\n",
       "50%   -0.116760  0.779735 -0.069817 -0.428614\n",
       "75%    0.086794  0.993434  0.211709 -0.055855\n",
       "max    2.001162  1.904528  0.635464  0.563419"
      ]
     },
     "execution_count": 25,
     "metadata": {},
     "output_type": "execute_result"
    }
   ],
   "source": [
    "df.describe()"
   ]
  },
  {
   "cell_type": "code",
   "execution_count": 26,
   "metadata": {},
   "outputs": [
    {
     "name": "stdout",
     "output_type": "stream",
     "text": [
      "<class 'numpy.ndarray'>\n"
     ]
    },
    {
     "data": {
      "text/plain": [
       "array([0. , 0.1, 0.2, 0.3, 0.4, 0.5, 0.6, 0.7, 0.8, 0.9])"
      ]
     },
     "execution_count": 26,
     "metadata": {},
     "output_type": "execute_result"
    }
   ],
   "source": [
    "percentiles = np.arange(0, 1, 0.1)\n",
    "print(type(percentiles))\n",
    "percentiles"
   ]
  },
  {
   "cell_type": "code",
   "execution_count": 27,
   "metadata": {},
   "outputs": [
    {
     "name": "stdout",
     "output_type": "stream",
     "text": [
      "<class 'list'>\n"
     ]
    },
    {
     "data": {
      "text/plain": [
       "[0.0,\n",
       " 0.1,\n",
       " 0.2,\n",
       " 0.30000000000000004,\n",
       " 0.4,\n",
       " 0.5,\n",
       " 0.6000000000000001,\n",
       " 0.7000000000000001,\n",
       " 0.8,\n",
       " 0.9]"
      ]
     },
     "execution_count": 27,
     "metadata": {},
     "output_type": "execute_result"
    }
   ],
   "source": [
    "# convert to list\n",
    "percentiles=list(percentiles)\n",
    "print(type(percentiles))\n",
    "percentiles"
   ]
  },
  {
   "cell_type": "code",
   "execution_count": 28,
   "metadata": {},
   "outputs": [
    {
     "data": {
      "text/html": [
       "<div>\n",
       "<style scoped>\n",
       "    .dataframe tbody tr th:only-of-type {\n",
       "        vertical-align: middle;\n",
       "    }\n",
       "\n",
       "    .dataframe tbody tr th {\n",
       "        vertical-align: top;\n",
       "    }\n",
       "\n",
       "    .dataframe thead th {\n",
       "        text-align: right;\n",
       "    }\n",
       "</style>\n",
       "<table border=\"1\" class=\"dataframe\">\n",
       "  <thead>\n",
       "    <tr style=\"text-align: right;\">\n",
       "      <th></th>\n",
       "      <th>A</th>\n",
       "      <th>B</th>\n",
       "      <th>C</th>\n",
       "      <th>D</th>\n",
       "    </tr>\n",
       "  </thead>\n",
       "  <tbody>\n",
       "    <tr>\n",
       "      <th>count</th>\n",
       "      <td>6.000000</td>\n",
       "      <td>6.000000</td>\n",
       "      <td>6.000000</td>\n",
       "      <td>6.000000</td>\n",
       "    </tr>\n",
       "    <tr>\n",
       "      <th>mean</th>\n",
       "      <td>-0.069702</td>\n",
       "      <td>0.401790</td>\n",
       "      <td>-0.004855</td>\n",
       "      <td>-0.515774</td>\n",
       "    </tr>\n",
       "    <tr>\n",
       "      <th>std</th>\n",
       "      <td>1.161106</td>\n",
       "      <td>1.437584</td>\n",
       "      <td>0.411897</td>\n",
       "      <td>0.809318</td>\n",
       "    </tr>\n",
       "    <tr>\n",
       "      <th>min</th>\n",
       "      <td>-1.222064</td>\n",
       "      <td>-2.305866</td>\n",
       "      <td>-0.488085</td>\n",
       "      <td>-1.700828</td>\n",
       "    </tr>\n",
       "    <tr>\n",
       "      <th>0%</th>\n",
       "      <td>-1.222064</td>\n",
       "      <td>-2.305866</td>\n",
       "      <td>-0.488085</td>\n",
       "      <td>-1.700828</td>\n",
       "    </tr>\n",
       "    <tr>\n",
       "      <th>10%</th>\n",
       "      <td>-1.163634</td>\n",
       "      <td>-1.025202</td>\n",
       "      <td>-0.389684</td>\n",
       "      <td>-1.402717</td>\n",
       "    </tr>\n",
       "    <tr>\n",
       "      <th>20%</th>\n",
       "      <td>-1.105205</td>\n",
       "      <td>0.255463</td>\n",
       "      <td>-0.291282</td>\n",
       "      <td>-1.104606</td>\n",
       "    </tr>\n",
       "    <tr>\n",
       "      <th>30.0%</th>\n",
       "      <td>-0.630830</td>\n",
       "      <td>0.416317</td>\n",
       "      <td>-0.257262</td>\n",
       "      <td>-0.862306</td>\n",
       "    </tr>\n",
       "    <tr>\n",
       "      <th>40%</th>\n",
       "      <td>-0.156456</td>\n",
       "      <td>0.577172</td>\n",
       "      <td>-0.223241</td>\n",
       "      <td>-0.620007</td>\n",
       "    </tr>\n",
       "    <tr>\n",
       "      <th>50%</th>\n",
       "      <td>-0.116760</td>\n",
       "      <td>0.779735</td>\n",
       "      <td>-0.069817</td>\n",
       "      <td>-0.428614</td>\n",
       "    </tr>\n",
       "    <tr>\n",
       "      <th>60.0%</th>\n",
       "      <td>-0.077065</td>\n",
       "      <td>0.982297</td>\n",
       "      <td>0.083606</td>\n",
       "      <td>-0.237221</td>\n",
       "    </tr>\n",
       "    <tr>\n",
       "      <th>70%</th>\n",
       "      <td>0.032174</td>\n",
       "      <td>0.989722</td>\n",
       "      <td>0.169008</td>\n",
       "      <td>-0.116311</td>\n",
       "    </tr>\n",
       "    <tr>\n",
       "      <th>80%</th>\n",
       "      <td>0.141413</td>\n",
       "      <td>0.997146</td>\n",
       "      <td>0.254411</td>\n",
       "      <td>0.004600</td>\n",
       "    </tr>\n",
       "    <tr>\n",
       "      <th>90%</th>\n",
       "      <td>1.071287</td>\n",
       "      <td>1.450837</td>\n",
       "      <td>0.444937</td>\n",
       "      <td>0.284009</td>\n",
       "    </tr>\n",
       "    <tr>\n",
       "      <th>max</th>\n",
       "      <td>2.001162</td>\n",
       "      <td>1.904528</td>\n",
       "      <td>0.635464</td>\n",
       "      <td>0.563419</td>\n",
       "    </tr>\n",
       "  </tbody>\n",
       "</table>\n",
       "</div>"
      ],
      "text/plain": [
       "              A         B         C         D\n",
       "count  6.000000  6.000000  6.000000  6.000000\n",
       "mean  -0.069702  0.401790 -0.004855 -0.515774\n",
       "std    1.161106  1.437584  0.411897  0.809318\n",
       "min   -1.222064 -2.305866 -0.488085 -1.700828\n",
       "0%    -1.222064 -2.305866 -0.488085 -1.700828\n",
       "10%   -1.163634 -1.025202 -0.389684 -1.402717\n",
       "20%   -1.105205  0.255463 -0.291282 -1.104606\n",
       "30.0% -0.630830  0.416317 -0.257262 -0.862306\n",
       "40%   -0.156456  0.577172 -0.223241 -0.620007\n",
       "50%   -0.116760  0.779735 -0.069817 -0.428614\n",
       "60.0% -0.077065  0.982297  0.083606 -0.237221\n",
       "70%    0.032174  0.989722  0.169008 -0.116311\n",
       "80%    0.141413  0.997146  0.254411  0.004600\n",
       "90%    1.071287  1.450837  0.444937  0.284009\n",
       "max    2.001162  1.904528  0.635464  0.563419"
      ]
     },
     "execution_count": 28,
     "metadata": {},
     "output_type": "execute_result"
    }
   ],
   "source": [
    "percentiles = np.arange(0, 1, 0.1)\n",
    "df.describe(percentiles=list(percentiles))  # instead of 25%, 50%, 75% => 10%, 20%, 30%, ,,,"
   ]
  },
  {
   "cell_type": "code",
   "execution_count": 29,
   "metadata": {},
   "outputs": [
    {
     "data": {
      "text/html": [
       "<div>\n",
       "<style scoped>\n",
       "    .dataframe tbody tr th:only-of-type {\n",
       "        vertical-align: middle;\n",
       "    }\n",
       "\n",
       "    .dataframe tbody tr th {\n",
       "        vertical-align: top;\n",
       "    }\n",
       "\n",
       "    .dataframe thead th {\n",
       "        text-align: right;\n",
       "    }\n",
       "</style>\n",
       "<table border=\"1\" class=\"dataframe\">\n",
       "  <thead>\n",
       "    <tr style=\"text-align: right;\">\n",
       "      <th></th>\n",
       "      <th>A</th>\n",
       "      <th>B</th>\n",
       "      <th>C</th>\n",
       "      <th>D</th>\n",
       "    </tr>\n",
       "  </thead>\n",
       "  <tbody>\n",
       "    <tr>\n",
       "      <th>2014-01-05</th>\n",
       "      <td>-1.105205</td>\n",
       "      <td>1.904528</td>\n",
       "      <td>0.083606</td>\n",
       "      <td>0.004600</td>\n",
       "    </tr>\n",
       "    <tr>\n",
       "      <th>2014-01-04</th>\n",
       "      <td>-0.156456</td>\n",
       "      <td>0.997146</td>\n",
       "      <td>-0.223241</td>\n",
       "      <td>0.563419</td>\n",
       "    </tr>\n",
       "    <tr>\n",
       "      <th>2014-01-03</th>\n",
       "      <td>-0.077065</td>\n",
       "      <td>0.982297</td>\n",
       "      <td>-0.488085</td>\n",
       "      <td>-1.104606</td>\n",
       "    </tr>\n",
       "    <tr>\n",
       "      <th>2014-01-02</th>\n",
       "      <td>0.141413</td>\n",
       "      <td>0.577172</td>\n",
       "      <td>0.635464</td>\n",
       "      <td>-1.700828</td>\n",
       "    </tr>\n",
       "    <tr>\n",
       "      <th>2014-01-01</th>\n",
       "      <td>2.001162</td>\n",
       "      <td>0.255463</td>\n",
       "      <td>-0.291282</td>\n",
       "      <td>-0.620007</td>\n",
       "    </tr>\n",
       "    <tr>\n",
       "      <th>2014-01-06</th>\n",
       "      <td>-1.222064</td>\n",
       "      <td>-2.305866</td>\n",
       "      <td>0.254411</td>\n",
       "      <td>-0.237221</td>\n",
       "    </tr>\n",
       "  </tbody>\n",
       "</table>\n",
       "</div>"
      ],
      "text/plain": [
       "                   A         B         C         D\n",
       "2014-01-05 -1.105205  1.904528  0.083606  0.004600\n",
       "2014-01-04 -0.156456  0.997146 -0.223241  0.563419\n",
       "2014-01-03 -0.077065  0.982297 -0.488085 -1.104606\n",
       "2014-01-02  0.141413  0.577172  0.635464 -1.700828\n",
       "2014-01-01  2.001162  0.255463 -0.291282 -0.620007\n",
       "2014-01-06 -1.222064 -2.305866  0.254411 -0.237221"
      ]
     },
     "execution_count": 29,
     "metadata": {},
     "output_type": "execute_result"
    }
   ],
   "source": [
    "df.sort_values(by=['B', 'D'], ascending=False)"
   ]
  },
  {
   "cell_type": "markdown",
   "metadata": {},
   "source": [
    "### Selection"
   ]
  },
  {
   "cell_type": "code",
   "execution_count": 30,
   "metadata": {},
   "outputs": [
    {
     "data": {
      "text/plain": [
       "pandas.core.series.Series"
      ]
     },
     "execution_count": 30,
     "metadata": {},
     "output_type": "execute_result"
    }
   ],
   "source": [
    "type(df['A'])   # series vs. data frame"
   ]
  },
  {
   "cell_type": "code",
   "execution_count": 31,
   "metadata": {},
   "outputs": [
    {
     "data": {
      "text/plain": [
       "(6,)"
      ]
     },
     "execution_count": 31,
     "metadata": {},
     "output_type": "execute_result"
    }
   ],
   "source": [
    "df['A'].shape"
   ]
  },
  {
   "cell_type": "code",
   "execution_count": 32,
   "metadata": {},
   "outputs": [
    {
     "data": {
      "text/plain": [
       "2014-01-01    2.001162\n",
       "2014-01-02    0.141413\n",
       "2014-01-03   -0.077065\n",
       "2014-01-04   -0.156456\n",
       "2014-01-05   -1.105205\n",
       "2014-01-06   -1.222064\n",
       "Freq: D, Name: A, dtype: float64"
      ]
     },
     "execution_count": 32,
     "metadata": {},
     "output_type": "execute_result"
    }
   ],
   "source": [
    "df['A']"
   ]
  },
  {
   "cell_type": "code",
   "execution_count": 33,
   "metadata": {},
   "outputs": [
    {
     "data": {
      "text/plain": [
       "pandas.core.frame.DataFrame"
      ]
     },
     "execution_count": 33,
     "metadata": {},
     "output_type": "execute_result"
    }
   ],
   "source": [
    "type(df[['A']])  # data frame - careful: get different type depending on selection"
   ]
  },
  {
   "cell_type": "code",
   "execution_count": 34,
   "metadata": {},
   "outputs": [
    {
     "data": {
      "text/plain": [
       "(6, 1)"
      ]
     },
     "execution_count": 34,
     "metadata": {},
     "output_type": "execute_result"
    }
   ],
   "source": [
    "df[['A']].shape"
   ]
  },
  {
   "cell_type": "code",
   "execution_count": 35,
   "metadata": {},
   "outputs": [
    {
     "data": {
      "text/html": [
       "<div>\n",
       "<style scoped>\n",
       "    .dataframe tbody tr th:only-of-type {\n",
       "        vertical-align: middle;\n",
       "    }\n",
       "\n",
       "    .dataframe tbody tr th {\n",
       "        vertical-align: top;\n",
       "    }\n",
       "\n",
       "    .dataframe thead th {\n",
       "        text-align: right;\n",
       "    }\n",
       "</style>\n",
       "<table border=\"1\" class=\"dataframe\">\n",
       "  <thead>\n",
       "    <tr style=\"text-align: right;\">\n",
       "      <th></th>\n",
       "      <th>A</th>\n",
       "    </tr>\n",
       "  </thead>\n",
       "  <tbody>\n",
       "    <tr>\n",
       "      <th>2014-01-01</th>\n",
       "      <td>2.001162</td>\n",
       "    </tr>\n",
       "    <tr>\n",
       "      <th>2014-01-02</th>\n",
       "      <td>0.141413</td>\n",
       "    </tr>\n",
       "    <tr>\n",
       "      <th>2014-01-03</th>\n",
       "      <td>-0.077065</td>\n",
       "    </tr>\n",
       "    <tr>\n",
       "      <th>2014-01-04</th>\n",
       "      <td>-0.156456</td>\n",
       "    </tr>\n",
       "    <tr>\n",
       "      <th>2014-01-05</th>\n",
       "      <td>-1.105205</td>\n",
       "    </tr>\n",
       "    <tr>\n",
       "      <th>2014-01-06</th>\n",
       "      <td>-1.222064</td>\n",
       "    </tr>\n",
       "  </tbody>\n",
       "</table>\n",
       "</div>"
      ],
      "text/plain": [
       "                   A\n",
       "2014-01-01  2.001162\n",
       "2014-01-02  0.141413\n",
       "2014-01-03 -0.077065\n",
       "2014-01-04 -0.156456\n",
       "2014-01-05 -1.105205\n",
       "2014-01-06 -1.222064"
      ]
     },
     "execution_count": 35,
     "metadata": {},
     "output_type": "execute_result"
    }
   ],
   "source": [
    "df[['A']]"
   ]
  },
  {
   "cell_type": "code",
   "execution_count": 36,
   "metadata": {},
   "outputs": [
    {
     "data": {
      "text/html": [
       "<div>\n",
       "<style scoped>\n",
       "    .dataframe tbody tr th:only-of-type {\n",
       "        vertical-align: middle;\n",
       "    }\n",
       "\n",
       "    .dataframe tbody tr th {\n",
       "        vertical-align: top;\n",
       "    }\n",
       "\n",
       "    .dataframe thead th {\n",
       "        text-align: right;\n",
       "    }\n",
       "</style>\n",
       "<table border=\"1\" class=\"dataframe\">\n",
       "  <thead>\n",
       "    <tr style=\"text-align: right;\">\n",
       "      <th></th>\n",
       "      <th>A</th>\n",
       "      <th>B</th>\n",
       "      <th>C</th>\n",
       "      <th>D</th>\n",
       "    </tr>\n",
       "  </thead>\n",
       "  <tbody>\n",
       "    <tr>\n",
       "      <th>2014-01-01</th>\n",
       "      <td>2.001162</td>\n",
       "      <td>0.255463</td>\n",
       "      <td>-0.291282</td>\n",
       "      <td>-0.620007</td>\n",
       "    </tr>\n",
       "    <tr>\n",
       "      <th>2014-01-02</th>\n",
       "      <td>0.141413</td>\n",
       "      <td>0.577172</td>\n",
       "      <td>0.635464</td>\n",
       "      <td>-1.700828</td>\n",
       "    </tr>\n",
       "    <tr>\n",
       "      <th>2014-01-03</th>\n",
       "      <td>-0.077065</td>\n",
       "      <td>0.982297</td>\n",
       "      <td>-0.488085</td>\n",
       "      <td>-1.104606</td>\n",
       "    </tr>\n",
       "  </tbody>\n",
       "</table>\n",
       "</div>"
      ],
      "text/plain": [
       "                   A         B         C         D\n",
       "2014-01-01  2.001162  0.255463 -0.291282 -0.620007\n",
       "2014-01-02  0.141413  0.577172  0.635464 -1.700828\n",
       "2014-01-03 -0.077065  0.982297 -0.488085 -1.104606"
      ]
     },
     "execution_count": 36,
     "metadata": {},
     "output_type": "execute_result"
    }
   ],
   "source": [
    "df[0:3]"
   ]
  },
  {
   "cell_type": "code",
   "execution_count": 37,
   "metadata": {},
   "outputs": [
    {
     "data": {
      "text/plain": [
       "Timestamp('2014-01-03 00:00:00', freq='D')"
      ]
     },
     "execution_count": 37,
     "metadata": {},
     "output_type": "execute_result"
    }
   ],
   "source": [
    "# by label\n",
    "dates[2]"
   ]
  },
  {
   "cell_type": "code",
   "execution_count": 38,
   "metadata": {},
   "outputs": [
    {
     "data": {
      "text/plain": [
       "A    2.001162\n",
       "B    0.255463\n",
       "C   -0.291282\n",
       "D   -0.620007\n",
       "Name: 2014-01-01 00:00:00, dtype: float64"
      ]
     },
     "execution_count": 38,
     "metadata": {},
     "output_type": "execute_result"
    }
   ],
   "source": [
    "df.loc[dates[0]]   # select the first row, get back a pd.Series"
   ]
  },
  {
   "cell_type": "code",
   "execution_count": 39,
   "metadata": {},
   "outputs": [
    {
     "data": {
      "text/plain": [
       "0.9822974840653782"
      ]
     },
     "execution_count": 39,
     "metadata": {},
     "output_type": "execute_result"
    }
   ],
   "source": [
    "df.loc[dates[2], 'B']"
   ]
  },
  {
   "cell_type": "code",
   "execution_count": 40,
   "metadata": {},
   "outputs": [
    {
     "data": {
      "text/plain": [
       "0.25546272915671697"
      ]
     },
     "execution_count": 40,
     "metadata": {},
     "output_type": "execute_result"
    }
   ],
   "source": [
    "df.loc['2014-01-01', 'B']"
   ]
  },
  {
   "cell_type": "code",
   "execution_count": 41,
   "metadata": {},
   "outputs": [
    {
     "data": {
      "text/plain": [
       "0.25546272915671697"
      ]
     },
     "execution_count": 41,
     "metadata": {},
     "output_type": "execute_result"
    }
   ],
   "source": [
    "df.iloc[0, 1]   # iloc - locate by index - [row 0, col 1]"
   ]
  },
  {
   "cell_type": "code",
   "execution_count": 42,
   "metadata": {},
   "outputs": [
    {
     "data": {
      "text/html": [
       "<div>\n",
       "<style scoped>\n",
       "    .dataframe tbody tr th:only-of-type {\n",
       "        vertical-align: middle;\n",
       "    }\n",
       "\n",
       "    .dataframe tbody tr th {\n",
       "        vertical-align: top;\n",
       "    }\n",
       "\n",
       "    .dataframe thead th {\n",
       "        text-align: right;\n",
       "    }\n",
       "</style>\n",
       "<table border=\"1\" class=\"dataframe\">\n",
       "  <thead>\n",
       "    <tr style=\"text-align: right;\">\n",
       "      <th></th>\n",
       "      <th>A</th>\n",
       "      <th>D</th>\n",
       "    </tr>\n",
       "  </thead>\n",
       "  <tbody>\n",
       "    <tr>\n",
       "      <th>2014-01-01</th>\n",
       "      <td>2.001162</td>\n",
       "      <td>-0.620007</td>\n",
       "    </tr>\n",
       "    <tr>\n",
       "      <th>2014-01-02</th>\n",
       "      <td>0.141413</td>\n",
       "      <td>-1.700828</td>\n",
       "    </tr>\n",
       "    <tr>\n",
       "      <th>2014-01-03</th>\n",
       "      <td>-0.077065</td>\n",
       "      <td>-1.104606</td>\n",
       "    </tr>\n",
       "    <tr>\n",
       "      <th>2014-01-04</th>\n",
       "      <td>-0.156456</td>\n",
       "      <td>0.563419</td>\n",
       "    </tr>\n",
       "    <tr>\n",
       "      <th>2014-01-05</th>\n",
       "      <td>-1.105205</td>\n",
       "      <td>0.004600</td>\n",
       "    </tr>\n",
       "    <tr>\n",
       "      <th>2014-01-06</th>\n",
       "      <td>-1.222064</td>\n",
       "      <td>-0.237221</td>\n",
       "    </tr>\n",
       "  </tbody>\n",
       "</table>\n",
       "</div>"
      ],
      "text/plain": [
       "                   A         D\n",
       "2014-01-01  2.001162 -0.620007\n",
       "2014-01-02  0.141413 -1.700828\n",
       "2014-01-03 -0.077065 -1.104606\n",
       "2014-01-04 -0.156456  0.563419\n",
       "2014-01-05 -1.105205  0.004600\n",
       "2014-01-06 -1.222064 -0.237221"
      ]
     },
     "execution_count": 42,
     "metadata": {},
     "output_type": "execute_result"
    }
   ],
   "source": [
    "# multi-axis by label\n",
    "df.loc[:, ['A', 'D']]   # [ all rows, cols A and D ]"
   ]
  },
  {
   "cell_type": "code",
   "execution_count": 43,
   "metadata": {},
   "outputs": [
    {
     "data": {
      "text/html": [
       "<div>\n",
       "<style scoped>\n",
       "    .dataframe tbody tr th:only-of-type {\n",
       "        vertical-align: middle;\n",
       "    }\n",
       "\n",
       "    .dataframe tbody tr th {\n",
       "        vertical-align: top;\n",
       "    }\n",
       "\n",
       "    .dataframe thead th {\n",
       "        text-align: right;\n",
       "    }\n",
       "</style>\n",
       "<table border=\"1\" class=\"dataframe\">\n",
       "  <thead>\n",
       "    <tr style=\"text-align: right;\">\n",
       "      <th></th>\n",
       "      <th>B</th>\n",
       "      <th>D</th>\n",
       "    </tr>\n",
       "  </thead>\n",
       "  <tbody>\n",
       "    <tr>\n",
       "      <th>2014-01-02</th>\n",
       "      <td>0.577172</td>\n",
       "      <td>-1.700828</td>\n",
       "    </tr>\n",
       "    <tr>\n",
       "      <th>2014-01-03</th>\n",
       "      <td>0.982297</td>\n",
       "      <td>-1.104606</td>\n",
       "    </tr>\n",
       "    <tr>\n",
       "      <th>2014-01-04</th>\n",
       "      <td>0.997146</td>\n",
       "      <td>0.563419</td>\n",
       "    </tr>\n",
       "  </tbody>\n",
       "</table>\n",
       "</div>"
      ],
      "text/plain": [
       "                   B         D\n",
       "2014-01-02  0.577172 -1.700828\n",
       "2014-01-03  0.982297 -1.104606\n",
       "2014-01-04  0.997146  0.563419"
      ]
     },
     "execution_count": 43,
     "metadata": {},
     "output_type": "execute_result"
    }
   ],
   "source": [
    "# Date Range\n",
    "df.loc['20140102': '20140104', ['B', 'D']]"
   ]
  },
  {
   "cell_type": "code",
   "execution_count": 44,
   "metadata": {},
   "outputs": [
    {
     "data": {
      "text/plain": [
       "0.5771716184492302"
      ]
     },
     "execution_count": 44,
     "metadata": {},
     "output_type": "execute_result"
    }
   ],
   "source": [
    "# fast access to scalar\n",
    "df.at[dates[1], 'B']"
   ]
  },
  {
   "cell_type": "code",
   "execution_count": 45,
   "metadata": {},
   "outputs": [
    {
     "data": {
      "text/html": [
       "<div>\n",
       "<style scoped>\n",
       "    .dataframe tbody tr th:only-of-type {\n",
       "        vertical-align: middle;\n",
       "    }\n",
       "\n",
       "    .dataframe tbody tr th {\n",
       "        vertical-align: top;\n",
       "    }\n",
       "\n",
       "    .dataframe thead th {\n",
       "        text-align: right;\n",
       "    }\n",
       "</style>\n",
       "<table border=\"1\" class=\"dataframe\">\n",
       "  <thead>\n",
       "    <tr style=\"text-align: right;\">\n",
       "      <th></th>\n",
       "      <th>A</th>\n",
       "      <th>B</th>\n",
       "      <th>C</th>\n",
       "      <th>D</th>\n",
       "    </tr>\n",
       "  </thead>\n",
       "  <tbody>\n",
       "    <tr>\n",
       "      <th>2014-01-04</th>\n",
       "      <td>-0.156456</td>\n",
       "      <td>0.997146</td>\n",
       "      <td>-0.223241</td>\n",
       "      <td>0.563419</td>\n",
       "    </tr>\n",
       "    <tr>\n",
       "      <th>2014-01-05</th>\n",
       "      <td>-1.105205</td>\n",
       "      <td>1.904528</td>\n",
       "      <td>0.083606</td>\n",
       "      <td>0.004600</td>\n",
       "    </tr>\n",
       "    <tr>\n",
       "      <th>2014-01-06</th>\n",
       "      <td>-1.222064</td>\n",
       "      <td>-2.305866</td>\n",
       "      <td>0.254411</td>\n",
       "      <td>-0.237221</td>\n",
       "    </tr>\n",
       "  </tbody>\n",
       "</table>\n",
       "</div>"
      ],
      "text/plain": [
       "                   A         B         C         D\n",
       "2014-01-04 -0.156456  0.997146 -0.223241  0.563419\n",
       "2014-01-05 -1.105205  1.904528  0.083606  0.004600\n",
       "2014-01-06 -1.222064 -2.305866  0.254411 -0.237221"
      ]
     },
     "execution_count": 45,
     "metadata": {},
     "output_type": "execute_result"
    }
   ],
   "source": [
    "# iloc provides integer locations similar to np style\n",
    "df.iloc[3:]"
   ]
  },
  {
   "cell_type": "markdown",
   "metadata": {},
   "source": [
    "### Boolean Indexing"
   ]
  },
  {
   "cell_type": "code",
   "execution_count": 46,
   "metadata": {},
   "outputs": [
    {
     "data": {
      "text/html": [
       "<div>\n",
       "<style scoped>\n",
       "    .dataframe tbody tr th:only-of-type {\n",
       "        vertical-align: middle;\n",
       "    }\n",
       "\n",
       "    .dataframe tbody tr th {\n",
       "        vertical-align: top;\n",
       "    }\n",
       "\n",
       "    .dataframe thead th {\n",
       "        text-align: right;\n",
       "    }\n",
       "</style>\n",
       "<table border=\"1\" class=\"dataframe\">\n",
       "  <thead>\n",
       "    <tr style=\"text-align: right;\">\n",
       "      <th></th>\n",
       "      <th>A</th>\n",
       "      <th>B</th>\n",
       "      <th>C</th>\n",
       "      <th>D</th>\n",
       "    </tr>\n",
       "  </thead>\n",
       "  <tbody>\n",
       "    <tr>\n",
       "      <th>2014-01-01</th>\n",
       "      <td>2.001162</td>\n",
       "      <td>0.255463</td>\n",
       "      <td>-0.291282</td>\n",
       "      <td>-0.620007</td>\n",
       "    </tr>\n",
       "    <tr>\n",
       "      <th>2014-01-02</th>\n",
       "      <td>0.141413</td>\n",
       "      <td>0.577172</td>\n",
       "      <td>0.635464</td>\n",
       "      <td>-1.700828</td>\n",
       "    </tr>\n",
       "    <tr>\n",
       "      <th>2014-01-06</th>\n",
       "      <td>-1.222064</td>\n",
       "      <td>-2.305866</td>\n",
       "      <td>0.254411</td>\n",
       "      <td>-0.237221</td>\n",
       "    </tr>\n",
       "  </tbody>\n",
       "</table>\n",
       "</div>"
      ],
      "text/plain": [
       "                   A         B         C         D\n",
       "2014-01-01  2.001162  0.255463 -0.291282 -0.620007\n",
       "2014-01-02  0.141413  0.577172  0.635464 -1.700828\n",
       "2014-01-06 -1.222064 -2.305866  0.254411 -0.237221"
      ]
     },
     "execution_count": 46,
     "metadata": {},
     "output_type": "execute_result"
    }
   ],
   "source": [
    "df[(df.A>0) | (df.B<0)]   # basically a 'where' operation"
   ]
  },
  {
   "cell_type": "markdown",
   "metadata": {},
   "source": [
    "### Setting (Assignment)"
   ]
  },
  {
   "cell_type": "code",
   "execution_count": 47,
   "metadata": {},
   "outputs": [
    {
     "data": {
      "text/html": [
       "<div>\n",
       "<style scoped>\n",
       "    .dataframe tbody tr th:only-of-type {\n",
       "        vertical-align: middle;\n",
       "    }\n",
       "\n",
       "    .dataframe tbody tr th {\n",
       "        vertical-align: top;\n",
       "    }\n",
       "\n",
       "    .dataframe thead th {\n",
       "        text-align: right;\n",
       "    }\n",
       "</style>\n",
       "<table border=\"1\" class=\"dataframe\">\n",
       "  <thead>\n",
       "    <tr style=\"text-align: right;\">\n",
       "      <th></th>\n",
       "      <th>A</th>\n",
       "      <th>B</th>\n",
       "      <th>C</th>\n",
       "      <th>D</th>\n",
       "    </tr>\n",
       "  </thead>\n",
       "  <tbody>\n",
       "    <tr>\n",
       "      <th>2014-01-01</th>\n",
       "      <td>2.001162</td>\n",
       "      <td>0.255463</td>\n",
       "      <td>-0.291282</td>\n",
       "      <td>-0.620007</td>\n",
       "    </tr>\n",
       "    <tr>\n",
       "      <th>2014-01-02</th>\n",
       "      <td>0.141413</td>\n",
       "      <td>0.577172</td>\n",
       "      <td>0.635464</td>\n",
       "      <td>-1.700828</td>\n",
       "    </tr>\n",
       "    <tr>\n",
       "      <th>2014-01-03</th>\n",
       "      <td>-0.077065</td>\n",
       "      <td>0.982297</td>\n",
       "      <td>-0.488085</td>\n",
       "      <td>-1.104606</td>\n",
       "    </tr>\n",
       "    <tr>\n",
       "      <th>2014-01-04</th>\n",
       "      <td>-0.156456</td>\n",
       "      <td>0.997146</td>\n",
       "      <td>-0.223241</td>\n",
       "      <td>0.563419</td>\n",
       "    </tr>\n",
       "    <tr>\n",
       "      <th>2014-01-05</th>\n",
       "      <td>-1.105205</td>\n",
       "      <td>1.904528</td>\n",
       "      <td>0.083606</td>\n",
       "      <td>0.004600</td>\n",
       "    </tr>\n",
       "    <tr>\n",
       "      <th>2014-01-06</th>\n",
       "      <td>-1.222064</td>\n",
       "      <td>-2.305866</td>\n",
       "      <td>0.254411</td>\n",
       "      <td>-0.237221</td>\n",
       "    </tr>\n",
       "  </tbody>\n",
       "</table>\n",
       "</div>"
      ],
      "text/plain": [
       "                   A         B         C         D\n",
       "2014-01-01  2.001162  0.255463 -0.291282 -0.620007\n",
       "2014-01-02  0.141413  0.577172  0.635464 -1.700828\n",
       "2014-01-03 -0.077065  0.982297 -0.488085 -1.104606\n",
       "2014-01-04 -0.156456  0.997146 -0.223241  0.563419\n",
       "2014-01-05 -1.105205  1.904528  0.083606  0.004600\n",
       "2014-01-06 -1.222064 -2.305866  0.254411 -0.237221"
      ]
     },
     "execution_count": 47,
     "metadata": {},
     "output_type": "execute_result"
    }
   ],
   "source": [
    "df"
   ]
  },
  {
   "cell_type": "code",
   "execution_count": 48,
   "metadata": {},
   "outputs": [
    {
     "data": {
      "text/html": [
       "<div>\n",
       "<style scoped>\n",
       "    .dataframe tbody tr th:only-of-type {\n",
       "        vertical-align: middle;\n",
       "    }\n",
       "\n",
       "    .dataframe tbody tr th {\n",
       "        vertical-align: top;\n",
       "    }\n",
       "\n",
       "    .dataframe thead th {\n",
       "        text-align: right;\n",
       "    }\n",
       "</style>\n",
       "<table border=\"1\" class=\"dataframe\">\n",
       "  <thead>\n",
       "    <tr style=\"text-align: right;\">\n",
       "      <th></th>\n",
       "      <th>A</th>\n",
       "      <th>B</th>\n",
       "      <th>C</th>\n",
       "      <th>D</th>\n",
       "    </tr>\n",
       "  </thead>\n",
       "  <tbody>\n",
       "    <tr>\n",
       "      <th>2014-01-01</th>\n",
       "      <td>2.001162</td>\n",
       "      <td>0.255463</td>\n",
       "      <td>-0.291282</td>\n",
       "      <td>-0.620007</td>\n",
       "    </tr>\n",
       "    <tr>\n",
       "      <th>2014-01-02</th>\n",
       "      <td>0.141413</td>\n",
       "      <td>0.577172</td>\n",
       "      <td>0.635464</td>\n",
       "      <td>-1.700828</td>\n",
       "    </tr>\n",
       "    <tr>\n",
       "      <th>2014-01-03</th>\n",
       "      <td>4.000000</td>\n",
       "      <td>4.000000</td>\n",
       "      <td>4.000000</td>\n",
       "      <td>4.000000</td>\n",
       "    </tr>\n",
       "    <tr>\n",
       "      <th>2014-01-04</th>\n",
       "      <td>4.000000</td>\n",
       "      <td>4.000000</td>\n",
       "      <td>4.000000</td>\n",
       "      <td>4.000000</td>\n",
       "    </tr>\n",
       "    <tr>\n",
       "      <th>2014-01-05</th>\n",
       "      <td>4.000000</td>\n",
       "      <td>4.000000</td>\n",
       "      <td>4.000000</td>\n",
       "      <td>4.000000</td>\n",
       "    </tr>\n",
       "    <tr>\n",
       "      <th>2014-01-06</th>\n",
       "      <td>4.000000</td>\n",
       "      <td>4.000000</td>\n",
       "      <td>4.000000</td>\n",
       "      <td>4.000000</td>\n",
       "    </tr>\n",
       "  </tbody>\n",
       "</table>\n",
       "</div>"
      ],
      "text/plain": [
       "                   A         B         C         D\n",
       "2014-01-01  2.001162  0.255463 -0.291282 -0.620007\n",
       "2014-01-02  0.141413  0.577172  0.635464 -1.700828\n",
       "2014-01-03  4.000000  4.000000  4.000000  4.000000\n",
       "2014-01-04  4.000000  4.000000  4.000000  4.000000\n",
       "2014-01-05  4.000000  4.000000  4.000000  4.000000\n",
       "2014-01-06  4.000000  4.000000  4.000000  4.000000"
      ]
     },
     "execution_count": 48,
     "metadata": {},
     "output_type": "execute_result"
    }
   ],
   "source": [
    "# make a copy so original dataset is not affected\n",
    "df_posA = df.copy()\n",
    "df_posA[df_posA.A<0] = 4 # converting negative values in 'A' to positive\n",
    "df_posA"
   ]
  },
  {
   "cell_type": "code",
   "execution_count": 49,
   "metadata": {},
   "outputs": [
    {
     "data": {
      "text/plain": [
       "2014-01-02    1\n",
       "2014-01-03    2\n",
       "2014-01-04    3\n",
       "2014-01-05    4\n",
       "2014-01-06    5\n",
       "2014-01-07    6\n",
       "Freq: D, dtype: int64"
      ]
     },
     "execution_count": 49,
     "metadata": {},
     "output_type": "execute_result"
    }
   ],
   "source": [
    "# Setting new column - auto aligns data by index\n",
    "s1 = pd.Series([1,2,3,4,5,6],\n",
    "              index=pd.date_range('20140102', periods=6))\n",
    "s1"
   ]
  },
  {
   "cell_type": "code",
   "execution_count": 50,
   "metadata": {},
   "outputs": [],
   "source": [
    "df['F'] = s1"
   ]
  },
  {
   "cell_type": "code",
   "execution_count": 51,
   "metadata": {},
   "outputs": [
    {
     "data": {
      "text/html": [
       "<div>\n",
       "<style scoped>\n",
       "    .dataframe tbody tr th:only-of-type {\n",
       "        vertical-align: middle;\n",
       "    }\n",
       "\n",
       "    .dataframe tbody tr th {\n",
       "        vertical-align: top;\n",
       "    }\n",
       "\n",
       "    .dataframe thead th {\n",
       "        text-align: right;\n",
       "    }\n",
       "</style>\n",
       "<table border=\"1\" class=\"dataframe\">\n",
       "  <thead>\n",
       "    <tr style=\"text-align: right;\">\n",
       "      <th></th>\n",
       "      <th>A</th>\n",
       "      <th>B</th>\n",
       "      <th>C</th>\n",
       "      <th>D</th>\n",
       "      <th>F</th>\n",
       "    </tr>\n",
       "  </thead>\n",
       "  <tbody>\n",
       "    <tr>\n",
       "      <th>2014-01-01</th>\n",
       "      <td>2.001162</td>\n",
       "      <td>0.255463</td>\n",
       "      <td>-0.291282</td>\n",
       "      <td>-0.620007</td>\n",
       "      <td>NaN</td>\n",
       "    </tr>\n",
       "    <tr>\n",
       "      <th>2014-01-02</th>\n",
       "      <td>0.141413</td>\n",
       "      <td>0.577172</td>\n",
       "      <td>0.635464</td>\n",
       "      <td>-1.700828</td>\n",
       "      <td>1.0</td>\n",
       "    </tr>\n",
       "    <tr>\n",
       "      <th>2014-01-03</th>\n",
       "      <td>-0.077065</td>\n",
       "      <td>0.982297</td>\n",
       "      <td>-0.488085</td>\n",
       "      <td>-1.104606</td>\n",
       "      <td>2.0</td>\n",
       "    </tr>\n",
       "    <tr>\n",
       "      <th>2014-01-04</th>\n",
       "      <td>-0.156456</td>\n",
       "      <td>0.997146</td>\n",
       "      <td>-0.223241</td>\n",
       "      <td>0.563419</td>\n",
       "      <td>3.0</td>\n",
       "    </tr>\n",
       "    <tr>\n",
       "      <th>2014-01-05</th>\n",
       "      <td>-1.105205</td>\n",
       "      <td>1.904528</td>\n",
       "      <td>0.083606</td>\n",
       "      <td>0.004600</td>\n",
       "      <td>4.0</td>\n",
       "    </tr>\n",
       "    <tr>\n",
       "      <th>2014-01-06</th>\n",
       "      <td>-1.222064</td>\n",
       "      <td>-2.305866</td>\n",
       "      <td>0.254411</td>\n",
       "      <td>-0.237221</td>\n",
       "      <td>5.0</td>\n",
       "    </tr>\n",
       "  </tbody>\n",
       "</table>\n",
       "</div>"
      ],
      "text/plain": [
       "                   A         B         C         D    F\n",
       "2014-01-01  2.001162  0.255463 -0.291282 -0.620007  NaN\n",
       "2014-01-02  0.141413  0.577172  0.635464 -1.700828  1.0\n",
       "2014-01-03 -0.077065  0.982297 -0.488085 -1.104606  2.0\n",
       "2014-01-04 -0.156456  0.997146 -0.223241  0.563419  3.0\n",
       "2014-01-05 -1.105205  1.904528  0.083606  0.004600  4.0\n",
       "2014-01-06 -1.222064 -2.305866  0.254411 -0.237221  5.0"
      ]
     },
     "execution_count": 51,
     "metadata": {},
     "output_type": "execute_result"
    }
   ],
   "source": [
    "# notice missing value in first row for col 'F'!\n",
    "df"
   ]
  },
  {
   "cell_type": "markdown",
   "metadata": {},
   "source": [
    "#### What happened to s1's 6th row?"
   ]
  },
  {
   "cell_type": "markdown",
   "metadata": {},
   "source": [
    "### Missing Data\n",
    "NaN is the same as null"
   ]
  },
  {
   "cell_type": "code",
   "execution_count": 52,
   "metadata": {},
   "outputs": [
    {
     "data": {
      "text/html": [
       "<div>\n",
       "<style scoped>\n",
       "    .dataframe tbody tr th:only-of-type {\n",
       "        vertical-align: middle;\n",
       "    }\n",
       "\n",
       "    .dataframe tbody tr th {\n",
       "        vertical-align: top;\n",
       "    }\n",
       "\n",
       "    .dataframe thead th {\n",
       "        text-align: right;\n",
       "    }\n",
       "</style>\n",
       "<table border=\"1\" class=\"dataframe\">\n",
       "  <thead>\n",
       "    <tr style=\"text-align: right;\">\n",
       "      <th></th>\n",
       "      <th>A</th>\n",
       "      <th>B</th>\n",
       "      <th>C</th>\n",
       "      <th>D</th>\n",
       "      <th>F</th>\n",
       "      <th>E</th>\n",
       "    </tr>\n",
       "  </thead>\n",
       "  <tbody>\n",
       "    <tr>\n",
       "      <th>2014-01-01</th>\n",
       "      <td>2.001162</td>\n",
       "      <td>0.255463</td>\n",
       "      <td>-0.291282</td>\n",
       "      <td>-0.620007</td>\n",
       "      <td>NaN</td>\n",
       "      <td>NaN</td>\n",
       "    </tr>\n",
       "    <tr>\n",
       "      <th>2014-01-02</th>\n",
       "      <td>0.141413</td>\n",
       "      <td>0.577172</td>\n",
       "      <td>0.635464</td>\n",
       "      <td>-1.700828</td>\n",
       "      <td>1.0</td>\n",
       "      <td>NaN</td>\n",
       "    </tr>\n",
       "    <tr>\n",
       "      <th>2014-01-03</th>\n",
       "      <td>-0.077065</td>\n",
       "      <td>0.982297</td>\n",
       "      <td>-0.488085</td>\n",
       "      <td>-1.104606</td>\n",
       "      <td>2.0</td>\n",
       "      <td>NaN</td>\n",
       "    </tr>\n",
       "    <tr>\n",
       "      <th>2014-01-04</th>\n",
       "      <td>-0.156456</td>\n",
       "      <td>0.997146</td>\n",
       "      <td>-0.223241</td>\n",
       "      <td>0.563419</td>\n",
       "      <td>3.0</td>\n",
       "      <td>NaN</td>\n",
       "    </tr>\n",
       "  </tbody>\n",
       "</table>\n",
       "</div>"
      ],
      "text/plain": [
       "                   A         B         C         D    F   E\n",
       "2014-01-01  2.001162  0.255463 -0.291282 -0.620007  NaN NaN\n",
       "2014-01-02  0.141413  0.577172  0.635464 -1.700828  1.0 NaN\n",
       "2014-01-03 -0.077065  0.982297 -0.488085 -1.104606  2.0 NaN\n",
       "2014-01-04 -0.156456  0.997146 -0.223241  0.563419  3.0 NaN"
      ]
     },
     "execution_count": 52,
     "metadata": {},
     "output_type": "execute_result"
    }
   ],
   "source": [
    "# Add a column with missing data (on subset of df, just rows [0:4])\n",
    "df1 = df.reindex(index=dates[0:4],columns=list(df.columns) + ['E'])\n",
    "df1"
   ]
  },
  {
   "cell_type": "code",
   "execution_count": 53,
   "metadata": {},
   "outputs": [
    {
     "data": {
      "text/html": [
       "<div>\n",
       "<style scoped>\n",
       "    .dataframe tbody tr th:only-of-type {\n",
       "        vertical-align: middle;\n",
       "    }\n",
       "\n",
       "    .dataframe tbody tr th {\n",
       "        vertical-align: top;\n",
       "    }\n",
       "\n",
       "    .dataframe thead th {\n",
       "        text-align: right;\n",
       "    }\n",
       "</style>\n",
       "<table border=\"1\" class=\"dataframe\">\n",
       "  <thead>\n",
       "    <tr style=\"text-align: right;\">\n",
       "      <th></th>\n",
       "      <th>A</th>\n",
       "      <th>B</th>\n",
       "      <th>C</th>\n",
       "      <th>D</th>\n",
       "      <th>F</th>\n",
       "      <th>E</th>\n",
       "    </tr>\n",
       "  </thead>\n",
       "  <tbody>\n",
       "    <tr>\n",
       "      <th>2014-01-01</th>\n",
       "      <td>2.001162</td>\n",
       "      <td>0.255463</td>\n",
       "      <td>-0.291282</td>\n",
       "      <td>-0.620007</td>\n",
       "      <td>NaN</td>\n",
       "      <td>1.0</td>\n",
       "    </tr>\n",
       "    <tr>\n",
       "      <th>2014-01-02</th>\n",
       "      <td>0.141413</td>\n",
       "      <td>0.577172</td>\n",
       "      <td>0.635464</td>\n",
       "      <td>-1.700828</td>\n",
       "      <td>1.0</td>\n",
       "      <td>1.0</td>\n",
       "    </tr>\n",
       "    <tr>\n",
       "      <th>2014-01-03</th>\n",
       "      <td>-0.077065</td>\n",
       "      <td>0.982297</td>\n",
       "      <td>-0.488085</td>\n",
       "      <td>-1.104606</td>\n",
       "      <td>2.0</td>\n",
       "      <td>NaN</td>\n",
       "    </tr>\n",
       "    <tr>\n",
       "      <th>2014-01-04</th>\n",
       "      <td>-0.156456</td>\n",
       "      <td>0.997146</td>\n",
       "      <td>-0.223241</td>\n",
       "      <td>0.563419</td>\n",
       "      <td>3.0</td>\n",
       "      <td>NaN</td>\n",
       "    </tr>\n",
       "  </tbody>\n",
       "</table>\n",
       "</div>"
      ],
      "text/plain": [
       "                   A         B         C         D    F    E\n",
       "2014-01-01  2.001162  0.255463 -0.291282 -0.620007  NaN  1.0\n",
       "2014-01-02  0.141413  0.577172  0.635464 -1.700828  1.0  1.0\n",
       "2014-01-03 -0.077065  0.982297 -0.488085 -1.104606  2.0  NaN\n",
       "2014-01-04 -0.156456  0.997146 -0.223241  0.563419  3.0  NaN"
      ]
     },
     "execution_count": 53,
     "metadata": {},
     "output_type": "execute_result"
    }
   ],
   "source": [
    "df1.loc[dates[0]:dates[1],'E'] = 1\n",
    "df1"
   ]
  },
  {
   "cell_type": "code",
   "execution_count": 54,
   "metadata": {},
   "outputs": [
    {
     "data": {
      "text/html": [
       "<div>\n",
       "<style scoped>\n",
       "    .dataframe tbody tr th:only-of-type {\n",
       "        vertical-align: middle;\n",
       "    }\n",
       "\n",
       "    .dataframe tbody tr th {\n",
       "        vertical-align: top;\n",
       "    }\n",
       "\n",
       "    .dataframe thead th {\n",
       "        text-align: right;\n",
       "    }\n",
       "</style>\n",
       "<table border=\"1\" class=\"dataframe\">\n",
       "  <thead>\n",
       "    <tr style=\"text-align: right;\">\n",
       "      <th></th>\n",
       "      <th>A</th>\n",
       "      <th>B</th>\n",
       "      <th>C</th>\n",
       "      <th>D</th>\n",
       "      <th>F</th>\n",
       "      <th>E</th>\n",
       "    </tr>\n",
       "  </thead>\n",
       "  <tbody>\n",
       "    <tr>\n",
       "      <th>2014-01-01</th>\n",
       "      <td>False</td>\n",
       "      <td>False</td>\n",
       "      <td>False</td>\n",
       "      <td>False</td>\n",
       "      <td>True</td>\n",
       "      <td>False</td>\n",
       "    </tr>\n",
       "    <tr>\n",
       "      <th>2014-01-02</th>\n",
       "      <td>False</td>\n",
       "      <td>False</td>\n",
       "      <td>False</td>\n",
       "      <td>False</td>\n",
       "      <td>False</td>\n",
       "      <td>False</td>\n",
       "    </tr>\n",
       "    <tr>\n",
       "      <th>2014-01-03</th>\n",
       "      <td>False</td>\n",
       "      <td>False</td>\n",
       "      <td>False</td>\n",
       "      <td>False</td>\n",
       "      <td>False</td>\n",
       "      <td>True</td>\n",
       "    </tr>\n",
       "    <tr>\n",
       "      <th>2014-01-04</th>\n",
       "      <td>False</td>\n",
       "      <td>False</td>\n",
       "      <td>False</td>\n",
       "      <td>False</td>\n",
       "      <td>False</td>\n",
       "      <td>True</td>\n",
       "    </tr>\n",
       "  </tbody>\n",
       "</table>\n",
       "</div>"
      ],
      "text/plain": [
       "                A      B      C      D      F      E\n",
       "2014-01-01  False  False  False  False   True  False\n",
       "2014-01-02  False  False  False  False  False  False\n",
       "2014-01-03  False  False  False  False  False   True\n",
       "2014-01-04  False  False  False  False  False   True"
      ]
     },
     "execution_count": 54,
     "metadata": {},
     "output_type": "execute_result"
    }
   ],
   "source": [
    "# find where values are null\n",
    "pd.isnull(df1)"
   ]
  },
  {
   "cell_type": "code",
   "execution_count": 55,
   "metadata": {},
   "outputs": [
    {
     "data": {
      "text/html": [
       "<div>\n",
       "<style scoped>\n",
       "    .dataframe tbody tr th:only-of-type {\n",
       "        vertical-align: middle;\n",
       "    }\n",
       "\n",
       "    .dataframe tbody tr th {\n",
       "        vertical-align: top;\n",
       "    }\n",
       "\n",
       "    .dataframe thead th {\n",
       "        text-align: right;\n",
       "    }\n",
       "</style>\n",
       "<table border=\"1\" class=\"dataframe\">\n",
       "  <thead>\n",
       "    <tr style=\"text-align: right;\">\n",
       "      <th></th>\n",
       "      <th>A</th>\n",
       "      <th>B</th>\n",
       "      <th>C</th>\n",
       "      <th>D</th>\n",
       "      <th>F</th>\n",
       "      <th>E</th>\n",
       "    </tr>\n",
       "  </thead>\n",
       "  <tbody>\n",
       "    <tr>\n",
       "      <th>2014-01-01</th>\n",
       "      <td>False</td>\n",
       "      <td>False</td>\n",
       "      <td>False</td>\n",
       "      <td>False</td>\n",
       "      <td>True</td>\n",
       "      <td>False</td>\n",
       "    </tr>\n",
       "    <tr>\n",
       "      <th>2014-01-02</th>\n",
       "      <td>False</td>\n",
       "      <td>False</td>\n",
       "      <td>False</td>\n",
       "      <td>False</td>\n",
       "      <td>False</td>\n",
       "      <td>False</td>\n",
       "    </tr>\n",
       "    <tr>\n",
       "      <th>2014-01-03</th>\n",
       "      <td>False</td>\n",
       "      <td>False</td>\n",
       "      <td>False</td>\n",
       "      <td>False</td>\n",
       "      <td>False</td>\n",
       "      <td>True</td>\n",
       "    </tr>\n",
       "    <tr>\n",
       "      <th>2014-01-04</th>\n",
       "      <td>False</td>\n",
       "      <td>False</td>\n",
       "      <td>False</td>\n",
       "      <td>False</td>\n",
       "      <td>False</td>\n",
       "      <td>True</td>\n",
       "    </tr>\n",
       "  </tbody>\n",
       "</table>\n",
       "</div>"
      ],
      "text/plain": [
       "                A      B      C      D      F      E\n",
       "2014-01-01  False  False  False  False   True  False\n",
       "2014-01-02  False  False  False  False  False  False\n",
       "2014-01-03  False  False  False  False  False   True\n",
       "2014-01-04  False  False  False  False  False   True"
      ]
     },
     "execution_count": 55,
     "metadata": {},
     "output_type": "execute_result"
    }
   ],
   "source": [
    "df1.isnull()   # same as above"
   ]
  },
  {
   "cell_type": "markdown",
   "metadata": {},
   "source": [
    "### Operations"
   ]
  },
  {
   "cell_type": "code",
   "execution_count": 56,
   "metadata": {},
   "outputs": [
    {
     "data": {
      "text/html": [
       "<div>\n",
       "<style scoped>\n",
       "    .dataframe tbody tr th:only-of-type {\n",
       "        vertical-align: middle;\n",
       "    }\n",
       "\n",
       "    .dataframe tbody tr th {\n",
       "        vertical-align: top;\n",
       "    }\n",
       "\n",
       "    .dataframe thead th {\n",
       "        text-align: right;\n",
       "    }\n",
       "</style>\n",
       "<table border=\"1\" class=\"dataframe\">\n",
       "  <thead>\n",
       "    <tr style=\"text-align: right;\">\n",
       "      <th></th>\n",
       "      <th>A</th>\n",
       "      <th>B</th>\n",
       "      <th>C</th>\n",
       "      <th>D</th>\n",
       "      <th>F</th>\n",
       "    </tr>\n",
       "  </thead>\n",
       "  <tbody>\n",
       "    <tr>\n",
       "      <th>count</th>\n",
       "      <td>6.000000</td>\n",
       "      <td>6.000000</td>\n",
       "      <td>6.000000</td>\n",
       "      <td>6.000000</td>\n",
       "      <td>5.000000</td>\n",
       "    </tr>\n",
       "    <tr>\n",
       "      <th>mean</th>\n",
       "      <td>-0.069702</td>\n",
       "      <td>0.401790</td>\n",
       "      <td>-0.004855</td>\n",
       "      <td>-0.515774</td>\n",
       "      <td>3.000000</td>\n",
       "    </tr>\n",
       "    <tr>\n",
       "      <th>std</th>\n",
       "      <td>1.161106</td>\n",
       "      <td>1.437584</td>\n",
       "      <td>0.411897</td>\n",
       "      <td>0.809318</td>\n",
       "      <td>1.581139</td>\n",
       "    </tr>\n",
       "    <tr>\n",
       "      <th>min</th>\n",
       "      <td>-1.222064</td>\n",
       "      <td>-2.305866</td>\n",
       "      <td>-0.488085</td>\n",
       "      <td>-1.700828</td>\n",
       "      <td>1.000000</td>\n",
       "    </tr>\n",
       "    <tr>\n",
       "      <th>25%</th>\n",
       "      <td>-0.868017</td>\n",
       "      <td>0.335890</td>\n",
       "      <td>-0.274272</td>\n",
       "      <td>-0.983456</td>\n",
       "      <td>2.000000</td>\n",
       "    </tr>\n",
       "    <tr>\n",
       "      <th>50%</th>\n",
       "      <td>-0.116760</td>\n",
       "      <td>0.779735</td>\n",
       "      <td>-0.069817</td>\n",
       "      <td>-0.428614</td>\n",
       "      <td>3.000000</td>\n",
       "    </tr>\n",
       "    <tr>\n",
       "      <th>75%</th>\n",
       "      <td>0.086794</td>\n",
       "      <td>0.993434</td>\n",
       "      <td>0.211709</td>\n",
       "      <td>-0.055855</td>\n",
       "      <td>4.000000</td>\n",
       "    </tr>\n",
       "    <tr>\n",
       "      <th>max</th>\n",
       "      <td>2.001162</td>\n",
       "      <td>1.904528</td>\n",
       "      <td>0.635464</td>\n",
       "      <td>0.563419</td>\n",
       "      <td>5.000000</td>\n",
       "    </tr>\n",
       "  </tbody>\n",
       "</table>\n",
       "</div>"
      ],
      "text/plain": [
       "              A         B         C         D         F\n",
       "count  6.000000  6.000000  6.000000  6.000000  5.000000\n",
       "mean  -0.069702  0.401790 -0.004855 -0.515774  3.000000\n",
       "std    1.161106  1.437584  0.411897  0.809318  1.581139\n",
       "min   -1.222064 -2.305866 -0.488085 -1.700828  1.000000\n",
       "25%   -0.868017  0.335890 -0.274272 -0.983456  2.000000\n",
       "50%   -0.116760  0.779735 -0.069817 -0.428614  3.000000\n",
       "75%    0.086794  0.993434  0.211709 -0.055855  4.000000\n",
       "max    2.001162  1.904528  0.635464  0.563419  5.000000"
      ]
     },
     "execution_count": 56,
     "metadata": {},
     "output_type": "execute_result"
    }
   ],
   "source": [
    "df.describe()"
   ]
  },
  {
   "cell_type": "code",
   "execution_count": 57,
   "metadata": {},
   "outputs": [
    {
     "data": {
      "text/plain": [
       "A   -0.069702\n",
       "B    0.401790\n",
       "C   -0.004855\n",
       "D   -0.515774\n",
       "F    3.000000\n",
       "dtype: float64"
      ]
     },
     "execution_count": 57,
     "metadata": {},
     "output_type": "execute_result"
    }
   ],
   "source": [
    "df.mean()   # axis=0 default"
   ]
  },
  {
   "cell_type": "code",
   "execution_count": 58,
   "metadata": {},
   "outputs": [
    {
     "data": {
      "text/plain": [
       "2014-01-01    0.336334\n",
       "2014-01-02    0.130644\n",
       "2014-01-03    0.262508\n",
       "2014-01-04    0.836174\n",
       "2014-01-05    0.977506\n",
       "2014-01-06    0.297852\n",
       "Freq: D, dtype: float64"
      ]
     },
     "execution_count": 58,
     "metadata": {},
     "output_type": "execute_result"
    }
   ],
   "source": [
    "df.mean(axis=1)   # operation on two different axes ???"
   ]
  },
  {
   "cell_type": "markdown",
   "metadata": {},
   "source": [
    "### Applying Functions"
   ]
  },
  {
   "cell_type": "code",
   "execution_count": 59,
   "metadata": {},
   "outputs": [
    {
     "data": {
      "text/html": [
       "<div>\n",
       "<style scoped>\n",
       "    .dataframe tbody tr th:only-of-type {\n",
       "        vertical-align: middle;\n",
       "    }\n",
       "\n",
       "    .dataframe tbody tr th {\n",
       "        vertical-align: top;\n",
       "    }\n",
       "\n",
       "    .dataframe thead th {\n",
       "        text-align: right;\n",
       "    }\n",
       "</style>\n",
       "<table border=\"1\" class=\"dataframe\">\n",
       "  <thead>\n",
       "    <tr style=\"text-align: right;\">\n",
       "      <th></th>\n",
       "      <th>A</th>\n",
       "      <th>B</th>\n",
       "      <th>C</th>\n",
       "      <th>D</th>\n",
       "      <th>F</th>\n",
       "    </tr>\n",
       "  </thead>\n",
       "  <tbody>\n",
       "    <tr>\n",
       "      <th>2014-01-01</th>\n",
       "      <td>2.001162</td>\n",
       "      <td>0.255463</td>\n",
       "      <td>-0.291282</td>\n",
       "      <td>-0.620007</td>\n",
       "      <td>NaN</td>\n",
       "    </tr>\n",
       "    <tr>\n",
       "      <th>2014-01-02</th>\n",
       "      <td>0.141413</td>\n",
       "      <td>0.577172</td>\n",
       "      <td>0.635464</td>\n",
       "      <td>-1.700828</td>\n",
       "      <td>1.0</td>\n",
       "    </tr>\n",
       "    <tr>\n",
       "      <th>2014-01-03</th>\n",
       "      <td>-0.077065</td>\n",
       "      <td>0.982297</td>\n",
       "      <td>-0.488085</td>\n",
       "      <td>-1.104606</td>\n",
       "      <td>2.0</td>\n",
       "    </tr>\n",
       "    <tr>\n",
       "      <th>2014-01-04</th>\n",
       "      <td>-0.156456</td>\n",
       "      <td>0.997146</td>\n",
       "      <td>-0.223241</td>\n",
       "      <td>0.563419</td>\n",
       "      <td>3.0</td>\n",
       "    </tr>\n",
       "    <tr>\n",
       "      <th>2014-01-05</th>\n",
       "      <td>-1.105205</td>\n",
       "      <td>1.904528</td>\n",
       "      <td>0.083606</td>\n",
       "      <td>0.004600</td>\n",
       "      <td>4.0</td>\n",
       "    </tr>\n",
       "    <tr>\n",
       "      <th>2014-01-06</th>\n",
       "      <td>-1.222064</td>\n",
       "      <td>-2.305866</td>\n",
       "      <td>0.254411</td>\n",
       "      <td>-0.237221</td>\n",
       "      <td>5.0</td>\n",
       "    </tr>\n",
       "  </tbody>\n",
       "</table>\n",
       "</div>"
      ],
      "text/plain": [
       "                   A         B         C         D    F\n",
       "2014-01-01  2.001162  0.255463 -0.291282 -0.620007  NaN\n",
       "2014-01-02  0.141413  0.577172  0.635464 -1.700828  1.0\n",
       "2014-01-03 -0.077065  0.982297 -0.488085 -1.104606  2.0\n",
       "2014-01-04 -0.156456  0.997146 -0.223241  0.563419  3.0\n",
       "2014-01-05 -1.105205  1.904528  0.083606  0.004600  4.0\n",
       "2014-01-06 -1.222064 -2.305866  0.254411 -0.237221  5.0"
      ]
     },
     "execution_count": 59,
     "metadata": {},
     "output_type": "execute_result"
    }
   ],
   "source": [
    "df"
   ]
  },
  {
   "cell_type": "code",
   "execution_count": 60,
   "metadata": {},
   "outputs": [
    {
     "data": {
      "text/html": [
       "<div>\n",
       "<style scoped>\n",
       "    .dataframe tbody tr th:only-of-type {\n",
       "        vertical-align: middle;\n",
       "    }\n",
       "\n",
       "    .dataframe tbody tr th {\n",
       "        vertical-align: top;\n",
       "    }\n",
       "\n",
       "    .dataframe thead th {\n",
       "        text-align: right;\n",
       "    }\n",
       "</style>\n",
       "<table border=\"1\" class=\"dataframe\">\n",
       "  <thead>\n",
       "    <tr style=\"text-align: right;\">\n",
       "      <th></th>\n",
       "      <th>A</th>\n",
       "      <th>B</th>\n",
       "      <th>C</th>\n",
       "      <th>D</th>\n",
       "      <th>F</th>\n",
       "    </tr>\n",
       "  </thead>\n",
       "  <tbody>\n",
       "    <tr>\n",
       "      <th>2014-01-01</th>\n",
       "      <td>2.001162</td>\n",
       "      <td>0.255463</td>\n",
       "      <td>-0.291282</td>\n",
       "      <td>-0.620007</td>\n",
       "      <td>NaN</td>\n",
       "    </tr>\n",
       "    <tr>\n",
       "      <th>2014-01-02</th>\n",
       "      <td>2.142575</td>\n",
       "      <td>0.832634</td>\n",
       "      <td>0.344182</td>\n",
       "      <td>-2.320834</td>\n",
       "      <td>1.0</td>\n",
       "    </tr>\n",
       "    <tr>\n",
       "      <th>2014-01-03</th>\n",
       "      <td>2.065510</td>\n",
       "      <td>1.814932</td>\n",
       "      <td>-0.143904</td>\n",
       "      <td>-3.425440</td>\n",
       "      <td>3.0</td>\n",
       "    </tr>\n",
       "    <tr>\n",
       "      <th>2014-01-04</th>\n",
       "      <td>1.909055</td>\n",
       "      <td>2.812078</td>\n",
       "      <td>-0.367145</td>\n",
       "      <td>-2.862021</td>\n",
       "      <td>6.0</td>\n",
       "    </tr>\n",
       "    <tr>\n",
       "      <th>2014-01-05</th>\n",
       "      <td>0.803850</td>\n",
       "      <td>4.716606</td>\n",
       "      <td>-0.283539</td>\n",
       "      <td>-2.857421</td>\n",
       "      <td>10.0</td>\n",
       "    </tr>\n",
       "    <tr>\n",
       "      <th>2014-01-06</th>\n",
       "      <td>-0.418214</td>\n",
       "      <td>2.410740</td>\n",
       "      <td>-0.029128</td>\n",
       "      <td>-3.094642</td>\n",
       "      <td>15.0</td>\n",
       "    </tr>\n",
       "  </tbody>\n",
       "</table>\n",
       "</div>"
      ],
      "text/plain": [
       "                   A         B         C         D     F\n",
       "2014-01-01  2.001162  0.255463 -0.291282 -0.620007   NaN\n",
       "2014-01-02  2.142575  0.832634  0.344182 -2.320834   1.0\n",
       "2014-01-03  2.065510  1.814932 -0.143904 -3.425440   3.0\n",
       "2014-01-04  1.909055  2.812078 -0.367145 -2.862021   6.0\n",
       "2014-01-05  0.803850  4.716606 -0.283539 -2.857421  10.0\n",
       "2014-01-06 -0.418214  2.410740 -0.029128 -3.094642  15.0"
      ]
     },
     "execution_count": 60,
     "metadata": {},
     "output_type": "execute_result"
    }
   ],
   "source": [
    "df.apply(np.cumsum)   # cumulative sum, downward"
   ]
  },
  {
   "cell_type": "code",
   "execution_count": 61,
   "metadata": {},
   "outputs": [
    {
     "data": {
      "text/plain": [
       "2014-01-01    2.621168\n",
       "2014-01-02    2.700828\n",
       "2014-01-03    3.104606\n",
       "2014-01-04    3.223241\n",
       "2014-01-05    5.105205\n",
       "2014-01-06    7.305866\n",
       "Freq: D, dtype: float64"
      ]
     },
     "execution_count": 61,
     "metadata": {},
     "output_type": "execute_result"
    }
   ],
   "source": [
    "df.apply(lambda x: x.max() - x.min(), axis=1)"
   ]
  },
  {
   "cell_type": "code",
   "execution_count": 62,
   "metadata": {},
   "outputs": [
    {
     "data": {
      "text/plain": [
       "0       A\n",
       "1       B\n",
       "2       C\n",
       "3    Aaba\n",
       "4    Baca\n",
       "5     NaN\n",
       "6    CABA\n",
       "7     dog\n",
       "8     cat\n",
       "dtype: object"
      ]
     },
     "execution_count": 62,
     "metadata": {},
     "output_type": "execute_result"
    }
   ],
   "source": [
    "# Built-in string methods\n",
    "s = pd.Series(['A','B','C','Aaba', 'Baca', np.nan, 'CABA', 'dog', 'cat'])\n",
    "s"
   ]
  },
  {
   "cell_type": "code",
   "execution_count": 63,
   "metadata": {},
   "outputs": [
    {
     "data": {
      "text/plain": [
       "0       a\n",
       "1       b\n",
       "2       c\n",
       "3    aaba\n",
       "4    baca\n",
       "5     NaN\n",
       "6    caba\n",
       "7     dog\n",
       "8     cat\n",
       "dtype: object"
      ]
     },
     "execution_count": 63,
     "metadata": {},
     "output_type": "execute_result"
    }
   ],
   "source": [
    "s.str.lower()"
   ]
  },
  {
   "cell_type": "markdown",
   "metadata": {},
   "source": [
    "### Merge"
   ]
  },
  {
   "cell_type": "markdown",
   "metadata": {},
   "source": [
    "\n",
    "#### Pandas concat Vs append Vs join Vs merge\n",
    "Concat gives the flexibility to join based on the axis( all rows or all columns) Append is the specific case(axis=0, join='outer') of concat Join is based on the indexes (set by set_index) on how variable =['left','right','inner','couter'] Merge is based on any particular column each of the two dataframes, this columns are variables on like 'left_on', 'right_on', 'on'\n",
    "\n",
    "http://py-tut.blogspot.com/2016/11/pandas-concat-and-append.html"
   ]
  },
  {
   "cell_type": "code",
   "execution_count": 64,
   "metadata": {},
   "outputs": [
    {
     "data": {
      "text/plain": [
       "array([[-1.04658303, -0.31657705,  1.7034888 ,  0.70429735],\n",
       "       [-0.27763516, -1.63495901,  0.81504001, -1.32555555],\n",
       "       [-0.38401745,  0.90876749, -0.04600368,  0.26143849],\n",
       "       [ 0.1097748 ,  1.0577011 , -0.95264513,  0.63706785],\n",
       "       [-0.27059903, -0.02740457, -1.10243541, -0.12793446],\n",
       "       [-1.49560565,  0.62286858,  0.57830625,  0.28596863],\n",
       "       [-1.20981724,  0.75046846,  0.0686257 ,  1.30768399],\n",
       "       [ 1.64238022, -0.57130221, -1.52999319,  0.46248291],\n",
       "       [ 2.41072197,  1.0525143 , -0.67826961,  0.83574027],\n",
       "       [-2.09455802, -1.5754452 ,  0.1597914 , -0.00257154]])"
      ]
     },
     "execution_count": 64,
     "metadata": {},
     "output_type": "execute_result"
    }
   ],
   "source": [
    "np.random.randn(10,4)"
   ]
  },
  {
   "cell_type": "code",
   "execution_count": 65,
   "metadata": {},
   "outputs": [
    {
     "data": {
      "text/html": [
       "<div>\n",
       "<style scoped>\n",
       "    .dataframe tbody tr th:only-of-type {\n",
       "        vertical-align: middle;\n",
       "    }\n",
       "\n",
       "    .dataframe tbody tr th {\n",
       "        vertical-align: top;\n",
       "    }\n",
       "\n",
       "    .dataframe thead th {\n",
       "        text-align: right;\n",
       "    }\n",
       "</style>\n",
       "<table border=\"1\" class=\"dataframe\">\n",
       "  <thead>\n",
       "    <tr style=\"text-align: right;\">\n",
       "      <th></th>\n",
       "      <th>A</th>\n",
       "      <th>B</th>\n",
       "      <th>C</th>\n",
       "      <th>D</th>\n",
       "      <th>F</th>\n",
       "    </tr>\n",
       "  </thead>\n",
       "  <tbody>\n",
       "    <tr>\n",
       "      <th>2014-01-01</th>\n",
       "      <td>2.001162</td>\n",
       "      <td>0.255463</td>\n",
       "      <td>-0.291282</td>\n",
       "      <td>-0.620007</td>\n",
       "      <td>NaN</td>\n",
       "    </tr>\n",
       "    <tr>\n",
       "      <th>2014-01-02</th>\n",
       "      <td>0.141413</td>\n",
       "      <td>0.577172</td>\n",
       "      <td>0.635464</td>\n",
       "      <td>-1.700828</td>\n",
       "      <td>1.0</td>\n",
       "    </tr>\n",
       "    <tr>\n",
       "      <th>2014-01-03</th>\n",
       "      <td>-0.077065</td>\n",
       "      <td>0.982297</td>\n",
       "      <td>-0.488085</td>\n",
       "      <td>-1.104606</td>\n",
       "      <td>2.0</td>\n",
       "    </tr>\n",
       "    <tr>\n",
       "      <th>2014-01-04</th>\n",
       "      <td>-0.156456</td>\n",
       "      <td>0.997146</td>\n",
       "      <td>-0.223241</td>\n",
       "      <td>0.563419</td>\n",
       "      <td>3.0</td>\n",
       "    </tr>\n",
       "    <tr>\n",
       "      <th>2014-01-05</th>\n",
       "      <td>-1.105205</td>\n",
       "      <td>1.904528</td>\n",
       "      <td>0.083606</td>\n",
       "      <td>0.004600</td>\n",
       "      <td>4.0</td>\n",
       "    </tr>\n",
       "    <tr>\n",
       "      <th>2014-01-06</th>\n",
       "      <td>-1.222064</td>\n",
       "      <td>-2.305866</td>\n",
       "      <td>0.254411</td>\n",
       "      <td>-0.237221</td>\n",
       "      <td>5.0</td>\n",
       "    </tr>\n",
       "  </tbody>\n",
       "</table>\n",
       "</div>"
      ],
      "text/plain": [
       "                   A         B         C         D    F\n",
       "2014-01-01  2.001162  0.255463 -0.291282 -0.620007  NaN\n",
       "2014-01-02  0.141413  0.577172  0.635464 -1.700828  1.0\n",
       "2014-01-03 -0.077065  0.982297 -0.488085 -1.104606  2.0\n",
       "2014-01-04 -0.156456  0.997146 -0.223241  0.563419  3.0\n",
       "2014-01-05 -1.105205  1.904528  0.083606  0.004600  4.0\n",
       "2014-01-06 -1.222064 -2.305866  0.254411 -0.237221  5.0"
      ]
     },
     "execution_count": 65,
     "metadata": {},
     "output_type": "execute_result"
    }
   ],
   "source": [
    "df"
   ]
  },
  {
   "cell_type": "code",
   "execution_count": 66,
   "metadata": {},
   "outputs": [
    {
     "data": {
      "text/html": [
       "<div>\n",
       "<style scoped>\n",
       "    .dataframe tbody tr th:only-of-type {\n",
       "        vertical-align: middle;\n",
       "    }\n",
       "\n",
       "    .dataframe tbody tr th {\n",
       "        vertical-align: top;\n",
       "    }\n",
       "\n",
       "    .dataframe thead th {\n",
       "        text-align: right;\n",
       "    }\n",
       "</style>\n",
       "<table border=\"1\" class=\"dataframe\">\n",
       "  <thead>\n",
       "    <tr style=\"text-align: right;\">\n",
       "      <th></th>\n",
       "      <th>0</th>\n",
       "      <th>1</th>\n",
       "      <th>2</th>\n",
       "      <th>3</th>\n",
       "    </tr>\n",
       "  </thead>\n",
       "  <tbody>\n",
       "    <tr>\n",
       "      <th>0</th>\n",
       "      <td>1.373259</td>\n",
       "      <td>-0.179688</td>\n",
       "      <td>1.541151</td>\n",
       "      <td>1.374811</td>\n",
       "    </tr>\n",
       "    <tr>\n",
       "      <th>1</th>\n",
       "      <td>-0.815034</td>\n",
       "      <td>0.395768</td>\n",
       "      <td>0.389880</td>\n",
       "      <td>-0.177643</td>\n",
       "    </tr>\n",
       "    <tr>\n",
       "      <th>2</th>\n",
       "      <td>-1.595841</td>\n",
       "      <td>2.081599</td>\n",
       "      <td>0.076330</td>\n",
       "      <td>-1.070772</td>\n",
       "    </tr>\n",
       "    <tr>\n",
       "      <th>3</th>\n",
       "      <td>1.351722</td>\n",
       "      <td>-1.251974</td>\n",
       "      <td>0.165634</td>\n",
       "      <td>0.212216</td>\n",
       "    </tr>\n",
       "    <tr>\n",
       "      <th>4</th>\n",
       "      <td>-0.810652</td>\n",
       "      <td>-0.821258</td>\n",
       "      <td>0.068416</td>\n",
       "      <td>-0.262998</td>\n",
       "    </tr>\n",
       "    <tr>\n",
       "      <th>5</th>\n",
       "      <td>-0.597382</td>\n",
       "      <td>0.519779</td>\n",
       "      <td>0.727909</td>\n",
       "      <td>1.999664</td>\n",
       "    </tr>\n",
       "    <tr>\n",
       "      <th>6</th>\n",
       "      <td>-0.778571</td>\n",
       "      <td>0.143252</td>\n",
       "      <td>0.782870</td>\n",
       "      <td>0.952536</td>\n",
       "    </tr>\n",
       "    <tr>\n",
       "      <th>7</th>\n",
       "      <td>-1.380372</td>\n",
       "      <td>1.839396</td>\n",
       "      <td>-0.973949</td>\n",
       "      <td>-0.148766</td>\n",
       "    </tr>\n",
       "    <tr>\n",
       "      <th>8</th>\n",
       "      <td>-1.579588</td>\n",
       "      <td>-1.332557</td>\n",
       "      <td>-0.028099</td>\n",
       "      <td>1.746201</td>\n",
       "    </tr>\n",
       "    <tr>\n",
       "      <th>9</th>\n",
       "      <td>-0.221895</td>\n",
       "      <td>0.830211</td>\n",
       "      <td>2.286042</td>\n",
       "      <td>1.626318</td>\n",
       "    </tr>\n",
       "  </tbody>\n",
       "</table>\n",
       "</div>"
      ],
      "text/plain": [
       "          0         1         2         3\n",
       "0  1.373259 -0.179688  1.541151  1.374811\n",
       "1 -0.815034  0.395768  0.389880 -0.177643\n",
       "2 -1.595841  2.081599  0.076330 -1.070772\n",
       "3  1.351722 -1.251974  0.165634  0.212216\n",
       "4 -0.810652 -0.821258  0.068416 -0.262998\n",
       "5 -0.597382  0.519779  0.727909  1.999664\n",
       "6 -0.778571  0.143252  0.782870  0.952536\n",
       "7 -1.380372  1.839396 -0.973949 -0.148766\n",
       "8 -1.579588 -1.332557 -0.028099  1.746201\n",
       "9 -0.221895  0.830211  2.286042  1.626318"
      ]
     },
     "execution_count": 66,
     "metadata": {},
     "output_type": "execute_result"
    }
   ],
   "source": [
    "# concatenating pandas objects together\n",
    "df = pd.DataFrame(np.random.randn(10,4))\n",
    "df"
   ]
  },
  {
   "cell_type": "code",
   "execution_count": 67,
   "metadata": {},
   "outputs": [
    {
     "name": "stdout",
     "output_type": "stream",
     "text": [
      "          0         1         2         3\n",
      "0  1.373259 -0.179688  1.541151  1.374811\n",
      "1 -0.815034  0.395768  0.389880 -0.177643\n",
      "2 -1.595841  2.081599  0.076330 -1.070772\n",
      "          0         1         2         3\n",
      "3  1.351722 -1.251974  0.165634  0.212216\n",
      "4 -0.810652 -0.821258  0.068416 -0.262998\n",
      "5 -0.597382  0.519779  0.727909  1.999664\n",
      "6 -0.778571  0.143252  0.782870  0.952536\n",
      "          0         1         2         3\n",
      "7 -1.380372  1.839396 -0.973949 -0.148766\n",
      "8 -1.579588 -1.332557 -0.028099  1.746201\n",
      "9 -0.221895  0.830211  2.286042  1.626318\n"
     ]
    }
   ],
   "source": [
    "# break into pieces\n",
    "piece_1 = df[:3]\n",
    "piece_2 = df[3:7]\n",
    "piece_3 = df[7:]\n",
    "print(piece_1)\n",
    "print(piece_2)\n",
    "print(piece_3)"
   ]
  },
  {
   "cell_type": "code",
   "execution_count": 68,
   "metadata": {},
   "outputs": [
    {
     "data": {
      "text/html": [
       "<div>\n",
       "<style scoped>\n",
       "    .dataframe tbody tr th:only-of-type {\n",
       "        vertical-align: middle;\n",
       "    }\n",
       "\n",
       "    .dataframe tbody tr th {\n",
       "        vertical-align: top;\n",
       "    }\n",
       "\n",
       "    .dataframe thead th {\n",
       "        text-align: right;\n",
       "    }\n",
       "</style>\n",
       "<table border=\"1\" class=\"dataframe\">\n",
       "  <thead>\n",
       "    <tr style=\"text-align: right;\">\n",
       "      <th></th>\n",
       "      <th>0</th>\n",
       "      <th>1</th>\n",
       "      <th>2</th>\n",
       "      <th>3</th>\n",
       "    </tr>\n",
       "  </thead>\n",
       "  <tbody>\n",
       "    <tr>\n",
       "      <th>0</th>\n",
       "      <td>1.373259</td>\n",
       "      <td>-0.179688</td>\n",
       "      <td>1.541151</td>\n",
       "      <td>1.374811</td>\n",
       "    </tr>\n",
       "    <tr>\n",
       "      <th>1</th>\n",
       "      <td>-0.815034</td>\n",
       "      <td>0.395768</td>\n",
       "      <td>0.389880</td>\n",
       "      <td>-0.177643</td>\n",
       "    </tr>\n",
       "    <tr>\n",
       "      <th>2</th>\n",
       "      <td>-1.595841</td>\n",
       "      <td>2.081599</td>\n",
       "      <td>0.076330</td>\n",
       "      <td>-1.070772</td>\n",
       "    </tr>\n",
       "    <tr>\n",
       "      <th>3</th>\n",
       "      <td>1.351722</td>\n",
       "      <td>-1.251974</td>\n",
       "      <td>0.165634</td>\n",
       "      <td>0.212216</td>\n",
       "    </tr>\n",
       "    <tr>\n",
       "      <th>4</th>\n",
       "      <td>-0.810652</td>\n",
       "      <td>-0.821258</td>\n",
       "      <td>0.068416</td>\n",
       "      <td>-0.262998</td>\n",
       "    </tr>\n",
       "    <tr>\n",
       "      <th>5</th>\n",
       "      <td>-0.597382</td>\n",
       "      <td>0.519779</td>\n",
       "      <td>0.727909</td>\n",
       "      <td>1.999664</td>\n",
       "    </tr>\n",
       "    <tr>\n",
       "      <th>6</th>\n",
       "      <td>-0.778571</td>\n",
       "      <td>0.143252</td>\n",
       "      <td>0.782870</td>\n",
       "      <td>0.952536</td>\n",
       "    </tr>\n",
       "    <tr>\n",
       "      <th>7</th>\n",
       "      <td>-1.380372</td>\n",
       "      <td>1.839396</td>\n",
       "      <td>-0.973949</td>\n",
       "      <td>-0.148766</td>\n",
       "    </tr>\n",
       "    <tr>\n",
       "      <th>8</th>\n",
       "      <td>-1.579588</td>\n",
       "      <td>-1.332557</td>\n",
       "      <td>-0.028099</td>\n",
       "      <td>1.746201</td>\n",
       "    </tr>\n",
       "    <tr>\n",
       "      <th>9</th>\n",
       "      <td>-0.221895</td>\n",
       "      <td>0.830211</td>\n",
       "      <td>2.286042</td>\n",
       "      <td>1.626318</td>\n",
       "    </tr>\n",
       "  </tbody>\n",
       "</table>\n",
       "</div>"
      ],
      "text/plain": [
       "          0         1         2         3\n",
       "0  1.373259 -0.179688  1.541151  1.374811\n",
       "1 -0.815034  0.395768  0.389880 -0.177643\n",
       "2 -1.595841  2.081599  0.076330 -1.070772\n",
       "3  1.351722 -1.251974  0.165634  0.212216\n",
       "4 -0.810652 -0.821258  0.068416 -0.262998\n",
       "5 -0.597382  0.519779  0.727909  1.999664\n",
       "6 -0.778571  0.143252  0.782870  0.952536\n",
       "7 -1.380372  1.839396 -0.973949 -0.148766\n",
       "8 -1.579588 -1.332557 -0.028099  1.746201\n",
       "9 -0.221895  0.830211  2.286042  1.626318"
      ]
     },
     "execution_count": 68,
     "metadata": {},
     "output_type": "execute_result"
    }
   ],
   "source": [
    "pd.concat([piece_1, piece_2, piece_3])"
   ]
  },
  {
   "cell_type": "code",
   "execution_count": 69,
   "metadata": {},
   "outputs": [
    {
     "data": {
      "text/html": [
       "<div>\n",
       "<style scoped>\n",
       "    .dataframe tbody tr th:only-of-type {\n",
       "        vertical-align: middle;\n",
       "    }\n",
       "\n",
       "    .dataframe tbody tr th {\n",
       "        vertical-align: top;\n",
       "    }\n",
       "\n",
       "    .dataframe thead th {\n",
       "        text-align: right;\n",
       "    }\n",
       "</style>\n",
       "<table border=\"1\" class=\"dataframe\">\n",
       "  <thead>\n",
       "    <tr style=\"text-align: right;\">\n",
       "      <th></th>\n",
       "      <th>0</th>\n",
       "      <th>1</th>\n",
       "      <th>2</th>\n",
       "      <th>3</th>\n",
       "    </tr>\n",
       "  </thead>\n",
       "  <tbody>\n",
       "    <tr>\n",
       "      <th>0</th>\n",
       "      <td>1.373259</td>\n",
       "      <td>-0.179688</td>\n",
       "      <td>1.541151</td>\n",
       "      <td>1.374811</td>\n",
       "    </tr>\n",
       "    <tr>\n",
       "      <th>1</th>\n",
       "      <td>-0.815034</td>\n",
       "      <td>0.395768</td>\n",
       "      <td>0.389880</td>\n",
       "      <td>-0.177643</td>\n",
       "    </tr>\n",
       "    <tr>\n",
       "      <th>2</th>\n",
       "      <td>-1.595841</td>\n",
       "      <td>2.081599</td>\n",
       "      <td>0.076330</td>\n",
       "      <td>-1.070772</td>\n",
       "    </tr>\n",
       "    <tr>\n",
       "      <th>3</th>\n",
       "      <td>1.351722</td>\n",
       "      <td>-1.251974</td>\n",
       "      <td>0.165634</td>\n",
       "      <td>0.212216</td>\n",
       "    </tr>\n",
       "    <tr>\n",
       "      <th>4</th>\n",
       "      <td>-0.810652</td>\n",
       "      <td>-0.821258</td>\n",
       "      <td>0.068416</td>\n",
       "      <td>-0.262998</td>\n",
       "    </tr>\n",
       "    <tr>\n",
       "      <th>5</th>\n",
       "      <td>-0.597382</td>\n",
       "      <td>0.519779</td>\n",
       "      <td>0.727909</td>\n",
       "      <td>1.999664</td>\n",
       "    </tr>\n",
       "    <tr>\n",
       "      <th>6</th>\n",
       "      <td>-0.778571</td>\n",
       "      <td>0.143252</td>\n",
       "      <td>0.782870</td>\n",
       "      <td>0.952536</td>\n",
       "    </tr>\n",
       "  </tbody>\n",
       "</table>\n",
       "</div>"
      ],
      "text/plain": [
       "          0         1         2         3\n",
       "0  1.373259 -0.179688  1.541151  1.374811\n",
       "1 -0.815034  0.395768  0.389880 -0.177643\n",
       "2 -1.595841  2.081599  0.076330 -1.070772\n",
       "3  1.351722 -1.251974  0.165634  0.212216\n",
       "4 -0.810652 -0.821258  0.068416 -0.262998\n",
       "5 -0.597382  0.519779  0.727909  1.999664\n",
       "6 -0.778571  0.143252  0.782870  0.952536"
      ]
     },
     "execution_count": 69,
     "metadata": {},
     "output_type": "execute_result"
    }
   ],
   "source": [
    "# Also can \"Join\" and \"Append\"\n",
    "piece_1.append(piece_2)"
   ]
  },
  {
   "cell_type": "code",
   "execution_count": 70,
   "metadata": {},
   "outputs": [
    {
     "data": {
      "text/html": [
       "<div>\n",
       "<style scoped>\n",
       "    .dataframe tbody tr th:only-of-type {\n",
       "        vertical-align: middle;\n",
       "    }\n",
       "\n",
       "    .dataframe tbody tr th {\n",
       "        vertical-align: top;\n",
       "    }\n",
       "\n",
       "    .dataframe thead th {\n",
       "        text-align: right;\n",
       "    }\n",
       "</style>\n",
       "<table border=\"1\" class=\"dataframe\">\n",
       "  <thead>\n",
       "    <tr style=\"text-align: right;\">\n",
       "      <th></th>\n",
       "      <th>0</th>\n",
       "      <th>1</th>\n",
       "      <th>2</th>\n",
       "      <th>3</th>\n",
       "      <th>4</th>\n",
       "      <th>5</th>\n",
       "      <th>6</th>\n",
       "    </tr>\n",
       "  </thead>\n",
       "  <tbody>\n",
       "    <tr>\n",
       "      <th>0</th>\n",
       "      <td>1.373259</td>\n",
       "      <td>-0.815034</td>\n",
       "      <td>-1.595841</td>\n",
       "      <td>1.351722</td>\n",
       "      <td>-0.810652</td>\n",
       "      <td>-0.597382</td>\n",
       "      <td>-0.778571</td>\n",
       "    </tr>\n",
       "    <tr>\n",
       "      <th>1</th>\n",
       "      <td>-0.179688</td>\n",
       "      <td>0.395768</td>\n",
       "      <td>2.081599</td>\n",
       "      <td>-1.251974</td>\n",
       "      <td>-0.821258</td>\n",
       "      <td>0.519779</td>\n",
       "      <td>0.143252</td>\n",
       "    </tr>\n",
       "    <tr>\n",
       "      <th>2</th>\n",
       "      <td>1.541151</td>\n",
       "      <td>0.389880</td>\n",
       "      <td>0.076330</td>\n",
       "      <td>0.165634</td>\n",
       "      <td>0.068416</td>\n",
       "      <td>0.727909</td>\n",
       "      <td>0.782870</td>\n",
       "    </tr>\n",
       "    <tr>\n",
       "      <th>3</th>\n",
       "      <td>1.374811</td>\n",
       "      <td>-0.177643</td>\n",
       "      <td>-1.070772</td>\n",
       "      <td>0.212216</td>\n",
       "      <td>-0.262998</td>\n",
       "      <td>1.999664</td>\n",
       "      <td>0.952536</td>\n",
       "    </tr>\n",
       "  </tbody>\n",
       "</table>\n",
       "</div>"
      ],
      "text/plain": [
       "          0         1         2         3         4         5         6\n",
       "0  1.373259 -0.815034 -1.595841  1.351722 -0.810652 -0.597382 -0.778571\n",
       "1 -0.179688  0.395768  2.081599 -1.251974 -0.821258  0.519779  0.143252\n",
       "2  1.541151  0.389880  0.076330  0.165634  0.068416  0.727909  0.782870\n",
       "3  1.374811 -0.177643 -1.070772  0.212216 -0.262998  1.999664  0.952536"
      ]
     },
     "execution_count": 70,
     "metadata": {},
     "output_type": "execute_result"
    }
   ],
   "source": [
    "piece_1.T.join(piece_2.T)"
   ]
  },
  {
   "cell_type": "markdown",
   "metadata": {},
   "source": [
    "### Grouping"
   ]
  },
  {
   "cell_type": "code",
   "execution_count": 74,
   "metadata": {},
   "outputs": [
    {
     "data": {
      "text/html": [
       "<div>\n",
       "<style scoped>\n",
       "    .dataframe tbody tr th:only-of-type {\n",
       "        vertical-align: middle;\n",
       "    }\n",
       "\n",
       "    .dataframe tbody tr th {\n",
       "        vertical-align: top;\n",
       "    }\n",
       "\n",
       "    .dataframe thead th {\n",
       "        text-align: right;\n",
       "    }\n",
       "</style>\n",
       "<table border=\"1\" class=\"dataframe\">\n",
       "  <thead>\n",
       "    <tr style=\"text-align: right;\">\n",
       "      <th></th>\n",
       "      <th>A</th>\n",
       "      <th>B</th>\n",
       "      <th>C</th>\n",
       "      <th>D</th>\n",
       "    </tr>\n",
       "  </thead>\n",
       "  <tbody>\n",
       "    <tr>\n",
       "      <th>0</th>\n",
       "      <td>foo</td>\n",
       "      <td>one</td>\n",
       "      <td>1.102376</td>\n",
       "      <td>1.201159</td>\n",
       "    </tr>\n",
       "    <tr>\n",
       "      <th>1</th>\n",
       "      <td>bar</td>\n",
       "      <td>one</td>\n",
       "      <td>0.312029</td>\n",
       "      <td>1.016794</td>\n",
       "    </tr>\n",
       "    <tr>\n",
       "      <th>2</th>\n",
       "      <td>foo</td>\n",
       "      <td>two</td>\n",
       "      <td>-0.788709</td>\n",
       "      <td>-0.452032</td>\n",
       "    </tr>\n",
       "    <tr>\n",
       "      <th>3</th>\n",
       "      <td>bar</td>\n",
       "      <td>three</td>\n",
       "      <td>-0.920740</td>\n",
       "      <td>0.764944</td>\n",
       "    </tr>\n",
       "    <tr>\n",
       "      <th>4</th>\n",
       "      <td>foo</td>\n",
       "      <td>two</td>\n",
       "      <td>0.016155</td>\n",
       "      <td>1.186708</td>\n",
       "    </tr>\n",
       "    <tr>\n",
       "      <th>5</th>\n",
       "      <td>bar</td>\n",
       "      <td>two</td>\n",
       "      <td>-2.468093</td>\n",
       "      <td>1.147568</td>\n",
       "    </tr>\n",
       "    <tr>\n",
       "      <th>6</th>\n",
       "      <td>foo</td>\n",
       "      <td>one</td>\n",
       "      <td>0.344276</td>\n",
       "      <td>-1.259331</td>\n",
       "    </tr>\n",
       "    <tr>\n",
       "      <th>7</th>\n",
       "      <td>foo</td>\n",
       "      <td>three</td>\n",
       "      <td>-0.070904</td>\n",
       "      <td>-1.072183</td>\n",
       "    </tr>\n",
       "  </tbody>\n",
       "</table>\n",
       "</div>"
      ],
      "text/plain": [
       "     A      B         C         D\n",
       "0  foo    one  1.102376  1.201159\n",
       "1  bar    one  0.312029  1.016794\n",
       "2  foo    two -0.788709 -0.452032\n",
       "3  bar  three -0.920740  0.764944\n",
       "4  foo    two  0.016155  1.186708\n",
       "5  bar    two -2.468093  1.147568\n",
       "6  foo    one  0.344276 -1.259331\n",
       "7  foo  three -0.070904 -1.072183"
      ]
     },
     "execution_count": 74,
     "metadata": {},
     "output_type": "execute_result"
    }
   ],
   "source": [
    "df = pd.DataFrame({'A' : ['foo', 'bar', 'foo', 'bar',\n",
    "                          'foo', 'bar', 'foo', 'foo'],\n",
    "                   'B' : ['one', 'one', 'two', 'three',\n",
    "                          'two', 'two', 'one', 'three'],\n",
    "                   'C' : np.random.randn(8),\n",
    "                   'D' : np.random.randn(8)})\n",
    "df"
   ]
  },
  {
   "cell_type": "code",
   "execution_count": 76,
   "metadata": {},
   "outputs": [
    {
     "data": {
      "text/html": [
       "<div>\n",
       "<style scoped>\n",
       "    .dataframe tbody tr th:only-of-type {\n",
       "        vertical-align: middle;\n",
       "    }\n",
       "\n",
       "    .dataframe tbody tr th {\n",
       "        vertical-align: top;\n",
       "    }\n",
       "\n",
       "    .dataframe thead th {\n",
       "        text-align: right;\n",
       "    }\n",
       "</style>\n",
       "<table border=\"1\" class=\"dataframe\">\n",
       "  <thead>\n",
       "    <tr style=\"text-align: right;\">\n",
       "      <th></th>\n",
       "      <th></th>\n",
       "      <th>C</th>\n",
       "      <th>D</th>\n",
       "    </tr>\n",
       "    <tr>\n",
       "      <th>A</th>\n",
       "      <th>B</th>\n",
       "      <th></th>\n",
       "      <th></th>\n",
       "    </tr>\n",
       "  </thead>\n",
       "  <tbody>\n",
       "    <tr>\n",
       "      <th rowspan=\"3\" valign=\"top\">bar</th>\n",
       "      <th>one</th>\n",
       "      <td>0.312029</td>\n",
       "      <td>1.016794</td>\n",
       "    </tr>\n",
       "    <tr>\n",
       "      <th>three</th>\n",
       "      <td>-0.920740</td>\n",
       "      <td>0.764944</td>\n",
       "    </tr>\n",
       "    <tr>\n",
       "      <th>two</th>\n",
       "      <td>-2.468093</td>\n",
       "      <td>1.147568</td>\n",
       "    </tr>\n",
       "    <tr>\n",
       "      <th rowspan=\"3\" valign=\"top\">foo</th>\n",
       "      <th>one</th>\n",
       "      <td>1.446652</td>\n",
       "      <td>-0.058172</td>\n",
       "    </tr>\n",
       "    <tr>\n",
       "      <th>three</th>\n",
       "      <td>-0.070904</td>\n",
       "      <td>-1.072183</td>\n",
       "    </tr>\n",
       "    <tr>\n",
       "      <th>two</th>\n",
       "      <td>-0.772554</td>\n",
       "      <td>0.734675</td>\n",
       "    </tr>\n",
       "  </tbody>\n",
       "</table>\n",
       "</div>"
      ],
      "text/plain": [
       "                  C         D\n",
       "A   B                        \n",
       "bar one    0.312029  1.016794\n",
       "    three -0.920740  0.764944\n",
       "    two   -2.468093  1.147568\n",
       "foo one    1.446652 -0.058172\n",
       "    three -0.070904 -1.072183\n",
       "    two   -0.772554  0.734675"
      ]
     },
     "execution_count": 76,
     "metadata": {},
     "output_type": "execute_result"
    }
   ],
   "source": [
    "grouped_sum = df.groupby(['A','B']).sum()\n",
    "grouped_sum"
   ]
  },
  {
   "cell_type": "markdown",
   "metadata": {},
   "source": [
    "### Reshaping"
   ]
  },
  {
   "cell_type": "code",
   "execution_count": 77,
   "metadata": {},
   "outputs": [],
   "source": [
    "# stack or unstack levels"
   ]
  },
  {
   "cell_type": "code",
   "execution_count": 79,
   "metadata": {},
   "outputs": [
    {
     "data": {
      "text/html": [
       "<div>\n",
       "<style scoped>\n",
       "    .dataframe tbody tr th:only-of-type {\n",
       "        vertical-align: middle;\n",
       "    }\n",
       "\n",
       "    .dataframe tbody tr th {\n",
       "        vertical-align: top;\n",
       "    }\n",
       "\n",
       "    .dataframe thead tr th {\n",
       "        text-align: left;\n",
       "    }\n",
       "\n",
       "    .dataframe thead tr:last-of-type th {\n",
       "        text-align: right;\n",
       "    }\n",
       "</style>\n",
       "<table border=\"1\" class=\"dataframe\">\n",
       "  <thead>\n",
       "    <tr>\n",
       "      <th></th>\n",
       "      <th colspan=\"3\" halign=\"left\">C</th>\n",
       "      <th colspan=\"3\" halign=\"left\">D</th>\n",
       "    </tr>\n",
       "    <tr>\n",
       "      <th>B</th>\n",
       "      <th>one</th>\n",
       "      <th>three</th>\n",
       "      <th>two</th>\n",
       "      <th>one</th>\n",
       "      <th>three</th>\n",
       "      <th>two</th>\n",
       "    </tr>\n",
       "    <tr>\n",
       "      <th>A</th>\n",
       "      <th></th>\n",
       "      <th></th>\n",
       "      <th></th>\n",
       "      <th></th>\n",
       "      <th></th>\n",
       "      <th></th>\n",
       "    </tr>\n",
       "  </thead>\n",
       "  <tbody>\n",
       "    <tr>\n",
       "      <th>bar</th>\n",
       "      <td>0.312029</td>\n",
       "      <td>-0.920740</td>\n",
       "      <td>-2.468093</td>\n",
       "      <td>1.016794</td>\n",
       "      <td>0.764944</td>\n",
       "      <td>1.147568</td>\n",
       "    </tr>\n",
       "    <tr>\n",
       "      <th>foo</th>\n",
       "      <td>1.446652</td>\n",
       "      <td>-0.070904</td>\n",
       "      <td>-0.772554</td>\n",
       "      <td>-0.058172</td>\n",
       "      <td>-1.072183</td>\n",
       "      <td>0.734675</td>\n",
       "    </tr>\n",
       "  </tbody>\n",
       "</table>\n",
       "</div>"
      ],
      "text/plain": [
       "            C                             D                    \n",
       "B         one     three       two       one     three       two\n",
       "A                                                              \n",
       "bar  0.312029 -0.920740 -2.468093  1.016794  0.764944  1.147568\n",
       "foo  1.446652 -0.070904 -0.772554 -0.058172 -1.072183  0.734675"
      ]
     },
     "execution_count": 79,
     "metadata": {},
     "output_type": "execute_result"
    }
   ],
   "source": [
    "unstacked = grouped_sum.unstack('B')\n",
    "unstacked"
   ]
  },
  {
   "cell_type": "code",
   "execution_count": 80,
   "metadata": {},
   "outputs": [],
   "source": [
    "# Pivot Tables"
   ]
  },
  {
   "cell_type": "code",
   "execution_count": 81,
   "metadata": {},
   "outputs": [
    {
     "data": {
      "text/html": [
       "<div>\n",
       "<style scoped>\n",
       "    .dataframe tbody tr th:only-of-type {\n",
       "        vertical-align: middle;\n",
       "    }\n",
       "\n",
       "    .dataframe tbody tr th {\n",
       "        vertical-align: top;\n",
       "    }\n",
       "\n",
       "    .dataframe thead tr th {\n",
       "        text-align: left;\n",
       "    }\n",
       "\n",
       "    .dataframe thead tr:last-of-type th {\n",
       "        text-align: right;\n",
       "    }\n",
       "</style>\n",
       "<table border=\"1\" class=\"dataframe\">\n",
       "  <thead>\n",
       "    <tr>\n",
       "      <th></th>\n",
       "      <th colspan=\"3\" halign=\"left\">C</th>\n",
       "      <th colspan=\"3\" halign=\"left\">D</th>\n",
       "    </tr>\n",
       "    <tr>\n",
       "      <th>B</th>\n",
       "      <th>one</th>\n",
       "      <th>three</th>\n",
       "      <th>two</th>\n",
       "      <th>one</th>\n",
       "      <th>three</th>\n",
       "      <th>two</th>\n",
       "    </tr>\n",
       "    <tr>\n",
       "      <th>A</th>\n",
       "      <th></th>\n",
       "      <th></th>\n",
       "      <th></th>\n",
       "      <th></th>\n",
       "      <th></th>\n",
       "      <th></th>\n",
       "    </tr>\n",
       "  </thead>\n",
       "  <tbody>\n",
       "    <tr>\n",
       "      <th>bar</th>\n",
       "      <td>0.312029</td>\n",
       "      <td>-0.920740</td>\n",
       "      <td>-2.468093</td>\n",
       "      <td>1.016794</td>\n",
       "      <td>0.764944</td>\n",
       "      <td>1.147568</td>\n",
       "    </tr>\n",
       "    <tr>\n",
       "      <th>foo</th>\n",
       "      <td>0.723326</td>\n",
       "      <td>-0.070904</td>\n",
       "      <td>-0.386277</td>\n",
       "      <td>-0.029086</td>\n",
       "      <td>-1.072183</td>\n",
       "      <td>0.367338</td>\n",
       "    </tr>\n",
       "  </tbody>\n",
       "</table>\n",
       "</div>"
      ],
      "text/plain": [
       "            C                             D                    \n",
       "B         one     three       two       one     three       two\n",
       "A                                                              \n",
       "bar  0.312029 -0.920740 -2.468093  1.016794  0.764944  1.147568\n",
       "foo  0.723326 -0.070904 -0.386277 -0.029086 -1.072183  0.367338"
      ]
     },
     "execution_count": 81,
     "metadata": {},
     "output_type": "execute_result"
    }
   ],
   "source": [
    "pd.pivot_table(df,values=['C','D'],index=['A'],columns=['B'])"
   ]
  },
  {
   "cell_type": "markdown",
   "metadata": {},
   "source": [
    "### Time Series"
   ]
  },
  {
   "cell_type": "code",
   "execution_count": 82,
   "metadata": {},
   "outputs": [],
   "source": [
    "import pandas as pd\n",
    "import numpy as np"
   ]
  },
  {
   "cell_type": "code",
   "execution_count": 83,
   "metadata": {},
   "outputs": [
    {
     "data": {
      "text/plain": [
       "DatetimeIndex(['2014-01-01 00:00:00', '2014-01-01 00:00:01',\n",
       "               '2014-01-01 00:00:02', '2014-01-01 00:00:03',\n",
       "               '2014-01-01 00:00:04', '2014-01-01 00:00:05',\n",
       "               '2014-01-01 00:00:06', '2014-01-01 00:00:07',\n",
       "               '2014-01-01 00:00:08', '2014-01-01 00:00:09',\n",
       "               '2014-01-01 00:00:10', '2014-01-01 00:00:11',\n",
       "               '2014-01-01 00:00:12', '2014-01-01 00:00:13',\n",
       "               '2014-01-01 00:00:14', '2014-01-01 00:00:15',\n",
       "               '2014-01-01 00:00:16', '2014-01-01 00:00:17',\n",
       "               '2014-01-01 00:00:18', '2014-01-01 00:00:19',\n",
       "               '2014-01-01 00:00:20', '2014-01-01 00:00:21',\n",
       "               '2014-01-01 00:00:22', '2014-01-01 00:00:23',\n",
       "               '2014-01-01 00:00:24', '2014-01-01 00:00:25',\n",
       "               '2014-01-01 00:00:26', '2014-01-01 00:00:27',\n",
       "               '2014-01-01 00:00:28', '2014-01-01 00:00:29',\n",
       "               '2014-01-01 00:00:30', '2014-01-01 00:00:31',\n",
       "               '2014-01-01 00:00:32', '2014-01-01 00:00:33',\n",
       "               '2014-01-01 00:00:34', '2014-01-01 00:00:35',\n",
       "               '2014-01-01 00:00:36', '2014-01-01 00:00:37',\n",
       "               '2014-01-01 00:00:38', '2014-01-01 00:00:39',\n",
       "               '2014-01-01 00:00:40', '2014-01-01 00:00:41',\n",
       "               '2014-01-01 00:00:42', '2014-01-01 00:00:43',\n",
       "               '2014-01-01 00:00:44', '2014-01-01 00:00:45',\n",
       "               '2014-01-01 00:00:46', '2014-01-01 00:00:47',\n",
       "               '2014-01-01 00:00:48', '2014-01-01 00:00:49',\n",
       "               '2014-01-01 00:00:50', '2014-01-01 00:00:51',\n",
       "               '2014-01-01 00:00:52', '2014-01-01 00:00:53',\n",
       "               '2014-01-01 00:00:54', '2014-01-01 00:00:55',\n",
       "               '2014-01-01 00:00:56', '2014-01-01 00:00:57',\n",
       "               '2014-01-01 00:00:58', '2014-01-01 00:00:59',\n",
       "               '2014-01-01 00:01:00', '2014-01-01 00:01:01',\n",
       "               '2014-01-01 00:01:02', '2014-01-01 00:01:03',\n",
       "               '2014-01-01 00:01:04', '2014-01-01 00:01:05',\n",
       "               '2014-01-01 00:01:06', '2014-01-01 00:01:07',\n",
       "               '2014-01-01 00:01:08', '2014-01-01 00:01:09',\n",
       "               '2014-01-01 00:01:10', '2014-01-01 00:01:11',\n",
       "               '2014-01-01 00:01:12', '2014-01-01 00:01:13',\n",
       "               '2014-01-01 00:01:14', '2014-01-01 00:01:15',\n",
       "               '2014-01-01 00:01:16', '2014-01-01 00:01:17',\n",
       "               '2014-01-01 00:01:18', '2014-01-01 00:01:19',\n",
       "               '2014-01-01 00:01:20', '2014-01-01 00:01:21',\n",
       "               '2014-01-01 00:01:22', '2014-01-01 00:01:23',\n",
       "               '2014-01-01 00:01:24', '2014-01-01 00:01:25',\n",
       "               '2014-01-01 00:01:26', '2014-01-01 00:01:27',\n",
       "               '2014-01-01 00:01:28', '2014-01-01 00:01:29',\n",
       "               '2014-01-01 00:01:30', '2014-01-01 00:01:31',\n",
       "               '2014-01-01 00:01:32', '2014-01-01 00:01:33',\n",
       "               '2014-01-01 00:01:34', '2014-01-01 00:01:35',\n",
       "               '2014-01-01 00:01:36', '2014-01-01 00:01:37',\n",
       "               '2014-01-01 00:01:38', '2014-01-01 00:01:39'],\n",
       "              dtype='datetime64[ns]', freq='S')"
      ]
     },
     "execution_count": 83,
     "metadata": {},
     "output_type": "execute_result"
    }
   ],
   "source": [
    "# 100 seconds starting on Jan 1st\n",
    "rng = pd.date_range('1/1/2014',periods=100,freq='S')\n",
    "# rng"
   ]
  },
  {
   "cell_type": "code",
   "execution_count": 84,
   "metadata": {},
   "outputs": [
    {
     "data": {
      "text/plain": [
       "2014-01-01 00:00:00    168\n",
       "2014-01-01 00:00:01    452\n",
       "2014-01-01 00:00:02    180\n",
       "2014-01-01 00:00:03    209\n",
       "2014-01-01 00:00:04    347\n",
       "2014-01-01 00:00:05    405\n",
       "2014-01-01 00:00:06     54\n",
       "2014-01-01 00:00:07    269\n",
       "2014-01-01 00:00:08    374\n",
       "2014-01-01 00:00:09     33\n",
       "2014-01-01 00:00:10     35\n",
       "2014-01-01 00:00:11    217\n",
       "2014-01-01 00:00:12     21\n",
       "2014-01-01 00:00:13    126\n",
       "2014-01-01 00:00:14    122\n",
       "2014-01-01 00:00:15    387\n",
       "2014-01-01 00:00:16    223\n",
       "2014-01-01 00:00:17    272\n",
       "2014-01-01 00:00:18    445\n",
       "2014-01-01 00:00:19    309\n",
       "2014-01-01 00:00:20    274\n",
       "2014-01-01 00:00:21    166\n",
       "2014-01-01 00:00:22    488\n",
       "2014-01-01 00:00:23     75\n",
       "2014-01-01 00:00:24    493\n",
       "2014-01-01 00:00:25    409\n",
       "2014-01-01 00:00:26    337\n",
       "2014-01-01 00:00:27    463\n",
       "2014-01-01 00:00:28    427\n",
       "2014-01-01 00:00:29    292\n",
       "                      ... \n",
       "2014-01-01 00:01:10    361\n",
       "2014-01-01 00:01:11    114\n",
       "2014-01-01 00:01:12    442\n",
       "2014-01-01 00:01:13    390\n",
       "2014-01-01 00:01:14    256\n",
       "2014-01-01 00:01:15    454\n",
       "2014-01-01 00:01:16    407\n",
       "2014-01-01 00:01:17    133\n",
       "2014-01-01 00:01:18    306\n",
       "2014-01-01 00:01:19    418\n",
       "2014-01-01 00:01:20     95\n",
       "2014-01-01 00:01:21    278\n",
       "2014-01-01 00:01:22    408\n",
       "2014-01-01 00:01:23    308\n",
       "2014-01-01 00:01:24     17\n",
       "2014-01-01 00:01:25     75\n",
       "2014-01-01 00:01:26    296\n",
       "2014-01-01 00:01:27    489\n",
       "2014-01-01 00:01:28    211\n",
       "2014-01-01 00:01:29    471\n",
       "2014-01-01 00:01:30    476\n",
       "2014-01-01 00:01:31    298\n",
       "2014-01-01 00:01:32    463\n",
       "2014-01-01 00:01:33    170\n",
       "2014-01-01 00:01:34    345\n",
       "2014-01-01 00:01:35    272\n",
       "2014-01-01 00:01:36    401\n",
       "2014-01-01 00:01:37    324\n",
       "2014-01-01 00:01:38    244\n",
       "2014-01-01 00:01:39     96\n",
       "Freq: S, Length: 100, dtype: int64"
      ]
     },
     "execution_count": 84,
     "metadata": {},
     "output_type": "execute_result"
    }
   ],
   "source": [
    "# give each second a random value\n",
    "ts = pd.Series(np.random.randint(0,500,len(rng)),index=rng)\n",
    "ts"
   ]
  },
  {
   "cell_type": "code",
   "execution_count": 85,
   "metadata": {},
   "outputs": [
    {
     "data": {
      "text/plain": [
       "2014-01-01 00:00:00    274.716667\n",
       "2014-01-01 00:01:00    289.750000\n",
       "Freq: T, dtype: float64"
      ]
     },
     "execution_count": 85,
     "metadata": {},
     "output_type": "execute_result"
    }
   ],
   "source": [
    "# built-in resampling\n",
    "ts.resample('Min').mean()   # resample secondly to 1Minutely"
   ]
  },
  {
   "cell_type": "code",
   "execution_count": null,
   "metadata": {},
   "outputs": [],
   "source": [
    "# Many additional time series features\n",
    "# try hitting tab after the . to see the autocomplete options\n",
    "ts."
   ]
  },
  {
   "cell_type": "markdown",
   "metadata": {},
   "source": [
    "### Plotting"
   ]
  },
  {
   "cell_type": "code",
   "execution_count": 90,
   "metadata": {},
   "outputs": [
    {
     "data": {
      "text/plain": [
       "<matplotlib.axes._subplots.AxesSubplot at 0x11308a908>"
      ]
     },
     "execution_count": 90,
     "metadata": {},
     "output_type": "execute_result"
    },
    {
     "data": {
      "image/png": "[encoded data removed]",
      "text/plain": [
       "<Figure size 432x288 with 1 Axes>"
      ]
     },
     "metadata": {},
     "output_type": "display_data"
    }
   ],
   "source": [
    "ts.plot()"
   ]
  },
  {
   "cell_type": "code",
   "execution_count": 91,
   "metadata": {},
   "outputs": [
    {
     "data": {
      "image/png": "[encoded data removed]",
      "text/plain": [
       "<Figure size 432x288 with 1 Axes>"
      ]
     },
     "metadata": {},
     "output_type": "display_data"
    }
   ],
   "source": [
    "ts.plot();   # note semicolon for cleaner output"
   ]
  },
  {
   "cell_type": "code",
   "execution_count": 100,
   "metadata": {},
   "outputs": [],
   "source": [
    "# Using pandas to make a simple random walker by repeatedly running\n",
    "def randwalk(startdate,points):\n",
    "    ts = pd.Series(np.random.randn(points),index=pd.date_range(startdate, periods=points))\n",
    "    ts = ts.cumsum()\n",
    "    ts.plot();\n",
    "    return(ts)"
   ]
  },
  {
   "cell_type": "code",
   "execution_count": 102,
   "metadata": {},
   "outputs": [
    {
     "data": {
      "image/png": "[encoded data removed]",
      "text/plain": [
       "<Figure size 432x288 with 1 Axes>"
      ]
     },
     "metadata": {},
     "output_type": "display_data"
    }
   ],
   "source": [
    "a=randwalk('1/1/2012',1000)"
   ]
  },
  {
   "cell_type": "code",
   "execution_count": 106,
   "metadata": {},
   "outputs": [
    {
     "data": {
      "image/png": "[encoded data removed]",
      "text/plain": [
       "<Figure size 432x288 with 1 Axes>"
      ]
     },
     "metadata": {},
     "output_type": "display_data"
    }
   ],
   "source": [
    "df = pd.DataFrame(np.random.randn(100,4),\n",
    "                  index=ts.index,\n",
    "                  columns=['A','B','C','D'])\n",
    "df.cumsum().plot();"
   ]
  },
  {
   "cell_type": "markdown",
   "metadata": {},
   "source": [
    "### I/O\n",
    "I/O is straightforward with, for example, __pd.read_csv__ or __df.to_csv__"
   ]
  },
  {
   "cell_type": "markdown",
   "metadata": {},
   "source": [
    "The benefits of open source: Look under x's in __plt__ modules"
   ]
  },
  {
   "cell_type": "code",
   "execution_count": null,
   "metadata": {},
   "outputs": [],
   "source": []
  }
 ],
 "metadata": {
  "kernelspec": {
   "display_name": "Python 3",
   "language": "python",
   "name": "python3"
  },
  "language_info": {
   "codemirror_mode": {
    "name": "ipython",
    "version": 3
   },
   "file_extension": ".py",
   "mimetype": "text/x-python",
   "name": "python",
   "nbconvert_exporter": "python",
   "pygments_lexer": "ipython3",
   "version": "3.6.4"
  }
 },
 "nbformat": 4,
 "nbformat_minor": 2
}
