{
 "cells": [
  {
   "cell_type": "markdown",
   "metadata": {
    "collapsed": true
   },
   "source": [
    "<img src=\"http://imgur.com/1ZcRyrc.png\" style=\"float: left; margin: 20px; height: 55px\">\n",
    "\n",
    "# Web Scraping\n",
    "\n",
    "_Author: Dave Yerrington (SF)_\n",
    "\n",
    "---"
   ]
  },
  {
   "cell_type": "markdown",
   "metadata": {},
   "source": [
    "## This notebook requires Python 2 to run Selenium.\n",
    "\n",
    "### Method 1: \n",
    "\n",
    "Launch Anaconda\n",
    "Switch Applications On from root to Python27\n",
    "Launch Jupyter Notebook\n",
    "Open Python 2 notebook\n",
    "\n",
    "\n",
    "### Method 2: Run Anaconda in a Python 2 Container\n",
    "\n",
    "#### Run bash from the shell command line (if not already in bash)\n",
    "$ bash\n",
    "\n",
    "#### Enter Python 2 container\n",
    "bash-3.2$ source activate python27\n",
    "\n",
    "#### Verify Python Version ####\n",
    "(python27) bash-3.2$ python --version\n",
    "Python 2.7.13 :: Continuum Analytics, Inc.\n",
    "\n",
    "#### Launch Anaconda from the command line in the container\n",
    "(Python27) bash-3.2$ /anaconda/envs/Python27/bin/jupyter_mac.command ; exit;\n",
    "\n",
    "or\n",
    "\n",
    "(Python27) bash-3.2$ /anaconda/envs/Python27/bin/anaconda-navigator\n"
   ]
  },
  {
   "cell_type": "code",
   "execution_count": 2,
   "metadata": {},
   "outputs": [
    {
     "data": {
      "text/plain": [
       "'2.7.13'"
      ]
     },
     "execution_count": 2,
     "metadata": {},
     "output_type": "execute_result"
    }
   ],
   "source": [
    "import platform\n",
    "platform.python_version()"
   ]
  },
  {
   "cell_type": "code",
   "execution_count": 3,
   "metadata": {},
   "outputs": [
    {
     "name": "stdout",
     "output_type": "stream",
     "text": [
      "2.7.13 |Continuum Analytics, Inc.| (default, Dec 20 2016, 23:05:08) \n",
      "[GCC 4.2.1 Compatible Apple LLVM 6.0 (clang-600.0.57)]\n"
     ]
    }
   ],
   "source": [
    "import sys\n",
    "print sys.version"
   ]
  },
  {
   "cell_type": "code",
   "execution_count": 4,
   "metadata": {
    "collapsed": true
   },
   "outputs": [],
   "source": [
    "# test import\n",
    "from selenium import webdriver"
   ]
  },
  {
   "cell_type": "markdown",
   "metadata": {},
   "source": [
    "## Before Class\n",
    "\n",
    "#### Install Selenium\n",
    "\n",
    "Selenium is a headless browser. It allows us to render JavaScript just as a human-navigated browser would.\n",
    "\n",
    "To install Selenium, use one of the following:\n",
    "- **Anaconda:** `conda install -c conda-forge selenium`\n",
    "- **pip:** `pip install selenium`\n",
    "\n",
    "\n",
    "#### Install GeckoDriver\n",
    "\n",
    "You will also need GeckoDriver (this assumes you are using Homebrew for Mac): \n",
    "\n",
    "- ```brew install geckodriver```\n",
    "\n",
    "#### Install Firefox\n",
    "\n",
    "Additionally, you will need to have downloaded the [Firefox browser](https://www.mozilla.org/en-US/firefox/new/?utm_source=google&utm_medium=cpc&utm_campaign=Firefox-Brand-US-GGL-Exact&utm_term=firefox&utm_content=A144_A203_A006336&gclid=Cj0KEQjwnPLKBRC-j7nt1b7OlZwBEiQAv8lMLJUyReT6cPzSYdmEA6uD3YDoieuuuusddgAU7XH6smEaAoje8P8HAQ&gclsrc=aw.ds) for the application in this lesson."
   ]
  },
  {
   "cell_type": "markdown",
   "metadata": {},
   "source": [
    "## Learning Objectives\n",
    "- Revisit how to locate elements on a webpage\n",
    "- Aquire unstructure data from the internet using Beautiful soup.\n",
    "- Discuss limitations associated with simple requests and urllib libraries\n",
    "- Introduce Selenium as a solution, and implement a scraper using selenium"
   ]
  },
  {
   "cell_type": "markdown",
   "metadata": {},
   "source": [
    "## Lesson Guide\n",
    "\n",
    "- [Introduction](#intro)\n",
    "- [Building a web scraper](#building-scraper)\n",
    "- [Retrieving data from the HTML page](#retrieving-data)\n",
    "    - [Retrieving the restaurant names](#retrieving-names)\n",
    "    - [Challenge: Retrieving the restaurant locations](#retrieving-locations)\n",
    "    - [Retrieving the restaurant prices](#retrieving-prices)\n",
    "    - [Retrieving the restaurant number of bookings](#retrieving-bookings)\n",
    "\n",
    "\n",
    "- [Introducting Selenium](#selenium)\n",
    "    - [Running JavaScript before scraping](#selenium-js)\n",
    "    - [Using regex to only get digits](#selenium-regex)\n",
    "    - [Challenge: Use Pandas to create a DataFrame of bookings](#challenge-pandas)\n",
    "    - [Auto-typing using Selenium](#selenium-typing)\n",
    "\n",
    "\n",
    "- [Summary](#summary)"
   ]
  },
  {
   "cell_type": "markdown",
   "metadata": {},
   "source": [
    "<a id=\"intro\"></a>\n",
    "## Introduction\n",
    "\n",
    "In this codealong lesson, we'll build a web scraper using urllib and BeautifulSoup. We will also explore how to use a headless browser called Selenium.\n",
    "\n",
    "We'll begin by scraping OpenTable's DC listings. We're interested in knowing the restaurant's **name, location, price, and how many people booked it today.**\n",
    "\n",
    "OpenTable provides all of this information on this given page: http://www.opentable.com/washington-dc-restaurant-listings\n",
    "\n",
    "Let's inspect the elements of this page to assure we can find each of the bits of information in which we're interested.\n",
    "\n",
    "---"
   ]
  },
  {
   "cell_type": "markdown",
   "metadata": {},
   "source": [
    "<a id=\"building-scraper\"></a>\n",
    "## Building a web scraper\n",
    "\n",
    "Now, let's build a web scraper for OpenTable using urllib and Beautiful Soup:"
   ]
  },
  {
   "cell_type": "code",
   "execution_count": 13,
   "metadata": {
    "collapsed": true,
    "scrolled": false
   },
   "outputs": [],
   "source": [
    "# import our necessary first packages\n",
    "from bs4 import BeautifulSoup\n",
    "import urllib"
   ]
  },
  {
   "cell_type": "code",
   "execution_count": 35,
   "metadata": {
    "collapsed": true
   },
   "outputs": [],
   "source": [
    "# set the url we want to visit\n",
    "url = \"http://www.opentable.com/washington-dc-restaurant-listings\"\n",
    "\n",
    "# visit that url, and grab the html of said page\n",
    "html = urllib.urlopen(url).read()"
   ]
  },
  {
   "cell_type": "markdown",
   "metadata": {},
   "source": [
    "At this point, what is in html (main level in DOM - Document Object Model)?"
   ]
  },
  {
   "cell_type": "code",
   "execution_count": 36,
   "metadata": {},
   "outputs": [
    {
     "data": {
      "text/plain": [
       "'          <!DOCTYPE html><html lang=\"en\"><head><meta charset=\"utf-8\"/><meta http-equiv=\"X-UA-Compatible\" content=\"IE=9; IE=8; IE=7; IE=EDGE\"/> <title>Washington, D.C. Area Restaurants List | OpenTable</title>  <meta  name=\"description\" content=\"Find Washington, D.C. Area restaurants. Search by location, cuisine, or price to refine restaurant results in the Washington, D.C. Area area.\" > </meta>  <meta  name=\"robots\" content=\"noindex\" > </meta>    <link rel=\"shortcut icon\" href=\"//components.otst'"
      ]
     },
     "execution_count": 36,
     "metadata": {},
     "output_type": "execute_result"
    }
   ],
   "source": [
    "html[:500]   # first 500 characters"
   ]
  },
  {
   "cell_type": "markdown",
   "metadata": {},
   "source": [
    "We will need to convert this html objct into a soup object so we can parse it using python and BS4"
   ]
  },
  {
   "cell_type": "code",
   "execution_count": 37,
   "metadata": {
    "collapsed": true
   },
   "outputs": [],
   "source": [
    "# convert this into a soup object\n",
    "soup = BeautifulSoup(html, 'html.parser', from_encoding=\"utf-8\")\n",
    "# soup   # entire html content"
   ]
  },
  {
   "cell_type": "markdown",
   "metadata": {},
   "source": [
    "<a id=\"retrieving-data\"></a>\n",
    "### Retrieving data from the HTML page"
   ]
  },
  {
   "cell_type": "markdown",
   "metadata": {},
   "source": [
    "Let's first find each restaurant name listed on the page we've loaded. How do we find the page location of the restaurant? (Hint: We need to know where in the **HTML** the restaurant element is housed.) In order to find the HTML that renders the restaurant location, we can use Google Chrome's Inspect tool:\n",
    "\n",
    "> http://www.opentable.com/washington-dc-restaurant-listings\n",
    "\n",
    "> 1. Visit the URL above. \n",
    "\n",
    "> 2. Right-click on an element you are interested in, then choose Inspect (in Chrome). \n",
    "\n",
    "> 3. This will open the Developer Tools and show the HTML used to render the selected page element. \n",
    "\n",
    "> Throughout this lesson, we will use this method to find tags associated with elements of the page we want to scrape.\n",
    "\n",
    "See if you can find the restaurant name on the page. Keep in mind there are many restaurants loaded on the page."
   ]
  },
  {
   "cell_type": "code",
   "execution_count": 44,
   "metadata": {
    "scrolled": true
   },
   "outputs": [
    {
     "data": {
      "text/plain": [
       "[<span class=\"rest-row-name-text\">Ruffino's - Arlington</span>,\n",
       " <span class=\"rest-row-name-text\">Joe's Place Pizza and Pasta</span>,\n",
       " <span class=\"rest-row-name-text\">Founding Farmers - DC</span>,\n",
       " <span class=\"rest-row-name-text\">Rasika West End</span>,\n",
       " <span class=\"rest-row-name-text\">Blue Duck Tavern</span>,\n",
       " <span class=\"rest-row-name-text\">Farmers Fishers Bakers</span>,\n",
       " <span class=\"rest-row-name-text\">Founding Farmers - Tysons</span>,\n",
       " <span class=\"rest-row-name-text\">Filomena Ristorante</span>,\n",
       " <span class=\"rest-row-name-text\">District Commons</span>,\n",
       " <span class=\"rest-row-name-text\">Ambar - Arlington</span>,\n",
       " <span class=\"rest-row-name-text\">Eddie V's - Tysons Corner</span>,\n",
       " <span class=\"rest-row-name-text\">Clyde's of Georgetown</span>,\n",
       " <span class=\"rest-row-name-text\">BlackSalt</span>,\n",
       " <span class=\"rest-row-name-text\">Chez Billy Sud</span>,\n",
       " <span class=\"rest-row-name-text\">Seasons 52 - Tysons Corner</span>,\n",
       " <span class=\"rest-row-name-text\">Fogo de Chao Brazilian Steakhouse - Tyson's</span>,\n",
       " <span class=\"rest-row-name-text\">Sugar Factory - Pentagon Mall</span>,\n",
       " <span class=\"rest-row-name-text\">CIRCA at Foggy Bottom</span>,\n",
       " <span class=\"rest-row-name-text\">Il Canale</span>,\n",
       " <span class=\"rest-row-name-text\">Barrel &amp; Bushel</span>,\n",
       " <span class=\"rest-row-name-text\">2941 Restaurant</span>,\n",
       " <span class=\"rest-row-name-text\">Nostos Restaurant</span>,\n",
       " <span class=\"rest-row-name-text\">Et Voila</span>,\n",
       " <span class=\"rest-row-name-text\">Tupelo Honey - Arlington</span>,\n",
       " <span class=\"rest-row-name-text\">Chef Geoff's Tysons</span>,\n",
       " <span class=\"rest-row-name-text\">Matchbox - Pentagon City</span>,\n",
       " <span class=\"rest-row-name-text\">Texas Jacks Barbecue</span>,\n",
       " <span class=\"rest-row-name-text\">The Capital Grille - Tysons Corner</span>,\n",
       " <span class=\"rest-row-name-text\">Earls Kitchen + Bar - Tysons Corner</span>,\n",
       " <span class=\"rest-row-name-text\">J. Gilbert\\u2019s \\u2013 Wood Fired Steaks &amp; Seafood - McLean</span>,\n",
       " <span class=\"rest-row-name-text\">Cafe Deluxe - Tysons Corner</span>,\n",
       " <span class=\"rest-row-name-text\">Palette 22</span>,\n",
       " <span class=\"rest-row-name-text\">Clyde's of Chevy Chase</span>,\n",
       " <span class=\"rest-row-name-text\">Barley Mac</span>,\n",
       " <span class=\"rest-row-name-text\">Chima Steakhouse - Washington</span>,\n",
       " <span class=\"rest-row-name-text\">CIRCA at Dupont</span>,\n",
       " <span class=\"rest-row-name-text\">Tony &amp; Joe's Seafood Place</span>,\n",
       " <span class=\"rest-row-name-text\">CIRCA at Clarendon</span>,\n",
       " <span class=\"rest-row-name-text\">Sequoia</span>,\n",
       " <span class=\"rest-row-name-text\">Sette Osteria</span>,\n",
       " <span class=\"rest-row-name-text\">Chef Geoff's (New Mexico Ave.)</span>,\n",
       " <span class=\"rest-row-name-text\">The Palm Washington DC</span>,\n",
       " <span class=\"rest-row-name-text\">Peacock Caf\\xe9</span>,\n",
       " <span class=\"rest-row-name-text\">La Chaumiere</span>,\n",
       " <span class=\"rest-row-name-text\">Grillfish DC</span>,\n",
       " <span class=\"rest-row-name-text\">LIA'S</span>,\n",
       " <span class=\"rest-row-name-text\">Maggiano's - Chevy Chase</span>,\n",
       " <span class=\"rest-row-name-text\">The Palm Tysons Corner</span>,\n",
       " <span class=\"rest-row-name-text\">The Capital Grille - Chevy Chase</span>,\n",
       " <span class=\"rest-row-name-text\">TenPenh - Tysons</span>,\n",
       " <span class=\"rest-row-name-text\">The Sovereign</span>,\n",
       " <span class=\"rest-row-name-text\">The Melting Pot - Arlington VA</span>,\n",
       " <span class=\"rest-row-name-text\">Mission</span>,\n",
       " <span class=\"rest-row-name-text\">Ristorante Piccolo</span>,\n",
       " <span class=\"rest-row-name-text\">Pinstripes - Georgetown</span>,\n",
       " <span class=\"rest-row-name-text\">Sushiko - Chevy Chase</span>,\n",
       " <span class=\"rest-row-name-text\">Honeysuckle</span>,\n",
       " <span class=\"rest-row-name-text\">SER</span>,\n",
       " <span class=\"rest-row-name-text\">Teddy &amp; The Bully Bar</span>,\n",
       " <span class=\"rest-row-name-text\">Kingbird at The Watergate Hotel</span>,\n",
       " <span class=\"rest-row-name-text\">El Centro D.F. - Georgetown</span>,\n",
       " <span class=\"rest-row-name-text\">1789 Restaurant</span>,\n",
       " <span class=\"rest-row-name-text\">Ray's The Steaks</span>,\n",
       " <span class=\"rest-row-name-text\">Kapnos Taverna Arlington</span>,\n",
       " <span class=\"rest-row-name-text\">Idylwood Grill</span>,\n",
       " <span class=\"rest-row-name-text\">Uncle Julio's - Arlington/ Ballston</span>,\n",
       " <span class=\"rest-row-name-text\">Clyde's at Mark Center</span>,\n",
       " <span class=\"rest-row-name-text\">Das Ethiopian - Georgetown</span>,\n",
       " <span class=\"rest-row-name-text\">Marcel's by Robert Wiedmaier</span>,\n",
       " <span class=\"rest-row-name-text\">Oz Restaurant and Bar</span>,\n",
       " <span class=\"rest-row-name-text\">Kramerbooks &amp; Afterwords Cafe</span>,\n",
       " <span class=\"rest-row-name-text\">RIS</span>,\n",
       " <span class=\"rest-row-name-text\">Ristorante La Perla of Washington</span>,\n",
       " <span class=\"rest-row-name-text\">Unum Restaurant</span>,\n",
       " <span class=\"rest-row-name-text\">Lebanese Taverna - Washington DC</span>,\n",
       " <span class=\"rest-row-name-text\">Roof Terrace Restaurant &amp; Bar</span>,\n",
       " <span class=\"rest-row-name-text\">Flavio</span>,\n",
       " <span class=\"rest-row-name-text\">Mad Fox Brewing Company</span>,\n",
       " <span class=\"rest-row-name-text\">Medium Rare - Cleveland Park</span>,\n",
       " <span class=\"rest-row-name-text\">Bourbon Steak - Four Seasons Washington DC</span>,\n",
       " <span class=\"rest-row-name-text\">Caf\\xe9 Milano</span>,\n",
       " <span class=\"rest-row-name-text\">Lyon Hall</span>,\n",
       " <span class=\"rest-row-name-text\">The Liberty Tavern</span>,\n",
       " <span class=\"rest-row-name-text\">Firefly - DC</span>,\n",
       " <span class=\"rest-row-name-text\">Le Chat Noir</span>,\n",
       " <span class=\"rest-row-name-text\">Aperto</span>,\n",
       " <span class=\"rest-row-name-text\">i Ricchi</span>,\n",
       " <span class=\"rest-row-name-text\">Kaz Sushi Bistro</span>,\n",
       " <span class=\"rest-row-name-text\">The Prime Rib</span>,\n",
       " <span class=\"rest-row-name-text\">BRIO Tuscan Grille - McLean - Tysons Corner</span>,\n",
       " <span class=\"rest-row-name-text\">Cafe Deluxe - Cleveland Park</span>,\n",
       " <span class=\"rest-row-name-text\">Rustico - Ballston</span>,\n",
       " <span class=\"rest-row-name-text\">Grand Cru Wine Bar &amp; Bistro</span>,\n",
       " <span class=\"rest-row-name-text\">Mussel Bar &amp; Grille - Arlington</span>,\n",
       " <span class=\"rest-row-name-text\">Ardeo + Bardeo</span>,\n",
       " <span class=\"rest-row-name-text\">Baba</span>,\n",
       " <span class=\"rest-row-name-text\">Cafe Deluxe - West End</span>,\n",
       " <span class=\"rest-row-name-text\">Fire Works - Arlington</span>,\n",
       " <span class=\"rest-row-name-text\">H\\xe4rth</span>,\n",
       " <span class=\"rest-row-name-text\">The Grilled Oyster Company - DC</span>]"
      ]
     },
     "execution_count": 44,
     "metadata": {},
     "output_type": "execute_result"
    }
   ],
   "source": [
    "# print the restaurant names\n",
    "soup.find_all(name='span', attrs={'class':'rest-row-name-text'})"
   ]
  },
  {
   "cell_type": "markdown",
   "metadata": {},
   "source": [
    "It is important to always keep in mind the data types that were returned. Note this is a `list`, and we know that immediately by observing the outer square brackets and commas separating each tag.\n",
    "\n",
    "Next, note the elements of the list are `Tag` objects, not strings. (If they were strings, they would be surrounded by quotes.) The Beautiful Soup authors chose to display a `Tag` object visually as a text representation of the tag and its contents. However, being an object, it has many methods that we can call on it. For example, next we will use the `encode_contents()` method to return the tag's contents encoded as a Python string.\n",
    "\n",
    "<a id=\"retrieving-names\"></a>\n",
    "#### Retrieving the restaurant names\n",
    "\n",
    "Now that we found a list of tags containing the restaurant names, let's think how we can loop through them all one-by-one. In the following cell, we'll print out the name (and **only** the clean name, not the rest of the html) of each restaurant."
   ]
  },
  {
   "cell_type": "code",
   "execution_count": 45,
   "metadata": {},
   "outputs": [
    {
     "name": "stdout",
     "output_type": "stream",
     "text": [
      "Ruffino's - Arlington\n",
      "Joe's Place Pizza and Pasta\n",
      "Founding Farmers - DC\n",
      "Rasika West End\n",
      "Blue Duck Tavern\n",
      "Farmers Fishers Bakers\n",
      "Founding Farmers - Tysons\n",
      "Filomena Ristorante\n",
      "District Commons\n",
      "Ambar - Arlington\n",
      "Eddie V's - Tysons Corner\n",
      "Clyde's of Georgetown\n",
      "BlackSalt\n",
      "Chez Billy Sud\n",
      "Seasons 52 - Tysons Corner\n",
      "Fogo de Chao Brazilian Steakhouse - Tyson's\n",
      "Sugar Factory - Pentagon Mall\n",
      "CIRCA at Foggy Bottom\n",
      "Il Canale\n",
      "Barrel &amp; Bushel\n",
      "2941 Restaurant\n",
      "Nostos Restaurant\n",
      "Et Voila\n",
      "Tupelo Honey - Arlington\n",
      "Chef Geoff's Tysons\n",
      "Matchbox - Pentagon City\n",
      "Texas Jacks Barbecue\n",
      "The Capital Grille - Tysons Corner\n",
      "Earls Kitchen + Bar - Tysons Corner\n",
      "J. Gilbert’s – Wood Fired Steaks &amp; Seafood - McLean\n",
      "Cafe Deluxe - Tysons Corner\n",
      "Palette 22\n",
      "Clyde's of Chevy Chase\n",
      "Barley Mac\n",
      "Chima Steakhouse - Washington\n",
      "CIRCA at Dupont\n",
      "Tony &amp; Joe's Seafood Place\n",
      "CIRCA at Clarendon\n",
      "Sequoia\n",
      "Sette Osteria\n",
      "Chef Geoff's (New Mexico Ave.)\n",
      "The Palm Washington DC\n",
      "Peacock Café\n",
      "La Chaumiere\n",
      "Grillfish DC\n",
      "LIA'S\n",
      "Maggiano's - Chevy Chase\n",
      "The Palm Tysons Corner\n",
      "The Capital Grille - Chevy Chase\n",
      "TenPenh - Tysons\n",
      "The Sovereign\n",
      "The Melting Pot - Arlington VA\n",
      "Mission\n",
      "Ristorante Piccolo\n",
      "Pinstripes - Georgetown\n",
      "Sushiko - Chevy Chase\n",
      "Honeysuckle\n",
      "SER\n",
      "Teddy &amp; The Bully Bar\n",
      "Kingbird at The Watergate Hotel\n",
      "El Centro D.F. - Georgetown\n",
      "1789 Restaurant\n",
      "Ray's The Steaks\n",
      "Kapnos Taverna Arlington\n",
      "Idylwood Grill\n",
      "Uncle Julio's - Arlington/ Ballston\n",
      "Clyde's at Mark Center\n",
      "Das Ethiopian - Georgetown\n",
      "Marcel's by Robert Wiedmaier\n",
      "Oz Restaurant and Bar\n",
      "Kramerbooks &amp; Afterwords Cafe\n",
      "RIS\n",
      "Ristorante La Perla of Washington\n",
      "Unum Restaurant\n",
      "Lebanese Taverna - Washington DC\n",
      "Roof Terrace Restaurant &amp; Bar\n",
      "Flavio\n",
      "Mad Fox Brewing Company\n",
      "Medium Rare - Cleveland Park\n",
      "Bourbon Steak - Four Seasons Washington DC\n",
      "Café Milano\n",
      "Lyon Hall\n",
      "The Liberty Tavern\n",
      "Firefly - DC\n",
      "Le Chat Noir\n",
      "Aperto\n",
      "i Ricchi\n",
      "Kaz Sushi Bistro\n",
      "The Prime Rib\n",
      "BRIO Tuscan Grille - McLean - Tysons Corner\n",
      "Cafe Deluxe - Cleveland Park\n",
      "Rustico - Ballston\n",
      "Grand Cru Wine Bar &amp; Bistro\n",
      "Mussel Bar &amp; Grille - Arlington\n",
      "Ardeo + Bardeo\n",
      "Baba\n",
      "Cafe Deluxe - West End\n",
      "Fire Works - Arlington\n",
      "Härth\n",
      "The Grilled Oyster Company - DC\n"
     ]
    }
   ],
   "source": [
    "# for each element you find, print out the restaurant name\n",
    "for entry in soup.find_all(name='span', attrs={'class':'rest-row-name-text'}):\n",
    "    print entry.encode_contents()"
   ]
  },
  {
   "cell_type": "markdown",
   "metadata": {},
   "source": [
    "Great!\n",
    "\n",
    "<a id=\"retrieving-locations\"></a>\n",
    "#### Challenge: Retrieving the restaurant locations\n",
    "\n",
    "Can you repeat that process for finding the location? For example, barmini by Jose Andres is in the location listed as \"Penn Quarter\" in our search results."
   ]
  },
  {
   "cell_type": "code",
   "execution_count": 46,
   "metadata": {},
   "outputs": [
    {
     "data": {
      "text/plain": [
       "[<span class=\"rest-row-meta--location rest-row-meta-text\">Arlington</span>,\n",
       " <span class=\"rest-row-meta--location rest-row-meta-text\">Arlington</span>,\n",
       " <span class=\"rest-row-meta--location rest-row-meta-text\">Foggy Bottom</span>,\n",
       " <span class=\"rest-row-meta--location rest-row-meta-text\">West End</span>,\n",
       " <span class=\"rest-row-meta--location rest-row-meta-text\">West End</span>,\n",
       " <span class=\"rest-row-meta--location rest-row-meta-text\">Georgetown</span>,\n",
       " <span class=\"rest-row-meta--location rest-row-meta-text\">Tysons Corner / McLean</span>,\n",
       " <span class=\"rest-row-meta--location rest-row-meta-text\">Georgetown</span>,\n",
       " <span class=\"rest-row-meta--location rest-row-meta-text\">Foggy Bottom</span>,\n",
       " <span class=\"rest-row-meta--location rest-row-meta-text\">Arlington</span>,\n",
       " <span class=\"rest-row-meta--location rest-row-meta-text\">Tysons Corner / McLean</span>,\n",
       " <span class=\"rest-row-meta--location rest-row-meta-text\">Georgetown</span>,\n",
       " <span class=\"rest-row-meta--location rest-row-meta-text\">Palisades Northwest</span>,\n",
       " <span class=\"rest-row-meta--location rest-row-meta-text\">Georgetown</span>,\n",
       " <span class=\"rest-row-meta--location rest-row-meta-text\">Tysons Corner / McLean</span>,\n",
       " <span class=\"rest-row-meta--location rest-row-meta-text\">Tysons Corner / McLean</span>,\n",
       " <span class=\"rest-row-meta--location rest-row-meta-text\">Arlington</span>,\n",
       " <span class=\"rest-row-meta--location rest-row-meta-text\">Foggy Bottom</span>,\n",
       " <span class=\"rest-row-meta--location rest-row-meta-text\">Georgetown</span>,\n",
       " <span class=\"rest-row-meta--location rest-row-meta-text\">Tysons Corner / McLean</span>,\n",
       " <span class=\"rest-row-meta--location rest-row-meta-text\">Falls Church</span>,\n",
       " <span class=\"rest-row-meta--location rest-row-meta-text\">Vienna</span>,\n",
       " <span class=\"rest-row-meta--location rest-row-meta-text\">Palisades Northwest</span>,\n",
       " <span class=\"rest-row-meta--location rest-row-meta-text\">Arlington</span>,\n",
       " <span class=\"rest-row-meta--location rest-row-meta-text\">Tysons Corner / McLean</span>,\n",
       " <span class=\"rest-row-meta--location rest-row-meta-text\">Arlington</span>,\n",
       " <span class=\"rest-row-meta--location rest-row-meta-text\">Arlington</span>,\n",
       " <span class=\"rest-row-meta--location rest-row-meta-text\">Tysons Corner / McLean</span>,\n",
       " <span class=\"rest-row-meta--location rest-row-meta-text\">Tysons Corner / McLean</span>,\n",
       " <span class=\"rest-row-meta--location rest-row-meta-text\">McLean</span>,\n",
       " <span class=\"rest-row-meta--location rest-row-meta-text\">Tysons Corner / McLean</span>,\n",
       " <span class=\"rest-row-meta--location rest-row-meta-text\">Arlington</span>,\n",
       " <span class=\"rest-row-meta--location rest-row-meta-text\">Friendship Heights</span>,\n",
       " <span class=\"rest-row-meta--location rest-row-meta-text\">Arlington</span>,\n",
       " <span class=\"rest-row-meta--location rest-row-meta-text\">Vienna</span>,\n",
       " <span class=\"rest-row-meta--location rest-row-meta-text\">Dupont Circle</span>,\n",
       " <span class=\"rest-row-meta--location rest-row-meta-text\">Georgetown</span>,\n",
       " <span class=\"rest-row-meta--location rest-row-meta-text\">Arlington</span>,\n",
       " <span class=\"rest-row-meta--location rest-row-meta-text\">Georgetown</span>,\n",
       " <span class=\"rest-row-meta--location rest-row-meta-text\">Dupont Circle</span>,\n",
       " <span class=\"rest-row-meta--location rest-row-meta-text\">Georgetown</span>,\n",
       " <span class=\"rest-row-meta--location rest-row-meta-text\">Dupont Circle</span>,\n",
       " <span class=\"rest-row-meta--location rest-row-meta-text\">Georgetown</span>,\n",
       " <span class=\"rest-row-meta--location rest-row-meta-text\">Georgetown</span>,\n",
       " <span class=\"rest-row-meta--location rest-row-meta-text\">Dupont Circle</span>,\n",
       " <span class=\"rest-row-meta--location rest-row-meta-text\">Bethesda / Chevy Chase</span>,\n",
       " <span class=\"rest-row-meta--location rest-row-meta-text\">Friendship Heights</span>,\n",
       " <span class=\"rest-row-meta--location rest-row-meta-text\">Tysons Corner / McLean</span>,\n",
       " <span class=\"rest-row-meta--location rest-row-meta-text\">Chevy Chase</span>,\n",
       " <span class=\"rest-row-meta--location rest-row-meta-text\">Tysons Corner / McLean</span>,\n",
       " <span class=\"rest-row-meta--location rest-row-meta-text\">Georgetown</span>,\n",
       " <span class=\"rest-row-meta--location rest-row-meta-text\">Arlington</span>,\n",
       " <span class=\"rest-row-meta--location rest-row-meta-text\">Dupont Circle</span>,\n",
       " <span class=\"rest-row-meta--location rest-row-meta-text\">Georgetown</span>,\n",
       " <span class=\"rest-row-meta--location rest-row-meta-text\">Georgetown</span>,\n",
       " <span class=\"rest-row-meta--location rest-row-meta-text\">Bethesda / Chevy Chase</span>,\n",
       " <span class=\"rest-row-meta--location rest-row-meta-text\">Downtown</span>,\n",
       " <span class=\"rest-row-meta--location rest-row-meta-text\">Arlington</span>,\n",
       " <span class=\"rest-row-meta--location rest-row-meta-text\">Dupont Circle</span>,\n",
       " <span class=\"rest-row-meta--location rest-row-meta-text\">Foggy Bottom</span>,\n",
       " <span class=\"rest-row-meta--location rest-row-meta-text\">Georgetown</span>,\n",
       " <span class=\"rest-row-meta--location rest-row-meta-text\">Georgetown</span>,\n",
       " <span class=\"rest-row-meta--location rest-row-meta-text\">Arlington</span>,\n",
       " <span class=\"rest-row-meta--location rest-row-meta-text\">Arlington</span>,\n",
       " <span class=\"rest-row-meta--location rest-row-meta-text\">Falls Church</span>,\n",
       " <span class=\"rest-row-meta--location rest-row-meta-text\">Arlington</span>,\n",
       " <span class=\"rest-row-meta--location rest-row-meta-text\">Alexandria</span>,\n",
       " <span class=\"rest-row-meta--location rest-row-meta-text\">Georgetown</span>,\n",
       " <span class=\"rest-row-meta--location rest-row-meta-text\">Foggy Bottom</span>,\n",
       " <span class=\"rest-row-meta--location rest-row-meta-text\">Arlington</span>,\n",
       " <span class=\"rest-row-meta--location rest-row-meta-text\">Dupont Circle</span>,\n",
       " <span class=\"rest-row-meta--location rest-row-meta-text\">West End</span>,\n",
       " <span class=\"rest-row-meta--location rest-row-meta-text\">Georgetown</span>,\n",
       " <span class=\"rest-row-meta--location rest-row-meta-text\">Georgetown</span>,\n",
       " <span class=\"rest-row-meta--location rest-row-meta-text\">Woodley Park</span>,\n",
       " <span class=\"rest-row-meta--location rest-row-meta-text\">Foggy Bottom</span>,\n",
       " <span class=\"rest-row-meta--location rest-row-meta-text\">Georgetown</span>,\n",
       " <span class=\"rest-row-meta--location rest-row-meta-text\">Falls Church</span>,\n",
       " <span class=\"rest-row-meta--location rest-row-meta-text\">Cleveland Park</span>,\n",
       " <span class=\"rest-row-meta--location rest-row-meta-text\">Georgetown</span>,\n",
       " <span class=\"rest-row-meta--location rest-row-meta-text\">Georgetown</span>,\n",
       " <span class=\"rest-row-meta--location rest-row-meta-text\">Arlington</span>,\n",
       " <span class=\"rest-row-meta--location rest-row-meta-text\">Arlington</span>,\n",
       " <span class=\"rest-row-meta--location rest-row-meta-text\">Dupont Circle</span>,\n",
       " <span class=\"rest-row-meta--location rest-row-meta-text\">Friendship Heights</span>,\n",
       " <span class=\"rest-row-meta--location rest-row-meta-text\">Foggy Bottom</span>,\n",
       " <span class=\"rest-row-meta--location rest-row-meta-text\">Dupont Circle</span>,\n",
       " <span class=\"rest-row-meta--location rest-row-meta-text\">Downtown</span>,\n",
       " <span class=\"rest-row-meta--location rest-row-meta-text\">Downtown</span>,\n",
       " <span class=\"rest-row-meta--location rest-row-meta-text\">Tysons Corner / McLean</span>,\n",
       " <span class=\"rest-row-meta--location rest-row-meta-text\">Cleveland Park</span>,\n",
       " <span class=\"rest-row-meta--location rest-row-meta-text\">Arlington</span>,\n",
       " <span class=\"rest-row-meta--location rest-row-meta-text\">Arlington</span>,\n",
       " <span class=\"rest-row-meta--location rest-row-meta-text\">Arlington</span>,\n",
       " <span class=\"rest-row-meta--location rest-row-meta-text\">Cleveland Park</span>,\n",
       " <span class=\"rest-row-meta--location rest-row-meta-text\">Arlington</span>,\n",
       " <span class=\"rest-row-meta--location rest-row-meta-text\">West End</span>,\n",
       " <span class=\"rest-row-meta--location rest-row-meta-text\">Arlington</span>,\n",
       " <span class=\"rest-row-meta--location rest-row-meta-text\">Tysons Corner / McLean</span>,\n",
       " <span class=\"rest-row-meta--location rest-row-meta-text\">Cleveland Park</span>]"
      ]
     },
     "execution_count": 46,
     "metadata": {},
     "output_type": "execute_result"
    }
   ],
   "source": [
    "# first, see if you can identify the location for all elements -- print it out\n",
    "# <span class=\"rest-row-meta--location rest-row-meta-text\">Arlington</span>\n",
    "soup.find_all(name='span', attrs={'class':'rest-row-meta--location rest-row-meta-text'})"
   ]
  },
  {
   "cell_type": "code",
   "execution_count": 47,
   "metadata": {},
   "outputs": [
    {
     "name": "stdout",
     "output_type": "stream",
     "text": [
      "Arlington\n",
      "Arlington\n",
      "Foggy Bottom\n",
      "West End\n",
      "West End\n",
      "Georgetown\n",
      "Tysons Corner / McLean\n",
      "Georgetown\n",
      "Foggy Bottom\n",
      "Arlington\n",
      "Tysons Corner / McLean\n",
      "Georgetown\n",
      "Palisades Northwest\n",
      "Georgetown\n",
      "Tysons Corner / McLean\n",
      "Tysons Corner / McLean\n",
      "Arlington\n",
      "Foggy Bottom\n",
      "Georgetown\n",
      "Tysons Corner / McLean\n",
      "Falls Church\n",
      "Vienna\n",
      "Palisades Northwest\n",
      "Arlington\n",
      "Tysons Corner / McLean\n",
      "Arlington\n",
      "Arlington\n",
      "Tysons Corner / McLean\n",
      "Tysons Corner / McLean\n",
      "McLean\n",
      "Tysons Corner / McLean\n",
      "Arlington\n",
      "Friendship Heights\n",
      "Arlington\n",
      "Vienna\n",
      "Dupont Circle\n",
      "Georgetown\n",
      "Arlington\n",
      "Georgetown\n",
      "Dupont Circle\n",
      "Georgetown\n",
      "Dupont Circle\n",
      "Georgetown\n",
      "Georgetown\n",
      "Dupont Circle\n",
      "Bethesda / Chevy Chase\n",
      "Friendship Heights\n",
      "Tysons Corner / McLean\n",
      "Chevy Chase\n",
      "Tysons Corner / McLean\n",
      "Georgetown\n",
      "Arlington\n",
      "Dupont Circle\n",
      "Georgetown\n",
      "Georgetown\n",
      "Bethesda / Chevy Chase\n",
      "Downtown\n",
      "Arlington\n",
      "Dupont Circle\n",
      "Foggy Bottom\n",
      "Georgetown\n",
      "Georgetown\n",
      "Arlington\n",
      "Arlington\n",
      "Falls Church\n",
      "Arlington\n",
      "Alexandria\n",
      "Georgetown\n",
      "Foggy Bottom\n",
      "Arlington\n",
      "Dupont Circle\n",
      "West End\n",
      "Georgetown\n",
      "Georgetown\n",
      "Woodley Park\n",
      "Foggy Bottom\n",
      "Georgetown\n",
      "Falls Church\n",
      "Cleveland Park\n",
      "Georgetown\n",
      "Georgetown\n",
      "Arlington\n",
      "Arlington\n",
      "Dupont Circle\n",
      "Friendship Heights\n",
      "Foggy Bottom\n",
      "Dupont Circle\n",
      "Downtown\n",
      "Downtown\n",
      "Tysons Corner / McLean\n",
      "Cleveland Park\n",
      "Arlington\n",
      "Arlington\n",
      "Arlington\n",
      "Cleveland Park\n",
      "Arlington\n",
      "West End\n",
      "Arlington\n",
      "Tysons Corner / McLean\n",
      "Cleveland Park\n"
     ]
    }
   ],
   "source": [
    "# now print out EACH location for the restaurants\n",
    "for entry in soup.find_all(name='span', attrs={'class':'rest-row-meta--location rest-row-meta-text'}):\n",
    "    print entry.encode_contents()"
   ]
  },
  {
   "cell_type": "markdown",
   "metadata": {},
   "source": [
    "<a id=\"retrieving-prices\"></a>\n",
    "#### Retrieving the restaurant prices"
   ]
  },
  {
   "cell_type": "markdown",
   "metadata": {},
   "source": [
    "Ok, we've figured out the restaurant name and location. Now we need to grab the price (number of dollar signs on a scale of one to four) for each restaurant. We'll follow the same process."
   ]
  },
  {
   "cell_type": "code",
   "execution_count": 48,
   "metadata": {
    "scrolled": true
   },
   "outputs": [
    {
     "data": {
      "text/plain": [
       "[<div class=\"rest-row-pricing\"><i>  $    $      </i>   $    $      </div>,\n",
       " <div class=\"rest-row-pricing\"><i>  $    $      </i>   $    $      </div>,\n",
       " <div class=\"rest-row-pricing\"><i>  $    $      </i>   $    $      </div>,\n",
       " <div class=\"rest-row-pricing\"><i>  $    $    $    </i>   $        </div>,\n",
       " <div class=\"rest-row-pricing\"><i>  $    $    $    </i>   $        </div>,\n",
       " <div class=\"rest-row-pricing\"><i>  $    $      </i>   $    $      </div>,\n",
       " <div class=\"rest-row-pricing\"><i>  $    $      </i>   $    $      </div>,\n",
       " <div class=\"rest-row-pricing\"><i>  $    $    $    </i>   $        </div>,\n",
       " <div class=\"rest-row-pricing\"><i>  $    $      </i>   $    $      </div>,\n",
       " <div class=\"rest-row-pricing\"><i>  $    $      </i>   $    $      </div>,\n",
       " <div class=\"rest-row-pricing\"><i>  $    $    $    </i>   $        </div>,\n",
       " <div class=\"rest-row-pricing\"><i>  $    $      </i>   $    $      </div>,\n",
       " <div class=\"rest-row-pricing\"><i>  $    $    $    </i>   $        </div>,\n",
       " <div class=\"rest-row-pricing\"><i>  $    $      </i>   $    $      </div>,\n",
       " <div class=\"rest-row-pricing\"><i>  $    $      </i>   $    $      </div>,\n",
       " <div class=\"rest-row-pricing\"><i>  $    $    $    $  </i> </div>,\n",
       " <div class=\"rest-row-pricing\"><i>  $    $      </i>   $    $      </div>,\n",
       " <div class=\"rest-row-pricing\"><i>  $    $      </i>   $    $      </div>,\n",
       " <div class=\"rest-row-pricing\"><i>  $    $      </i>   $    $      </div>,\n",
       " <div class=\"rest-row-pricing\"><i>  $    $      </i>   $    $      </div>,\n",
       " <div class=\"rest-row-pricing\"><i>  $    $      </i>   $    $      </div>,\n",
       " <div class=\"rest-row-pricing\"><i>  $    $      </i>   $    $      </div>,\n",
       " <div class=\"rest-row-pricing\"><i>  $    $      </i>   $    $      </div>,\n",
       " <div class=\"rest-row-pricing\"><i>  $    $      </i>   $    $      </div>,\n",
       " <div class=\"rest-row-pricing\"><i>  $    $      </i>   $    $      </div>,\n",
       " <div class=\"rest-row-pricing\"><i>  $    $      </i>   $    $      </div>,\n",
       " <div class=\"rest-row-pricing\"><i>  $    $      </i>   $    $      </div>,\n",
       " <div class=\"rest-row-pricing\"><i>  $    $    $    $  </i> </div>,\n",
       " <div class=\"rest-row-pricing\"><i>  $    $      </i>   $    $      </div>,\n",
       " <div class=\"rest-row-pricing\"><i>  $    $    $    </i>   $        </div>,\n",
       " <div class=\"rest-row-pricing\"><i>  $    $      </i>   $    $      </div>,\n",
       " <div class=\"rest-row-pricing\"><i>  $    $      </i>   $    $      </div>,\n",
       " <div class=\"rest-row-pricing\"><i>  $    $      </i>   $    $      </div>,\n",
       " <div class=\"rest-row-pricing\"><i>  $    $      </i>   $    $      </div>,\n",
       " <div class=\"rest-row-pricing\"><i>  $    $    $    $  </i> </div>,\n",
       " <div class=\"rest-row-pricing\"><i>  $    $      </i>   $    $      </div>,\n",
       " <div class=\"rest-row-pricing\"><i>  $    $      </i>   $    $      </div>,\n",
       " <div class=\"rest-row-pricing\"><i>  $    $      </i>   $    $      </div>,\n",
       " <div class=\"rest-row-pricing\"><i>  $    $      </i>   $    $      </div>,\n",
       " <div class=\"rest-row-pricing\"><i>  $    $      </i>   $    $      </div>,\n",
       " <div class=\"rest-row-pricing\"><i>  $    $      </i>   $    $      </div>,\n",
       " <div class=\"rest-row-pricing\"><i>  $    $    $    $  </i> </div>,\n",
       " <div class=\"rest-row-pricing\"><i>  $    $      </i>   $    $      </div>,\n",
       " <div class=\"rest-row-pricing\"><i>  $    $      </i>   $    $      </div>,\n",
       " <div class=\"rest-row-pricing\"><i>  $    $      </i>   $    $      </div>,\n",
       " <div class=\"rest-row-pricing\"><i>  $    $      </i>   $    $      </div>,\n",
       " <div class=\"rest-row-pricing\"><i>  $    $      </i>   $    $      </div>,\n",
       " <div class=\"rest-row-pricing\"><i>  $    $    $    $  </i> </div>,\n",
       " <div class=\"rest-row-pricing\"><i>  $    $    $    $  </i> </div>,\n",
       " <div class=\"rest-row-pricing\"><i>  $    $    $    </i>   $        </div>,\n",
       " <div class=\"rest-row-pricing\"><i>  $    $    $    </i>   $        </div>,\n",
       " <div class=\"rest-row-pricing\"><i>  $    $    $    </i>   $        </div>,\n",
       " <div class=\"rest-row-pricing\"><i>  $    $      </i>   $    $      </div>,\n",
       " <div class=\"rest-row-pricing\"><i>  $    $      </i>   $    $      </div>,\n",
       " <div class=\"rest-row-pricing\"><i>  $    $      </i>   $    $      </div>,\n",
       " <div class=\"rest-row-pricing\"><i>  $    $    $    $  </i> </div>,\n",
       " <div class=\"rest-row-pricing\"><i>  $    $    $    </i>   $        </div>,\n",
       " <div class=\"rest-row-pricing\"><i>  $    $      </i>   $    $      </div>,\n",
       " <div class=\"rest-row-pricing\"><i>  $    $    $    </i>   $        </div>,\n",
       " <div class=\"rest-row-pricing\"><i>  $    $      </i>   $    $      </div>,\n",
       " <div class=\"rest-row-pricing\"><i>  $    $      </i>   $    $      </div>,\n",
       " <div class=\"rest-row-pricing\"><i>  $    $    $    $  </i> </div>,\n",
       " <div class=\"rest-row-pricing\"><i>  $    $      </i>   $    $      </div>,\n",
       " <div class=\"rest-row-pricing\"><i>  $    $    $    </i>   $        </div>,\n",
       " <div class=\"rest-row-pricing\"><i>  $    $      </i>   $    $      </div>,\n",
       " <div class=\"rest-row-pricing\"><i>  $    $      </i>   $    $      </div>,\n",
       " <div class=\"rest-row-pricing\"><i>  $    $      </i>   $    $      </div>,\n",
       " <div class=\"rest-row-pricing\"><i>  $    $      </i>   $    $      </div>,\n",
       " <div class=\"rest-row-pricing\"><i>  $    $    $    $  </i> </div>,\n",
       " <div class=\"rest-row-pricing\"><i>  $    $      </i>   $    $      </div>,\n",
       " <div class=\"rest-row-pricing\"><i>  $    $      </i>   $    $      </div>,\n",
       " <div class=\"rest-row-pricing\"><i>  $    $    $    </i>   $        </div>,\n",
       " <div class=\"rest-row-pricing\"><i>  $    $    $    </i>   $        </div>,\n",
       " <div class=\"rest-row-pricing\"><i>  $    $    $    </i>   $        </div>,\n",
       " <div class=\"rest-row-pricing\"><i>  $    $      </i>   $    $      </div>,\n",
       " <div class=\"rest-row-pricing\"><i>  $    $    $    $  </i> </div>,\n",
       " <div class=\"rest-row-pricing\"><i>  $    $      </i>   $    $      </div>,\n",
       " <div class=\"rest-row-pricing\"><i>  $    $      </i>   $    $      </div>,\n",
       " <div class=\"rest-row-pricing\"><i>  $    $      </i>   $    $      </div>,\n",
       " <div class=\"rest-row-pricing\"><i>  $    $    $    $  </i> </div>,\n",
       " <div class=\"rest-row-pricing\"><i>  $    $    $    </i>   $        </div>,\n",
       " <div class=\"rest-row-pricing\"><i>  $    $      </i>   $    $      </div>,\n",
       " <div class=\"rest-row-pricing\"><i>  $    $      </i>   $    $      </div>,\n",
       " <div class=\"rest-row-pricing\"><i>  $    $      </i>   $    $      </div>,\n",
       " <div class=\"rest-row-pricing\"><i>  $    $      </i>   $    $      </div>,\n",
       " <div class=\"rest-row-pricing\"><i>  $    $    $    </i>   $        </div>,\n",
       " <div class=\"rest-row-pricing\"><i>  $    $    $    </i>   $        </div>,\n",
       " <div class=\"rest-row-pricing\"><i>  $    $    $    </i>   $        </div>,\n",
       " <div class=\"rest-row-pricing\"><i>  $    $    $    $  </i> </div>,\n",
       " <div class=\"rest-row-pricing\"><i>  $    $      </i>   $    $      </div>,\n",
       " <div class=\"rest-row-pricing\"><i>  $    $      </i>   $    $      </div>,\n",
       " <div class=\"rest-row-pricing\"><i>  $    $      </i>   $    $      </div>,\n",
       " <div class=\"rest-row-pricing\"><i>  $    $      </i>   $    $      </div>,\n",
       " <div class=\"rest-row-pricing\"><i>  $    $      </i>   $    $      </div>,\n",
       " <div class=\"rest-row-pricing\"><i>  $    $      </i>   $    $      </div>,\n",
       " <div class=\"rest-row-pricing\"><i>  $    $      </i>   $    $      </div>,\n",
       " <div class=\"rest-row-pricing\"><i>  $    $      </i>   $    $      </div>,\n",
       " <div class=\"rest-row-pricing\"><i>  $    $      </i>   $    $      </div>,\n",
       " <div class=\"rest-row-pricing\"><i>  $    $      </i>   $    $      </div>,\n",
       " <div class=\"rest-row-pricing\"><i>  $    $      </i>   $    $      </div>]"
      ]
     },
     "execution_count": 48,
     "metadata": {},
     "output_type": "execute_result"
    }
   ],
   "source": [
    "# print out all prices\n",
    "soup.find_all('div', {'class':'rest-row-pricing'})"
   ]
  },
  {
   "cell_type": "code",
   "execution_count": 49,
   "metadata": {},
   "outputs": [
    {
     "name": "stdout",
     "output_type": "stream",
     "text": [
      "  $    $      \n",
      "  $    $      \n",
      "  $    $      \n",
      "  $    $    $    \n",
      "  $    $    $    \n",
      "  $    $      \n",
      "  $    $      \n",
      "  $    $    $    \n",
      "  $    $      \n",
      "  $    $      \n",
      "  $    $    $    \n",
      "  $    $      \n",
      "  $    $    $    \n",
      "  $    $      \n",
      "  $    $      \n",
      "  $    $    $    $  \n",
      "  $    $      \n",
      "  $    $      \n",
      "  $    $      \n",
      "  $    $      \n",
      "  $    $      \n",
      "  $    $      \n",
      "  $    $      \n",
      "  $    $      \n",
      "  $    $      \n",
      "  $    $      \n",
      "  $    $      \n",
      "  $    $    $    $  \n",
      "  $    $      \n",
      "  $    $    $    \n",
      "  $    $      \n",
      "  $    $      \n",
      "  $    $      \n",
      "  $    $      \n",
      "  $    $    $    $  \n",
      "  $    $      \n",
      "  $    $      \n",
      "  $    $      \n",
      "  $    $      \n",
      "  $    $      \n",
      "  $    $      \n",
      "  $    $    $    $  \n",
      "  $    $      \n",
      "  $    $      \n",
      "  $    $      \n",
      "  $    $      \n",
      "  $    $      \n",
      "  $    $    $    $  \n",
      "  $    $    $    $  \n",
      "  $    $    $    \n",
      "  $    $    $    \n",
      "  $    $    $    \n",
      "  $    $      \n",
      "  $    $      \n",
      "  $    $      \n",
      "  $    $    $    $  \n",
      "  $    $    $    \n",
      "  $    $      \n",
      "  $    $    $    \n",
      "  $    $      \n",
      "  $    $      \n",
      "  $    $    $    $  \n",
      "  $    $      \n",
      "  $    $    $    \n",
      "  $    $      \n",
      "  $    $      \n",
      "  $    $      \n",
      "  $    $      \n",
      "  $    $    $    $  \n",
      "  $    $      \n",
      "  $    $      \n",
      "  $    $    $    \n",
      "  $    $    $    \n",
      "  $    $    $    \n",
      "  $    $      \n",
      "  $    $    $    $  \n",
      "  $    $      \n",
      "  $    $      \n",
      "  $    $      \n",
      "  $    $    $    $  \n",
      "  $    $    $    \n",
      "  $    $      \n",
      "  $    $      \n",
      "  $    $      \n",
      "  $    $      \n",
      "  $    $    $    \n",
      "  $    $    $    \n",
      "  $    $    $    \n",
      "  $    $    $    $  \n",
      "  $    $      \n",
      "  $    $      \n",
      "  $    $      \n",
      "  $    $      \n",
      "  $    $      \n",
      "  $    $      \n",
      "  $    $      \n",
      "  $    $      \n",
      "  $    $      \n",
      "  $    $      \n",
      "  $    $      \n"
     ]
    }
   ],
   "source": [
    "# print out EACH number of dollar signs per restaurant\n",
    "# this one is trickier to eliminate the html. Hint: try a nested find\n",
    "for entry in soup.find_all('div', {'class':'rest-row-pricing'}):\n",
    "    print entry.find('i').encode_contents()"
   ]
  },
  {
   "cell_type": "markdown",
   "metadata": {},
   "source": [
    "That looks great, but what if I wanted just the number of dollar signs per restaurant? Can you figure out a way to simply print out the number of dollar signs per restaurant listed?"
   ]
  },
  {
   "cell_type": "code",
   "execution_count": 50,
   "metadata": {},
   "outputs": [
    {
     "name": "stdout",
     "output_type": "stream",
     "text": [
      "2\n",
      "2\n",
      "2\n",
      "3\n",
      "3\n",
      "2\n",
      "2\n",
      "3\n",
      "2\n",
      "2\n",
      "3\n",
      "2\n",
      "3\n",
      "2\n",
      "2\n",
      "4\n",
      "2\n",
      "2\n",
      "2\n",
      "2\n",
      "2\n",
      "2\n",
      "2\n",
      "2\n",
      "2\n",
      "2\n",
      "2\n",
      "4\n",
      "2\n",
      "3\n",
      "2\n",
      "2\n",
      "2\n",
      "2\n",
      "4\n",
      "2\n",
      "2\n",
      "2\n",
      "2\n",
      "2\n",
      "2\n",
      "4\n",
      "2\n",
      "2\n",
      "2\n",
      "2\n",
      "2\n",
      "4\n",
      "4\n",
      "3\n",
      "3\n",
      "3\n",
      "2\n",
      "2\n",
      "2\n",
      "4\n",
      "3\n",
      "2\n",
      "3\n",
      "2\n",
      "2\n",
      "4\n",
      "2\n",
      "3\n",
      "2\n",
      "2\n",
      "2\n",
      "2\n",
      "4\n",
      "2\n",
      "2\n",
      "3\n",
      "3\n",
      "3\n",
      "2\n",
      "4\n",
      "2\n",
      "2\n",
      "2\n",
      "4\n",
      "3\n",
      "2\n",
      "2\n",
      "2\n",
      "2\n",
      "3\n",
      "3\n",
      "3\n",
      "4\n",
      "2\n",
      "2\n",
      "2\n",
      "2\n",
      "2\n",
      "2\n",
      "2\n",
      "2\n",
      "2\n",
      "2\n",
      "2\n"
     ]
    }
   ],
   "source": [
    "# print the number of dollars signs per restaurant\n",
    "for entry in soup.find_all('div', {'class':'rest-row-pricing'}):\n",
    "    price = entry.find('i').renderContents()\n",
    "    print price.count('$')"
   ]
  },
  {
   "cell_type": "markdown",
   "metadata": {},
   "source": [
    "Phew, nice work. \n",
    "\n",
    "<a id=\"retrieving-bookings\"></a>\n",
    "#### Retrieving the restaurant number of bookings\n",
    "\n",
    "One more, right? We only need to find the number times a restaurant was booked. In the next cell, print out all objects that contain the number of times the restaurant was booked."
   ]
  },
  {
   "cell_type": "code",
   "execution_count": 51,
   "metadata": {},
   "outputs": [
    {
     "data": {
      "text/plain": [
       "[]"
      ]
     },
     "execution_count": 51,
     "metadata": {},
     "output_type": "execute_result"
    }
   ],
   "source": [
    "# print out all objects that contain the number of times the restaurant was booked\n",
    "# fails because of antibot delay\n",
    "soup.find_all('div', {'class':'booking'})"
   ]
  },
  {
   "cell_type": "markdown",
   "metadata": {},
   "source": [
    "That's weird -- an empty set. Did we find the wrong element? What's going on here? Discuss.\n",
    "\n",
    "How can we debug this? Any ideas?"
   ]
  },
  {
   "cell_type": "code",
   "execution_count": 52,
   "metadata": {
    "collapsed": true
   },
   "outputs": [],
   "source": [
    "# let's first try printing out all 'div' objects\n",
    "#  NOTE: This is a too many objects to store in this notebook!\n",
    "#        So, uncomment the code below to run it.\n",
    "\n",
    "# for entry in soup.find_all('div'):\n",
    "#     print entry"
   ]
  },
  {
   "cell_type": "markdown",
   "metadata": {},
   "source": [
    "I still don't see it. Let's search our entire soup object:"
   ]
  },
  {
   "cell_type": "code",
   "execution_count": 31,
   "metadata": {
    "collapsed": true
   },
   "outputs": [],
   "source": [
    "# print out soup, do command+f for \"booked \". \n",
    "#   Uncomment the below to run.\n",
    "\n",
    "# soup"
   ]
  },
  {
   "cell_type": "markdown",
   "metadata": {},
   "source": [
    "What do you notice? Why is this happening?\n",
    "A: Need Selenium to overcome the anitbot feature"
   ]
  },
  {
   "cell_type": "markdown",
   "metadata": {},
   "source": [
    "<a id=\"selenium\"></a>\n",
    "## Introducing Selenium\n",
    "\n",
    "Selenium is a headless browser. It allows us to render JavaScript just as a human-navigated browser would.\n",
    "\n",
    "To install Selenium, use one of the following:\n",
    "- **Anaconda:** `conda install -c conda-forge selenium`\n",
    "- **pip:** `pip install selenium`\n",
    "\n",
    "You will also need GeckoDriver (this assumes you are using Homebrew for Mac): \n",
    "\n",
    "- ```brew install geckodriver```\n",
    "\n",
    "Additionally, you will need to have downloaded the [Firefox browser](https://www.mozilla.org/en-US/firefox/new/?utm_source=google&utm_medium=cpc&utm_campaign=Firefox-Brand-US-GGL-Exact&utm_term=firefox&utm_content=A144_A203_A006336&gclid=Cj0KEQjwnPLKBRC-j7nt1b7OlZwBEiQAv8lMLJUyReT6cPzSYdmEA6uD3YDoieuuuusddgAU7XH6smEaAoje8P8HAQ&gclsrc=aw.ds) for the application in this lesson."
   ]
  },
  {
   "cell_type": "code",
   "execution_count": 53,
   "metadata": {},
   "outputs": [
    {
     "name": "stdout",
     "output_type": "stream",
     "text": [
      "Requirement already satisfied: selenium in /anaconda/envs/Python27/lib/python2.7/site-packages\r\n"
     ]
    }
   ],
   "source": [
    "# needs Python 2\n",
    "!pip install selenium"
   ]
  },
  {
   "cell_type": "code",
   "execution_count": 54,
   "metadata": {
    "collapsed": true
   },
   "outputs": [],
   "source": [
    "# import (only works in Python 3)\n",
    "from selenium import webdriver"
   ]
  },
  {
   "cell_type": "markdown",
   "metadata": {},
   "source": [
    "Selenium requires us to determine a default browser to run. I'm going to opt for Firefox, but Chromium is also a very common choice. http://selenium-python.readthedocs.io/faq.html"
   ]
  },
  {
   "cell_type": "code",
   "execution_count": 35,
   "metadata": {
    "collapsed": true
   },
   "outputs": [],
   "source": [
    "# STOP\n",
    "# what is going to happen when I run the next cell?"
   ]
  },
  {
   "cell_type": "code",
   "execution_count": null,
   "metadata": {
    "collapsed": true
   },
   "outputs": [],
   "source": [
    "# create a driver called Firefox\n",
    "driver = webdriver.Firefox()"
   ]
  },
  {
   "cell_type": "markdown",
   "metadata": {},
   "source": [
    "Pretty crazy, right? Let's close that driver."
   ]
  },
  {
   "cell_type": "code",
   "execution_count": null,
   "metadata": {
    "collapsed": true
   },
   "outputs": [],
   "source": [
    "# close it\n",
    "driver.close()"
   ]
  },
  {
   "cell_type": "code",
   "execution_count": 58,
   "metadata": {
    "collapsed": true
   },
   "outputs": [],
   "source": [
    "# let's boot it up, and visit a URL of our choice\n",
    "driver = webdriver.Firefox()\n",
    "driver.get(\"http://www.python.org\")"
   ]
  },
  {
   "cell_type": "markdown",
   "metadata": {},
   "source": [
    "Awesome. Now we're getting somewhere: programmatically controlling our browser like a human."
   ]
  },
  {
   "cell_type": "markdown",
   "metadata": {},
   "source": [
    "Let's return to our problem at hand. We need to visit the OpenTable listing for DC. Once there, we need to get the html to load. In the next cell, prove you can programmatically visit the page."
   ]
  },
  {
   "cell_type": "code",
   "execution_count": 59,
   "metadata": {
    "collapsed": true
   },
   "outputs": [],
   "source": [
    "# visit our OpenTable page\n",
    "driver = webdriver.Firefox()\n",
    "driver.get(\"http://www.opentable.com/washington-dc-restaurant-listings\")\n",
    "# always good to check we've got the page we think we do\n",
    "assert \"OpenTable\" in driver.title"
   ]
  },
  {
   "cell_type": "code",
   "execution_count": 60,
   "metadata": {},
   "outputs": [
    {
     "data": {
      "text/plain": [
       "u'Washington, D.C. Area Restaurants List | OpenTable'"
      ]
     },
     "execution_count": 60,
     "metadata": {},
     "output_type": "execute_result"
    }
   ],
   "source": [
    "driver.title"
   ]
  },
  {
   "cell_type": "code",
   "execution_count": 61,
   "metadata": {
    "collapsed": true
   },
   "outputs": [],
   "source": [
    "driver.close()"
   ]
  },
  {
   "cell_type": "markdown",
   "metadata": {},
   "source": [
    "<a id=\"selenium-js\"></a>\n",
    "### Running JavaScript before scraping\n",
    "\n",
    "Now, to resolve our JavaScript problem, there's a few things we can do. What I'll do in this case is request that the page load, wait one second, and then I'm going to grab the source html from the page. Because the page should believe I'm visiting from a live connection on a browser client, the JavaScript should render to be a part of the page source. I can then grab the page source."
   ]
  },
  {
   "cell_type": "code",
   "execution_count": 62,
   "metadata": {
    "collapsed": true
   },
   "outputs": [],
   "source": [
    "# import sleep\n",
    "from time import sleep"
   ]
  },
  {
   "cell_type": "code",
   "execution_count": 63,
   "metadata": {
    "collapsed": true
   },
   "outputs": [],
   "source": [
    "# visit our relevant page\n",
    "driver = webdriver.Firefox()\n",
    "driver.get(\"http://www.opentable.com/washington-dc-restaurant-listings\")\n",
    "# wait one second\n",
    "sleep(1)\n",
    "#grab the page source\n",
    "html = driver.page_source"
   ]
  },
  {
   "cell_type": "markdown",
   "metadata": {},
   "source": [
    "**Pop Quiz:** What do we need to do with this HTML?"
   ]
  },
  {
   "cell_type": "code",
   "execution_count": null,
   "metadata": {
    "collapsed": true
   },
   "outputs": [],
   "source": [
    "# BeautifulSoup it!\n",
    "html = BeautifulSoup(html, \"lxml\")"
   ]
  },
  {
   "cell_type": "markdown",
   "metadata": {},
   "source": [
    "Now, let's return to our earlier problem: How do we locate bookings on the page?"
   ]
  },
  {
   "cell_type": "code",
   "execution_count": 66,
   "metadata": {},
   "outputs": [
    {
     "data": {
      "text/plain": [
       "[<div class=\"booking\"><span class=\"tadpole\"></span>Booked 455 times today</div>,\n",
       " <div class=\"booking\"><span class=\"tadpole\"></span>Booked 132 times today</div>,\n",
       " <div class=\"booking\"><span class=\"tadpole\"></span>Booked 132 times today</div>,\n",
       " <div class=\"booking\"><span class=\"tadpole\"></span>Booked 305 times today</div>,\n",
       " <div class=\"booking\"><span class=\"tadpole\"></span>Booked 307 times today</div>,\n",
       " <div class=\"booking\"><span class=\"tadpole\"></span>Booked 152 times today</div>,\n",
       " <div class=\"booking\"><span class=\"tadpole\"></span>Booked 92 times today</div>,\n",
       " <div class=\"booking\"><span class=\"tadpole\"></span>Booked 86 times today</div>,\n",
       " <div class=\"booking\"><span class=\"tadpole\"></span>Booked 54 times today</div>,\n",
       " <div class=\"booking\"><span class=\"tadpole\"></span>Booked 71 times today</div>,\n",
       " <div class=\"booking\"><span class=\"tadpole\"></span>Booked 52 times today</div>,\n",
       " <div class=\"booking\"><span class=\"tadpole\"></span>Booked 55 times today</div>,\n",
       " <div class=\"booking\"><span class=\"tadpole\"></span>Booked 56 times today</div>,\n",
       " <div class=\"booking\"><span class=\"tadpole\"></span>Booked 38 times today</div>,\n",
       " <div class=\"booking\"><span class=\"tadpole\"></span>Booked 117 times today</div>,\n",
       " <div class=\"booking\"><span class=\"tadpole\"></span>Booked 63 times today</div>,\n",
       " <div class=\"booking\"><span class=\"tadpole\"></span>Booked 68 times today</div>,\n",
       " <div class=\"booking\"><span class=\"tadpole\"></span>Booked 43 times today</div>,\n",
       " <div class=\"booking\"><span class=\"tadpole\"></span>Booked 41 times today</div>,\n",
       " <div class=\"booking\"><span class=\"tadpole\"></span>Booked 46 times today</div>,\n",
       " <div class=\"booking\"><span class=\"tadpole\"></span>Booked 45 times today</div>,\n",
       " <div class=\"booking\"><span class=\"tadpole\"></span>Booked 71 times today</div>,\n",
       " <div class=\"booking\"><span class=\"tadpole\"></span>Booked 35 times today</div>,\n",
       " <div class=\"booking\"><span class=\"tadpole\"></span>Booked 33 times today</div>,\n",
       " <div class=\"booking\"><span class=\"tadpole\"></span>Booked 31 times today</div>,\n",
       " <div class=\"booking\"><span class=\"tadpole\"></span>Booked 31 times today</div>,\n",
       " <div class=\"booking\"><span class=\"tadpole\"></span>Booked 48 times today</div>,\n",
       " <div class=\"booking\"><span class=\"tadpole\"></span>Booked 79 times today</div>,\n",
       " <div class=\"booking\"><span class=\"tadpole\"></span>Booked 29 times today</div>,\n",
       " <div class=\"booking\"><span class=\"tadpole\"></span>Booked 19 times today</div>,\n",
       " <div class=\"booking\"><span class=\"tadpole\"></span>Booked 59 times today</div>,\n",
       " <div class=\"booking\"><span class=\"tadpole\"></span>Booked 26 times today</div>,\n",
       " <div class=\"booking\"><span class=\"tadpole\"></span>Booked 53 times today</div>,\n",
       " <div class=\"booking\"><span class=\"tadpole\"></span>Booked 29 times today</div>,\n",
       " <div class=\"booking\"><span class=\"tadpole\"></span>Booked 20 times today</div>,\n",
       " <div class=\"booking\"><span class=\"tadpole\"></span>Booked 19 times today</div>,\n",
       " <div class=\"booking\"><span class=\"tadpole\"></span>Booked 80 times today</div>,\n",
       " <div class=\"booking\"><span class=\"tadpole\"></span>Booked 34 times today</div>,\n",
       " <div class=\"booking\"><span class=\"tadpole\"></span>Booked 29 times today</div>,\n",
       " <div class=\"booking\"><span class=\"tadpole\"></span>Booked 47 times today</div>,\n",
       " <div class=\"booking\"><span class=\"tadpole\"></span>Booked 21 times today</div>,\n",
       " <div class=\"booking\"><span class=\"tadpole\"></span>Booked 43 times today</div>,\n",
       " <div class=\"booking\"><span class=\"tadpole\"></span>Booked 37 times today</div>,\n",
       " <div class=\"booking\"><span class=\"tadpole\"></span>Booked 15 times today</div>,\n",
       " <div class=\"booking\"><span class=\"tadpole\"></span>Booked 24 times today</div>,\n",
       " <div class=\"booking\"><span class=\"tadpole\"></span>Booked 27 times today</div>,\n",
       " <div class=\"booking\"><span class=\"tadpole\"></span>Booked 37 times today</div>,\n",
       " <div class=\"booking\"><span class=\"tadpole\"></span>Booked 24 times today</div>,\n",
       " <div class=\"booking\"><span class=\"tadpole\"></span>Booked 21 times today</div>,\n",
       " <div class=\"booking\"><span class=\"tadpole\"></span>Booked 31 times today</div>,\n",
       " <div class=\"booking\"><span class=\"tadpole\"></span>Booked 24 times today</div>,\n",
       " <div class=\"booking\"><span class=\"tadpole\"></span>Booked 22 times today</div>,\n",
       " <div class=\"booking\"><span class=\"tadpole\"></span>Booked 20 times today</div>,\n",
       " <div class=\"booking\"><span class=\"tadpole\"></span>Booked 36 times today</div>,\n",
       " <div class=\"booking\"><span class=\"tadpole\"></span>Booked 48 times today</div>,\n",
       " <div class=\"booking\"><span class=\"tadpole\"></span>Booked 14 times today</div>,\n",
       " <div class=\"booking\"><span class=\"tadpole\"></span>Booked 38 times today</div>,\n",
       " <div class=\"booking\"><span class=\"tadpole\"></span>Booked 40 times today</div>,\n",
       " <div class=\"booking\"><span class=\"tadpole\"></span>Booked 52 times today</div>,\n",
       " <div class=\"booking\"><span class=\"tadpole\"></span>Booked 49 times today</div>,\n",
       " <div class=\"booking\"><span class=\"tadpole\"></span>Booked 52 times today</div>,\n",
       " <div class=\"booking\"><span class=\"tadpole\"></span>Booked 54 times today</div>,\n",
       " <div class=\"booking\"><span class=\"tadpole\"></span>Booked 5 times today</div>,\n",
       " <div class=\"booking\"><span class=\"tadpole\"></span>Booked 17 times today</div>,\n",
       " <div class=\"booking\"><span class=\"tadpole\"></span>Booked 32 times today</div>,\n",
       " <div class=\"booking\"><span class=\"tadpole\"></span>Booked 12 times today</div>,\n",
       " <div class=\"booking\"><span class=\"tadpole\"></span>Booked 21 times today</div>,\n",
       " <div class=\"booking\"><span class=\"tadpole\"></span>Booked 13 times today</div>,\n",
       " <div class=\"booking\"><span class=\"tadpole\"></span>Booked 19 times today</div>,\n",
       " <div class=\"booking\"><span class=\"tadpole\"></span>Booked 34 times today</div>,\n",
       " <div class=\"booking\"><span class=\"tadpole\"></span>Booked 17 times today</div>,\n",
       " <div class=\"booking\"><span class=\"tadpole\"></span>Booked 27 times today</div>,\n",
       " <div class=\"booking\"><span class=\"tadpole\"></span>Booked 14 times today</div>,\n",
       " <div class=\"booking\"><span class=\"tadpole\"></span>Booked 18 times today</div>,\n",
       " <div class=\"booking\"><span class=\"tadpole\"></span>Booked 37 times today</div>,\n",
       " <div class=\"booking\"><span class=\"tadpole\"></span>Booked 21 times today</div>,\n",
       " <div class=\"booking\"><span class=\"tadpole\"></span>Booked 28 times today</div>,\n",
       " <div class=\"booking\"><span class=\"tadpole\"></span>Booked 63 times today</div>,\n",
       " <div class=\"booking\"><span class=\"tadpole\"></span>Booked 53 times today</div>,\n",
       " <div class=\"booking\"><span class=\"tadpole\"></span>Booked 43 times today</div>,\n",
       " <div class=\"booking\"><span class=\"tadpole\"></span>Booked 49 times today</div>,\n",
       " <div class=\"booking\"><span class=\"tadpole\"></span>Booked 25 times today</div>,\n",
       " <div class=\"booking\"><span class=\"tadpole\"></span>Booked 10 times today</div>,\n",
       " <div class=\"booking\"><span class=\"tadpole\"></span>Booked 14 times today</div>,\n",
       " <div class=\"booking\"><span class=\"tadpole\"></span>Booked 31 times today</div>,\n",
       " <div class=\"booking\"><span class=\"tadpole\"></span>Booked 25 times today</div>,\n",
       " <div class=\"booking\"><span class=\"tadpole\"></span>Booked 22 times today</div>,\n",
       " <div class=\"booking\"><span class=\"tadpole\"></span>Booked 12 times today</div>,\n",
       " <div class=\"booking\"><span class=\"tadpole\"></span>Booked 30 times today</div>,\n",
       " <div class=\"booking\"><span class=\"tadpole\"></span>Booked 25 times today</div>,\n",
       " <div class=\"booking\"><span class=\"tadpole\"></span>Booked 16 times today</div>,\n",
       " <div class=\"booking\"><span class=\"tadpole\"></span>Booked 25 times today</div>,\n",
       " <div class=\"booking\"><span class=\"tadpole\"></span>Booked 18 times today</div>,\n",
       " <div class=\"booking\"><span class=\"tadpole\"></span>Booked 19 times today</div>,\n",
       " <div class=\"booking\"><span class=\"tadpole\"></span>Booked 18 times today</div>,\n",
       " <div class=\"booking\"><span class=\"tadpole\"></span>Booked 17 times today</div>,\n",
       " <div class=\"booking\"><span class=\"tadpole\"></span>Booked 15 times today</div>,\n",
       " <div class=\"booking\"><span class=\"tadpole\"></span>Booked 6 times today</div>]"
      ]
     },
     "execution_count": 66,
     "metadata": {},
     "output_type": "execute_result"
    }
   ],
   "source": [
    "# print out the number bookings for all restaurants\n",
    "html.find_all('div', {'class':'booking'})"
   ]
  },
  {
   "cell_type": "code",
   "execution_count": 67,
   "metadata": {
    "scrolled": true
   },
   "outputs": [
    {
     "name": "stdout",
     "output_type": "stream",
     "text": [
      "<div class=\"booking\"><span class=\"tadpole\"></span>Booked 455 times today</div>\n",
      "<div class=\"booking\"><span class=\"tadpole\"></span>Booked 132 times today</div>\n",
      "<div class=\"booking\"><span class=\"tadpole\"></span>Booked 132 times today</div>\n",
      "<div class=\"booking\"><span class=\"tadpole\"></span>Booked 305 times today</div>\n",
      "<div class=\"booking\"><span class=\"tadpole\"></span>Booked 307 times today</div>\n",
      "<div class=\"booking\"><span class=\"tadpole\"></span>Booked 152 times today</div>\n",
      "<div class=\"booking\"><span class=\"tadpole\"></span>Booked 92 times today</div>\n",
      "<div class=\"booking\"><span class=\"tadpole\"></span>Booked 86 times today</div>\n",
      "<div class=\"booking\"><span class=\"tadpole\"></span>Booked 54 times today</div>\n",
      "<div class=\"booking\"><span class=\"tadpole\"></span>Booked 71 times today</div>\n",
      "<div class=\"booking\"><span class=\"tadpole\"></span>Booked 52 times today</div>\n",
      "<div class=\"booking\"><span class=\"tadpole\"></span>Booked 55 times today</div>\n",
      "<div class=\"booking\"><span class=\"tadpole\"></span>Booked 56 times today</div>\n",
      "<div class=\"booking\"><span class=\"tadpole\"></span>Booked 38 times today</div>\n",
      "<div class=\"booking\"><span class=\"tadpole\"></span>Booked 117 times today</div>\n",
      "<div class=\"booking\"><span class=\"tadpole\"></span>Booked 63 times today</div>\n",
      "<div class=\"booking\"><span class=\"tadpole\"></span>Booked 68 times today</div>\n",
      "<div class=\"booking\"><span class=\"tadpole\"></span>Booked 43 times today</div>\n",
      "<div class=\"booking\"><span class=\"tadpole\"></span>Booked 41 times today</div>\n",
      "<div class=\"booking\"><span class=\"tadpole\"></span>Booked 46 times today</div>\n",
      "<div class=\"booking\"><span class=\"tadpole\"></span>Booked 45 times today</div>\n",
      "<div class=\"booking\"><span class=\"tadpole\"></span>Booked 71 times today</div>\n",
      "<div class=\"booking\"><span class=\"tadpole\"></span>Booked 35 times today</div>\n",
      "<div class=\"booking\"><span class=\"tadpole\"></span>Booked 33 times today</div>\n",
      "<div class=\"booking\"><span class=\"tadpole\"></span>Booked 31 times today</div>\n",
      "<div class=\"booking\"><span class=\"tadpole\"></span>Booked 31 times today</div>\n",
      "<div class=\"booking\"><span class=\"tadpole\"></span>Booked 48 times today</div>\n",
      "<div class=\"booking\"><span class=\"tadpole\"></span>Booked 79 times today</div>\n",
      "<div class=\"booking\"><span class=\"tadpole\"></span>Booked 29 times today</div>\n",
      "<div class=\"booking\"><span class=\"tadpole\"></span>Booked 19 times today</div>\n",
      "<div class=\"booking\"><span class=\"tadpole\"></span>Booked 59 times today</div>\n",
      "<div class=\"booking\"><span class=\"tadpole\"></span>Booked 26 times today</div>\n",
      "<div class=\"booking\"><span class=\"tadpole\"></span>Booked 53 times today</div>\n",
      "<div class=\"booking\"><span class=\"tadpole\"></span>Booked 29 times today</div>\n",
      "<div class=\"booking\"><span class=\"tadpole\"></span>Booked 20 times today</div>\n",
      "<div class=\"booking\"><span class=\"tadpole\"></span>Booked 19 times today</div>\n",
      "<div class=\"booking\"><span class=\"tadpole\"></span>Booked 80 times today</div>\n",
      "<div class=\"booking\"><span class=\"tadpole\"></span>Booked 34 times today</div>\n",
      "<div class=\"booking\"><span class=\"tadpole\"></span>Booked 29 times today</div>\n",
      "<div class=\"booking\"><span class=\"tadpole\"></span>Booked 47 times today</div>\n",
      "<div class=\"booking\"><span class=\"tadpole\"></span>Booked 21 times today</div>\n",
      "<div class=\"booking\"><span class=\"tadpole\"></span>Booked 43 times today</div>\n",
      "<div class=\"booking\"><span class=\"tadpole\"></span>Booked 37 times today</div>\n",
      "<div class=\"booking\"><span class=\"tadpole\"></span>Booked 15 times today</div>\n",
      "<div class=\"booking\"><span class=\"tadpole\"></span>Booked 24 times today</div>\n",
      "<div class=\"booking\"><span class=\"tadpole\"></span>Booked 27 times today</div>\n",
      "<div class=\"booking\"><span class=\"tadpole\"></span>Booked 37 times today</div>\n",
      "<div class=\"booking\"><span class=\"tadpole\"></span>Booked 24 times today</div>\n",
      "<div class=\"booking\"><span class=\"tadpole\"></span>Booked 21 times today</div>\n",
      "<div class=\"booking\"><span class=\"tadpole\"></span>Booked 31 times today</div>\n",
      "<div class=\"booking\"><span class=\"tadpole\"></span>Booked 24 times today</div>\n",
      "<div class=\"booking\"><span class=\"tadpole\"></span>Booked 22 times today</div>\n",
      "<div class=\"booking\"><span class=\"tadpole\"></span>Booked 20 times today</div>\n",
      "<div class=\"booking\"><span class=\"tadpole\"></span>Booked 36 times today</div>\n",
      "<div class=\"booking\"><span class=\"tadpole\"></span>Booked 48 times today</div>\n",
      "<div class=\"booking\"><span class=\"tadpole\"></span>Booked 14 times today</div>\n",
      "<div class=\"booking\"><span class=\"tadpole\"></span>Booked 38 times today</div>\n",
      "<div class=\"booking\"><span class=\"tadpole\"></span>Booked 40 times today</div>\n",
      "<div class=\"booking\"><span class=\"tadpole\"></span>Booked 52 times today</div>\n",
      "<div class=\"booking\"><span class=\"tadpole\"></span>Booked 49 times today</div>\n",
      "<div class=\"booking\"><span class=\"tadpole\"></span>Booked 52 times today</div>\n",
      "<div class=\"booking\"><span class=\"tadpole\"></span>Booked 54 times today</div>\n",
      "<div class=\"booking\"><span class=\"tadpole\"></span>Booked 5 times today</div>\n",
      "<div class=\"booking\"><span class=\"tadpole\"></span>Booked 17 times today</div>\n",
      "<div class=\"booking\"><span class=\"tadpole\"></span>Booked 32 times today</div>\n",
      "<div class=\"booking\"><span class=\"tadpole\"></span>Booked 12 times today</div>\n",
      "<div class=\"booking\"><span class=\"tadpole\"></span>Booked 21 times today</div>\n",
      "<div class=\"booking\"><span class=\"tadpole\"></span>Booked 13 times today</div>\n",
      "<div class=\"booking\"><span class=\"tadpole\"></span>Booked 19 times today</div>\n",
      "<div class=\"booking\"><span class=\"tadpole\"></span>Booked 34 times today</div>\n",
      "<div class=\"booking\"><span class=\"tadpole\"></span>Booked 17 times today</div>\n",
      "<div class=\"booking\"><span class=\"tadpole\"></span>Booked 27 times today</div>\n",
      "<div class=\"booking\"><span class=\"tadpole\"></span>Booked 14 times today</div>\n",
      "<div class=\"booking\"><span class=\"tadpole\"></span>Booked 18 times today</div>\n",
      "<div class=\"booking\"><span class=\"tadpole\"></span>Booked 37 times today</div>\n",
      "<div class=\"booking\"><span class=\"tadpole\"></span>Booked 21 times today</div>\n",
      "<div class=\"booking\"><span class=\"tadpole\"></span>Booked 28 times today</div>\n",
      "<div class=\"booking\"><span class=\"tadpole\"></span>Booked 63 times today</div>\n",
      "<div class=\"booking\"><span class=\"tadpole\"></span>Booked 53 times today</div>\n",
      "<div class=\"booking\"><span class=\"tadpole\"></span>Booked 43 times today</div>\n",
      "<div class=\"booking\"><span class=\"tadpole\"></span>Booked 49 times today</div>\n",
      "<div class=\"booking\"><span class=\"tadpole\"></span>Booked 25 times today</div>\n",
      "<div class=\"booking\"><span class=\"tadpole\"></span>Booked 10 times today</div>\n",
      "<div class=\"booking\"><span class=\"tadpole\"></span>Booked 14 times today</div>\n",
      "<div class=\"booking\"><span class=\"tadpole\"></span>Booked 31 times today</div>\n",
      "<div class=\"booking\"><span class=\"tadpole\"></span>Booked 25 times today</div>\n",
      "<div class=\"booking\"><span class=\"tadpole\"></span>Booked 22 times today</div>\n",
      "<div class=\"booking\"><span class=\"tadpole\"></span>Booked 12 times today</div>\n",
      "<div class=\"booking\"><span class=\"tadpole\"></span>Booked 30 times today</div>\n",
      "<div class=\"booking\"><span class=\"tadpole\"></span>Booked 25 times today</div>\n",
      "<div class=\"booking\"><span class=\"tadpole\"></span>Booked 16 times today</div>\n",
      "<div class=\"booking\"><span class=\"tadpole\"></span>Booked 25 times today</div>\n",
      "<div class=\"booking\"><span class=\"tadpole\"></span>Booked 18 times today</div>\n",
      "<div class=\"booking\"><span class=\"tadpole\"></span>Booked 19 times today</div>\n",
      "<div class=\"booking\"><span class=\"tadpole\"></span>Booked 18 times today</div>\n",
      "<div class=\"booking\"><span class=\"tadpole\"></span>Booked 17 times today</div>\n",
      "<div class=\"booking\"><span class=\"tadpole\"></span>Booked 15 times today</div>\n",
      "<div class=\"booking\"><span class=\"tadpole\"></span>Booked 6 times today</div>\n"
     ]
    }
   ],
   "source": [
    "# now print out each booking for the listings using a loop\n",
    "for entry in html.find_all('div', {'class':'booking'}):\n",
    "    print entry"
   ]
  },
  {
   "cell_type": "markdown",
   "metadata": {},
   "source": [
    "Let's grab just the text of each of these entries."
   ]
  },
  {
   "cell_type": "code",
   "execution_count": 68,
   "metadata": {},
   "outputs": [
    {
     "name": "stdout",
     "output_type": "stream",
     "text": [
      "Booked 455 times today\n",
      "Booked 132 times today\n",
      "Booked 132 times today\n",
      "Booked 305 times today\n",
      "Booked 307 times today\n",
      "Booked 152 times today\n",
      "Booked 92 times today\n",
      "Booked 86 times today\n",
      "Booked 54 times today\n",
      "Booked 71 times today\n",
      "Booked 52 times today\n",
      "Booked 55 times today\n",
      "Booked 56 times today\n",
      "Booked 38 times today\n",
      "Booked 117 times today\n",
      "Booked 63 times today\n",
      "Booked 68 times today\n",
      "Booked 43 times today\n",
      "Booked 41 times today\n",
      "Booked 46 times today\n",
      "Booked 45 times today\n",
      "Booked 71 times today\n",
      "Booked 35 times today\n",
      "Booked 33 times today\n",
      "Booked 31 times today\n",
      "Booked 31 times today\n",
      "Booked 48 times today\n",
      "Booked 79 times today\n",
      "Booked 29 times today\n",
      "Booked 19 times today\n",
      "Booked 59 times today\n",
      "Booked 26 times today\n",
      "Booked 53 times today\n",
      "Booked 29 times today\n",
      "Booked 20 times today\n",
      "Booked 19 times today\n",
      "Booked 80 times today\n",
      "Booked 34 times today\n",
      "Booked 29 times today\n",
      "Booked 47 times today\n",
      "Booked 21 times today\n",
      "Booked 43 times today\n",
      "Booked 37 times today\n",
      "Booked 15 times today\n",
      "Booked 24 times today\n",
      "Booked 27 times today\n",
      "Booked 37 times today\n",
      "Booked 24 times today\n",
      "Booked 21 times today\n",
      "Booked 31 times today\n",
      "Booked 24 times today\n",
      "Booked 22 times today\n",
      "Booked 20 times today\n",
      "Booked 36 times today\n",
      "Booked 48 times today\n",
      "Booked 14 times today\n",
      "Booked 38 times today\n",
      "Booked 40 times today\n",
      "Booked 52 times today\n",
      "Booked 49 times today\n",
      "Booked 52 times today\n",
      "Booked 54 times today\n",
      "Booked 5 times today\n",
      "Booked 17 times today\n",
      "Booked 32 times today\n",
      "Booked 12 times today\n",
      "Booked 21 times today\n",
      "Booked 13 times today\n",
      "Booked 19 times today\n",
      "Booked 34 times today\n",
      "Booked 17 times today\n",
      "Booked 27 times today\n",
      "Booked 14 times today\n",
      "Booked 18 times today\n",
      "Booked 37 times today\n",
      "Booked 21 times today\n",
      "Booked 28 times today\n",
      "Booked 63 times today\n",
      "Booked 53 times today\n",
      "Booked 43 times today\n",
      "Booked 49 times today\n",
      "Booked 25 times today\n",
      "Booked 10 times today\n",
      "Booked 14 times today\n",
      "Booked 31 times today\n",
      "Booked 25 times today\n",
      "Booked 22 times today\n",
      "Booked 12 times today\n",
      "Booked 30 times today\n",
      "Booked 25 times today\n",
      "Booked 16 times today\n",
      "Booked 25 times today\n",
      "Booked 18 times today\n",
      "Booked 19 times today\n",
      "Booked 18 times today\n",
      "Booked 17 times today\n",
      "Booked 15 times today\n",
      "Booked 6 times today\n"
     ]
    }
   ],
   "source": [
    "# do the same as above, but grabbing only the text content\n",
    "for entry in html.find_all('div', {'class':'booking'}):\n",
    "    print entry.text"
   ]
  },
  {
   "cell_type": "code",
   "execution_count": 69,
   "metadata": {
    "collapsed": true
   },
   "outputs": [],
   "source": [
    "driver.close()"
   ]
  },
  {
   "cell_type": "markdown",
   "metadata": {},
   "source": [
    "We've succeeded!\n",
    "\n",
    "<a id=\"selenium-regex\"></a>\n",
    "### Using regex to only get digits\n",
    "\n",
    "But we can clean this up a little bit. We're going to use regular expressions (regex) to grab only the digits that are available in each of the text.\n",
    "\n",
    "The best way to get good at regex is to, well, just keep trying and testing: http://pythex.org/"
   ]
  },
  {
   "cell_type": "code",
   "execution_count": 71,
   "metadata": {
    "collapsed": true
   },
   "outputs": [],
   "source": [
    "# import regex\n",
    "import re"
   ]
  },
  {
   "cell_type": "markdown",
   "metadata": {},
   "source": [
    "Given we haven't covered regex, I'll show you how to use the search function to match any given digit."
   ]
  },
  {
   "cell_type": "code",
   "execution_count": 72,
   "metadata": {},
   "outputs": [
    {
     "name": "stdout",
     "output_type": "stream",
     "text": [
      "455\n",
      "132\n",
      "132\n",
      "305\n",
      "307\n",
      "152\n",
      "92\n",
      "86\n",
      "54\n",
      "71\n",
      "52\n",
      "55\n",
      "56\n",
      "38\n",
      "117\n",
      "63\n",
      "68\n",
      "43\n",
      "41\n",
      "46\n",
      "45\n",
      "71\n",
      "35\n",
      "33\n",
      "31\n",
      "31\n",
      "48\n",
      "79\n",
      "29\n",
      "19\n",
      "59\n",
      "26\n",
      "53\n",
      "29\n",
      "20\n",
      "19\n",
      "80\n",
      "34\n",
      "29\n",
      "47\n",
      "21\n",
      "43\n",
      "37\n",
      "15\n",
      "24\n",
      "27\n",
      "37\n",
      "24\n",
      "21\n",
      "31\n",
      "24\n",
      "22\n",
      "20\n",
      "36\n",
      "48\n",
      "14\n",
      "38\n",
      "40\n",
      "52\n",
      "49\n",
      "52\n",
      "54\n",
      "5\n",
      "17\n",
      "32\n",
      "12\n",
      "21\n",
      "13\n",
      "19\n",
      "34\n",
      "17\n",
      "27\n",
      "14\n",
      "18\n",
      "37\n",
      "21\n",
      "28\n",
      "63\n",
      "53\n",
      "43\n",
      "49\n",
      "25\n",
      "10\n",
      "14\n",
      "31\n",
      "25\n",
      "22\n",
      "12\n",
      "30\n",
      "25\n",
      "16\n",
      "25\n",
      "18\n",
      "19\n",
      "18\n",
      "17\n",
      "15\n",
      "6\n"
     ]
    }
   ],
   "source": [
    "# for each entry, grab the text\n",
    "for booking in html.find_all('div', {'class':'booking'}):\n",
    "    # match all digits\n",
    "    match = re.search(r'\\d+', booking.text)\n",
    "    \n",
    "    if match:\n",
    "        # print if found\n",
    "        print match.group()\n",
    "    else:\n",
    "        # otherwise pass\n",
    "        pass"
   ]
  },
  {
   "cell_type": "markdown",
   "metadata": {},
   "source": [
    "Before we demonstrate all the other amazing things about headless browsers, let's finish up collecting the data we want from this current example. Do you suppose the html parsing we wrote above will still work on the page source we've grabbed from our headless browser?"
   ]
  },
  {
   "cell_type": "markdown",
   "metadata": {},
   "source": [
    "To be most efficient, we want to only do a single loop for each entry on the page. That means we want to find what element all of other other elements (name, location, price, bookings) is housed within. Where on the page is each entry located?"
   ]
  },
  {
   "cell_type": "code",
   "execution_count": 73,
   "metadata": {},
   "outputs": [
    {
     "data": {
      "text/plain": [
       "[<div class=\"result content-section-list-row cf with-times\" data-id=\"0\" data-index=\"1\" data-lat=\"38.8974400\" data-lon=\"-77.1242130\" data-offers=\"\" data-rid=\"66715\"><div class=\"rest-row with-image\"> <div class=\"rest-row-image\"> <a href=\"/ruffinos-arlington\" onclick=\"OT.BestAnalytics.logRestaurantVisit(66715)\" target=\"_blank\"><img alt=\"photo of ruffino's - arlington restaurant\" class=\"lazy rest-image\" data-src=\"//resizer.otstatic.com/v2/profiles/legacy/66715.jpg\" src=\"//media.otstatic.com/search-result-node/images/no-image.png\"/></a></div> <div class=\"rest-row-info\"><div class=\"rest-row-header\"> <a class=\"rest-row-name rest-name \" href=\"/ruffinos-arlington\" onclick=\"OT.BestAnalytics.logRestaurantVisit(66715)\" target=\"_blank\"> <span class=\"rest-row-name-text\">Ruffino's - Arlington</span> </a> </div> <div class=\" flex-row-justify\"> <div class=\"rest-row-review\"> <div class=\"star-rating review-container\"><div class=\"star-wrapper small\"><div class=\"all-stars\"></div><div class=\"all-stars filled\" style=\"width: 92%;\"></div></div> <a class=\"review-link\" href=\"/ruffinos-arlington#reviews\" target=\"_blank\"> <span class=\"star-rating-text underline-hover\">(80)</span> <span class=\"star-rating-text--review-text underline-hover\">80 reviews</span> </a></div> <span class=\"recommended-container\"><span class=\"thumbs-up-icon\"></span> <span class=\"recommended-small\">85%</span> <span class=\"recommended-text\">85% Recommend</span> </span> </div> <div class=\"rest-row-pricing\"><i>  $    $      </i>   $    $      </div> </div><div class=\"rest-row-meta rest-row-meta-grid flex-row-justify\"> <span class=\"rest-row-meta--cuisine rest-row-meta-text\">Italian</span> <span class=\"rest-row-meta--location rest-row-meta-text\">Arlington</span></div> <div class=\"message-alerts\"> </div> <div class=\"rest-row-times-cont\"><div class=\"rest-row-times\"> <div class=\"timeslot-window\"><ul class=\"availability-row-container\"> <li class=\"timeslot-option timeslot-control\"> <a class=\"rest-row-times-btn timeslot\" data-covers=\"2\" data-datetime=\"2017-09-30 18:00\" data-name=\"Ruffino's - Arlington\" data-rid=\"66715\" href=\"/book/validate?rid=66715&amp;d=2017-09-30 18:00&amp;p=2&amp;pt=100&amp;ss=0&amp;sd=2017-09-30 18:00&amp;pofids=&amp;hash=3900297329\" onclick=\"OT.BestAnalytics.logRestaurantVisit(66715, '18:00')\"> 6:00 pm  </a> </li> <li class=\"timeslot-option timeslot-control\"> <a class=\"rest-row-times-btn timeslot\" data-covers=\"2\" data-datetime=\"2017-09-30 18:30\" data-name=\"Ruffino's - Arlington\" data-rid=\"66715\" href=\"/book/validate?rid=66715&amp;d=2017-09-30 18:30&amp;p=2&amp;pt=100&amp;ss=0&amp;sd=2017-09-30 18:30&amp;pofids=&amp;hash=3195811480\" onclick=\"OT.BestAnalytics.logRestaurantVisit(66715, '18:30')\"> 6:30 pm  </a> </li> <li class=\"timeslot-option timeslot-control\"> <a class=\"rest-row-times-btn exact timeslot\" data-covers=\"2\" data-datetime=\"2017-09-30 19:00\" data-name=\"Ruffino's - Arlington\" data-rid=\"66715\" href=\"/book/validate?rid=66715&amp;d=2017-09-30 19:00&amp;p=2&amp;pt=100&amp;ss=0&amp;sd=2017-09-30 19:00&amp;pofids=&amp;hash=2388807989\" onclick=\"OT.BestAnalytics.logRestaurantVisit(66715, '19:00')\"> 7:00 pm  </a> </li> <li class=\"timeslot-option timeslot-control\"> <a class=\"rest-row-times-btn timeslot\" data-covers=\"2\" data-datetime=\"2017-09-30 19:30\" data-name=\"Ruffino's - Arlington\" data-rid=\"66715\" href=\"/book/validate?rid=66715&amp;d=2017-09-30 19:30&amp;p=2&amp;pt=100&amp;ss=0&amp;sd=2017-09-30 19:30&amp;pofids=&amp;hash=1752671492\" onclick=\"OT.BestAnalytics.logRestaurantVisit(66715, '19:30')\"> 7:30 pm  </a> </li> <li class=\"timeslot-option timeslot-control\"> <a class=\"rest-row-times-btn timeslot\" data-covers=\"2\" data-datetime=\"2017-09-30 20:00\" data-name=\"Ruffino's - Arlington\" data-rid=\"66715\" href=\"/book/validate?rid=66715&amp;d=2017-09-30 20:00&amp;p=2&amp;pt=100&amp;ss=0&amp;sd=2017-09-30 20:00&amp;pofids=&amp;hash=3457084471\" onclick=\"OT.BestAnalytics.logRestaurantVisit(66715, '20:00')\"> 8:00 pm  </a> </li> </ul></div> </div></div> </div></div> </div>,\n",
       " <div class=\"result content-section-list-row cf with-times\" data-id=\"1\" data-index=\"2\" data-lat=\"38.8959600\" data-lon=\"-77.1402880\" data-offers=\"\" data-rid=\"144103\"><div class=\"rest-row with-image\"> <div class=\"rest-row-image\"> <a href=\"/joes-place-pizza-and-pasta\" onclick=\"OT.BestAnalytics.logRestaurantVisit(144103)\" target=\"_blank\"><img alt=\"photo of joe's place pizza and pasta restaurant\" class=\"lazy rest-image\" data-src=\"//resizer.otstatic.com/v2/profiles/legacy/144103.jpg\" src=\"//media.otstatic.com/search-result-node/images/no-image.png\"/></a></div> <div class=\"rest-row-info\"><div class=\"rest-row-header\"> <a class=\"rest-row-name rest-name \" href=\"/joes-place-pizza-and-pasta\" onclick=\"OT.BestAnalytics.logRestaurantVisit(144103)\" target=\"_blank\"> <span class=\"rest-row-name-text\">Joe's Place Pizza and Pasta</span> </a> </div> <div class=\" flex-row-justify\"> <div class=\"rest-row-review\"> <div class=\"star-rating review-container\"><div class=\"star-wrapper small\"><div class=\"all-stars\"></div><div class=\"all-stars filled\" style=\"width: 0%;\"></div></div> <a class=\"review-link\" href=\"/joes-place-pizza-and-pasta#reviews\" target=\"_blank\"> <span class=\"star-rating-text underline-hover\">(3)</span> <span class=\"star-rating-text--review-text underline-hover\">3 reviews</span> </a></div> </div> <div class=\"rest-row-pricing\"><i>  $    $      </i>   $    $      </div> </div><div class=\"rest-row-meta rest-row-meta-grid flex-row-justify\"> <span class=\"rest-row-meta--cuisine rest-row-meta-text\">Italian</span> <span class=\"rest-row-meta--location rest-row-meta-text\">Arlington</span></div> <div class=\"message-alerts\"> </div> <div class=\"rest-row-times-cont\"> <a class=\"button minimal\" href=\"/joes-place-pizza-and-pasta\">Find next available</a> <p class=\"not-available-message\"> No tables are available within 2.5 hours of your 7:00 PM request.</p> </div> </div></div> </div>,\n",
       " <div class=\"result content-section-list-row cf with-times\" data-id=\"2\" data-index=\"3\" data-lat=\"38.9004300\" data-lon=\"-77.0441590\" data-offers=\"\" data-rid=\"24712\"><div class=\"rest-row with-image\"> <div class=\"rest-row-image\"> <a href=\"/founding-farmers-dc\" onclick=\"OT.BestAnalytics.logRestaurantVisit(24712)\" target=\"_blank\"><img alt=\"photo of founding farmers - dc restaurant\" class=\"lazy rest-image\" data-src=\"//resizer.otstatic.com/v2/profiles/legacy/24712.jpg\" src=\"//media.otstatic.com/search-result-node/images/no-image.png\"/></a></div> <div class=\"rest-row-info\"><div class=\"rest-row-header\"> <a class=\"rest-row-name rest-name \" href=\"/founding-farmers-dc\" onclick=\"OT.BestAnalytics.logRestaurantVisit(24712)\" target=\"_blank\"> <span class=\"rest-row-name-text\">Founding Farmers - DC</span> </a> </div> <div class=\" flex-row-justify\"> <div class=\"rest-row-review\"> <div class=\"star-rating review-container\"><div class=\"star-wrapper small\"><div class=\"all-stars\"></div><div class=\"all-stars filled\" style=\"width: 90%;\"></div></div> <a class=\"review-link\" href=\"/founding-farmers-dc#reviews\" target=\"_blank\"> <span class=\"star-rating-text underline-hover\">(21206)</span> <span class=\"star-rating-text--review-text underline-hover\">21206 reviews</span> </a></div> <span class=\"recommended-container\"><span class=\"thumbs-up-icon\"></span> <span class=\"recommended-small\">91%</span> <span class=\"recommended-text\">91% Recommend</span> </span> </div> <div class=\"rest-row-pricing\"><i>  $    $      </i>   $    $      </div> </div><div class=\"rest-row-meta rest-row-meta-grid flex-row-justify\"> <span class=\"rest-row-meta--cuisine rest-row-meta-text\">American</span> <span class=\"rest-row-meta--location rest-row-meta-text\">Foggy Bottom</span></div> <div class=\"message-alerts\"> <div class=\"notice-timeslot\"><span class=\"clock-icon\"></span> <span>Hurry, we only have 2 timeslots left!</span></div> </div> <div class=\"rest-row-times-cont\"><div class=\"rest-row-times\"> <div class=\"timeslot-window\"><ul class=\"availability-row-container\"> <li class=\"timeslot-option\"> <a class=\"rest-row-times-btn unavailable\" data-offers=\"\">\\xa0 </a> </li> <li class=\"timeslot-option timeslot-control\"> <a class=\"rest-row-times-btn timeslot\" data-covers=\"2\" data-datetime=\"2017-09-30 16:30\" data-name=\"Founding Farmers - DC\" data-rid=\"24712\" href=\"/book/validate?rid=24712&amp;d=2017-09-30 16:30&amp;p=2&amp;pt=100&amp;ss=0&amp;sd=2017-09-30 16:30&amp;pofids=&amp;hash=1803014966\" onclick=\"OT.BestAnalytics.logRestaurantVisit(24712, '16:30')\"> 4:30 pm  </a> </li> <li class=\"timeslot-option\"> <a class=\"rest-row-times-btn exact unavailable\" data-offers=\"\">\\xa0 </a> </li> <li class=\"timeslot-option timeslot-control\"> <a class=\"rest-row-times-btn timeslot\" data-covers=\"2\" data-datetime=\"2017-09-30 21:30\" data-name=\"Founding Farmers - DC\" data-rid=\"24712\" href=\"/book/validate?rid=24712&amp;d=2017-09-30 21:30&amp;p=2&amp;pt=100&amp;ss=0&amp;sd=2017-09-30 21:30&amp;pofids=&amp;hash=1047856982\" onclick=\"OT.BestAnalytics.logRestaurantVisit(24712, '21:30')\"> 9:30 pm  </a> </li> <li class=\"timeslot-option\"> <a class=\"rest-row-times-btn unavailable\" data-offers=\"\">\\xa0 </a> </li> </ul></div> </div></div> </div></div> </div>,\n",
       " <div class=\"result content-section-list-row cf with-times\" data-id=\"3\" data-index=\"4\" data-lat=\"38.9047270\" data-lon=\"-77.0484070\" data-offers=\"\" data-rid=\"83077\"><div class=\"rest-row with-image\"> <div class=\"rest-row-image\"> <a href=\"/rasika-west-end\" onclick=\"OT.BestAnalytics.logRestaurantVisit(83077)\" target=\"_blank\"><img alt=\"photo of rasika west end restaurant\" class=\"lazy rest-image\" data-src=\"//resizer.otstatic.com/v2/profiles/legacy/83077.jpg\" src=\"//media.otstatic.com/search-result-node/images/no-image.png\"/></a></div> <div class=\"rest-row-info\"><div class=\"rest-row-header\"> <a class=\"rest-row-name rest-name \" href=\"/rasika-west-end\" onclick=\"OT.BestAnalytics.logRestaurantVisit(83077)\" target=\"_blank\"> <span class=\"rest-row-name-text\">Rasika West End</span> </a> </div> <div class=\" flex-row-justify\"> <div class=\"rest-row-review\"> <div class=\"star-rating review-container\"><div class=\"star-wrapper small\"><div class=\"all-stars\"></div><div class=\"all-stars filled\" style=\"width: 94%;\"></div></div> <a class=\"review-link\" href=\"/rasika-west-end#reviews\" target=\"_blank\"> <span class=\"star-rating-text underline-hover\">(3329)</span> <span class=\"star-rating-text--review-text underline-hover\">3329 reviews</span> </a></div> <span class=\"recommended-container\"><span class=\"thumbs-up-icon\"></span> <span class=\"recommended-small\">95%</span> <span class=\"recommended-text\">95% Recommend</span> </span> </div> <div class=\"rest-row-pricing\"><i>  $    $    $    </i>   $        </div> </div><div class=\"rest-row-meta rest-row-meta-grid flex-row-justify\"> <span class=\"rest-row-meta--cuisine rest-row-meta-text\">Contemporary Indian</span> <span class=\"rest-row-meta--location rest-row-meta-text\">West End</span></div> <div class=\"message-alerts\"> <div class=\"notice-timeslot\"><span class=\"clock-icon\"></span> <span>Hurry, we only have 1 timeslot left!</span></div> </div> <div class=\"rest-row-times-cont\"><div class=\"rest-row-times\"> <div class=\"timeslot-window\"><ul class=\"availability-row-container\"> <li class=\"timeslot-option\"> <a class=\"rest-row-times-btn unavailable\" data-offers=\"\">\\xa0 </a> </li> <li class=\"timeslot-option timeslot-control\"> <a class=\"rest-row-times-btn timeslot\" data-covers=\"2\" data-datetime=\"2017-09-30 18:15\" data-name=\"Rasika West End\" data-rid=\"83077\" href=\"/book/validate?rid=83077&amp;d=2017-09-30 18:15&amp;p=2&amp;pt=100&amp;ss=0&amp;sd=2017-09-30 18:15&amp;pofids=&amp;hash=745779297\" onclick=\"OT.BestAnalytics.logRestaurantVisit(83077, '18:15')\"> 6:15 pm  </a> </li> <li class=\"timeslot-option\"> <a class=\"rest-row-times-btn exact unavailable\" data-offers=\"\">\\xa0 </a> </li> <li class=\"timeslot-option\"> <a class=\"rest-row-times-btn unavailable\" data-offers=\"\">\\xa0 </a> </li> <li class=\"timeslot-option\"> <a class=\"rest-row-times-btn unavailable\" data-offers=\"\">\\xa0 </a> </li> </ul></div> </div></div> </div></div> </div>,\n",
       " <div class=\"result content-section-list-row cf with-times\" data-id=\"4\" data-index=\"5\" data-lat=\"38.9054540\" data-lon=\"-77.0512230\" data-offers=\"\" data-rid=\"1517\"><div class=\"rest-row with-image\"> <div class=\"rest-row-image\"> <a href=\"/blue-duck-tavern\" onclick=\"OT.BestAnalytics.logRestaurantVisit(1517)\" target=\"_blank\"><img alt=\"photo of blue duck tavern restaurant\" class=\"lazy rest-image\" data-src=\"//resizer.otstatic.com/v2/profiles/legacy/1517.jpg\" src=\"//media.otstatic.com/search-result-node/images/no-image.png\"/></a></div> <div class=\"rest-row-info\"><div class=\"rest-row-header\"> <a class=\"rest-row-name rest-name \" href=\"/blue-duck-tavern\" onclick=\"OT.BestAnalytics.logRestaurantVisit(1517)\" target=\"_blank\"> <span class=\"rest-row-name-text\">Blue Duck Tavern</span> </a> </div> <div class=\" flex-row-justify\"> <div class=\"rest-row-review\"> <div class=\"star-rating review-container\"><div class=\"star-wrapper small\"><div class=\"all-stars\"></div><div class=\"all-stars filled\" style=\"width: 94%;\"></div></div> <a class=\"review-link\" href=\"/blue-duck-tavern#reviews\" target=\"_blank\"> <span class=\"star-rating-text underline-hover\">(5330)</span> <span class=\"star-rating-text--review-text underline-hover\">5330 reviews</span> </a></div> <span class=\"recommended-container\"><span class=\"thumbs-up-icon\"></span> <span class=\"recommended-small\">90%</span> <span class=\"recommended-text\">90% Recommend</span> </span> </div> <div class=\"rest-row-pricing\"><i>  $    $    $    </i>   $        </div> </div><div class=\"rest-row-meta rest-row-meta-grid flex-row-justify\"> <span class=\"rest-row-meta--cuisine rest-row-meta-text\">American</span> <span class=\"rest-row-meta--location rest-row-meta-text\">West End</span></div> <div class=\"message-alerts\"> </div> <div class=\"rest-row-times-cont\"> <a class=\"button minimal\" href=\"/blue-duck-tavern\">Find next available</a> <p class=\"not-available-message\"> No tables are available within 2.5 hours of your 7:00 PM request.</p> </div> </div></div> </div>,\n",
       " <div class=\"result content-section-list-row cf with-times\" data-id=\"5\" data-index=\"6\" data-lat=\"38.9013030\" data-lon=\"-77.0597250\" data-offers=\"\" data-rid=\"93802\"><div class=\"rest-row with-image\"> <div class=\"rest-row-image\"> <a href=\"/farmers-fishers-bakers\" onclick=\"OT.BestAnalytics.logRestaurantVisit(93802)\" target=\"_blank\"><img alt=\"photo of farmers fishers bakers restaurant\" class=\"lazy rest-image\" data-src=\"//resizer.otstatic.com/v2/profiles/legacy/93802.jpg\" src=\"//media.otstatic.com/search-result-node/images/no-image.png\"/></a></div> <div class=\"rest-row-info\"><div class=\"rest-row-header\"> <a class=\"rest-row-name rest-name \" href=\"/farmers-fishers-bakers\" onclick=\"OT.BestAnalytics.logRestaurantVisit(93802)\" target=\"_blank\"> <span class=\"rest-row-name-text\">Farmers Fishers Bakers</span> </a> </div> <div class=\" flex-row-justify\"> <div class=\"rest-row-review\"> <div class=\"star-rating review-container\"><div class=\"star-wrapper small\"><div class=\"all-stars\"></div><div class=\"all-stars filled\" style=\"width: 88%;\"></div></div> <a class=\"review-link\" href=\"/farmers-fishers-bakers#reviews\" target=\"_blank\"> <span class=\"star-rating-text underline-hover\">(5434)</span> <span class=\"star-rating-text--review-text underline-hover\">5434 reviews</span> </a></div> <span class=\"recommended-container\"><span class=\"thumbs-up-icon\"></span> <span class=\"recommended-small\">86%</span> <span class=\"recommended-text\">86% Recommend</span> </span> </div> <div class=\"rest-row-pricing\"><i>  $    $      </i>   $    $      </div> </div><div class=\"rest-row-meta rest-row-meta-grid flex-row-justify\"> <span class=\"rest-row-meta--cuisine rest-row-meta-text\">American</span> <span class=\"rest-row-meta--location rest-row-meta-text\">Georgetown</span></div> <div class=\"message-alerts\"> <div class=\"notice-timeslot\"><span class=\"clock-icon\"></span> <span>Hurry, we only have 3 timeslots left!</span></div> </div> <div class=\"rest-row-times-cont\"><div class=\"rest-row-times\"> <div class=\"timeslot-window\"><ul class=\"availability-row-container\"> <li class=\"timeslot-option timeslot-control\"> <a class=\"rest-row-times-btn timeslot\" data-covers=\"2\" data-datetime=\"2017-09-30 17:00\" data-name=\"Farmers Fishers Bakers\" data-rid=\"93802\" href=\"/book/validate?rid=93802&amp;d=2017-09-30 17:00&amp;p=2&amp;pt=100&amp;ss=0&amp;sd=2017-09-30 17:00&amp;pofids=&amp;hash=231316354\" onclick=\"OT.BestAnalytics.logRestaurantVisit(93802, '17:00')\"> 5:00 pm  </a> </li> <li class=\"timeslot-option timeslot-control\"> <a class=\"rest-row-times-btn timeslot\" data-covers=\"2\" data-datetime=\"2017-09-30 17:15\" data-name=\"Farmers Fishers Bakers\" data-rid=\"93802\" href=\"/book/validate?rid=93802&amp;d=2017-09-30 17:15&amp;p=2&amp;pt=100&amp;ss=0&amp;sd=2017-09-30 17:15&amp;pofids=&amp;hash=3248406666\" onclick=\"OT.BestAnalytics.logRestaurantVisit(93802, '17:15')\"> 5:15 pm  </a> </li> <li class=\"timeslot-option\"> <a class=\"rest-row-times-btn exact unavailable\" data-offers=\"\">\\xa0 </a> </li> <li class=\"timeslot-option timeslot-control\"> <a class=\"rest-row-times-btn timeslot\" data-covers=\"2\" data-datetime=\"2017-09-30 21:30\" data-name=\"Farmers Fishers Bakers\" data-rid=\"93802\" href=\"/book/validate?rid=93802&amp;d=2017-09-30 21:30&amp;p=2&amp;pt=100&amp;ss=0&amp;sd=2017-09-30 21:30&amp;pofids=&amp;hash=792125977\" onclick=\"OT.BestAnalytics.logRestaurantVisit(93802, '21:30')\"> 9:30 pm  </a> </li> <li class=\"timeslot-option\"> <a class=\"rest-row-times-btn unavailable\" data-offers=\"\">\\xa0 </a> </li> </ul></div> </div></div> </div></div> </div>,\n",
       " <div class=\"result content-section-list-row cf with-times\" data-id=\"6\" data-index=\"7\" data-lat=\"38.9226940\" data-lon=\"-77.2230200\" data-offers=\"\" data-rid=\"150769\"><div class=\"rest-row with-image\"> <div class=\"rest-row-image\"> <a href=\"/founding-farmers-tysons\" onclick=\"OT.BestAnalytics.logRestaurantVisit(150769)\" target=\"_blank\"><img alt=\"photo of founding farmers - tysons restaurant\" class=\"lazy rest-image\" data-src=\"//resizer.otstatic.com/v2/profiles/legacy/150769.jpg\" src=\"//media.otstatic.com/search-result-node/images/no-image.png\"/></a></div> <div class=\"rest-row-info\"><div class=\"rest-row-header\"> <a class=\"rest-row-name rest-name \" href=\"/founding-farmers-tysons\" onclick=\"OT.BestAnalytics.logRestaurantVisit(150769)\" target=\"_blank\"> <span class=\"rest-row-name-text\">Founding Farmers - Tysons</span> </a> </div> <div class=\" flex-row-justify\"> <div class=\"rest-row-review\"> <div class=\"star-rating review-container\"><div class=\"star-wrapper small\"><div class=\"all-stars\"></div><div class=\"all-stars filled\" style=\"width: 88%;\"></div></div> <a class=\"review-link\" href=\"/founding-farmers-tysons#reviews\" target=\"_blank\"> <span class=\"star-rating-text underline-hover\">(4529)</span> <span class=\"star-rating-text--review-text underline-hover\">4529 reviews</span> </a></div> <span class=\"recommended-container\"><span class=\"thumbs-up-icon\"></span> <span class=\"recommended-small\">84%</span> <span class=\"recommended-text\">84% Recommend</span> </span> </div> <div class=\"rest-row-pricing\"><i>  $    $      </i>   $    $      </div> </div><div class=\"rest-row-meta rest-row-meta-grid flex-row-justify\"> <span class=\"rest-row-meta--cuisine rest-row-meta-text\">American</span> <span class=\"rest-row-meta--location rest-row-meta-text\">Tysons Corner / McLean</span></div> <div class=\"message-alerts\"> </div> <div class=\"rest-row-times-cont\"><div class=\"rest-row-times\"> <div class=\"timeslot-window\"><ul class=\"availability-row-container\"> <li class=\"timeslot-option timeslot-control\"> <a class=\"rest-row-times-btn timeslot\" data-covers=\"2\" data-datetime=\"2017-09-30 18:30\" data-name=\"Founding Farmers - Tysons\" data-rid=\"150769\" href=\"/book/validate?rid=150769&amp;d=2017-09-30 18:30&amp;p=2&amp;pt=100&amp;ss=0&amp;sd=2017-09-30 18:30&amp;pofids=&amp;hash=2669774415\" onclick=\"OT.BestAnalytics.logRestaurantVisit(150769, '18:30')\"> 6:30 pm  </a> </li> <li class=\"timeslot-option timeslot-control\"> <a class=\"rest-row-times-btn timeslot\" data-covers=\"2\" data-datetime=\"2017-09-30 18:45\" data-name=\"Founding Farmers - Tysons\" data-rid=\"150769\" href=\"/book/validate?rid=150769&amp;d=2017-09-30 18:45&amp;p=2&amp;pt=100&amp;ss=0&amp;sd=2017-09-30 18:45&amp;pofids=&amp;hash=3111729535\" onclick=\"OT.BestAnalytics.logRestaurantVisit(150769, '18:45')\"> 6:45 pm  </a> </li> <li class=\"timeslot-option timeslot-control\"> <a class=\"rest-row-times-btn exact timeslot\" data-covers=\"2\" data-datetime=\"2017-09-30 19:00\" data-name=\"Founding Farmers - Tysons\" data-rid=\"150769\" href=\"/book/validate?rid=150769&amp;d=2017-09-30 19:00&amp;p=2&amp;pt=100&amp;ss=0&amp;sd=2017-09-30 19:00&amp;pofids=&amp;hash=1750467870\" onclick=\"OT.BestAnalytics.logRestaurantVisit(150769, '19:00')\"> 7:00 pm  </a> </li> <li class=\"timeslot-option timeslot-control\"> <a class=\"rest-row-times-btn timeslot\" data-covers=\"2\" data-datetime=\"2017-09-30 19:30\" data-name=\"Founding Farmers - Tysons\" data-rid=\"150769\" href=\"/book/validate?rid=150769&amp;d=2017-09-30 19:30&amp;p=2&amp;pt=100&amp;ss=0&amp;sd=2017-09-30 19:30&amp;pofids=&amp;hash=1237768621\" onclick=\"OT.BestAnalytics.logRestaurantVisit(150769, '19:30')\"> 7:30 pm  </a> </li> <li class=\"timeslot-option timeslot-control\"> <a class=\"rest-row-times-btn timeslot\" data-covers=\"2\" data-datetime=\"2017-09-30 19:45\" data-name=\"Founding Farmers - Tysons\" data-rid=\"150769\" href=\"/book/validate?rid=150769&amp;d=2017-09-30 19:45&amp;p=2&amp;pt=100&amp;ss=0&amp;sd=2017-09-30 19:45&amp;pofids=&amp;hash=2240300598\" onclick=\"OT.BestAnalytics.logRestaurantVisit(150769, '19:45')\"> 7:45 pm  </a> </li> </ul></div> </div></div> </div></div> </div>,\n",
       " <div class=\"result content-section-list-row cf with-times\" data-id=\"7\" data-index=\"8\" data-lat=\"38.9042490\" data-lon=\"-77.0626230\" data-offers=\"\" data-rid=\"1835\"><div class=\"rest-row with-image\"> <div class=\"rest-row-image\"> <a href=\"/filomena-ristorante\" onclick=\"OT.BestAnalytics.logRestaurantVisit(1835)\" target=\"_blank\"><img alt=\"photo of filomena ristorante restaurant\" class=\"lazy rest-image\" data-src=\"//resizer.otstatic.com/v2/profiles/legacy/1835.jpg\" src=\"//media.otstatic.com/search-result-node/images/no-image.png\"/></a></div> <div class=\"rest-row-info\"><div class=\"rest-row-header\"> <a class=\"rest-row-name rest-name \" href=\"/filomena-ristorante\" onclick=\"OT.BestAnalytics.logRestaurantVisit(1835)\" target=\"_blank\"> <span class=\"rest-row-name-text\">Filomena Ristorante</span> </a> </div> <div class=\" flex-row-justify\"> <div class=\"rest-row-review\"> <div class=\"star-rating review-container\"><div class=\"star-wrapper small\"><div class=\"all-stars\"></div><div class=\"all-stars filled\" style=\"width: 92%;\"></div></div> <a class=\"review-link\" href=\"/filomena-ristorante#reviews\" target=\"_blank\"> <span class=\"star-rating-text underline-hover\">(8609)</span> <span class=\"star-rating-text--review-text underline-hover\">8609 reviews</span> </a></div> <span class=\"recommended-container\"><span class=\"thumbs-up-icon\"></span> <span class=\"recommended-small\">94%</span> <span class=\"recommended-text\">94% Recommend</span> </span> </div> <div class=\"rest-row-pricing\"><i>  $    $    $    </i>   $        </div> </div><div class=\"rest-row-meta rest-row-meta-grid flex-row-justify\"> <span class=\"rest-row-meta--cuisine rest-row-meta-text\">Italian</span> <span class=\"rest-row-meta--location rest-row-meta-text\">Georgetown</span></div> <div class=\"message-alerts\"> <div class=\"notice-timeslot\"><span class=\"clock-icon\"></span> <span>Hurry, we only have 3 timeslots left!</span></div> </div> <div class=\"rest-row-times-cont\"><div class=\"rest-row-times\"> <div class=\"timeslot-window\"><ul class=\"availability-row-container\"> <li class=\"timeslot-option timeslot-control\"> <a class=\"rest-row-times-btn timeslot\" data-covers=\"2\" data-datetime=\"2017-09-30 16:30\" data-name=\"Filomena Ristorante\" data-rid=\"1835\" href=\"/book/validate?rid=1835&amp;d=2017-09-30 16:30&amp;p=2&amp;pt=100&amp;ss=0&amp;sd=2017-09-30 16:30&amp;pofids=&amp;hash=3019853917\" onclick=\"OT.BestAnalytics.logRestaurantVisit(1835, '16:30')\"> 4:30 pm  </a> </li> <li class=\"timeslot-option timeslot-control\"> <a class=\"rest-row-times-btn timeslot\" data-covers=\"2\" data-datetime=\"2017-09-30 17:00\" data-name=\"Filomena Ristorante\" data-rid=\"1835\" href=\"/book/validate?rid=1835&amp;d=2017-09-30 17:00&amp;p=2&amp;pt=100&amp;ss=0&amp;sd=2017-09-30 17:00&amp;pofids=&amp;hash=829213824\" onclick=\"OT.BestAnalytics.logRestaurantVisit(1835, '17:00')\"> 5:00 pm  </a> </li> <li class=\"timeslot-option\"> <a class=\"rest-row-times-btn exact unavailable\" data-offers=\"\">\\xa0 </a> </li> <li class=\"timeslot-option timeslot-control\"> <a class=\"rest-row-times-btn timeslot\" data-covers=\"2\" data-datetime=\"2017-09-30 21:30\" data-name=\"Filomena Ristorante\" data-rid=\"1835\" href=\"/book/validate?rid=1835&amp;d=2017-09-30 21:30&amp;p=2&amp;pt=100&amp;ss=0&amp;sd=2017-09-30 21:30&amp;pofids=&amp;hash=1975905270\" onclick=\"OT.BestAnalytics.logRestaurantVisit(1835, '21:30')\"> 9:30 pm  </a> </li> <li class=\"timeslot-option\"> <a class=\"rest-row-times-btn unavailable\" data-offers=\"\">\\xa0 </a> </li> </ul></div> </div></div> </div></div> </div>,\n",
       " <div class=\"result content-section-list-row cf with-times\" data-id=\"8\" data-index=\"9\" data-lat=\"38.9017380\" data-lon=\"-77.0493060\" data-offers=\"\" data-rid=\"69664\"><div class=\"rest-row with-image\"> <div class=\"rest-row-image\"> <a href=\"/district-commons\" onclick=\"OT.BestAnalytics.logRestaurantVisit(69664)\" target=\"_blank\"><img alt=\"photo of district commons restaurant\" class=\"lazy rest-image\" data-src=\"//resizer.otstatic.com/v2/profiles/legacy/69664.jpg\" src=\"//media.otstatic.com/search-result-node/images/no-image.png\"/></a></div> <div class=\"rest-row-info\"><div class=\"rest-row-header\"> <a class=\"rest-row-name rest-name \" href=\"/district-commons\" onclick=\"OT.BestAnalytics.logRestaurantVisit(69664)\" target=\"_blank\"> <span class=\"rest-row-name-text\">District Commons</span> </a> </div> <div class=\" flex-row-justify\"> <div class=\"rest-row-review\"> <div class=\"star-rating review-container\"><div class=\"star-wrapper small\"><div class=\"all-stars\"></div><div class=\"all-stars filled\" style=\"width: 88%;\"></div></div> <a class=\"review-link\" href=\"/district-commons#reviews\" target=\"_blank\"> <span class=\"star-rating-text underline-hover\">(2760)</span> <span class=\"star-rating-text--review-text underline-hover\">2760 reviews</span> </a></div> <span class=\"recommended-container\"><span class=\"thumbs-up-icon\"></span> <span class=\"recommended-small\">85%</span> <span class=\"recommended-text\">85% Recommend</span> </span> </div> <div class=\"rest-row-pricing\"><i>  $    $      </i>   $    $      </div> </div><div class=\"rest-row-meta rest-row-meta-grid flex-row-justify\"> <span class=\"rest-row-meta--cuisine rest-row-meta-text\">Contemporary American</span> <span class=\"rest-row-meta--location rest-row-meta-text\">Foggy Bottom</span></div> <div class=\"message-alerts\"> </div> <div class=\"rest-row-times-cont\"><div class=\"rest-row-times\"> <div class=\"timeslot-window\"><ul class=\"availability-row-container\"> <li class=\"timeslot-option timeslot-control\"> <a class=\"rest-row-times-btn timeslot\" data-covers=\"2\" data-datetime=\"2017-09-30 18:30\" data-name=\"District Commons\" data-rid=\"69664\" href=\"/book/validate?rid=69664&amp;d=2017-09-30 18:30&amp;p=2&amp;pt=100&amp;ss=0&amp;sd=2017-09-30 18:30&amp;pofids=&amp;hash=2429707418\" onclick=\"OT.BestAnalytics.logRestaurantVisit(69664, '18:30')\"> 6:30 pm  </a> </li> <li class=\"timeslot-option timeslot-control\"> <a class=\"rest-row-times-btn timeslot\" data-covers=\"2\" data-datetime=\"2017-09-30 18:45\" data-name=\"District Commons\" data-rid=\"69664\" href=\"/book/validate?rid=69664&amp;d=2017-09-30 18:45&amp;p=2&amp;pt=100&amp;ss=0&amp;sd=2017-09-30 18:45&amp;pofids=&amp;hash=1055673858\" onclick=\"OT.BestAnalytics.logRestaurantVisit(69664, '18:45')\"> 6:45 pm  </a> </li> <li class=\"timeslot-option timeslot-control\"> <a class=\"rest-row-times-btn exact timeslot\" data-covers=\"2\" data-datetime=\"2017-09-30 19:00\" data-name=\"District Commons\" data-rid=\"69664\" href=\"/book/validate?rid=69664&amp;d=2017-09-30 19:00&amp;p=2&amp;pt=100&amp;ss=0&amp;sd=2017-09-30 19:00&amp;pofids=&amp;hash=3231919271\" onclick=\"OT.BestAnalytics.logRestaurantVisit(69664, '19:00')\"> 7:00 pm  </a> </li> <li class=\"timeslot-option timeslot-control\"> <a class=\"rest-row-times-btn timeslot\" data-covers=\"2\" data-datetime=\"2017-09-30 19:15\" data-name=\"District Commons\" data-rid=\"69664\" href=\"/book/validate?rid=69664&amp;d=2017-09-30 19:15&amp;p=2&amp;pt=100&amp;ss=0&amp;sd=2017-09-30 19:15&amp;pofids=&amp;hash=221010782\" onclick=\"OT.BestAnalytics.logRestaurantVisit(69664, '19:15')\"> 7:15 pm  </a> </li> <li class=\"timeslot-option timeslot-control\"> <a class=\"rest-row-times-btn timeslot\" data-covers=\"2\" data-datetime=\"2017-09-30 19:30\" data-name=\"District Commons\" data-rid=\"69664\" href=\"/book/validate?rid=69664&amp;d=2017-09-30 19:30&amp;p=2&amp;pt=100&amp;ss=0&amp;sd=2017-09-30 19:30&amp;pofids=&amp;hash=2184490013\" onclick=\"OT.BestAnalytics.logRestaurantVisit(69664, '19:30')\"> 7:30 pm  </a> </li> </ul></div> </div></div> </div></div> </div>,\n",
       " <div class=\"result content-section-list-row cf with-times\" data-id=\"9\" data-index=\"10\" data-lat=\"38.8888000\" data-lon=\"-77.0935490\" data-offers=\"\" data-rid=\"270331\"><div class=\"rest-row with-image\"> <div class=\"rest-row-image\"> <a href=\"/r/ambar-arlington\" onclick=\"OT.BestAnalytics.logRestaurantVisit(270331)\" target=\"_blank\"><img alt=\"photo of ambar - arlington restaurant\" class=\"lazy rest-image\" data-src=\"//resizer.otstatic.com/v2/profiles/legacy/270331.jpg\" src=\"//media.otstatic.com/search-result-node/images/no-image.png\"/></a></div> <div class=\"rest-row-info\"><div class=\"rest-row-header\"> <a class=\"rest-row-name rest-name \" href=\"/r/ambar-arlington\" onclick=\"OT.BestAnalytics.logRestaurantVisit(270331)\" target=\"_blank\"> <span class=\"rest-row-name-text\">Ambar - Arlington</span> </a> </div> <div class=\" flex-row-justify\"> <div class=\"rest-row-review\"> <div class=\"star-rating review-container\"><div class=\"star-wrapper small\"><div class=\"all-stars\"></div><div class=\"all-stars filled\" style=\"width: 92%;\"></div></div> <a class=\"review-link\" href=\"/r/ambar-arlington#reviews\" target=\"_blank\"> <span class=\"star-rating-text underline-hover\">(592)</span> <span class=\"star-rating-text--review-text underline-hover\">592 reviews</span> </a></div> <span class=\"recommended-container\"><span class=\"thumbs-up-icon\"></span> <span class=\"recommended-small\">93%</span> <span class=\"recommended-text\">93% Recommend</span> </span> </div> <div class=\"rest-row-pricing\"><i>  $    $      </i>   $    $      </div> </div><div class=\"rest-row-meta rest-row-meta-grid flex-row-justify\"> <span class=\"rest-row-meta--cuisine rest-row-meta-text\">Tapas / Small Plates</span> <span class=\"rest-row-meta--location rest-row-meta-text\">Arlington</span></div> <div class=\"message-alerts\"> <div class=\"notice-timeslot\"><span class=\"clock-icon\"></span> <span>Hurry, we only have 4 timeslots left!</span></div> </div> <div class=\"rest-row-times-cont\"><div class=\"rest-row-times\"> <div class=\"timeslot-window\"><ul class=\"availability-row-container\"> <li class=\"timeslot-option timeslot-control\"> <a class=\"rest-row-times-btn timeslot\" data-covers=\"2\" data-datetime=\"2017-09-30 18:15\" data-name=\"Ambar - Arlington\" data-rid=\"270331\" href=\"/book/validate?rid=270331&amp;d=2017-09-30 18:15&amp;p=2&amp;pt=100&amp;ss=0&amp;sd=2017-09-30 18:15&amp;pofids=&amp;hash=2734657443\" onclick=\"OT.BestAnalytics.logRestaurantVisit(270331, '18:15')\"> 6:15 pm  </a> </li> <li class=\"timeslot-option timeslot-control\"> <a class=\"rest-row-times-btn timeslot\" data-covers=\"2\" data-datetime=\"2017-09-30 18:30\" data-name=\"Ambar - Arlington\" data-rid=\"270331\" href=\"/book/validate?rid=270331&amp;d=2017-09-30 18:30&amp;p=2&amp;pt=100&amp;ss=0&amp;sd=2017-09-30 18:30&amp;pofids=&amp;hash=1867152591\" onclick=\"OT.BestAnalytics.logRestaurantVisit(270331, '18:30')\"> 6:30 pm  </a> </li> <li class=\"timeslot-option\"> <a class=\"rest-row-times-btn exact unavailable\" data-offers=\"\">\\xa0 </a> </li> <li class=\"timeslot-option timeslot-control\"> <a class=\"rest-row-times-btn timeslot\" data-covers=\"2\" data-datetime=\"2017-09-30 20:30\" data-name=\"Ambar - Arlington\" data-rid=\"270331\" href=\"/book/validate?rid=270331&amp;d=2017-09-30 20:30&amp;p=2&amp;pt=100&amp;ss=0&amp;sd=2017-09-30 20:30&amp;pofids=&amp;hash=515184550\" onclick=\"OT.BestAnalytics.logRestaurantVisit(270331, '20:30')\"> 8:30 pm  </a> </li> <li class=\"timeslot-option timeslot-control\"> <a class=\"rest-row-times-btn timeslot\" data-covers=\"2\" data-datetime=\"2017-09-30 20:45\" data-name=\"Ambar - Arlington\" data-rid=\"270331\" href=\"/book/validate?rid=270331&amp;d=2017-09-30 20:45&amp;p=2&amp;pt=100&amp;ss=0&amp;sd=2017-09-30 20:45&amp;pofids=&amp;hash=3223943610\" onclick=\"OT.BestAnalytics.logRestaurantVisit(270331, '20:45')\"> 8:45 pm  </a> </li> </ul></div> </div></div> </div></div> </div>,\n",
       " <div class=\"result content-section-list-row cf with-times\" data-id=\"10\" data-index=\"11\" data-lat=\"38.9196440\" data-lon=\"-77.2204650\" data-offers=\"\" data-rid=\"162781\"><div class=\"rest-row with-image\"> <div class=\"rest-row-image\"> <a href=\"/eddie-vs-tysons-corner\" onclick=\"OT.BestAnalytics.logRestaurantVisit(162781)\" target=\"_blank\"><img alt=\"photo of eddie v's - tysons corner restaurant\" class=\"lazy rest-image\" data-src=\"//resizer.otstatic.com/v2/profiles/legacy/162781.jpg\" src=\"//media.otstatic.com/search-result-node/images/no-image.png\"/></a></div> <div class=\"rest-row-info\"><div class=\"rest-row-header\"> <a class=\"rest-row-name rest-name \" href=\"/eddie-vs-tysons-corner\" onclick=\"OT.BestAnalytics.logRestaurantVisit(162781)\" target=\"_blank\"> <span class=\"rest-row-name-text\">Eddie V's - Tysons Corner</span> </a> </div> <div class=\" flex-row-justify\"> <div class=\"rest-row-review\"> <div class=\"star-rating review-container\"><div class=\"star-wrapper small\"><div class=\"all-stars\"></div><div class=\"all-stars filled\" style=\"width: 92%;\"></div></div> <a class=\"review-link\" href=\"/eddie-vs-tysons-corner#reviews\" target=\"_blank\"> <span class=\"star-rating-text underline-hover\">(1159)</span> <span class=\"star-rating-text--review-text underline-hover\">1159 reviews</span> </a></div> <span class=\"recommended-container\"><span class=\"thumbs-up-icon\"></span> <span class=\"recommended-small\">91%</span> <span class=\"recommended-text\">91% Recommend</span> </span> </div> <div class=\"rest-row-pricing\"><i>  $    $    $    </i>   $        </div> </div><div class=\"rest-row-meta rest-row-meta-grid flex-row-justify\"> <span class=\"rest-row-meta--cuisine rest-row-meta-text\">Seafood</span> <span class=\"rest-row-meta--location rest-row-meta-text\">Tysons Corner / McLean</span></div> <div class=\"message-alerts\"> <div class=\"notice-timeslot\"><span class=\"clock-icon\"></span> <span>Hurry, we only have 3 timeslots left!</span></div> </div> <div class=\"rest-row-times-cont\"><div class=\"rest-row-times\"> <div class=\"timeslot-window\"><ul class=\"availability-row-container\"> <li class=\"timeslot-option\"> <a class=\"rest-row-times-btn unavailable\" data-offers=\"\">\\xa0 </a> </li> <li class=\"timeslot-option timeslot-control\"> <a class=\"rest-row-times-btn timeslot\" data-covers=\"2\" data-datetime=\"2017-09-30 17:00\" data-name=\"Eddie V's - Tysons Corner\" data-rid=\"162781\" href=\"/book/validate?rid=162781&amp;d=2017-09-30 17:00&amp;p=2&amp;pt=100&amp;ss=0&amp;sd=2017-09-30 17:00&amp;pofids=&amp;hash=731426571\" onclick=\"OT.BestAnalytics.logRestaurantVisit(162781, '17:00')\"> 5:00 pm  </a> </li> <li class=\"timeslot-option\"> <a class=\"rest-row-times-btn exact unavailable\" data-offers=\"\">\\xa0 </a> </li> <li class=\"timeslot-option timeslot-control\"> <a class=\"rest-row-times-btn timeslot\" data-covers=\"2\" data-datetime=\"2017-09-30 20:30\" data-name=\"Eddie V's - Tysons Corner\" data-rid=\"162781\" href=\"/book/validate?rid=162781&amp;d=2017-09-30 20:30&amp;p=2&amp;pt=100&amp;ss=0&amp;sd=2017-09-30 20:30&amp;pofids=&amp;hash=602801992\" onclick=\"OT.BestAnalytics.logRestaurantVisit(162781, '20:30')\"> 8:30 pm  </a> </li> <li class=\"timeslot-option timeslot-control\"> <a class=\"rest-row-times-btn timeslot\" data-covers=\"2\" data-datetime=\"2017-09-30 20:45\" data-name=\"Eddie V's - Tysons Corner\" data-rid=\"162781\" href=\"/book/validate?rid=162781&amp;d=2017-09-30 20:45&amp;p=2&amp;pt=100&amp;ss=0&amp;sd=2017-09-30 20:45&amp;pofids=&amp;hash=736594800\" onclick=\"OT.BestAnalytics.logRestaurantVisit(162781, '20:45')\"> 8:45 pm  </a> </li> </ul></div> </div></div> </div></div> </div>,\n",
       " <div class=\"result content-section-list-row cf with-times\" data-id=\"11\" data-index=\"12\" data-lat=\"38.9050280\" data-lon=\"-77.0640670\" data-offers=\"\" data-rid=\"19054\"><div class=\"rest-row with-image\"> <div class=\"rest-row-image\"> <a href=\"/clydes-of-georgetown\" onclick=\"OT.BestAnalytics.logRestaurantVisit(19054)\" target=\"_blank\"><img alt=\"photo of clyde's of georgetown restaurant\" class=\"lazy rest-image\" data-src=\"//resizer.otstatic.com/v2/profiles/legacy/19054.jpg\" src=\"//media.otstatic.com/search-result-node/images/no-image.png\"/></a></div> <div class=\"rest-row-info\"><div class=\"rest-row-header\"> <a class=\"rest-row-name rest-name \" href=\"/clydes-of-georgetown\" onclick=\"OT.BestAnalytics.logRestaurantVisit(19054)\" target=\"_blank\"> <span class=\"rest-row-name-text\">Clyde's of Georgetown</span> </a> </div> <div class=\" flex-row-justify\"> <div class=\"rest-row-review\"> <div class=\"star-rating review-container\"><div class=\"star-wrapper small\"><div class=\"all-stars\"></div><div class=\"all-stars filled\" style=\"width: 86%;\"></div></div> <a class=\"review-link\" href=\"/clydes-of-georgetown#reviews\" target=\"_blank\"> <span class=\"star-rating-text underline-hover\">(2068)</span> <span class=\"star-rating-text--review-text underline-hover\">2068 reviews</span> </a></div> <span class=\"recommended-container\"><span class=\"thumbs-up-icon\"></span> <span class=\"recommended-small\">85%</span> <span class=\"recommended-text\">85% Recommend</span> </span> </div> <div class=\"rest-row-pricing\"><i>  $    $      </i>   $    $      </div> </div><div class=\"rest-row-meta rest-row-meta-grid flex-row-justify\"> <span class=\"rest-row-meta--cuisine rest-row-meta-text\">American</span> <span class=\"rest-row-meta--location rest-row-meta-text\">Georgetown</span></div> <div class=\"message-alerts\"> </div> <div class=\"rest-row-times-cont\"><div class=\"rest-row-times\"> <div class=\"timeslot-window\"><ul class=\"availability-row-container\"> <li class=\"timeslot-option timeslot-control\"> <a class=\"rest-row-times-btn timeslot\" data-covers=\"2\" data-datetime=\"2017-09-30 18:30\" data-name=\"Clyde's of Georgetown\" data-rid=\"19054\" href=\"/book/validate?rid=19054&amp;d=2017-09-30 18:30&amp;p=2&amp;pt=100&amp;ss=0&amp;sd=2017-09-30 18:30&amp;pofids=&amp;hash=1275135073\" onclick=\"OT.BestAnalytics.logRestaurantVisit(19054, '18:30')\"> 6:30 pm  </a> </li> <li class=\"timeslot-option timeslot-control\"> <a class=\"rest-row-times-btn timeslot\" data-covers=\"2\" data-datetime=\"2017-09-30 18:45\" data-name=\"Clyde's of Georgetown\" data-rid=\"19054\" href=\"/book/validate?rid=19054&amp;d=2017-09-30 18:45&amp;p=2&amp;pt=100&amp;ss=0&amp;sd=2017-09-30 18:45&amp;pofids=&amp;hash=959796957\" onclick=\"OT.BestAnalytics.logRestaurantVisit(19054, '18:45')\"> 6:45 pm  </a> </li> <li class=\"timeslot-option timeslot-control\"> <a class=\"rest-row-times-btn exact timeslot\" data-covers=\"2\" data-datetime=\"2017-09-30 19:00\" data-name=\"Clyde's of Georgetown\" data-rid=\"19054\" href=\"/book/validate?rid=19054&amp;d=2017-09-30 19:00&amp;p=2&amp;pt=100&amp;ss=0&amp;sd=2017-09-30 19:00&amp;pofids=&amp;hash=243409119\" onclick=\"OT.BestAnalytics.logRestaurantVisit(19054, '19:00')\"> 7:00 pm  </a> </li> <li class=\"timeslot-option timeslot-control\"> <a class=\"rest-row-times-btn timeslot\" data-covers=\"2\" data-datetime=\"2017-09-30 19:15\" data-name=\"Clyde's of Georgetown\" data-rid=\"19054\" href=\"/book/validate?rid=19054&amp;d=2017-09-30 19:15&amp;p=2&amp;pt=100&amp;ss=0&amp;sd=2017-09-30 19:15&amp;pofids=&amp;hash=435622004\" onclick=\"OT.BestAnalytics.logRestaurantVisit(19054, '19:15')\"> 7:15 pm  </a> </li> <li class=\"timeslot-option timeslot-control\"> <a class=\"rest-row-times-btn timeslot\" data-covers=\"2\" data-datetime=\"2017-09-30 19:45\" data-name=\"Clyde's of Georgetown\" data-rid=\"19054\" href=\"/book/validate?rid=19054&amp;d=2017-09-30 19:45&amp;p=2&amp;pt=100&amp;ss=0&amp;sd=2017-09-30 19:45&amp;pofids=&amp;hash=2261689907\" onclick=\"OT.BestAnalytics.logRestaurantVisit(19054, '19:45')\"> 7:45 pm  </a> </li> </ul></div> </div></div> </div></div> </div>,\n",
       " <div class=\"result content-section-list-row cf with-times\" data-id=\"12\" data-index=\"13\" data-lat=\"38.9174450\" data-lon=\"-77.0965760\" data-offers=\"\" data-rid=\"3672\"><div class=\"rest-row with-image\"> <div class=\"rest-row-image\"> <a href=\"/blacksalt\" onclick=\"OT.BestAnalytics.logRestaurantVisit(3672)\" target=\"_blank\"><img alt=\"photo of blacksalt restaurant\" class=\"lazy rest-image\" data-src=\"//resizer.otstatic.com/v2/profiles/legacy/3672.jpg\" src=\"//media.otstatic.com/search-result-node/images/no-image.png\"/></a></div> <div class=\"rest-row-info\"><div class=\"rest-row-header\"> <a class=\"rest-row-name rest-name \" href=\"/blacksalt\" onclick=\"OT.BestAnalytics.logRestaurantVisit(3672)\" target=\"_blank\"> <span class=\"rest-row-name-text\">BlackSalt</span> </a> </div> <div class=\" flex-row-justify\"> <div class=\"rest-row-review\"> <div class=\"star-rating review-container\"><div class=\"star-wrapper small\"><div class=\"all-stars\"></div><div class=\"all-stars filled\" style=\"width: 90%;\"></div></div> <a class=\"review-link\" href=\"/blacksalt#reviews\" target=\"_blank\"> <span class=\"star-rating-text underline-hover\">(4913)</span> <span class=\"star-rating-text--review-text underline-hover\">4913 reviews</span> </a></div> <span class=\"recommended-container\"><span class=\"thumbs-up-icon\"></span> <span class=\"recommended-small\">90%</span> <span class=\"recommended-text\">90% Recommend</span> </span> </div> <div class=\"rest-row-pricing\"><i>  $    $    $    </i>   $        </div> </div><div class=\"rest-row-meta rest-row-meta-grid flex-row-justify\"> <span class=\"rest-row-meta--cuisine rest-row-meta-text\">Seafood</span> <span class=\"rest-row-meta--location rest-row-meta-text\">Palisades Northwest</span></div> <div class=\"message-alerts\"> <div class=\"notice-timeslot\"><span class=\"clock-icon\"></span> <span>Hurry, we only have 4 timeslots left!</span></div> </div> <div class=\"rest-row-times-cont\"><div class=\"rest-row-times\"> <div class=\"timeslot-window\"><ul class=\"availability-row-container\"> <li class=\"timeslot-option timeslot-control\"> <a class=\"rest-row-times-btn timeslot\" data-covers=\"2\" data-datetime=\"2017-09-30 17:15\" data-name=\"BlackSalt\" data-rid=\"3672\" href=\"/book/validate?rid=3672&amp;d=2017-09-30 17:15&amp;p=2&amp;pt=100&amp;ss=0&amp;sd=2017-09-30 17:15&amp;pofids=&amp;hash=2149724719\" onclick=\"OT.BestAnalytics.logRestaurantVisit(3672, '17:15')\"> 5:15 pm  </a> </li> <li class=\"timeslot-option timeslot-control\"> <a class=\"rest-row-times-btn timeslot\" data-covers=\"2\" data-datetime=\"2017-09-30 17:30\" data-name=\"BlackSalt\" data-rid=\"3672\" href=\"/book/validate?rid=3672&amp;d=2017-09-30 17:30&amp;p=2&amp;pt=100&amp;ss=0&amp;sd=2017-09-30 17:30&amp;pofids=&amp;hash=1243083992\" onclick=\"OT.BestAnalytics.logRestaurantVisit(3672, '17:30')\"> 5:30 pm  </a> </li> <li class=\"timeslot-option\"> <a class=\"rest-row-times-btn exact unavailable\" data-offers=\"\">\\xa0 </a> </li> <li class=\"timeslot-option timeslot-control\"> <a class=\"rest-row-times-btn timeslot\" data-covers=\"2\" data-datetime=\"2017-09-30 20:45\" data-name=\"BlackSalt\" data-rid=\"3672\" href=\"/book/validate?rid=3672&amp;d=2017-09-30 20:45&amp;p=2&amp;pt=100&amp;ss=0&amp;sd=2017-09-30 20:45&amp;pofids=&amp;hash=715726566\" onclick=\"OT.BestAnalytics.logRestaurantVisit(3672, '20:45')\"> 8:45 pm  </a> </li> <li class=\"timeslot-option timeslot-control\"> <a class=\"rest-row-times-btn timeslot\" data-covers=\"2\" data-datetime=\"2017-09-30 21:00\" data-name=\"BlackSalt\" data-rid=\"3672\" href=\"/book/validate?rid=3672&amp;d=2017-09-30 21:00&amp;p=2&amp;pt=100&amp;ss=0&amp;sd=2017-09-30 21:00&amp;pofids=&amp;hash=961569532\" onclick=\"OT.BestAnalytics.logRestaurantVisit(3672, '21:00')\"> 9:00 pm  </a> </li> </ul></div> </div></div> </div></div> </div>,\n",
       " <div class=\"result content-section-list-row cf with-times\" data-id=\"13\" data-index=\"14\" data-lat=\"38.9036480\" data-lon=\"-77.0608090\" data-offers=\"\" data-rid=\"149158\"><div class=\"rest-row with-image\"> <div class=\"rest-row-image\"> <a href=\"/chez-billy-sud\" onclick=\"OT.BestAnalytics.logRestaurantVisit(149158)\" target=\"_blank\"><img alt=\"photo of chez billy sud restaurant\" class=\"lazy rest-image\" data-src=\"//resizer.otstatic.com/v2/profiles/legacy/149158.jpg\" src=\"//media.otstatic.com/search-result-node/images/no-image.png\"/></a></div> <div class=\"rest-row-info\"><div class=\"rest-row-header\"> <a class=\"rest-row-name rest-name \" href=\"/chez-billy-sud\" onclick=\"OT.BestAnalytics.logRestaurantVisit(149158)\" target=\"_blank\"> <span class=\"rest-row-name-text\">Chez Billy Sud</span> </a> </div> <div class=\" flex-row-justify\"> <div class=\"rest-row-review\"> <div class=\"star-rating review-container\"><div class=\"star-wrapper small\"><div class=\"all-stars\"></div><div class=\"all-stars filled\" style=\"width: 94%;\"></div></div> <a class=\"review-link\" href=\"/chez-billy-sud#reviews\" target=\"_blank\"> <span class=\"star-rating-text underline-hover\">(803)</span> <span class=\"star-rating-text--review-text underline-hover\">803 reviews</span> </a></div> <span class=\"recommended-container\"><span class=\"thumbs-up-icon\"></span> <span class=\"recommended-small\">96%</span> <span class=\"recommended-text\">96% Recommend</span> </span> </div> <div class=\"rest-row-pricing\"><i>  $    $      </i>   $    $      </div> </div><div class=\"rest-row-meta rest-row-meta-grid flex-row-justify\"> <span class=\"rest-row-meta--cuisine rest-row-meta-text\">French</span> <span class=\"rest-row-meta--location rest-row-meta-text\">Georgetown</span></div> <div class=\"message-alerts\"> <div class=\"notice-timeslot\"><span class=\"clock-icon\"></span> <span>Hurry, we only have 4 timeslots left!</span></div> </div> <div class=\"rest-row-times-cont\"><div class=\"rest-row-times\"> <div class=\"timeslot-window\"><ul class=\"availability-row-container\"> <li class=\"timeslot-option timeslot-control\"> <a class=\"rest-row-times-btn timeslot\" data-covers=\"2\" data-datetime=\"2017-09-30 17:30\" data-name=\"Chez Billy Sud\" data-rid=\"149158\" href=\"/book/validate?rid=149158&amp;d=2017-09-30 17:30&amp;p=2&amp;pt=100&amp;ss=0&amp;sd=2017-09-30 17:30&amp;pofids=&amp;hash=2003600804\" onclick=\"OT.BestAnalytics.logRestaurantVisit(149158, '17:30')\"> 5:30 pm  </a> </li> <li class=\"timeslot-option timeslot-control\"> <a class=\"rest-row-times-btn timeslot\" data-covers=\"2\" data-datetime=\"2017-09-30 17:45\" data-name=\"Chez Billy Sud\" data-rid=\"149158\" href=\"/book/validate?rid=149158&amp;d=2017-09-30 17:45&amp;p=2&amp;pt=100&amp;ss=0&amp;sd=2017-09-30 17:45&amp;pofids=&amp;hash=3610660375\" onclick=\"OT.BestAnalytics.logRestaurantVisit(149158, '17:45')\"> 5:45 pm  </a> </li> <li class=\"timeslot-option\"> <a class=\"rest-row-times-btn exact unavailable\" data-offers=\"\">\\xa0 </a> </li> <li class=\"timeslot-option timeslot-control\"> <a class=\"rest-row-times-btn timeslot\" data-covers=\"2\" data-datetime=\"2017-09-30 21:00\" data-name=\"Chez Billy Sud\" data-rid=\"149158\" href=\"/book/validate?rid=149158&amp;d=2017-09-30 21:00&amp;p=2&amp;pt=100&amp;ss=0&amp;sd=2017-09-30 21:00&amp;pofids=&amp;hash=1372434985\" onclick=\"OT.BestAnalytics.logRestaurantVisit(149158, '21:00')\"> 9:00 pm  </a> </li> <li class=\"timeslot-option timeslot-control\"> <a class=\"rest-row-times-btn timeslot\" data-covers=\"2\" data-datetime=\"2017-09-30 21:15\" data-name=\"Chez Billy Sud\" data-rid=\"149158\" href=\"/book/validate?rid=149158&amp;d=2017-09-30 21:15&amp;p=2&amp;pt=100&amp;ss=0&amp;sd=2017-09-30 21:15&amp;pofids=&amp;hash=1968373106\" onclick=\"OT.BestAnalytics.logRestaurantVisit(149158, '21:15')\"> 9:15 pm  </a> </li> </ul></div> </div></div> </div></div> </div>,\n",
       " <div class=\"result content-section-list-row cf with-times\" data-id=\"14\" data-index=\"15\" data-lat=\"38.9175230\" data-lon=\"-77.2190830\" data-offers=\"\" data-rid=\"63568\"><div class=\"rest-row with-image\"> <div class=\"rest-row-image\"> <a href=\"/season52-tyson-corner\" onclick=\"OT.BestAnalytics.logRestaurantVisit(63568)\" target=\"_blank\"><img alt=\"photo of seasons 52 - tysons corner restaurant\" class=\"lazy rest-image\" data-src=\"//resizer.otstatic.com/v2/profiles/legacy/63568.jpg\" src=\"//media.otstatic.com/search-result-node/images/no-image.png\"/></a></div> <div class=\"rest-row-info\"><div class=\"rest-row-header\"> <a class=\"rest-row-name rest-name \" href=\"/season52-tyson-corner\" onclick=\"OT.BestAnalytics.logRestaurantVisit(63568)\" target=\"_blank\"> <span class=\"rest-row-name-text\">Seasons 52 - Tysons Corner</span> </a> </div> <div class=\" flex-row-justify\"> <div class=\"rest-row-review\"> <div class=\"star-rating review-container\"><div class=\"star-wrapper small\"><div class=\"all-stars\"></div><div class=\"all-stars filled\" style=\"width: 88%;\"></div></div> <a class=\"review-link\" href=\"/season52-tyson-corner#reviews\" target=\"_blank\"> <span class=\"star-rating-text underline-hover\">(3483)</span> <span class=\"star-rating-text--review-text underline-hover\">3483 reviews</span> </a></div> <span class=\"recommended-container\"><span class=\"thumbs-up-icon\"></span> <span class=\"recommended-small\">95%</span> <span class=\"recommended-text\">95% Recommend</span> </span> </div> <div class=\"rest-row-pricing\"><i>  $    $      </i>   $    $      </div> </div><div class=\"rest-row-meta rest-row-meta-grid flex-row-justify\"> <span class=\"rest-row-meta--cuisine rest-row-meta-text\">American</span> <span class=\"rest-row-meta--location rest-row-meta-text\">Tysons Corner / McLean</span></div> <div class=\"message-alerts\"> </div> <div class=\"rest-row-times-cont\"><div class=\"rest-row-times\"> <div class=\"timeslot-window\"><ul class=\"availability-row-container\"> <li class=\"timeslot-option timeslot-control\"> <a class=\"rest-row-times-btn timeslot\" data-covers=\"2\" data-datetime=\"2017-09-30 18:30\" data-name=\"Seasons 52 - Tysons Corner\" data-rid=\"63568\" href=\"/book/validate?rid=63568&amp;d=2017-09-30 18:30&amp;p=2&amp;pt=100&amp;ss=0&amp;sd=2017-09-30 18:30&amp;pofids=&amp;hash=986024821\" onclick=\"OT.BestAnalytics.logRestaurantVisit(63568, '18:30')\"> 6:30 pm  </a> </li> <li class=\"timeslot-option timeslot-control\"> <a class=\"rest-row-times-btn timeslot\" data-covers=\"2\" data-datetime=\"2017-09-30 18:45\" data-name=\"Seasons 52 - Tysons Corner\" data-rid=\"63568\" href=\"/book/validate?rid=63568&amp;d=2017-09-30 18:45&amp;p=2&amp;pt=100&amp;ss=0&amp;sd=2017-09-30 18:45&amp;pofids=&amp;hash=716337115\" onclick=\"OT.BestAnalytics.logRestaurantVisit(63568, '18:45')\"> 6:45 pm  </a> </li> <li class=\"timeslot-option timeslot-control\"> <a class=\"rest-row-times-btn exact timeslot\" data-covers=\"2\" data-datetime=\"2017-09-30 19:00\" data-name=\"Seasons 52 - Tysons Corner\" data-rid=\"63568\" href=\"/book/validate?rid=63568&amp;d=2017-09-30 19:00&amp;p=2&amp;pt=100&amp;ss=0&amp;sd=2017-09-30 19:00&amp;pofids=&amp;hash=330287095\" onclick=\"OT.BestAnalytics.logRestaurantVisit(63568, '19:00')\"> 7:00 pm  </a> </li> <li class=\"timeslot-option timeslot-control\"> <a class=\"rest-row-times-btn timeslot\" data-covers=\"2\" data-datetime=\"2017-09-30 19:15\" data-name=\"Seasons 52 - Tysons Corner\" data-rid=\"63568\" href=\"/book/validate?rid=63568&amp;d=2017-09-30 19:15&amp;p=2&amp;pt=100&amp;ss=0&amp;sd=2017-09-30 19:15&amp;pofids=&amp;hash=289142779\" onclick=\"OT.BestAnalytics.logRestaurantVisit(63568, '19:15')\"> 7:15 pm  </a> </li> <li class=\"timeslot-option timeslot-control\"> <a class=\"rest-row-times-btn timeslot\" data-covers=\"2\" data-datetime=\"2017-09-30 19:30\" data-name=\"Seasons 52 - Tysons Corner\" data-rid=\"63568\" href=\"/book/validate?rid=63568&amp;d=2017-09-30 19:30&amp;p=2&amp;pt=100&amp;ss=0&amp;sd=2017-09-30 19:30&amp;pofids=&amp;hash=2325692774\" onclick=\"OT.BestAnalytics.logRestaurantVisit(63568, '19:30')\"> 7:30 pm  </a> </li> </ul></div> </div></div> </div></div> </div>,\n",
       " <div class=\"result content-section-list-row cf with-times\" data-id=\"15\" data-index=\"16\" data-lat=\"38.9233270\" data-lon=\"-77.2208250\" data-offers=\"\" data-rid=\"333268\"><div class=\"rest-row with-image\"> <div class=\"rest-row-image\"> <a href=\"/restaurant/profile/333268?p=2&amp;sd=2017-09-30%2019%3A00\" onclick=\"OT.BestAnalytics.logRestaurantVisit(333268)\" target=\"_blank\"><img alt=\"photo of fogo de chao brazilian steakhouse - tyson's restaurant\" class=\"lazy rest-image\" data-src=\"//resizer.otstatic.com/v2/profiles/legacy/333268.jpg\" src=\"//media.otstatic.com/search-result-node/images/no-image.png\"/></a></div> <div class=\"rest-row-info\"><div class=\"rest-row-header\"> <a class=\"rest-row-name rest-name \" href=\"/restaurant/profile/333268?p=2&amp;sd=2017-09-30%2019%3A00\" onclick=\"OT.BestAnalytics.logRestaurantVisit(333268)\" target=\"_blank\"> <span class=\"rest-row-name-text\">Fogo de Chao Brazilian Steakhouse - Tyson's</span> </a> </div> <div class=\" flex-row-justify\"> <div class=\"rest-row-review\"> <div class=\"star-rating review-container\"><div class=\"star-wrapper small\"><div class=\"all-stars\"></div><div class=\"all-stars filled\" style=\"width: 90%;\"></div></div> <a class=\"review-link\" href=\"/restaurant/profile/333268?p=2&amp;sd=2017-09-30%2019%3A00#reviews\" target=\"_blank\"> <span class=\"star-rating-text underline-hover\">(179)</span> <span class=\"star-rating-text--review-text underline-hover\">179 reviews</span> </a></div> <span class=\"recommended-container\"><span class=\"thumbs-up-icon\"></span> <span class=\"recommended-small\">80%</span> <span class=\"recommended-text\">80% Recommend</span> </span> </div> <div class=\"rest-row-pricing\"><i>  $    $    $    $  </i> </div> </div><div class=\"rest-row-meta rest-row-meta-grid flex-row-justify\"> <span class=\"rest-row-meta--cuisine rest-row-meta-text\">Brazilian Steakhouse</span> <span class=\"rest-row-meta--location rest-row-meta-text\">Tysons Corner / McLean</span></div> <div class=\"message-alerts\"> </div> <div class=\"rest-row-times-cont\"><div class=\"rest-row-times\"> <div class=\"timeslot-window\"><ul class=\"availability-row-container\"> <li class=\"timeslot-option timeslot-control\"> <a class=\"rest-row-times-btn timeslot\" data-covers=\"2\" data-datetime=\"2017-09-30 18:00\" data-name=\"Fogo de Chao Brazilian Steakhouse - Tyson's\" data-rid=\"333268\" href=\"/book/validate?rid=333268&amp;d=2017-09-30 18:00&amp;p=2&amp;pt=100&amp;ss=0&amp;sd=2017-09-30 18:00&amp;pofids=&amp;hash=4091613818\" onclick=\"OT.BestAnalytics.logRestaurantVisit(333268, '18:00')\"> 6:00 pm  </a> </li> <li class=\"timeslot-option timeslot-control\"> <a class=\"rest-row-times-btn timeslot\" data-covers=\"2\" data-datetime=\"2017-09-30 18:30\" data-name=\"Fogo de Chao Brazilian Steakhouse - Tyson's\" data-rid=\"333268\" href=\"/book/validate?rid=333268&amp;d=2017-09-30 18:30&amp;p=2&amp;pt=100&amp;ss=0&amp;sd=2017-09-30 18:30&amp;pofids=&amp;hash=3301454962\" onclick=\"OT.BestAnalytics.logRestaurantVisit(333268, '18:30')\"> 6:30 pm  </a> </li> <li class=\"timeslot-option timeslot-control\"> <a class=\"rest-row-times-btn exact timeslot\" data-covers=\"2\" data-datetime=\"2017-09-30 19:00\" data-name=\"Fogo de Chao Brazilian Steakhouse - Tyson's\" data-rid=\"333268\" href=\"/book/validate?rid=333268&amp;d=2017-09-30 19:00&amp;p=2&amp;pt=100&amp;ss=0&amp;sd=2017-09-30 19:00&amp;pofids=&amp;hash=1061279885\" onclick=\"OT.BestAnalytics.logRestaurantVisit(333268, '19:00')\"> 7:00 pm  </a> </li> <li class=\"timeslot-option timeslot-control\"> <a class=\"rest-row-times-btn timeslot\" data-covers=\"2\" data-datetime=\"2017-09-30 19:30\" data-name=\"Fogo de Chao Brazilian Steakhouse - Tyson's\" data-rid=\"333268\" href=\"/book/validate?rid=333268&amp;d=2017-09-30 19:30&amp;p=2&amp;pt=100&amp;ss=0&amp;sd=2017-09-30 19:30&amp;pofids=&amp;hash=4057967423\" onclick=\"OT.BestAnalytics.logRestaurantVisit(333268, '19:30')\"> 7:30 pm  </a> </li> <li class=\"timeslot-option timeslot-control\"> <a class=\"rest-row-times-btn timeslot\" data-covers=\"2\" data-datetime=\"2017-09-30 20:00\" data-name=\"Fogo de Chao Brazilian Steakhouse - Tyson's\" data-rid=\"333268\" href=\"/book/validate?rid=333268&amp;d=2017-09-30 20:00&amp;p=2&amp;pt=100&amp;ss=0&amp;sd=2017-09-30 20:00&amp;pofids=&amp;hash=2466473168\" onclick=\"OT.BestAnalytics.logRestaurantVisit(333268, '20:00')\"> 8:00 pm  </a> </li> </ul></div> </div></div> </div></div> </div>,\n",
       " <div class=\"result content-section-list-row cf with-times\" data-id=\"16\" data-index=\"17\" data-lat=\"38.8639400\" data-lon=\"-77.0601170\" data-offers=\"\" data-rid=\"444628\"><div class=\"rest-row with-image\"> <div class=\"rest-row-image\"> <a href=\"/restaurant/profile/444628?p=2&amp;sd=2017-09-30%2019%3A00\" onclick=\"OT.BestAnalytics.logRestaurantVisit(444628)\" target=\"_blank\"><img alt=\"photo of sugar factory - pentagon mall restaurant\" class=\"lazy rest-image\" data-src=\"//resizer.otstatic.com/v2/profiles/legacy/444628.jpg\" src=\"//media.otstatic.com/search-result-node/images/no-image.png\"/></a></div> <div class=\"rest-row-info\"><div class=\"rest-row-header\"> <a class=\"rest-row-name rest-name \" href=\"/restaurant/profile/444628?p=2&amp;sd=2017-09-30%2019%3A00\" onclick=\"OT.BestAnalytics.logRestaurantVisit(444628)\" target=\"_blank\"> <span class=\"rest-row-name-text\">Sugar Factory - Pentagon Mall</span> </a> </div> <div class=\" flex-row-justify\"> <div class=\"rest-row-review\"> <div class=\"star-rating review-container\"><div class=\"star-wrapper small\"><div class=\"all-stars\"></div><div class=\"all-stars filled\" style=\"width: 62%;\"></div></div> <a class=\"review-link\" href=\"/restaurant/profile/444628?p=2&amp;sd=2017-09-30%2019%3A00#reviews\" target=\"_blank\"> <span class=\"star-rating-text underline-hover\">(308)</span> <span class=\"star-rating-text--review-text underline-hover\">308 reviews</span> </a></div> <span class=\"recommended-container\"><span class=\"thumbs-up-icon\"></span> <span class=\"recommended-small\">49%</span> <span class=\"recommended-text\">49% Recommend</span> </span> </div> <div class=\"rest-row-pricing\"><i>  $    $      </i>   $    $      </div> </div><div class=\"rest-row-meta rest-row-meta-grid flex-row-justify\"> <span class=\"rest-row-meta--cuisine rest-row-meta-text\">American</span> <span class=\"rest-row-meta--location rest-row-meta-text\">Arlington</span></div> <div class=\"message-alerts\"> </div> <div class=\"rest-row-times-cont\"><div class=\"rest-row-times\"> <div class=\"timeslot-window\"><ul class=\"availability-row-container\"> <li class=\"timeslot-option timeslot-control\"> <a class=\"rest-row-times-btn timeslot\" data-covers=\"2\" data-datetime=\"2017-09-30 18:00\" data-name=\"Sugar Factory - Pentagon Mall\" data-rid=\"444628\" href=\"/book/validate?rid=444628&amp;d=2017-09-30 18:00&amp;p=2&amp;pt=100&amp;ss=0&amp;sd=2017-09-30 18:00&amp;pofids=&amp;hash=4096490219\" onclick=\"OT.BestAnalytics.logRestaurantVisit(444628, '18:00')\"> 6:00 pm  </a> </li> <li class=\"timeslot-option timeslot-control\"> <a class=\"rest-row-times-btn timeslot\" data-covers=\"2\" data-datetime=\"2017-09-30 18:15\" data-name=\"Sugar Factory - Pentagon Mall\" data-rid=\"444628\" href=\"/book/validate?rid=444628&amp;d=2017-09-30 18:15&amp;p=2&amp;pt=100&amp;ss=0&amp;sd=2017-09-30 18:15&amp;pofids=&amp;hash=499269109\" onclick=\"OT.BestAnalytics.logRestaurantVisit(444628, '18:15')\"> 6:15 pm  </a> </li> <li class=\"timeslot-option timeslot-control\"> <a class=\"rest-row-times-btn exact timeslot\" data-covers=\"2\" data-datetime=\"2017-09-30 19:00\" data-name=\"Sugar Factory - Pentagon Mall\" data-rid=\"444628\" href=\"/book/validate?rid=444628&amp;d=2017-09-30 19:00&amp;p=2&amp;pt=100&amp;ss=0&amp;sd=2017-09-30 19:00&amp;pofids=&amp;hash=3649398242\" onclick=\"OT.BestAnalytics.logRestaurantVisit(444628, '19:00')\"> 7:00 pm  </a> </li> <li class=\"timeslot-option timeslot-control\"> <a class=\"rest-row-times-btn timeslot\" data-covers=\"2\" data-datetime=\"2017-09-30 19:15\" data-name=\"Sugar Factory - Pentagon Mall\" data-rid=\"444628\" href=\"/book/validate?rid=444628&amp;d=2017-09-30 19:15&amp;p=2&amp;pt=100&amp;ss=0&amp;sd=2017-09-30 19:15&amp;pofids=&amp;hash=2439414178\" onclick=\"OT.BestAnalytics.logRestaurantVisit(444628, '19:15')\"> 7:15 pm  </a> </li> <li class=\"timeslot-option timeslot-control\"> <a class=\"rest-row-times-btn timeslot\" data-covers=\"2\" data-datetime=\"2017-09-30 19:45\" data-name=\"Sugar Factory - Pentagon Mall\" data-rid=\"444628\" href=\"/book/validate?rid=444628&amp;d=2017-09-30 19:45&amp;p=2&amp;pt=100&amp;ss=0&amp;sd=2017-09-30 19:45&amp;pofids=&amp;hash=1084210188\" onclick=\"OT.BestAnalytics.logRestaurantVisit(444628, '19:45')\"> 7:45 pm  </a> </li> </ul></div> </div></div> </div></div> </div>,\n",
       " <div class=\"result content-section-list-row cf with-times\" data-id=\"17\" data-index=\"18\" data-lat=\"38.9009530\" data-lon=\"-77.0497180\" data-offers=\"\" data-rid=\"156868\"><div class=\"rest-row with-image\"> <div class=\"rest-row-image\"> <a href=\"/circa-at-foggy-bottom\" onclick=\"OT.BestAnalytics.logRestaurantVisit(156868)\" target=\"_blank\"><img alt=\"photo of circa at foggy bottom restaurant\" class=\"lazy rest-image\" data-src=\"//resizer.otstatic.com/v2/profiles/legacy/156868.jpg\" src=\"//media.otstatic.com/search-result-node/images/no-image.png\"/></a></div> <div class=\"rest-row-info\"><div class=\"rest-row-header\"> <a class=\"rest-row-name rest-name \" href=\"/circa-at-foggy-bottom\" onclick=\"OT.BestAnalytics.logRestaurantVisit(156868)\" target=\"_blank\"> <span class=\"rest-row-name-text\">CIRCA at Foggy Bottom</span> </a> </div> <div class=\" flex-row-justify\"> <div class=\"rest-row-review\"> <div class=\"star-rating review-container\"><div class=\"star-wrapper small\"><div class=\"all-stars\"></div><div class=\"all-stars filled\" style=\"width: 90%;\"></div></div> <a class=\"review-link\" href=\"/circa-at-foggy-bottom#reviews\" target=\"_blank\"> <span class=\"star-rating-text underline-hover\">(621)</span> <span class=\"star-rating-text--review-text underline-hover\">621 reviews</span> </a></div> <span class=\"recommended-container\"><span class=\"thumbs-up-icon\"></span> <span class=\"recommended-small\">94%</span> <span class=\"recommended-text\">94% Recommend</span> </span> </div> <div class=\"rest-row-pricing\"><i>  $    $      </i>   $    $      </div> </div><div class=\"rest-row-meta rest-row-meta-grid flex-row-justify\"> <span class=\"rest-row-meta--cuisine rest-row-meta-text\">American</span> <span class=\"rest-row-meta--location rest-row-meta-text\">Foggy Bottom</span></div> <div class=\"message-alerts\"> </div> <div class=\"rest-row-times-cont\"><div class=\"rest-row-times\"> <div class=\"timeslot-window\"><ul class=\"availability-row-container\"> <li class=\"timeslot-option timeslot-control\"> <a class=\"rest-row-times-btn timeslot\" data-covers=\"2\" data-datetime=\"2017-09-30 18:30\" data-name=\"CIRCA at Foggy Bottom\" data-rid=\"156868\" href=\"/book/validate?rid=156868&amp;d=2017-09-30 18:30&amp;p=2&amp;pt=100&amp;ss=0&amp;sd=2017-09-30 18:30&amp;pofids=&amp;hash=572271759\" onclick=\"OT.BestAnalytics.logRestaurantVisit(156868, '18:30')\"> 6:30 pm  </a> </li> <li class=\"timeslot-option timeslot-control\"> <a class=\"rest-row-times-btn timeslot\" data-covers=\"2\" data-datetime=\"2017-09-30 18:45\" data-name=\"CIRCA at Foggy Bottom\" data-rid=\"156868\" href=\"/book/validate?rid=156868&amp;d=2017-09-30 18:45&amp;p=2&amp;pt=100&amp;ss=0&amp;sd=2017-09-30 18:45&amp;pofids=&amp;hash=4285461575\" onclick=\"OT.BestAnalytics.logRestaurantVisit(156868, '18:45')\"> 6:45 pm  </a> </li> <li class=\"timeslot-option timeslot-control\"> <a class=\"rest-row-times-btn exact timeslot\" data-covers=\"2\" data-datetime=\"2017-09-30 19:00\" data-name=\"CIRCA at Foggy Bottom\" data-rid=\"156868\" href=\"/book/validate?rid=156868&amp;d=2017-09-30 19:00&amp;p=2&amp;pt=100&amp;ss=0&amp;sd=2017-09-30 19:00&amp;pofids=&amp;hash=3820520889\" onclick=\"OT.BestAnalytics.logRestaurantVisit(156868, '19:00')\"> 7:00 pm  </a> </li> <li class=\"timeslot-option timeslot-control\"> <a class=\"rest-row-times-btn timeslot\" data-covers=\"2\" data-datetime=\"2017-09-30 19:15\" data-name=\"CIRCA at Foggy Bottom\" data-rid=\"156868\" href=\"/book/validate?rid=156868&amp;d=2017-09-30 19:15&amp;p=2&amp;pt=100&amp;ss=0&amp;sd=2017-09-30 19:15&amp;pofids=&amp;hash=1100263874\" onclick=\"OT.BestAnalytics.logRestaurantVisit(156868, '19:15')\"> 7:15 pm  </a> </li> <li class=\"timeslot-option timeslot-control\"> <a class=\"rest-row-times-btn timeslot\" data-covers=\"2\" data-datetime=\"2017-09-30 19:30\" data-name=\"CIRCA at Foggy Bottom\" data-rid=\"156868\" href=\"/book/validate?rid=156868&amp;d=2017-09-30 19:30&amp;p=2&amp;pt=100&amp;ss=0&amp;sd=2017-09-30 19:30&amp;pofids=&amp;hash=4051991838\" onclick=\"OT.BestAnalytics.logRestaurantVisit(156868, '19:30')\"> 7:30 pm  </a> </li> </ul></div> </div></div> </div></div> </div>,\n",
       " <div class=\"result content-section-list-row cf with-times\" data-id=\"18\" data-index=\"19\" data-lat=\"38.9044970\" data-lon=\"-77.0609150\" data-offers=\"\" data-rid=\"42019\"><div class=\"rest-row with-image\"> <div class=\"rest-row-image\"> <a href=\"/il-canale\" onclick=\"OT.BestAnalytics.logRestaurantVisit(42019)\" target=\"_blank\"><img alt=\"photo of il canale restaurant\" class=\"lazy rest-image\" data-src=\"//resizer.otstatic.com/v2/profiles/legacy/42019.jpg\" src=\"//media.otstatic.com/search-result-node/images/no-image.png\"/></a></div> <div class=\"rest-row-info\"><div class=\"rest-row-header\"> <a class=\"rest-row-name rest-name \" href=\"/il-canale\" onclick=\"OT.BestAnalytics.logRestaurantVisit(42019)\" target=\"_blank\"> <span class=\"rest-row-name-text\">Il Canale</span> </a> </div> <div class=\" flex-row-justify\"> <div class=\"rest-row-review\"> <div class=\"star-rating review-container\"><div class=\"star-wrapper small\"><div class=\"all-stars\"></div><div class=\"all-stars filled\" style=\"width: 88%;\"></div></div> <a class=\"review-link\" href=\"/il-canale#reviews\" target=\"_blank\"> <span class=\"star-rating-text underline-hover\">(1510)</span> <span class=\"star-rating-text--review-text underline-hover\">1510 reviews</span> </a></div> <span class=\"recommended-container\"><span class=\"thumbs-up-icon\"></span> <span class=\"recommended-small\">89%</span> <span class=\"recommended-text\">89% Recommend</span> </span> </div> <div class=\"rest-row-pricing\"><i>  $    $      </i>   $    $      </div> </div><div class=\"rest-row-meta rest-row-meta-grid flex-row-justify\"> <span class=\"rest-row-meta--cuisine rest-row-meta-text\">Italian</span> <span class=\"rest-row-meta--location rest-row-meta-text\">Georgetown</span></div> <div class=\"message-alerts\"> </div> <div class=\"rest-row-times-cont\"><div class=\"rest-row-times\"> <div class=\"timeslot-window\"><ul class=\"availability-row-container\"> <li class=\"timeslot-option timeslot-control\"> <a class=\"rest-row-times-btn timeslot\" data-covers=\"2\" data-datetime=\"2017-09-30 18:30\" data-name=\"Il Canale\" data-rid=\"42019\" href=\"/book/validate?rid=42019&amp;d=2017-09-30 18:30&amp;p=2&amp;pt=100&amp;ss=0&amp;sd=2017-09-30 18:30&amp;pofids=&amp;hash=459156958\" onclick=\"OT.BestAnalytics.logRestaurantVisit(42019, '18:30')\"> 6:30 pm  </a> </li> <li class=\"timeslot-option timeslot-control\"> <a class=\"rest-row-times-btn timeslot\" data-covers=\"2\" data-datetime=\"2017-09-30 18:45\" data-name=\"Il Canale\" data-rid=\"42019\" href=\"/book/validate?rid=42019&amp;d=2017-09-30 18:45&amp;p=2&amp;pt=100&amp;ss=0&amp;sd=2017-09-30 18:45&amp;pofids=&amp;hash=2082115826\" onclick=\"OT.BestAnalytics.logRestaurantVisit(42019, '18:45')\"> 6:45 pm  </a> </li> <li class=\"timeslot-option timeslot-control\"> <a class=\"rest-row-times-btn exact timeslot\" data-covers=\"2\" data-datetime=\"2017-09-30 19:00\" data-name=\"Il Canale\" data-rid=\"42019\" href=\"/book/validate?rid=42019&amp;d=2017-09-30 19:00&amp;p=2&amp;pt=100&amp;ss=0&amp;sd=2017-09-30 19:00&amp;pofids=&amp;hash=1809804634\" onclick=\"OT.BestAnalytics.logRestaurantVisit(42019, '19:00')\"> 7:00 pm  </a> </li> <li class=\"timeslot-option timeslot-control\"> <a class=\"rest-row-times-btn timeslot\" data-covers=\"2\" data-datetime=\"2017-09-30 19:15\" data-name=\"Il Canale\" data-rid=\"42019\" href=\"/book/validate?rid=42019&amp;d=2017-09-30 19:15&amp;p=2&amp;pt=100&amp;ss=0&amp;sd=2017-09-30 19:15&amp;pofids=&amp;hash=2726817995\" onclick=\"OT.BestAnalytics.logRestaurantVisit(42019, '19:15')\"> 7:15 pm  </a> </li> <li class=\"timeslot-option timeslot-control\"> <a class=\"rest-row-times-btn timeslot\" data-covers=\"2\" data-datetime=\"2017-09-30 19:30\" data-name=\"Il Canale\" data-rid=\"42019\" href=\"/book/validate?rid=42019&amp;d=2017-09-30 19:30&amp;p=2&amp;pt=100&amp;ss=0&amp;sd=2017-09-30 19:30&amp;pofids=&amp;hash=245840059\" onclick=\"OT.BestAnalytics.logRestaurantVisit(42019, '19:30')\"> 7:30 pm  </a> </li> </ul></div> </div></div> </div></div> </div>,\n",
       " <div class=\"result content-section-list-row cf with-times\" data-id=\"19\" data-index=\"20\" data-lat=\"38.9191880\" data-lon=\"-77.2204900\" data-offers=\"\" data-rid=\"167557\"><div class=\"rest-row with-image\"> <div class=\"rest-row-image\"> <a href=\"/barrel-and-bushel\" onclick=\"OT.BestAnalytics.logRestaurantVisit(167557)\" target=\"_blank\"><img alt=\"photo of barrel &amp; bushel restaurant\" class=\"lazy rest-image\" data-src=\"//resizer.otstatic.com/v2/profiles/legacy/167557.jpg\" src=\"//media.otstatic.com/search-result-node/images/no-image.png\"/></a></div> <div class=\"rest-row-info\"><div class=\"rest-row-header\"> <a class=\"rest-row-name rest-name \" href=\"/barrel-and-bushel\" onclick=\"OT.BestAnalytics.logRestaurantVisit(167557)\" target=\"_blank\"> <span class=\"rest-row-name-text\">Barrel &amp; Bushel</span> </a> </div> <div class=\" flex-row-justify\"> <div class=\"rest-row-review\"> <div class=\"star-rating review-container\"><div class=\"star-wrapper small\"><div class=\"all-stars\"></div><div class=\"all-stars filled\" style=\"width: 84%;\"></div></div> <a class=\"review-link\" href=\"/barrel-and-bushel#reviews\" target=\"_blank\"> <span class=\"star-rating-text underline-hover\">(309)</span> <span class=\"star-rating-text--review-text underline-hover\">309 reviews</span> </a></div> <span class=\"recommended-container\"><span class=\"thumbs-up-icon\"></span> <span class=\"recommended-small\">90%</span> <span class=\"recommended-text\">90% Recommend</span> </span> </div> <div class=\"rest-row-pricing\"><i>  $    $      </i>   $    $      </div> </div><div class=\"rest-row-meta rest-row-meta-grid flex-row-justify\"> <span class=\"rest-row-meta--cuisine rest-row-meta-text\">Contemporary American</span> <span class=\"rest-row-meta--location rest-row-meta-text\">Tysons Corner / McLean</span></div> <div class=\"message-alerts\"> </div> <div class=\"rest-row-times-cont\"><div class=\"rest-row-times\"> <div class=\"timeslot-window\"><ul class=\"availability-row-container\"> <li class=\"timeslot-option timeslot-control\"> <a class=\"rest-row-times-btn timeslot\" data-covers=\"2\" data-datetime=\"2017-09-30 18:30\" data-name=\"Barrel &amp; Bushel\" data-rid=\"167557\" href=\"/book/validate?rid=167557&amp;d=2017-09-30 18:30&amp;p=2&amp;pt=100&amp;ss=0&amp;sd=2017-09-30 18:30&amp;pofids=&amp;hash=3350608990\" onclick=\"OT.BestAnalytics.logRestaurantVisit(167557, '18:30')\"> 6:30 pm  </a> </li> <li class=\"timeslot-option timeslot-control\"> <a class=\"rest-row-times-btn timeslot\" data-covers=\"2\" data-datetime=\"2017-09-30 18:45\" data-name=\"Barrel &amp; Bushel\" data-rid=\"167557\" href=\"/book/validate?rid=167557&amp;d=2017-09-30 18:45&amp;p=2&amp;pt=100&amp;ss=0&amp;sd=2017-09-30 18:45&amp;pofids=&amp;hash=2296738413\" onclick=\"OT.BestAnalytics.logRestaurantVisit(167557, '18:45')\"> 6:45 pm  </a> </li> <li class=\"timeslot-option timeslot-control\"> <a class=\"rest-row-times-btn exact timeslot\" data-covers=\"2\" data-datetime=\"2017-09-30 19:00\" data-name=\"Barrel &amp; Bushel\" data-rid=\"167557\" href=\"/book/validate?rid=167557&amp;d=2017-09-30 19:00&amp;p=2&amp;pt=100&amp;ss=0&amp;sd=2017-09-30 19:00&amp;pofids=&amp;hash=1191079929\" onclick=\"OT.BestAnalytics.logRestaurantVisit(167557, '19:00')\"> 7:00 pm  </a> </li> <li class=\"timeslot-option timeslot-control\"> <a class=\"rest-row-times-btn timeslot\" data-covers=\"2\" data-datetime=\"2017-09-30 19:15\" data-name=\"Barrel &amp; Bushel\" data-rid=\"167557\" href=\"/book/validate?rid=167557&amp;d=2017-09-30 19:15&amp;p=2&amp;pt=100&amp;ss=0&amp;sd=2017-09-30 19:15&amp;pofids=&amp;hash=1281963434\" onclick=\"OT.BestAnalytics.logRestaurantVisit(167557, '19:15')\"> 7:15 pm  </a> </li> <li class=\"timeslot-option timeslot-control\"> <a class=\"rest-row-times-btn timeslot\" data-covers=\"2\" data-datetime=\"2017-09-30 19:30\" data-name=\"Barrel &amp; Bushel\" data-rid=\"167557\" href=\"/book/validate?rid=167557&amp;d=2017-09-30 19:30&amp;p=2&amp;pt=100&amp;ss=0&amp;sd=2017-09-30 19:30&amp;pofids=&amp;hash=3568081417\" onclick=\"OT.BestAnalytics.logRestaurantVisit(167557, '19:30')\"> 7:30 pm  </a> </li> </ul></div> </div></div> </div></div> </div>,\n",
       " <div class=\"result content-section-list-row cf with-times\" data-id=\"20\" data-index=\"21\" data-lat=\"38.8709940\" data-lon=\"-77.2172800\" data-offers=\"\" data-rid=\"2152\"><div class=\"rest-row with-image\"> <div class=\"rest-row-image\"> <a href=\"/2941-restaurant\" onclick=\"OT.BestAnalytics.logRestaurantVisit(2152)\" target=\"_blank\"><img alt=\"photo of 2941 restaurant restaurant\" class=\"lazy rest-image\" data-src=\"//resizer.otstatic.com/v2/profiles/legacy/2152.jpg\" src=\"//media.otstatic.com/search-result-node/images/no-image.png\"/></a></div> <div class=\"rest-row-info\"><div class=\"rest-row-header\"> <a class=\"rest-row-name rest-name \" href=\"/2941-restaurant\" onclick=\"OT.BestAnalytics.logRestaurantVisit(2152)\" target=\"_blank\"> <span class=\"rest-row-name-text\">2941 Restaurant</span> </a> </div> <div class=\" flex-row-justify\"> <div class=\"rest-row-review\"> <div class=\"star-rating review-container\"><div class=\"star-wrapper small\"><div class=\"all-stars\"></div><div class=\"all-stars filled\" style=\"width: 92%;\"></div></div> <a class=\"review-link\" href=\"/2941-restaurant#reviews\" target=\"_blank\"> <span class=\"star-rating-text underline-hover\">(5231)</span> <span class=\"star-rating-text--review-text underline-hover\">5231 reviews</span> </a></div> <span class=\"recommended-container\"><span class=\"thumbs-up-icon\"></span> <span class=\"recommended-small\">95%</span> <span class=\"recommended-text\">95% Recommend</span> </span> </div> <div class=\"rest-row-pricing\"><i>  $    $      </i>   $    $      </div> </div><div class=\"rest-row-meta rest-row-meta-grid flex-row-justify\"> <span class=\"rest-row-meta--cuisine rest-row-meta-text\">Contemporary American</span> <span class=\"rest-row-meta--location rest-row-meta-text\">Falls Church</span></div> <div class=\"message-alerts\"> <div class=\"notice-timeslot\"><span class=\"clock-icon\"></span> <span>Hurry, we only have 4 timeslots left!</span></div> </div> <div class=\"rest-row-times-cont\"><div class=\"rest-row-times\"> <div class=\"timeslot-window\"><ul class=\"availability-row-container\"> <li class=\"timeslot-option timeslot-control\"> <a class=\"rest-row-times-btn timeslot\" data-covers=\"2\" data-datetime=\"2017-09-30 17:30\" data-name=\"2941 Restaurant\" data-rid=\"2152\" href=\"/book/validate?rid=2152&amp;d=2017-09-30 17:30&amp;p=2&amp;pt=100&amp;ss=0&amp;sd=2017-09-30 17:30&amp;pofids=&amp;hash=531699730\" onclick=\"OT.BestAnalytics.logRestaurantVisit(2152, '17:30')\"> 5:30 pm  </a> </li> <li class=\"timeslot-option timeslot-control\"> <a class=\"rest-row-times-btn timeslot\" data-covers=\"2\" data-datetime=\"2017-09-30 17:45\" data-name=\"2941 Restaurant\" data-rid=\"2152\" href=\"/book/validate?rid=2152&amp;d=2017-09-30 17:45&amp;p=2&amp;pt=100&amp;ss=0&amp;sd=2017-09-30 17:45&amp;pofids=&amp;hash=379210948\" onclick=\"OT.BestAnalytics.logRestaurantVisit(2152, '17:45')\"> 5:45 pm  </a> </li> <li class=\"timeslot-option\"> <a class=\"rest-row-times-btn exact unavailable\" data-offers=\"\">\\xa0 </a> </li> <li class=\"timeslot-option timeslot-control\"> <a class=\"rest-row-times-btn timeslot\" data-covers=\"2\" data-datetime=\"2017-09-30 20:00\" data-name=\"2941 Restaurant\" data-rid=\"2152\" href=\"/book/validate?rid=2152&amp;d=2017-09-30 20:00&amp;p=2&amp;pt=100&amp;ss=0&amp;sd=2017-09-30 20:00&amp;pofids=&amp;hash=723368625\" onclick=\"OT.BestAnalytics.logRestaurantVisit(2152, '20:00')\"> 8:00 pm  </a> </li> <li class=\"timeslot-option timeslot-control\"> <a class=\"rest-row-times-btn timeslot\" data-covers=\"2\" data-datetime=\"2017-09-30 20:15\" data-name=\"2941 Restaurant\" data-rid=\"2152\" href=\"/book/validate?rid=2152&amp;d=2017-09-30 20:15&amp;p=2&amp;pt=100&amp;ss=0&amp;sd=2017-09-30 20:15&amp;pofids=&amp;hash=64350757\" onclick=\"OT.BestAnalytics.logRestaurantVisit(2152, '20:15')\"> 8:15 pm  </a> </li> </ul></div> </div></div> </div></div> </div>,\n",
       " <div class=\"result content-section-list-row cf with-times\" data-id=\"21\" data-index=\"22\" data-lat=\"38.9137220\" data-lon=\"-77.2259210\" data-offers=\"\" data-rid=\"57595\"><div class=\"rest-row with-image\"> <div class=\"rest-row-image\"> <a href=\"/nostos-restaurant\" onclick=\"OT.BestAnalytics.logRestaurantVisit(57595)\" target=\"_blank\"><img alt=\"photo of nostos restaurant restaurant\" class=\"lazy rest-image\" data-src=\"//resizer.otstatic.com/v2/profiles/legacy/57595.jpg\" src=\"//media.otstatic.com/search-result-node/images/no-image.png\"/></a></div> <div class=\"rest-row-info\"><div class=\"rest-row-header\"> <a class=\"rest-row-name rest-name \" href=\"/nostos-restaurant\" onclick=\"OT.BestAnalytics.logRestaurantVisit(57595)\" target=\"_blank\"> <span class=\"rest-row-name-text\">Nostos Restaurant</span> </a> </div> <div class=\" flex-row-justify\"> <div class=\"rest-row-review\"> <div class=\"star-rating review-container\"><div class=\"star-wrapper small\"><div class=\"all-stars\"></div><div class=\"all-stars filled\" style=\"width: 92%;\"></div></div> <a class=\"review-link\" href=\"/nostos-restaurant#reviews\" target=\"_blank\"> <span class=\"star-rating-text underline-hover\">(2393)</span> <span class=\"star-rating-text--review-text underline-hover\">2393 reviews</span> </a></div> <span class=\"recommended-container\"><span class=\"thumbs-up-icon\"></span> <span class=\"recommended-small\">94%</span> <span class=\"recommended-text\">94% Recommend</span> </span> </div> <div class=\"rest-row-pricing\"><i>  $    $      </i>   $    $      </div> </div><div class=\"rest-row-meta rest-row-meta-grid flex-row-justify\"> <span class=\"rest-row-meta--cuisine rest-row-meta-text\">Greek</span> <span class=\"rest-row-meta--location rest-row-meta-text\">Vienna</span></div> <div class=\"message-alerts\"> <div class=\"notice-timeslot\"><span class=\"clock-icon\"></span> <span>Hurry, we only have 2 timeslots left!</span></div> </div> <div class=\"rest-row-times-cont\"><div class=\"rest-row-times\"> <div class=\"timeslot-window\"><ul class=\"availability-row-container\"> <li class=\"timeslot-option\"> <a class=\"rest-row-times-btn unavailable\" data-offers=\"\">\\xa0 </a> </li> <li class=\"timeslot-option\"> <a class=\"rest-row-times-btn unavailable\" data-offers=\"\">\\xa0 </a> </li> <li class=\"timeslot-option\"> <a class=\"rest-row-times-btn exact unavailable\" data-offers=\"\">\\xa0 </a> </li> <li class=\"timeslot-option timeslot-control\"> <a class=\"rest-row-times-btn timeslot\" data-covers=\"2\" data-datetime=\"2017-09-30 20:30\" data-name=\"Nostos Restaurant\" data-rid=\"57595\" href=\"/book/validate?rid=57595&amp;d=2017-09-30 20:30&amp;p=2&amp;pt=100&amp;ss=0&amp;sd=2017-09-30 20:30&amp;pofids=&amp;hash=2459136006\" onclick=\"OT.BestAnalytics.logRestaurantVisit(57595, '20:30')\"> 8:30 pm  </a> </li> <li class=\"timeslot-option timeslot-control\"> <a class=\"rest-row-times-btn timeslot\" data-covers=\"2\" data-datetime=\"2017-09-30 20:45\" data-name=\"Nostos Restaurant\" data-rid=\"57595\" href=\"/book/validate?rid=57595&amp;d=2017-09-30 20:45&amp;p=2&amp;pt=100&amp;ss=0&amp;sd=2017-09-30 20:45&amp;pofids=&amp;hash=3199070144\" onclick=\"OT.BestAnalytics.logRestaurantVisit(57595, '20:45')\"> 8:45 pm  </a> </li> </ul></div> </div></div> </div></div> </div>,\n",
       " <div class=\"result content-section-list-row cf with-times\" data-id=\"22\" data-index=\"23\" data-lat=\"38.9255400\" data-lon=\"-77.1021400\" data-offers=\"\" data-rid=\"107674\"><div class=\"rest-row with-image\"> <div class=\"rest-row-image\"> <a href=\"/et-voila\" onclick=\"OT.BestAnalytics.logRestaurantVisit(107674)\" target=\"_blank\"><img alt=\"photo of et voila restaurant\" class=\"lazy rest-image\" data-src=\"//resizer.otstatic.com/v2/profiles/legacy/107674.jpg\" src=\"//media.otstatic.com/search-result-node/images/no-image.png\"/></a></div> <div class=\"rest-row-info\"><div class=\"rest-row-header\"> <a class=\"rest-row-name rest-name \" href=\"/et-voila\" onclick=\"OT.BestAnalytics.logRestaurantVisit(107674)\" target=\"_blank\"> <span class=\"rest-row-name-text\">Et Voila</span> </a> </div> <div class=\" flex-row-justify\"> <div class=\"rest-row-review\"> <div class=\"star-rating review-container\"><div class=\"star-wrapper small\"><div class=\"all-stars\"></div><div class=\"all-stars filled\" style=\"width: 90%;\"></div></div> <a class=\"review-link\" href=\"/et-voila#reviews\" target=\"_blank\"> <span class=\"star-rating-text underline-hover\">(518)</span> <span class=\"star-rating-text--review-text underline-hover\">518 reviews</span> </a></div> <span class=\"recommended-container\"><span class=\"thumbs-up-icon\"></span> <span class=\"recommended-small\">94%</span> <span class=\"recommended-text\">94% Recommend</span> </span> </div> <div class=\"rest-row-pricing\"><i>  $    $      </i>   $    $      </div> </div><div class=\"rest-row-meta rest-row-meta-grid flex-row-justify\"> <span class=\"rest-row-meta--cuisine rest-row-meta-text\">French</span> <span class=\"rest-row-meta--location rest-row-meta-text\">Palisades Northwest</span></div> <div class=\"message-alerts\"> <div class=\"notice-timeslot\"><span class=\"clock-icon\"></span> <span>Hurry, we only have 4 timeslots left!</span></div> </div> <div class=\"rest-row-times-cont\"><div class=\"rest-row-times\"> <div class=\"timeslot-window\"><ul class=\"availability-row-container\"> <li class=\"timeslot-option timeslot-control\"> <a class=\"rest-row-times-btn timeslot\" data-covers=\"2\" data-datetime=\"2017-09-30 18:15\" data-name=\"Et Voila\" data-rid=\"107674\" href=\"/book/validate?rid=107674&amp;d=2017-09-30 18:15&amp;p=2&amp;pt=100&amp;ss=0&amp;sd=2017-09-30 18:15&amp;pofids=&amp;hash=582086791\" onclick=\"OT.BestAnalytics.logRestaurantVisit(107674, '18:15')\"> 6:15 pm  </a> </li> <li class=\"timeslot-option timeslot-control\"> <a class=\"rest-row-times-btn timeslot\" data-covers=\"2\" data-datetime=\"2017-09-30 18:30\" data-name=\"Et Voila\" data-rid=\"107674\" href=\"/book/validate?rid=107674&amp;d=2017-09-30 18:30&amp;p=2&amp;pt=100&amp;ss=0&amp;sd=2017-09-30 18:30&amp;pofids=&amp;hash=2324731516\" onclick=\"OT.BestAnalytics.logRestaurantVisit(107674, '18:30')\"> 6:30 pm  </a> </li> <li class=\"timeslot-option\"> <a class=\"rest-row-times-btn exact unavailable\" data-offers=\"\">\\xa0 </a> </li> <li class=\"timeslot-option timeslot-control\"> <a class=\"rest-row-times-btn timeslot\" data-covers=\"2\" data-datetime=\"2017-09-30 20:15\" data-name=\"Et Voila\" data-rid=\"107674\" href=\"/book/validate?rid=107674&amp;d=2017-09-30 20:15&amp;p=2&amp;pt=100&amp;ss=0&amp;sd=2017-09-30 20:15&amp;pofids=&amp;hash=3779995427\" onclick=\"OT.BestAnalytics.logRestaurantVisit(107674, '20:15')\"> 8:15 pm  </a> </li> <li class=\"timeslot-option timeslot-control\"> <a class=\"rest-row-times-btn timeslot\" data-covers=\"2\" data-datetime=\"2017-09-30 20:30\" data-name=\"Et Voila\" data-rid=\"107674\" href=\"/book/validate?rid=107674&amp;d=2017-09-30 20:30&amp;p=2&amp;pt=100&amp;ss=0&amp;sd=2017-09-30 20:30&amp;pofids=&amp;hash=1304294444\" onclick=\"OT.BestAnalytics.logRestaurantVisit(107674, '20:30')\"> 8:30 pm  </a> </li> </ul></div> </div></div> </div></div> </div>,\n",
       " <div class=\"result content-section-list-row cf with-times\" data-id=\"23\" data-index=\"24\" data-lat=\"38.8922930\" data-lon=\"-77.0819690\" data-offers=\"\" data-rid=\"350044\"><div class=\"rest-row with-image\"> <div class=\"rest-row-image\"> <a href=\"/restaurant/profile/350044?p=2&amp;sd=2017-09-30%2019%3A00\" onclick=\"OT.BestAnalytics.logRestaurantVisit(350044)\" target=\"_blank\"><img alt=\"photo of tupelo honey - arlington restaurant\" class=\"lazy rest-image\" data-src=\"//resizer.otstatic.com/v2/profiles/legacy/350044.jpg\" src=\"//media.otstatic.com/search-result-node/images/no-image.png\"/></a></div> <div class=\"rest-row-info\"><div class=\"rest-row-header\"> <a class=\"rest-row-name rest-name \" href=\"/restaurant/profile/350044?p=2&amp;sd=2017-09-30%2019%3A00\" onclick=\"OT.BestAnalytics.logRestaurantVisit(350044)\" target=\"_blank\"> <span class=\"rest-row-name-text\">Tupelo Honey - Arlington</span> </a> </div> <div class=\" flex-row-justify\"> <div class=\"rest-row-review\"> <div class=\"star-rating review-container\"><div class=\"star-wrapper small\"><div class=\"all-stars\"></div><div class=\"all-stars filled\" style=\"width: 86%;\"></div></div> <a class=\"review-link\" href=\"/restaurant/profile/350044?p=2&amp;sd=2017-09-30%2019%3A00#reviews\" target=\"_blank\"> <span class=\"star-rating-text underline-hover\">(280)</span> <span class=\"star-rating-text--review-text underline-hover\">280 reviews</span> </a></div> <span class=\"recommended-container\"><span class=\"thumbs-up-icon\"></span> <span class=\"recommended-small\">82%</span> <span class=\"recommended-text\">82% Recommend</span> </span> </div> <div class=\"rest-row-pricing\"><i>  $    $      </i>   $    $      </div> </div><div class=\"rest-row-meta rest-row-meta-grid flex-row-justify\"> <span class=\"rest-row-meta--cuisine rest-row-meta-text\">Southern</span> <span class=\"rest-row-meta--location rest-row-meta-text\">Arlington</span></div> <div class=\"message-alerts\"> </div> <div class=\"rest-row-times-cont\"><div class=\"rest-row-times\"> <div class=\"timeslot-window\"><ul class=\"availability-row-container\"> <li class=\"timeslot-option timeslot-control\"> <a class=\"rest-row-times-btn timeslot\" data-covers=\"2\" data-datetime=\"2017-09-30 18:30\" data-name=\"Tupelo Honey - Arlington\" data-rid=\"350044\" href=\"/book/validate?rid=350044&amp;d=2017-09-30 18:30&amp;p=2&amp;pt=100&amp;ss=0&amp;sd=2017-09-30 18:30&amp;pofids=&amp;hash=930576553\" onclick=\"OT.BestAnalytics.logRestaurantVisit(350044, '18:30')\"> 6:30 pm  </a> </li> <li class=\"timeslot-option timeslot-control\"> <a class=\"rest-row-times-btn timeslot\" data-covers=\"2\" data-datetime=\"2017-09-30 18:45\" data-name=\"Tupelo Honey - Arlington\" data-rid=\"350044\" href=\"/book/validate?rid=350044&amp;d=2017-09-30 18:45&amp;p=2&amp;pt=100&amp;ss=0&amp;sd=2017-09-30 18:45&amp;pofids=&amp;hash=2710177906\" onclick=\"OT.BestAnalytics.logRestaurantVisit(350044, '18:45')\"> 6:45 pm  </a> </li> <li class=\"timeslot-option timeslot-control\"> <a class=\"rest-row-times-btn exact timeslot\" data-covers=\"2\" data-datetime=\"2017-09-30 19:00\" data-name=\"Tupelo Honey - Arlington\" data-rid=\"350044\" href=\"/book/validate?rid=350044&amp;d=2017-09-30 19:00&amp;p=2&amp;pt=100&amp;ss=0&amp;sd=2017-09-30 19:00&amp;pofids=&amp;hash=2147987504\" onclick=\"OT.BestAnalytics.logRestaurantVisit(350044, '19:00')\"> 7:00 pm  </a> </li> <li class=\"timeslot-option timeslot-control\"> <a class=\"rest-row-times-btn timeslot\" data-covers=\"2\" data-datetime=\"2017-09-30 19:15\" data-name=\"Tupelo Honey - Arlington\" data-rid=\"350044\" href=\"/book/validate?rid=350044&amp;d=2017-09-30 19:15&amp;p=2&amp;pt=100&amp;ss=0&amp;sd=2017-09-30 19:15&amp;pofids=&amp;hash=2649157031\" onclick=\"OT.BestAnalytics.logRestaurantVisit(350044, '19:15')\"> 7:15 pm  </a> </li> <li class=\"timeslot-option timeslot-control\"> <a class=\"rest-row-times-btn timeslot\" data-covers=\"2\" data-datetime=\"2017-09-30 19:30\" data-name=\"Tupelo Honey - Arlington\" data-rid=\"350044\" href=\"/book/validate?rid=350044&amp;d=2017-09-30 19:30&amp;p=2&amp;pt=100&amp;ss=0&amp;sd=2017-09-30 19:30&amp;pofids=&amp;hash=1598558064\" onclick=\"OT.BestAnalytics.logRestaurantVisit(350044, '19:30')\"> 7:30 pm  </a> </li> </ul></div> </div></div> </div></div> </div>,\n",
       " <div class=\"result content-section-list-row cf with-times\" data-id=\"24\" data-index=\"25\" data-lat=\"38.9131600\" data-lon=\"-77.2228270\" data-offers=\"\" data-rid=\"32512\"><div class=\"rest-row with-image\"> <div class=\"rest-row-image\"> <a href=\"/chef-geoffs-tysons\" onclick=\"OT.BestAnalytics.logRestaurantVisit(32512)\" target=\"_blank\"><img alt=\"photo of chef geoff's tysons restaurant\" class=\"lazy rest-image\" data-src=\"//resizer.otstatic.com/v2/profiles/legacy/32512.jpg\" src=\"//media.otstatic.com/search-result-node/images/no-image.png\"/></a></div> <div class=\"rest-row-info\"><div class=\"rest-row-header\"> <a class=\"rest-row-name rest-name \" href=\"/chef-geoffs-tysons\" onclick=\"OT.BestAnalytics.logRestaurantVisit(32512)\" target=\"_blank\"> <span class=\"rest-row-name-text\">Chef Geoff's Tysons</span> </a> </div> <div class=\" flex-row-justify\"> <div class=\"rest-row-review\"> <div class=\"star-rating review-container\"><div class=\"star-wrapper small\"><div class=\"all-stars\"></div><div class=\"all-stars filled\" style=\"width: 86%;\"></div></div> <a class=\"review-link\" href=\"/chef-geoffs-tysons#reviews\" target=\"_blank\"> <span class=\"star-rating-text underline-hover\">(3311)</span> <span class=\"star-rating-text--review-text underline-hover\">3311 reviews</span> </a></div> <span class=\"recommended-container\"><span class=\"thumbs-up-icon\"></span> <span class=\"recommended-small\">86%</span> <span class=\"recommended-text\">86% Recommend</span> </span> </div> <div class=\"rest-row-pricing\"><i>  $    $      </i>   $    $      </div> </div><div class=\"rest-row-meta rest-row-meta-grid flex-row-justify\"> <span class=\"rest-row-meta--cuisine rest-row-meta-text\">Contemporary American</span> <span class=\"rest-row-meta--location rest-row-meta-text\">Tysons Corner / McLean</span></div> <div class=\"message-alerts\"> </div> <div class=\"rest-row-times-cont\"><div class=\"rest-row-times\"> <div class=\"timeslot-window\"><ul class=\"availability-row-container\"> <li class=\"timeslot-option timeslot-control\"> <a class=\"rest-row-times-btn timeslot\" data-covers=\"2\" data-datetime=\"2017-09-30 18:30\" data-name=\"Chef Geoff's Tysons\" data-rid=\"32512\" href=\"/book/validate?rid=32512&amp;d=2017-09-30 18:30&amp;p=2&amp;pt=100&amp;ss=0&amp;sd=2017-09-30 18:30&amp;pofids=&amp;hash=1178019790\" onclick=\"OT.BestAnalytics.logRestaurantVisit(32512, '18:30')\"> 6:30 pm  </a> </li> <li class=\"timeslot-option timeslot-control\"> <a class=\"rest-row-times-btn timeslot\" data-covers=\"2\" data-datetime=\"2017-09-30 18:45\" data-name=\"Chef Geoff's Tysons\" data-rid=\"32512\" href=\"/book/validate?rid=32512&amp;d=2017-09-30 18:45&amp;p=2&amp;pt=100&amp;ss=0&amp;sd=2017-09-30 18:45&amp;pofids=&amp;hash=2375579642\" onclick=\"OT.BestAnalytics.logRestaurantVisit(32512, '18:45')\"> 6:45 pm  </a> </li> <li class=\"timeslot-option timeslot-control\"> <a class=\"rest-row-times-btn exact timeslot\" data-covers=\"2\" data-datetime=\"2017-09-30 19:00\" data-name=\"Chef Geoff's Tysons\" data-rid=\"32512\" href=\"/book/validate?rid=32512&amp;d=2017-09-30 19:00&amp;p=2&amp;pt=100&amp;ss=0&amp;sd=2017-09-30 19:00&amp;pofids=&amp;hash=247306686\" onclick=\"OT.BestAnalytics.logRestaurantVisit(32512, '19:00')\"> 7:00 pm  </a> </li> <li class=\"timeslot-option timeslot-control\"> <a class=\"rest-row-times-btn timeslot\" data-covers=\"2\" data-datetime=\"2017-09-30 19:15\" data-name=\"Chef Geoff's Tysons\" data-rid=\"32512\" href=\"/book/validate?rid=32512&amp;d=2017-09-30 19:15&amp;p=2&amp;pt=100&amp;ss=0&amp;sd=2017-09-30 19:15&amp;pofids=&amp;hash=2191080457\" onclick=\"OT.BestAnalytics.logRestaurantVisit(32512, '19:15')\"> 7:15 pm  </a> </li> <li class=\"timeslot-option timeslot-control\"> <a class=\"rest-row-times-btn timeslot\" data-covers=\"2\" data-datetime=\"2017-09-30 19:30\" data-name=\"Chef Geoff's Tysons\" data-rid=\"32512\" href=\"/book/validate?rid=32512&amp;d=2017-09-30 19:30&amp;p=2&amp;pt=100&amp;ss=0&amp;sd=2017-09-30 19:30&amp;pofids=&amp;hash=2595868\" onclick=\"OT.BestAnalytics.logRestaurantVisit(32512, '19:30')\"> 7:30 pm  </a> </li> </ul></div> </div></div> </div></div> </div>,\n",
       " <div class=\"result content-section-list-row cf with-times\" data-id=\"25\" data-index=\"26\" data-lat=\"38.8633640\" data-lon=\"-77.0604800\" data-offers=\"\" data-rid=\"443311\"><div class=\"rest-row with-image\"> <div class=\"rest-row-image\"> <a href=\"/restaurant/profile/443311?p=2&amp;sd=2017-09-30%2019%3A00\" onclick=\"OT.BestAnalytics.logRestaurantVisit(443311)\" target=\"_blank\"><img alt=\"photo of matchbox - pentagon city restaurant\" class=\"lazy rest-image\" data-src=\"//resizer.otstatic.com/v2/profiles/legacy/443311.jpg\" src=\"//media.otstatic.com/search-result-node/images/no-image.png\"/></a></div> <div class=\"rest-row-info\"><div class=\"rest-row-header\"> <a class=\"rest-row-name rest-name \" href=\"/restaurant/profile/443311?p=2&amp;sd=2017-09-30%2019%3A00\" onclick=\"OT.BestAnalytics.logRestaurantVisit(443311)\" target=\"_blank\"> <span class=\"rest-row-name-text\">Matchbox - Pentagon City</span> </a> </div> <div class=\" flex-row-justify\"> <div class=\"rest-row-review\"> <div class=\"star-rating review-container\"><div class=\"star-wrapper small\"><div class=\"all-stars\"></div><div class=\"all-stars filled\" style=\"width: 86%;\"></div></div> <a class=\"review-link\" href=\"/restaurant/profile/443311?p=2&amp;sd=2017-09-30%2019%3A00#reviews\" target=\"_blank\"> <span class=\"star-rating-text underline-hover\">(71)</span> <span class=\"star-rating-text--review-text underline-hover\">71 reviews</span> </a></div> <span class=\"recommended-container\"><span class=\"thumbs-up-icon\"></span> <span class=\"recommended-small\">89%</span> <span class=\"recommended-text\">89% Recommend</span> </span> </div> <div class=\"rest-row-pricing\"><i>  $    $      </i>   $    $      </div> </div><div class=\"rest-row-meta rest-row-meta-grid flex-row-justify\"> <span class=\"rest-row-meta--cuisine rest-row-meta-text\">American</span> <span class=\"rest-row-meta--location rest-row-meta-text\">Arlington</span></div> <div class=\"message-alerts\"> </div> <div class=\"rest-row-times-cont\"><div class=\"rest-row-times\"> <div class=\"timeslot-window\"><ul class=\"availability-row-container\"> <li class=\"timeslot-option timeslot-control\"> <a class=\"rest-row-times-btn timeslot\" data-covers=\"2\" data-datetime=\"2017-09-30 18:30\" data-name=\"Matchbox - Pentagon City\" data-rid=\"443311\" href=\"/book/validate?rid=443311&amp;d=2017-09-30 18:30&amp;p=2&amp;pt=100&amp;ss=0&amp;sd=2017-09-30 18:30&amp;pofids=&amp;hash=924513431\" onclick=\"OT.BestAnalytics.logRestaurantVisit(443311, '18:30')\"> 6:30 pm  </a> </li> <li class=\"timeslot-option timeslot-control\"> <a class=\"rest-row-times-btn timeslot\" data-covers=\"2\" data-datetime=\"2017-09-30 18:45\" data-name=\"Matchbox - Pentagon City\" data-rid=\"443311\" href=\"/book/validate?rid=443311&amp;d=2017-09-30 18:45&amp;p=2&amp;pt=100&amp;ss=0&amp;sd=2017-09-30 18:45&amp;pofids=&amp;hash=380803090\" onclick=\"OT.BestAnalytics.logRestaurantVisit(443311, '18:45')\"> 6:45 pm  </a> </li> <li class=\"timeslot-option timeslot-control\"> <a class=\"rest-row-times-btn exact timeslot\" data-covers=\"2\" data-datetime=\"2017-09-30 19:00\" data-name=\"Matchbox - Pentagon City\" data-rid=\"443311\" href=\"/book/validate?rid=443311&amp;d=2017-09-30 19:00&amp;p=2&amp;pt=100&amp;ss=0&amp;sd=2017-09-30 19:00&amp;pofids=&amp;hash=3376948011\" onclick=\"OT.BestAnalytics.logRestaurantVisit(443311, '19:00')\"> 7:00 pm  </a> </li> <li class=\"timeslot-option timeslot-control\"> <a class=\"rest-row-times-btn timeslot\" data-covers=\"2\" data-datetime=\"2017-09-30 19:15\" data-name=\"Matchbox - Pentagon City\" data-rid=\"443311\" href=\"/book/validate?rid=443311&amp;d=2017-09-30 19:15&amp;p=2&amp;pt=100&amp;ss=0&amp;sd=2017-09-30 19:15&amp;pofids=&amp;hash=146017552\" onclick=\"OT.BestAnalytics.logRestaurantVisit(443311, '19:15')\"> 7:15 pm  </a> </li> <li class=\"timeslot-option timeslot-control\"> <a class=\"rest-row-times-btn timeslot\" data-covers=\"2\" data-datetime=\"2017-09-30 19:30\" data-name=\"Matchbox - Pentagon City\" data-rid=\"443311\" href=\"/book/validate?rid=443311&amp;d=2017-09-30 19:30&amp;p=2&amp;pt=100&amp;ss=0&amp;sd=2017-09-30 19:30&amp;pofids=&amp;hash=3225315213\" onclick=\"OT.BestAnalytics.logRestaurantVisit(443311, '19:30')\"> 7:30 pm  </a> </li> </ul></div> </div></div> </div></div> </div>,\n",
       " <div class=\"result content-section-list-row cf with-times\" data-id=\"26\" data-index=\"27\" data-lat=\"38.8811930\" data-lon=\"-77.0904270\" data-offers=\"\" data-rid=\"191521\"><div class=\"rest-row with-image\"> <div class=\"rest-row-image\"> <a href=\"/texas-jacks-barbecue\" onclick=\"OT.BestAnalytics.logRestaurantVisit(191521)\" target=\"_blank\"><img alt=\"photo of texas jacks barbecue restaurant\" class=\"lazy rest-image\" data-src=\"//resizer.otstatic.com/v2/profiles/legacy/191521.jpg\" src=\"//media.otstatic.com/search-result-node/images/no-image.png\"/></a></div> <div class=\"rest-row-info\"><div class=\"rest-row-header\"> <a class=\"rest-row-name rest-name \" href=\"/texas-jacks-barbecue\" onclick=\"OT.BestAnalytics.logRestaurantVisit(191521)\" target=\"_blank\"> <span class=\"rest-row-name-text\">Texas Jacks Barbecue</span> </a> </div> <div class=\" flex-row-justify\"> <div class=\"rest-row-review\"> <div class=\"star-rating review-container\"><div class=\"star-wrapper small\"><div class=\"all-stars\"></div><div class=\"all-stars filled\" style=\"width: 90%;\"></div></div> <a class=\"review-link\" href=\"/texas-jacks-barbecue#reviews\" target=\"_blank\"> <span class=\"star-rating-text underline-hover\">(336)</span> <span class=\"star-rating-text--review-text underline-hover\">336 reviews</span> </a></div> <span class=\"recommended-container\"><span class=\"thumbs-up-icon\"></span> <span class=\"recommended-small\">92%</span> <span class=\"recommended-text\">92% Recommend</span> </span> </div> <div class=\"rest-row-pricing\"><i>  $    $      </i>   $    $      </div> </div><div class=\"rest-row-meta rest-row-meta-grid flex-row-justify\"> <span class=\"rest-row-meta--cuisine rest-row-meta-text\">Barbecue</span> <span class=\"rest-row-meta--location rest-row-meta-text\">Arlington</span></div> <div class=\"message-alerts\"> </div> <div class=\"rest-row-times-cont\"><div class=\"rest-row-times\"> <div class=\"timeslot-window\"><ul class=\"availability-row-container\"> <li class=\"timeslot-option timeslot-control\"> <a class=\"rest-row-times-btn timeslot\" data-covers=\"2\" data-datetime=\"2017-09-30 18:30\" data-name=\"Texas Jacks Barbecue\" data-rid=\"191521\" href=\"/book/validate?rid=191521&amp;d=2017-09-30 18:30&amp;p=2&amp;pt=100&amp;ss=0&amp;sd=2017-09-30 18:30&amp;pofids=&amp;hash=3600343958\" onclick=\"OT.BestAnalytics.logRestaurantVisit(191521, '18:30')\"> 6:30 pm  </a> </li> <li class=\"timeslot-option timeslot-control\"> <a class=\"rest-row-times-btn timeslot\" data-covers=\"2\" data-datetime=\"2017-09-30 18:45\" data-name=\"Texas Jacks Barbecue\" data-rid=\"191521\" href=\"/book/validate?rid=191521&amp;d=2017-09-30 18:45&amp;p=2&amp;pt=100&amp;ss=0&amp;sd=2017-09-30 18:45&amp;pofids=&amp;hash=2754760969\" onclick=\"OT.BestAnalytics.logRestaurantVisit(191521, '18:45')\"> 6:45 pm  </a> </li> <li class=\"timeslot-option timeslot-control\"> <a class=\"rest-row-times-btn exact timeslot\" data-covers=\"2\" data-datetime=\"2017-09-30 19:00\" data-name=\"Texas Jacks Barbecue\" data-rid=\"191521\" href=\"/book/validate?rid=191521&amp;d=2017-09-30 19:00&amp;p=2&amp;pt=100&amp;ss=0&amp;sd=2017-09-30 19:00&amp;pofids=&amp;hash=741134202\" onclick=\"OT.BestAnalytics.logRestaurantVisit(191521, '19:00')\"> 7:00 pm  </a> </li> <li class=\"timeslot-option timeslot-control\"> <a class=\"rest-row-times-btn timeslot\" data-covers=\"2\" data-datetime=\"2017-09-30 19:15\" data-name=\"Texas Jacks Barbecue\" data-rid=\"191521\" href=\"/book/validate?rid=191521&amp;d=2017-09-30 19:15&amp;p=2&amp;pt=100&amp;ss=0&amp;sd=2017-09-30 19:15&amp;pofids=&amp;hash=57133895\" onclick=\"OT.BestAnalytics.logRestaurantVisit(191521, '19:15')\"> 7:15 pm  </a> </li> <li class=\"timeslot-option timeslot-control\"> <a class=\"rest-row-times-btn timeslot\" data-covers=\"2\" data-datetime=\"2017-09-30 19:30\" data-name=\"Texas Jacks Barbecue\" data-rid=\"191521\" href=\"/book/validate?rid=191521&amp;d=2017-09-30 19:30&amp;p=2&amp;pt=100&amp;ss=0&amp;sd=2017-09-30 19:30&amp;pofids=&amp;hash=478941421\" onclick=\"OT.BestAnalytics.logRestaurantVisit(191521, '19:30')\"> 7:30 pm  </a> </li> </ul></div> </div></div> </div></div> </div>,\n",
       " <div class=\"result content-section-list-row cf with-times\" data-id=\"27\" data-index=\"28\" data-lat=\"38.9159550\" data-lon=\"-77.2252950\" data-offers=\"\" data-rid=\"2057\"><div class=\"rest-row with-image\"> <div class=\"rest-row-image\"> <a href=\"/the-capital-grille-tysons-corner\" onclick=\"OT.BestAnalytics.logRestaurantVisit(2057)\" target=\"_blank\"><img alt=\"photo of the capital grille - tysons corner restaurant\" class=\"lazy rest-image\" data-src=\"//resizer.otstatic.com/v2/profiles/legacy/2057.jpg\" src=\"//media.otstatic.com/search-result-node/images/no-image.png\"/></a></div> <div class=\"rest-row-info\"><div class=\"rest-row-header\"> <a class=\"rest-row-name rest-name \" href=\"/the-capital-grille-tysons-corner\" onclick=\"OT.BestAnalytics.logRestaurantVisit(2057)\" target=\"_blank\"> <span class=\"rest-row-name-text\">The Capital Grille - Tysons Corner</span> </a> </div> <div class=\" flex-row-justify\"> <div class=\"rest-row-review\"> <div class=\"star-rating review-container\"><div class=\"star-wrapper small\"><div class=\"all-stars\"></div><div class=\"all-stars filled\" style=\"width: 94%;\"></div></div> <a class=\"review-link\" href=\"/the-capital-grille-tysons-corner#reviews\" target=\"_blank\"> <span class=\"star-rating-text underline-hover\">(2039)</span> <span class=\"star-rating-text--review-text underline-hover\">2039 reviews</span> </a></div> <span class=\"recommended-container\"><span class=\"thumbs-up-icon\"></span> <span class=\"recommended-small\">96%</span> <span class=\"recommended-text\">96% Recommend</span> </span> </div> <div class=\"rest-row-pricing\"><i>  $    $    $    $  </i> </div> </div><div class=\"rest-row-meta rest-row-meta-grid flex-row-justify\"> <span class=\"rest-row-meta--cuisine rest-row-meta-text\">Steakhouse</span> <span class=\"rest-row-meta--location rest-row-meta-text\">Tysons Corner / McLean</span></div> <div class=\"message-alerts\"> </div> <div class=\"rest-row-times-cont\"><div class=\"rest-row-times\"> <div class=\"timeslot-window\"><ul class=\"availability-row-container\"> <li class=\"timeslot-option timeslot-control\"> <a class=\"rest-row-times-btn timeslot\" data-covers=\"2\" data-datetime=\"2017-09-30 18:30\" data-name=\"The Capital Grille - Tysons Corner\" data-rid=\"2057\" href=\"/book/validate?rid=2057&amp;d=2017-09-30 18:30&amp;p=2&amp;pt=100&amp;ss=0&amp;sd=2017-09-30 18:30&amp;pofids=&amp;hash=2438414\" onclick=\"OT.BestAnalytics.logRestaurantVisit(2057, '18:30')\"> 6:30 pm  </a> </li> <li class=\"timeslot-option timeslot-control\"> <a class=\"rest-row-times-btn timeslot\" data-covers=\"2\" data-datetime=\"2017-09-30 18:45\" data-name=\"The Capital Grille - Tysons Corner\" data-rid=\"2057\" href=\"/book/validate?rid=2057&amp;d=2017-09-30 18:45&amp;p=2&amp;pt=100&amp;ss=0&amp;sd=2017-09-30 18:45&amp;pofids=&amp;hash=327213335\" onclick=\"OT.BestAnalytics.logRestaurantVisit(2057, '18:45')\"> 6:45 pm  </a> </li> <li class=\"timeslot-option timeslot-control\"> <a class=\"rest-row-times-btn exact timeslot\" data-covers=\"2\" data-datetime=\"2017-09-30 19:00\" data-name=\"The Capital Grille - Tysons Corner\" data-rid=\"2057\" href=\"/book/validate?rid=2057&amp;d=2017-09-30 19:00&amp;p=2&amp;pt=100&amp;ss=0&amp;sd=2017-09-30 19:00&amp;pofids=&amp;hash=2609068095\" onclick=\"OT.BestAnalytics.logRestaurantVisit(2057, '19:00')\"> 7:00 pm  </a> </li> <li class=\"timeslot-option timeslot-control\"> <a class=\"rest-row-times-btn timeslot\" data-covers=\"2\" data-datetime=\"2017-09-30 19:15\" data-name=\"The Capital Grille - Tysons Corner\" data-rid=\"2057\" href=\"/book/validate?rid=2057&amp;d=2017-09-30 19:15&amp;p=2&amp;pt=100&amp;ss=0&amp;sd=2017-09-30 19:15&amp;pofids=&amp;hash=321524155\" onclick=\"OT.BestAnalytics.logRestaurantVisit(2057, '19:15')\"> 7:15 pm  </a> </li> <li class=\"timeslot-option timeslot-control\"> <a class=\"rest-row-times-btn timeslot\" data-covers=\"2\" data-datetime=\"2017-09-30 19:30\" data-name=\"The Capital Grille - Tysons Corner\" data-rid=\"2057\" href=\"/book/validate?rid=2057&amp;d=2017-09-30 19:30&amp;p=2&amp;pt=100&amp;ss=0&amp;sd=2017-09-30 19:30&amp;pofids=&amp;hash=2362639263\" onclick=\"OT.BestAnalytics.logRestaurantVisit(2057, '19:30')\"> 7:30 pm  </a> </li> </ul></div> </div></div> </div></div> </div>,\n",
       " <div class=\"result content-section-list-row cf with-times\" data-id=\"28\" data-index=\"29\" data-lat=\"38.9197230\" data-lon=\"-77.2206680\" data-offers=\"\" data-rid=\"265561\"><div class=\"rest-row with-image\"> <div class=\"rest-row-image\"> <a href=\"/r/earls-kitchen-and-bar-tysons-corner-mclean\" onclick=\"OT.BestAnalytics.logRestaurantVisit(265561)\" target=\"_blank\"><img alt=\"photo of earls kitchen + bar - tysons corner restaurant\" class=\"lazy rest-image\" data-src=\"//resizer.otstatic.com/v2/profiles/legacy/265561.jpg\" src=\"//media.otstatic.com/search-result-node/images/no-image.png\"/></a></div> <div class=\"rest-row-info\"><div class=\"rest-row-header\"> <a class=\"rest-row-name rest-name \" href=\"/r/earls-kitchen-and-bar-tysons-corner-mclean\" onclick=\"OT.BestAnalytics.logRestaurantVisit(265561)\" target=\"_blank\"> <span class=\"rest-row-name-text\">Earls Kitchen + Bar - Tysons Corner</span> </a> </div> <div class=\" flex-row-justify\"> <div class=\"rest-row-review\"> <div class=\"star-rating review-container\"><div class=\"star-wrapper small\"><div class=\"all-stars\"></div><div class=\"all-stars filled\" style=\"width: 86%;\"></div></div> <a class=\"review-link\" href=\"/r/earls-kitchen-and-bar-tysons-corner-mclean#reviews\" target=\"_blank\"> <span class=\"star-rating-text underline-hover\">(397)</span> <span class=\"star-rating-text--review-text underline-hover\">397 reviews</span> </a></div> <span class=\"recommended-container\"><span class=\"thumbs-up-icon\"></span> <span class=\"recommended-small\">87%</span> <span class=\"recommended-text\">87% Recommend</span> </span> </div> <div class=\"rest-row-pricing\"><i>  $    $      </i>   $    $      </div> </div><div class=\"rest-row-meta rest-row-meta-grid flex-row-justify\"> <span class=\"rest-row-meta--cuisine rest-row-meta-text\">Global, International</span> <span class=\"rest-row-meta--location rest-row-meta-text\">Tysons Corner / McLean</span></div> <div class=\"message-alerts\"> <div class=\"notice-timeslot\"><span class=\"clock-icon\"></span> <span>Hurry, we only have 4 timeslots left!</span></div> </div> <div class=\"rest-row-times-cont\"><div class=\"rest-row-times\"> <div class=\"timeslot-window\"><ul class=\"availability-row-container\"> <li class=\"timeslot-option timeslot-control\"> <a class=\"rest-row-times-btn timeslot\" data-covers=\"2\" data-datetime=\"2017-09-30 17:30\" data-href=\"/book/validate?rid=265561&amp;d=2017-09-30 17:30&amp;p=2&amp;pt=100&amp;ss=0&amp;sd=2017-09-30 17:30&amp;pofids=&amp;hash=2130112216\" data-name=\"Earls Kitchen + Bar - Tysons Corner\" data-rid=\"265561\" data-table-categories=\"default,bar\" data-table-categories-tooltip-title=\"Table Types\"> 5:30 pm* <div class=\"js-table-categories-tooltip table-categories-tooltip\"><div class=\"table-categories-tooltip-arrow\"></div><div class=\"table-categories-tooltip-container\"><h5 class=\"upcase-style\">Table types</h5> <div>Standard</div> <div>Bar</div> </div></div> </a> </li> <li class=\"timeslot-option timeslot-control\"> <a class=\"rest-row-times-btn timeslot\" data-covers=\"2\" data-datetime=\"2017-09-30 17:45\" data-href=\"/book/validate?rid=265561&amp;d=2017-09-30 17:45&amp;p=2&amp;pt=100&amp;ss=0&amp;sd=2017-09-30 17:45&amp;pofids=&amp;hash=4009525345\" data-name=\"Earls Kitchen + Bar - Tysons Corner\" data-rid=\"265561\" data-table-categories=\"default,bar\" data-table-categories-tooltip-title=\"Table Types\"> 5:45 pm* <div class=\"js-table-categories-tooltip table-categories-tooltip\"><div class=\"table-categories-tooltip-arrow\"></div><div class=\"table-categories-tooltip-container\"><h5 class=\"upcase-style\">Table types</h5> <div>Standard</div> <div>Bar</div> </div></div> </a> </li> <li class=\"timeslot-option\"> <a class=\"rest-row-times-btn exact unavailable\" data-offers=\"\">\\xa0 </a> </li> <li class=\"timeslot-option timeslot-control\"> <a class=\"rest-row-times-btn timeslot\" data-covers=\"2\" data-datetime=\"2017-09-30 21:00\" data-href=\"/book/validate?rid=265561&amp;d=2017-09-30 21:00&amp;p=2&amp;pt=100&amp;ss=0&amp;sd=2017-09-30 21:00&amp;pofids=&amp;hash=1953129975\" data-name=\"Earls Kitchen + Bar - Tysons Corner\" data-rid=\"265561\" data-table-categories=\"default,bar\" data-table-categories-tooltip-title=\"Table Types\"> 9:00 pm* <div class=\"js-table-categories-tooltip table-categories-tooltip\"><div class=\"table-categories-tooltip-arrow\"></div><div class=\"table-categories-tooltip-container\"><h5 class=\"upcase-style\">Table types</h5> <div>Standard</div> <div>Bar</div> </div></div> </a> </li> <li class=\"timeslot-option timeslot-control\"> <a class=\"rest-row-times-btn timeslot\" data-covers=\"2\" data-datetime=\"2017-09-30 21:15\" data-href=\"/book/validate?rid=265561&amp;d=2017-09-30 21:15&amp;p=2&amp;pt=100&amp;ss=0&amp;sd=2017-09-30 21:15&amp;pofids=&amp;hash=3364221060\" data-name=\"Earls Kitchen + Bar - Tysons Corner\" data-rid=\"265561\" data-table-categories=\"default,bar\" data-table-categories-tooltip-title=\"Table Types\"> 9:15 pm* <div class=\"js-table-categories-tooltip table-categories-tooltip\"><div class=\"table-categories-tooltip-arrow\"></div><div class=\"table-categories-tooltip-container\"><h5 class=\"upcase-style\">Table types</h5> <div>Standard</div> <div>Bar</div> </div></div> </a> </li> </ul></div> </div></div> </div></div> </div>,\n",
       " <div class=\"result content-section-list-row cf with-times\" data-id=\"29\" data-index=\"30\" data-lat=\"38.9370620\" data-lon=\"-77.1841210\" data-offers=\"\" data-rid=\"6182\"><div class=\"rest-row with-image\"> <div class=\"rest-row-image\"> <a href=\"/j-gilberts-wood-fired-steaks-and-seafood-mclean\" onclick=\"OT.BestAnalytics.logRestaurantVisit(6182)\" target=\"_blank\"><img alt=\"photo of j. gilbert\\u2019s \\u2013 wood fired steaks &amp; seafood - mclean restaurant\" class=\"lazy rest-image\" data-src=\"//resizer.otstatic.com/v2/profiles/legacy/6182.jpg\" src=\"//media.otstatic.com/search-result-node/images/no-image.png\"/></a></div> <div class=\"rest-row-info\"><div class=\"rest-row-header\"> <a class=\"rest-row-name rest-name \" href=\"/j-gilberts-wood-fired-steaks-and-seafood-mclean\" onclick=\"OT.BestAnalytics.logRestaurantVisit(6182)\" target=\"_blank\"> <span class=\"rest-row-name-text\">J. Gilbert\\u2019s \\u2013 Wood Fired Steaks &amp; Seafood - McLean</span> </a> </div> <div class=\" flex-row-justify\"> <div class=\"rest-row-review\"> <div class=\"star-rating review-container\"><div class=\"star-wrapper small\"><div class=\"all-stars\"></div><div class=\"all-stars filled\" style=\"width: 88%;\"></div></div> <a class=\"review-link\" href=\"/j-gilberts-wood-fired-steaks-and-seafood-mclean#reviews\" target=\"_blank\"> <span class=\"star-rating-text underline-hover\">(4055)</span> <span class=\"star-rating-text--review-text underline-hover\">4055 reviews</span> </a></div> <span class=\"recommended-container\"><span class=\"thumbs-up-icon\"></span> <span class=\"recommended-small\">93%</span> <span class=\"recommended-text\">93% Recommend</span> </span> </div> <div class=\"rest-row-pricing\"><i>  $    $    $    </i>   $        </div> </div><div class=\"rest-row-meta rest-row-meta-grid flex-row-justify\"> <span class=\"rest-row-meta--cuisine rest-row-meta-text\">Steak</span> <span class=\"rest-row-meta--location rest-row-meta-text\">McLean</span></div> <div class=\"message-alerts\"> </div> <div class=\"rest-row-times-cont\"><div class=\"rest-row-times\"> <div class=\"timeslot-window\"><ul class=\"availability-row-container\"> <li class=\"timeslot-option timeslot-control\"> <a class=\"rest-row-times-btn timeslot\" data-covers=\"2\" data-datetime=\"2017-09-30 18:30\" data-name=\"J. Gilbert\\u2019s \\u2013 Wood Fired Steaks &amp; Seafood - McLean\" data-rid=\"6182\" href=\"/book/validate?rid=6182&amp;d=2017-09-30 18:30&amp;p=2&amp;pt=100&amp;ss=0&amp;sd=2017-09-30 18:30&amp;pofids=&amp;hash=993506858\" onclick=\"OT.BestAnalytics.logRestaurantVisit(6182, '18:30')\"> 6:30 pm  </a> </li> <li class=\"timeslot-option timeslot-control\"> <a class=\"rest-row-times-btn timeslot\" data-covers=\"2\" data-datetime=\"2017-09-30 18:45\" data-name=\"J. Gilbert\\u2019s \\u2013 Wood Fired Steaks &amp; Seafood - McLean\" data-rid=\"6182\" href=\"/book/validate?rid=6182&amp;d=2017-09-30 18:45&amp;p=2&amp;pt=100&amp;ss=0&amp;sd=2017-09-30 18:45&amp;pofids=&amp;hash=2850246451\" onclick=\"OT.BestAnalytics.logRestaurantVisit(6182, '18:45')\"> 6:45 pm  </a> </li> <li class=\"timeslot-option timeslot-control\"> <a class=\"rest-row-times-btn exact timeslot\" data-covers=\"2\" data-datetime=\"2017-09-30 19:00\" data-name=\"J. Gilbert\\u2019s \\u2013 Wood Fired Steaks &amp; Seafood - McLean\" data-rid=\"6182\" href=\"/book/validate?rid=6182&amp;d=2017-09-30 19:00&amp;p=2&amp;pt=100&amp;ss=0&amp;sd=2017-09-30 19:00&amp;pofids=&amp;hash=1138556110\" onclick=\"OT.BestAnalytics.logRestaurantVisit(6182, '19:00')\"> 7:00 pm  </a> </li> <li class=\"timeslot-option timeslot-control\"> <a class=\"rest-row-times-btn timeslot\" data-covers=\"2\" data-datetime=\"2017-09-30 19:15\" data-name=\"J. Gilbert\\u2019s \\u2013 Wood Fired Steaks &amp; Seafood - McLean\" data-rid=\"6182\" href=\"/book/validate?rid=6182&amp;d=2017-09-30 19:15&amp;p=2&amp;pt=100&amp;ss=0&amp;sd=2017-09-30 19:15&amp;pofids=&amp;hash=13132827\" onclick=\"OT.BestAnalytics.logRestaurantVisit(6182, '19:15')\"> 7:15 pm  </a> </li> <li class=\"timeslot-option timeslot-control\"> <a class=\"rest-row-times-btn timeslot\" data-covers=\"2\" data-datetime=\"2017-09-30 19:30\" data-name=\"J. Gilbert\\u2019s \\u2013 Wood Fired Steaks &amp; Seafood - McLean\" data-rid=\"6182\" href=\"/book/validate?rid=6182&amp;d=2017-09-30 19:30&amp;p=2&amp;pt=100&amp;ss=0&amp;sd=2017-09-30 19:30&amp;pofids=&amp;hash=3670427339\" onclick=\"OT.BestAnalytics.logRestaurantVisit(6182, '19:30')\"> 7:30 pm  </a> </li> </ul></div> </div></div> </div></div> </div>,\n",
       " <div class=\"result content-section-list-row cf with-times\" data-id=\"30\" data-index=\"31\" data-lat=\"38.9183840\" data-lon=\"-77.2262080\" data-offers=\"\" data-rid=\"144940\"><div class=\"rest-row with-image\"> <div class=\"rest-row-image\"> <a href=\"/cafe-deluxe-tysons-corner\" onclick=\"OT.BestAnalytics.logRestaurantVisit(144940)\" target=\"_blank\"><img alt=\"photo of cafe deluxe - tysons corner restaurant\" class=\"lazy rest-image\" data-src=\"//resizer.otstatic.com/v2/profiles/legacy/144940.jpg\" src=\"//media.otstatic.com/search-result-node/images/no-image.png\"/></a></div> <div class=\"rest-row-info\"><div class=\"rest-row-header\"> <a class=\"rest-row-name rest-name \" href=\"/cafe-deluxe-tysons-corner\" onclick=\"OT.BestAnalytics.logRestaurantVisit(144940)\" target=\"_blank\"> <span class=\"rest-row-name-text\">Cafe Deluxe - Tysons Corner</span> </a> </div> <div class=\" flex-row-justify\"> <div class=\"rest-row-review\"> <div class=\"star-rating review-container\"><div class=\"star-wrapper small\"><div class=\"all-stars\"></div><div class=\"all-stars filled\" style=\"width: 84%;\"></div></div> <a class=\"review-link\" href=\"/cafe-deluxe-tysons-corner#reviews\" target=\"_blank\"> <span class=\"star-rating-text underline-hover\">(362)</span> <span class=\"star-rating-text--review-text underline-hover\">362 reviews</span> </a></div> <span class=\"recommended-container\"><span class=\"thumbs-up-icon\"></span> <span class=\"recommended-small\">86%</span> <span class=\"recommended-text\">86% Recommend</span> </span> </div> <div class=\"rest-row-pricing\"><i>  $    $      </i>   $    $      </div> </div><div class=\"rest-row-meta rest-row-meta-grid flex-row-justify\"> <span class=\"rest-row-meta--cuisine rest-row-meta-text\">American</span> <span class=\"rest-row-meta--location rest-row-meta-text\">Tysons Corner / McLean</span></div> <div class=\"message-alerts\"> </div> <div class=\"rest-row-times-cont\"><div class=\"rest-row-times\"> <div class=\"timeslot-window\"><ul class=\"availability-row-container\"> <li class=\"timeslot-option timeslot-control\"> <a class=\"rest-row-times-btn timeslot\" data-covers=\"2\" data-datetime=\"2017-09-30 18:30\" data-name=\"Cafe Deluxe - Tysons Corner\" data-rid=\"144940\" href=\"/book/validate?rid=144940&amp;d=2017-09-30 18:30&amp;p=2&amp;pt=100&amp;ss=0&amp;sd=2017-09-30 18:30&amp;pofids=&amp;hash=1309130368\" onclick=\"OT.BestAnalytics.logRestaurantVisit(144940, '18:30')\"> 6:30 pm  </a> </li> <li class=\"timeslot-option timeslot-control\"> <a class=\"rest-row-times-btn timeslot\" data-covers=\"2\" data-datetime=\"2017-09-30 18:45\" data-name=\"Cafe Deluxe - Tysons Corner\" data-rid=\"144940\" href=\"/book/validate?rid=144940&amp;d=2017-09-30 18:45&amp;p=2&amp;pt=100&amp;ss=0&amp;sd=2017-09-30 18:45&amp;pofids=&amp;hash=3115113172\" onclick=\"OT.BestAnalytics.logRestaurantVisit(144940, '18:45')\"> 6:45 pm  </a> </li> <li class=\"timeslot-option timeslot-control\"> <a class=\"rest-row-times-btn exact timeslot\" data-covers=\"2\" data-datetime=\"2017-09-30 19:00\" data-name=\"Cafe Deluxe - Tysons Corner\" data-rid=\"144940\" href=\"/book/validate?rid=144940&amp;d=2017-09-30 19:00&amp;p=2&amp;pt=100&amp;ss=0&amp;sd=2017-09-30 19:00&amp;pofids=&amp;hash=607431146\" onclick=\"OT.BestAnalytics.logRestaurantVisit(144940, '19:00')\"> 7:00 pm  </a> </li> <li class=\"timeslot-option timeslot-control\"> <a class=\"rest-row-times-btn timeslot\" data-covers=\"2\" data-datetime=\"2017-09-30 19:15\" data-name=\"Cafe Deluxe - Tysons Corner\" data-rid=\"144940\" href=\"/book/validate?rid=144940&amp;d=2017-09-30 19:15&amp;p=2&amp;pt=100&amp;ss=0&amp;sd=2017-09-30 19:15&amp;pofids=&amp;hash=2429984227\" onclick=\"OT.BestAnalytics.logRestaurantVisit(144940, '19:15')\"> 7:15 pm  </a> </li> <li class=\"timeslot-option timeslot-control\"> <a class=\"rest-row-times-btn timeslot\" data-covers=\"2\" data-datetime=\"2017-09-30 19:30\" data-name=\"Cafe Deluxe - Tysons Corner\" data-rid=\"144940\" href=\"/book/validate?rid=144940&amp;d=2017-09-30 19:30&amp;p=2&amp;pt=100&amp;ss=0&amp;sd=2017-09-30 19:30&amp;pofids=&amp;hash=4255193284\" onclick=\"OT.BestAnalytics.logRestaurantVisit(144940, '19:30')\"> 7:30 pm  </a> </li> </ul></div> </div></div> </div></div> </div>,\n",
       " <div class=\"result content-section-list-row cf with-times\" data-id=\"31\" data-index=\"32\" data-lat=\"38.8411510\" data-lon=\"-77.0885130\" data-offers=\"\" data-rid=\"212539\"><div class=\"rest-row with-image\"> <div class=\"rest-row-image\"> <a href=\"/palette-22\" onclick=\"OT.BestAnalytics.logRestaurantVisit(212539)\" target=\"_blank\"><img alt=\"photo of palette 22 restaurant\" class=\"lazy rest-image\" data-src=\"//resizer.otstatic.com/v2/profiles/legacy/212539.jpg\" src=\"//media.otstatic.com/search-result-node/images/no-image.png\"/></a></div> <div class=\"rest-row-info\"><div class=\"rest-row-header\"> <a class=\"rest-row-name rest-name \" href=\"/palette-22\" onclick=\"OT.BestAnalytics.logRestaurantVisit(212539)\" target=\"_blank\"> <span class=\"rest-row-name-text\">Palette 22</span> </a> </div> <div class=\" flex-row-justify\"> <div class=\"rest-row-review\"> <div class=\"star-rating review-container\"><div class=\"star-wrapper small\"><div class=\"all-stars\"></div><div class=\"all-stars filled\" style=\"width: 86%;\"></div></div> <a class=\"review-link\" href=\"/palette-22#reviews\" target=\"_blank\"> <span class=\"star-rating-text underline-hover\">(420)</span> <span class=\"star-rating-text--review-text underline-hover\">420 reviews</span> </a></div> <span class=\"recommended-container\"><span class=\"thumbs-up-icon\"></span> <span class=\"recommended-small\">86%</span> <span class=\"recommended-text\">86% Recommend</span> </span> </div> <div class=\"rest-row-pricing\"><i>  $    $      </i>   $    $      </div> </div><div class=\"rest-row-meta rest-row-meta-grid flex-row-justify\"> <span class=\"rest-row-meta--cuisine rest-row-meta-text\">Global, International</span> <span class=\"rest-row-meta--location rest-row-meta-text\">Arlington</span></div> <div class=\"message-alerts\"> </div> <div class=\"rest-row-times-cont\"><div class=\"rest-row-times\"> <div class=\"timeslot-window\"><ul class=\"availability-row-container\"> <li class=\"timeslot-option timeslot-control\"> <a class=\"rest-row-times-btn timeslot\" data-covers=\"2\" data-datetime=\"2017-09-30 18:30\" data-name=\"Palette 22\" data-rid=\"212539\" href=\"/book/validate?rid=212539&amp;d=2017-09-30 18:30&amp;p=2&amp;pt=100&amp;ss=0&amp;sd=2017-09-30 18:30&amp;pofids=&amp;hash=3285113263\" onclick=\"OT.BestAnalytics.logRestaurantVisit(212539, '18:30')\"> 6:30 pm  </a> </li> <li class=\"timeslot-option timeslot-control\"> <a class=\"rest-row-times-btn timeslot\" data-covers=\"2\" data-datetime=\"2017-09-30 18:45\" data-name=\"Palette 22\" data-rid=\"212539\" href=\"/book/validate?rid=212539&amp;d=2017-09-30 18:45&amp;p=2&amp;pt=100&amp;ss=0&amp;sd=2017-09-30 18:45&amp;pofids=&amp;hash=3115863387\" onclick=\"OT.BestAnalytics.logRestaurantVisit(212539, '18:45')\"> 6:45 pm  </a> </li> <li class=\"timeslot-option timeslot-control\"> <a class=\"rest-row-times-btn exact timeslot\" data-covers=\"2\" data-datetime=\"2017-09-30 19:00\" data-name=\"Palette 22\" data-rid=\"212539\" href=\"/book/validate?rid=212539&amp;d=2017-09-30 19:00&amp;p=2&amp;pt=100&amp;ss=0&amp;sd=2017-09-30 19:00&amp;pofids=&amp;hash=164852195\" onclick=\"OT.BestAnalytics.logRestaurantVisit(212539, '19:00')\"> 7:00 pm  </a> </li> <li class=\"timeslot-option timeslot-control\"> <a class=\"rest-row-times-btn timeslot\" data-covers=\"2\" data-datetime=\"2017-09-30 19:15\" data-name=\"Palette 22\" data-rid=\"212539\" href=\"/book/validate?rid=212539&amp;d=2017-09-30 19:15&amp;p=2&amp;pt=100&amp;ss=0&amp;sd=2017-09-30 19:15&amp;pofids=&amp;hash=2557951134\" onclick=\"OT.BestAnalytics.logRestaurantVisit(212539, '19:15')\"> 7:15 pm  </a> </li> <li class=\"timeslot-option timeslot-control\"> <a class=\"rest-row-times-btn timeslot\" data-covers=\"2\" data-datetime=\"2017-09-30 19:30\" data-name=\"Palette 22\" data-rid=\"212539\" href=\"/book/validate?rid=212539&amp;d=2017-09-30 19:30&amp;p=2&amp;pt=100&amp;ss=0&amp;sd=2017-09-30 19:30&amp;pofids=&amp;hash=3308182572\" onclick=\"OT.BestAnalytics.logRestaurantVisit(212539, '19:30')\"> 7:30 pm  </a> </li> </ul></div> </div></div> </div></div> </div>,\n",
       " <div class=\"result content-section-list-row cf with-times\" data-id=\"32\" data-index=\"33\" data-lat=\"38.9624850\" data-lon=\"-77.0864670\" data-offers=\"\" data-rid=\"4554\"><div class=\"rest-row with-image\"> <div class=\"rest-row-image\"> <a href=\"/clydes-chevy-chase\" onclick=\"OT.BestAnalytics.logRestaurantVisit(4554)\" target=\"_blank\"><img alt=\"photo of clyde's of chevy chase restaurant\" class=\"lazy rest-image\" data-src=\"//resizer.otstatic.com/v2/profiles/legacy/4554.jpg\" src=\"//media.otstatic.com/search-result-node/images/no-image.png\"/></a></div> <div class=\"rest-row-info\"><div class=\"rest-row-header\"> <a class=\"rest-row-name rest-name \" href=\"/clydes-chevy-chase\" onclick=\"OT.BestAnalytics.logRestaurantVisit(4554)\" target=\"_blank\"> <span class=\"rest-row-name-text\">Clyde's of Chevy Chase</span> </a> </div> <div class=\" flex-row-justify\"> <div class=\"rest-row-review\"> <div class=\"star-rating review-container\"><div class=\"star-wrapper small\"><div class=\"all-stars\"></div><div class=\"all-stars filled\" style=\"width: 82%;\"></div></div> <a class=\"review-link\" href=\"/clydes-chevy-chase#reviews\" target=\"_blank\"> <span class=\"star-rating-text underline-hover\">(2616)</span> <span class=\"star-rating-text--review-text underline-hover\">2616 reviews</span> </a></div> <span class=\"recommended-container\"><span class=\"thumbs-up-icon\"></span> <span class=\"recommended-small\">90%</span> <span class=\"recommended-text\">90% Recommend</span> </span> </div> <div class=\"rest-row-pricing\"><i>  $    $      </i>   $    $      </div> </div><div class=\"rest-row-meta rest-row-meta-grid flex-row-justify\"> <span class=\"rest-row-meta--cuisine rest-row-meta-text\">American</span> <span class=\"rest-row-meta--location rest-row-meta-text\">Friendship Heights</span></div> <div class=\"message-alerts\"> </div> <div class=\"rest-row-times-cont\"><div class=\"rest-row-times\"> <div class=\"timeslot-window\"><ul class=\"availability-row-container\"> <li class=\"timeslot-option timeslot-control\"> <a class=\"rest-row-times-btn timeslot\" data-covers=\"2\" data-datetime=\"2017-09-30 18:30\" data-href=\"/book/validate?rid=4554&amp;d=2017-09-30 18:30&amp;p=2&amp;pt=100&amp;ss=0&amp;sd=2017-09-30 18:30&amp;pofids=&amp;hash=2894481652\" data-name=\"Clyde's of Chevy Chase\" data-rid=\"4554\" data-table-categories=\"default,bar\" data-table-categories-tooltip-title=\"Table Types\"> 6:30 pm* <div class=\"js-table-categories-tooltip table-categories-tooltip\"><div class=\"table-categories-tooltip-arrow\"></div><div class=\"table-categories-tooltip-container\"><h5 class=\"upcase-style\">Table types</h5> <div>Standard</div> <div>Bar</div> </div></div> </a> </li> <li class=\"timeslot-option timeslot-control\"> <a class=\"rest-row-times-btn timeslot\" data-covers=\"2\" data-datetime=\"2017-09-30 18:45\" data-href=\"/book/validate?rid=4554&amp;d=2017-09-30 18:45&amp;p=2&amp;pt=100&amp;ss=0&amp;sd=2017-09-30 18:45&amp;pofids=&amp;hash=776420743\" data-name=\"Clyde's of Chevy Chase\" data-rid=\"4554\" data-table-categories=\"default,bar\" data-table-categories-tooltip-title=\"Table Types\"> 6:45 pm* <div class=\"js-table-categories-tooltip table-categories-tooltip\"><div class=\"table-categories-tooltip-arrow\"></div><div class=\"table-categories-tooltip-container\"><h5 class=\"upcase-style\">Table types</h5> <div>Standard</div> <div>Bar</div> </div></div> </a> </li> <li class=\"timeslot-option timeslot-control\"> <a class=\"rest-row-times-btn exact timeslot\" data-covers=\"2\" data-datetime=\"2017-09-30 19:00\" data-href=\"/book/validate?rid=4554&amp;d=2017-09-30 19:00&amp;p=2&amp;pt=100&amp;ss=0&amp;sd=2017-09-30 19:00&amp;pofids=&amp;hash=3586784203\" data-name=\"Clyde's of Chevy Chase\" data-rid=\"4554\" data-table-categories=\"default,bar\" data-table-categories-tooltip-title=\"Table Types\"> 7:00 pm* <div class=\"js-table-categories-tooltip table-categories-tooltip\"><div class=\"table-categories-tooltip-arrow\"></div><div class=\"table-categories-tooltip-container\"><h5 class=\"upcase-style\">Table types</h5> <div>Standard</div> <div>Bar</div> </div></div> </a> </li> <li class=\"timeslot-option timeslot-control\"> <a class=\"rest-row-times-btn timeslot\" data-covers=\"2\" data-datetime=\"2017-09-30 19:15\" data-href=\"/book/validate?rid=4554&amp;d=2017-09-30 19:15&amp;p=2&amp;pt=100&amp;ss=0&amp;sd=2017-09-30 19:15&amp;pofids=&amp;hash=3469219989\" data-name=\"Clyde's of Chevy Chase\" data-rid=\"4554\" data-table-categories=\"default,bar\" data-table-categories-tooltip-title=\"Table Types\"> 7:15 pm* <div class=\"js-table-categories-tooltip table-categories-tooltip\"><div class=\"table-categories-tooltip-arrow\"></div><div class=\"table-categories-tooltip-container\"><h5 class=\"upcase-style\">Table types</h5> <div>Standard</div> <div>Bar</div> </div></div> </a> </li> <li class=\"timeslot-option timeslot-control\"> <a class=\"rest-row-times-btn timeslot\" data-covers=\"2\" data-datetime=\"2017-09-30 19:30\" data-href=\"/book/validate?rid=4554&amp;d=2017-09-30 19:30&amp;p=2&amp;pt=100&amp;ss=0&amp;sd=2017-09-30 19:30&amp;pofids=&amp;hash=3228104000\" data-name=\"Clyde's of Chevy Chase\" data-rid=\"4554\" data-table-categories=\"default,bar\" data-table-categories-tooltip-title=\"Table Types\"> 7:30 pm* <div class=\"js-table-categories-tooltip table-categories-tooltip\"><div class=\"table-categories-tooltip-arrow\"></div><div class=\"table-categories-tooltip-container\"><h5 class=\"upcase-style\">Table types</h5> <div>Standard</div> <div>Bar</div> </div></div> </a> </li> </ul></div> </div></div> </div></div> </div>,\n",
       " <div class=\"result content-section-list-row cf with-times\" data-id=\"33\" data-index=\"34\" data-lat=\"38.8940950\" data-lon=\"-77.0776130\" data-offers=\"\" data-rid=\"254857\"><div class=\"rest-row with-image\"> <div class=\"rest-row-image\"> <a href=\"/r/barley-mac-arlington\" onclick=\"OT.BestAnalytics.logRestaurantVisit(254857)\" target=\"_blank\"><img alt=\"photo of barley mac restaurant\" class=\"lazy rest-image\" data-src=\"//resizer.otstatic.com/v2/profiles/legacy/254857.jpg\" src=\"//media.otstatic.com/search-result-node/images/no-image.png\"/></a></div> <div class=\"rest-row-info\"><div class=\"rest-row-header\"> <a class=\"rest-row-name rest-name \" href=\"/r/barley-mac-arlington\" onclick=\"OT.BestAnalytics.logRestaurantVisit(254857)\" target=\"_blank\"> <span class=\"rest-row-name-text\">Barley Mac</span> </a> </div> <div class=\" flex-row-justify\"> <div class=\"rest-row-review\"> <div class=\"star-rating review-container\"><div class=\"star-wrapper small\"><div class=\"all-stars\"></div><div class=\"all-stars filled\" style=\"width: 88%;\"></div></div> <a class=\"review-link\" href=\"/r/barley-mac-arlington#reviews\" target=\"_blank\"> <span class=\"star-rating-text underline-hover\">(260)</span> <span class=\"star-rating-text--review-text underline-hover\">260 reviews</span> </a></div> <span class=\"recommended-container\"><span class=\"thumbs-up-icon\"></span> <span class=\"recommended-small\">87%</span> <span class=\"recommended-text\">87% Recommend</span> </span> </div> <div class=\"rest-row-pricing\"><i>  $    $      </i>   $    $      </div> </div><div class=\"rest-row-meta rest-row-meta-grid flex-row-justify\"> <span class=\"rest-row-meta--cuisine rest-row-meta-text\">American</span> <span class=\"rest-row-meta--location rest-row-meta-text\">Arlington</span></div> <div class=\"message-alerts\"> </div> <div class=\"rest-row-times-cont\"><div class=\"rest-row-times\"> <div class=\"timeslot-window\"><ul class=\"availability-row-container\"> <li class=\"timeslot-option timeslot-control\"> <a class=\"rest-row-times-btn timeslot\" data-covers=\"2\" data-datetime=\"2017-09-30 18:30\" data-name=\"Barley Mac\" data-rid=\"254857\" href=\"/book/validate?rid=254857&amp;d=2017-09-30 18:30&amp;p=2&amp;pt=100&amp;ss=0&amp;sd=2017-09-30 18:30&amp;pofids=&amp;hash=2386953882\" onclick=\"OT.BestAnalytics.logRestaurantVisit(254857, '18:30')\"> 6:30 pm  </a> </li> <li class=\"timeslot-option timeslot-control\"> <a class=\"rest-row-times-btn timeslot\" data-covers=\"2\" data-datetime=\"2017-09-30 18:45\" data-name=\"Barley Mac\" data-rid=\"254857\" href=\"/book/validate?rid=254857&amp;d=2017-09-30 18:45&amp;p=2&amp;pt=100&amp;ss=0&amp;sd=2017-09-30 18:45&amp;pofids=&amp;hash=3758793614\" onclick=\"OT.BestAnalytics.logRestaurantVisit(254857, '18:45')\"> 6:45 pm  </a> </li> <li class=\"timeslot-option timeslot-control\"> <a class=\"rest-row-times-btn exact timeslot\" data-covers=\"2\" data-datetime=\"2017-09-30 19:00\" data-name=\"Barley Mac\" data-rid=\"254857\" href=\"/book/validate?rid=254857&amp;d=2017-09-30 19:00&amp;p=2&amp;pt=100&amp;ss=0&amp;sd=2017-09-30 19:00&amp;pofids=&amp;hash=1234610136\" onclick=\"OT.BestAnalytics.logRestaurantVisit(254857, '19:00')\"> 7:00 pm  </a> </li> <li class=\"timeslot-option timeslot-control\"> <a class=\"rest-row-times-btn timeslot\" data-covers=\"2\" data-datetime=\"2017-09-30 19:15\" data-name=\"Barley Mac\" data-rid=\"254857\" href=\"/book/validate?rid=254857&amp;d=2017-09-30 19:15&amp;p=2&amp;pt=100&amp;ss=0&amp;sd=2017-09-30 19:15&amp;pofids=&amp;hash=4235276391\" onclick=\"OT.BestAnalytics.logRestaurantVisit(254857, '19:15')\"> 7:15 pm  </a> </li> <li class=\"timeslot-option timeslot-control\"> <a class=\"rest-row-times-btn timeslot\" data-covers=\"2\" data-datetime=\"2017-09-30 19:30\" data-name=\"Barley Mac\" data-rid=\"254857\" href=\"/book/validate?rid=254857&amp;d=2017-09-30 19:30&amp;p=2&amp;pt=100&amp;ss=0&amp;sd=2017-09-30 19:30&amp;pofids=&amp;hash=1830860915\" onclick=\"OT.BestAnalytics.logRestaurantVisit(254857, '19:30')\"> 7:30 pm  </a> </li> </ul></div> </div></div> </div></div> </div>,\n",
       " <div class=\"result content-section-list-row cf with-times\" data-id=\"34\" data-index=\"35\" data-lat=\"38.9141630\" data-lon=\"-77.2202920\" data-offers=\"\" data-rid=\"35554\"><div class=\"rest-row with-image\"> <div class=\"rest-row-image\"> <a href=\"/chima-brazilian-steakhouse-washington\" onclick=\"OT.BestAnalytics.logRestaurantVisit(35554)\" target=\"_blank\"><img alt=\"photo of chima steakhouse - washington restaurant\" class=\"lazy rest-image\" data-src=\"//resizer.otstatic.com/v2/profiles/legacy/35554.jpg\" src=\"//media.otstatic.com/search-result-node/images/no-image.png\"/></a></div> <div class=\"rest-row-info\"><div class=\"rest-row-header\"> <a class=\"rest-row-name rest-name \" href=\"/chima-brazilian-steakhouse-washington\" onclick=\"OT.BestAnalytics.logRestaurantVisit(35554)\" target=\"_blank\"> <span class=\"rest-row-name-text\">Chima Steakhouse - Washington</span> </a> </div> <div class=\" flex-row-justify\"> <div class=\"rest-row-review\"> <div class=\"star-rating review-container\"><div class=\"star-wrapper small\"><div class=\"all-stars\"></div><div class=\"all-stars filled\" style=\"width: 90%;\"></div></div> <a class=\"review-link\" href=\"/chima-brazilian-steakhouse-washington#reviews\" target=\"_blank\"> <span class=\"star-rating-text underline-hover\">(2743)</span> <span class=\"star-rating-text--review-text underline-hover\">2743 reviews</span> </a></div> <span class=\"recommended-container\"><span class=\"thumbs-up-icon\"></span> <span class=\"recommended-small\">90%</span> <span class=\"recommended-text\">90% Recommend</span> </span> </div> <div class=\"rest-row-pricing\"><i>  $    $    $    $  </i> </div> </div><div class=\"rest-row-meta rest-row-meta-grid flex-row-justify\"> <span class=\"rest-row-meta--cuisine rest-row-meta-text\">Brazilian Steakhouse</span> <span class=\"rest-row-meta--location rest-row-meta-text\">Vienna</span></div> <div class=\"message-alerts\"> <div class=\"notice-timeslot\"><span class=\"clock-icon\"></span> <span>Hurry, we only have 4 timeslots left!</span></div> </div> <div class=\"rest-row-times-cont\"><div class=\"rest-row-times\"> <div class=\"timeslot-window\"><ul class=\"availability-row-container\"> <li class=\"timeslot-option timeslot-control\"> <a class=\"rest-row-times-btn timeslot\" data-covers=\"2\" data-datetime=\"2017-09-30 18:30\" data-name=\"Chima Steakhouse - Washington\" data-rid=\"35554\" href=\"/book/validate?rid=35554&amp;d=2017-09-30 18:30&amp;p=2&amp;pt=100&amp;ss=0&amp;sd=2017-09-30 18:30&amp;pofids=&amp;hash=1847175685\" onclick=\"OT.BestAnalytics.logRestaurantVisit(35554, '18:30')\"> 6:30 pm  </a> </li> <li class=\"timeslot-option timeslot-control\"> <a class=\"rest-row-times-btn timeslot\" data-covers=\"2\" data-datetime=\"2017-09-30 18:45\" data-name=\"Chima Steakhouse - Washington\" data-rid=\"35554\" href=\"/book/validate?rid=35554&amp;d=2017-09-30 18:45&amp;p=2&amp;pt=100&amp;ss=0&amp;sd=2017-09-30 18:45&amp;pofids=&amp;hash=370789997\" onclick=\"OT.BestAnalytics.logRestaurantVisit(35554, '18:45')\"> 6:45 pm  </a> </li> <li class=\"timeslot-option\"> <a class=\"rest-row-times-btn exact unavailable\" data-offers=\"\">\\xa0 </a> </li> <li class=\"timeslot-option timeslot-control\"> <a class=\"rest-row-times-btn timeslot\" data-covers=\"2\" data-datetime=\"2017-09-30 19:15\" data-name=\"Chima Steakhouse - Washington\" data-rid=\"35554\" href=\"/book/validate?rid=35554&amp;d=2017-09-30 19:15&amp;p=2&amp;pt=100&amp;ss=0&amp;sd=2017-09-30 19:15&amp;pofids=&amp;hash=2700291267\" onclick=\"OT.BestAnalytics.logRestaurantVisit(35554, '19:15')\"> 7:15 pm  </a> </li> <li class=\"timeslot-option timeslot-control\"> <a class=\"rest-row-times-btn timeslot\" data-covers=\"2\" data-datetime=\"2017-09-30 19:30\" data-name=\"Chima Steakhouse - Washington\" data-rid=\"35554\" href=\"/book/validate?rid=35554&amp;d=2017-09-30 19:30&amp;p=2&amp;pt=100&amp;ss=0&amp;sd=2017-09-30 19:30&amp;pofids=&amp;hash=1443102966\" onclick=\"OT.BestAnalytics.logRestaurantVisit(35554, '19:30')\"> 7:30 pm  </a> </li> </ul></div> </div></div> </div></div> </div>,\n",
       " <div class=\"result content-section-list-row cf with-times\" data-id=\"35\" data-index=\"36\" data-lat=\"38.9113690\" data-lon=\"-77.0440510\" data-offers=\"\" data-rid=\"156865\"><div class=\"rest-row with-image\"> <div class=\"rest-row-image\"> <a href=\"/circa-at-dupont\" onclick=\"OT.BestAnalytics.logRestaurantVisit(156865)\" target=\"_blank\"><img alt=\"photo of circa at dupont restaurant\" class=\"lazy rest-image\" data-src=\"//resizer.otstatic.com/v2/profiles/legacy/156865.jpg\" src=\"//media.otstatic.com/search-result-node/images/no-image.png\"/></a></div> <div class=\"rest-row-info\"><div class=\"rest-row-header\"> <a class=\"rest-row-name rest-name \" href=\"/circa-at-dupont\" onclick=\"OT.BestAnalytics.logRestaurantVisit(156865)\" target=\"_blank\"> <span class=\"rest-row-name-text\">CIRCA at Dupont</span> </a> </div> <div class=\" flex-row-justify\"> <div class=\"rest-row-review\"> <div class=\"star-rating review-container\"><div class=\"star-wrapper small\"><div class=\"all-stars\"></div><div class=\"all-stars filled\" style=\"width: 90%;\"></div></div> <a class=\"review-link\" href=\"/circa-at-dupont#reviews\" target=\"_blank\"> <span class=\"star-rating-text underline-hover\">(286)</span> <span class=\"star-rating-text--review-text underline-hover\">286 reviews</span> </a></div> <span class=\"recommended-container\"><span class=\"thumbs-up-icon\"></span> <span class=\"recommended-small\">98%</span> <span class=\"recommended-text\">98% Recommend</span> </span> </div> <div class=\"rest-row-pricing\"><i>  $    $      </i>   $    $      </div> </div><div class=\"rest-row-meta rest-row-meta-grid flex-row-justify\"> <span class=\"rest-row-meta--cuisine rest-row-meta-text\">American</span> <span class=\"rest-row-meta--location rest-row-meta-text\">Dupont Circle</span></div> <div class=\"message-alerts\"> <div class=\"notice-timeslot\"><span class=\"clock-icon\"></span> <span>Hurry, we only have 4 timeslots left!</span></div> </div> <div class=\"rest-row-times-cont\"><div class=\"rest-row-times\"> <div class=\"timeslot-window\"><ul class=\"availability-row-container\"> <li class=\"timeslot-option timeslot-control\"> <a class=\"rest-row-times-btn timeslot\" data-covers=\"2\" data-datetime=\"2017-09-30 18:30\" data-name=\"CIRCA at Dupont\" data-rid=\"156865\" href=\"/book/validate?rid=156865&amp;d=2017-09-30 18:30&amp;p=2&amp;pt=100&amp;ss=0&amp;sd=2017-09-30 18:30&amp;pofids=&amp;hash=1066521660\" onclick=\"OT.BestAnalytics.logRestaurantVisit(156865, '18:30')\"> 6:30 pm  </a> </li> <li class=\"timeslot-option timeslot-control\"> <a class=\"rest-row-times-btn timeslot\" data-covers=\"2\" data-datetime=\"2017-09-30 18:45\" data-name=\"CIRCA at Dupont\" data-rid=\"156865\" href=\"/book/validate?rid=156865&amp;d=2017-09-30 18:45&amp;p=2&amp;pt=100&amp;ss=0&amp;sd=2017-09-30 18:45&amp;pofids=&amp;hash=106982662\" onclick=\"OT.BestAnalytics.logRestaurantVisit(156865, '18:45')\"> 6:45 pm  </a> </li> <li class=\"timeslot-option\"> <a class=\"rest-row-times-btn exact unavailable\" data-offers=\"\">\\xa0 </a> </li> <li class=\"timeslot-option timeslot-control\"> <a class=\"rest-row-times-btn timeslot\" data-covers=\"2\" data-datetime=\"2017-09-30 19:15\" data-name=\"CIRCA at Dupont\" data-rid=\"156865\" href=\"/book/validate?rid=156865&amp;d=2017-09-30 19:15&amp;p=2&amp;pt=100&amp;ss=0&amp;sd=2017-09-30 19:15&amp;pofids=&amp;hash=507048457\" onclick=\"OT.BestAnalytics.logRestaurantVisit(156865, '19:15')\"> 7:15 pm  </a> </li> <li class=\"timeslot-option timeslot-control\"> <a class=\"rest-row-times-btn timeslot\" data-covers=\"2\" data-datetime=\"2017-09-30 19:30\" data-name=\"CIRCA at Dupont\" data-rid=\"156865\" href=\"/book/validate?rid=156865&amp;d=2017-09-30 19:30&amp;p=2&amp;pt=100&amp;ss=0&amp;sd=2017-09-30 19:30&amp;pofids=&amp;hash=870586264\" onclick=\"OT.BestAnalytics.logRestaurantVisit(156865, '19:30')\"> 7:30 pm  </a> </li> </ul></div> </div></div> </div></div> </div>,\n",
       " <div class=\"result content-section-list-row cf with-times\" data-id=\"36\" data-index=\"37\" data-lat=\"38.9017250\" data-lon=\"-77.0601120\" data-offers=\"\" data-rid=\"54586\"><div class=\"rest-row with-image\"> <div class=\"rest-row-image\"> <a href=\"/tony-and-joes-seafood-place\" onclick=\"OT.BestAnalytics.logRestaurantVisit(54586)\" target=\"_blank\"><img alt=\"photo of tony &amp; joe's seafood place restaurant\" class=\"lazy rest-image\" data-src=\"//resizer.otstatic.com/v2/profiles/legacy/54586.jpg\" src=\"//media.otstatic.com/search-result-node/images/no-image.png\"/></a></div> <div class=\"rest-row-info\"><div class=\"rest-row-header\"> <a class=\"rest-row-name rest-name \" href=\"/tony-and-joes-seafood-place\" onclick=\"OT.BestAnalytics.logRestaurantVisit(54586)\" target=\"_blank\"> <span class=\"rest-row-name-text\">Tony &amp; Joe's Seafood Place</span> </a> </div> <div class=\" flex-row-justify\"> <div class=\"rest-row-review\"> <div class=\"star-rating review-container\"><div class=\"star-wrapper small\"><div class=\"all-stars\"></div><div class=\"all-stars filled\" style=\"width: 82%;\"></div></div> <a class=\"review-link\" href=\"/tony-and-joes-seafood-place#reviews\" target=\"_blank\"> <span class=\"star-rating-text underline-hover\">(974)</span> <span class=\"star-rating-text--review-text underline-hover\">974 reviews</span> </a></div> <span class=\"recommended-container\"><span class=\"thumbs-up-icon\"></span> <span class=\"recommended-small\">81%</span> <span class=\"recommended-text\">81% Recommend</span> </span> </div> <div class=\"rest-row-pricing\"><i>  $    $      </i>   $    $      </div> </div><div class=\"rest-row-meta rest-row-meta-grid flex-row-justify\"> <span class=\"rest-row-meta--cuisine rest-row-meta-text\">Seafood</span> <span class=\"rest-row-meta--location rest-row-meta-text\">Georgetown</span></div> <div class=\"message-alerts\"> </div> <div class=\"rest-row-times-cont\"><div class=\"rest-row-times\"> <div class=\"timeslot-window\"><ul class=\"availability-row-container\"> <li class=\"timeslot-option timeslot-control\"> <a class=\"rest-row-times-btn timeslot\" data-covers=\"2\" data-datetime=\"2017-09-30 18:30\" data-name=\"Tony &amp; Joe's Seafood Place\" data-rid=\"54586\" href=\"/book/validate?rid=54586&amp;d=2017-09-30 18:30&amp;p=2&amp;pt=100&amp;ss=0&amp;sd=2017-09-30 18:30&amp;pofids=&amp;hash=4127356266\" onclick=\"OT.BestAnalytics.logRestaurantVisit(54586, '18:30')\"> 6:30 pm  </a> </li> <li class=\"timeslot-option timeslot-control\"> <a class=\"rest-row-times-btn timeslot\" data-covers=\"2\" data-datetime=\"2017-09-30 18:45\" data-name=\"Tony &amp; Joe's Seafood Place\" data-rid=\"54586\" href=\"/book/validate?rid=54586&amp;d=2017-09-30 18:45&amp;p=2&amp;pt=100&amp;ss=0&amp;sd=2017-09-30 18:45&amp;pofids=&amp;hash=1283386138\" onclick=\"OT.BestAnalytics.logRestaurantVisit(54586, '18:45')\"> 6:45 pm  </a> </li> <li class=\"timeslot-option timeslot-control\"> <a class=\"rest-row-times-btn exact timeslot\" data-covers=\"2\" data-datetime=\"2017-09-30 19:00\" data-name=\"Tony &amp; Joe's Seafood Place\" data-rid=\"54586\" href=\"/book/validate?rid=54586&amp;d=2017-09-30 19:00&amp;p=2&amp;pt=100&amp;ss=0&amp;sd=2017-09-30 19:00&amp;pofids=&amp;hash=1994444785\" onclick=\"OT.BestAnalytics.logRestaurantVisit(54586, '19:00')\"> 7:00 pm  </a> </li> <li class=\"timeslot-option timeslot-control\"> <a class=\"rest-row-times-btn timeslot\" data-covers=\"2\" data-datetime=\"2017-09-30 19:15\" data-name=\"Tony &amp; Joe's Seafood Place\" data-rid=\"54586\" href=\"/book/validate?rid=54586&amp;d=2017-09-30 19:15&amp;p=2&amp;pt=100&amp;ss=0&amp;sd=2017-09-30 19:15&amp;pofids=&amp;hash=3379171118\" onclick=\"OT.BestAnalytics.logRestaurantVisit(54586, '19:15')\"> 7:15 pm  </a> </li> <li class=\"timeslot-option timeslot-control\"> <a class=\"rest-row-times-btn timeslot\" data-covers=\"2\" data-datetime=\"2017-09-30 19:30\" data-name=\"Tony &amp; Joe's Seafood Place\" data-rid=\"54586\" href=\"/book/validate?rid=54586&amp;d=2017-09-30 19:30&amp;p=2&amp;pt=100&amp;ss=0&amp;sd=2017-09-30 19:30&amp;pofids=&amp;hash=3454445500\" onclick=\"OT.BestAnalytics.logRestaurantVisit(54586, '19:30')\"> 7:30 pm  </a> </li> </ul></div> </div></div> </div></div> </div>,\n",
       " <div class=\"result content-section-list-row cf with-times\" data-id=\"37\" data-index=\"38\" data-lat=\"38.8870370\" data-lon=\"-77.0944140\" data-offers=\"\" data-rid=\"156862\"><div class=\"rest-row with-image\"> <div class=\"rest-row-image\"> <a href=\"/circa-at-clarendon\" onclick=\"OT.BestAnalytics.logRestaurantVisit(156862)\" target=\"_blank\"><img alt=\"photo of circa at clarendon restaurant\" class=\"lazy rest-image\" data-src=\"//resizer.otstatic.com/v2/profiles/legacy/156862.jpg\" src=\"//media.otstatic.com/search-result-node/images/no-image.png\"/></a></div> <div class=\"rest-row-info\"><div class=\"rest-row-header\"> <a class=\"rest-row-name rest-name \" href=\"/circa-at-clarendon\" onclick=\"OT.BestAnalytics.logRestaurantVisit(156862)\" target=\"_blank\"> <span class=\"rest-row-name-text\">CIRCA at Clarendon</span> </a> </div> <div class=\" flex-row-justify\"> <div class=\"rest-row-review\"> <div class=\"star-rating review-container\"><div class=\"star-wrapper small\"><div class=\"all-stars\"></div><div class=\"all-stars filled\" style=\"width: 92%;\"></div></div> <a class=\"review-link\" href=\"/circa-at-clarendon#reviews\" target=\"_blank\"> <span class=\"star-rating-text underline-hover\">(281)</span> <span class=\"star-rating-text--review-text underline-hover\">281 reviews</span> </a></div> <span class=\"recommended-container\"><span class=\"thumbs-up-icon\"></span> <span class=\"recommended-small\">97%</span> <span class=\"recommended-text\">97% Recommend</span> </span> </div> <div class=\"rest-row-pricing\"><i>  $    $      </i>   $    $      </div> </div><div class=\"rest-row-meta rest-row-meta-grid flex-row-justify\"> <span class=\"rest-row-meta--cuisine rest-row-meta-text\">American</span> <span class=\"rest-row-meta--location rest-row-meta-text\">Arlington</span></div> <div class=\"message-alerts\"> </div> <div class=\"rest-row-times-cont\"><div class=\"rest-row-times\"> <div class=\"timeslot-window\"><ul class=\"availability-row-container\"> <li class=\"timeslot-option timeslot-control\"> <a class=\"rest-row-times-btn timeslot\" data-covers=\"2\" data-datetime=\"2017-09-30 18:30\" data-name=\"CIRCA at Clarendon\" data-rid=\"156862\" href=\"/book/validate?rid=156862&amp;d=2017-09-30 18:30&amp;p=2&amp;pt=100&amp;ss=0&amp;sd=2017-09-30 18:30&amp;pofids=&amp;hash=277196587\" onclick=\"OT.BestAnalytics.logRestaurantVisit(156862, '18:30')\"> 6:30 pm  </a> </li> <li class=\"timeslot-option timeslot-control\"> <a class=\"rest-row-times-btn timeslot\" data-covers=\"2\" data-datetime=\"2017-09-30 18:45\" data-name=\"CIRCA at Clarendon\" data-rid=\"156862\" href=\"/book/validate?rid=156862&amp;d=2017-09-30 18:45&amp;p=2&amp;pt=100&amp;ss=0&amp;sd=2017-09-30 18:45&amp;pofids=&amp;hash=944126385\" onclick=\"OT.BestAnalytics.logRestaurantVisit(156862, '18:45')\"> 6:45 pm  </a> </li> <li class=\"timeslot-option timeslot-control\"> <a class=\"rest-row-times-btn exact timeslot\" data-covers=\"2\" data-datetime=\"2017-09-30 19:00\" data-name=\"CIRCA at Clarendon\" data-rid=\"156862\" href=\"/book/validate?rid=156862&amp;d=2017-09-30 19:00&amp;p=2&amp;pt=100&amp;ss=0&amp;sd=2017-09-30 19:00&amp;pofids=&amp;hash=3367781911\" onclick=\"OT.BestAnalytics.logRestaurantVisit(156862, '19:00')\"> 7:00 pm  </a> </li> <li class=\"timeslot-option timeslot-control\"> <a class=\"rest-row-times-btn timeslot\" data-covers=\"2\" data-datetime=\"2017-09-30 19:15\" data-name=\"CIRCA at Clarendon\" data-rid=\"156862\" href=\"/book/validate?rid=156862&amp;d=2017-09-30 19:15&amp;p=2&amp;pt=100&amp;ss=0&amp;sd=2017-09-30 19:15&amp;pofids=&amp;hash=495872355\" onclick=\"OT.BestAnalytics.logRestaurantVisit(156862, '19:15')\"> 7:15 pm  </a> </li> <li class=\"timeslot-option timeslot-control\"> <a class=\"rest-row-times-btn timeslot\" data-covers=\"2\" data-datetime=\"2017-09-30 20:30\" data-name=\"CIRCA at Clarendon\" data-rid=\"156862\" href=\"/book/validate?rid=156862&amp;d=2017-09-30 20:30&amp;p=2&amp;pt=100&amp;ss=0&amp;sd=2017-09-30 20:30&amp;pofids=&amp;hash=3323197502\" onclick=\"OT.BestAnalytics.logRestaurantVisit(156862, '20:30')\"> 8:30 pm  </a> </li> </ul></div> </div></div> </div></div> </div>,\n",
       " <div class=\"result content-section-list-row cf with-times\" data-id=\"38\" data-index=\"39\" data-lat=\"38.9025480\" data-lon=\"-77.0591230\" data-offers=\"\" data-rid=\"10189\"><div class=\"rest-row with-image\"> <div class=\"rest-row-image\"> <a href=\"/sequoia\" onclick=\"OT.BestAnalytics.logRestaurantVisit(10189)\" target=\"_blank\"><img alt=\"photo of sequoia restaurant\" class=\"lazy rest-image\" data-src=\"//resizer.otstatic.com/v2/profiles/legacy/10189.jpg\" src=\"//media.otstatic.com/search-result-node/images/no-image.png\"/></a></div> <div class=\"rest-row-info\"><div class=\"rest-row-header\"> <a class=\"rest-row-name rest-name \" href=\"/sequoia\" onclick=\"OT.BestAnalytics.logRestaurantVisit(10189)\" target=\"_blank\"> <span class=\"rest-row-name-text\">Sequoia</span> </a> </div> <div class=\" flex-row-justify\"> <div class=\"rest-row-review\"> <div class=\"star-rating review-container\"><div class=\"star-wrapper small\"><div class=\"all-stars\"></div><div class=\"all-stars filled\" style=\"width: 88%;\"></div></div> <a class=\"review-link\" href=\"/sequoia#reviews\" target=\"_blank\"> <span class=\"star-rating-text underline-hover\">(3810)</span> <span class=\"star-rating-text--review-text underline-hover\">3810 reviews</span> </a></div> <span class=\"recommended-container\"><span class=\"thumbs-up-icon\"></span> <span class=\"recommended-small\">86%</span> <span class=\"recommended-text\">86% Recommend</span> </span> </div> <div class=\"rest-row-pricing\"><i>  $    $      </i>   $    $      </div> </div><div class=\"rest-row-meta rest-row-meta-grid flex-row-justify\"> <span class=\"rest-row-meta--cuisine rest-row-meta-text\">American</span> <span class=\"rest-row-meta--location rest-row-meta-text\">Georgetown</span></div> <div class=\"message-alerts\"> </div> <div class=\"rest-row-times-cont\"><div class=\"rest-row-times\"> <div class=\"timeslot-window\"><ul class=\"availability-row-container\"> <li class=\"timeslot-option timeslot-control\"> <a class=\"rest-row-times-btn timeslot\" data-covers=\"2\" data-datetime=\"2017-09-30 18:30\" data-name=\"Sequoia\" data-rid=\"10189\" href=\"/book/validate?rid=10189&amp;d=2017-09-30 18:30&amp;p=2&amp;pt=100&amp;ss=0&amp;sd=2017-09-30 18:30&amp;pofids=&amp;hash=3417026381\" onclick=\"OT.BestAnalytics.logRestaurantVisit(10189, '18:30')\"> 6:30 pm  </a> </li> <li class=\"timeslot-option timeslot-control\"> <a class=\"rest-row-times-btn timeslot\" data-covers=\"2\" data-datetime=\"2017-09-30 18:45\" data-name=\"Sequoia\" data-rid=\"10189\" href=\"/book/validate?rid=10189&amp;d=2017-09-30 18:45&amp;p=2&amp;pt=100&amp;ss=0&amp;sd=2017-09-30 18:45&amp;pofids=&amp;hash=3464588325\" onclick=\"OT.BestAnalytics.logRestaurantVisit(10189, '18:45')\"> 6:45 pm  </a> </li> <li class=\"timeslot-option timeslot-control\"> <a class=\"rest-row-times-btn exact timeslot\" data-covers=\"2\" data-datetime=\"2017-09-30 19:00\" data-name=\"Sequoia\" data-rid=\"10189\" href=\"/book/validate?rid=10189&amp;d=2017-09-30 19:00&amp;p=2&amp;pt=100&amp;ss=0&amp;sd=2017-09-30 19:00&amp;pofids=&amp;hash=4281478041\" onclick=\"OT.BestAnalytics.logRestaurantVisit(10189, '19:00')\"> 7:00 pm  </a> </li> <li class=\"timeslot-option timeslot-control\"> <a class=\"rest-row-times-btn timeslot\" data-covers=\"2\" data-datetime=\"2017-09-30 19:15\" data-name=\"Sequoia\" data-rid=\"10189\" href=\"/book/validate?rid=10189&amp;d=2017-09-30 19:15&amp;p=2&amp;pt=100&amp;ss=0&amp;sd=2017-09-30 19:15&amp;pofids=&amp;hash=3989515177\" onclick=\"OT.BestAnalytics.logRestaurantVisit(10189, '19:15')\"> 7:15 pm  </a> </li> <li class=\"timeslot-option timeslot-control\"> <a class=\"rest-row-times-btn timeslot\" data-covers=\"2\" data-datetime=\"2017-09-30 19:45\" data-name=\"Sequoia\" data-rid=\"10189\" href=\"/book/validate?rid=10189&amp;d=2017-09-30 19:45&amp;p=2&amp;pt=100&amp;ss=0&amp;sd=2017-09-30 19:45&amp;pofids=&amp;hash=1996061210\" onclick=\"OT.BestAnalytics.logRestaurantVisit(10189, '19:45')\"> 7:45 pm  </a> </li> </ul></div> </div></div> </div></div> </div>,\n",
       " <div class=\"result content-section-list-row cf with-times\" data-id=\"39\" data-index=\"40\" data-lat=\"38.9123220\" data-lon=\"-77.0454460\" data-offers=\"\" data-rid=\"80104\"><div class=\"rest-row with-image\"> <div class=\"rest-row-image\"> <a href=\"/sette-osteria\" onclick=\"OT.BestAnalytics.logRestaurantVisit(80104)\" target=\"_blank\"><img alt=\"photo of sette osteria restaurant\" class=\"lazy rest-image\" data-src=\"//resizer.otstatic.com/v2/profiles/legacy/80104.jpg\" src=\"//media.otstatic.com/search-result-node/images/no-image.png\"/></a></div> <div class=\"rest-row-info\"><div class=\"rest-row-header\"> <a class=\"rest-row-name rest-name \" href=\"/sette-osteria\" onclick=\"OT.BestAnalytics.logRestaurantVisit(80104)\" target=\"_blank\"> <span class=\"rest-row-name-text\">Sette Osteria</span> </a> </div> <div class=\" flex-row-justify\"> <div class=\"rest-row-review\"> <div class=\"star-rating review-container\"><div class=\"star-wrapper small\"><div class=\"all-stars\"></div><div class=\"all-stars filled\" style=\"width: 88%;\"></div></div> <a class=\"review-link\" href=\"/sette-osteria#reviews\" target=\"_blank\"> <span class=\"star-rating-text underline-hover\">(759)</span> <span class=\"star-rating-text--review-text underline-hover\">759 reviews</span> </a></div> <span class=\"recommended-container\"><span class=\"thumbs-up-icon\"></span> <span class=\"recommended-small\">92%</span> <span class=\"recommended-text\">92% Recommend</span> </span> </div> <div class=\"rest-row-pricing\"><i>  $    $      </i>   $    $      </div> </div><div class=\"rest-row-meta rest-row-meta-grid flex-row-justify\"> <span class=\"rest-row-meta--cuisine rest-row-meta-text\">Italian</span> <span class=\"rest-row-meta--location rest-row-meta-text\">Dupont Circle</span></div> <div class=\"message-alerts\"> </div> <div class=\"rest-row-times-cont\"><div class=\"rest-row-times\"> <div class=\"timeslot-window\"><ul class=\"availability-row-container\"> <li class=\"timeslot-option timeslot-control\"> <a class=\"rest-row-times-btn timeslot\" data-covers=\"2\" data-datetime=\"2017-09-30 18:30\" data-name=\"Sette Osteria\" data-rid=\"80104\" href=\"/book/validate?rid=80104&amp;d=2017-09-30 18:30&amp;p=2&amp;pt=100&amp;ss=0&amp;sd=2017-09-30 18:30&amp;pofids=&amp;hash=331982815\" onclick=\"OT.BestAnalytics.logRestaurantVisit(80104, '18:30')\"> 6:30 pm  </a> </li> <li class=\"timeslot-option timeslot-control\"> <a class=\"rest-row-times-btn timeslot\" data-covers=\"2\" data-datetime=\"2017-09-30 18:45\" data-name=\"Sette Osteria\" data-rid=\"80104\" href=\"/book/validate?rid=80104&amp;d=2017-09-30 18:45&amp;p=2&amp;pt=100&amp;ss=0&amp;sd=2017-09-30 18:45&amp;pofids=&amp;hash=1414052142\" onclick=\"OT.BestAnalytics.logRestaurantVisit(80104, '18:45')\"> 6:45 pm  </a> </li> <li class=\"timeslot-option timeslot-control\"> <a class=\"rest-row-times-btn exact timeslot\" data-covers=\"2\" data-datetime=\"2017-09-30 19:00\" data-name=\"Sette Osteria\" data-rid=\"80104\" href=\"/book/validate?rid=80104&amp;d=2017-09-30 19:00&amp;p=2&amp;pt=100&amp;ss=0&amp;sd=2017-09-30 19:00&amp;pofids=&amp;hash=2663232660\" onclick=\"OT.BestAnalytics.logRestaurantVisit(80104, '19:00')\"> 7:00 pm  </a> </li> <li class=\"timeslot-option timeslot-control\"> <a class=\"rest-row-times-btn timeslot\" data-covers=\"2\" data-datetime=\"2017-09-30 19:15\" data-name=\"Sette Osteria\" data-rid=\"80104\" href=\"/book/validate?rid=80104&amp;d=2017-09-30 19:15&amp;p=2&amp;pt=100&amp;ss=0&amp;sd=2017-09-30 19:15&amp;pofids=&amp;hash=3557929671\" onclick=\"OT.BestAnalytics.logRestaurantVisit(80104, '19:15')\"> 7:15 pm  </a> </li> <li class=\"timeslot-option timeslot-control\"> <a class=\"rest-row-times-btn timeslot\" data-covers=\"2\" data-datetime=\"2017-09-30 19:30\" data-name=\"Sette Osteria\" data-rid=\"80104\" href=\"/book/validate?rid=80104&amp;d=2017-09-30 19:30&amp;p=2&amp;pt=100&amp;ss=0&amp;sd=2017-09-30 19:30&amp;pofids=&amp;hash=2545041449\" onclick=\"OT.BestAnalytics.logRestaurantVisit(80104, '19:30')\"> 7:30 pm  </a> </li> </ul></div> </div></div> </div></div> </div>,\n",
       " <div class=\"result content-section-list-row cf with-times\" data-id=\"40\" data-index=\"41\" data-lat=\"38.9323000\" data-lon=\"-77.0851000\" data-offers=\"\" data-rid=\"3006\"><div class=\"rest-row with-image\"> <div class=\"rest-row-image\"> <a href=\"/chef-geoffs-new-mexico-ave\" onclick=\"OT.BestAnalytics.logRestaurantVisit(3006)\" target=\"_blank\"><img alt=\"photo of chef geoff's (new mexico ave.) restaurant\" class=\"lazy rest-image\" data-src=\"//resizer.otstatic.com/v2/profiles/legacy/3006.jpg\" src=\"//media.otstatic.com/search-result-node/images/no-image.png\"/></a></div> <div class=\"rest-row-info\"><div class=\"rest-row-header\"> <a class=\"rest-row-name rest-name \" href=\"/chef-geoffs-new-mexico-ave\" onclick=\"OT.BestAnalytics.logRestaurantVisit(3006)\" target=\"_blank\"> <span class=\"rest-row-name-text\">Chef Geoff's (New Mexico Ave.)</span> </a> </div> <div class=\" flex-row-justify\"> <div class=\"rest-row-review\"> <div class=\"star-rating review-container\"><div class=\"star-wrapper small\"><div class=\"all-stars\"></div><div class=\"all-stars filled\" style=\"width: 88%;\"></div></div> <a class=\"review-link\" href=\"/chef-geoffs-new-mexico-ave#reviews\" target=\"_blank\"> <span class=\"star-rating-text underline-hover\">(2432)</span> <span class=\"star-rating-text--review-text underline-hover\">2432 reviews</span> </a></div> <span class=\"recommended-container\"><span class=\"thumbs-up-icon\"></span> <span class=\"recommended-small\">92%</span> <span class=\"recommended-text\">92% Recommend</span> </span> </div> <div class=\"rest-row-pricing\"><i>  $    $      </i>   $    $      </div> </div><div class=\"rest-row-meta rest-row-meta-grid flex-row-justify\"> <span class=\"rest-row-meta--cuisine rest-row-meta-text\">Contemporary American</span> <span class=\"rest-row-meta--location rest-row-meta-text\">Georgetown</span></div> <div class=\"message-alerts\"> </div> <div class=\"rest-row-times-cont\"><div class=\"rest-row-times\"> <div class=\"timeslot-window\"><ul class=\"availability-row-container\"> <li class=\"timeslot-option timeslot-control\"> <a class=\"rest-row-times-btn timeslot\" data-covers=\"2\" data-datetime=\"2017-09-30 18:30\" data-name=\"Chef Geoff's (New Mexico Ave.)\" data-rid=\"3006\" href=\"/book/validate?rid=3006&amp;d=2017-09-30 18:30&amp;p=2&amp;pt=100&amp;ss=0&amp;sd=2017-09-30 18:30&amp;pofids=&amp;hash=634665247\" onclick=\"OT.BestAnalytics.logRestaurantVisit(3006, '18:30')\"> 6:30 pm  </a> </li> <li class=\"timeslot-option timeslot-control\"> <a class=\"rest-row-times-btn timeslot\" data-covers=\"2\" data-datetime=\"2017-09-30 18:45\" data-name=\"Chef Geoff's (New Mexico Ave.)\" data-rid=\"3006\" href=\"/book/validate?rid=3006&amp;d=2017-09-30 18:45&amp;p=2&amp;pt=100&amp;ss=0&amp;sd=2017-09-30 18:45&amp;pofids=&amp;hash=1861252032\" onclick=\"OT.BestAnalytics.logRestaurantVisit(3006, '18:45')\"> 6:45 pm  </a> </li> <li class=\"timeslot-option timeslot-control\"> <a class=\"rest-row-times-btn exact timeslot\" data-covers=\"2\" data-datetime=\"2017-09-30 19:00\" data-name=\"Chef Geoff's (New Mexico Ave.)\" data-rid=\"3006\" href=\"/book/validate?rid=3006&amp;d=2017-09-30 19:00&amp;p=2&amp;pt=100&amp;ss=0&amp;sd=2017-09-30 19:00&amp;pofids=&amp;hash=2589396112\" onclick=\"OT.BestAnalytics.logRestaurantVisit(3006, '19:00')\"> 7:00 pm  </a> </li> <li class=\"timeslot-option timeslot-control\"> <a class=\"rest-row-times-btn timeslot\" data-covers=\"2\" data-datetime=\"2017-09-30 19:15\" data-name=\"Chef Geoff's (New Mexico Ave.)\" data-rid=\"3006\" href=\"/book/validate?rid=3006&amp;d=2017-09-30 19:15&amp;p=2&amp;pt=100&amp;ss=0&amp;sd=2017-09-30 19:15&amp;pofids=&amp;hash=3726734293\" onclick=\"OT.BestAnalytics.logRestaurantVisit(3006, '19:15')\"> 7:15 pm  </a> </li> <li class=\"timeslot-option timeslot-control\"> <a class=\"rest-row-times-btn timeslot\" data-covers=\"2\" data-datetime=\"2017-09-30 19:30\" data-name=\"Chef Geoff's (New Mexico Ave.)\" data-rid=\"3006\" href=\"/book/validate?rid=3006&amp;d=2017-09-30 19:30&amp;p=2&amp;pt=100&amp;ss=0&amp;sd=2017-09-30 19:30&amp;pofids=&amp;hash=2594301094\" onclick=\"OT.BestAnalytics.logRestaurantVisit(3006, '19:30')\"> 7:30 pm  </a> </li> </ul></div> </div></div> </div></div> </div>,\n",
       " <div class=\"result content-section-list-row cf with-times\" data-id=\"41\" data-index=\"42\" data-lat=\"38.9064710\" data-lon=\"-77.0434440\" data-offers=\"\" data-rid=\"11122\"><div class=\"rest-row with-image\"> <div class=\"rest-row-image\"> <a href=\"/palm-restaurant-washington-dc\" onclick=\"OT.BestAnalytics.logRestaurantVisit(11122)\" target=\"_blank\"><img alt=\"photo of the palm washington dc restaurant\" class=\"lazy rest-image\" data-src=\"//resizer.otstatic.com/v2/profiles/legacy/11122.jpg\" src=\"//media.otstatic.com/search-result-node/images/no-image.png\"/></a></div> <div class=\"rest-row-info\"><div class=\"rest-row-header\"> <a class=\"rest-row-name rest-name \" href=\"/palm-restaurant-washington-dc\" onclick=\"OT.BestAnalytics.logRestaurantVisit(11122)\" target=\"_blank\"> <span class=\"rest-row-name-text\">The Palm Washington DC</span> </a> </div> <div class=\" flex-row-justify\"> <div class=\"rest-row-review\"> <div class=\"star-rating review-container\"><div class=\"star-wrapper small\"><div class=\"all-stars\"></div><div class=\"all-stars filled\" style=\"width: 92%;\"></div></div> <a class=\"review-link\" href=\"/palm-restaurant-washington-dc#reviews\" target=\"_blank\"> <span class=\"star-rating-text underline-hover\">(3229)</span> <span class=\"star-rating-text--review-text underline-hover\">3229 reviews</span> </a></div> <span class=\"recommended-container\"><span class=\"thumbs-up-icon\"></span> <span class=\"recommended-small\">94%</span> <span class=\"recommended-text\">94% Recommend</span> </span> </div> <div class=\"rest-row-pricing\"><i>  $    $    $    $  </i> </div> </div><div class=\"rest-row-meta rest-row-meta-grid flex-row-justify\"> <span class=\"rest-row-meta--cuisine rest-row-meta-text\">Steakhouse</span> <span class=\"rest-row-meta--location rest-row-meta-text\">Dupont Circle</span></div> <div class=\"message-alerts\"> </div> <div class=\"rest-row-times-cont\"><div class=\"rest-row-times\"> <div class=\"timeslot-window\"><ul class=\"availability-row-container\"> <li class=\"timeslot-option timeslot-control\"> <a class=\"rest-row-times-btn timeslot\" data-covers=\"2\" data-datetime=\"2017-09-30 18:30\" data-name=\"The Palm Washington DC\" data-rid=\"11122\" href=\"/book/validate?rid=11122&amp;d=2017-09-30 18:30&amp;p=2&amp;pt=100&amp;ss=0&amp;sd=2017-09-30 18:30&amp;pofids=&amp;hash=940935599\" onclick=\"OT.BestAnalytics.logRestaurantVisit(11122, '18:30')\"> 6:30 pm  </a> </li> <li class=\"timeslot-option timeslot-control\"> <a class=\"rest-row-times-btn timeslot\" data-covers=\"2\" data-datetime=\"2017-09-30 18:45\" data-name=\"The Palm Washington DC\" data-rid=\"11122\" href=\"/book/validate?rid=11122&amp;d=2017-09-30 18:45&amp;p=2&amp;pt=100&amp;ss=0&amp;sd=2017-09-30 18:45&amp;pofids=&amp;hash=1444875066\" onclick=\"OT.BestAnalytics.logRestaurantVisit(11122, '18:45')\"> 6:45 pm  </a> </li> <li class=\"timeslot-option timeslot-control\"> <a class=\"rest-row-times-btn exact timeslot\" data-covers=\"2\" data-datetime=\"2017-09-30 19:00\" data-name=\"The Palm Washington DC\" data-rid=\"11122\" href=\"/book/validate?rid=11122&amp;d=2017-09-30 19:00&amp;p=2&amp;pt=100&amp;ss=0&amp;sd=2017-09-30 19:00&amp;pofids=&amp;hash=550650290\" onclick=\"OT.BestAnalytics.logRestaurantVisit(11122, '19:00')\"> 7:00 pm  </a> </li> <li class=\"timeslot-option timeslot-control\"> <a class=\"rest-row-times-btn timeslot\" data-covers=\"2\" data-datetime=\"2017-09-30 19:15\" data-name=\"The Palm Washington DC\" data-rid=\"11122\" href=\"/book/validate?rid=11122&amp;d=2017-09-30 19:15&amp;p=2&amp;pt=100&amp;ss=0&amp;sd=2017-09-30 19:15&amp;pofids=&amp;hash=732028268\" onclick=\"OT.BestAnalytics.logRestaurantVisit(11122, '19:15')\"> 7:15 pm  </a> </li> <li class=\"timeslot-option timeslot-control\"> <a class=\"rest-row-times-btn timeslot\" data-covers=\"2\" data-datetime=\"2017-09-30 19:30\" data-name=\"The Palm Washington DC\" data-rid=\"11122\" href=\"/book/validate?rid=11122&amp;d=2017-09-30 19:30&amp;p=2&amp;pt=100&amp;ss=0&amp;sd=2017-09-30 19:30&amp;pofids=&amp;hash=700940264\" onclick=\"OT.BestAnalytics.logRestaurantVisit(11122, '19:30')\"> 7:30 pm  </a> </li> </ul></div> </div></div> </div></div> </div>,\n",
       " <div class=\"result content-section-list-row cf with-times\" data-id=\"42\" data-index=\"43\" data-lat=\"38.9059560\" data-lon=\"-77.0647550\" data-offers=\"\" data-rid=\"1549\"><div class=\"rest-row with-image\"> <div class=\"rest-row-image\"> <a href=\"/peacock-cafe\" onclick=\"OT.BestAnalytics.logRestaurantVisit(1549)\" target=\"_blank\"><img alt=\"photo of peacock caf\\xe9 restaurant\" class=\"lazy rest-image\" data-src=\"//resizer.otstatic.com/v2/profiles/legacy/1549.jpg\" src=\"//media.otstatic.com/search-result-node/images/no-image.png\"/></a></div> <div class=\"rest-row-info\"><div class=\"rest-row-header\"> <a class=\"rest-row-name rest-name \" href=\"/peacock-cafe\" onclick=\"OT.BestAnalytics.logRestaurantVisit(1549)\" target=\"_blank\"> <span class=\"rest-row-name-text\">Peacock Caf\\xe9</span> </a> </div> <div class=\" flex-row-justify\"> <div class=\"rest-row-review\"> <div class=\"star-rating review-container\"><div class=\"star-wrapper small\"><div class=\"all-stars\"></div><div class=\"all-stars filled\" style=\"width: 92%;\"></div></div> <a class=\"review-link\" href=\"/peacock-cafe#reviews\" target=\"_blank\"> <span class=\"star-rating-text underline-hover\">(1116)</span> <span class=\"star-rating-text--review-text underline-hover\">1116 reviews</span> </a></div> <span class=\"recommended-container\"><span class=\"thumbs-up-icon\"></span> <span class=\"recommended-small\">94%</span> <span class=\"recommended-text\">94% Recommend</span> </span> </div> <div class=\"rest-row-pricing\"><i>  $    $      </i>   $    $      </div> </div><div class=\"rest-row-meta rest-row-meta-grid flex-row-justify\"> <span class=\"rest-row-meta--cuisine rest-row-meta-text\">Contemporary American</span> <span class=\"rest-row-meta--location rest-row-meta-text\">Georgetown</span></div> <div class=\"message-alerts\"> <div class=\"notice-timeslot\"><span class=\"clock-icon\"></span> <span>Hurry, we only have 4 timeslots left!</span></div> </div> <div class=\"rest-row-times-cont\"><div class=\"rest-row-times\"> <div class=\"timeslot-window\"><ul class=\"availability-row-container\"> <li class=\"timeslot-option timeslot-control\"> <a class=\"rest-row-times-btn timeslot\" data-covers=\"2\" data-datetime=\"2017-09-30 18:30\" data-name=\"Peacock Caf\\xe9\" data-rid=\"1549\" href=\"/book/validate?rid=1549&amp;d=2017-09-30 18:30&amp;p=2&amp;pt=100&amp;ss=0&amp;sd=2017-09-30 18:30&amp;pofids=&amp;hash=2845121858\" onclick=\"OT.BestAnalytics.logRestaurantVisit(1549, '18:30')\"> 6:30 pm  </a> </li> <li class=\"timeslot-option timeslot-control\"> <a class=\"rest-row-times-btn timeslot\" data-covers=\"2\" data-datetime=\"2017-09-30 18:45\" data-name=\"Peacock Caf\\xe9\" data-rid=\"1549\" href=\"/book/validate?rid=1549&amp;d=2017-09-30 18:45&amp;p=2&amp;pt=100&amp;ss=0&amp;sd=2017-09-30 18:45&amp;pofids=&amp;hash=3467038204\" onclick=\"OT.BestAnalytics.logRestaurantVisit(1549, '18:45')\"> 6:45 pm  </a> </li> <li class=\"timeslot-option\"> <a class=\"rest-row-times-btn exact unavailable\" data-offers=\"\">\\xa0 </a> </li> <li class=\"timeslot-option timeslot-control\"> <a class=\"rest-row-times-btn timeslot\" data-covers=\"2\" data-datetime=\"2017-09-30 19:15\" data-name=\"Peacock Caf\\xe9\" data-rid=\"1549\" href=\"/book/validate?rid=1549&amp;d=2017-09-30 19:15&amp;p=2&amp;pt=100&amp;ss=0&amp;sd=2017-09-30 19:15&amp;pofids=&amp;hash=2957483465\" onclick=\"OT.BestAnalytics.logRestaurantVisit(1549, '19:15')\"> 7:15 pm  </a> </li> <li class=\"timeslot-option timeslot-control\"> <a class=\"rest-row-times-btn timeslot\" data-covers=\"2\" data-datetime=\"2017-09-30 19:30\" data-name=\"Peacock Caf\\xe9\" data-rid=\"1549\" href=\"/book/validate?rid=1549&amp;d=2017-09-30 19:30&amp;p=2&amp;pt=100&amp;ss=0&amp;sd=2017-09-30 19:30&amp;pofids=&amp;hash=397136178\" onclick=\"OT.BestAnalytics.logRestaurantVisit(1549, '19:30')\"> 7:30 pm  </a> </li> </ul></div> </div></div> </div></div> </div>,\n",
       " <div class=\"result content-section-list-row cf with-times\" data-id=\"43\" data-index=\"44\" data-lat=\"38.9052000\" data-lon=\"-77.0568000\" data-offers=\"\" data-rid=\"3528\"><div class=\"rest-row with-image\"> <div class=\"rest-row-image\"> <a href=\"/la-chaumiere-washington\" onclick=\"OT.BestAnalytics.logRestaurantVisit(3528)\" target=\"_blank\"><img alt=\"photo of la chaumiere restaurant\" class=\"lazy rest-image\" data-src=\"//resizer.otstatic.com/v2/profiles/legacy/3528.jpg\" src=\"//media.otstatic.com/search-result-node/images/no-image.png\"/></a></div> <div class=\"rest-row-info\"><div class=\"rest-row-header\"> <a class=\"rest-row-name rest-name \" href=\"/la-chaumiere-washington\" onclick=\"OT.BestAnalytics.logRestaurantVisit(3528)\" target=\"_blank\"> <span class=\"rest-row-name-text\">La Chaumiere</span> </a> </div> <div class=\" flex-row-justify\"> <div class=\"rest-row-review\"> <div class=\"star-rating review-container\"><div class=\"star-wrapper small\"><div class=\"all-stars\"></div><div class=\"all-stars filled\" style=\"width: 90%;\"></div></div> <a class=\"review-link\" href=\"/la-chaumiere-washington#reviews\" target=\"_blank\"> <span class=\"star-rating-text underline-hover\">(2364)</span> <span class=\"star-rating-text--review-text underline-hover\">2364 reviews</span> </a></div> <span class=\"recommended-container\"><span class=\"thumbs-up-icon\"></span> <span class=\"recommended-small\">93%</span> <span class=\"recommended-text\">93% Recommend</span> </span> </div> <div class=\"rest-row-pricing\"><i>  $    $      </i>   $    $      </div> </div><div class=\"rest-row-meta rest-row-meta-grid flex-row-justify\"> <span class=\"rest-row-meta--cuisine rest-row-meta-text\">French</span> <span class=\"rest-row-meta--location rest-row-meta-text\">Georgetown</span></div> <div class=\"message-alerts\"> </div> <div class=\"rest-row-times-cont\"><div class=\"rest-row-times\"> <div class=\"timeslot-window\"><ul class=\"availability-row-container\"> <li class=\"timeslot-option timeslot-control\"> <a class=\"rest-row-times-btn timeslot\" data-covers=\"2\" data-datetime=\"2017-09-30 18:00\" data-name=\"La Chaumiere\" data-rid=\"3528\" href=\"/book/validate?rid=3528&amp;d=2017-09-30 18:00&amp;p=2&amp;pt=100&amp;ss=0&amp;sd=2017-09-30 18:00&amp;pofids=&amp;hash=2448162857\" onclick=\"OT.BestAnalytics.logRestaurantVisit(3528, '18:00')\"> 6:00 pm  </a> </li> <li class=\"timeslot-option timeslot-control\"> <a class=\"rest-row-times-btn timeslot\" data-covers=\"2\" data-datetime=\"2017-09-30 18:30\" data-name=\"La Chaumiere\" data-rid=\"3528\" href=\"/book/validate?rid=3528&amp;d=2017-09-30 18:30&amp;p=2&amp;pt=100&amp;ss=0&amp;sd=2017-09-30 18:30&amp;pofids=&amp;hash=571428525\" onclick=\"OT.BestAnalytics.logRestaurantVisit(3528, '18:30')\"> 6:30 pm  </a> </li> <li class=\"timeslot-option timeslot-control\"> <a class=\"rest-row-times-btn exact timeslot\" data-covers=\"2\" data-datetime=\"2017-09-30 19:00\" data-name=\"La Chaumiere\" data-rid=\"3528\" href=\"/book/validate?rid=3528&amp;d=2017-09-30 19:00&amp;p=2&amp;pt=100&amp;ss=0&amp;sd=2017-09-30 19:00&amp;pofids=&amp;hash=2414873949\" onclick=\"OT.BestAnalytics.logRestaurantVisit(3528, '19:00')\"> 7:00 pm  </a> </li> <li class=\"timeslot-option timeslot-control\"> <a class=\"rest-row-times-btn timeslot\" data-covers=\"2\" data-datetime=\"2017-09-30 19:30\" data-name=\"La Chaumiere\" data-rid=\"3528\" href=\"/book/validate?rid=3528&amp;d=2017-09-30 19:30&amp;p=2&amp;pt=100&amp;ss=0&amp;sd=2017-09-30 19:30&amp;pofids=&amp;hash=245708557\" onclick=\"OT.BestAnalytics.logRestaurantVisit(3528, '19:30')\"> 7:30 pm  </a> </li> <li class=\"timeslot-option timeslot-control\"> <a class=\"rest-row-times-btn timeslot\" data-covers=\"2\" data-datetime=\"2017-09-30 20:00\" data-name=\"La Chaumiere\" data-rid=\"3528\" href=\"/book/validate?rid=3528&amp;d=2017-09-30 20:00&amp;p=2&amp;pt=100&amp;ss=0&amp;sd=2017-09-30 20:00&amp;pofids=&amp;hash=2655615358\" onclick=\"OT.BestAnalytics.logRestaurantVisit(3528, '20:00')\"> 8:00 pm  </a> </li> </ul></div> </div></div> </div></div> </div>,\n",
       " <div class=\"result content-section-list-row cf with-times\" data-id=\"44\" data-index=\"45\" data-lat=\"38.9053130\" data-lon=\"-77.0474500\" data-offers=\"\" data-rid=\"7036\"><div class=\"rest-row with-image\"> <div class=\"rest-row-image\"> <a href=\"/grillfish-washington\" onclick=\"OT.BestAnalytics.logRestaurantVisit(7036)\" target=\"_blank\"><img alt=\"photo of grillfish dc restaurant\" class=\"lazy rest-image\" data-src=\"//resizer.otstatic.com/v2/profiles/legacy/7036.jpg\" src=\"//media.otstatic.com/search-result-node/images/no-image.png\"/></a></div> <div class=\"rest-row-info\"><div class=\"rest-row-header\"> <a class=\"rest-row-name rest-name \" href=\"/grillfish-washington\" onclick=\"OT.BestAnalytics.logRestaurantVisit(7036)\" target=\"_blank\"> <span class=\"rest-row-name-text\">Grillfish DC</span> </a> </div> <div class=\" flex-row-justify\"> <div class=\"rest-row-review\"> <div class=\"star-rating review-container\"><div class=\"star-wrapper small\"><div class=\"all-stars\"></div><div class=\"all-stars filled\" style=\"width: 88%;\"></div></div> <a class=\"review-link\" href=\"/grillfish-washington#reviews\" target=\"_blank\"> <span class=\"star-rating-text underline-hover\">(2055)</span> <span class=\"star-rating-text--review-text underline-hover\">2055 reviews</span> </a></div> <span class=\"recommended-container\"><span class=\"thumbs-up-icon\"></span> <span class=\"recommended-small\">94%</span> <span class=\"recommended-text\">94% Recommend</span> </span> </div> <div class=\"rest-row-pricing\"><i>  $    $      </i>   $    $      </div> </div><div class=\"rest-row-meta rest-row-meta-grid flex-row-justify\"> <span class=\"rest-row-meta--cuisine rest-row-meta-text\">Seafood</span> <span class=\"rest-row-meta--location rest-row-meta-text\">Dupont Circle</span></div> <div class=\"message-alerts\"> </div> <div class=\"rest-row-times-cont\"><div class=\"rest-row-times\"> <div class=\"timeslot-window\"><ul class=\"availability-row-container\"> <li class=\"timeslot-option timeslot-control\"> <a class=\"rest-row-times-btn timeslot\" data-covers=\"2\" data-datetime=\"2017-09-30 18:30\" data-name=\"Grillfish DC\" data-rid=\"7036\" href=\"/book/validate?rid=7036&amp;d=2017-09-30 18:30&amp;p=2&amp;pt=100&amp;ss=0&amp;sd=2017-09-30 18:30&amp;pofids=&amp;hash=1036112070\" onclick=\"OT.BestAnalytics.logRestaurantVisit(7036, '18:30')\"> 6:30 pm  </a> </li> <li class=\"timeslot-option timeslot-control\"> <a class=\"rest-row-times-btn timeslot\" data-covers=\"2\" data-datetime=\"2017-09-30 18:45\" data-name=\"Grillfish DC\" data-rid=\"7036\" href=\"/book/validate?rid=7036&amp;d=2017-09-30 18:45&amp;p=2&amp;pt=100&amp;ss=0&amp;sd=2017-09-30 18:45&amp;pofids=&amp;hash=1380401135\" onclick=\"OT.BestAnalytics.logRestaurantVisit(7036, '18:45')\"> 6:45 pm  </a> </li> <li class=\"timeslot-option timeslot-control\"> <a class=\"rest-row-times-btn exact timeslot\" data-covers=\"2\" data-datetime=\"2017-09-30 19:00\" data-name=\"Grillfish DC\" data-rid=\"7036\" href=\"/book/validate?rid=7036&amp;d=2017-09-30 19:00&amp;p=2&amp;pt=100&amp;ss=0&amp;sd=2017-09-30 19:00&amp;pofids=&amp;hash=3516625833\" onclick=\"OT.BestAnalytics.logRestaurantVisit(7036, '19:00')\"> 7:00 pm  </a> </li> <li class=\"timeslot-option timeslot-control\"> <a class=\"rest-row-times-btn timeslot\" data-covers=\"2\" data-datetime=\"2017-09-30 20:15\" data-name=\"Grillfish DC\" data-rid=\"7036\" href=\"/book/validate?rid=7036&amp;d=2017-09-30 20:15&amp;p=2&amp;pt=100&amp;ss=0&amp;sd=2017-09-30 20:15&amp;pofids=&amp;hash=3140300389\" onclick=\"OT.BestAnalytics.logRestaurantVisit(7036, '20:15')\"> 8:15 pm  </a> </li> <li class=\"timeslot-option timeslot-control\"> <a class=\"rest-row-times-btn timeslot\" data-covers=\"2\" data-datetime=\"2017-09-30 20:30\" data-name=\"Grillfish DC\" data-rid=\"7036\" href=\"/book/validate?rid=7036&amp;d=2017-09-30 20:30&amp;p=2&amp;pt=100&amp;ss=0&amp;sd=2017-09-30 20:30&amp;pofids=&amp;hash=1458731658\" onclick=\"OT.BestAnalytics.logRestaurantVisit(7036, '20:30')\"> 8:30 pm  </a> </li> </ul></div> </div></div> </div></div> </div>,\n",
       " <div class=\"result content-section-list-row cf with-times\" data-id=\"45\" data-index=\"46\" data-lat=\"38.9619270\" data-lon=\"-77.0880310\" data-offers=\"\" data-rid=\"6538\"><div class=\"rest-row with-image\"> <div class=\"rest-row-image\"> <a href=\"/lias\" onclick=\"OT.BestAnalytics.logRestaurantVisit(6538)\" target=\"_blank\"><img alt=\"photo of lia's restaurant\" class=\"lazy rest-image\" data-src=\"//resizer.otstatic.com/v2/profiles/legacy/6538.jpg\" src=\"//media.otstatic.com/search-result-node/images/no-image.png\"/></a></div> <div class=\"rest-row-info\"><div class=\"rest-row-header\"> <a class=\"rest-row-name rest-name \" href=\"/lias\" onclick=\"OT.BestAnalytics.logRestaurantVisit(6538)\" target=\"_blank\"> <span class=\"rest-row-name-text\">LIA'S</span> </a> </div> <div class=\" flex-row-justify\"> <div class=\"rest-row-review\"> <div class=\"star-rating review-container\"><div class=\"star-wrapper small\"><div class=\"all-stars\"></div><div class=\"all-stars filled\" style=\"width: 86%;\"></div></div> <a class=\"review-link\" href=\"/lias#reviews\" target=\"_blank\"> <span class=\"star-rating-text underline-hover\">(2737)</span> <span class=\"star-rating-text--review-text underline-hover\">2737 reviews</span> </a></div> <span class=\"recommended-container\"><span class=\"thumbs-up-icon\"></span> <span class=\"recommended-small\">94%</span> <span class=\"recommended-text\">94% Recommend</span> </span> </div> <div class=\"rest-row-pricing\"><i>  $    $      </i>   $    $      </div> </div><div class=\"rest-row-meta rest-row-meta-grid flex-row-justify\"> <span class=\"rest-row-meta--cuisine rest-row-meta-text\">Italian</span> <span class=\"rest-row-meta--location rest-row-meta-text\">Bethesda / Chevy Chase</span></div> <div class=\"message-alerts\"> </div> <div class=\"rest-row-times-cont\"><div class=\"rest-row-times\"> <div class=\"timeslot-window\"><ul class=\"availability-row-container\"> <li class=\"timeslot-option timeslot-control\"> <a class=\"rest-row-times-btn timeslot\" data-covers=\"2\" data-datetime=\"2017-09-30 18:30\" data-name=\"LIA'S\" data-rid=\"6538\" href=\"/book/validate?rid=6538&amp;d=2017-09-30 18:30&amp;p=2&amp;pt=100&amp;ss=0&amp;sd=2017-09-30 18:30&amp;pofids=&amp;hash=480216828\" onclick=\"OT.BestAnalytics.logRestaurantVisit(6538, '18:30')\"> 6:30 pm  </a> </li> <li class=\"timeslot-option timeslot-control\"> <a class=\"rest-row-times-btn timeslot\" data-covers=\"2\" data-datetime=\"2017-09-30 18:45\" data-name=\"LIA'S\" data-rid=\"6538\" href=\"/book/validate?rid=6538&amp;d=2017-09-30 18:45&amp;p=2&amp;pt=100&amp;ss=0&amp;sd=2017-09-30 18:45&amp;pofids=&amp;hash=386893113\" onclick=\"OT.BestAnalytics.logRestaurantVisit(6538, '18:45')\"> 6:45 pm  </a> </li> <li class=\"timeslot-option timeslot-control\"> <a class=\"rest-row-times-btn exact timeslot\" data-covers=\"2\" data-datetime=\"2017-09-30 19:00\" data-name=\"LIA'S\" data-rid=\"6538\" href=\"/book/validate?rid=6538&amp;d=2017-09-30 19:00&amp;p=2&amp;pt=100&amp;ss=0&amp;sd=2017-09-30 19:00&amp;pofids=&amp;hash=2085923821\" onclick=\"OT.BestAnalytics.logRestaurantVisit(6538, '19:00')\"> 7:00 pm  </a> </li> <li class=\"timeslot-option timeslot-control\"> <a class=\"rest-row-times-btn timeslot\" data-covers=\"2\" data-datetime=\"2017-09-30 19:15\" data-name=\"LIA'S\" data-rid=\"6538\" href=\"/book/validate?rid=6538&amp;d=2017-09-30 19:15&amp;p=2&amp;pt=100&amp;ss=0&amp;sd=2017-09-30 19:15&amp;pofids=&amp;hash=3374274744\" onclick=\"OT.BestAnalytics.logRestaurantVisit(6538, '19:15')\"> 7:15 pm  </a> </li> <li class=\"timeslot-option timeslot-control\"> <a class=\"rest-row-times-btn timeslot\" data-covers=\"2\" data-datetime=\"2017-09-30 19:30\" data-name=\"LIA'S\" data-rid=\"6538\" href=\"/book/validate?rid=6538&amp;d=2017-09-30 19:30&amp;p=2&amp;pt=100&amp;ss=0&amp;sd=2017-09-30 19:30&amp;pofids=&amp;hash=3708008075\" onclick=\"OT.BestAnalytics.logRestaurantVisit(6538, '19:30')\"> 7:30 pm  </a> </li> </ul></div> </div></div> </div></div> </div>,\n",
       " <div class=\"result content-section-list-row cf with-times\" data-id=\"46\" data-index=\"47\" data-lat=\"38.9596170\" data-lon=\"-77.0851420\" data-offers=\"\" data-rid=\"15052\"><div class=\"rest-row with-image\"> <div class=\"rest-row-image\"> <a href=\"/maggianos-chevy-chase\" onclick=\"OT.BestAnalytics.logRestaurantVisit(15052)\" target=\"_blank\"><img alt=\"photo of maggiano's - chevy chase restaurant\" class=\"lazy rest-image\" data-src=\"//resizer.otstatic.com/v2/profiles/legacy/15052.jpg\" src=\"//media.otstatic.com/search-result-node/images/no-image.png\"/></a></div> <div class=\"rest-row-info\"><div class=\"rest-row-header\"> <a class=\"rest-row-name rest-name \" href=\"/maggianos-chevy-chase\" onclick=\"OT.BestAnalytics.logRestaurantVisit(15052)\" target=\"_blank\"> <span class=\"rest-row-name-text\">Maggiano's - Chevy Chase</span> </a> </div> <div class=\" flex-row-justify\"> <div class=\"rest-row-review\"> <div class=\"star-rating review-container\"><div class=\"star-wrapper small\"><div class=\"all-stars\"></div><div class=\"all-stars filled\" style=\"width: 88%;\"></div></div> <a class=\"review-link\" href=\"/maggianos-chevy-chase#reviews\" target=\"_blank\"> <span class=\"star-rating-text underline-hover\">(2669)</span> <span class=\"star-rating-text--review-text underline-hover\">2669 reviews</span> </a></div> <span class=\"recommended-container\"><span class=\"thumbs-up-icon\"></span> <span class=\"recommended-small\">92%</span> <span class=\"recommended-text\">92% Recommend</span> </span> </div> <div class=\"rest-row-pricing\"><i>  $    $      </i>   $    $      </div> </div><div class=\"rest-row-meta rest-row-meta-grid flex-row-justify\"> <span class=\"rest-row-meta--cuisine rest-row-meta-text\">Italian</span> <span class=\"rest-row-meta--location rest-row-meta-text\">Friendship Heights</span></div> <div class=\"message-alerts\"> </div> <div class=\"rest-row-times-cont\"><div class=\"rest-row-times\"> <div class=\"timeslot-window\"><ul class=\"availability-row-container\"> <li class=\"timeslot-option timeslot-control\"> <a class=\"rest-row-times-btn timeslot\" data-covers=\"2\" data-datetime=\"2017-09-30 18:30\" data-name=\"Maggiano's - Chevy Chase\" data-rid=\"15052\" href=\"/book/validate?rid=15052&amp;d=2017-09-30 18:30&amp;p=2&amp;pt=100&amp;ss=0&amp;sd=2017-09-30 18:30&amp;pofids=&amp;hash=2946899031\" onclick=\"OT.BestAnalytics.logRestaurantVisit(15052, '18:30')\"> 6:30 pm  </a> </li> <li class=\"timeslot-option timeslot-control\"> <a class=\"rest-row-times-btn timeslot\" data-covers=\"2\" data-datetime=\"2017-09-30 18:45\" data-name=\"Maggiano's - Chevy Chase\" data-rid=\"15052\" href=\"/book/validate?rid=15052&amp;d=2017-09-30 18:45&amp;p=2&amp;pt=100&amp;ss=0&amp;sd=2017-09-30 18:45&amp;pofids=&amp;hash=3730609472\" onclick=\"OT.BestAnalytics.logRestaurantVisit(15052, '18:45')\"> 6:45 pm  </a> </li> <li class=\"timeslot-option timeslot-control\"> <a class=\"rest-row-times-btn exact timeslot\" data-covers=\"2\" data-datetime=\"2017-09-30 19:00\" data-name=\"Maggiano's - Chevy Chase\" data-rid=\"15052\" href=\"/book/validate?rid=15052&amp;d=2017-09-30 19:00&amp;p=2&amp;pt=100&amp;ss=0&amp;sd=2017-09-30 19:00&amp;pofids=&amp;hash=4233787932\" onclick=\"OT.BestAnalytics.logRestaurantVisit(15052, '19:00')\"> 7:00 pm  </a> </li> <li class=\"timeslot-option timeslot-control\"> <a class=\"rest-row-times-btn timeslot\" data-covers=\"2\" data-datetime=\"2017-09-30 19:15\" data-name=\"Maggiano's - Chevy Chase\" data-rid=\"15052\" href=\"/book/validate?rid=15052&amp;d=2017-09-30 19:15&amp;p=2&amp;pt=100&amp;ss=0&amp;sd=2017-09-30 19:15&amp;pofids=&amp;hash=3815167916\" onclick=\"OT.BestAnalytics.logRestaurantVisit(15052, '19:15')\"> 7:15 pm  </a> </li> <li class=\"timeslot-option timeslot-control\"> <a class=\"rest-row-times-btn timeslot\" data-covers=\"2\" data-datetime=\"2017-09-30 19:30\" data-name=\"Maggiano's - Chevy Chase\" data-rid=\"15052\" href=\"/book/validate?rid=15052&amp;d=2017-09-30 19:30&amp;p=2&amp;pt=100&amp;ss=0&amp;sd=2017-09-30 19:30&amp;pofids=&amp;hash=489080570\" onclick=\"OT.BestAnalytics.logRestaurantVisit(15052, '19:30')\"> 7:30 pm  </a> </li> </ul></div> </div></div> </div></div> </div>,\n",
       " <div class=\"result content-section-list-row cf with-times\" data-id=\"47\" data-index=\"48\" data-lat=\"38.9233350\" data-lon=\"-77.2221560\" data-offers=\"\" data-rid=\"2105\"><div class=\"rest-row with-image\"> <div class=\"rest-row-image\"> <a href=\"/palm-restaurant-tysons-corner\" onclick=\"OT.BestAnalytics.logRestaurantVisit(2105)\" target=\"_blank\"><img alt=\"photo of the palm tysons corner restaurant\" class=\"lazy rest-image\" data-src=\"//resizer.otstatic.com/v2/profiles/legacy/2105.jpg\" src=\"//media.otstatic.com/search-result-node/images/no-image.png\"/></a></div> <div class=\"rest-row-info\"><div class=\"rest-row-header\"> <a class=\"rest-row-name rest-name \" href=\"/palm-restaurant-tysons-corner\" onclick=\"OT.BestAnalytics.logRestaurantVisit(2105)\" target=\"_blank\"> <span class=\"rest-row-name-text\">The Palm Tysons Corner</span> </a> </div> <div class=\" flex-row-justify\"> <div class=\"rest-row-review\"> <div class=\"star-rating review-container\"><div class=\"star-wrapper small\"><div class=\"all-stars\"></div><div class=\"all-stars filled\" style=\"width: 92%;\"></div></div> <a class=\"review-link\" href=\"/palm-restaurant-tysons-corner#reviews\" target=\"_blank\"> <span class=\"star-rating-text underline-hover\">(2701)</span> <span class=\"star-rating-text--review-text underline-hover\">2701 reviews</span> </a></div> <span class=\"recommended-container\"><span class=\"thumbs-up-icon\"></span> <span class=\"recommended-small\">89%</span> <span class=\"recommended-text\">89% Recommend</span> </span> </div> <div class=\"rest-row-pricing\"><i>  $    $    $    $  </i> </div> </div><div class=\"rest-row-meta rest-row-meta-grid flex-row-justify\"> <span class=\"rest-row-meta--cuisine rest-row-meta-text\">Steakhouse</span> <span class=\"rest-row-meta--location rest-row-meta-text\">Tysons Corner / McLean</span></div> <div class=\"message-alerts\"> <div class=\"notice-timeslot\"><span class=\"clock-icon\"></span> <span>Hurry, we only have 4 timeslots left!</span></div> </div> <div class=\"rest-row-times-cont\"><div class=\"rest-row-times\"> <div class=\"timeslot-window\"><ul class=\"availability-row-container\"> <li class=\"timeslot-option timeslot-control\"> <a class=\"rest-row-times-btn timeslot\" data-covers=\"2\" data-datetime=\"2017-09-30 18:15\" data-name=\"The Palm Tysons Corner\" data-rid=\"2105\" href=\"/book/validate?rid=2105&amp;d=2017-09-30 18:15&amp;p=2&amp;pt=100&amp;ss=0&amp;sd=2017-09-30 18:15&amp;pofids=&amp;hash=1686992047\" onclick=\"OT.BestAnalytics.logRestaurantVisit(2105, '18:15')\"> 6:15 pm  </a> </li> <li class=\"timeslot-option timeslot-control\"> <a class=\"rest-row-times-btn timeslot\" data-covers=\"2\" data-datetime=\"2017-09-30 18:30\" data-name=\"The Palm Tysons Corner\" data-rid=\"2105\" href=\"/book/validate?rid=2105&amp;d=2017-09-30 18:30&amp;p=2&amp;pt=100&amp;ss=0&amp;sd=2017-09-30 18:30&amp;pofids=&amp;hash=2755191104\" onclick=\"OT.BestAnalytics.logRestaurantVisit(2105, '18:30')\"> 6:30 pm  </a> </li> <li class=\"timeslot-option\"> <a class=\"rest-row-times-btn exact unavailable\" data-offers=\"\">\\xa0 </a> </li> <li class=\"timeslot-option timeslot-control\"> <a class=\"rest-row-times-btn timeslot\" data-covers=\"2\" data-datetime=\"2017-09-30 20:00\" data-name=\"The Palm Tysons Corner\" data-rid=\"2105\" href=\"/book/validate?rid=2105&amp;d=2017-09-30 20:00&amp;p=2&amp;pt=100&amp;ss=0&amp;sd=2017-09-30 20:00&amp;pofids=&amp;hash=494436151\" onclick=\"OT.BestAnalytics.logRestaurantVisit(2105, '20:00')\"> 8:00 pm  </a> </li> <li class=\"timeslot-option timeslot-control\"> <a class=\"rest-row-times-btn timeslot\" data-covers=\"2\" data-datetime=\"2017-09-30 20:15\" data-name=\"The Palm Tysons Corner\" data-rid=\"2105\" href=\"/book/validate?rid=2105&amp;d=2017-09-30 20:15&amp;p=2&amp;pt=100&amp;ss=0&amp;sd=2017-09-30 20:15&amp;pofids=&amp;hash=229988153\" onclick=\"OT.BestAnalytics.logRestaurantVisit(2105, '20:15')\"> 8:15 pm  </a> </li> </ul></div> </div></div> </div></div> </div>,\n",
       " <div class=\"result content-section-list-row cf with-times\" data-id=\"48\" data-index=\"49\" data-lat=\"38.9589860\" data-lon=\"-77.0880500\" data-offers=\"\" data-rid=\"34588\"><div class=\"rest-row with-image\"> <div class=\"rest-row-image\"> <a href=\"/the-capital-grille-chevy-chase\" onclick=\"OT.BestAnalytics.logRestaurantVisit(34588)\" target=\"_blank\"><img alt=\"photo of the capital grille - chevy chase restaurant\" class=\"lazy rest-image\" data-src=\"//resizer.otstatic.com/v2/profiles/legacy/34588.jpg\" src=\"//media.otstatic.com/search-result-node/images/no-image.png\"/></a></div> <div class=\"rest-row-info\"><div class=\"rest-row-header\"> <a class=\"rest-row-name rest-name \" href=\"/the-capital-grille-chevy-chase\" onclick=\"OT.BestAnalytics.logRestaurantVisit(34588)\" target=\"_blank\"> <span class=\"rest-row-name-text\">The Capital Grille - Chevy Chase</span> </a> </div> <div class=\" flex-row-justify\"> <div class=\"rest-row-review\"> <div class=\"star-rating review-container\"><div class=\"star-wrapper small\"><div class=\"all-stars\"></div><div class=\"all-stars filled\" style=\"width: 94%;\"></div></div> <a class=\"review-link\" href=\"/the-capital-grille-chevy-chase#reviews\" target=\"_blank\"> <span class=\"star-rating-text underline-hover\">(1518)</span> <span class=\"star-rating-text--review-text underline-hover\">1518 reviews</span> </a></div> <span class=\"recommended-container\"><span class=\"thumbs-up-icon\"></span> <span class=\"recommended-small\">96%</span> <span class=\"recommended-text\">96% Recommend</span> </span> </div> <div class=\"rest-row-pricing\"><i>  $    $    $    $  </i> </div> </div><div class=\"rest-row-meta rest-row-meta-grid flex-row-justify\"> <span class=\"rest-row-meta--cuisine rest-row-meta-text\">Steakhouse</span> <span class=\"rest-row-meta--location rest-row-meta-text\">Chevy Chase</span></div> <div class=\"message-alerts\"> </div> <div class=\"rest-row-times-cont\"><div class=\"rest-row-times\"> <div class=\"timeslot-window\"><ul class=\"availability-row-container\"> <li class=\"timeslot-option timeslot-control\"> <a class=\"rest-row-times-btn timeslot\" data-covers=\"2\" data-datetime=\"2017-09-30 18:30\" data-name=\"The Capital Grille - Chevy Chase\" data-rid=\"34588\" href=\"/book/validate?rid=34588&amp;d=2017-09-30 18:30&amp;p=2&amp;pt=100&amp;ss=0&amp;sd=2017-09-30 18:30&amp;pofids=&amp;hash=3037403151\" onclick=\"OT.BestAnalytics.logRestaurantVisit(34588, '18:30')\"> 6:30 pm  </a> </li> <li class=\"timeslot-option timeslot-control\"> <a class=\"rest-row-times-btn timeslot\" data-covers=\"2\" data-datetime=\"2017-09-30 18:45\" data-name=\"The Capital Grille - Chevy Chase\" data-rid=\"34588\" href=\"/book/validate?rid=34588&amp;d=2017-09-30 18:45&amp;p=2&amp;pt=100&amp;ss=0&amp;sd=2017-09-30 18:45&amp;pofids=&amp;hash=3296658883\" onclick=\"OT.BestAnalytics.logRestaurantVisit(34588, '18:45')\"> 6:45 pm  </a> </li> <li class=\"timeslot-option timeslot-control\"> <a class=\"rest-row-times-btn exact timeslot\" data-covers=\"2\" data-datetime=\"2017-09-30 19:00\" data-name=\"The Capital Grille - Chevy Chase\" data-rid=\"34588\" href=\"/book/validate?rid=34588&amp;d=2017-09-30 19:00&amp;p=2&amp;pt=100&amp;ss=0&amp;sd=2017-09-30 19:00&amp;pofids=&amp;hash=2084714070\" onclick=\"OT.BestAnalytics.logRestaurantVisit(34588, '19:00')\"> 7:00 pm  </a> </li> <li class=\"timeslot-option timeslot-control\"> <a class=\"rest-row-times-btn timeslot\" data-covers=\"2\" data-datetime=\"2017-09-30 19:15\" data-name=\"The Capital Grille - Chevy Chase\" data-rid=\"34588\" href=\"/book/validate?rid=34588&amp;d=2017-09-30 19:15&amp;p=2&amp;pt=100&amp;ss=0&amp;sd=2017-09-30 19:15&amp;pofids=&amp;hash=176405965\" onclick=\"OT.BestAnalytics.logRestaurantVisit(34588, '19:15')\"> 7:15 pm  </a> </li> <li class=\"timeslot-option timeslot-control\"> <a class=\"rest-row-times-btn timeslot\" data-covers=\"2\" data-datetime=\"2017-09-30 19:30\" data-name=\"The Capital Grille - Chevy Chase\" data-rid=\"34588\" href=\"/book/validate?rid=34588&amp;d=2017-09-30 19:30&amp;p=2&amp;pt=100&amp;ss=0&amp;sd=2017-09-30 19:30&amp;pofids=&amp;hash=708697833\" onclick=\"OT.BestAnalytics.logRestaurantVisit(34588, '19:30')\"> 7:30 pm  </a> </li> </ul></div> </div></div> </div></div> </div>,\n",
       " <div class=\"result content-section-list-row cf with-times\" data-id=\"49\" data-index=\"50\" data-lat=\"38.9245990\" data-lon=\"-77.2169140\" data-offers=\"\" data-rid=\"340261\"><div class=\"rest-row with-image\"> <div class=\"rest-row-image\"> <a href=\"/r/tenpenh-tysons\" onclick=\"OT.BestAnalytics.logRestaurantVisit(340261)\" target=\"_blank\"><img alt=\"photo of tenpenh - tysons restaurant\" class=\"lazy rest-image\" data-src=\"//resizer.otstatic.com/v2/profiles/legacy/340261.jpg\" src=\"//media.otstatic.com/search-result-node/images/no-image.png\"/></a></div> <div class=\"rest-row-info\"><div class=\"rest-row-header\"> <a class=\"rest-row-name rest-name \" href=\"/r/tenpenh-tysons\" onclick=\"OT.BestAnalytics.logRestaurantVisit(340261)\" target=\"_blank\"> <span class=\"rest-row-name-text\">TenPenh - Tysons</span> </a> </div> <div class=\" flex-row-justify\"> <div class=\"rest-row-review\"> <div class=\"star-rating review-container\"><div class=\"star-wrapper small\"><div class=\"all-stars\"></div><div class=\"all-stars filled\" style=\"width: 88%;\"></div></div> <a class=\"review-link\" href=\"/r/tenpenh-tysons#reviews\" target=\"_blank\"> <span class=\"star-rating-text underline-hover\">(234)</span> <span class=\"star-rating-text--review-text underline-hover\">234 reviews</span> </a></div> <span class=\"recommended-container\"><span class=\"thumbs-up-icon\"></span> <span class=\"recommended-small\">86%</span> <span class=\"recommended-text\">86% Recommend</span> </span> </div> <div class=\"rest-row-pricing\"><i>  $    $    $    </i>   $        </div> </div><div class=\"rest-row-meta rest-row-meta-grid flex-row-justify\"> <span class=\"rest-row-meta--cuisine rest-row-meta-text\">Asian</span> <span class=\"rest-row-meta--location rest-row-meta-text\">Tysons Corner / McLean</span></div> <div class=\"message-alerts\"> </div> <div class=\"rest-row-times-cont\"><div class=\"rest-row-times\"> <div class=\"timeslot-window\"><ul class=\"availability-row-container\"> <li class=\"timeslot-option timeslot-control\"> <a class=\"rest-row-times-btn timeslot\" data-covers=\"2\" data-datetime=\"2017-09-30 18:30\" data-name=\"TenPenh - Tysons\" data-rid=\"340261\" href=\"/book/validate?rid=340261&amp;d=2017-09-30 18:30&amp;p=2&amp;pt=100&amp;ss=0&amp;sd=2017-09-30 18:30&amp;pofids=&amp;hash=3553267034\" onclick=\"OT.BestAnalytics.logRestaurantVisit(340261, '18:30')\"> 6:30 pm  </a> </li> <li class=\"timeslot-option timeslot-control\"> <a class=\"rest-row-times-btn timeslot\" data-covers=\"2\" data-datetime=\"2017-09-30 18:45\" data-name=\"TenPenh - Tysons\" data-rid=\"340261\" href=\"/book/validate?rid=340261&amp;d=2017-09-30 18:45&amp;p=2&amp;pt=100&amp;ss=0&amp;sd=2017-09-30 18:45&amp;pofids=&amp;hash=3279787057\" onclick=\"OT.BestAnalytics.logRestaurantVisit(340261, '18:45')\"> 6:45 pm  </a> </li> <li class=\"timeslot-option timeslot-control\"> <a class=\"rest-row-times-btn exact timeslot\" data-covers=\"2\" data-datetime=\"2017-09-30 19:00\" data-name=\"TenPenh - Tysons\" data-rid=\"340261\" href=\"/book/validate?rid=340261&amp;d=2017-09-30 19:00&amp;p=2&amp;pt=100&amp;ss=0&amp;sd=2017-09-30 19:00&amp;pofids=&amp;hash=3877302598\" onclick=\"OT.BestAnalytics.logRestaurantVisit(340261, '19:00')\"> 7:00 pm  </a> </li> <li class=\"timeslot-option timeslot-control\"> <a class=\"rest-row-times-btn timeslot\" data-covers=\"2\" data-datetime=\"2017-09-30 19:15\" data-name=\"TenPenh - Tysons\" data-rid=\"340261\" href=\"/book/validate?rid=340261&amp;d=2017-09-30 19:15&amp;p=2&amp;pt=100&amp;ss=0&amp;sd=2017-09-30 19:15&amp;pofids=&amp;hash=555385951\" onclick=\"OT.BestAnalytics.logRestaurantVisit(340261, '19:15')\"> 7:15 pm  </a> </li> <li class=\"timeslot-option timeslot-control\"> <a class=\"rest-row-times-btn timeslot\" data-covers=\"2\" data-datetime=\"2017-09-30 19:30\" data-name=\"TenPenh - Tysons\" data-rid=\"340261\" href=\"/book/validate?rid=340261&amp;d=2017-09-30 19:30&amp;p=2&amp;pt=100&amp;ss=0&amp;sd=2017-09-30 19:30&amp;pofids=&amp;hash=778829468\" onclick=\"OT.BestAnalytics.logRestaurantVisit(340261, '19:30')\"> 7:30 pm  </a> </li> </ul></div> </div></div> </div></div> </div>,\n",
       " <div class=\"result content-section-list-row cf with-times\" data-id=\"50\" data-index=\"51\" data-lat=\"38.9056530\" data-lon=\"-77.0628350\" data-offers=\"\" data-rid=\"190603\"><div class=\"rest-row with-image\"> <div class=\"rest-row-image\"> <a href=\"/the-sovereign\" onclick=\"OT.BestAnalytics.logRestaurantVisit(190603)\" target=\"_blank\"><img alt=\"photo of the sovereign restaurant\" class=\"lazy rest-image\" data-src=\"//resizer.otstatic.com/v2/profiles/legacy/190603.jpg\" src=\"//media.otstatic.com/search-result-node/images/no-image.png\"/></a></div> <div class=\"rest-row-info\"><div class=\"rest-row-header\"> <a class=\"rest-row-name rest-name \" href=\"/the-sovereign\" onclick=\"OT.BestAnalytics.logRestaurantVisit(190603)\" target=\"_blank\"> <span class=\"rest-row-name-text\">The Sovereign</span> </a> </div> <div class=\" flex-row-justify\"> <div class=\"rest-row-review\"> <div class=\"star-rating review-container\"><div class=\"star-wrapper small\"><div class=\"all-stars\"></div><div class=\"all-stars filled\" style=\"width: 88%;\"></div></div> <a class=\"review-link\" href=\"/the-sovereign#reviews\" target=\"_blank\"> <span class=\"star-rating-text underline-hover\">(245)</span> <span class=\"star-rating-text--review-text underline-hover\">245 reviews</span> </a></div> <span class=\"recommended-container\"><span class=\"thumbs-up-icon\"></span> <span class=\"recommended-small\">77%</span> <span class=\"recommended-text\">77% Recommend</span> </span> </div> <div class=\"rest-row-pricing\"><i>  $    $    $    </i>   $        </div> </div><div class=\"rest-row-meta rest-row-meta-grid flex-row-justify\"> <span class=\"rest-row-meta--cuisine rest-row-meta-text\">Belgian</span> <span class=\"rest-row-meta--location rest-row-meta-text\">Georgetown</span></div> <div class=\"message-alerts\"> </div> <div class=\"rest-row-times-cont\"><div class=\"rest-row-times\"> <div class=\"timeslot-window\"><ul class=\"availability-row-container\"> <li class=\"timeslot-option timeslot-control\"> <a class=\"rest-row-times-btn timeslot\" data-covers=\"2\" data-datetime=\"2017-09-30 18:30\" data-name=\"The Sovereign\" data-rid=\"190603\" href=\"/book/validate?rid=190603&amp;d=2017-09-30 18:30&amp;p=2&amp;pt=100&amp;ss=0&amp;sd=2017-09-30 18:30&amp;pofids=&amp;hash=899566002\" onclick=\"OT.BestAnalytics.logRestaurantVisit(190603, '18:30')\"> 6:30 pm  </a> </li> <li class=\"timeslot-option timeslot-control\"> <a class=\"rest-row-times-btn timeslot\" data-covers=\"2\" data-datetime=\"2017-09-30 18:45\" data-name=\"The Sovereign\" data-rid=\"190603\" href=\"/book/validate?rid=190603&amp;d=2017-09-30 18:45&amp;p=2&amp;pt=100&amp;ss=0&amp;sd=2017-09-30 18:45&amp;pofids=&amp;hash=3429838200\" onclick=\"OT.BestAnalytics.logRestaurantVisit(190603, '18:45')\"> 6:45 pm  </a> </li> <li class=\"timeslot-option timeslot-control\"> <a class=\"rest-row-times-btn exact timeslot\" data-covers=\"2\" data-datetime=\"2017-09-30 19:00\" data-name=\"The Sovereign\" data-rid=\"190603\" href=\"/book/validate?rid=190603&amp;d=2017-09-30 19:00&amp;p=2&amp;pt=100&amp;ss=0&amp;sd=2017-09-30 19:00&amp;pofids=&amp;hash=1428352235\" onclick=\"OT.BestAnalytics.logRestaurantVisit(190603, '19:00')\"> 7:00 pm  </a> </li> <li class=\"timeslot-option timeslot-control\"> <a class=\"rest-row-times-btn timeslot\" data-covers=\"2\" data-datetime=\"2017-09-30 19:15\" data-name=\"The Sovereign\" data-rid=\"190603\" href=\"/book/validate?rid=190603&amp;d=2017-09-30 19:15&amp;p=2&amp;pt=100&amp;ss=0&amp;sd=2017-09-30 19:15&amp;pofids=&amp;hash=836228740\" onclick=\"OT.BestAnalytics.logRestaurantVisit(190603, '19:15')\"> 7:15 pm  </a> </li> <li class=\"timeslot-option timeslot-control\"> <a class=\"rest-row-times-btn timeslot\" data-covers=\"2\" data-datetime=\"2017-09-30 19:30\" data-name=\"The Sovereign\" data-rid=\"190603\" href=\"/book/validate?rid=190603&amp;d=2017-09-30 19:30&amp;p=2&amp;pt=100&amp;ss=0&amp;sd=2017-09-30 19:30&amp;pofids=&amp;hash=528880457\" onclick=\"OT.BestAnalytics.logRestaurantVisit(190603, '19:30')\"> 7:30 pm  </a> </li> </ul></div> </div></div> </div></div> </div>,\n",
       " <div class=\"result content-section-list-row cf with-times\" data-id=\"51\" data-index=\"52\" data-lat=\"38.8839210\" data-lon=\"-77.1166500\" data-offers=\"\" data-rid=\"16393\"><div class=\"rest-row with-image\"> <div class=\"rest-row-image\"> <a href=\"/the-melting-pot-arlington-va\" onclick=\"OT.BestAnalytics.logRestaurantVisit(16393)\" target=\"_blank\"><img alt=\"photo of the melting pot - arlington va restaurant\" class=\"lazy rest-image\" data-src=\"//resizer.otstatic.com/v2/profiles/legacy/16393.jpg\" src=\"//media.otstatic.com/search-result-node/images/no-image.png\"/></a></div> <div class=\"rest-row-info\"><div class=\"rest-row-header\"> <a class=\"rest-row-name rest-name \" href=\"/the-melting-pot-arlington-va\" onclick=\"OT.BestAnalytics.logRestaurantVisit(16393)\" target=\"_blank\"> <span class=\"rest-row-name-text\">The Melting Pot - Arlington VA</span> </a> </div> <div class=\" flex-row-justify\"> <div class=\"rest-row-review\"> <div class=\"star-rating review-container\"><div class=\"star-wrapper small\"><div class=\"all-stars\"></div><div class=\"all-stars filled\" style=\"width: 92%;\"></div></div> <a class=\"review-link\" href=\"/the-melting-pot-arlington-va#reviews\" target=\"_blank\"> <span class=\"star-rating-text underline-hover\">(2256)</span> <span class=\"star-rating-text--review-text underline-hover\">2256 reviews</span> </a></div> <span class=\"recommended-container\"><span class=\"thumbs-up-icon\"></span> <span class=\"recommended-small\">95%</span> <span class=\"recommended-text\">95% Recommend</span> </span> </div> <div class=\"rest-row-pricing\"><i>  $    $    $    </i>   $        </div> </div><div class=\"rest-row-meta rest-row-meta-grid flex-row-justify\"> <span class=\"rest-row-meta--cuisine rest-row-meta-text\">Fondue</span> <span class=\"rest-row-meta--location rest-row-meta-text\">Arlington</span></div> <div class=\"message-alerts\"> <div class=\"notice-timeslot\"><span class=\"clock-icon\"></span> <span>Hurry, we only have 4 timeslots left!</span></div> </div> <div class=\"rest-row-times-cont\"><div class=\"rest-row-times\"> <div class=\"timeslot-window\"><ul class=\"availability-row-container\"> <li class=\"timeslot-option timeslot-control\"> <a class=\"rest-row-times-btn timeslot\" data-covers=\"2\" data-datetime=\"2017-09-30 17:15\" data-name=\"The Melting Pot - Arlington VA\" data-rid=\"16393\" href=\"/book/validate?rid=16393&amp;d=2017-09-30 17:15&amp;p=2&amp;pt=100&amp;ss=0&amp;sd=2017-09-30 17:15&amp;pofids=&amp;hash=3829659143\" onclick=\"OT.BestAnalytics.logRestaurantVisit(16393, '17:15')\"> 5:15 pm  </a> </li> <li class=\"timeslot-option timeslot-control\"> <a class=\"rest-row-times-btn timeslot\" data-covers=\"2\" data-datetime=\"2017-09-30 18:00\" data-name=\"The Melting Pot - Arlington VA\" data-rid=\"16393\" href=\"/book/validate?rid=16393&amp;d=2017-09-30 18:00&amp;p=2&amp;pt=100&amp;ss=0&amp;sd=2017-09-30 18:00&amp;pofids=&amp;hash=478412655\" onclick=\"OT.BestAnalytics.logRestaurantVisit(16393, '18:00')\"> 6:00 pm  </a> </li> <li class=\"timeslot-option\"> <a class=\"rest-row-times-btn exact unavailable\" data-offers=\"\">\\xa0 </a> </li> <li class=\"timeslot-option timeslot-control\"> <a class=\"rest-row-times-btn timeslot\" data-covers=\"2\" data-datetime=\"2017-09-30 20:45\" data-name=\"The Melting Pot - Arlington VA\" data-rid=\"16393\" href=\"/book/validate?rid=16393&amp;d=2017-09-30 20:45&amp;p=2&amp;pt=100&amp;ss=0&amp;sd=2017-09-30 20:45&amp;pofids=&amp;hash=1137250548\" onclick=\"OT.BestAnalytics.logRestaurantVisit(16393, '20:45')\"> 8:45 pm  </a> </li> <li class=\"timeslot-option timeslot-control\"> <a class=\"rest-row-times-btn timeslot\" data-covers=\"2\" data-datetime=\"2017-09-30 21:00\" data-name=\"The Melting Pot - Arlington VA\" data-rid=\"16393\" href=\"/book/validate?rid=16393&amp;d=2017-09-30 21:00&amp;p=2&amp;pt=100&amp;ss=0&amp;sd=2017-09-30 21:00&amp;pofids=&amp;hash=2263136792\" onclick=\"OT.BestAnalytics.logRestaurantVisit(16393, '21:00')\"> 9:00 pm  </a> </li> </ul></div> </div></div> </div></div> </div>,\n",
       " <div class=\"result content-section-list-row cf with-times\" data-id=\"52\" data-index=\"53\" data-lat=\"38.9115110\" data-lon=\"-77.0450530\" data-offers=\"\" data-rid=\"140557\"><div class=\"rest-row with-image\"> <div class=\"rest-row-image\"> <a href=\"/r/mission-washington\" onclick=\"OT.BestAnalytics.logRestaurantVisit(140557)\" target=\"_blank\"><img alt=\"photo of mission restaurant\" class=\"lazy rest-image\" data-src=\"//resizer.otstatic.com/v2/profiles/legacy/140557.jpg\" src=\"//media.otstatic.com/search-result-node/images/no-image.png\"/></a></div> <div class=\"rest-row-info\"><div class=\"rest-row-header\"> <a class=\"rest-row-name rest-name \" href=\"/r/mission-washington\" onclick=\"OT.BestAnalytics.logRestaurantVisit(140557)\" target=\"_blank\"> <span class=\"rest-row-name-text\">Mission</span> </a> </div> <div class=\" flex-row-justify\"> <div class=\"rest-row-review\"> <div class=\"star-rating review-container\"><div class=\"star-wrapper small\"><div class=\"all-stars\"></div><div class=\"all-stars filled\" style=\"width: 86%;\"></div></div> <a class=\"review-link\" href=\"/r/mission-washington#reviews\" target=\"_blank\"> <span class=\"star-rating-text underline-hover\">(224)</span> <span class=\"star-rating-text--review-text underline-hover\">224 reviews</span> </a></div> <span class=\"recommended-container\"><span class=\"thumbs-up-icon\"></span> <span class=\"recommended-small\">83%</span> <span class=\"recommended-text\">83% Recommend</span> </span> </div> <div class=\"rest-row-pricing\"><i>  $    $      </i>   $    $      </div> </div><div class=\"rest-row-meta rest-row-meta-grid flex-row-justify\"> <span class=\"rest-row-meta--cuisine rest-row-meta-text\">Mexican</span> <span class=\"rest-row-meta--location rest-row-meta-text\">Dupont Circle</span></div> <div class=\"message-alerts\"> <div class=\"notice-timeslot\"><span class=\"clock-icon\"></span> <span>Hurry, we only have 4 timeslots left!</span></div> </div> <div class=\"rest-row-times-cont\"><div class=\"rest-row-times\"> <div class=\"timeslot-window\"><ul class=\"availability-row-container\"> <li class=\"timeslot-option timeslot-control\"> <a class=\"rest-row-times-btn timeslot\" data-covers=\"2\" data-datetime=\"2017-09-30 16:45\" data-href=\"/book/validate?rid=140557&amp;d=2017-09-30 16:45&amp;p=2&amp;pt=100&amp;ss=0&amp;sd=2017-09-30 16:45&amp;pofids=&amp;hash=1342157066\" data-name=\"Mission\" data-rid=\"140557\" data-table-categories=\"highTop\" data-table-categories-tooltip-title=\"Table Types\"> 4:45 pm* <div class=\"js-table-categories-tooltip table-categories-tooltip\"><div class=\"table-categories-tooltip-arrow\"></div><div class=\"table-categories-tooltip-container\"><h5 class=\"upcase-style\">Table types</h5> <div>High Top</div> </div></div> </a> </li> <li class=\"timeslot-option timeslot-control\"> <a class=\"rest-row-times-btn timeslot\" data-covers=\"2\" data-datetime=\"2017-09-30 17:00\" data-name=\"Mission\" data-rid=\"140557\" href=\"/book/validate?rid=140557&amp;d=2017-09-30 17:00&amp;p=2&amp;pt=100&amp;ss=0&amp;sd=2017-09-30 17:00&amp;pofids=&amp;hash=2870435046\" onclick=\"OT.BestAnalytics.logRestaurantVisit(140557, '17:00')\"> 5:00 pm  </a> </li> <li class=\"timeslot-option\"> <a class=\"rest-row-times-btn exact unavailable\" data-offers=\"\">\\xa0 </a> </li> <li class=\"timeslot-option timeslot-control\"> <a class=\"rest-row-times-btn timeslot\" data-covers=\"2\" data-datetime=\"2017-09-30 20:45\" data-name=\"Mission\" data-rid=\"140557\" href=\"/book/validate?rid=140557&amp;d=2017-09-30 20:45&amp;p=2&amp;pt=100&amp;ss=0&amp;sd=2017-09-30 20:45&amp;pofids=&amp;hash=1857824443\" onclick=\"OT.BestAnalytics.logRestaurantVisit(140557, '20:45')\"> 8:45 pm  </a> </li> <li class=\"timeslot-option timeslot-control\"> <a class=\"rest-row-times-btn timeslot\" data-covers=\"2\" data-datetime=\"2017-09-30 21:00\" data-name=\"Mission\" data-rid=\"140557\" href=\"/book/validate?rid=140557&amp;d=2017-09-30 21:00&amp;p=2&amp;pt=100&amp;ss=0&amp;sd=2017-09-30 21:00&amp;pofids=&amp;hash=1020714279\" onclick=\"OT.BestAnalytics.logRestaurantVisit(140557, '21:00')\"> 9:00 pm  </a> </li> </ul></div> </div></div> </div></div> </div>,\n",
       " <div class=\"result content-section-list-row cf with-times\" data-id=\"53\" data-index=\"54\" data-lat=\"38.9046800\" data-lon=\"-77.0614130\" data-offers=\"\" data-rid=\"38374\"><div class=\"rest-row with-image\"> <div class=\"rest-row-image\"> <a href=\"/ristorante-piccolo\" onclick=\"OT.BestAnalytics.logRestaurantVisit(38374)\" target=\"_blank\"><img alt=\"photo of ristorante piccolo restaurant\" class=\"lazy rest-image\" data-src=\"//resizer.otstatic.com/v2/profiles/legacy/38374.jpg\" src=\"//media.otstatic.com/search-result-node/images/no-image.png\"/></a></div> <div class=\"rest-row-info\"><div class=\"rest-row-header\"> <a class=\"rest-row-name rest-name \" href=\"/ristorante-piccolo\" onclick=\"OT.BestAnalytics.logRestaurantVisit(38374)\" target=\"_blank\"> <span class=\"rest-row-name-text\">Ristorante Piccolo</span> </a> </div> <div class=\" flex-row-justify\"> <div class=\"rest-row-review\"> <div class=\"star-rating review-container\"><div class=\"star-wrapper small\"><div class=\"all-stars\"></div><div class=\"all-stars filled\" style=\"width: 88%;\"></div></div> <a class=\"review-link\" href=\"/ristorante-piccolo#reviews\" target=\"_blank\"> <span class=\"star-rating-text underline-hover\">(1567)</span> <span class=\"star-rating-text--review-text underline-hover\">1567 reviews</span> </a></div> <span class=\"recommended-container\"><span class=\"thumbs-up-icon\"></span> <span class=\"recommended-small\">90%</span> <span class=\"recommended-text\">90% Recommend</span> </span> </div> <div class=\"rest-row-pricing\"><i>  $    $      </i>   $    $      </div> </div><div class=\"rest-row-meta rest-row-meta-grid flex-row-justify\"> <span class=\"rest-row-meta--cuisine rest-row-meta-text\">Italian</span> <span class=\"rest-row-meta--location rest-row-meta-text\">Georgetown</span></div> <div class=\"message-alerts\"> </div> <div class=\"rest-row-times-cont\"><div class=\"rest-row-times\"> <div class=\"timeslot-window\"><ul class=\"availability-row-container\"> <li class=\"timeslot-option timeslot-control\"> <a class=\"rest-row-times-btn timeslot\" data-covers=\"2\" data-datetime=\"2017-09-30 18:30\" data-name=\"Ristorante Piccolo\" data-rid=\"38374\" href=\"/book/validate?rid=38374&amp;d=2017-09-30 18:30&amp;p=2&amp;pt=100&amp;ss=0&amp;sd=2017-09-30 18:30&amp;pofids=&amp;hash=2709886255\" onclick=\"OT.BestAnalytics.logRestaurantVisit(38374, '18:30')\"> 6:30 pm  </a> </li> <li class=\"timeslot-option timeslot-control\"> <a class=\"rest-row-times-btn timeslot\" data-covers=\"2\" data-datetime=\"2017-09-30 18:45\" data-name=\"Ristorante Piccolo\" data-rid=\"38374\" href=\"/book/validate?rid=38374&amp;d=2017-09-30 18:45&amp;p=2&amp;pt=100&amp;ss=0&amp;sd=2017-09-30 18:45&amp;pofids=&amp;hash=2368469247\" onclick=\"OT.BestAnalytics.logRestaurantVisit(38374, '18:45')\"> 6:45 pm  </a> </li> <li class=\"timeslot-option timeslot-control\"> <a class=\"rest-row-times-btn exact timeslot\" data-covers=\"2\" data-datetime=\"2017-09-30 19:00\" data-name=\"Ristorante Piccolo\" data-rid=\"38374\" href=\"/book/validate?rid=38374&amp;d=2017-09-30 19:00&amp;p=2&amp;pt=100&amp;ss=0&amp;sd=2017-09-30 19:00&amp;pofids=&amp;hash=4118507611\" onclick=\"OT.BestAnalytics.logRestaurantVisit(38374, '19:00')\"> 7:00 pm  </a> </li> <li class=\"timeslot-option timeslot-control\"> <a class=\"rest-row-times-btn timeslot\" data-covers=\"2\" data-datetime=\"2017-09-30 19:15\" data-name=\"Ristorante Piccolo\" data-rid=\"38374\" href=\"/book/validate?rid=38374&amp;d=2017-09-30 19:15&amp;p=2&amp;pt=100&amp;ss=0&amp;sd=2017-09-30 19:15&amp;pofids=&amp;hash=1414989475\" onclick=\"OT.BestAnalytics.logRestaurantVisit(38374, '19:15')\"> 7:15 pm  </a> </li> <li class=\"timeslot-option timeslot-control\"> <a class=\"rest-row-times-btn timeslot\" data-covers=\"2\" data-datetime=\"2017-09-30 19:30\" data-name=\"Ristorante Piccolo\" data-rid=\"38374\" href=\"/book/validate?rid=38374&amp;d=2017-09-30 19:30&amp;p=2&amp;pt=100&amp;ss=0&amp;sd=2017-09-30 19:30&amp;pofids=&amp;hash=382962097\" onclick=\"OT.BestAnalytics.logRestaurantVisit(38374, '19:30')\"> 7:30 pm  </a> </li> </ul></div> </div></div> </div></div> </div>,\n",
       " <div class=\"result content-section-list-row cf with-times\" data-id=\"54\" data-index=\"55\" data-lat=\"38.9045220\" data-lon=\"-77.0630500\" data-offers=\"\" data-rid=\"166774\"><div class=\"rest-row with-image\"> <div class=\"rest-row-image\"> <a href=\"/pinstripes-georgetown\" onclick=\"OT.BestAnalytics.logRestaurantVisit(166774)\" target=\"_blank\"><img alt=\"photo of pinstripes - georgetown restaurant\" class=\"lazy rest-image\" data-src=\"//resizer.otstatic.com/v2/profiles/legacy/166774.jpg\" src=\"//media.otstatic.com/search-result-node/images/no-image.png\"/></a></div> <div class=\"rest-row-info\"><div class=\"rest-row-header\"> <a class=\"rest-row-name rest-name \" href=\"/pinstripes-georgetown\" onclick=\"OT.BestAnalytics.logRestaurantVisit(166774)\" target=\"_blank\"> <span class=\"rest-row-name-text\">Pinstripes - Georgetown</span> </a> </div> <div class=\" flex-row-justify\"> <div class=\"rest-row-review\"> <div class=\"star-rating review-container\"><div class=\"star-wrapper small\"><div class=\"all-stars\"></div><div class=\"all-stars filled\" style=\"width: 88%;\"></div></div> <a class=\"review-link\" href=\"/pinstripes-georgetown#reviews\" target=\"_blank\"> <span class=\"star-rating-text underline-hover\">(265)</span> <span class=\"star-rating-text--review-text underline-hover\">265 reviews</span> </a></div> <span class=\"recommended-container\"><span class=\"thumbs-up-icon\"></span> <span class=\"recommended-small\">89%</span> <span class=\"recommended-text\">89% Recommend</span> </span> </div> <div class=\"rest-row-pricing\"><i>  $    $      </i>   $    $      </div> </div><div class=\"rest-row-meta rest-row-meta-grid flex-row-justify\"> <span class=\"rest-row-meta--cuisine rest-row-meta-text\">American</span> <span class=\"rest-row-meta--location rest-row-meta-text\">Georgetown</span></div> <div class=\"message-alerts\"> <div class=\"notice-timeslot\"><span class=\"clock-icon\"></span> <span>Hurry, we only have 4 timeslots left!</span></div> </div> <div class=\"rest-row-times-cont\"><div class=\"rest-row-times\"> <div class=\"timeslot-window\"><ul class=\"availability-row-container\"> <li class=\"timeslot-option timeslot-control\"> <a class=\"rest-row-times-btn timeslot\" data-covers=\"2\" data-datetime=\"2017-09-30 18:30\" data-name=\"Pinstripes - Georgetown\" data-rid=\"166774\" href=\"/book/validate?rid=166774&amp;d=2017-09-30 18:30&amp;p=2&amp;pt=100&amp;ss=0&amp;sd=2017-09-30 18:30&amp;pofids=&amp;hash=2331306847\" onclick=\"OT.BestAnalytics.logRestaurantVisit(166774, '18:30')\"> 6:30 pm  </a> </li> <li class=\"timeslot-option timeslot-control\"> <a class=\"rest-row-times-btn timeslot\" data-covers=\"2\" data-datetime=\"2017-09-30 18:45\" data-name=\"Pinstripes - Georgetown\" data-rid=\"166774\" href=\"/book/validate?rid=166774&amp;d=2017-09-30 18:45&amp;p=2&amp;pt=100&amp;ss=0&amp;sd=2017-09-30 18:45&amp;pofids=&amp;hash=761506399\" onclick=\"OT.BestAnalytics.logRestaurantVisit(166774, '18:45')\"> 6:45 pm  </a> </li> <li class=\"timeslot-option\"> <a class=\"rest-row-times-btn exact unavailable\" data-offers=\"\">\\xa0 </a> </li> <li class=\"timeslot-option timeslot-control\"> <a class=\"rest-row-times-btn timeslot\" data-covers=\"2\" data-datetime=\"2017-09-30 19:15\" data-name=\"Pinstripes - Georgetown\" data-rid=\"166774\" href=\"/book/validate?rid=166774&amp;d=2017-09-30 19:15&amp;p=2&amp;pt=100&amp;ss=0&amp;sd=2017-09-30 19:15&amp;pofids=&amp;hash=1668041650\" onclick=\"OT.BestAnalytics.logRestaurantVisit(166774, '19:15')\"> 7:15 pm  </a> </li> <li class=\"timeslot-option timeslot-control\"> <a class=\"rest-row-times-btn timeslot\" data-covers=\"2\" data-datetime=\"2017-09-30 19:30\" data-name=\"Pinstripes - Georgetown\" data-rid=\"166774\" href=\"/book/validate?rid=166774&amp;d=2017-09-30 19:30&amp;p=2&amp;pt=100&amp;ss=0&amp;sd=2017-09-30 19:30&amp;pofids=&amp;hash=333006476\" onclick=\"OT.BestAnalytics.logRestaurantVisit(166774, '19:30')\"> 7:30 pm  </a> </li> </ul></div> </div></div> </div></div> </div>,\n",
       " <div class=\"result content-section-list-row cf with-times\" data-id=\"55\" data-index=\"56\" data-lat=\"38.9628020\" data-lon=\"-77.0866320\" data-offers=\"\" data-rid=\"14542\"><div class=\"rest-row with-image\"> <div class=\"rest-row-image\"> <a href=\"/sushi-ko-chevy-chase\" onclick=\"OT.BestAnalytics.logRestaurantVisit(14542)\" target=\"_blank\"><img alt=\"photo of sushiko - chevy chase restaurant\" class=\"lazy rest-image\" data-src=\"//resizer.otstatic.com/v2/profiles/legacy/14542.jpg\" src=\"//media.otstatic.com/search-result-node/images/no-image.png\"/></a></div> <div class=\"rest-row-info\"><div class=\"rest-row-header\"> <a class=\"rest-row-name rest-name \" href=\"/sushi-ko-chevy-chase\" onclick=\"OT.BestAnalytics.logRestaurantVisit(14542)\" target=\"_blank\"> <span class=\"rest-row-name-text\">Sushiko - Chevy Chase</span> </a> </div> <div class=\" flex-row-justify\"> <div class=\"rest-row-review\"> <div class=\"star-rating review-container\"><div class=\"star-wrapper small\"><div class=\"all-stars\"></div><div class=\"all-stars filled\" style=\"width: 92%;\"></div></div> <a class=\"review-link\" href=\"/sushi-ko-chevy-chase#reviews\" target=\"_blank\"> <span class=\"star-rating-text underline-hover\">(1220)</span> <span class=\"star-rating-text--review-text underline-hover\">1220 reviews</span> </a></div> <span class=\"recommended-container\"><span class=\"thumbs-up-icon\"></span> <span class=\"recommended-small\">94%</span> <span class=\"recommended-text\">94% Recommend</span> </span> </div> <div class=\"rest-row-pricing\"><i>  $    $    $    $  </i> </div> </div><div class=\"rest-row-meta rest-row-meta-grid flex-row-justify\"> <span class=\"rest-row-meta--cuisine rest-row-meta-text\">Sushi</span> <span class=\"rest-row-meta--location rest-row-meta-text\">Bethesda / Chevy Chase</span></div> <div class=\"message-alerts\"> </div> <div class=\"rest-row-times-cont\"><div class=\"rest-row-times\"> <div class=\"timeslot-window\"><ul class=\"availability-row-container\"> <li class=\"timeslot-option timeslot-control\"> <a class=\"rest-row-times-btn timeslot\" data-covers=\"2\" data-datetime=\"2017-09-30 18:30\" data-name=\"Sushiko - Chevy Chase\" data-rid=\"14542\" href=\"/book/validate?rid=14542&amp;d=2017-09-30 18:30&amp;p=2&amp;pt=100&amp;ss=0&amp;sd=2017-09-30 18:30&amp;pofids=&amp;hash=1929370716\" onclick=\"OT.BestAnalytics.logRestaurantVisit(14542, '18:30')\"> 6:30 pm  </a> </li> <li class=\"timeslot-option timeslot-control\"> <a class=\"rest-row-times-btn timeslot\" data-covers=\"2\" data-datetime=\"2017-09-30 18:45\" data-name=\"Sushiko - Chevy Chase\" data-rid=\"14542\" href=\"/book/validate?rid=14542&amp;d=2017-09-30 18:45&amp;p=2&amp;pt=100&amp;ss=0&amp;sd=2017-09-30 18:45&amp;pofids=&amp;hash=2690551909\" onclick=\"OT.BestAnalytics.logRestaurantVisit(14542, '18:45')\"> 6:45 pm  </a> </li> <li class=\"timeslot-option timeslot-control\"> <a class=\"rest-row-times-btn exact timeslot\" data-covers=\"2\" data-datetime=\"2017-09-30 19:00\" data-name=\"Sushiko - Chevy Chase\" data-rid=\"14542\" href=\"/book/validate?rid=14542&amp;d=2017-09-30 19:00&amp;p=2&amp;pt=100&amp;ss=0&amp;sd=2017-09-30 19:00&amp;pofids=&amp;hash=1541651793\" onclick=\"OT.BestAnalytics.logRestaurantVisit(14542, '19:00')\"> 7:00 pm  </a> </li> <li class=\"timeslot-option timeslot-control\"> <a class=\"rest-row-times-btn timeslot\" data-covers=\"2\" data-datetime=\"2017-09-30 19:15\" data-name=\"Sushiko - Chevy Chase\" data-rid=\"14542\" href=\"/book/validate?rid=14542&amp;d=2017-09-30 19:15&amp;p=2&amp;pt=100&amp;ss=0&amp;sd=2017-09-30 19:15&amp;pofids=&amp;hash=2512126730\" onclick=\"OT.BestAnalytics.logRestaurantVisit(14542, '19:15')\"> 7:15 pm  </a> </li> <li class=\"timeslot-option timeslot-control\"> <a class=\"rest-row-times-btn timeslot\" data-covers=\"2\" data-datetime=\"2017-09-30 20:15\" data-name=\"Sushiko - Chevy Chase\" data-rid=\"14542\" href=\"/book/validate?rid=14542&amp;d=2017-09-30 20:15&amp;p=2&amp;pt=100&amp;ss=0&amp;sd=2017-09-30 20:15&amp;pofids=&amp;hash=2541896241\" onclick=\"OT.BestAnalytics.logRestaurantVisit(14542, '20:15')\"> 8:15 pm  </a> </li> </ul></div> </div></div> </div></div> </div>,\n",
       " <div class=\"result content-section-list-row cf with-times\" data-id=\"56\" data-index=\"57\" data-lat=\"38.9054340\" data-lon=\"-77.0445710\" data-offers=\"\" data-rid=\"347842\"><div class=\"rest-row with-image\"> <div class=\"rest-row-image\"> <a href=\"/r/honeysuckle-washington\" onclick=\"OT.BestAnalytics.logRestaurantVisit(347842)\" target=\"_blank\"><img alt=\"photo of honeysuckle restaurant\" class=\"lazy rest-image\" data-src=\"//resizer.otstatic.com/v2/profiles/legacy/347842.jpg\" src=\"//media.otstatic.com/search-result-node/images/no-image.png\"/></a></div> <div class=\"rest-row-info\"><div class=\"rest-row-header\"> <a class=\"rest-row-name rest-name \" href=\"/r/honeysuckle-washington\" onclick=\"OT.BestAnalytics.logRestaurantVisit(347842)\" target=\"_blank\"> <span class=\"rest-row-name-text\">Honeysuckle</span> </a> </div> <div class=\" flex-row-justify\"> <div class=\"rest-row-review\"> <div class=\"star-rating review-container\"><div class=\"star-wrapper small\"><div class=\"all-stars\"></div><div class=\"all-stars filled\" style=\"width: 88%;\"></div></div> <a class=\"review-link\" href=\"/r/honeysuckle-washington#reviews\" target=\"_blank\"> <span class=\"star-rating-text underline-hover\">(160)</span> <span class=\"star-rating-text--review-text underline-hover\">160 reviews</span> </a></div> <span class=\"recommended-container\"><span class=\"thumbs-up-icon\"></span> <span class=\"recommended-small\">89%</span> <span class=\"recommended-text\">89% Recommend</span> </span> </div> <div class=\"rest-row-pricing\"><i>  $    $    $    </i>   $        </div> </div><div class=\"rest-row-meta rest-row-meta-grid flex-row-justify\"> <span class=\"rest-row-meta--cuisine rest-row-meta-text\">Contemporary American</span> <span class=\"rest-row-meta--location rest-row-meta-text\">Downtown</span></div> <div class=\"message-alerts\"> <div class=\"notice-timeslot\"><span class=\"clock-icon\"></span> <span>Hurry, we only have 4 timeslots left!</span></div> </div> <div class=\"rest-row-times-cont\"><div class=\"rest-row-times\"> <div class=\"timeslot-window\"><ul class=\"availability-row-container\"> <li class=\"timeslot-option timeslot-control\"> <a class=\"rest-row-times-btn timeslot\" data-covers=\"2\" data-datetime=\"2017-09-30 18:30\" data-name=\"Honeysuckle\" data-rid=\"347842\" href=\"/book/validate?rid=347842&amp;d=2017-09-30 18:30&amp;p=2&amp;pt=100&amp;ss=0&amp;sd=2017-09-30 18:30&amp;pofids=&amp;hash=198607448\" onclick=\"OT.BestAnalytics.logRestaurantVisit(347842, '18:30')\"> 6:30 pm  </a> </li> <li class=\"timeslot-option timeslot-control\"> <a class=\"rest-row-times-btn timeslot\" data-covers=\"2\" data-datetime=\"2017-09-30 18:45\" data-name=\"Honeysuckle\" data-rid=\"347842\" href=\"/book/validate?rid=347842&amp;d=2017-09-30 18:45&amp;p=2&amp;pt=100&amp;ss=0&amp;sd=2017-09-30 18:45&amp;pofids=&amp;hash=2736284828\" onclick=\"OT.BestAnalytics.logRestaurantVisit(347842, '18:45')\"> 6:45 pm  </a> </li> <li class=\"timeslot-option\"> <a class=\"rest-row-times-btn exact unavailable\" data-offers=\"\">\\xa0 </a> </li> <li class=\"timeslot-option timeslot-control\"> <a class=\"rest-row-times-btn timeslot\" data-covers=\"2\" data-datetime=\"2017-09-30 19:30\" data-name=\"Honeysuckle\" data-rid=\"347842\" href=\"/book/validate?rid=347842&amp;d=2017-09-30 19:30&amp;p=2&amp;pt=100&amp;ss=0&amp;sd=2017-09-30 19:30&amp;pofids=&amp;hash=758988978\" onclick=\"OT.BestAnalytics.logRestaurantVisit(347842, '19:30')\"> 7:30 pm  </a> </li> <li class=\"timeslot-option timeslot-control\"> <a class=\"rest-row-times-btn timeslot\" data-covers=\"2\" data-datetime=\"2017-09-30 19:45\" data-name=\"Honeysuckle\" data-rid=\"347842\" href=\"/book/validate?rid=347842&amp;d=2017-09-30 19:45&amp;p=2&amp;pt=100&amp;ss=0&amp;sd=2017-09-30 19:45&amp;pofids=&amp;hash=1782065827\" onclick=\"OT.BestAnalytics.logRestaurantVisit(347842, '19:45')\"> 7:45 pm  </a> </li> </ul></div> </div></div> </div></div> </div>,\n",
       " <div class=\"result content-section-list-row cf with-times\" data-id=\"57\" data-index=\"58\" data-lat=\"38.8840560\" data-lon=\"-77.1171140\" data-offers=\"\" data-rid=\"162433\"><div class=\"rest-row with-image\"> <div class=\"rest-row-image\"> <a href=\"/ser\" onclick=\"OT.BestAnalytics.logRestaurantVisit(162433)\" target=\"_blank\"><img alt=\"photo of ser restaurant\" class=\"lazy rest-image\" data-src=\"//resizer.otstatic.com/v2/profiles/legacy/162433.jpg\" src=\"//media.otstatic.com/search-result-node/images/no-image.png\"/></a></div> <div class=\"rest-row-info\"><div class=\"rest-row-header\"> <a class=\"rest-row-name rest-name \" href=\"/ser\" onclick=\"OT.BestAnalytics.logRestaurantVisit(162433)\" target=\"_blank\"> <span class=\"rest-row-name-text\">SER</span> </a> </div> <div class=\" flex-row-justify\"> <div class=\"rest-row-review\"> <div class=\"star-rating review-container\"><div class=\"star-wrapper small\"><div class=\"all-stars\"></div><div class=\"all-stars filled\" style=\"width: 90%;\"></div></div> <a class=\"review-link\" href=\"/ser#reviews\" target=\"_blank\"> <span class=\"star-rating-text underline-hover\">(547)</span> <span class=\"star-rating-text--review-text underline-hover\">547 reviews</span> </a></div> <span class=\"recommended-container\"><span class=\"thumbs-up-icon\"></span> <span class=\"recommended-small\">88%</span> <span class=\"recommended-text\">88% Recommend</span> </span> </div> <div class=\"rest-row-pricing\"><i>  $    $      </i>   $    $      </div> </div><div class=\"rest-row-meta rest-row-meta-grid flex-row-justify\"> <span class=\"rest-row-meta--cuisine rest-row-meta-text\">Spanish</span> <span class=\"rest-row-meta--location rest-row-meta-text\">Arlington</span></div> <div class=\"message-alerts\"> </div> <div class=\"rest-row-times-cont\"><div class=\"rest-row-times\"> <div class=\"timeslot-window\"><ul class=\"availability-row-container\"> <li class=\"timeslot-option timeslot-control\"> <a class=\"rest-row-times-btn timeslot\" data-covers=\"2\" data-datetime=\"2017-09-30 18:30\" data-href=\"/book/validate?rid=162433&amp;d=2017-09-30 18:30&amp;p=2&amp;pt=100&amp;ss=0&amp;sd=2017-09-30 18:30&amp;pofids=&amp;hash=1571481389\" data-name=\"SER\" data-rid=\"162433\" data-table-categories=\"default,counter\" data-table-categories-tooltip-title=\"Table Types\"> 6:30 pm* <div class=\"js-table-categories-tooltip table-categories-tooltip\"><div class=\"table-categories-tooltip-arrow\"></div><div class=\"table-categories-tooltip-container\"><h5 class=\"upcase-style\">Table types</h5> <div>Standard</div> <div>Counter</div> </div></div> </a> </li> <li class=\"timeslot-option timeslot-control\"> <a class=\"rest-row-times-btn timeslot\" data-covers=\"2\" data-datetime=\"2017-09-30 18:45\" data-href=\"/book/validate?rid=162433&amp;d=2017-09-30 18:45&amp;p=2&amp;pt=100&amp;ss=0&amp;sd=2017-09-30 18:45&amp;pofids=&amp;hash=3812755972\" data-name=\"SER\" data-rid=\"162433\" data-table-categories=\"default,counter\" data-table-categories-tooltip-title=\"Table Types\"> 6:45 pm* <div class=\"js-table-categories-tooltip table-categories-tooltip\"><div class=\"table-categories-tooltip-arrow\"></div><div class=\"table-categories-tooltip-container\"><h5 class=\"upcase-style\">Table types</h5> <div>Standard</div> <div>Counter</div> </div></div> </a> </li> <li class=\"timeslot-option timeslot-control\"> <a class=\"rest-row-times-btn exact timeslot\" data-covers=\"2\" data-datetime=\"2017-09-30 19:00\" data-href=\"/book/validate?rid=162433&amp;d=2017-09-30 19:00&amp;p=2&amp;pt=100&amp;ss=0&amp;sd=2017-09-30 19:00&amp;pofids=&amp;hash=2701117563\" data-name=\"SER\" data-rid=\"162433\" data-table-categories=\"default,counter\" data-table-categories-tooltip-title=\"Table Types\"> 7:00 pm* <div class=\"js-table-categories-tooltip table-categories-tooltip\"><div class=\"table-categories-tooltip-arrow\"></div><div class=\"table-categories-tooltip-container\"><h5 class=\"upcase-style\">Table types</h5> <div>Standard</div> <div>Counter</div> </div></div> </a> </li> <li class=\"timeslot-option timeslot-control\"> <a class=\"rest-row-times-btn timeslot\" data-covers=\"2\" data-datetime=\"2017-09-30 19:15\" data-href=\"/book/validate?rid=162433&amp;d=2017-09-30 19:15&amp;p=2&amp;pt=100&amp;ss=0&amp;sd=2017-09-30 19:15&amp;pofids=&amp;hash=1087043300\" data-name=\"SER\" data-rid=\"162433\" data-table-categories=\"default,counter\" data-table-categories-tooltip-title=\"Table Types\"> 7:15 pm* <div class=\"js-table-categories-tooltip table-categories-tooltip\"><div class=\"table-categories-tooltip-arrow\"></div><div class=\"table-categories-tooltip-container\"><h5 class=\"upcase-style\">Table types</h5> <div>Standard</div> <div>Counter</div> </div></div> </a> </li> <li class=\"timeslot-option timeslot-control\"> <a class=\"rest-row-times-btn timeslot\" data-covers=\"2\" data-datetime=\"2017-09-30 19:45\" data-href=\"/book/validate?rid=162433&amp;d=2017-09-30 19:45&amp;p=2&amp;pt=100&amp;ss=0&amp;sd=2017-09-30 19:45&amp;pofids=&amp;hash=256399735\" data-name=\"SER\" data-rid=\"162433\" data-table-categories=\"default,counter\" data-table-categories-tooltip-title=\"Table Types\"> 7:45 pm* <div class=\"js-table-categories-tooltip table-categories-tooltip\"><div class=\"table-categories-tooltip-arrow\"></div><div class=\"table-categories-tooltip-container\"><h5 class=\"upcase-style\">Table types</h5> <div>Standard</div> <div>Counter</div> </div></div> </a> </li> </ul></div> </div></div> </div></div> </div>,\n",
       " <div class=\"result content-section-list-row cf with-times\" data-id=\"58\" data-index=\"59\" data-lat=\"38.9061070\" data-lon=\"-77.0439130\" data-offers=\"\" data-rid=\"105592\"><div class=\"rest-row with-image\"> <div class=\"rest-row-image\"> <a href=\"/teddy-and-the-bully-bar\" onclick=\"OT.BestAnalytics.logRestaurantVisit(105592)\" target=\"_blank\"><img alt=\"photo of teddy &amp; the bully bar restaurant\" class=\"lazy rest-image\" data-src=\"//resizer.otstatic.com/v2/profiles/legacy/105592.jpg\" src=\"//media.otstatic.com/search-result-node/images/no-image.png\"/></a></div> <div class=\"rest-row-info\"><div class=\"rest-row-header\"> <a class=\"rest-row-name rest-name \" href=\"/teddy-and-the-bully-bar\" onclick=\"OT.BestAnalytics.logRestaurantVisit(105592)\" target=\"_blank\"> <span class=\"rest-row-name-text\">Teddy &amp; The Bully Bar</span> </a> </div> <div class=\" flex-row-justify\"> <div class=\"rest-row-review\"> <div class=\"star-rating review-container\"><div class=\"star-wrapper small\"><div class=\"all-stars\"></div><div class=\"all-stars filled\" style=\"width: 88%;\"></div></div> <a class=\"review-link\" href=\"/teddy-and-the-bully-bar#reviews\" target=\"_blank\"> <span class=\"star-rating-text underline-hover\">(886)</span> <span class=\"star-rating-text--review-text underline-hover\">886 reviews</span> </a></div> <span class=\"recommended-container\"><span class=\"thumbs-up-icon\"></span> <span class=\"recommended-small\">90%</span> <span class=\"recommended-text\">90% Recommend</span> </span> </div> <div class=\"rest-row-pricing\"><i>  $    $    $    </i>   $        </div> </div><div class=\"rest-row-meta rest-row-meta-grid flex-row-justify\"> <span class=\"rest-row-meta--cuisine rest-row-meta-text\">American</span> <span class=\"rest-row-meta--location rest-row-meta-text\">Dupont Circle</span></div> <div class=\"message-alerts\"> </div> <div class=\"rest-row-times-cont\"><div class=\"rest-row-times\"> <div class=\"timeslot-window\"><ul class=\"availability-row-container\"> <li class=\"timeslot-option timeslot-control\"> <a class=\"rest-row-times-btn timeslot\" data-covers=\"2\" data-datetime=\"2017-09-30 18:30\" data-name=\"Teddy &amp; The Bully Bar\" data-rid=\"105592\" href=\"/book/validate?rid=105592&amp;d=2017-09-30 18:30&amp;p=2&amp;pt=100&amp;ss=0&amp;sd=2017-09-30 18:30&amp;pofids=&amp;hash=4258354626\" onclick=\"OT.BestAnalytics.logRestaurantVisit(105592, '18:30')\"> 6:30 pm  </a> </li> <li class=\"timeslot-option timeslot-control\"> <a class=\"rest-row-times-btn timeslot\" data-covers=\"2\" data-datetime=\"2017-09-30 18:45\" data-name=\"Teddy &amp; The Bully Bar\" data-rid=\"105592\" href=\"/book/validate?rid=105592&amp;d=2017-09-30 18:45&amp;p=2&amp;pt=100&amp;ss=0&amp;sd=2017-09-30 18:45&amp;pofids=&amp;hash=4088435188\" onclick=\"OT.BestAnalytics.logRestaurantVisit(105592, '18:45')\"> 6:45 pm  </a> </li> <li class=\"timeslot-option timeslot-control\"> <a class=\"rest-row-times-btn exact timeslot\" data-covers=\"2\" data-datetime=\"2017-09-30 19:00\" data-name=\"Teddy &amp; The Bully Bar\" data-rid=\"105592\" href=\"/book/validate?rid=105592&amp;d=2017-09-30 19:00&amp;p=2&amp;pt=100&amp;ss=0&amp;sd=2017-09-30 19:00&amp;pofids=&amp;hash=453311486\" onclick=\"OT.BestAnalytics.logRestaurantVisit(105592, '19:00')\"> 7:00 pm  </a> </li> <li class=\"timeslot-option timeslot-control\"> <a class=\"rest-row-times-btn timeslot\" data-covers=\"2\" data-datetime=\"2017-09-30 19:15\" data-name=\"Teddy &amp; The Bully Bar\" data-rid=\"105592\" href=\"/book/validate?rid=105592&amp;d=2017-09-30 19:15&amp;p=2&amp;pt=100&amp;ss=0&amp;sd=2017-09-30 19:15&amp;pofids=&amp;hash=1903805697\" onclick=\"OT.BestAnalytics.logRestaurantVisit(105592, '19:15')\"> 7:15 pm  </a> </li> <li class=\"timeslot-option timeslot-control\"> <a class=\"rest-row-times-btn timeslot\" data-covers=\"2\" data-datetime=\"2017-09-30 19:30\" data-name=\"Teddy &amp; The Bully Bar\" data-rid=\"105592\" href=\"/book/validate?rid=105592&amp;d=2017-09-30 19:30&amp;p=2&amp;pt=100&amp;ss=0&amp;sd=2017-09-30 19:30&amp;pofids=&amp;hash=2553511549\" onclick=\"OT.BestAnalytics.logRestaurantVisit(105592, '19:30')\"> 7:30 pm  </a> </li> </ul></div> </div></div> </div></div> </div>,\n",
       " <div class=\"result content-section-list-row cf with-times\" data-id=\"59\" data-index=\"60\" data-lat=\"38.8993840\" data-lon=\"-77.0557910\" data-offers=\"\" data-rid=\"210616\"><div class=\"rest-row with-image\"> <div class=\"rest-row-image\"> <a href=\"/kingbird-at-the-watergate-hotel\" onclick=\"OT.BestAnalytics.logRestaurantVisit(210616)\" target=\"_blank\"><img alt=\"photo of kingbird at the watergate hotel restaurant\" class=\"lazy rest-image\" data-src=\"//resizer.otstatic.com/v2/profiles/legacy/210616.jpg\" src=\"//media.otstatic.com/search-result-node/images/no-image.png\"/></a></div> <div class=\"rest-row-info\"><div class=\"rest-row-header\"> <a class=\"rest-row-name rest-name \" href=\"/kingbird-at-the-watergate-hotel\" onclick=\"OT.BestAnalytics.logRestaurantVisit(210616)\" target=\"_blank\"> <span class=\"rest-row-name-text\">Kingbird at The Watergate Hotel</span> </a> </div> <div class=\" flex-row-justify\"> <div class=\"rest-row-review\"> <div class=\"star-rating review-container\"><div class=\"star-wrapper small\"><div class=\"all-stars\"></div><div class=\"all-stars filled\" style=\"width: 86%;\"></div></div> <a class=\"review-link\" href=\"/kingbird-at-the-watergate-hotel#reviews\" target=\"_blank\"> <span class=\"star-rating-text underline-hover\">(588)</span> <span class=\"star-rating-text--review-text underline-hover\">588 reviews</span> </a></div> <span class=\"recommended-container\"><span class=\"thumbs-up-icon\"></span> <span class=\"recommended-small\">82%</span> <span class=\"recommended-text\">82% Recommend</span> </span> </div> <div class=\"rest-row-pricing\"><i>  $    $      </i>   $    $      </div> </div><div class=\"rest-row-meta rest-row-meta-grid flex-row-justify\"> <span class=\"rest-row-meta--cuisine rest-row-meta-text\">Contemporary French / American</span> <span class=\"rest-row-meta--location rest-row-meta-text\">Foggy Bottom</span></div> <div class=\"message-alerts\"> </div> <div class=\"rest-row-times-cont\"><div class=\"rest-row-times\"> <div class=\"timeslot-window\"><ul class=\"availability-row-container\"> <li class=\"timeslot-option timeslot-control\"> <a class=\"rest-row-times-btn timeslot\" data-covers=\"2\" data-datetime=\"2017-09-30 18:30\" data-name=\"Kingbird at The Watergate Hotel\" data-rid=\"210616\" href=\"/book/validate?rid=210616&amp;d=2017-09-30 18:30&amp;p=2&amp;pt=100&amp;ss=0&amp;sd=2017-09-30 18:30&amp;pofids=&amp;hash=3240105136\" onclick=\"OT.BestAnalytics.logRestaurantVisit(210616, '18:30')\"> 6:30 pm  </a> </li> <li class=\"timeslot-option timeslot-control\"> <a class=\"rest-row-times-btn timeslot\" data-covers=\"2\" data-datetime=\"2017-09-30 18:45\" data-name=\"Kingbird at The Watergate Hotel\" data-rid=\"210616\" href=\"/book/validate?rid=210616&amp;d=2017-09-30 18:45&amp;p=2&amp;pt=100&amp;ss=0&amp;sd=2017-09-30 18:45&amp;pofids=&amp;hash=4222927052\" onclick=\"OT.BestAnalytics.logRestaurantVisit(210616, '18:45')\"> 6:45 pm  </a> </li> <li class=\"timeslot-option timeslot-control\"> <a class=\"rest-row-times-btn exact timeslot\" data-covers=\"2\" data-datetime=\"2017-09-30 19:00\" data-name=\"Kingbird at The Watergate Hotel\" data-rid=\"210616\" href=\"/book/validate?rid=210616&amp;d=2017-09-30 19:00&amp;p=2&amp;pt=100&amp;ss=0&amp;sd=2017-09-30 19:00&amp;pofids=&amp;hash=4054919574\" onclick=\"OT.BestAnalytics.logRestaurantVisit(210616, '19:00')\"> 7:00 pm  </a> </li> <li class=\"timeslot-option timeslot-control\"> <a class=\"rest-row-times-btn timeslot\" data-covers=\"2\" data-datetime=\"2017-09-30 19:30\" data-name=\"Kingbird at The Watergate Hotel\" data-rid=\"210616\" href=\"/book/validate?rid=210616&amp;d=2017-09-30 19:30&amp;p=2&amp;pt=100&amp;ss=0&amp;sd=2017-09-30 19:30&amp;pofids=&amp;hash=2542433839\" onclick=\"OT.BestAnalytics.logRestaurantVisit(210616, '19:30')\"> 7:30 pm  </a> </li> <li class=\"timeslot-option timeslot-control\"> <a class=\"rest-row-times-btn timeslot\" data-covers=\"2\" data-datetime=\"2017-09-30 19:45\" data-name=\"Kingbird at The Watergate Hotel\" data-rid=\"210616\" href=\"/book/validate?rid=210616&amp;d=2017-09-30 19:45&amp;p=2&amp;pt=100&amp;ss=0&amp;sd=2017-09-30 19:45&amp;pofids=&amp;hash=1657130258\" onclick=\"OT.BestAnalytics.logRestaurantVisit(210616, '19:45')\"> 7:45 pm  </a> </li> </ul></div> </div></div> </div></div> </div>,\n",
       " <div class=\"result content-section-list-row cf with-times\" data-id=\"60\" data-index=\"61\" data-lat=\"38.9056730\" data-lon=\"-77.0632430\" data-offers=\"\" data-rid=\"112882\"><div class=\"rest-row with-image\"> <div class=\"rest-row-image\"> <a href=\"/el-centro-df-georgetown\" onclick=\"OT.BestAnalytics.logRestaurantVisit(112882)\" target=\"_blank\"><img alt=\"photo of el centro d.f. - georgetown restaurant\" class=\"lazy rest-image\" data-src=\"//resizer.otstatic.com/v2/profiles/legacy/112882.jpg\" src=\"//media.otstatic.com/search-result-node/images/no-image.png\"/></a></div> <div class=\"rest-row-info\"><div class=\"rest-row-header\"> <a class=\"rest-row-name rest-name \" href=\"/el-centro-df-georgetown\" onclick=\"OT.BestAnalytics.logRestaurantVisit(112882)\" target=\"_blank\"> <span class=\"rest-row-name-text\">El Centro D.F. - Georgetown</span> </a> </div> <div class=\" flex-row-justify\"> <div class=\"rest-row-review\"> <div class=\"star-rating review-container\"><div class=\"star-wrapper small\"><div class=\"all-stars\"></div><div class=\"all-stars filled\" style=\"width: 84%;\"></div></div> <a class=\"review-link\" href=\"/el-centro-df-georgetown#reviews\" target=\"_blank\"> <span class=\"star-rating-text underline-hover\">(702)</span> <span class=\"star-rating-text--review-text underline-hover\">702 reviews</span> </a></div> <span class=\"recommended-container\"><span class=\"thumbs-up-icon\"></span> <span class=\"recommended-small\">72%</span> <span class=\"recommended-text\">72% Recommend</span> </span> </div> <div class=\"rest-row-pricing\"><i>  $    $      </i>   $    $      </div> </div><div class=\"rest-row-meta rest-row-meta-grid flex-row-justify\"> <span class=\"rest-row-meta--cuisine rest-row-meta-text\">Contemporary Mexican</span> <span class=\"rest-row-meta--location rest-row-meta-text\">Georgetown</span></div> <div class=\"message-alerts\"> <div class=\"notice-timeslot\"><span class=\"clock-icon\"></span> <span>Hurry, we only have 4 timeslots left!</span></div> </div> <div class=\"rest-row-times-cont\"><div class=\"rest-row-times\"> <div class=\"timeslot-window\"><ul class=\"availability-row-container\"> <li class=\"timeslot-option timeslot-control\"> <a class=\"rest-row-times-btn timeslot\" data-covers=\"2\" data-datetime=\"2017-09-30 18:30\" data-name=\"El Centro D.F. - Georgetown\" data-rid=\"112882\" href=\"/book/validate?rid=112882&amp;d=2017-09-30 18:30&amp;p=2&amp;pt=100&amp;ss=0&amp;sd=2017-09-30 18:30&amp;pofids=&amp;hash=1276576301\" onclick=\"OT.BestAnalytics.logRestaurantVisit(112882, '18:30')\"> 6:30 pm  </a> </li> <li class=\"timeslot-option timeslot-control\"> <a class=\"rest-row-times-btn timeslot\" data-covers=\"2\" data-datetime=\"2017-09-30 18:45\" data-name=\"El Centro D.F. - Georgetown\" data-rid=\"112882\" href=\"/book/validate?rid=112882&amp;d=2017-09-30 18:45&amp;p=2&amp;pt=100&amp;ss=0&amp;sd=2017-09-30 18:45&amp;pofids=&amp;hash=3355154453\" onclick=\"OT.BestAnalytics.logRestaurantVisit(112882, '18:45')\"> 6:45 pm  </a> </li> <li class=\"timeslot-option\"> <a class=\"rest-row-times-btn exact unavailable\" data-offers=\"\">\\xa0 </a> </li> <li class=\"timeslot-option timeslot-control\"> <a class=\"rest-row-times-btn timeslot\" data-covers=\"2\" data-datetime=\"2017-09-30 19:15\" data-name=\"El Centro D.F. - Georgetown\" data-rid=\"112882\" href=\"/book/validate?rid=112882&amp;d=2017-09-30 19:15&amp;p=2&amp;pt=100&amp;ss=0&amp;sd=2017-09-30 19:15&amp;pofids=&amp;hash=1442272315\" onclick=\"OT.BestAnalytics.logRestaurantVisit(112882, '19:15')\"> 7:15 pm  </a> </li> <li class=\"timeslot-option timeslot-control\"> <a class=\"rest-row-times-btn timeslot\" data-covers=\"2\" data-datetime=\"2017-09-30 19:30\" data-name=\"El Centro D.F. - Georgetown\" data-rid=\"112882\" href=\"/book/validate?rid=112882&amp;d=2017-09-30 19:30&amp;p=2&amp;pt=100&amp;ss=0&amp;sd=2017-09-30 19:30&amp;pofids=&amp;hash=3597315657\" onclick=\"OT.BestAnalytics.logRestaurantVisit(112882, '19:30')\"> 7:30 pm  </a> </li> </ul></div> </div></div> </div></div> </div>,\n",
       " <div class=\"result content-section-list-row cf with-times\" data-id=\"61\" data-index=\"62\" data-lat=\"38.9060750\" data-lon=\"-77.0704750\" data-offers=\"\" data-rid=\"845\"><div class=\"rest-row with-image\"> <div class=\"rest-row-image\"> <a href=\"/1789-restaurant\" onclick=\"OT.BestAnalytics.logRestaurantVisit(845)\" target=\"_blank\"><img alt=\"photo of 1789 restaurant restaurant\" class=\"lazy rest-image\" data-src=\"//resizer.otstatic.com/v2/profiles/legacy/845.jpg\" src=\"//media.otstatic.com/search-result-node/images/no-image.png\"/></a></div> <div class=\"rest-row-info\"><div class=\"rest-row-header\"> <a class=\"rest-row-name rest-name \" href=\"/1789-restaurant\" onclick=\"OT.BestAnalytics.logRestaurantVisit(845)\" target=\"_blank\"> <span class=\"rest-row-name-text\">1789 Restaurant</span> </a> </div> <div class=\" flex-row-justify\"> <div class=\"rest-row-review\"> <div class=\"star-rating review-container\"><div class=\"star-wrapper small\"><div class=\"all-stars\"></div><div class=\"all-stars filled\" style=\"width: 92%;\"></div></div> <a class=\"review-link\" href=\"/1789-restaurant#reviews\" target=\"_blank\"> <span class=\"star-rating-text underline-hover\">(4670)</span> <span class=\"star-rating-text--review-text underline-hover\">4670 reviews</span> </a></div> <span class=\"recommended-container\"><span class=\"thumbs-up-icon\"></span> <span class=\"recommended-small\">89%</span> <span class=\"recommended-text\">89% Recommend</span> </span> </div> <div class=\"rest-row-pricing\"><i>  $    $    $    $  </i> </div> </div><div class=\"rest-row-meta rest-row-meta-grid flex-row-justify\"> <span class=\"rest-row-meta--cuisine rest-row-meta-text\">American</span> <span class=\"rest-row-meta--location rest-row-meta-text\">Georgetown</span></div> <div class=\"message-alerts\"> <div class=\"notice-timeslot\"><span class=\"clock-icon\"></span> <span>Hurry, we only have 4 timeslots left!</span></div> </div> <div class=\"rest-row-times-cont\"><div class=\"rest-row-times\"> <div class=\"timeslot-window\"><ul class=\"availability-row-container\"> <li class=\"timeslot-option timeslot-control\"> <a class=\"rest-row-times-btn timeslot\" data-covers=\"2\" data-datetime=\"2017-09-30 18:15\" data-name=\"1789 Restaurant\" data-rid=\"845\" href=\"/book/validate?rid=845&amp;d=2017-09-30 18:15&amp;p=2&amp;pt=100&amp;ss=0&amp;sd=2017-09-30 18:15&amp;pofids=&amp;hash=2501071808\" onclick=\"OT.BestAnalytics.logRestaurantVisit(845, '18:15')\"> 6:15 pm  </a> </li> <li class=\"timeslot-option timeslot-control\"> <a class=\"rest-row-times-btn timeslot\" data-covers=\"2\" data-datetime=\"2017-09-30 18:45\" data-name=\"1789 Restaurant\" data-rid=\"845\" href=\"/book/validate?rid=845&amp;d=2017-09-30 18:45&amp;p=2&amp;pt=100&amp;ss=0&amp;sd=2017-09-30 18:45&amp;pofids=&amp;hash=2314728888\" onclick=\"OT.BestAnalytics.logRestaurantVisit(845, '18:45')\"> 6:45 pm  </a> </li> <li class=\"timeslot-option\"> <a class=\"rest-row-times-btn exact unavailable\" data-offers=\"\">\\xa0 </a> </li> <li class=\"timeslot-option timeslot-control\"> <a class=\"rest-row-times-btn timeslot\" data-covers=\"2\" data-datetime=\"2017-09-30 19:15\" data-name=\"1789 Restaurant\" data-rid=\"845\" href=\"/book/validate?rid=845&amp;d=2017-09-30 19:15&amp;p=2&amp;pt=100&amp;ss=0&amp;sd=2017-09-30 19:15&amp;pofids=&amp;hash=3467424315\" onclick=\"OT.BestAnalytics.logRestaurantVisit(845, '19:15')\"> 7:15 pm  </a> </li> <li class=\"timeslot-option timeslot-control\"> <a class=\"rest-row-times-btn timeslot\" data-covers=\"2\" data-datetime=\"2017-09-30 20:15\" data-name=\"1789 Restaurant\" data-rid=\"845\" href=\"/book/validate?rid=845&amp;d=2017-09-30 20:15&amp;p=2&amp;pt=100&amp;ss=0&amp;sd=2017-09-30 20:15&amp;pofids=&amp;hash=233586252\" onclick=\"OT.BestAnalytics.logRestaurantVisit(845, '20:15')\"> 8:15 pm  </a> </li> </ul></div> </div></div> </div></div> </div>,\n",
       " <div class=\"result content-section-list-row cf with-times\" data-id=\"62\" data-index=\"63\" data-lat=\"38.8905980\" data-lon=\"-77.0870940\" data-offers=\"\" data-rid=\"158788\"><div class=\"rest-row with-image\"> <div class=\"rest-row-image\"> <a href=\"/rays-the-steaks\" onclick=\"OT.BestAnalytics.logRestaurantVisit(158788)\" target=\"_blank\"><img alt=\"photo of ray's the steaks restaurant\" class=\"lazy rest-image\" data-src=\"//resizer.otstatic.com/v2/profiles/legacy/158788.jpg\" src=\"//media.otstatic.com/search-result-node/images/no-image.png\"/></a></div> <div class=\"rest-row-info\"><div class=\"rest-row-header\"> <a class=\"rest-row-name rest-name \" href=\"/rays-the-steaks\" onclick=\"OT.BestAnalytics.logRestaurantVisit(158788)\" target=\"_blank\"> <span class=\"rest-row-name-text\">Ray's The Steaks</span> </a> </div> <div class=\" flex-row-justify\"> <div class=\"rest-row-review\"> <div class=\"star-rating review-container\"><div class=\"star-wrapper small\"><div class=\"all-stars\"></div><div class=\"all-stars filled\" style=\"width: 90%;\"></div></div> <a class=\"review-link\" href=\"/rays-the-steaks#reviews\" target=\"_blank\"> <span class=\"star-rating-text underline-hover\">(1160)</span> <span class=\"star-rating-text--review-text underline-hover\">1160 reviews</span> </a></div> <span class=\"recommended-container\"><span class=\"thumbs-up-icon\"></span> <span class=\"recommended-small\">91%</span> <span class=\"recommended-text\">91% Recommend</span> </span> </div> <div class=\"rest-row-pricing\"><i>  $    $      </i>   $    $      </div> </div><div class=\"rest-row-meta rest-row-meta-grid flex-row-justify\"> <span class=\"rest-row-meta--cuisine rest-row-meta-text\">Steakhouse</span> <span class=\"rest-row-meta--location rest-row-meta-text\">Arlington</span></div> <div class=\"message-alerts\"> <div class=\"notice-timeslot\"><span class=\"clock-icon\"></span> <span>Hurry, we only have 4 timeslots left!</span></div> </div> <div class=\"rest-row-times-cont\"><div class=\"rest-row-times\"> <div class=\"timeslot-window\"><ul class=\"availability-row-container\"> <li class=\"timeslot-option timeslot-control\"> <a class=\"rest-row-times-btn timeslot\" data-covers=\"2\" data-datetime=\"2017-09-30 17:30\" data-name=\"Ray's The Steaks\" data-rid=\"158788\" href=\"/book/validate?rid=158788&amp;d=2017-09-30 17:30&amp;p=2&amp;pt=100&amp;ss=0&amp;sd=2017-09-30 17:30&amp;pofids=&amp;hash=1390276393\" onclick=\"OT.BestAnalytics.logRestaurantVisit(158788, '17:30')\"> 5:30 pm  </a> </li> <li class=\"timeslot-option timeslot-control\"> <a class=\"rest-row-times-btn timeslot\" data-covers=\"2\" data-datetime=\"2017-09-30 18:00\" data-name=\"Ray's The Steaks\" data-rid=\"158788\" href=\"/book/validate?rid=158788&amp;d=2017-09-30 18:00&amp;p=2&amp;pt=100&amp;ss=0&amp;sd=2017-09-30 18:00&amp;pofids=&amp;hash=2112235784\" onclick=\"OT.BestAnalytics.logRestaurantVisit(158788, '18:00')\"> 6:00 pm  </a> </li> <li class=\"timeslot-option\"> <a class=\"rest-row-times-btn exact unavailable\" data-offers=\"\">\\xa0 </a> </li> <li class=\"timeslot-option timeslot-control\"> <a class=\"rest-row-times-btn timeslot\" data-covers=\"2\" data-datetime=\"2017-09-30 20:00\" data-name=\"Ray's The Steaks\" data-rid=\"158788\" href=\"/book/validate?rid=158788&amp;d=2017-09-30 20:00&amp;p=2&amp;pt=100&amp;ss=0&amp;sd=2017-09-30 20:00&amp;pofids=&amp;hash=4265370674\" onclick=\"OT.BestAnalytics.logRestaurantVisit(158788, '20:00')\"> 8:00 pm  </a> </li> <li class=\"timeslot-option timeslot-control\"> <a class=\"rest-row-times-btn timeslot\" data-covers=\"2\" data-datetime=\"2017-09-30 20:30\" data-name=\"Ray's The Steaks\" data-rid=\"158788\" href=\"/book/validate?rid=158788&amp;d=2017-09-30 20:30&amp;p=2&amp;pt=100&amp;ss=0&amp;sd=2017-09-30 20:30&amp;pofids=&amp;hash=2189493990\" onclick=\"OT.BestAnalytics.logRestaurantVisit(158788, '20:30')\"> 8:30 pm  </a> </li> </ul></div> </div></div> </div></div> </div>,\n",
       " <div class=\"result content-section-list-row cf with-times\" data-id=\"63\" data-index=\"64\" data-lat=\"38.8798690\" data-lon=\"-77.1075590\" data-offers=\"\" data-rid=\"159607\"><div class=\"rest-row with-image\"> <div class=\"rest-row-image\"> <a href=\"/kapnos-taverna\" onclick=\"OT.BestAnalytics.logRestaurantVisit(159607)\" target=\"_blank\"><img alt=\"photo of kapnos taverna arlington restaurant\" class=\"lazy rest-image\" data-src=\"//resizer.otstatic.com/v2/profiles/legacy/159607.jpg\" src=\"//media.otstatic.com/search-result-node/images/no-image.png\"/></a></div> <div class=\"rest-row-info\"><div class=\"rest-row-header\"> <a class=\"rest-row-name rest-name \" href=\"/kapnos-taverna\" onclick=\"OT.BestAnalytics.logRestaurantVisit(159607)\" target=\"_blank\"> <span class=\"rest-row-name-text\">Kapnos Taverna Arlington</span> </a> </div> <div class=\" flex-row-justify\"> <div class=\"rest-row-review\"> <div class=\"star-rating review-container\"><div class=\"star-wrapper small\"><div class=\"all-stars\"></div><div class=\"all-stars filled\" style=\"width: 90%;\"></div></div> <a class=\"review-link\" href=\"/kapnos-taverna#reviews\" target=\"_blank\"> <span class=\"star-rating-text underline-hover\">(956)</span> <span class=\"star-rating-text--review-text underline-hover\">956 reviews</span> </a></div> <span class=\"recommended-container\"><span class=\"thumbs-up-icon\"></span> <span class=\"recommended-small\">90%</span> <span class=\"recommended-text\">90% Recommend</span> </span> </div> <div class=\"rest-row-pricing\"><i>  $    $    $    </i>   $        </div> </div><div class=\"rest-row-meta rest-row-meta-grid flex-row-justify\"> <span class=\"rest-row-meta--cuisine rest-row-meta-text\">Greek</span> <span class=\"rest-row-meta--location rest-row-meta-text\">Arlington</span></div> <div class=\"message-alerts\"> </div> <div class=\"rest-row-times-cont\"><div class=\"rest-row-times\"> <div class=\"timeslot-window\"><ul class=\"availability-row-container\"> <li class=\"timeslot-option timeslot-control\"> <a class=\"rest-row-times-btn timeslot\" data-covers=\"2\" data-datetime=\"2017-09-30 18:30\" data-name=\"Kapnos Taverna Arlington\" data-rid=\"159607\" href=\"/book/validate?rid=159607&amp;d=2017-09-30 18:30&amp;p=2&amp;pt=100&amp;ss=0&amp;sd=2017-09-30 18:30&amp;pofids=&amp;hash=4089056364\" onclick=\"OT.BestAnalytics.logRestaurantVisit(159607, '18:30')\"> 6:30 pm  </a> </li> <li class=\"timeslot-option timeslot-control\"> <a class=\"rest-row-times-btn timeslot\" data-covers=\"2\" data-datetime=\"2017-09-30 18:45\" data-name=\"Kapnos Taverna Arlington\" data-rid=\"159607\" href=\"/book/validate?rid=159607&amp;d=2017-09-30 18:45&amp;p=2&amp;pt=100&amp;ss=0&amp;sd=2017-09-30 18:45&amp;pofids=&amp;hash=570891850\" onclick=\"OT.BestAnalytics.logRestaurantVisit(159607, '18:45')\"> 6:45 pm  </a> </li> <li class=\"timeslot-option timeslot-control\"> <a class=\"rest-row-times-btn exact timeslot\" data-covers=\"2\" data-datetime=\"2017-09-30 19:00\" data-name=\"Kapnos Taverna Arlington\" data-rid=\"159607\" href=\"/book/validate?rid=159607&amp;d=2017-09-30 19:00&amp;p=2&amp;pt=100&amp;ss=0&amp;sd=2017-09-30 19:00&amp;pofids=&amp;hash=3305122170\" onclick=\"OT.BestAnalytics.logRestaurantVisit(159607, '19:00')\"> 7:00 pm  </a> </li> <li class=\"timeslot-option timeslot-control\"> <a class=\"rest-row-times-btn timeslot\" data-covers=\"2\" data-datetime=\"2017-09-30 19:15\" data-name=\"Kapnos Taverna Arlington\" data-rid=\"159607\" href=\"/book/validate?rid=159607&amp;d=2017-09-30 19:15&amp;p=2&amp;pt=100&amp;ss=0&amp;sd=2017-09-30 19:15&amp;pofids=&amp;hash=1223814620\" onclick=\"OT.BestAnalytics.logRestaurantVisit(159607, '19:15')\"> 7:15 pm  </a> </li> <li class=\"timeslot-option timeslot-control\"> <a class=\"rest-row-times-btn timeslot\" data-covers=\"2\" data-datetime=\"2017-09-30 19:45\" data-name=\"Kapnos Taverna Arlington\" data-rid=\"159607\" href=\"/book/validate?rid=159607&amp;d=2017-09-30 19:45&amp;p=2&amp;pt=100&amp;ss=0&amp;sd=2017-09-30 19:45&amp;pofids=&amp;hash=2009760115\" onclick=\"OT.BestAnalytics.logRestaurantVisit(159607, '19:45')\"> 7:45 pm  </a> </li> </ul></div> </div></div> </div></div> </div>,\n",
       " <div class=\"result content-section-list-row cf with-times\" data-id=\"64\" data-index=\"65\" data-lat=\"38.9022180\" data-lon=\"-77.2056790\" data-offers=\"\" data-rid=\"250411\"><div class=\"rest-row with-image\"> <div class=\"rest-row-image\"> <a href=\"/r/idylwood-grill-falls-church\" onclick=\"OT.BestAnalytics.logRestaurantVisit(250411)\" target=\"_blank\"><img alt=\"photo of idylwood grill restaurant\" class=\"lazy rest-image\" data-src=\"//resizer.otstatic.com/v2/profiles/legacy/250411.jpg\" src=\"//media.otstatic.com/search-result-node/images/no-image.png\"/></a></div> <div class=\"rest-row-info\"><div class=\"rest-row-header\"> <a class=\"rest-row-name rest-name \" href=\"/r/idylwood-grill-falls-church\" onclick=\"OT.BestAnalytics.logRestaurantVisit(250411)\" target=\"_blank\"> <span class=\"rest-row-name-text\">Idylwood Grill</span> </a> </div> <div class=\" flex-row-justify\"> <div class=\"rest-row-review\"> <div class=\"star-rating review-container\"><div class=\"star-wrapper small\"><div class=\"all-stars\"></div><div class=\"all-stars filled\" style=\"width: 92%;\"></div></div> <a class=\"review-link\" href=\"/r/idylwood-grill-falls-church#reviews\" target=\"_blank\"> <span class=\"star-rating-text underline-hover\">(143)</span> <span class=\"star-rating-text--review-text underline-hover\">143 reviews</span> </a></div> <span class=\"recommended-container\"><span class=\"thumbs-up-icon\"></span> <span class=\"recommended-small\">97%</span> <span class=\"recommended-text\">97% Recommend</span> </span> </div> <div class=\"rest-row-pricing\"><i>  $    $      </i>   $    $      </div> </div><div class=\"rest-row-meta rest-row-meta-grid flex-row-justify\"> <span class=\"rest-row-meta--cuisine rest-row-meta-text\">Contemporary French / American</span> <span class=\"rest-row-meta--location rest-row-meta-text\">Falls Church</span></div> <div class=\"message-alerts\"> </div> <div class=\"rest-row-times-cont\"><div class=\"rest-row-times\"> <div class=\"timeslot-window\"><ul class=\"availability-row-container\"> <li class=\"timeslot-option timeslot-control\"> <a class=\"rest-row-times-btn timeslot\" data-covers=\"2\" data-datetime=\"2017-09-30 18:30\" data-name=\"Idylwood Grill\" data-rid=\"250411\" href=\"/book/validate?rid=250411&amp;d=2017-09-30 18:30&amp;p=2&amp;pt=100&amp;ss=0&amp;sd=2017-09-30 18:30&amp;pofids=&amp;hash=2825747151\" onclick=\"OT.BestAnalytics.logRestaurantVisit(250411, '18:30')\"> 6:30 pm  </a> </li> <li class=\"timeslot-option timeslot-control\"> <a class=\"rest-row-times-btn timeslot\" data-covers=\"2\" data-datetime=\"2017-09-30 18:45\" data-name=\"Idylwood Grill\" data-rid=\"250411\" href=\"/book/validate?rid=250411&amp;d=2017-09-30 18:45&amp;p=2&amp;pt=100&amp;ss=0&amp;sd=2017-09-30 18:45&amp;pofids=&amp;hash=3770560819\" onclick=\"OT.BestAnalytics.logRestaurantVisit(250411, '18:45')\"> 6:45 pm  </a> </li> <li class=\"timeslot-option timeslot-control\"> <a class=\"rest-row-times-btn exact timeslot\" data-covers=\"2\" data-datetime=\"2017-09-30 19:00\" data-name=\"Idylwood Grill\" data-rid=\"250411\" href=\"/book/validate?rid=250411&amp;d=2017-09-30 19:00&amp;p=2&amp;pt=100&amp;ss=0&amp;sd=2017-09-30 19:00&amp;pofids=&amp;hash=1285618950\" onclick=\"OT.BestAnalytics.logRestaurantVisit(250411, '19:00')\"> 7:00 pm  </a> </li> <li class=\"timeslot-option timeslot-control\"> <a class=\"rest-row-times-btn timeslot\" data-covers=\"2\" data-datetime=\"2017-09-30 19:15\" data-name=\"Idylwood Grill\" data-rid=\"250411\" href=\"/book/validate?rid=250411&amp;d=2017-09-30 19:15&amp;p=2&amp;pt=100&amp;ss=0&amp;sd=2017-09-30 19:15&amp;pofids=&amp;hash=659246000\" onclick=\"OT.BestAnalytics.logRestaurantVisit(250411, '19:15')\"> 7:15 pm  </a> </li> <li class=\"timeslot-option timeslot-control\"> <a class=\"rest-row-times-btn timeslot\" data-covers=\"2\" data-datetime=\"2017-09-30 19:30\" data-name=\"Idylwood Grill\" data-rid=\"250411\" href=\"/book/validate?rid=250411&amp;d=2017-09-30 19:30&amp;p=2&amp;pt=100&amp;ss=0&amp;sd=2017-09-30 19:30&amp;pofids=&amp;hash=1219614609\" onclick=\"OT.BestAnalytics.logRestaurantVisit(250411, '19:30')\"> 7:30 pm  </a> </li> </ul></div> </div></div> </div></div> </div>,\n",
       " <div class=\"result content-section-list-row cf with-times\" data-id=\"65\" data-index=\"66\" data-lat=\"38.8826370\" data-lon=\"-77.1131620\" data-offers=\"\" data-rid=\"169567\"><div class=\"rest-row with-image\"> <div class=\"rest-row-image\"> <a href=\"/uncle-julios-arlington-ballston\" onclick=\"OT.BestAnalytics.logRestaurantVisit(169567)\" target=\"_blank\"><img alt=\"photo of uncle julio's - arlington/ ballston restaurant\" class=\"lazy rest-image\" data-src=\"//resizer.otstatic.com/v2/profiles/legacy/169567.jpg\" src=\"//media.otstatic.com/search-result-node/images/no-image.png\"/></a></div> <div class=\"rest-row-info\"><div class=\"rest-row-header\"> <a class=\"rest-row-name rest-name \" href=\"/uncle-julios-arlington-ballston\" onclick=\"OT.BestAnalytics.logRestaurantVisit(169567)\" target=\"_blank\"> <span class=\"rest-row-name-text\">Uncle Julio's - Arlington/ Ballston</span> </a> </div> <div class=\" flex-row-justify\"> <div class=\"rest-row-review\"> <div class=\"star-rating review-container\"><div class=\"star-wrapper small\"><div class=\"all-stars\"></div><div class=\"all-stars filled\" style=\"width: 82%;\"></div></div> <a class=\"review-link\" href=\"/uncle-julios-arlington-ballston#reviews\" target=\"_blank\"> <span class=\"star-rating-text underline-hover\">(224)</span> <span class=\"star-rating-text--review-text underline-hover\">224 reviews</span> </a></div> <span class=\"recommended-container\"><span class=\"thumbs-up-icon\"></span> <span class=\"recommended-small\">82%</span> <span class=\"recommended-text\">82% Recommend</span> </span> </div> <div class=\"rest-row-pricing\"><i>  $    $      </i>   $    $      </div> </div><div class=\"rest-row-meta rest-row-meta-grid flex-row-justify\"> <span class=\"rest-row-meta--cuisine rest-row-meta-text\">Mexican</span> <span class=\"rest-row-meta--location rest-row-meta-text\">Arlington</span></div> <div class=\"message-alerts\"> <div class=\"notice-timeslot\"><span class=\"clock-icon\"></span> <span>Hurry, we only have 4 timeslots left!</span></div> </div> <div class=\"rest-row-times-cont\"><div class=\"rest-row-times\"> <div class=\"timeslot-window\"><ul class=\"availability-row-container\"> <li class=\"timeslot-option timeslot-control\"> <a class=\"rest-row-times-btn timeslot\" data-covers=\"2\" data-datetime=\"2017-09-30 18:15\" data-name=\"Uncle Julio's - Arlington/ Ballston\" data-rid=\"169567\" href=\"/book/validate?rid=169567&amp;d=2017-09-30 18:15&amp;p=2&amp;pt=100&amp;ss=0&amp;sd=2017-09-30 18:15&amp;pofids=&amp;hash=133179977\" onclick=\"OT.BestAnalytics.logRestaurantVisit(169567, '18:15')\"> 6:15 pm  </a> </li> <li class=\"timeslot-option timeslot-control\"> <a class=\"rest-row-times-btn timeslot\" data-covers=\"2\" data-datetime=\"2017-09-30 18:45\" data-name=\"Uncle Julio's - Arlington/ Ballston\" data-rid=\"169567\" href=\"/book/validate?rid=169567&amp;d=2017-09-30 18:45&amp;p=2&amp;pt=100&amp;ss=0&amp;sd=2017-09-30 18:45&amp;pofids=&amp;hash=202241324\" onclick=\"OT.BestAnalytics.logRestaurantVisit(169567, '18:45')\"> 6:45 pm  </a> </li> <li class=\"timeslot-option\"> <a class=\"rest-row-times-btn exact unavailable\" data-offers=\"\">\\xa0 </a> </li> <li class=\"timeslot-option timeslot-control\"> <a class=\"rest-row-times-btn timeslot\" data-covers=\"2\" data-datetime=\"2017-09-30 19:15\" data-name=\"Uncle Julio's - Arlington/ Ballston\" data-rid=\"169567\" href=\"/book/validate?rid=169567&amp;d=2017-09-30 19:15&amp;p=2&amp;pt=100&amp;ss=0&amp;sd=2017-09-30 19:15&amp;pofids=&amp;hash=2727344367\" onclick=\"OT.BestAnalytics.logRestaurantVisit(169567, '19:15')\"> 7:15 pm  </a> </li> <li class=\"timeslot-option timeslot-control\"> <a class=\"rest-row-times-btn timeslot\" data-covers=\"2\" data-datetime=\"2017-09-30 19:45\" data-name=\"Uncle Julio's - Arlington/ Ballston\" data-rid=\"169567\" href=\"/book/validate?rid=169567&amp;d=2017-09-30 19:45&amp;p=2&amp;pt=100&amp;ss=0&amp;sd=2017-09-30 19:45&amp;pofids=&amp;hash=2999719638\" onclick=\"OT.BestAnalytics.logRestaurantVisit(169567, '19:45')\"> 7:45 pm  </a> </li> </ul></div> </div></div> </div></div> </div>,\n",
       " <div class=\"result content-section-list-row cf with-times\" data-id=\"66\" data-index=\"67\" data-lat=\"38.8334450\" data-lon=\"-77.1229990\" data-offers=\"\" data-rid=\"19063\"><div class=\"rest-row with-image\"> <div class=\"rest-row-image\"> <a href=\"/clydes-at-mark-center\" onclick=\"OT.BestAnalytics.logRestaurantVisit(19063)\" target=\"_blank\"><img alt=\"photo of clyde's at mark center restaurant\" class=\"lazy rest-image\" data-src=\"//resizer.otstatic.com/v2/profiles/legacy/19063.jpg\" src=\"//media.otstatic.com/search-result-node/images/no-image.png\"/></a></div> <div class=\"rest-row-info\"><div class=\"rest-row-header\"> <a class=\"rest-row-name rest-name \" href=\"/clydes-at-mark-center\" onclick=\"OT.BestAnalytics.logRestaurantVisit(19063)\" target=\"_blank\"> <span class=\"rest-row-name-text\">Clyde's at Mark Center</span> </a> </div> <div class=\" flex-row-justify\"> <div class=\"rest-row-review\"> <div class=\"star-rating review-container\"><div class=\"star-wrapper small\"><div class=\"all-stars\"></div><div class=\"all-stars filled\" style=\"width: 86%;\"></div></div> <a class=\"review-link\" href=\"/clydes-at-mark-center#reviews\" target=\"_blank\"> <span class=\"star-rating-text underline-hover\">(2400)</span> <span class=\"star-rating-text--review-text underline-hover\">2400 reviews</span> </a></div> <span class=\"recommended-container\"><span class=\"thumbs-up-icon\"></span> <span class=\"recommended-small\">94%</span> <span class=\"recommended-text\">94% Recommend</span> </span> </div> <div class=\"rest-row-pricing\"><i>  $    $      </i>   $    $      </div> </div><div class=\"rest-row-meta rest-row-meta-grid flex-row-justify\"> <span class=\"rest-row-meta--cuisine rest-row-meta-text\">American</span> <span class=\"rest-row-meta--location rest-row-meta-text\">Alexandria</span></div> <div class=\"message-alerts\"> </div> <div class=\"rest-row-times-cont\"><div class=\"rest-row-times\"> <div class=\"timeslot-window\"><ul class=\"availability-row-container\"> <li class=\"timeslot-option timeslot-control\"> <a class=\"rest-row-times-btn timeslot\" data-covers=\"2\" data-datetime=\"2017-09-30 18:30\" data-name=\"Clyde's at Mark Center\" data-rid=\"19063\" href=\"/book/validate?rid=19063&amp;d=2017-09-30 18:30&amp;p=2&amp;pt=100&amp;ss=0&amp;sd=2017-09-30 18:30&amp;pofids=&amp;hash=1688392756\" onclick=\"OT.BestAnalytics.logRestaurantVisit(19063, '18:30')\"> 6:30 pm  </a> </li> <li class=\"timeslot-option timeslot-control\"> <a class=\"rest-row-times-btn timeslot\" data-covers=\"2\" data-datetime=\"2017-09-30 18:45\" data-name=\"Clyde's at Mark Center\" data-rid=\"19063\" href=\"/book/validate?rid=19063&amp;d=2017-09-30 18:45&amp;p=2&amp;pt=100&amp;ss=0&amp;sd=2017-09-30 18:45&amp;pofids=&amp;hash=3592107472\" onclick=\"OT.BestAnalytics.logRestaurantVisit(19063, '18:45')\"> 6:45 pm  </a> </li> <li class=\"timeslot-option timeslot-control\"> <a class=\"rest-row-times-btn exact timeslot\" data-covers=\"2\" data-datetime=\"2017-09-30 19:00\" data-name=\"Clyde's at Mark Center\" data-rid=\"19063\" href=\"/book/validate?rid=19063&amp;d=2017-09-30 19:00&amp;p=2&amp;pt=100&amp;ss=0&amp;sd=2017-09-30 19:00&amp;pofids=&amp;hash=138969734\" onclick=\"OT.BestAnalytics.logRestaurantVisit(19063, '19:00')\"> 7:00 pm  </a> </li> <li class=\"timeslot-option timeslot-control\"> <a class=\"rest-row-times-btn timeslot\" data-covers=\"2\" data-datetime=\"2017-09-30 19:15\" data-name=\"Clyde's at Mark Center\" data-rid=\"19063\" href=\"/book/validate?rid=19063&amp;d=2017-09-30 19:15&amp;p=2&amp;pt=100&amp;ss=0&amp;sd=2017-09-30 19:15&amp;pofids=&amp;hash=2653483619\" onclick=\"OT.BestAnalytics.logRestaurantVisit(19063, '19:15')\"> 7:15 pm  </a> </li> <li class=\"timeslot-option timeslot-control\"> <a class=\"rest-row-times-btn timeslot\" data-covers=\"2\" data-datetime=\"2017-09-30 19:30\" data-name=\"Clyde's at Mark Center\" data-rid=\"19063\" href=\"/book/validate?rid=19063&amp;d=2017-09-30 19:30&amp;p=2&amp;pt=100&amp;ss=0&amp;sd=2017-09-30 19:30&amp;pofids=&amp;hash=3348140915\" onclick=\"OT.BestAnalytics.logRestaurantVisit(19063, '19:30')\"> 7:30 pm  </a> </li> </ul></div> </div></div> </div></div> </div>,\n",
       " <div class=\"result content-section-list-row cf with-times\" data-id=\"67\" data-index=\"68\" data-lat=\"38.9054220\" data-lon=\"-77.0569360\" data-offers=\"\" data-rid=\"69577\"><div class=\"rest-row with-image\"> <div class=\"rest-row-image\"> <a href=\"/das-ethiopian-georgetown\" onclick=\"OT.BestAnalytics.logRestaurantVisit(69577)\" target=\"_blank\"><img alt=\"photo of das ethiopian - georgetown restaurant\" class=\"lazy rest-image\" data-src=\"//resizer.otstatic.com/v2/profiles/legacy/69577.jpg\" src=\"//media.otstatic.com/search-result-node/images/no-image.png\"/></a></div> <div class=\"rest-row-info\"><div class=\"rest-row-header\"> <a class=\"rest-row-name rest-name \" href=\"/das-ethiopian-georgetown\" onclick=\"OT.BestAnalytics.logRestaurantVisit(69577)\" target=\"_blank\"> <span class=\"rest-row-name-text\">Das Ethiopian - Georgetown</span> </a> </div> <div class=\" flex-row-justify\"> <div class=\"rest-row-review\"> <div class=\"star-rating review-container\"><div class=\"star-wrapper small\"><div class=\"all-stars\"></div><div class=\"all-stars filled\" style=\"width: 88%;\"></div></div> <a class=\"review-link\" href=\"/das-ethiopian-georgetown#reviews\" target=\"_blank\"> <span class=\"star-rating-text underline-hover\">(573)</span> <span class=\"star-rating-text--review-text underline-hover\">573 reviews</span> </a></div> <span class=\"recommended-container\"><span class=\"thumbs-up-icon\"></span> <span class=\"recommended-small\">84%</span> <span class=\"recommended-text\">84% Recommend</span> </span> </div> <div class=\"rest-row-pricing\"><i>  $    $      </i>   $    $      </div> </div><div class=\"rest-row-meta rest-row-meta-grid flex-row-justify\"> <span class=\"rest-row-meta--cuisine rest-row-meta-text\">Ethiopian</span> <span class=\"rest-row-meta--location rest-row-meta-text\">Georgetown</span></div> <div class=\"message-alerts\"> </div> <div class=\"rest-row-times-cont\"><div class=\"rest-row-times\"> <div class=\"timeslot-window\"><ul class=\"availability-row-container\"> <li class=\"timeslot-option timeslot-control\"> <a class=\"rest-row-times-btn timeslot\" data-covers=\"2\" data-datetime=\"2017-09-30 18:30\" data-name=\"Das Ethiopian - Georgetown\" data-rid=\"69577\" href=\"/book/validate?rid=69577&amp;d=2017-09-30 18:30&amp;p=2&amp;pt=100&amp;ss=0&amp;sd=2017-09-30 18:30&amp;pofids=&amp;hash=1364729001\" onclick=\"OT.BestAnalytics.logRestaurantVisit(69577, '18:30')\"> 6:30 pm  </a> </li> <li class=\"timeslot-option timeslot-control\"> <a class=\"rest-row-times-btn timeslot\" data-covers=\"2\" data-datetime=\"2017-09-30 18:45\" data-name=\"Das Ethiopian - Georgetown\" data-rid=\"69577\" href=\"/book/validate?rid=69577&amp;d=2017-09-30 18:45&amp;p=2&amp;pt=100&amp;ss=0&amp;sd=2017-09-30 18:45&amp;pofids=&amp;hash=564458773\" onclick=\"OT.BestAnalytics.logRestaurantVisit(69577, '18:45')\"> 6:45 pm  </a> </li> <li class=\"timeslot-option timeslot-control\"> <a class=\"rest-row-times-btn exact timeslot\" data-covers=\"2\" data-datetime=\"2017-09-30 19:00\" data-name=\"Das Ethiopian - Georgetown\" data-rid=\"69577\" href=\"/book/validate?rid=69577&amp;d=2017-09-30 19:00&amp;p=2&amp;pt=100&amp;ss=0&amp;sd=2017-09-30 19:00&amp;pofids=&amp;hash=2090926527\" onclick=\"OT.BestAnalytics.logRestaurantVisit(69577, '19:00')\"> 7:00 pm  </a> </li> <li class=\"timeslot-option timeslot-control\"> <a class=\"rest-row-times-btn timeslot\" data-covers=\"2\" data-datetime=\"2017-09-30 19:15\" data-name=\"Das Ethiopian - Georgetown\" data-rid=\"69577\" href=\"/book/validate?rid=69577&amp;d=2017-09-30 19:15&amp;p=2&amp;pt=100&amp;ss=0&amp;sd=2017-09-30 19:15&amp;pofids=&amp;hash=3810627586\" onclick=\"OT.BestAnalytics.logRestaurantVisit(69577, '19:15')\"> 7:15 pm  </a> </li> <li class=\"timeslot-option timeslot-control\"> <a class=\"rest-row-times-btn timeslot\" data-covers=\"2\" data-datetime=\"2017-09-30 19:30\" data-name=\"Das Ethiopian - Georgetown\" data-rid=\"69577\" href=\"/book/validate?rid=69577&amp;d=2017-09-30 19:30&amp;p=2&amp;pt=100&amp;ss=0&amp;sd=2017-09-30 19:30&amp;pofids=&amp;hash=1903252554\" onclick=\"OT.BestAnalytics.logRestaurantVisit(69577, '19:30')\"> 7:30 pm  </a> </li> </ul></div> </div></div> </div></div> </div>,\n",
       " <div class=\"result content-section-list-row cf with-times\" data-id=\"68\" data-index=\"69\" data-lat=\"38.9030890\" data-lon=\"-77.0514990\" data-offers=\"\" data-rid=\"233\"><div class=\"rest-row with-image\"> <div class=\"rest-row-image\"> <a href=\"/marcels-by-robert-wiedmaier\" onclick=\"OT.BestAnalytics.logRestaurantVisit(233)\" target=\"_blank\"><img alt=\"photo of marcel's by robert wiedmaier restaurant\" class=\"lazy rest-image\" data-src=\"//resizer.otstatic.com/v2/profiles/legacy/233.jpg\" src=\"//media.otstatic.com/search-result-node/images/no-image.png\"/></a></div> <div class=\"rest-row-info\"><div class=\"rest-row-header\"> <a class=\"rest-row-name rest-name \" href=\"/marcels-by-robert-wiedmaier\" onclick=\"OT.BestAnalytics.logRestaurantVisit(233)\" target=\"_blank\"> <span class=\"rest-row-name-text\">Marcel's by Robert Wiedmaier</span> </a> </div> <div class=\" flex-row-justify\"> <div class=\"rest-row-review\"> <div class=\"star-rating review-container\"><div class=\"star-wrapper small\"><div class=\"all-stars\"></div><div class=\"all-stars filled\" style=\"width: 98%;\"></div></div> <a class=\"review-link\" href=\"/marcels-by-robert-wiedmaier#reviews\" target=\"_blank\"> <span class=\"star-rating-text underline-hover\">(2638)</span> <span class=\"star-rating-text--review-text underline-hover\">2638 reviews</span> </a></div> <span class=\"recommended-container\"><span class=\"thumbs-up-icon\"></span> <span class=\"recommended-small\">95%</span> <span class=\"recommended-text\">95% Recommend</span> </span> </div> <div class=\"rest-row-pricing\"><i>  $    $    $    $  </i> </div> </div><div class=\"rest-row-meta rest-row-meta-grid flex-row-justify\"> <span class=\"rest-row-meta--cuisine rest-row-meta-text\">French</span> <span class=\"rest-row-meta--location rest-row-meta-text\">Foggy Bottom</span></div> <div class=\"message-alerts\"> <div class=\"notice-timeslot\"><span class=\"clock-icon\"></span> <span>Hurry, we only have 4 timeslots left!</span></div> </div> <div class=\"rest-row-times-cont\"><div class=\"rest-row-times\"> <div class=\"timeslot-window\"><ul class=\"availability-row-container\"> <li class=\"timeslot-option timeslot-control\"> <a class=\"rest-row-times-btn timeslot\" data-covers=\"2\" data-datetime=\"2017-09-30 17:00\" data-name=\"Marcel's by Robert Wiedmaier\" data-rid=\"233\" href=\"/book/validate?rid=233&amp;d=2017-09-30 17:00&amp;p=2&amp;pt=100&amp;ss=0&amp;sd=2017-09-30 17:00&amp;pofids=&amp;hash=3663070244\" onclick=\"OT.BestAnalytics.logRestaurantVisit(233, '17:00')\"> 5:00 pm  </a> </li> <li class=\"timeslot-option timeslot-control\"> <a class=\"rest-row-times-btn timeslot\" data-covers=\"2\" data-datetime=\"2017-09-30 18:00\" data-name=\"Marcel's by Robert Wiedmaier\" data-rid=\"233\" href=\"/book/validate?rid=233&amp;d=2017-09-30 18:00&amp;p=2&amp;pt=100&amp;ss=0&amp;sd=2017-09-30 18:00&amp;pofids=&amp;hash=614812785\" onclick=\"OT.BestAnalytics.logRestaurantVisit(233, '18:00')\"> 6:00 pm  </a> </li> <li class=\"timeslot-option\"> <a class=\"rest-row-times-btn exact unavailable\" data-offers=\"\">\\xa0 </a> </li> <li class=\"timeslot-option timeslot-control\"> <a class=\"rest-row-times-btn timeslot\" data-covers=\"2\" data-datetime=\"2017-09-30 21:00\" data-name=\"Marcel's by Robert Wiedmaier\" data-rid=\"233\" href=\"/book/validate?rid=233&amp;d=2017-09-30 21:00&amp;p=2&amp;pt=100&amp;ss=0&amp;sd=2017-09-30 21:00&amp;pofids=&amp;hash=719131896\" onclick=\"OT.BestAnalytics.logRestaurantVisit(233, '21:00')\"> 9:00 pm  </a> </li> <li class=\"timeslot-option timeslot-control\"> <a class=\"rest-row-times-btn timeslot\" data-covers=\"2\" data-datetime=\"2017-09-30 21:30\" data-name=\"Marcel's by Robert Wiedmaier\" data-rid=\"233\" href=\"/book/validate?rid=233&amp;d=2017-09-30 21:30&amp;p=2&amp;pt=100&amp;ss=0&amp;sd=2017-09-30 21:30&amp;pofids=&amp;hash=2976148119\" onclick=\"OT.BestAnalytics.logRestaurantVisit(233, '21:30')\"> 9:30 pm  </a> </li> </ul></div> </div></div> </div></div> </div>,\n",
       " <div class=\"result content-section-list-row cf with-times\" data-id=\"69\" data-index=\"70\" data-lat=\"38.8873480\" data-lon=\"-77.0937340\" data-offers=\"\" data-rid=\"188302\"><div class=\"rest-row with-image\"> <div class=\"rest-row-image\"> <a href=\"/oz-restaurant-and-bar\" onclick=\"OT.BestAnalytics.logRestaurantVisit(188302)\" target=\"_blank\"><img alt=\"photo of oz restaurant and bar restaurant\" class=\"lazy rest-image\" data-src=\"//resizer.otstatic.com/v2/profiles/legacy/188302.jpg\" src=\"//media.otstatic.com/search-result-node/images/no-image.png\"/></a></div> <div class=\"rest-row-info\"><div class=\"rest-row-header\"> <a class=\"rest-row-name rest-name \" href=\"/oz-restaurant-and-bar\" onclick=\"OT.BestAnalytics.logRestaurantVisit(188302)\" target=\"_blank\"> <span class=\"rest-row-name-text\">Oz Restaurant and Bar</span> </a> </div> <div class=\" flex-row-justify\"> <div class=\"rest-row-review\"> <div class=\"star-rating review-container\"><div class=\"star-wrapper small\"><div class=\"all-stars\"></div><div class=\"all-stars filled\" style=\"width: 78%;\"></div></div> <a class=\"review-link\" href=\"/oz-restaurant-and-bar#reviews\" target=\"_blank\"> <span class=\"star-rating-text underline-hover\">(220)</span> <span class=\"star-rating-text--review-text underline-hover\">220 reviews</span> </a></div> <span class=\"recommended-container\"><span class=\"thumbs-up-icon\"></span> <span class=\"recommended-small\">77%</span> <span class=\"recommended-text\">77% Recommend</span> </span> </div> <div class=\"rest-row-pricing\"><i>  $    $      </i>   $    $      </div> </div><div class=\"rest-row-meta rest-row-meta-grid flex-row-justify\"> <span class=\"rest-row-meta--cuisine rest-row-meta-text\">Australian</span> <span class=\"rest-row-meta--location rest-row-meta-text\">Arlington</span></div> <div class=\"message-alerts\"> </div> <div class=\"rest-row-times-cont\"><div class=\"rest-row-times\"> <div class=\"timeslot-window\"><ul class=\"availability-row-container\"> <li class=\"timeslot-option timeslot-control\"> <a class=\"rest-row-times-btn timeslot\" data-covers=\"2\" data-datetime=\"2017-09-30 18:30\" data-name=\"Oz Restaurant and Bar\" data-rid=\"188302\" href=\"/book/validate?rid=188302&amp;d=2017-09-30 18:30&amp;p=2&amp;pt=100&amp;ss=0&amp;sd=2017-09-30 18:30&amp;pofids=&amp;hash=956520347\" onclick=\"OT.BestAnalytics.logRestaurantVisit(188302, '18:30')\"> 6:30 pm  </a> </li> <li class=\"timeslot-option timeslot-control\"> <a class=\"rest-row-times-btn timeslot\" data-covers=\"2\" data-datetime=\"2017-09-30 18:45\" data-name=\"Oz Restaurant and Bar\" data-rid=\"188302\" href=\"/book/validate?rid=188302&amp;d=2017-09-30 18:45&amp;p=2&amp;pt=100&amp;ss=0&amp;sd=2017-09-30 18:45&amp;pofids=&amp;hash=151541131\" onclick=\"OT.BestAnalytics.logRestaurantVisit(188302, '18:45')\"> 6:45 pm  </a> </li> <li class=\"timeslot-option timeslot-control\"> <a class=\"rest-row-times-btn exact timeslot\" data-covers=\"2\" data-datetime=\"2017-09-30 19:00\" data-name=\"Oz Restaurant and Bar\" data-rid=\"188302\" href=\"/book/validate?rid=188302&amp;d=2017-09-30 19:00&amp;p=2&amp;pt=100&amp;ss=0&amp;sd=2017-09-30 19:00&amp;pofids=&amp;hash=3678361336\" onclick=\"OT.BestAnalytics.logRestaurantVisit(188302, '19:00')\"> 7:00 pm  </a> </li> <li class=\"timeslot-option timeslot-control\"> <a class=\"rest-row-times-btn timeslot\" data-covers=\"2\" data-datetime=\"2017-09-30 19:15\" data-name=\"Oz Restaurant and Bar\" data-rid=\"188302\" href=\"/book/validate?rid=188302&amp;d=2017-09-30 19:15&amp;p=2&amp;pt=100&amp;ss=0&amp;sd=2017-09-30 19:15&amp;pofids=&amp;hash=3542514231\" onclick=\"OT.BestAnalytics.logRestaurantVisit(188302, '19:15')\"> 7:15 pm  </a> </li> <li class=\"timeslot-option timeslot-control\"> <a class=\"rest-row-times-btn timeslot\" data-covers=\"2\" data-datetime=\"2017-09-30 19:30\" data-name=\"Oz Restaurant and Bar\" data-rid=\"188302\" href=\"/book/validate?rid=188302&amp;d=2017-09-30 19:30&amp;p=2&amp;pt=100&amp;ss=0&amp;sd=2017-09-30 19:30&amp;pofids=&amp;hash=366581116\" onclick=\"OT.BestAnalytics.logRestaurantVisit(188302, '19:30')\"> 7:30 pm  </a> </li> </ul></div> </div></div> </div></div> </div>,\n",
       " <div class=\"result content-section-list-row cf with-times\" data-id=\"70\" data-index=\"71\" data-lat=\"38.9108280\" data-lon=\"-77.0438050\" data-offers=\"\" data-rid=\"159337\"><div class=\"rest-row with-image\"> <div class=\"rest-row-image\"> <a href=\"/kramerbooks-and-afterwords-cafe\" onclick=\"OT.BestAnalytics.logRestaurantVisit(159337)\" target=\"_blank\"><img alt=\"photo of kramerbooks &amp; afterwords cafe restaurant\" class=\"lazy rest-image\" data-src=\"//resizer.otstatic.com/v2/profiles/legacy/159337.jpg\" src=\"//media.otstatic.com/search-result-node/images/no-image.png\"/></a></div> <div class=\"rest-row-info\"><div class=\"rest-row-header\"> <a class=\"rest-row-name rest-name \" href=\"/kramerbooks-and-afterwords-cafe\" onclick=\"OT.BestAnalytics.logRestaurantVisit(159337)\" target=\"_blank\"> <span class=\"rest-row-name-text\">Kramerbooks &amp; Afterwords Cafe</span> </a> </div> <div class=\" flex-row-justify\"> <div class=\"rest-row-review\"> <div class=\"star-rating review-container\"><div class=\"star-wrapper small\"><div class=\"all-stars\"></div><div class=\"all-stars filled\" style=\"width: 86%;\"></div></div> <a class=\"review-link\" href=\"/kramerbooks-and-afterwords-cafe#reviews\" target=\"_blank\"> <span class=\"star-rating-text underline-hover\">(236)</span> <span class=\"star-rating-text--review-text underline-hover\">236 reviews</span> </a></div> <span class=\"recommended-container\"><span class=\"thumbs-up-icon\"></span> <span class=\"recommended-small\">90%</span> <span class=\"recommended-text\">90% Recommend</span> </span> </div> <div class=\"rest-row-pricing\"><i>  $    $      </i>   $    $      </div> </div><div class=\"rest-row-meta rest-row-meta-grid flex-row-justify\"> <span class=\"rest-row-meta--cuisine rest-row-meta-text\">American</span> <span class=\"rest-row-meta--location rest-row-meta-text\">Dupont Circle</span></div> <div class=\"message-alerts\"> </div> <div class=\"rest-row-times-cont\"><div class=\"rest-row-times\"> <div class=\"timeslot-window\"><ul class=\"availability-row-container\"> <li class=\"timeslot-option timeslot-control\"> <a class=\"rest-row-times-btn timeslot\" data-covers=\"2\" data-datetime=\"2017-09-30 18:30\" data-name=\"Kramerbooks &amp; Afterwords Cafe\" data-rid=\"159337\" href=\"/book/validate?rid=159337&amp;d=2017-09-30 18:30&amp;p=2&amp;pt=100&amp;ss=0&amp;sd=2017-09-30 18:30&amp;pofids=&amp;hash=3838816636\" onclick=\"OT.BestAnalytics.logRestaurantVisit(159337, '18:30')\"> 6:30 pm  </a> </li> <li class=\"timeslot-option timeslot-control\"> <a class=\"rest-row-times-btn timeslot\" data-covers=\"2\" data-datetime=\"2017-09-30 18:45\" data-name=\"Kramerbooks &amp; Afterwords Cafe\" data-rid=\"159337\" href=\"/book/validate?rid=159337&amp;d=2017-09-30 18:45&amp;p=2&amp;pt=100&amp;ss=0&amp;sd=2017-09-30 18:45&amp;pofids=&amp;hash=3037103709\" onclick=\"OT.BestAnalytics.logRestaurantVisit(159337, '18:45')\"> 6:45 pm  </a> </li> <li class=\"timeslot-option timeslot-control\"> <a class=\"rest-row-times-btn exact timeslot\" data-covers=\"2\" data-datetime=\"2017-09-30 19:00\" data-name=\"Kramerbooks &amp; Afterwords Cafe\" data-rid=\"159337\" href=\"/book/validate?rid=159337&amp;d=2017-09-30 19:00&amp;p=2&amp;pt=100&amp;ss=0&amp;sd=2017-09-30 19:00&amp;pofids=&amp;hash=165767179\" onclick=\"OT.BestAnalytics.logRestaurantVisit(159337, '19:00')\"> 7:00 pm  </a> </li> <li class=\"timeslot-option timeslot-control\"> <a class=\"rest-row-times-btn timeslot\" data-covers=\"2\" data-datetime=\"2017-09-30 19:15\" data-name=\"Kramerbooks &amp; Afterwords Cafe\" data-rid=\"159337\" href=\"/book/validate?rid=159337&amp;d=2017-09-30 19:15&amp;p=2&amp;pt=100&amp;ss=0&amp;sd=2017-09-30 19:15&amp;pofids=&amp;hash=213332131\" onclick=\"OT.BestAnalytics.logRestaurantVisit(159337, '19:15')\"> 7:15 pm  </a> </li> <li class=\"timeslot-option timeslot-control\"> <a class=\"rest-row-times-btn timeslot\" data-covers=\"2\" data-datetime=\"2017-09-30 19:30\" data-name=\"Kramerbooks &amp; Afterwords Cafe\" data-rid=\"159337\" href=\"/book/validate?rid=159337&amp;d=2017-09-30 19:30&amp;p=2&amp;pt=100&amp;ss=0&amp;sd=2017-09-30 19:30&amp;pofids=&amp;hash=3955891429\" onclick=\"OT.BestAnalytics.logRestaurantVisit(159337, '19:30')\"> 7:30 pm  </a> </li> </ul></div> </div></div> </div></div> </div>,\n",
       " <div class=\"result content-section-list-row cf with-times\" data-id=\"71\" data-index=\"72\" data-lat=\"38.9037600\" data-lon=\"-77.0498340\" data-offers=\"\" data-rid=\"36583\"><div class=\"rest-row with-image\"> <div class=\"rest-row-image\"> <a href=\"/ris\" onclick=\"OT.BestAnalytics.logRestaurantVisit(36583)\" target=\"_blank\"><img alt=\"photo of ris restaurant\" class=\"lazy rest-image\" data-src=\"//resizer.otstatic.com/v2/profiles/legacy/36583.jpg\" src=\"//media.otstatic.com/search-result-node/images/no-image.png\"/></a></div> <div class=\"rest-row-info\"><div class=\"rest-row-header\"> <a class=\"rest-row-name rest-name \" href=\"/ris\" onclick=\"OT.BestAnalytics.logRestaurantVisit(36583)\" target=\"_blank\"> <span class=\"rest-row-name-text\">RIS</span> </a> </div> <div class=\" flex-row-justify\"> <div class=\"rest-row-review\"> <div class=\"star-rating review-container\"><div class=\"star-wrapper small\"><div class=\"all-stars\"></div><div class=\"all-stars filled\" style=\"width: 88%;\"></div></div> <a class=\"review-link\" href=\"/ris#reviews\" target=\"_blank\"> <span class=\"star-rating-text underline-hover\">(3050)</span> <span class=\"star-rating-text--review-text underline-hover\">3050 reviews</span> </a></div> <span class=\"recommended-container\"><span class=\"thumbs-up-icon\"></span> <span class=\"recommended-small\">90%</span> <span class=\"recommended-text\">90% Recommend</span> </span> </div> <div class=\"rest-row-pricing\"><i>  $    $    $    </i>   $        </div> </div><div class=\"rest-row-meta rest-row-meta-grid flex-row-justify\"> <span class=\"rest-row-meta--cuisine rest-row-meta-text\">American</span> <span class=\"rest-row-meta--location rest-row-meta-text\">West End</span></div> <div class=\"message-alerts\"> </div> <div class=\"rest-row-times-cont\"><div class=\"rest-row-times\"> <div class=\"timeslot-window\"><ul class=\"availability-row-container\"> <li class=\"timeslot-option timeslot-control\"> <a class=\"rest-row-times-btn timeslot\" data-covers=\"2\" data-datetime=\"2017-09-30 18:30\" data-name=\"RIS\" data-rid=\"36583\" href=\"/book/validate?rid=36583&amp;d=2017-09-30 18:30&amp;p=2&amp;pt=100&amp;ss=0&amp;sd=2017-09-30 18:30&amp;pofids=&amp;hash=2942048534\" onclick=\"OT.BestAnalytics.logRestaurantVisit(36583, '18:30')\"> 6:30 pm  </a> </li> <li class=\"timeslot-option timeslot-control\"> <a class=\"rest-row-times-btn timeslot\" data-covers=\"2\" data-datetime=\"2017-09-30 18:45\" data-name=\"RIS\" data-rid=\"36583\" href=\"/book/validate?rid=36583&amp;d=2017-09-30 18:45&amp;p=2&amp;pt=100&amp;ss=0&amp;sd=2017-09-30 18:45&amp;pofids=&amp;hash=130154685\" onclick=\"OT.BestAnalytics.logRestaurantVisit(36583, '18:45')\"> 6:45 pm  </a> </li> <li class=\"timeslot-option timeslot-control\"> <a class=\"rest-row-times-btn exact timeslot\" data-covers=\"2\" data-datetime=\"2017-09-30 19:00\" data-name=\"RIS\" data-rid=\"36583\" href=\"/book/validate?rid=36583&amp;d=2017-09-30 19:00&amp;p=2&amp;pt=100&amp;ss=0&amp;sd=2017-09-30 19:00&amp;pofids=&amp;hash=3679741173\" onclick=\"OT.BestAnalytics.logRestaurantVisit(36583, '19:00')\"> 7:00 pm  </a> </li> <li class=\"timeslot-option timeslot-control\"> <a class=\"rest-row-times-btn timeslot\" data-covers=\"2\" data-datetime=\"2017-09-30 19:15\" data-name=\"RIS\" data-rid=\"36583\" href=\"/book/validate?rid=36583&amp;d=2017-09-30 19:15&amp;p=2&amp;pt=100&amp;ss=0&amp;sd=2017-09-30 19:15&amp;pofids=&amp;hash=1197042830\" onclick=\"OT.BestAnalytics.logRestaurantVisit(36583, '19:15')\"> 7:15 pm  </a> </li> <li class=\"timeslot-option timeslot-control\"> <a class=\"rest-row-times-btn timeslot\" data-covers=\"2\" data-datetime=\"2017-09-30 19:30\" data-name=\"RIS\" data-rid=\"36583\" href=\"/book/validate?rid=36583&amp;d=2017-09-30 19:30&amp;p=2&amp;pt=100&amp;ss=0&amp;sd=2017-09-30 19:30&amp;pofids=&amp;hash=3331908598\" onclick=\"OT.BestAnalytics.logRestaurantVisit(36583, '19:30')\"> 7:30 pm  </a> </li> </ul></div> </div></div> </div></div> </div>,\n",
       " <div class=\"result content-section-list-row cf with-times\" data-id=\"72\" data-index=\"73\" data-lat=\"38.9041950\" data-lon=\"-77.0547670\" data-offers=\"\" data-rid=\"88489\"><div class=\"rest-row with-image\"> <div class=\"rest-row-image\"> <a href=\"/ristorante-la-perla-of-washington\" onclick=\"OT.BestAnalytics.logRestaurantVisit(88489)\" target=\"_blank\"><img alt=\"photo of ristorante la perla of washington restaurant\" class=\"lazy rest-image\" data-src=\"//resizer.otstatic.com/v2/profiles/legacy/88489.jpg\" src=\"//media.otstatic.com/search-result-node/images/no-image.png\"/></a></div> <div class=\"rest-row-info\"><div class=\"rest-row-header\"> <a class=\"rest-row-name rest-name \" href=\"/ristorante-la-perla-of-washington\" onclick=\"OT.BestAnalytics.logRestaurantVisit(88489)\" target=\"_blank\"> <span class=\"rest-row-name-text\">Ristorante La Perla of Washington</span> </a> </div> <div class=\" flex-row-justify\"> <div class=\"rest-row-review\"> <div class=\"star-rating review-container\"><div class=\"star-wrapper small\"><div class=\"all-stars\"></div><div class=\"all-stars filled\" style=\"width: 90%;\"></div></div> <a class=\"review-link\" href=\"/ristorante-la-perla-of-washington#reviews\" target=\"_blank\"> <span class=\"star-rating-text underline-hover\">(708)</span> <span class=\"star-rating-text--review-text underline-hover\">708 reviews</span> </a></div> <span class=\"recommended-container\"><span class=\"thumbs-up-icon\"></span> <span class=\"recommended-small\">92%</span> <span class=\"recommended-text\">92% Recommend</span> </span> </div> <div class=\"rest-row-pricing\"><i>  $    $    $    </i>   $        </div> </div><div class=\"rest-row-meta rest-row-meta-grid flex-row-justify\"> <span class=\"rest-row-meta--cuisine rest-row-meta-text\">Italian</span> <span class=\"rest-row-meta--location rest-row-meta-text\">Georgetown</span></div> <div class=\"message-alerts\"> <div class=\"notice-timeslot\"><span class=\"clock-icon\"></span> <span>Hurry, we only have 4 timeslots left!</span></div> </div> <div class=\"rest-row-times-cont\"><div class=\"rest-row-times\"> <div class=\"timeslot-window\"><ul class=\"availability-row-container\"> <li class=\"timeslot-option timeslot-control\"> <a class=\"rest-row-times-btn timeslot\" data-covers=\"2\" data-datetime=\"2017-09-30 17:15\" data-name=\"Ristorante La Perla of Washington\" data-rid=\"88489\" href=\"/book/validate?rid=88489&amp;d=2017-09-30 17:15&amp;p=2&amp;pt=100&amp;ss=0&amp;sd=2017-09-30 17:15&amp;pofids=&amp;hash=3423543470\" onclick=\"OT.BestAnalytics.logRestaurantVisit(88489, '17:15')\"> 5:15 pm  </a> </li> <li class=\"timeslot-option timeslot-control\"> <a class=\"rest-row-times-btn timeslot\" data-covers=\"2\" data-datetime=\"2017-09-30 17:30\" data-name=\"Ristorante La Perla of Washington\" data-rid=\"88489\" href=\"/book/validate?rid=88489&amp;d=2017-09-30 17:30&amp;p=2&amp;pt=100&amp;ss=0&amp;sd=2017-09-30 17:30&amp;pofids=&amp;hash=2833461013\" onclick=\"OT.BestAnalytics.logRestaurantVisit(88489, '17:30')\"> 5:30 pm  </a> </li> <li class=\"timeslot-option\"> <a class=\"rest-row-times-btn exact unavailable\" data-offers=\"\">\\xa0 </a> </li> <li class=\"timeslot-option timeslot-control\"> <a class=\"rest-row-times-btn timeslot\" data-covers=\"2\" data-datetime=\"2017-09-30 19:45\" data-name=\"Ristorante La Perla of Washington\" data-rid=\"88489\" href=\"/book/validate?rid=88489&amp;d=2017-09-30 19:45&amp;p=2&amp;pt=100&amp;ss=0&amp;sd=2017-09-30 19:45&amp;pofids=&amp;hash=3775975268\" onclick=\"OT.BestAnalytics.logRestaurantVisit(88489, '19:45')\"> 7:45 pm  </a> </li> <li class=\"timeslot-option timeslot-control\"> <a class=\"rest-row-times-btn timeslot\" data-covers=\"2\" data-datetime=\"2017-09-30 20:00\" data-name=\"Ristorante La Perla of Washington\" data-rid=\"88489\" href=\"/book/validate?rid=88489&amp;d=2017-09-30 20:00&amp;p=2&amp;pt=100&amp;ss=0&amp;sd=2017-09-30 20:00&amp;pofids=&amp;hash=1370382469\" onclick=\"OT.BestAnalytics.logRestaurantVisit(88489, '20:00')\"> 8:00 pm  </a> </li> </ul></div> </div></div> </div></div> </div>,\n",
       " <div class=\"result content-section-list-row cf with-times\" data-id=\"73\" data-index=\"74\" data-lat=\"38.9052380\" data-lon=\"-77.0586830\" data-offers=\"\" data-rid=\"68611\"><div class=\"rest-row with-image\"> <div class=\"rest-row-image\"> <a href=\"/unum-restaurant\" onclick=\"OT.BestAnalytics.logRestaurantVisit(68611)\" target=\"_blank\"><img alt=\"photo of unum restaurant restaurant\" class=\"lazy rest-image\" data-src=\"//resizer.otstatic.com/v2/profiles/legacy/68611.jpg\" src=\"//media.otstatic.com/search-result-node/images/no-image.png\"/></a></div> <div class=\"rest-row-info\"><div class=\"rest-row-header\"> <a class=\"rest-row-name rest-name \" href=\"/unum-restaurant\" onclick=\"OT.BestAnalytics.logRestaurantVisit(68611)\" target=\"_blank\"> <span class=\"rest-row-name-text\">Unum Restaurant</span> </a> </div> <div class=\" flex-row-justify\"> <div class=\"rest-row-review\"> <div class=\"star-rating review-container\"><div class=\"star-wrapper small\"><div class=\"all-stars\"></div><div class=\"all-stars filled\" style=\"width: 88%;\"></div></div> <a class=\"review-link\" href=\"/unum-restaurant#reviews\" target=\"_blank\"> <span class=\"star-rating-text underline-hover\">(806)</span> <span class=\"star-rating-text--review-text underline-hover\">806 reviews</span> </a></div> <span class=\"recommended-container\"><span class=\"thumbs-up-icon\"></span> <span class=\"recommended-small\">92%</span> <span class=\"recommended-text\">92% Recommend</span> </span> </div> <div class=\"rest-row-pricing\"><i>  $    $    $    </i>   $        </div> </div><div class=\"rest-row-meta rest-row-meta-grid flex-row-justify\"> <span class=\"rest-row-meta--cuisine rest-row-meta-text\">Contemporary American</span> <span class=\"rest-row-meta--location rest-row-meta-text\">Georgetown</span></div> <div class=\"message-alerts\"> <div class=\"notice-timeslot\"><span class=\"clock-icon\"></span> <span>Hurry, we only have 4 timeslots left!</span></div> </div> <div class=\"rest-row-times-cont\"><div class=\"rest-row-times\"> <div class=\"timeslot-window\"><ul class=\"availability-row-container\"> <li class=\"timeslot-option timeslot-control\"> <a class=\"rest-row-times-btn timeslot\" data-covers=\"2\" data-datetime=\"2017-09-30 18:30\" data-name=\"Unum Restaurant\" data-rid=\"68611\" href=\"/book/validate?rid=68611&amp;d=2017-09-30 18:30&amp;p=2&amp;pt=100&amp;ss=0&amp;sd=2017-09-30 18:30&amp;pofids=&amp;hash=2576463599\" onclick=\"OT.BestAnalytics.logRestaurantVisit(68611, '18:30')\"> 6:30 pm  </a> </li> <li class=\"timeslot-option timeslot-control\"> <a class=\"rest-row-times-btn timeslot\" data-covers=\"2\" data-datetime=\"2017-09-30 18:45\" data-name=\"Unum Restaurant\" data-rid=\"68611\" href=\"/book/validate?rid=68611&amp;d=2017-09-30 18:45&amp;p=2&amp;pt=100&amp;ss=0&amp;sd=2017-09-30 18:45&amp;pofids=&amp;hash=252492751\" onclick=\"OT.BestAnalytics.logRestaurantVisit(68611, '18:45')\"> 6:45 pm  </a> </li> <li class=\"timeslot-option\"> <a class=\"rest-row-times-btn exact unavailable\" data-offers=\"\">\\xa0 </a> </li> <li class=\"timeslot-option timeslot-control\"> <a class=\"rest-row-times-btn timeslot\" data-covers=\"2\" data-datetime=\"2017-09-30 20:30\" data-name=\"Unum Restaurant\" data-rid=\"68611\" href=\"/book/validate?rid=68611&amp;d=2017-09-30 20:30&amp;p=2&amp;pt=100&amp;ss=0&amp;sd=2017-09-30 20:30&amp;pofids=&amp;hash=2017130841\" onclick=\"OT.BestAnalytics.logRestaurantVisit(68611, '20:30')\"> 8:30 pm  </a> </li> <li class=\"timeslot-option timeslot-control\"> <a class=\"rest-row-times-btn timeslot\" data-covers=\"2\" data-datetime=\"2017-09-30 20:45\" data-name=\"Unum Restaurant\" data-rid=\"68611\" href=\"/book/validate?rid=68611&amp;d=2017-09-30 20:45&amp;p=2&amp;pt=100&amp;ss=0&amp;sd=2017-09-30 20:45&amp;pofids=&amp;hash=2784468461\" onclick=\"OT.BestAnalytics.logRestaurantVisit(68611, '20:45')\"> 8:45 pm  </a> </li> </ul></div> </div></div> </div></div> </div>,\n",
       " <div class=\"result content-section-list-row cf with-times\" data-id=\"74\" data-index=\"75\" data-lat=\"38.9247410\" data-lon=\"-77.0518020\" data-offers=\"\" data-rid=\"33364\"><div class=\"rest-row with-image\"> <div class=\"rest-row-image\"> <a href=\"/lebanese-taverna-washington-dc\" onclick=\"OT.BestAnalytics.logRestaurantVisit(33364)\" target=\"_blank\"><img alt=\"photo of lebanese taverna - washington dc restaurant\" class=\"lazy rest-image\" data-src=\"//resizer.otstatic.com/v2/profiles/legacy/33364.jpg\" src=\"//media.otstatic.com/search-result-node/images/no-image.png\"/></a></div> <div class=\"rest-row-info\"><div class=\"rest-row-header\"> <a class=\"rest-row-name rest-name \" href=\"/lebanese-taverna-washington-dc\" onclick=\"OT.BestAnalytics.logRestaurantVisit(33364)\" target=\"_blank\"> <span class=\"rest-row-name-text\">Lebanese Taverna - Washington DC</span> </a> </div> <div class=\" flex-row-justify\"> <div class=\"rest-row-review\"> <div class=\"star-rating review-container\"><div class=\"star-wrapper small\"><div class=\"all-stars\"></div><div class=\"all-stars filled\" style=\"width: 84%;\"></div></div> <a class=\"review-link\" href=\"/lebanese-taverna-washington-dc#reviews\" target=\"_blank\"> <span class=\"star-rating-text underline-hover\">(731)</span> <span class=\"star-rating-text--review-text underline-hover\">731 reviews</span> </a></div> <span class=\"recommended-container\"><span class=\"thumbs-up-icon\"></span> <span class=\"recommended-small\">78%</span> <span class=\"recommended-text\">78% Recommend</span> </span> </div> <div class=\"rest-row-pricing\"><i>  $    $      </i>   $    $      </div> </div><div class=\"rest-row-meta rest-row-meta-grid flex-row-justify\"> <span class=\"rest-row-meta--cuisine rest-row-meta-text\">Middle Eastern</span> <span class=\"rest-row-meta--location rest-row-meta-text\">Woodley Park</span></div> <div class=\"message-alerts\"> </div> <div class=\"rest-row-times-cont\"><div class=\"rest-row-times\"> <div class=\"timeslot-window\"><ul class=\"availability-row-container\"> <li class=\"timeslot-option timeslot-control\"> <a class=\"rest-row-times-btn timeslot\" data-covers=\"2\" data-datetime=\"2017-09-30 18:30\" data-name=\"Lebanese Taverna - Washington DC\" data-rid=\"33364\" href=\"/book/validate?rid=33364&amp;d=2017-09-30 18:30&amp;p=2&amp;pt=100&amp;ss=0&amp;sd=2017-09-30 18:30&amp;pofids=&amp;hash=2148741695\" onclick=\"OT.BestAnalytics.logRestaurantVisit(33364, '18:30')\"> 6:30 pm  </a> </li> <li class=\"timeslot-option timeslot-control\"> <a class=\"rest-row-times-btn timeslot\" data-covers=\"2\" data-datetime=\"2017-09-30 18:45\" data-name=\"Lebanese Taverna - Washington DC\" data-rid=\"33364\" href=\"/book/validate?rid=33364&amp;d=2017-09-30 18:45&amp;p=2&amp;pt=100&amp;ss=0&amp;sd=2017-09-30 18:45&amp;pofids=&amp;hash=3108012463\" onclick=\"OT.BestAnalytics.logRestaurantVisit(33364, '18:45')\"> 6:45 pm  </a> </li> <li class=\"timeslot-option timeslot-control\"> <a class=\"rest-row-times-btn exact timeslot\" data-covers=\"2\" data-datetime=\"2017-09-30 19:00\" data-name=\"Lebanese Taverna - Washington DC\" data-rid=\"33364\" href=\"/book/validate?rid=33364&amp;d=2017-09-30 19:00&amp;p=2&amp;pt=100&amp;ss=0&amp;sd=2017-09-30 19:00&amp;pofids=&amp;hash=2582834016\" onclick=\"OT.BestAnalytics.logRestaurantVisit(33364, '19:00')\"> 7:00 pm  </a> </li> <li class=\"timeslot-option timeslot-control\"> <a class=\"rest-row-times-btn timeslot\" data-covers=\"2\" data-datetime=\"2017-09-30 19:15\" data-name=\"Lebanese Taverna - Washington DC\" data-rid=\"33364\" href=\"/book/validate?rid=33364&amp;d=2017-09-30 19:15&amp;p=2&amp;pt=100&amp;ss=0&amp;sd=2017-09-30 19:15&amp;pofids=&amp;hash=3988239531\" onclick=\"OT.BestAnalytics.logRestaurantVisit(33364, '19:15')\"> 7:15 pm  </a> </li> <li class=\"timeslot-option timeslot-control\"> <a class=\"rest-row-times-btn timeslot\" data-covers=\"2\" data-datetime=\"2017-09-30 19:30\" data-name=\"Lebanese Taverna - Washington DC\" data-rid=\"33364\" href=\"/book/validate?rid=33364&amp;d=2017-09-30 19:30&amp;p=2&amp;pt=100&amp;ss=0&amp;sd=2017-09-30 19:30&amp;pofids=&amp;hash=2886596431\" onclick=\"OT.BestAnalytics.logRestaurantVisit(33364, '19:30')\"> 7:30 pm  </a> </li> </ul></div> </div></div> </div></div> </div>,\n",
       " <div class=\"result content-section-list-row cf with-times\" data-id=\"75\" data-index=\"76\" data-lat=\"38.8960640\" data-lon=\"-77.0552830\" data-offers=\"\" data-rid=\"464\"><div class=\"rest-row with-image\"> <div class=\"rest-row-image\"> <a href=\"/roof-terrace-restaurant-and-bar\" onclick=\"OT.BestAnalytics.logRestaurantVisit(464)\" target=\"_blank\"><img alt=\"photo of roof terrace restaurant &amp; bar restaurant\" class=\"lazy rest-image\" data-src=\"//resizer.otstatic.com/v2/profiles/legacy/464.jpg\" src=\"//media.otstatic.com/search-result-node/images/no-image.png\"/></a></div> <div class=\"rest-row-info\"><div class=\"rest-row-header\"> <a class=\"rest-row-name rest-name \" href=\"/roof-terrace-restaurant-and-bar\" onclick=\"OT.BestAnalytics.logRestaurantVisit(464)\" target=\"_blank\"> <span class=\"rest-row-name-text\">Roof Terrace Restaurant &amp; Bar</span> </a> </div> <div class=\" flex-row-justify\"> <div class=\"rest-row-review\"> <div class=\"star-rating review-container\"><div class=\"star-wrapper small\"><div class=\"all-stars\"></div><div class=\"all-stars filled\" style=\"width: 80%;\"></div></div> <a class=\"review-link\" href=\"/roof-terrace-restaurant-and-bar#reviews\" target=\"_blank\"> <span class=\"star-rating-text underline-hover\">(5783)</span> <span class=\"star-rating-text--review-text underline-hover\">5783 reviews</span> </a></div> <span class=\"recommended-container\"><span class=\"thumbs-up-icon\"></span> <span class=\"recommended-small\">77%</span> <span class=\"recommended-text\">77% Recommend</span> </span> </div> <div class=\"rest-row-pricing\"><i>  $    $    $    $  </i> </div> </div><div class=\"rest-row-meta rest-row-meta-grid flex-row-justify\"> <span class=\"rest-row-meta--cuisine rest-row-meta-text\">Contemporary American</span> <span class=\"rest-row-meta--location rest-row-meta-text\">Foggy Bottom</span></div> <div class=\"message-alerts\"> <div class=\"notice-timeslot\"><span class=\"clock-icon\"></span> <span>Hurry, we only have 2 timeslots left!</span></div> </div> <div class=\"rest-row-times-cont\"><div class=\"rest-row-times\"> <div class=\"timeslot-window\"><ul class=\"availability-row-container\"> <li class=\"timeslot-option timeslot-control\"> <a class=\"rest-row-times-btn timeslot\" data-covers=\"2\" data-datetime=\"2017-09-30 18:30\" data-name=\"Roof Terrace Restaurant &amp; Bar\" data-rid=\"464\" href=\"/book/validate?rid=464&amp;d=2017-09-30 18:30&amp;p=2&amp;pt=100&amp;ss=0&amp;sd=2017-09-30 18:30&amp;pofids=&amp;hash=1515928781\" onclick=\"OT.BestAnalytics.logRestaurantVisit(464, '18:30')\"> 6:30 pm  </a> </li> <li class=\"timeslot-option timeslot-control\"> <a class=\"rest-row-times-btn timeslot\" data-covers=\"2\" data-datetime=\"2017-09-30 18:45\" data-name=\"Roof Terrace Restaurant &amp; Bar\" data-rid=\"464\" href=\"/book/validate?rid=464&amp;d=2017-09-30 18:45&amp;p=2&amp;pt=100&amp;ss=0&amp;sd=2017-09-30 18:45&amp;pofids=&amp;hash=4286647422\" onclick=\"OT.BestAnalytics.logRestaurantVisit(464, '18:45')\"> 6:45 pm  </a> </li> <li class=\"timeslot-option\"> <a class=\"rest-row-times-btn exact unavailable\" data-offers=\"\">\\xa0 </a> </li> <li class=\"timeslot-option\"> <a class=\"rest-row-times-btn unavailable\" data-offers=\"\">\\xa0 </a> </li> <li class=\"timeslot-option\"> <a class=\"rest-row-times-btn unavailable\" data-offers=\"\">\\xa0 </a> </li> </ul></div> </div></div> </div></div> </div>,\n",
       " <div class=\"result content-section-list-row cf with-times\" data-id=\"76\" data-index=\"77\" data-lat=\"38.9046160\" data-lon=\"-77.0608790\" data-offers=\"\" data-rid=\"55726\"><div class=\"rest-row with-image\"> <div class=\"rest-row-image\"> <a href=\"/paper-moon\" onclick=\"OT.BestAnalytics.logRestaurantVisit(55726)\" target=\"_blank\"><img alt=\"photo of flavio restaurant\" class=\"lazy rest-image\" data-src=\"//resizer.otstatic.com/v2/profiles/legacy/55726.jpg\" src=\"//media.otstatic.com/search-result-node/images/no-image.png\"/></a></div> <div class=\"rest-row-info\"><div class=\"rest-row-header\"> <a class=\"rest-row-name rest-name \" href=\"/paper-moon\" onclick=\"OT.BestAnalytics.logRestaurantVisit(55726)\" target=\"_blank\"> <span class=\"rest-row-name-text\">Flavio</span> </a> </div> <div class=\" flex-row-justify\"> <div class=\"rest-row-review\"> <div class=\"star-rating review-container\"><div class=\"star-wrapper small\"><div class=\"all-stars\"></div><div class=\"all-stars filled\" style=\"width: 84%;\"></div></div> <a class=\"review-link\" href=\"/paper-moon#reviews\" target=\"_blank\"> <span class=\"star-rating-text underline-hover\">(129)</span> <span class=\"star-rating-text--review-text underline-hover\">129 reviews</span> </a></div> <span class=\"recommended-container\"><span class=\"thumbs-up-icon\"></span> <span class=\"recommended-small\">82%</span> <span class=\"recommended-text\">82% Recommend</span> </span> </div> <div class=\"rest-row-pricing\"><i>  $    $      </i>   $    $      </div> </div><div class=\"rest-row-meta rest-row-meta-grid flex-row-justify\"> <span class=\"rest-row-meta--cuisine rest-row-meta-text\">Italian</span> <span class=\"rest-row-meta--location rest-row-meta-text\">Georgetown</span></div> <div class=\"message-alerts\"> </div> <div class=\"rest-row-times-cont\"><div class=\"rest-row-times\"> <div class=\"timeslot-window\"><ul class=\"availability-row-container\"> <li class=\"timeslot-option timeslot-control\"> <a class=\"rest-row-times-btn timeslot\" data-covers=\"2\" data-datetime=\"2017-09-30 18:30\" data-name=\"Flavio\" data-rid=\"55726\" href=\"/book/validate?rid=55726&amp;d=2017-09-30 18:30&amp;p=2&amp;pt=100&amp;ss=0&amp;sd=2017-09-30 18:30&amp;pofids=&amp;hash=2250342865\" onclick=\"OT.BestAnalytics.logRestaurantVisit(55726, '18:30')\"> 6:30 pm  </a> </li> <li class=\"timeslot-option timeslot-control\"> <a class=\"rest-row-times-btn timeslot\" data-covers=\"2\" data-datetime=\"2017-09-30 18:45\" data-name=\"Flavio\" data-rid=\"55726\" href=\"/book/validate?rid=55726&amp;d=2017-09-30 18:45&amp;p=2&amp;pt=100&amp;ss=0&amp;sd=2017-09-30 18:45&amp;pofids=&amp;hash=39176374\" onclick=\"OT.BestAnalytics.logRestaurantVisit(55726, '18:45')\"> 6:45 pm  </a> </li> <li class=\"timeslot-option timeslot-control\"> <a class=\"rest-row-times-btn exact timeslot\" data-covers=\"2\" data-datetime=\"2017-09-30 19:00\" data-name=\"Flavio\" data-rid=\"55726\" href=\"/book/validate?rid=55726&amp;d=2017-09-30 19:00&amp;p=2&amp;pt=100&amp;ss=0&amp;sd=2017-09-30 19:00&amp;pofids=&amp;hash=247370753\" onclick=\"OT.BestAnalytics.logRestaurantVisit(55726, '19:00')\"> 7:00 pm  </a> </li> <li class=\"timeslot-option timeslot-control\"> <a class=\"rest-row-times-btn timeslot\" data-covers=\"2\" data-datetime=\"2017-09-30 19:15\" data-name=\"Flavio\" data-rid=\"55726\" href=\"/book/validate?rid=55726&amp;d=2017-09-30 19:15&amp;p=2&amp;pt=100&amp;ss=0&amp;sd=2017-09-30 19:15&amp;pofids=&amp;hash=3581530408\" onclick=\"OT.BestAnalytics.logRestaurantVisit(55726, '19:15')\"> 7:15 pm  </a> </li> <li class=\"timeslot-option timeslot-control\"> <a class=\"rest-row-times-btn timeslot\" data-covers=\"2\" data-datetime=\"2017-09-30 19:30\" data-name=\"Flavio\" data-rid=\"55726\" href=\"/book/validate?rid=55726&amp;d=2017-09-30 19:30&amp;p=2&amp;pt=100&amp;ss=0&amp;sd=2017-09-30 19:30&amp;pofids=&amp;hash=1536897998\" onclick=\"OT.BestAnalytics.logRestaurantVisit(55726, '19:30')\"> 7:30 pm  </a> </li> </ul></div> </div></div> </div></div> </div>,\n",
       " <div class=\"result content-section-list-row cf with-times\" data-id=\"77\" data-index=\"78\" data-lat=\"38.8862830\" data-lon=\"-77.1771170\" data-offers=\"\" data-rid=\"69091\"><div class=\"rest-row with-image\"> <div class=\"rest-row-image\"> <a href=\"/mad-fox-brewing-company\" onclick=\"OT.BestAnalytics.logRestaurantVisit(69091)\" target=\"_blank\"><img alt=\"photo of mad fox brewing company restaurant\" class=\"lazy rest-image\" data-src=\"//resizer.otstatic.com/v2/profiles/legacy/69091.jpg\" src=\"//media.otstatic.com/search-result-node/images/no-image.png\"/></a></div> <div class=\"rest-row-info\"><div class=\"rest-row-header\"> <a class=\"rest-row-name rest-name \" href=\"/mad-fox-brewing-company\" onclick=\"OT.BestAnalytics.logRestaurantVisit(69091)\" target=\"_blank\"> <span class=\"rest-row-name-text\">Mad Fox Brewing Company</span> </a> </div> <div class=\" flex-row-justify\"> <div class=\"rest-row-review\"> <div class=\"star-rating review-container\"><div class=\"star-wrapper small\"><div class=\"all-stars\"></div><div class=\"all-stars filled\" style=\"width: 86%;\"></div></div> <a class=\"review-link\" href=\"/mad-fox-brewing-company#reviews\" target=\"_blank\"> <span class=\"star-rating-text underline-hover\">(771)</span> <span class=\"star-rating-text--review-text underline-hover\">771 reviews</span> </a></div> <span class=\"recommended-container\"><span class=\"thumbs-up-icon\"></span> <span class=\"recommended-small\">85%</span> <span class=\"recommended-text\">85% Recommend</span> </span> </div> <div class=\"rest-row-pricing\"><i>  $    $      </i>   $    $      </div> </div><div class=\"rest-row-meta rest-row-meta-grid flex-row-justify\"> <span class=\"rest-row-meta--cuisine rest-row-meta-text\">Gastro Pub</span> <span class=\"rest-row-meta--location rest-row-meta-text\">Falls Church</span></div> <div class=\"message-alerts\"> </div> <div class=\"rest-row-times-cont\"><div class=\"rest-row-times\"> <div class=\"timeslot-window\"><ul class=\"availability-row-container\"> <li class=\"timeslot-option timeslot-control\"> <a class=\"rest-row-times-btn timeslot\" data-covers=\"2\" data-datetime=\"2017-09-30 18:30\" data-name=\"Mad Fox Brewing Company\" data-rid=\"69091\" href=\"/book/validate?rid=69091&amp;d=2017-09-30 18:30&amp;p=2&amp;pt=100&amp;ss=0&amp;sd=2017-09-30 18:30&amp;pofids=&amp;hash=1218868753\" onclick=\"OT.BestAnalytics.logRestaurantVisit(69091, '18:30')\"> 6:30 pm  </a> </li> <li class=\"timeslot-option timeslot-control\"> <a class=\"rest-row-times-btn timeslot\" data-covers=\"2\" data-datetime=\"2017-09-30 18:45\" data-name=\"Mad Fox Brewing Company\" data-rid=\"69091\" href=\"/book/validate?rid=69091&amp;d=2017-09-30 18:45&amp;p=2&amp;pt=100&amp;ss=0&amp;sd=2017-09-30 18:45&amp;pofids=&amp;hash=3016222790\" onclick=\"OT.BestAnalytics.logRestaurantVisit(69091, '18:45')\"> 6:45 pm  </a> </li> <li class=\"timeslot-option timeslot-control\"> <a class=\"rest-row-times-btn exact timeslot\" data-covers=\"2\" data-datetime=\"2017-09-30 19:00\" data-name=\"Mad Fox Brewing Company\" data-rid=\"69091\" href=\"/book/validate?rid=69091&amp;d=2017-09-30 19:00&amp;p=2&amp;pt=100&amp;ss=0&amp;sd=2017-09-30 19:00&amp;pofids=&amp;hash=825844345\" onclick=\"OT.BestAnalytics.logRestaurantVisit(69091, '19:00')\"> 7:00 pm  </a> </li> <li class=\"timeslot-option timeslot-control\"> <a class=\"rest-row-times-btn timeslot\" data-covers=\"2\" data-datetime=\"2017-09-30 19:15\" data-name=\"Mad Fox Brewing Company\" data-rid=\"69091\" href=\"/book/validate?rid=69091&amp;d=2017-09-30 19:15&amp;p=2&amp;pt=100&amp;ss=0&amp;sd=2017-09-30 19:15&amp;pofids=&amp;hash=894112012\" onclick=\"OT.BestAnalytics.logRestaurantVisit(69091, '19:15')\"> 7:15 pm  </a> </li> <li class=\"timeslot-option timeslot-control\"> <a class=\"rest-row-times-btn timeslot\" data-covers=\"2\" data-datetime=\"2017-09-30 19:30\" data-name=\"Mad Fox Brewing Company\" data-rid=\"69091\" href=\"/book/validate?rid=69091&amp;d=2017-09-30 19:30&amp;p=2&amp;pt=100&amp;ss=0&amp;sd=2017-09-30 19:30&amp;pofids=&amp;hash=2500092944\" onclick=\"OT.BestAnalytics.logRestaurantVisit(69091, '19:30')\"> 7:30 pm  </a> </li> </ul></div> </div></div> </div></div> </div>,\n",
       " <div class=\"result content-section-list-row cf with-times\" data-id=\"78\" data-index=\"79\" data-lat=\"38.9358630\" data-lon=\"-77.0590570\" data-offers=\"\" data-rid=\"60124\"><div class=\"rest-row with-image\"> <div class=\"rest-row-image\"> <a href=\"/medium-rare-cleveland-park\" onclick=\"OT.BestAnalytics.logRestaurantVisit(60124)\" target=\"_blank\"><img alt=\"photo of medium rare - cleveland park restaurant\" class=\"lazy rest-image\" data-src=\"//resizer.otstatic.com/v2/profiles/legacy/60124.jpg\" src=\"//media.otstatic.com/search-result-node/images/no-image.png\"/></a></div> <div class=\"rest-row-info\"><div class=\"rest-row-header\"> <a class=\"rest-row-name rest-name \" href=\"/medium-rare-cleveland-park\" onclick=\"OT.BestAnalytics.logRestaurantVisit(60124)\" target=\"_blank\"> <span class=\"rest-row-name-text\">Medium Rare - Cleveland Park</span> </a> </div> <div class=\" flex-row-justify\"> <div class=\"rest-row-review\"> <div class=\"star-rating review-container\"><div class=\"star-wrapper small\"><div class=\"all-stars\"></div><div class=\"all-stars filled\" style=\"width: 90%;\"></div></div> <a class=\"review-link\" href=\"/medium-rare-cleveland-park#reviews\" target=\"_blank\"> <span class=\"star-rating-text underline-hover\">(779)</span> <span class=\"star-rating-text--review-text underline-hover\">779 reviews</span> </a></div> <span class=\"recommended-container\"><span class=\"thumbs-up-icon\"></span> <span class=\"recommended-small\">88%</span> <span class=\"recommended-text\">88% Recommend</span> </span> </div> <div class=\"rest-row-pricing\"><i>  $    $      </i>   $    $      </div> </div><div class=\"rest-row-meta rest-row-meta-grid flex-row-justify\"> <span class=\"rest-row-meta--cuisine rest-row-meta-text\">Steak</span> <span class=\"rest-row-meta--location rest-row-meta-text\">Cleveland Park</span></div> <div class=\"message-alerts\"> </div> <div class=\"rest-row-times-cont\"> <a class=\"button minimal\" href=\"/medium-rare-cleveland-park\">Find next available</a> <p class=\"not-available-message\"> No reservations are currently available. However,  95% of the restaurant is available for walk-ins. Feel free to confirm 30 minutes before your arrival and we will add you to our waitlist, if necessary.</p> </div> </div></div> </div>,\n",
       " <div class=\"result content-section-list-row cf with-times\" data-id=\"79\" data-index=\"80\" data-lat=\"38.9048600\" data-lon=\"-77.0573430\" data-offers=\"\" data-rid=\"1745\"><div class=\"rest-row with-image\"> <div class=\"rest-row-image\"> <a href=\"/bourbon-steak-four-seasons-washington-dc\" onclick=\"OT.BestAnalytics.logRestaurantVisit(1745)\" target=\"_blank\"><img alt=\"photo of bourbon steak - four seasons washington dc restaurant\" class=\"lazy rest-image\" data-src=\"//resizer.otstatic.com/v2/profiles/legacy/1745.jpg\" src=\"//media.otstatic.com/search-result-node/images/no-image.png\"/></a></div> <div class=\"rest-row-info\"><div class=\"rest-row-header\"> <a class=\"rest-row-name rest-name \" href=\"/bourbon-steak-four-seasons-washington-dc\" onclick=\"OT.BestAnalytics.logRestaurantVisit(1745)\" target=\"_blank\"> <span class=\"rest-row-name-text\">Bourbon Steak - Four Seasons Washington DC</span> </a> </div> <div class=\" flex-row-justify\"> <div class=\"rest-row-review\"> <div class=\"star-rating review-container\"><div class=\"star-wrapper small\"><div class=\"all-stars\"></div><div class=\"all-stars filled\" style=\"width: 94%;\"></div></div> <a class=\"review-link\" href=\"/bourbon-steak-four-seasons-washington-dc#reviews\" target=\"_blank\"> <span class=\"star-rating-text underline-hover\">(2218)</span> <span class=\"star-rating-text--review-text underline-hover\">2218 reviews</span> </a></div> <span class=\"recommended-container\"><span class=\"thumbs-up-icon\"></span> <span class=\"recommended-small\">86%</span> <span class=\"recommended-text\">86% Recommend</span> </span> </div> <div class=\"rest-row-pricing\"><i>  $    $    $    $  </i> </div> </div><div class=\"rest-row-meta rest-row-meta-grid flex-row-justify\"> <span class=\"rest-row-meta--cuisine rest-row-meta-text\">Contemporary American</span> <span class=\"rest-row-meta--location rest-row-meta-text\">Georgetown</span></div> <div class=\"message-alerts\"> <div class=\"notice-timeslot\"><span class=\"clock-icon\"></span> <span>Hurry, we only have 4 timeslots left!</span></div> </div> <div class=\"rest-row-times-cont\"><div class=\"rest-row-times\"> <div class=\"timeslot-window\"><ul class=\"availability-row-container\"> <li class=\"timeslot-option timeslot-control\"> <a class=\"rest-row-times-btn timeslot\" data-covers=\"2\" data-datetime=\"2017-09-30 18:00\" data-name=\"Bourbon Steak - Four Seasons Washington DC\" data-rid=\"1745\" href=\"/book/validate?rid=1745&amp;d=2017-09-30 18:00&amp;p=2&amp;pt=100&amp;ss=0&amp;sd=2017-09-30 18:00&amp;pofids=&amp;hash=4045687560\" onclick=\"OT.BestAnalytics.logRestaurantVisit(1745, '18:00')\"> 6:00 pm  </a> </li> <li class=\"timeslot-option timeslot-control\"> <a class=\"rest-row-times-btn timeslot\" data-covers=\"2\" data-datetime=\"2017-09-30 18:15\" data-name=\"Bourbon Steak - Four Seasons Washington DC\" data-rid=\"1745\" href=\"/book/validate?rid=1745&amp;d=2017-09-30 18:15&amp;p=2&amp;pt=100&amp;ss=0&amp;sd=2017-09-30 18:15&amp;pofids=&amp;hash=3013965133\" onclick=\"OT.BestAnalytics.logRestaurantVisit(1745, '18:15')\"> 6:15 pm  </a> </li> <li class=\"timeslot-option\"> <a class=\"rest-row-times-btn exact unavailable\" data-offers=\"\">\\xa0 </a> </li> <li class=\"timeslot-option timeslot-control\"> <a class=\"rest-row-times-btn timeslot\" data-covers=\"2\" data-datetime=\"2017-09-30 21:15\" data-name=\"Bourbon Steak - Four Seasons Washington DC\" data-rid=\"1745\" href=\"/book/validate?rid=1745&amp;d=2017-09-30 21:15&amp;p=2&amp;pt=100&amp;ss=0&amp;sd=2017-09-30 21:15&amp;pofids=&amp;hash=557189960\" onclick=\"OT.BestAnalytics.logRestaurantVisit(1745, '21:15')\"> 9:15 pm  </a> </li> <li class=\"timeslot-option timeslot-control\"> <a class=\"rest-row-times-btn timeslot\" data-covers=\"2\" data-datetime=\"2017-09-30 21:30\" data-name=\"Bourbon Steak - Four Seasons Washington DC\" data-rid=\"1745\" href=\"/book/validate?rid=1745&amp;d=2017-09-30 21:30&amp;p=2&amp;pt=100&amp;ss=0&amp;sd=2017-09-30 21:30&amp;pofids=&amp;hash=1120072657\" onclick=\"OT.BestAnalytics.logRestaurantVisit(1745, '21:30')\"> 9:30 pm  </a> </li> </ul></div> </div></div> </div></div> </div>,\n",
       " <div class=\"result content-section-list-row cf with-times\" data-id=\"80\" data-index=\"81\" data-lat=\"38.9058000\" data-lon=\"-77.0648000\" data-offers=\"\" data-rid=\"2304\"><div class=\"rest-row with-image\"> <div class=\"rest-row-image\"> <a href=\"/cafe-milano\" onclick=\"OT.BestAnalytics.logRestaurantVisit(2304)\" target=\"_blank\"><img alt=\"photo of caf\\xe9 milano restaurant\" class=\"lazy rest-image\" data-src=\"//resizer.otstatic.com/v2/profiles/legacy/2304.jpg\" src=\"//media.otstatic.com/search-result-node/images/no-image.png\"/></a></div> <div class=\"rest-row-info\"><div class=\"rest-row-header\"> <a class=\"rest-row-name rest-name \" href=\"/cafe-milano\" onclick=\"OT.BestAnalytics.logRestaurantVisit(2304)\" target=\"_blank\"> <span class=\"rest-row-name-text\">Caf\\xe9 Milano</span> </a> </div> <div class=\" flex-row-justify\"> <div class=\"rest-row-review\"> <div class=\"star-rating review-container\"><div class=\"star-wrapper small\"><div class=\"all-stars\"></div><div class=\"all-stars filled\" style=\"width: 90%;\"></div></div> <a class=\"review-link\" href=\"/cafe-milano#reviews\" target=\"_blank\"> <span class=\"star-rating-text underline-hover\">(2117)</span> <span class=\"star-rating-text--review-text underline-hover\">2117 reviews</span> </a></div> <span class=\"recommended-container\"><span class=\"thumbs-up-icon\"></span> <span class=\"recommended-small\">88%</span> <span class=\"recommended-text\">88% Recommend</span> </span> </div> <div class=\"rest-row-pricing\"><i>  $    $    $    </i>   $        </div> </div><div class=\"rest-row-meta rest-row-meta-grid flex-row-justify\"> <span class=\"rest-row-meta--cuisine rest-row-meta-text\">Italian</span> <span class=\"rest-row-meta--location rest-row-meta-text\">Georgetown</span></div> <div class=\"message-alerts\"> <div class=\"notice-timeslot\"><span class=\"clock-icon\"></span> <span>Hurry, we only have 4 timeslots left!</span></div> </div> <div class=\"rest-row-times-cont\"><div class=\"rest-row-times\"> <div class=\"timeslot-window\"><ul class=\"availability-row-container\"> <li class=\"timeslot-option timeslot-control\"> <a class=\"rest-row-times-btn timeslot\" data-covers=\"2\" data-datetime=\"2017-09-30 17:30\" data-name=\"Caf\\xe9 Milano\" data-rid=\"2304\" href=\"/book/validate?rid=2304&amp;d=2017-09-30 17:30&amp;p=2&amp;pt=100&amp;ss=0&amp;sd=2017-09-30 17:30&amp;pofids=&amp;hash=474512413\" onclick=\"OT.BestAnalytics.logRestaurantVisit(2304, '17:30')\"> 5:30 pm  </a> </li> <li class=\"timeslot-option timeslot-control\"> <a class=\"rest-row-times-btn timeslot\" data-covers=\"2\" data-datetime=\"2017-09-30 18:00\" data-name=\"Caf\\xe9 Milano\" data-rid=\"2304\" href=\"/book/validate?rid=2304&amp;d=2017-09-30 18:00&amp;p=2&amp;pt=100&amp;ss=0&amp;sd=2017-09-30 18:00&amp;pofids=&amp;hash=3340615434\" onclick=\"OT.BestAnalytics.logRestaurantVisit(2304, '18:00')\"> 6:00 pm  </a> </li> <li class=\"timeslot-option\"> <a class=\"rest-row-times-btn exact unavailable\" data-offers=\"\">\\xa0 </a> </li> <li class=\"timeslot-option timeslot-control\"> <a class=\"rest-row-times-btn timeslot\" data-covers=\"2\" data-datetime=\"2017-09-30 20:00\" data-name=\"Caf\\xe9 Milano\" data-rid=\"2304\" href=\"/book/validate?rid=2304&amp;d=2017-09-30 20:00&amp;p=2&amp;pt=100&amp;ss=0&amp;sd=2017-09-30 20:00&amp;pofids=&amp;hash=301724607\" onclick=\"OT.BestAnalytics.logRestaurantVisit(2304, '20:00')\"> 8:00 pm  </a> </li> <li class=\"timeslot-option timeslot-control\"> <a class=\"rest-row-times-btn timeslot\" data-covers=\"2\" data-datetime=\"2017-09-30 20:30\" data-name=\"Caf\\xe9 Milano\" data-rid=\"2304\" href=\"/book/validate?rid=2304&amp;d=2017-09-30 20:30&amp;p=2&amp;pt=100&amp;ss=0&amp;sd=2017-09-30 20:30&amp;pofids=&amp;hash=2553613256\" onclick=\"OT.BestAnalytics.logRestaurantVisit(2304, '20:30')\"> 8:30 pm  </a> </li> </ul></div> </div></div> </div></div> </div>,\n",
       " <div class=\"result content-section-list-row cf with-times\" data-id=\"81\" data-index=\"82\" data-lat=\"38.8855920\" data-lon=\"-77.0949480\" data-offers=\"\" data-rid=\"43540\"><div class=\"rest-row with-image\"> <div class=\"rest-row-image\"> <a href=\"/lyon-hall\" onclick=\"OT.BestAnalytics.logRestaurantVisit(43540)\" target=\"_blank\"><img alt=\"photo of lyon hall restaurant\" class=\"lazy rest-image\" data-src=\"//resizer.otstatic.com/v2/profiles/legacy/43540.jpg\" src=\"//media.otstatic.com/search-result-node/images/no-image.png\"/></a></div> <div class=\"rest-row-info\"><div class=\"rest-row-header\"> <a class=\"rest-row-name rest-name \" href=\"/lyon-hall\" onclick=\"OT.BestAnalytics.logRestaurantVisit(43540)\" target=\"_blank\"> <span class=\"rest-row-name-text\">Lyon Hall</span> </a> </div> <div class=\" flex-row-justify\"> <div class=\"rest-row-review\"> <div class=\"star-rating review-container\"><div class=\"star-wrapper small\"><div class=\"all-stars\"></div><div class=\"all-stars filled\" style=\"width: 90%;\"></div></div> <a class=\"review-link\" href=\"/lyon-hall#reviews\" target=\"_blank\"> <span class=\"star-rating-text underline-hover\">(2027)</span> <span class=\"star-rating-text--review-text underline-hover\">2027 reviews</span> </a></div> <span class=\"recommended-container\"><span class=\"thumbs-up-icon\"></span> <span class=\"recommended-small\">88%</span> <span class=\"recommended-text\">88% Recommend</span> </span> </div> <div class=\"rest-row-pricing\"><i>  $    $      </i>   $    $      </div> </div><div class=\"rest-row-meta rest-row-meta-grid flex-row-justify\"> <span class=\"rest-row-meta--cuisine rest-row-meta-text\">French</span> <span class=\"rest-row-meta--location rest-row-meta-text\">Arlington</span></div> <div class=\"message-alerts\"> </div> <div class=\"rest-row-times-cont\"><div class=\"rest-row-times\"> <div class=\"timeslot-window\"><ul class=\"availability-row-container\"> <li class=\"timeslot-option timeslot-control\"> <a class=\"rest-row-times-btn timeslot\" data-covers=\"2\" data-datetime=\"2017-09-30 18:30\" data-name=\"Lyon Hall\" data-rid=\"43540\" href=\"/book/validate?rid=43540&amp;d=2017-09-30 18:30&amp;p=2&amp;pt=100&amp;ss=0&amp;sd=2017-09-30 18:30&amp;pofids=&amp;hash=171102647\" onclick=\"OT.BestAnalytics.logRestaurantVisit(43540, '18:30')\"> 6:30 pm  </a> </li> <li class=\"timeslot-option timeslot-control\"> <a class=\"rest-row-times-btn timeslot\" data-covers=\"2\" data-datetime=\"2017-09-30 18:45\" data-name=\"Lyon Hall\" data-rid=\"43540\" href=\"/book/validate?rid=43540&amp;d=2017-09-30 18:45&amp;p=2&amp;pt=100&amp;ss=0&amp;sd=2017-09-30 18:45&amp;pofids=&amp;hash=4262765229\" onclick=\"OT.BestAnalytics.logRestaurantVisit(43540, '18:45')\"> 6:45 pm  </a> </li> <li class=\"timeslot-option timeslot-control\"> <a class=\"rest-row-times-btn exact timeslot\" data-covers=\"2\" data-datetime=\"2017-09-30 19:00\" data-name=\"Lyon Hall\" data-rid=\"43540\" href=\"/book/validate?rid=43540&amp;d=2017-09-30 19:00&amp;p=2&amp;pt=100&amp;ss=0&amp;sd=2017-09-30 19:00&amp;pofids=&amp;hash=3095287756\" onclick=\"OT.BestAnalytics.logRestaurantVisit(43540, '19:00')\"> 7:00 pm  </a> </li> <li class=\"timeslot-option timeslot-control\"> <a class=\"rest-row-times-btn timeslot\" data-covers=\"2\" data-datetime=\"2017-09-30 19:15\" data-name=\"Lyon Hall\" data-rid=\"43540\" href=\"/book/validate?rid=43540&amp;d=2017-09-30 19:15&amp;p=2&amp;pt=100&amp;ss=0&amp;sd=2017-09-30 19:15&amp;pofids=&amp;hash=2037746493\" onclick=\"OT.BestAnalytics.logRestaurantVisit(43540, '19:15')\"> 7:15 pm  </a> </li> <li class=\"timeslot-option timeslot-control\"> <a class=\"rest-row-times-btn timeslot\" data-covers=\"2\" data-datetime=\"2017-09-30 19:30\" data-name=\"Lyon Hall\" data-rid=\"43540\" href=\"/book/validate?rid=43540&amp;d=2017-09-30 19:30&amp;p=2&amp;pt=100&amp;ss=0&amp;sd=2017-09-30 19:30&amp;pofids=&amp;hash=457981163\" onclick=\"OT.BestAnalytics.logRestaurantVisit(43540, '19:30')\"> 7:30 pm  </a> </li> </ul></div> </div></div> </div></div> </div>,\n",
       " <div class=\"result content-section-list-row cf with-times\" data-id=\"82\" data-index=\"83\" data-lat=\"38.8860900\" data-lon=\"-77.0967970\" data-offers=\"\" data-rid=\"11677\"><div class=\"rest-row with-image\"> <div class=\"rest-row-image\"> <a href=\"/the-liberty-tavern\" onclick=\"OT.BestAnalytics.logRestaurantVisit(11677)\" target=\"_blank\"><img alt=\"photo of the liberty tavern restaurant\" class=\"lazy rest-image\" data-src=\"//resizer.otstatic.com/v2/profiles/legacy/11677.jpg\" src=\"//media.otstatic.com/search-result-node/images/no-image.png\"/></a></div> <div class=\"rest-row-info\"><div class=\"rest-row-header\"> <a class=\"rest-row-name rest-name \" href=\"/the-liberty-tavern\" onclick=\"OT.BestAnalytics.logRestaurantVisit(11677)\" target=\"_blank\"> <span class=\"rest-row-name-text\">The Liberty Tavern</span> </a> </div> <div class=\" flex-row-justify\"> <div class=\"rest-row-review\"> <div class=\"star-rating review-container\"><div class=\"star-wrapper small\"><div class=\"all-stars\"></div><div class=\"all-stars filled\" style=\"width: 90%;\"></div></div> <a class=\"review-link\" href=\"/the-liberty-tavern#reviews\" target=\"_blank\"> <span class=\"star-rating-text underline-hover\">(2935)</span> <span class=\"star-rating-text--review-text underline-hover\">2935 reviews</span> </a></div> <span class=\"recommended-container\"><span class=\"thumbs-up-icon\"></span> <span class=\"recommended-small\">91%</span> <span class=\"recommended-text\">91% Recommend</span> </span> </div> <div class=\"rest-row-pricing\"><i>  $    $      </i>   $    $      </div> </div><div class=\"rest-row-meta rest-row-meta-grid flex-row-justify\"> <span class=\"rest-row-meta--cuisine rest-row-meta-text\">American</span> <span class=\"rest-row-meta--location rest-row-meta-text\">Arlington</span></div> <div class=\"message-alerts\"> </div> <div class=\"rest-row-times-cont\"><div class=\"rest-row-times\"> <div class=\"timeslot-window\"><ul class=\"availability-row-container\"> <li class=\"timeslot-option timeslot-control\"> <a class=\"rest-row-times-btn timeslot\" data-covers=\"2\" data-datetime=\"2017-09-30 18:30\" data-name=\"The Liberty Tavern\" data-rid=\"11677\" href=\"/book/validate?rid=11677&amp;d=2017-09-30 18:30&amp;p=2&amp;pt=100&amp;ss=0&amp;sd=2017-09-30 18:30&amp;pofids=&amp;hash=2783395522\" onclick=\"OT.BestAnalytics.logRestaurantVisit(11677, '18:30')\"> 6:30 pm  </a> </li> <li class=\"timeslot-option timeslot-control\"> <a class=\"rest-row-times-btn timeslot\" data-covers=\"2\" data-datetime=\"2017-09-30 18:45\" data-name=\"The Liberty Tavern\" data-rid=\"11677\" href=\"/book/validate?rid=11677&amp;d=2017-09-30 18:45&amp;p=2&amp;pt=100&amp;ss=0&amp;sd=2017-09-30 18:45&amp;pofids=&amp;hash=2001289141\" onclick=\"OT.BestAnalytics.logRestaurantVisit(11677, '18:45')\"> 6:45 pm  </a> </li> <li class=\"timeslot-option timeslot-control\"> <a class=\"rest-row-times-btn exact timeslot\" data-covers=\"2\" data-datetime=\"2017-09-30 19:00\" data-name=\"The Liberty Tavern\" data-rid=\"11677\" href=\"/book/validate?rid=11677&amp;d=2017-09-30 19:00&amp;p=2&amp;pt=100&amp;ss=0&amp;sd=2017-09-30 19:00&amp;pofids=&amp;hash=2918866830\" onclick=\"OT.BestAnalytics.logRestaurantVisit(11677, '19:00')\"> 7:00 pm  </a> </li> <li class=\"timeslot-option timeslot-control\"> <a class=\"rest-row-times-btn timeslot\" data-covers=\"2\" data-datetime=\"2017-09-30 19:15\" data-name=\"The Liberty Tavern\" data-rid=\"11677\" href=\"/book/validate?rid=11677&amp;d=2017-09-30 19:15&amp;p=2&amp;pt=100&amp;ss=0&amp;sd=2017-09-30 19:15&amp;pofids=&amp;hash=2225206352\" onclick=\"OT.BestAnalytics.logRestaurantVisit(11677, '19:15')\"> 7:15 pm  </a> </li> <li class=\"timeslot-option timeslot-control\"> <a class=\"rest-row-times-btn timeslot\" data-covers=\"2\" data-datetime=\"2017-09-30 19:30\" data-name=\"The Liberty Tavern\" data-rid=\"11677\" href=\"/book/validate?rid=11677&amp;d=2017-09-30 19:30&amp;p=2&amp;pt=100&amp;ss=0&amp;sd=2017-09-30 19:30&amp;pofids=&amp;hash=810280482\" onclick=\"OT.BestAnalytics.logRestaurantVisit(11677, '19:30')\"> 7:30 pm  </a> </li> </ul></div> </div></div> </div></div> </div>,\n",
       " <div class=\"result content-section-list-row cf with-times\" data-id=\"83\" data-index=\"84\" data-lat=\"38.9075780\" data-lon=\"-77.0455450\" data-offers=\"\" data-rid=\"2146\"><div class=\"rest-row with-image\"> <div class=\"rest-row-image\"> <a href=\"/firefly-dc\" onclick=\"OT.BestAnalytics.logRestaurantVisit(2146)\" target=\"_blank\"><img alt=\"photo of firefly - dc restaurant\" class=\"lazy rest-image\" data-src=\"//resizer.otstatic.com/v2/profiles/legacy/2146.jpg\" src=\"//media.otstatic.com/search-result-node/images/no-image.png\"/></a></div> <div class=\"rest-row-info\"><div class=\"rest-row-header\"> <a class=\"rest-row-name rest-name \" href=\"/firefly-dc\" onclick=\"OT.BestAnalytics.logRestaurantVisit(2146)\" target=\"_blank\"> <span class=\"rest-row-name-text\">Firefly - DC</span> </a> </div> <div class=\" flex-row-justify\"> <div class=\"rest-row-review\"> <div class=\"star-rating review-container\"><div class=\"star-wrapper small\"><div class=\"all-stars\"></div><div class=\"all-stars filled\" style=\"width: 84%;\"></div></div> <a class=\"review-link\" href=\"/firefly-dc#reviews\" target=\"_blank\"> <span class=\"star-rating-text underline-hover\">(3240)</span> <span class=\"star-rating-text--review-text underline-hover\">3240 reviews</span> </a></div> <span class=\"recommended-container\"><span class=\"thumbs-up-icon\"></span> <span class=\"recommended-small\">76%</span> <span class=\"recommended-text\">76% Recommend</span> </span> </div> <div class=\"rest-row-pricing\"><i>  $    $      </i>   $    $      </div> </div><div class=\"rest-row-meta rest-row-meta-grid flex-row-justify\"> <span class=\"rest-row-meta--cuisine rest-row-meta-text\">American</span> <span class=\"rest-row-meta--location rest-row-meta-text\">Dupont Circle</span></div> <div class=\"message-alerts\"> </div> <div class=\"rest-row-times-cont\"><div class=\"rest-row-times\"> <div class=\"timeslot-window\"><ul class=\"availability-row-container\"> <li class=\"timeslot-option timeslot-control\"> <a class=\"rest-row-times-btn timeslot\" data-covers=\"2\" data-datetime=\"2017-09-30 18:15\" data-name=\"Firefly - DC\" data-rid=\"2146\" href=\"/book/validate?rid=2146&amp;d=2017-09-30 18:15&amp;p=2&amp;pt=100&amp;ss=0&amp;sd=2017-09-30 18:15&amp;pofids=&amp;hash=3878117385\" onclick=\"OT.BestAnalytics.logRestaurantVisit(2146, '18:15')\"> 6:15 pm  </a> </li> <li class=\"timeslot-option timeslot-control\"> <a class=\"rest-row-times-btn timeslot\" data-covers=\"2\" data-datetime=\"2017-09-30 18:45\" data-name=\"Firefly - DC\" data-rid=\"2146\" href=\"/book/validate?rid=2146&amp;d=2017-09-30 18:45&amp;p=2&amp;pt=100&amp;ss=0&amp;sd=2017-09-30 18:45&amp;pofids=&amp;hash=1297460103\" onclick=\"OT.BestAnalytics.logRestaurantVisit(2146, '18:45')\"> 6:45 pm  </a> </li> <li class=\"timeslot-option timeslot-control\"> <a class=\"rest-row-times-btn exact timeslot\" data-covers=\"2\" data-datetime=\"2017-09-30 19:00\" data-name=\"Firefly - DC\" data-rid=\"2146\" href=\"/book/validate?rid=2146&amp;d=2017-09-30 19:00&amp;p=2&amp;pt=100&amp;ss=0&amp;sd=2017-09-30 19:00&amp;pofids=&amp;hash=1387313819\" onclick=\"OT.BestAnalytics.logRestaurantVisit(2146, '19:00')\"> 7:00 pm  </a> </li> <li class=\"timeslot-option timeslot-control\"> <a class=\"rest-row-times-btn timeslot\" data-covers=\"2\" data-datetime=\"2017-09-30 19:15\" data-name=\"Firefly - DC\" data-rid=\"2146\" href=\"/book/validate?rid=2146&amp;d=2017-09-30 19:15&amp;p=2&amp;pt=100&amp;ss=0&amp;sd=2017-09-30 19:15&amp;pofids=&amp;hash=1022908444\" onclick=\"OT.BestAnalytics.logRestaurantVisit(2146, '19:15')\"> 7:15 pm  </a> </li> <li class=\"timeslot-option timeslot-control\"> <a class=\"rest-row-times-btn timeslot\" data-covers=\"2\" data-datetime=\"2017-09-30 19:45\" data-name=\"Firefly - DC\" data-rid=\"2146\" href=\"/book/validate?rid=2146&amp;d=2017-09-30 19:45&amp;p=2&amp;pt=100&amp;ss=0&amp;sd=2017-09-30 19:45&amp;pofids=&amp;hash=2860510920\" onclick=\"OT.BestAnalytics.logRestaurantVisit(2146, '19:45')\"> 7:45 pm  </a> </li> </ul></div> </div></div> </div></div> </div>,\n",
       " <div class=\"result content-section-list-row cf with-times\" data-id=\"84\" data-index=\"85\" data-lat=\"38.9535700\" data-lon=\"-77.0820170\" data-offers=\"\" data-rid=\"28840\"><div class=\"rest-row with-image\"> <div class=\"rest-row-image\"> <a href=\"/le-chat-noir\" onclick=\"OT.BestAnalytics.logRestaurantVisit(28840)\" target=\"_blank\"><img alt=\"photo of le chat noir restaurant\" class=\"lazy rest-image\" data-src=\"//resizer.otstatic.com/v2/profiles/legacy/28840.jpg\" src=\"//media.otstatic.com/search-result-node/images/no-image.png\"/></a></div> <div class=\"rest-row-info\"><div class=\"rest-row-header\"> <a class=\"rest-row-name rest-name \" href=\"/le-chat-noir\" onclick=\"OT.BestAnalytics.logRestaurantVisit(28840)\" target=\"_blank\"> <span class=\"rest-row-name-text\">Le Chat Noir</span> </a> </div> <div class=\" flex-row-justify\"> <div class=\"rest-row-review\"> <div class=\"star-rating review-container\"><div class=\"star-wrapper small\"><div class=\"all-stars\"></div><div class=\"all-stars filled\" style=\"width: 90%;\"></div></div> <a class=\"review-link\" href=\"/le-chat-noir#reviews\" target=\"_blank\"> <span class=\"star-rating-text underline-hover\">(1611)</span> <span class=\"star-rating-text--review-text underline-hover\">1611 reviews</span> </a></div> <span class=\"recommended-container\"><span class=\"thumbs-up-icon\"></span> <span class=\"recommended-small\">98%</span> <span class=\"recommended-text\">98% Recommend</span> </span> </div> <div class=\"rest-row-pricing\"><i>  $    $      </i>   $    $      </div> </div><div class=\"rest-row-meta rest-row-meta-grid flex-row-justify\"> <span class=\"rest-row-meta--cuisine rest-row-meta-text\">French</span> <span class=\"rest-row-meta--location rest-row-meta-text\">Friendship Heights</span></div> <div class=\"message-alerts\"> </div> <div class=\"rest-row-times-cont\"><div class=\"rest-row-times\"> <div class=\"timeslot-window\"><ul class=\"availability-row-container\"> <li class=\"timeslot-option timeslot-control\"> <a class=\"rest-row-times-btn timeslot\" data-covers=\"2\" data-datetime=\"2017-09-30 18:30\" data-name=\"Le Chat Noir\" data-rid=\"28840\" href=\"/book/validate?rid=28840&amp;d=2017-09-30 18:30&amp;p=2&amp;pt=100&amp;ss=0&amp;sd=2017-09-30 18:30&amp;pofids=&amp;hash=749449422\" onclick=\"OT.BestAnalytics.logRestaurantVisit(28840, '18:30')\"> 6:30 pm  </a> </li> <li class=\"timeslot-option timeslot-control\"> <a class=\"rest-row-times-btn timeslot\" data-covers=\"2\" data-datetime=\"2017-09-30 18:45\" data-name=\"Le Chat Noir\" data-rid=\"28840\" href=\"/book/validate?rid=28840&amp;d=2017-09-30 18:45&amp;p=2&amp;pt=100&amp;ss=0&amp;sd=2017-09-30 18:45&amp;pofids=&amp;hash=3133711948\" onclick=\"OT.BestAnalytics.logRestaurantVisit(28840, '18:45')\"> 6:45 pm  </a> </li> <li class=\"timeslot-option timeslot-control\"> <a class=\"rest-row-times-btn exact timeslot\" data-covers=\"2\" data-datetime=\"2017-09-30 19:00\" data-name=\"Le Chat Noir\" data-rid=\"28840\" href=\"/book/validate?rid=28840&amp;d=2017-09-30 19:00&amp;p=2&amp;pt=100&amp;ss=0&amp;sd=2017-09-30 19:00&amp;pofids=&amp;hash=1529176777\" onclick=\"OT.BestAnalytics.logRestaurantVisit(28840, '19:00')\"> 7:00 pm  </a> </li> <li class=\"timeslot-option timeslot-control\"> <a class=\"rest-row-times-btn timeslot\" data-covers=\"2\" data-datetime=\"2017-09-30 19:15\" data-name=\"Le Chat Noir\" data-rid=\"28840\" href=\"/book/validate?rid=28840&amp;d=2017-09-30 19:15&amp;p=2&amp;pt=100&amp;ss=0&amp;sd=2017-09-30 19:15&amp;pofids=&amp;hash=1811384577\" onclick=\"OT.BestAnalytics.logRestaurantVisit(28840, '19:15')\"> 7:15 pm  </a> </li> <li class=\"timeslot-option timeslot-control\"> <a class=\"rest-row-times-btn timeslot\" data-covers=\"2\" data-datetime=\"2017-09-30 19:30\" data-name=\"Le Chat Noir\" data-rid=\"28840\" href=\"/book/validate?rid=28840&amp;d=2017-09-30 19:30&amp;p=2&amp;pt=100&amp;ss=0&amp;sd=2017-09-30 19:30&amp;pofids=&amp;hash=3085940329\" onclick=\"OT.BestAnalytics.logRestaurantVisit(28840, '19:30')\"> 7:30 pm  </a> </li> </ul></div> </div></div> </div></div> </div>,\n",
       " <div class=\"result content-section-list-row cf with-times\" data-id=\"85\" data-index=\"86\" data-lat=\"38.9015980\" data-lon=\"-77.0455440\" data-offers=\"\" data-rid=\"269284\"><div class=\"rest-row with-image\"> <div class=\"rest-row-image\"> <a href=\"/r/aperto-washington\" onclick=\"OT.BestAnalytics.logRestaurantVisit(269284)\" target=\"_blank\"><img alt=\"photo of aperto restaurant\" class=\"lazy rest-image\" data-src=\"//resizer.otstatic.com/v2/profiles/legacy/269284.jpg\" src=\"//media.otstatic.com/search-result-node/images/no-image.png\"/></a></div> <div class=\"rest-row-info\"><div class=\"rest-row-header\"> <a class=\"rest-row-name rest-name \" href=\"/r/aperto-washington\" onclick=\"OT.BestAnalytics.logRestaurantVisit(269284)\" target=\"_blank\"> <span class=\"rest-row-name-text\">Aperto</span> </a> </div> <div class=\" flex-row-justify\"> <div class=\"rest-row-review\"> <div class=\"star-rating review-container\"><div class=\"star-wrapper small\"><div class=\"all-stars\"></div><div class=\"all-stars filled\" style=\"width: 90%;\"></div></div> <a class=\"review-link\" href=\"/r/aperto-washington#reviews\" target=\"_blank\"> <span class=\"star-rating-text underline-hover\">(106)</span> <span class=\"star-rating-text--review-text underline-hover\">106 reviews</span> </a></div> <span class=\"recommended-container\"><span class=\"thumbs-up-icon\"></span> <span class=\"recommended-small\">88%</span> <span class=\"recommended-text\">88% Recommend</span> </span> </div> <div class=\"rest-row-pricing\"><i>  $    $    $    </i>   $        </div> </div><div class=\"rest-row-meta rest-row-meta-grid flex-row-justify\"> <span class=\"rest-row-meta--cuisine rest-row-meta-text\">Contemporary Italian</span> <span class=\"rest-row-meta--location rest-row-meta-text\">Foggy Bottom</span></div> <div class=\"message-alerts\"> </div> <div class=\"rest-row-times-cont\"><div class=\"rest-row-times\"> <div class=\"timeslot-window\"><ul class=\"availability-row-container\"> <li class=\"timeslot-option timeslot-control\"> <a class=\"rest-row-times-btn timeslot\" data-covers=\"2\" data-datetime=\"2017-09-30 18:30\" data-name=\"Aperto\" data-rid=\"269284\" href=\"/book/validate?rid=269284&amp;d=2017-09-30 18:30&amp;p=2&amp;pt=100&amp;ss=0&amp;sd=2017-09-30 18:30&amp;pofids=&amp;hash=483977218\" onclick=\"OT.BestAnalytics.logRestaurantVisit(269284, '18:30')\"> 6:30 pm  </a> </li> <li class=\"timeslot-option timeslot-control\"> <a class=\"rest-row-times-btn timeslot\" data-covers=\"2\" data-datetime=\"2017-09-30 18:45\" data-name=\"Aperto\" data-rid=\"269284\" href=\"/book/validate?rid=269284&amp;d=2017-09-30 18:45&amp;p=2&amp;pt=100&amp;ss=0&amp;sd=2017-09-30 18:45&amp;pofids=&amp;hash=1716459657\" onclick=\"OT.BestAnalytics.logRestaurantVisit(269284, '18:45')\"> 6:45 pm  </a> </li> <li class=\"timeslot-option timeslot-control\"> <a class=\"rest-row-times-btn exact timeslot\" data-covers=\"2\" data-datetime=\"2017-09-30 19:00\" data-name=\"Aperto\" data-rid=\"269284\" href=\"/book/validate?rid=269284&amp;d=2017-09-30 19:00&amp;p=2&amp;pt=100&amp;ss=0&amp;sd=2017-09-30 19:00&amp;pofids=&amp;hash=4062361445\" onclick=\"OT.BestAnalytics.logRestaurantVisit(269284, '19:00')\"> 7:00 pm  </a> </li> <li class=\"timeslot-option timeslot-control\"> <a class=\"rest-row-times-btn timeslot\" data-covers=\"2\" data-datetime=\"2017-09-30 19:15\" data-name=\"Aperto\" data-rid=\"269284\" href=\"/book/validate?rid=269284&amp;d=2017-09-30 19:15&amp;p=2&amp;pt=100&amp;ss=0&amp;sd=2017-09-30 19:15&amp;pofids=&amp;hash=1034448665\" onclick=\"OT.BestAnalytics.logRestaurantVisit(269284, '19:15')\"> 7:15 pm  </a> </li> <li class=\"timeslot-option timeslot-control\"> <a class=\"rest-row-times-btn timeslot\" data-covers=\"2\" data-datetime=\"2017-09-30 19:30\" data-name=\"Aperto\" data-rid=\"269284\" href=\"/book/validate?rid=269284&amp;d=2017-09-30 19:30&amp;p=2&amp;pt=100&amp;ss=0&amp;sd=2017-09-30 19:30&amp;pofids=&amp;hash=2992463661\" onclick=\"OT.BestAnalytics.logRestaurantVisit(269284, '19:30')\"> 7:30 pm  </a> </li> </ul></div> </div></div> </div></div> </div>,\n",
       " <div class=\"result content-section-list-row cf with-times\" data-id=\"86\" data-index=\"87\" data-lat=\"38.9065370\" data-lon=\"-77.0435750\" data-offers=\"\" data-rid=\"377\"><div class=\"rest-row with-image\"> <div class=\"rest-row-image\"> <a href=\"/i-ricchi\" onclick=\"OT.BestAnalytics.logRestaurantVisit(377)\" target=\"_blank\"><img alt=\"photo of i ricchi restaurant\" class=\"lazy rest-image\" data-src=\"//resizer.otstatic.com/v2/profiles/legacy/377.jpg\" src=\"//media.otstatic.com/search-result-node/images/no-image.png\"/></a></div> <div class=\"rest-row-info\"><div class=\"rest-row-header\"> <a class=\"rest-row-name rest-name \" href=\"/i-ricchi\" onclick=\"OT.BestAnalytics.logRestaurantVisit(377)\" target=\"_blank\"> <span class=\"rest-row-name-text\">i Ricchi</span> </a> </div> <div class=\" flex-row-justify\"> <div class=\"rest-row-review\"> <div class=\"star-rating review-container\"><div class=\"star-wrapper small\"><div class=\"all-stars\"></div><div class=\"all-stars filled\" style=\"width: 92%;\"></div></div> <a class=\"review-link\" href=\"/i-ricchi#reviews\" target=\"_blank\"> <span class=\"star-rating-text underline-hover\">(3025)</span> <span class=\"star-rating-text--review-text underline-hover\">3025 reviews</span> </a></div> <span class=\"recommended-container\"><span class=\"thumbs-up-icon\"></span> <span class=\"recommended-small\">95%</span> <span class=\"recommended-text\">95% Recommend</span> </span> </div> <div class=\"rest-row-pricing\"><i>  $    $    $    </i>   $        </div> </div><div class=\"rest-row-meta rest-row-meta-grid flex-row-justify\"> <span class=\"rest-row-meta--cuisine rest-row-meta-text\">Italian</span> <span class=\"rest-row-meta--location rest-row-meta-text\">Dupont Circle</span></div> <div class=\"message-alerts\"> </div> <div class=\"rest-row-times-cont\"><div class=\"rest-row-times\"> <div class=\"timeslot-window\"><ul class=\"availability-row-container\"> <li class=\"timeslot-option timeslot-control\"> <a class=\"rest-row-times-btn timeslot\" data-covers=\"2\" data-datetime=\"2017-09-30 17:45\" data-name=\"i Ricchi\" data-rid=\"377\" href=\"/book/validate?rid=377&amp;d=2017-09-30 17:45&amp;p=2&amp;pt=1000&amp;ss=0&amp;sd=2017-09-30 17:45&amp;pofids=&amp;hash=1497097628&amp;i=1\" onclick=\"OT.BestAnalytics.logRestaurantVisit(377, '17:45')\"> 5:45 pm  </a> </li> <li class=\"timeslot-option timeslot-control\"> <a class=\"rest-row-times-btn timeslot\" data-covers=\"2\" data-datetime=\"2017-09-30 18:45\" data-name=\"i Ricchi\" data-rid=\"377\" href=\"/book/validate?rid=377&amp;d=2017-09-30 18:45&amp;p=2&amp;pt=100&amp;ss=0&amp;sd=2017-09-30 18:45&amp;pofids=&amp;hash=57774604\" onclick=\"OT.BestAnalytics.logRestaurantVisit(377, '18:45')\"> 6:45 pm  </a> </li> <li class=\"timeslot-option timeslot-control\"> <a class=\"rest-row-times-btn exact timeslot\" data-covers=\"2\" data-datetime=\"2017-09-30 19:00\" data-name=\"i Ricchi\" data-rid=\"377\" href=\"/book/validate?rid=377&amp;d=2017-09-30 19:00&amp;p=2&amp;pt=100&amp;ss=0&amp;sd=2017-09-30 19:00&amp;pofids=&amp;hash=854024442\" onclick=\"OT.BestAnalytics.logRestaurantVisit(377, '19:00')\"> 7:00 pm  </a> </li> <li class=\"timeslot-option timeslot-control\"> <a class=\"rest-row-times-btn timeslot\" data-covers=\"2\" data-datetime=\"2017-09-30 19:15\" data-name=\"i Ricchi\" data-rid=\"377\" href=\"/book/validate?rid=377&amp;d=2017-09-30 19:15&amp;p=2&amp;pt=100&amp;ss=0&amp;sd=2017-09-30 19:15&amp;pofids=&amp;hash=268479557\" onclick=\"OT.BestAnalytics.logRestaurantVisit(377, '19:15')\"> 7:15 pm  </a> </li> <li class=\"timeslot-option timeslot-control\"> <a class=\"rest-row-times-btn timeslot\" data-covers=\"2\" data-datetime=\"2017-09-30 19:30\" data-name=\"i Ricchi\" data-rid=\"377\" href=\"/book/validate?rid=377&amp;d=2017-09-30 19:30&amp;p=2&amp;pt=100&amp;ss=0&amp;sd=2017-09-30 19:30&amp;pofids=&amp;hash=832097521\" onclick=\"OT.BestAnalytics.logRestaurantVisit(377, '19:30')\"> 7:30 pm  </a> </li> </ul></div> </div></div> </div></div> </div>,\n",
       " <div class=\"result content-section-list-row cf with-times\" data-id=\"87\" data-index=\"88\" data-lat=\"38.9014370\" data-lon=\"-77.0437500\" data-offers=\"\" data-rid=\"1019\"><div class=\"rest-row with-image\"> <div class=\"rest-row-image\"> <a href=\"/kaz-sushi-bistro\" onclick=\"OT.BestAnalytics.logRestaurantVisit(1019)\" target=\"_blank\"><img alt=\"photo of kaz sushi bistro restaurant\" class=\"lazy rest-image\" data-src=\"//resizer.otstatic.com/v2/profiles/legacy/1019.jpg\" src=\"//media.otstatic.com/search-result-node/images/no-image.png\"/></a></div> <div class=\"rest-row-info\"><div class=\"rest-row-header\"> <a class=\"rest-row-name rest-name \" href=\"/kaz-sushi-bistro\" onclick=\"OT.BestAnalytics.logRestaurantVisit(1019)\" target=\"_blank\"> <span class=\"rest-row-name-text\">Kaz Sushi Bistro</span> </a> </div> <div class=\" flex-row-justify\"> <div class=\"rest-row-review\"> <div class=\"star-rating review-container\"><div class=\"star-wrapper small\"><div class=\"all-stars\"></div><div class=\"all-stars filled\" style=\"width: 92%;\"></div></div> <a class=\"review-link\" href=\"/kaz-sushi-bistro#reviews\" target=\"_blank\"> <span class=\"star-rating-text underline-hover\">(1404)</span> <span class=\"star-rating-text--review-text underline-hover\">1404 reviews</span> </a></div> <span class=\"recommended-container\"><span class=\"thumbs-up-icon\"></span> <span class=\"recommended-small\">84%</span> <span class=\"recommended-text\">84% Recommend</span> </span> </div> <div class=\"rest-row-pricing\"><i>  $    $    $    </i>   $        </div> </div><div class=\"rest-row-meta rest-row-meta-grid flex-row-justify\"> <span class=\"rest-row-meta--cuisine rest-row-meta-text\">Sushi</span> <span class=\"rest-row-meta--location rest-row-meta-text\">Downtown</span></div> <div class=\"message-alerts\"> </div> <div class=\"rest-row-times-cont\"><div class=\"rest-row-times\"> <div class=\"timeslot-window\"><ul class=\"availability-row-container\"> <li class=\"timeslot-option timeslot-control\"> <a class=\"rest-row-times-btn timeslot\" data-covers=\"2\" data-datetime=\"2017-09-30 18:30\" data-name=\"Kaz Sushi Bistro\" data-rid=\"1019\" href=\"/book/validate?rid=1019&amp;d=2017-09-30 18:30&amp;p=2&amp;pt=100&amp;ss=0&amp;sd=2017-09-30 18:30&amp;pofids=&amp;hash=3359901151\" onclick=\"OT.BestAnalytics.logRestaurantVisit(1019, '18:30')\"> 6:30 pm  </a> </li> <li class=\"timeslot-option timeslot-control\"> <a class=\"rest-row-times-btn timeslot\" data-covers=\"2\" data-datetime=\"2017-09-30 18:45\" data-name=\"Kaz Sushi Bistro\" data-rid=\"1019\" href=\"/book/validate?rid=1019&amp;d=2017-09-30 18:45&amp;p=2&amp;pt=100&amp;ss=0&amp;sd=2017-09-30 18:45&amp;pofids=&amp;hash=2262163756\" onclick=\"OT.BestAnalytics.logRestaurantVisit(1019, '18:45')\"> 6:45 pm  </a> </li> <li class=\"timeslot-option timeslot-control\"> <a class=\"rest-row-times-btn exact timeslot\" data-covers=\"2\" data-datetime=\"2017-09-30 19:00\" data-name=\"Kaz Sushi Bistro\" data-rid=\"1019\" href=\"/book/validate?rid=1019&amp;d=2017-09-30 19:00&amp;p=2&amp;pt=100&amp;ss=0&amp;sd=2017-09-30 19:00&amp;pofids=&amp;hash=4147577616\" onclick=\"OT.BestAnalytics.logRestaurantVisit(1019, '19:00')\"> 7:00 pm  </a> </li> <li class=\"timeslot-option timeslot-control\"> <a class=\"rest-row-times-btn timeslot\" data-covers=\"2\" data-datetime=\"2017-09-30 19:15\" data-name=\"Kaz Sushi Bistro\" data-rid=\"1019\" href=\"/book/validate?rid=1019&amp;d=2017-09-30 19:15&amp;p=2&amp;pt=100&amp;ss=0&amp;sd=2017-09-30 19:15&amp;pofids=&amp;hash=379034728\" onclick=\"OT.BestAnalytics.logRestaurantVisit(1019, '19:15')\"> 7:15 pm  </a> </li> <li class=\"timeslot-option timeslot-control\"> <a class=\"rest-row-times-btn timeslot\" data-covers=\"2\" data-datetime=\"2017-09-30 19:30\" data-name=\"Kaz Sushi Bistro\" data-rid=\"1019\" href=\"/book/validate?rid=1019&amp;d=2017-09-30 19:30&amp;p=2&amp;pt=100&amp;ss=0&amp;sd=2017-09-30 19:30&amp;pofids=&amp;hash=3915275482\" onclick=\"OT.BestAnalytics.logRestaurantVisit(1019, '19:30')\"> 7:30 pm  </a> </li> </ul></div> </div></div> </div></div> </div>,\n",
       " <div class=\"result content-section-list-row cf with-times\" data-id=\"88\" data-index=\"89\" data-lat=\"38.9022630\" data-lon=\"-77.0458050\" data-offers=\"\" data-rid=\"428\"><div class=\"rest-row with-image\"> <div class=\"rest-row-image\"> <a href=\"/the-prime-rib-washington\" onclick=\"OT.BestAnalytics.logRestaurantVisit(428)\" target=\"_blank\"><img alt=\"photo of the prime rib restaurant\" class=\"lazy rest-image\" data-src=\"//resizer.otstatic.com/v2/profiles/legacy/428.jpg\" src=\"//media.otstatic.com/search-result-node/images/no-image.png\"/></a></div> <div class=\"rest-row-info\"><div class=\"rest-row-header\"> <a class=\"rest-row-name rest-name \" href=\"/the-prime-rib-washington\" onclick=\"OT.BestAnalytics.logRestaurantVisit(428)\" target=\"_blank\"> <span class=\"rest-row-name-text\">The Prime Rib</span> </a> </div> <div class=\" flex-row-justify\"> <div class=\"rest-row-review\"> <div class=\"star-rating review-container\"><div class=\"star-wrapper small\"><div class=\"all-stars\"></div><div class=\"all-stars filled\" style=\"width: 94%;\"></div></div> <a class=\"review-link\" href=\"/the-prime-rib-washington#reviews\" target=\"_blank\"> <span class=\"star-rating-text underline-hover\">(2643)</span> <span class=\"star-rating-text--review-text underline-hover\">2643 reviews</span> </a></div> <span class=\"recommended-container\"><span class=\"thumbs-up-icon\"></span> <span class=\"recommended-small\">93%</span> <span class=\"recommended-text\">93% Recommend</span> </span> </div> <div class=\"rest-row-pricing\"><i>  $    $    $    $  </i> </div> </div><div class=\"rest-row-meta rest-row-meta-grid flex-row-justify\"> <span class=\"rest-row-meta--cuisine rest-row-meta-text\">American</span> <span class=\"rest-row-meta--location rest-row-meta-text\">Downtown</span></div> <div class=\"message-alerts\"> <div class=\"notice-timeslot\"><span class=\"clock-icon\"></span> <span>Hurry, we only have 2 timeslots left!</span></div> </div> <div class=\"rest-row-times-cont\"><div class=\"rest-row-times\"> <div class=\"timeslot-window\"><ul class=\"availability-row-container\"> <li class=\"timeslot-option timeslot-control\"> <a class=\"rest-row-times-btn timeslot\" data-covers=\"2\" data-datetime=\"2017-09-30 17:30\" data-name=\"The Prime Rib\" data-rid=\"428\" href=\"/book/validate?rid=428&amp;d=2017-09-30 17:30&amp;p=2&amp;pt=100&amp;ss=0&amp;sd=2017-09-30 17:30&amp;pofids=&amp;hash=3346888055\" onclick=\"OT.BestAnalytics.logRestaurantVisit(428, '17:30')\"> 5:30 pm  </a> </li> <li class=\"timeslot-option timeslot-control\"> <a class=\"rest-row-times-btn timeslot\" data-covers=\"2\" data-datetime=\"2017-09-30 17:45\" data-name=\"The Prime Rib\" data-rid=\"428\" href=\"/book/validate?rid=428&amp;d=2017-09-30 17:45&amp;p=2&amp;pt=100&amp;ss=0&amp;sd=2017-09-30 17:45&amp;pofids=&amp;hash=1970092116\" onclick=\"OT.BestAnalytics.logRestaurantVisit(428, '17:45')\"> 5:45 pm  </a> </li> <li class=\"timeslot-option\"> <a class=\"rest-row-times-btn exact unavailable\" data-offers=\"\">\\xa0 </a> </li> <li class=\"timeslot-option\"> <a class=\"rest-row-times-btn unavailable\" data-offers=\"\">\\xa0 </a> </li> <li class=\"timeslot-option\"> <a class=\"rest-row-times-btn unavailable\" data-offers=\"\">\\xa0 </a> </li> </ul></div> </div></div> </div></div> </div>,\n",
       " <div class=\"result content-section-list-row cf with-times\" data-id=\"89\" data-index=\"90\" data-lat=\"38.9180570\" data-lon=\"-77.2190460\" data-offers=\"\" data-rid=\"150121\"><div class=\"rest-row with-image\"> <div class=\"rest-row-image\"> <a href=\"/brio-tuscan-grille-mclean-tysons-corner\" onclick=\"OT.BestAnalytics.logRestaurantVisit(150121)\" target=\"_blank\"><img alt=\"photo of brio tuscan grille - mclean - tysons corner restaurant\" class=\"lazy rest-image\" data-src=\"//resizer.otstatic.com/v2/profiles/legacy/150121.jpg\" src=\"//media.otstatic.com/search-result-node/images/no-image.png\"/></a></div> <div class=\"rest-row-info\"><div class=\"rest-row-header\"> <a class=\"rest-row-name rest-name \" href=\"/brio-tuscan-grille-mclean-tysons-corner\" onclick=\"OT.BestAnalytics.logRestaurantVisit(150121)\" target=\"_blank\"> <span class=\"rest-row-name-text\">BRIO Tuscan Grille - McLean - Tysons Corner</span> </a> </div> <div class=\" flex-row-justify\"> <div class=\"rest-row-review\"> <div class=\"star-rating review-container\"><div class=\"star-wrapper small\"><div class=\"all-stars\"></div><div class=\"all-stars filled\" style=\"width: 82%;\"></div></div> <a class=\"review-link\" href=\"/brio-tuscan-grille-mclean-tysons-corner#reviews\" target=\"_blank\"> <span class=\"star-rating-text underline-hover\">(299)</span> <span class=\"star-rating-text--review-text underline-hover\">299 reviews</span> </a></div> <span class=\"recommended-container\"><span class=\"thumbs-up-icon\"></span> <span class=\"recommended-small\">76%</span> <span class=\"recommended-text\">76% Recommend</span> </span> </div> <div class=\"rest-row-pricing\"><i>  $    $      </i>   $    $      </div> </div><div class=\"rest-row-meta rest-row-meta-grid flex-row-justify\"> <span class=\"rest-row-meta--cuisine rest-row-meta-text\">Italian</span> <span class=\"rest-row-meta--location rest-row-meta-text\">Tysons Corner / McLean</span></div> <div class=\"message-alerts\"> </div> <div class=\"rest-row-times-cont\"><div class=\"rest-row-times\"> <div class=\"timeslot-window\"><ul class=\"availability-row-container\"> <li class=\"timeslot-option timeslot-control\"> <a class=\"rest-row-times-btn timeslot\" data-covers=\"2\" data-datetime=\"2017-09-30 18:30\" data-name=\"BRIO Tuscan Grille - McLean - Tysons Corner\" data-rid=\"150121\" href=\"/book/validate?rid=150121&amp;d=2017-09-30 18:30&amp;p=2&amp;pt=100&amp;ss=0&amp;sd=2017-09-30 18:30&amp;pofids=&amp;hash=703486823\" onclick=\"OT.BestAnalytics.logRestaurantVisit(150121, '18:30')\"> 6:30 pm  </a> </li> <li class=\"timeslot-option timeslot-control\"> <a class=\"rest-row-times-btn timeslot\" data-covers=\"2\" data-datetime=\"2017-09-30 18:45\" data-name=\"BRIO Tuscan Grille - McLean - Tysons Corner\" data-rid=\"150121\" href=\"/book/validate?rid=150121&amp;d=2017-09-30 18:45&amp;p=2&amp;pt=100&amp;ss=0&amp;sd=2017-09-30 18:45&amp;pofids=&amp;hash=2439898999\" onclick=\"OT.BestAnalytics.logRestaurantVisit(150121, '18:45')\"> 6:45 pm  </a> </li> <li class=\"timeslot-option timeslot-control\"> <a class=\"rest-row-times-btn exact timeslot\" data-covers=\"2\" data-datetime=\"2017-09-30 19:00\" data-name=\"BRIO Tuscan Grille - McLean - Tysons Corner\" data-rid=\"150121\" href=\"/book/validate?rid=150121&amp;d=2017-09-30 19:00&amp;p=2&amp;pt=100&amp;ss=0&amp;sd=2017-09-30 19:00&amp;pofids=&amp;hash=293832704\" onclick=\"OT.BestAnalytics.logRestaurantVisit(150121, '19:00')\"> 7:00 pm  </a> </li> <li class=\"timeslot-option timeslot-control\"> <a class=\"rest-row-times-btn timeslot\" data-covers=\"2\" data-datetime=\"2017-09-30 19:15\" data-name=\"BRIO Tuscan Grille - McLean - Tysons Corner\" data-rid=\"150121\" href=\"/book/validate?rid=150121&amp;d=2017-09-30 19:15&amp;p=2&amp;pt=100&amp;ss=0&amp;sd=2017-09-30 19:15&amp;pofids=&amp;hash=3485909315\" onclick=\"OT.BestAnalytics.logRestaurantVisit(150121, '19:15')\"> 7:15 pm  </a> </li> <li class=\"timeslot-option timeslot-control\"> <a class=\"rest-row-times-btn timeslot\" data-covers=\"2\" data-datetime=\"2017-09-30 19:30\" data-name=\"BRIO Tuscan Grille - McLean - Tysons Corner\" data-rid=\"150121\" href=\"/book/validate?rid=150121&amp;d=2017-09-30 19:30&amp;p=2&amp;pt=100&amp;ss=0&amp;sd=2017-09-30 19:30&amp;pofids=&amp;hash=2887596601\" onclick=\"OT.BestAnalytics.logRestaurantVisit(150121, '19:30')\"> 7:30 pm  </a> </li> </ul></div> </div></div> </div></div> </div>,\n",
       " <div class=\"result content-section-list-row cf with-times\" data-id=\"90\" data-index=\"91\" data-lat=\"38.9331320\" data-lon=\"-77.0729570\" data-offers=\"\" data-rid=\"144943\"><div class=\"rest-row with-image\"> <div class=\"rest-row-image\"> <a href=\"/cafe-deluxe-cleveland-park\" onclick=\"OT.BestAnalytics.logRestaurantVisit(144943)\" target=\"_blank\"><img alt=\"photo of cafe deluxe - cleveland park restaurant\" class=\"lazy rest-image\" data-src=\"//resizer.otstatic.com/v2/profiles/legacy/144943.jpg\" src=\"//media.otstatic.com/search-result-node/images/no-image.png\"/></a></div> <div class=\"rest-row-info\"><div class=\"rest-row-header\"> <a class=\"rest-row-name rest-name \" href=\"/cafe-deluxe-cleveland-park\" onclick=\"OT.BestAnalytics.logRestaurantVisit(144943)\" target=\"_blank\"> <span class=\"rest-row-name-text\">Cafe Deluxe - Cleveland Park</span> </a> </div> <div class=\" flex-row-justify\"> <div class=\"rest-row-review\"> <div class=\"star-rating review-container\"><div class=\"star-wrapper small\"><div class=\"all-stars\"></div><div class=\"all-stars filled\" style=\"width: 82%;\"></div></div> <a class=\"review-link\" href=\"/cafe-deluxe-cleveland-park#reviews\" target=\"_blank\"> <span class=\"star-rating-text underline-hover\">(209)</span> <span class=\"star-rating-text--review-text underline-hover\">209 reviews</span> </a></div> <span class=\"recommended-container\"><span class=\"thumbs-up-icon\"></span> <span class=\"recommended-small\">83%</span> <span class=\"recommended-text\">83% Recommend</span> </span> </div> <div class=\"rest-row-pricing\"><i>  $    $      </i>   $    $      </div> </div><div class=\"rest-row-meta rest-row-meta-grid flex-row-justify\"> <span class=\"rest-row-meta--cuisine rest-row-meta-text\">American</span> <span class=\"rest-row-meta--location rest-row-meta-text\">Cleveland Park</span></div> <div class=\"message-alerts\"> </div> <div class=\"rest-row-times-cont\"><div class=\"rest-row-times\"> <div class=\"timeslot-window\"><ul class=\"availability-row-container\"> <li class=\"timeslot-option timeslot-control\"> <a class=\"rest-row-times-btn timeslot\" data-covers=\"2\" data-datetime=\"2017-09-30 18:30\" data-name=\"Cafe Deluxe - Cleveland Park\" data-rid=\"144943\" href=\"/book/validate?rid=144943&amp;d=2017-09-30 18:30&amp;p=2&amp;pt=100&amp;ss=0&amp;sd=2017-09-30 18:30&amp;pofids=&amp;hash=2423672283\" onclick=\"OT.BestAnalytics.logRestaurantVisit(144943, '18:30')\"> 6:30 pm  </a> </li> <li class=\"timeslot-option timeslot-control\"> <a class=\"rest-row-times-btn timeslot\" data-covers=\"2\" data-datetime=\"2017-09-30 18:45\" data-name=\"Cafe Deluxe - Cleveland Park\" data-rid=\"144943\" href=\"/book/validate?rid=144943&amp;d=2017-09-30 18:45&amp;p=2&amp;pt=100&amp;ss=0&amp;sd=2017-09-30 18:45&amp;pofids=&amp;hash=3785179791\" onclick=\"OT.BestAnalytics.logRestaurantVisit(144943, '18:45')\"> 6:45 pm  </a> </li> <li class=\"timeslot-option timeslot-control\"> <a class=\"rest-row-times-btn exact timeslot\" data-covers=\"2\" data-datetime=\"2017-09-30 19:00\" data-name=\"Cafe Deluxe - Cleveland Park\" data-rid=\"144943\" href=\"/book/validate?rid=144943&amp;d=2017-09-30 19:00&amp;p=2&amp;pt=100&amp;ss=0&amp;sd=2017-09-30 19:00&amp;pofids=&amp;hash=4100242813\" onclick=\"OT.BestAnalytics.logRestaurantVisit(144943, '19:00')\"> 7:00 pm  </a> </li> <li class=\"timeslot-option timeslot-control\"> <a class=\"rest-row-times-btn timeslot\" data-covers=\"2\" data-datetime=\"2017-09-30 19:15\" data-name=\"Cafe Deluxe - Cleveland Park\" data-rid=\"144943\" href=\"/book/validate?rid=144943&amp;d=2017-09-30 19:15&amp;p=2&amp;pt=100&amp;ss=0&amp;sd=2017-09-30 19:15&amp;pofids=&amp;hash=212913505\" onclick=\"OT.BestAnalytics.logRestaurantVisit(144943, '19:15')\"> 7:15 pm  </a> </li> <li class=\"timeslot-option timeslot-control\"> <a class=\"rest-row-times-btn timeslot\" data-covers=\"2\" data-datetime=\"2017-09-30 19:30\" data-name=\"Cafe Deluxe - Cleveland Park\" data-rid=\"144943\" href=\"/book/validate?rid=144943&amp;d=2017-09-30 19:30&amp;p=2&amp;pt=100&amp;ss=0&amp;sd=2017-09-30 19:30&amp;pofids=&amp;hash=4048011838\" onclick=\"OT.BestAnalytics.logRestaurantVisit(144943, '19:30')\"> 7:30 pm  </a> </li> </ul></div> </div></div> </div></div> </div>,\n",
       " <div class=\"result content-section-list-row cf with-times\" data-id=\"91\" data-index=\"92\" data-lat=\"38.8801330\" data-lon=\"-77.1087790\" data-offers=\"\" data-rid=\"53359\"><div class=\"rest-row with-image\"> <div class=\"rest-row-image\"> <a href=\"/rustico-ballston\" onclick=\"OT.BestAnalytics.logRestaurantVisit(53359)\" target=\"_blank\"><img alt=\"photo of rustico - ballston restaurant\" class=\"lazy rest-image\" data-src=\"//resizer.otstatic.com/v2/profiles/legacy/53359.jpg\" src=\"//media.otstatic.com/search-result-node/images/no-image.png\"/></a></div> <div class=\"rest-row-info\"><div class=\"rest-row-header\"> <a class=\"rest-row-name rest-name \" href=\"/rustico-ballston\" onclick=\"OT.BestAnalytics.logRestaurantVisit(53359)\" target=\"_blank\"> <span class=\"rest-row-name-text\">Rustico - Ballston</span> </a> </div> <div class=\" flex-row-justify\"> <div class=\"rest-row-review\"> <div class=\"star-rating review-container\"><div class=\"star-wrapper small\"><div class=\"all-stars\"></div><div class=\"all-stars filled\" style=\"width: 86%;\"></div></div> <a class=\"review-link\" href=\"/rustico-ballston#reviews\" target=\"_blank\"> <span class=\"star-rating-text underline-hover\">(831)</span> <span class=\"star-rating-text--review-text underline-hover\">831 reviews</span> </a></div> <span class=\"recommended-container\"><span class=\"thumbs-up-icon\"></span> <span class=\"recommended-small\">88%</span> <span class=\"recommended-text\">88% Recommend</span> </span> </div> <div class=\"rest-row-pricing\"><i>  $    $      </i>   $    $      </div> </div><div class=\"rest-row-meta rest-row-meta-grid flex-row-justify\"> <span class=\"rest-row-meta--cuisine rest-row-meta-text\">American</span> <span class=\"rest-row-meta--location rest-row-meta-text\">Arlington</span></div> <div class=\"message-alerts\"> </div> <div class=\"rest-row-times-cont\"><div class=\"rest-row-times\"> <div class=\"timeslot-window\"><ul class=\"availability-row-container\"> <li class=\"timeslot-option timeslot-control\"> <a class=\"rest-row-times-btn timeslot\" data-covers=\"2\" data-datetime=\"2017-09-30 18:30\" data-name=\"Rustico - Ballston\" data-rid=\"53359\" href=\"/book/validate?rid=53359&amp;d=2017-09-30 18:30&amp;p=2&amp;pt=100&amp;ss=0&amp;sd=2017-09-30 18:30&amp;pofids=&amp;hash=688504309\" onclick=\"OT.BestAnalytics.logRestaurantVisit(53359, '18:30')\"> 6:30 pm  </a> </li> <li class=\"timeslot-option timeslot-control\"> <a class=\"rest-row-times-btn timeslot\" data-covers=\"2\" data-datetime=\"2017-09-30 18:45\" data-name=\"Rustico - Ballston\" data-rid=\"53359\" href=\"/book/validate?rid=53359&amp;d=2017-09-30 18:45&amp;p=2&amp;pt=100&amp;ss=0&amp;sd=2017-09-30 18:45&amp;pofids=&amp;hash=149752662\" onclick=\"OT.BestAnalytics.logRestaurantVisit(53359, '18:45')\"> 6:45 pm  </a> </li> <li class=\"timeslot-option timeslot-control\"> <a class=\"rest-row-times-btn exact timeslot\" data-covers=\"2\" data-datetime=\"2017-09-30 19:00\" data-name=\"Rustico - Ballston\" data-rid=\"53359\" href=\"/book/validate?rid=53359&amp;d=2017-09-30 19:00&amp;p=2&amp;pt=100&amp;ss=0&amp;sd=2017-09-30 19:00&amp;pofids=&amp;hash=1373887510\" onclick=\"OT.BestAnalytics.logRestaurantVisit(53359, '19:00')\"> 7:00 pm  </a> </li> <li class=\"timeslot-option timeslot-control\"> <a class=\"rest-row-times-btn timeslot\" data-covers=\"2\" data-datetime=\"2017-09-30 19:15\" data-name=\"Rustico - Ballston\" data-rid=\"53359\" href=\"/book/validate?rid=53359&amp;d=2017-09-30 19:15&amp;p=2&amp;pt=100&amp;ss=0&amp;sd=2017-09-30 19:15&amp;pofids=&amp;hash=3486475761\" onclick=\"OT.BestAnalytics.logRestaurantVisit(53359, '19:15')\"> 7:15 pm  </a> </li> <li class=\"timeslot-option timeslot-control\"> <a class=\"rest-row-times-btn timeslot\" data-covers=\"2\" data-datetime=\"2017-09-30 19:30\" data-name=\"Rustico - Ballston\" data-rid=\"53359\" href=\"/book/validate?rid=53359&amp;d=2017-09-30 19:30&amp;p=2&amp;pt=100&amp;ss=0&amp;sd=2017-09-30 19:30&amp;pofids=&amp;hash=1908503047\" onclick=\"OT.BestAnalytics.logRestaurantVisit(53359, '19:30')\"> 7:30 pm  </a> </li> </ul></div> </div></div> </div></div> </div>,\n",
       " <div class=\"result content-section-list-row cf with-times\" data-id=\"92\" data-index=\"93\" data-lat=\"38.8805290\" data-lon=\"-77.1129250\" data-offers=\"\" data-rid=\"35623\"><div class=\"rest-row with-image\"> <div class=\"rest-row-image\"> <a href=\"/grand-cru-wine-bar-and-bistro\" onclick=\"OT.BestAnalytics.logRestaurantVisit(35623)\" target=\"_blank\"><img alt=\"photo of grand cru wine bar &amp; bistro restaurant\" class=\"lazy rest-image\" data-src=\"//resizer.otstatic.com/v2/profiles/legacy/35623.jpg\" src=\"//media.otstatic.com/search-result-node/images/no-image.png\"/></a></div> <div class=\"rest-row-info\"><div class=\"rest-row-header\"> <a class=\"rest-row-name rest-name \" href=\"/grand-cru-wine-bar-and-bistro\" onclick=\"OT.BestAnalytics.logRestaurantVisit(35623)\" target=\"_blank\"> <span class=\"rest-row-name-text\">Grand Cru Wine Bar &amp; Bistro</span> </a> </div> <div class=\" flex-row-justify\"> <div class=\"rest-row-review\"> <div class=\"star-rating review-container\"><div class=\"star-wrapper small\"><div class=\"all-stars\"></div><div class=\"all-stars filled\" style=\"width: 88%;\"></div></div> <a class=\"review-link\" href=\"/grand-cru-wine-bar-and-bistro#reviews\" target=\"_blank\"> <span class=\"star-rating-text underline-hover\">(755)</span> <span class=\"star-rating-text--review-text underline-hover\">755 reviews</span> </a></div> <span class=\"recommended-container\"><span class=\"thumbs-up-icon\"></span> <span class=\"recommended-small\">96%</span> <span class=\"recommended-text\">96% Recommend</span> </span> </div> <div class=\"rest-row-pricing\"><i>  $    $      </i>   $    $      </div> </div><div class=\"rest-row-meta rest-row-meta-grid flex-row-justify\"> <span class=\"rest-row-meta--cuisine rest-row-meta-text\">French American</span> <span class=\"rest-row-meta--location rest-row-meta-text\">Arlington</span></div> <div class=\"message-alerts\"> </div> <div class=\"rest-row-times-cont\"><div class=\"rest-row-times\"> <div class=\"timeslot-window\"><ul class=\"availability-row-container\"> <li class=\"timeslot-option timeslot-control\"> <a class=\"rest-row-times-btn timeslot\" data-covers=\"2\" data-datetime=\"2017-09-30 18:30\" data-name=\"Grand Cru Wine Bar &amp; Bistro\" data-rid=\"35623\" href=\"/book/validate?rid=35623&amp;d=2017-09-30 18:30&amp;p=2&amp;pt=100&amp;ss=0&amp;sd=2017-09-30 18:30&amp;pofids=&amp;hash=227904745\" onclick=\"OT.BestAnalytics.logRestaurantVisit(35623, '18:30')\"> 6:30 pm  </a> </li> <li class=\"timeslot-option timeslot-control\"> <a class=\"rest-row-times-btn timeslot\" data-covers=\"2\" data-datetime=\"2017-09-30 18:45\" data-name=\"Grand Cru Wine Bar &amp; Bistro\" data-rid=\"35623\" href=\"/book/validate?rid=35623&amp;d=2017-09-30 18:45&amp;p=2&amp;pt=100&amp;ss=0&amp;sd=2017-09-30 18:45&amp;pofids=&amp;hash=62064774\" onclick=\"OT.BestAnalytics.logRestaurantVisit(35623, '18:45')\"> 6:45 pm  </a> </li> <li class=\"timeslot-option timeslot-control\"> <a class=\"rest-row-times-btn exact timeslot\" data-covers=\"2\" data-datetime=\"2017-09-30 19:00\" data-name=\"Grand Cru Wine Bar &amp; Bistro\" data-rid=\"35623\" href=\"/book/validate?rid=35623&amp;d=2017-09-30 19:00&amp;p=2&amp;pt=100&amp;ss=0&amp;sd=2017-09-30 19:00&amp;pofids=&amp;hash=4061441829\" onclick=\"OT.BestAnalytics.logRestaurantVisit(35623, '19:00')\"> 7:00 pm  </a> </li> <li class=\"timeslot-option timeslot-control\"> <a class=\"rest-row-times-btn timeslot\" data-covers=\"2\" data-datetime=\"2017-09-30 19:15\" data-name=\"Grand Cru Wine Bar &amp; Bistro\" data-rid=\"35623\" href=\"/book/validate?rid=35623&amp;d=2017-09-30 19:15&amp;p=2&amp;pt=100&amp;ss=0&amp;sd=2017-09-30 19:15&amp;pofids=&amp;hash=3492609409\" onclick=\"OT.BestAnalytics.logRestaurantVisit(35623, '19:15')\"> 7:15 pm  </a> </li> <li class=\"timeslot-option timeslot-control\"> <a class=\"rest-row-times-btn timeslot\" data-covers=\"2\" data-datetime=\"2017-09-30 19:30\" data-name=\"Grand Cru Wine Bar &amp; Bistro\" data-rid=\"35623\" href=\"/book/validate?rid=35623&amp;d=2017-09-30 19:30&amp;p=2&amp;pt=100&amp;ss=0&amp;sd=2017-09-30 19:30&amp;pofids=&amp;hash=2565569301\" onclick=\"OT.BestAnalytics.logRestaurantVisit(35623, '19:30')\"> 7:30 pm  </a> </li> </ul></div> </div></div> </div></div> </div>,\n",
       " <div class=\"result content-section-list-row cf with-times\" data-id=\"93\" data-index=\"94\" data-lat=\"38.8802410\" data-lon=\"-77.1146690\" data-offers=\"\" data-rid=\"110074\"><div class=\"rest-row with-image\"> <div class=\"rest-row-image\"> <a href=\"/mussel-bar-and-grille-arlington\" onclick=\"OT.BestAnalytics.logRestaurantVisit(110074)\" target=\"_blank\"><img alt=\"photo of mussel bar &amp; grille - arlington restaurant\" class=\"lazy rest-image\" data-src=\"//resizer.otstatic.com/v2/profiles/legacy/110074.jpg\" src=\"//media.otstatic.com/search-result-node/images/no-image.png\"/></a></div> <div class=\"rest-row-info\"><div class=\"rest-row-header\"> <a class=\"rest-row-name rest-name \" href=\"/mussel-bar-and-grille-arlington\" onclick=\"OT.BestAnalytics.logRestaurantVisit(110074)\" target=\"_blank\"> <span class=\"rest-row-name-text\">Mussel Bar &amp; Grille - Arlington</span> </a> </div> <div class=\" flex-row-justify\"> <div class=\"rest-row-review\"> <div class=\"star-rating review-container\"><div class=\"star-wrapper small\"><div class=\"all-stars\"></div><div class=\"all-stars filled\" style=\"width: 84%;\"></div></div> <a class=\"review-link\" href=\"/mussel-bar-and-grille-arlington#reviews\" target=\"_blank\"> <span class=\"star-rating-text underline-hover\">(686)</span> <span class=\"star-rating-text--review-text underline-hover\">686 reviews</span> </a></div> <span class=\"recommended-container\"><span class=\"thumbs-up-icon\"></span> <span class=\"recommended-small\">80%</span> <span class=\"recommended-text\">80% Recommend</span> </span> </div> <div class=\"rest-row-pricing\"><i>  $    $      </i>   $    $      </div> </div><div class=\"rest-row-meta rest-row-meta-grid flex-row-justify\"> <span class=\"rest-row-meta--cuisine rest-row-meta-text\">Belgian</span> <span class=\"rest-row-meta--location rest-row-meta-text\">Arlington</span></div> <div class=\"message-alerts\"> </div> <div class=\"rest-row-times-cont\"><div class=\"rest-row-times\"> <div class=\"timeslot-window\"><ul class=\"availability-row-container\"> <li class=\"timeslot-option timeslot-control\"> <a class=\"rest-row-times-btn timeslot\" data-covers=\"2\" data-datetime=\"2017-09-30 18:30\" data-name=\"Mussel Bar &amp; Grille - Arlington\" data-rid=\"110074\" href=\"/book/validate?rid=110074&amp;d=2017-09-30 18:30&amp;p=2&amp;pt=100&amp;ss=0&amp;sd=2017-09-30 18:30&amp;pofids=&amp;hash=3994638198\" onclick=\"OT.BestAnalytics.logRestaurantVisit(110074, '18:30')\"> 6:30 pm  </a> </li> <li class=\"timeslot-option timeslot-control\"> <a class=\"rest-row-times-btn timeslot\" data-covers=\"2\" data-datetime=\"2017-09-30 18:45\" data-name=\"Mussel Bar &amp; Grille - Arlington\" data-rid=\"110074\" href=\"/book/validate?rid=110074&amp;d=2017-09-30 18:45&amp;p=2&amp;pt=100&amp;ss=0&amp;sd=2017-09-30 18:45&amp;pofids=&amp;hash=3374776244\" onclick=\"OT.BestAnalytics.logRestaurantVisit(110074, '18:45')\"> 6:45 pm  </a> </li> <li class=\"timeslot-option timeslot-control\"> <a class=\"rest-row-times-btn exact timeslot\" data-covers=\"2\" data-datetime=\"2017-09-30 19:00\" data-name=\"Mussel Bar &amp; Grille - Arlington\" data-rid=\"110074\" href=\"/book/validate?rid=110074&amp;d=2017-09-30 19:00&amp;p=2&amp;pt=100&amp;ss=0&amp;sd=2017-09-30 19:00&amp;pofids=&amp;hash=1063802246\" onclick=\"OT.BestAnalytics.logRestaurantVisit(110074, '19:00')\"> 7:00 pm  </a> </li> <li class=\"timeslot-option timeslot-control\"> <a class=\"rest-row-times-btn timeslot\" data-covers=\"2\" data-datetime=\"2017-09-30 19:15\" data-name=\"Mussel Bar &amp; Grille - Arlington\" data-rid=\"110074\" href=\"/book/validate?rid=110074&amp;d=2017-09-30 19:15&amp;p=2&amp;pt=100&amp;ss=0&amp;sd=2017-09-30 19:15&amp;pofids=&amp;hash=1047084774\" onclick=\"OT.BestAnalytics.logRestaurantVisit(110074, '19:15')\"> 7:15 pm  </a> </li> <li class=\"timeslot-option timeslot-control\"> <a class=\"rest-row-times-btn timeslot\" data-covers=\"2\" data-datetime=\"2017-09-30 19:30\" data-name=\"Mussel Bar &amp; Grille - Arlington\" data-rid=\"110074\" href=\"/book/validate?rid=110074&amp;d=2017-09-30 19:30&amp;p=2&amp;pt=100&amp;ss=0&amp;sd=2017-09-30 19:30&amp;pofids=&amp;hash=3386775940\" onclick=\"OT.BestAnalytics.logRestaurantVisit(110074, '19:30')\"> 7:30 pm  </a> </li> </ul></div> </div></div> </div></div> </div>,\n",
       " <div class=\"result content-section-list-row cf with-times\" data-id=\"94\" data-index=\"95\" data-lat=\"38.9337680\" data-lon=\"-77.0571540\" data-offers=\"\" data-rid=\"1265\"><div class=\"rest-row with-image\"> <div class=\"rest-row-image\"> <a href=\"/ardeo-and-bardeo\" onclick=\"OT.BestAnalytics.logRestaurantVisit(1265)\" target=\"_blank\"><img alt=\"photo of ardeo + bardeo restaurant\" class=\"lazy rest-image\" data-src=\"//resizer.otstatic.com/v2/profiles/legacy/1265.jpg\" src=\"//media.otstatic.com/search-result-node/images/no-image.png\"/></a></div> <div class=\"rest-row-info\"><div class=\"rest-row-header\"> <a class=\"rest-row-name rest-name \" href=\"/ardeo-and-bardeo\" onclick=\"OT.BestAnalytics.logRestaurantVisit(1265)\" target=\"_blank\"> <span class=\"rest-row-name-text\">Ardeo + Bardeo</span> </a> </div> <div class=\" flex-row-justify\"> <div class=\"rest-row-review\"> <div class=\"star-rating review-container\"><div class=\"star-wrapper small\"><div class=\"all-stars\"></div><div class=\"all-stars filled\" style=\"width: 88%;\"></div></div> <a class=\"review-link\" href=\"/ardeo-and-bardeo#reviews\" target=\"_blank\"> <span class=\"star-rating-text underline-hover\">(1662)</span> <span class=\"star-rating-text--review-text underline-hover\">1662 reviews</span> </a></div> <span class=\"recommended-container\"><span class=\"thumbs-up-icon\"></span> <span class=\"recommended-small\">87%</span> <span class=\"recommended-text\">87% Recommend</span> </span> </div> <div class=\"rest-row-pricing\"><i>  $    $      </i>   $    $      </div> </div><div class=\"rest-row-meta rest-row-meta-grid flex-row-justify\"> <span class=\"rest-row-meta--cuisine rest-row-meta-text\">American</span> <span class=\"rest-row-meta--location rest-row-meta-text\">Cleveland Park</span></div> <div class=\"message-alerts\"> </div> <div class=\"rest-row-times-cont\"><div class=\"rest-row-times\"> <div class=\"timeslot-window\"><ul class=\"availability-row-container\"> <li class=\"timeslot-option timeslot-control\"> <a class=\"rest-row-times-btn timeslot\" data-covers=\"2\" data-datetime=\"2017-09-30 18:30\" data-name=\"Ardeo + Bardeo\" data-rid=\"1265\" href=\"/book/validate?rid=1265&amp;d=2017-09-30 18:30&amp;p=2&amp;pt=100&amp;ss=0&amp;sd=2017-09-30 18:30&amp;pofids=&amp;hash=1265318309\" onclick=\"OT.BestAnalytics.logRestaurantVisit(1265, '18:30')\"> 6:30 pm  </a> </li> <li class=\"timeslot-option timeslot-control\"> <a class=\"rest-row-times-btn timeslot\" data-covers=\"2\" data-datetime=\"2017-09-30 18:45\" data-name=\"Ardeo + Bardeo\" data-rid=\"1265\" href=\"/book/validate?rid=1265&amp;d=2017-09-30 18:45&amp;p=2&amp;pt=100&amp;ss=0&amp;sd=2017-09-30 18:45&amp;pofids=&amp;hash=2810396955\" onclick=\"OT.BestAnalytics.logRestaurantVisit(1265, '18:45')\"> 6:45 pm  </a> </li> <li class=\"timeslot-option timeslot-control\"> <a class=\"rest-row-times-btn exact timeslot\" data-covers=\"2\" data-datetime=\"2017-09-30 19:00\" data-name=\"Ardeo + Bardeo\" data-rid=\"1265\" href=\"/book/validate?rid=1265&amp;d=2017-09-30 19:00&amp;p=2&amp;pt=100&amp;ss=0&amp;sd=2017-09-30 19:00&amp;pofids=&amp;hash=2181579101\" onclick=\"OT.BestAnalytics.logRestaurantVisit(1265, '19:00')\"> 7:00 pm  </a> </li> <li class=\"timeslot-option timeslot-control\"> <a class=\"rest-row-times-btn timeslot\" data-covers=\"2\" data-datetime=\"2017-09-30 19:15\" data-name=\"Ardeo + Bardeo\" data-rid=\"1265\" href=\"/book/validate?rid=1265&amp;d=2017-09-30 19:15&amp;p=2&amp;pt=100&amp;ss=0&amp;sd=2017-09-30 19:15&amp;pofids=&amp;hash=542978854\" onclick=\"OT.BestAnalytics.logRestaurantVisit(1265, '19:15')\"> 7:15 pm  </a> </li> <li class=\"timeslot-option timeslot-control\"> <a class=\"rest-row-times-btn timeslot\" data-covers=\"2\" data-datetime=\"2017-09-30 19:30\" data-name=\"Ardeo + Bardeo\" data-rid=\"1265\" href=\"/book/validate?rid=1265&amp;d=2017-09-30 19:30&amp;p=2&amp;pt=100&amp;ss=0&amp;sd=2017-09-30 19:30&amp;pofids=&amp;hash=1912065960\" onclick=\"OT.BestAnalytics.logRestaurantVisit(1265, '19:30')\"> 7:30 pm  </a> </li> </ul></div> </div></div> </div></div> </div>,\n",
       " <div class=\"result content-section-list-row cf with-times\" data-id=\"95\" data-index=\"96\" data-lat=\"38.8888000\" data-lon=\"-77.0935490\" data-offers=\"\" data-rid=\"444346\"><div class=\"rest-row with-image\"> <div class=\"rest-row-image\"> <a href=\"/restaurant/profile/444346?p=2&amp;sd=2017-09-30%2019%3A00\" onclick=\"OT.BestAnalytics.logRestaurantVisit(444346)\" target=\"_blank\"><img alt=\"photo of baba restaurant\" class=\"lazy rest-image\" data-src=\"//resizer.otstatic.com/v2/profiles/legacy/444346.jpg\" src=\"//media.otstatic.com/search-result-node/images/no-image.png\"/></a></div> <div class=\"rest-row-info\"><div class=\"rest-row-header\"> <a class=\"rest-row-name rest-name \" href=\"/restaurant/profile/444346?p=2&amp;sd=2017-09-30%2019%3A00\" onclick=\"OT.BestAnalytics.logRestaurantVisit(444346)\" target=\"_blank\"> <span class=\"rest-row-name-text\">Baba</span> </a> </div> <div class=\" flex-row-justify\"> <div class=\"rest-row-review\"> <div class=\"star-rating review-container\"><div class=\"star-wrapper small\"><div class=\"all-stars\"></div><div class=\"all-stars filled\" style=\"width: 92%;\"></div></div> <a class=\"review-link\" href=\"/restaurant/profile/444346?p=2&amp;sd=2017-09-30%2019%3A00#reviews\" target=\"_blank\"> <span class=\"star-rating-text underline-hover\">(57)</span> <span class=\"star-rating-text--review-text underline-hover\">57 reviews</span> </a></div> <span class=\"recommended-container\"><span class=\"thumbs-up-icon\"></span> <span class=\"recommended-small\">96%</span> <span class=\"recommended-text\">96% Recommend</span> </span> </div> <div class=\"rest-row-pricing\"><i>  $    $      </i>   $    $      </div> </div><div class=\"rest-row-meta rest-row-meta-grid flex-row-justify\"> <span class=\"rest-row-meta--cuisine rest-row-meta-text\">Balkan style</span> <span class=\"rest-row-meta--location rest-row-meta-text\">Arlington</span></div> <div class=\"message-alerts\"> </div> <div class=\"rest-row-times-cont\"><div class=\"rest-row-times\"> <div class=\"timeslot-window\"><ul class=\"availability-row-container\"> <li class=\"timeslot-option timeslot-control\"> <a class=\"rest-row-times-btn timeslot\" data-covers=\"2\" data-datetime=\"2017-09-30 18:30\" data-href=\"/book/validate?rid=444346&amp;d=2017-09-30 18:30&amp;p=2&amp;pt=100&amp;ss=0&amp;sd=2017-09-30 18:30&amp;pofids=&amp;hash=4059319650\" data-name=\"Baba\" data-rid=\"444346\" data-table-categories=\"default,highTop\" data-table-categories-tooltip-title=\"Table Types\"> 6:30 pm* <div class=\"js-table-categories-tooltip table-categories-tooltip\"><div class=\"table-categories-tooltip-arrow\"></div><div class=\"table-categories-tooltip-container\"><h5 class=\"upcase-style\">Table types</h5> <div>Standard</div> <div>High Top</div> </div></div> </a> </li> <li class=\"timeslot-option timeslot-control\"> <a class=\"rest-row-times-btn timeslot\" data-covers=\"2\" data-datetime=\"2017-09-30 18:45\" data-href=\"/book/validate?rid=444346&amp;d=2017-09-30 18:45&amp;p=2&amp;pt=100&amp;ss=0&amp;sd=2017-09-30 18:45&amp;pofids=&amp;hash=1704422278\" data-name=\"Baba\" data-rid=\"444346\" data-table-categories=\"default,highTop\" data-table-categories-tooltip-title=\"Table Types\"> 6:45 pm* <div class=\"js-table-categories-tooltip table-categories-tooltip\"><div class=\"table-categories-tooltip-arrow\"></div><div class=\"table-categories-tooltip-container\"><h5 class=\"upcase-style\">Table types</h5> <div>Standard</div> <div>High Top</div> </div></div> </a> </li> <li class=\"timeslot-option timeslot-control\"> <a class=\"rest-row-times-btn exact timeslot\" data-covers=\"2\" data-datetime=\"2017-09-30 19:00\" data-href=\"/book/validate?rid=444346&amp;d=2017-09-30 19:00&amp;p=2&amp;pt=100&amp;ss=0&amp;sd=2017-09-30 19:00&amp;pofids=&amp;hash=1955927356\" data-name=\"Baba\" data-rid=\"444346\" data-table-categories=\"default,highTop\" data-table-categories-tooltip-title=\"Table Types\"> 7:00 pm* <div class=\"js-table-categories-tooltip table-categories-tooltip\"><div class=\"table-categories-tooltip-arrow\"></div><div class=\"table-categories-tooltip-container\"><h5 class=\"upcase-style\">Table types</h5> <div>Standard</div> <div>High Top</div> </div></div> </a> </li> <li class=\"timeslot-option timeslot-control\"> <a class=\"rest-row-times-btn timeslot\" data-covers=\"2\" data-datetime=\"2017-09-30 19:15\" data-href=\"/book/validate?rid=444346&amp;d=2017-09-30 19:15&amp;p=2&amp;pt=100&amp;ss=0&amp;sd=2017-09-30 19:15&amp;pofids=&amp;hash=3887273914\" data-name=\"Baba\" data-rid=\"444346\" data-table-categories=\"default,highTop\" data-table-categories-tooltip-title=\"Table Types\"> 7:15 pm* <div class=\"js-table-categories-tooltip table-categories-tooltip\"><div class=\"table-categories-tooltip-arrow\"></div><div class=\"table-categories-tooltip-container\"><h5 class=\"upcase-style\">Table types</h5> <div>Standard</div> <div>High Top</div> </div></div> </a> </li> <li class=\"timeslot-option timeslot-control\"> <a class=\"rest-row-times-btn timeslot\" data-covers=\"2\" data-datetime=\"2017-09-30 19:30\" data-href=\"/book/validate?rid=444346&amp;d=2017-09-30 19:30&amp;p=2&amp;pt=100&amp;ss=0&amp;sd=2017-09-30 19:30&amp;pofids=&amp;hash=1309147593\" data-name=\"Baba\" data-rid=\"444346\" data-table-categories=\"default,highTop\" data-table-categories-tooltip-title=\"Table Types\"> 7:30 pm* <div class=\"js-table-categories-tooltip table-categories-tooltip\"><div class=\"table-categories-tooltip-arrow\"></div><div class=\"table-categories-tooltip-container\"><h5 class=\"upcase-style\">Table types</h5> <div>Standard</div> <div>High Top</div> </div></div> </a> </li> </ul></div> </div></div> </div></div> </div>,\n",
       " <div class=\"result content-section-list-row cf with-times\" data-id=\"96\" data-index=\"97\" data-lat=\"38.9052670\" data-lon=\"-77.0488210\" data-offers=\"\" data-rid=\"140044\"><div class=\"rest-row with-image\"> <div class=\"rest-row-image\"> <a href=\"/cafe-deluxe-west-end\" onclick=\"OT.BestAnalytics.logRestaurantVisit(140044)\" target=\"_blank\"><img alt=\"photo of cafe deluxe - west end restaurant\" class=\"lazy rest-image\" data-src=\"//resizer.otstatic.com/v2/profiles/legacy/140044.jpg\" src=\"//media.otstatic.com/search-result-node/images/no-image.png\"/></a></div> <div class=\"rest-row-info\"><div class=\"rest-row-header\"> <a class=\"rest-row-name rest-name \" href=\"/cafe-deluxe-west-end\" onclick=\"OT.BestAnalytics.logRestaurantVisit(140044)\" target=\"_blank\"> <span class=\"rest-row-name-text\">Cafe Deluxe - West End</span> </a> </div> <div class=\" flex-row-justify\"> <div class=\"rest-row-review\"> <div class=\"star-rating review-container\"><div class=\"star-wrapper small\"><div class=\"all-stars\"></div><div class=\"all-stars filled\" style=\"width: 82%;\"></div></div> <a class=\"review-link\" href=\"/cafe-deluxe-west-end#reviews\" target=\"_blank\"> <span class=\"star-rating-text underline-hover\">(371)</span> <span class=\"star-rating-text--review-text underline-hover\">371 reviews</span> </a></div> <span class=\"recommended-container\"><span class=\"thumbs-up-icon\"></span> <span class=\"recommended-small\">77%</span> <span class=\"recommended-text\">77% Recommend</span> </span> </div> <div class=\"rest-row-pricing\"><i>  $    $      </i>   $    $      </div> </div><div class=\"rest-row-meta rest-row-meta-grid flex-row-justify\"> <span class=\"rest-row-meta--cuisine rest-row-meta-text\">American</span> <span class=\"rest-row-meta--location rest-row-meta-text\">West End</span></div> <div class=\"message-alerts\"> </div> <div class=\"rest-row-times-cont\"><div class=\"rest-row-times\"> <div class=\"timeslot-window\"><ul class=\"availability-row-container\"> <li class=\"timeslot-option timeslot-control\"> <a class=\"rest-row-times-btn timeslot\" data-covers=\"2\" data-datetime=\"2017-09-30 18:30\" data-name=\"Cafe Deluxe - West End\" data-rid=\"140044\" href=\"/book/validate?rid=140044&amp;d=2017-09-30 18:30&amp;p=2&amp;pt=100&amp;ss=0&amp;sd=2017-09-30 18:30&amp;pofids=&amp;hash=3519203457\" onclick=\"OT.BestAnalytics.logRestaurantVisit(140044, '18:30')\"> 6:30 pm  </a> </li> <li class=\"timeslot-option timeslot-control\"> <a class=\"rest-row-times-btn timeslot\" data-covers=\"2\" data-datetime=\"2017-09-30 18:45\" data-name=\"Cafe Deluxe - West End\" data-rid=\"140044\" href=\"/book/validate?rid=140044&amp;d=2017-09-30 18:45&amp;p=2&amp;pt=100&amp;ss=0&amp;sd=2017-09-30 18:45&amp;pofids=&amp;hash=1598850674\" onclick=\"OT.BestAnalytics.logRestaurantVisit(140044, '18:45')\"> 6:45 pm  </a> </li> <li class=\"timeslot-option timeslot-control\"> <a class=\"rest-row-times-btn exact timeslot\" data-covers=\"2\" data-datetime=\"2017-09-30 19:00\" data-name=\"Cafe Deluxe - West End\" data-rid=\"140044\" href=\"/book/validate?rid=140044&amp;d=2017-09-30 19:00&amp;p=2&amp;pt=100&amp;ss=0&amp;sd=2017-09-30 19:00&amp;pofids=&amp;hash=2151391417\" onclick=\"OT.BestAnalytics.logRestaurantVisit(140044, '19:00')\"> 7:00 pm  </a> </li> <li class=\"timeslot-option timeslot-control\"> <a class=\"rest-row-times-btn timeslot\" data-covers=\"2\" data-datetime=\"2017-09-30 19:15\" data-name=\"Cafe Deluxe - West End\" data-rid=\"140044\" href=\"/book/validate?rid=140044&amp;d=2017-09-30 19:15&amp;p=2&amp;pt=100&amp;ss=0&amp;sd=2017-09-30 19:15&amp;pofids=&amp;hash=1630697067\" onclick=\"OT.BestAnalytics.logRestaurantVisit(140044, '19:15')\"> 7:15 pm  </a> </li> <li class=\"timeslot-option timeslot-control\"> <a class=\"rest-row-times-btn timeslot\" data-covers=\"2\" data-datetime=\"2017-09-30 19:30\" data-name=\"Cafe Deluxe - West End\" data-rid=\"140044\" href=\"/book/validate?rid=140044&amp;d=2017-09-30 19:30&amp;p=2&amp;pt=100&amp;ss=0&amp;sd=2017-09-30 19:30&amp;pofids=&amp;hash=366486892\" onclick=\"OT.BestAnalytics.logRestaurantVisit(140044, '19:30')\"> 7:30 pm  </a> </li> </ul></div> </div></div> </div></div> </div>,\n",
       " <div class=\"result content-section-list-row cf with-times\" data-id=\"97\" data-index=\"98\" data-lat=\"38.8893790\" data-lon=\"-77.0868350\" data-offers=\"\" data-rid=\"172918\"><div class=\"rest-row with-image\"> <div class=\"rest-row-image\"> <a href=\"/fire-works-arlington\" onclick=\"OT.BestAnalytics.logRestaurantVisit(172918)\" target=\"_blank\"><img alt=\"photo of fire works - arlington restaurant\" class=\"lazy rest-image\" data-src=\"//resizer.otstatic.com/v2/profiles/legacy/172918.jpg\" src=\"//media.otstatic.com/search-result-node/images/no-image.png\"/></a></div> <div class=\"rest-row-info\"><div class=\"rest-row-header\"> <a class=\"rest-row-name rest-name \" href=\"/fire-works-arlington\" onclick=\"OT.BestAnalytics.logRestaurantVisit(172918)\" target=\"_blank\"> <span class=\"rest-row-name-text\">Fire Works - Arlington</span> </a> </div> <div class=\" flex-row-justify\"> <div class=\"rest-row-review\"> <div class=\"star-rating review-container\"><div class=\"star-wrapper small\"><div class=\"all-stars\"></div><div class=\"all-stars filled\" style=\"width: 88%;\"></div></div> <a class=\"review-link\" href=\"/fire-works-arlington#reviews\" target=\"_blank\"> <span class=\"star-rating-text underline-hover\">(93)</span> <span class=\"star-rating-text--review-text underline-hover\">93 reviews</span> </a></div> <span class=\"recommended-container\"><span class=\"thumbs-up-icon\"></span> <span class=\"recommended-small\">93%</span> <span class=\"recommended-text\">93% Recommend</span> </span> </div> <div class=\"rest-row-pricing\"><i>  $    $      </i>   $    $      </div> </div><div class=\"rest-row-meta rest-row-meta-grid flex-row-justify\"> <span class=\"rest-row-meta--cuisine rest-row-meta-text\">Contemporary American</span> <span class=\"rest-row-meta--location rest-row-meta-text\">Arlington</span></div> <div class=\"message-alerts\"> </div> <div class=\"rest-row-times-cont\"><div class=\"rest-row-times\"> <div class=\"timeslot-window\"><ul class=\"availability-row-container\"> <li class=\"timeslot-option timeslot-control\"> <a class=\"rest-row-times-btn timeslot\" data-covers=\"2\" data-datetime=\"2017-09-30 18:30\" data-name=\"Fire Works - Arlington\" data-rid=\"172918\" href=\"/book/validate?rid=172918&amp;d=2017-09-30 18:30&amp;p=2&amp;pt=100&amp;ss=0&amp;sd=2017-09-30 18:30&amp;pofids=&amp;hash=2678310567\" onclick=\"OT.BestAnalytics.logRestaurantVisit(172918, '18:30')\"> 6:30 pm  </a> </li> <li class=\"timeslot-option timeslot-control\"> <a class=\"rest-row-times-btn timeslot\" data-covers=\"2\" data-datetime=\"2017-09-30 18:45\" data-name=\"Fire Works - Arlington\" data-rid=\"172918\" href=\"/book/validate?rid=172918&amp;d=2017-09-30 18:45&amp;p=2&amp;pt=100&amp;ss=0&amp;sd=2017-09-30 18:45&amp;pofids=&amp;hash=3187408284\" onclick=\"OT.BestAnalytics.logRestaurantVisit(172918, '18:45')\"> 6:45 pm  </a> </li> <li class=\"timeslot-option timeslot-control\"> <a class=\"rest-row-times-btn exact timeslot\" data-covers=\"2\" data-datetime=\"2017-09-30 19:00\" data-name=\"Fire Works - Arlington\" data-rid=\"172918\" href=\"/book/validate?rid=172918&amp;d=2017-09-30 19:00&amp;p=2&amp;pt=100&amp;ss=0&amp;sd=2017-09-30 19:00&amp;pofids=&amp;hash=2029434474\" onclick=\"OT.BestAnalytics.logRestaurantVisit(172918, '19:00')\"> 7:00 pm  </a> </li> <li class=\"timeslot-option timeslot-control\"> <a class=\"rest-row-times-btn timeslot\" data-covers=\"2\" data-datetime=\"2017-09-30 19:15\" data-name=\"Fire Works - Arlington\" data-rid=\"172918\" href=\"/book/validate?rid=172918&amp;d=2017-09-30 19:15&amp;p=2&amp;pt=100&amp;ss=0&amp;sd=2017-09-30 19:15&amp;pofids=&amp;hash=276102691\" onclick=\"OT.BestAnalytics.logRestaurantVisit(172918, '19:15')\"> 7:15 pm  </a> </li> <li class=\"timeslot-option timeslot-control\"> <a class=\"rest-row-times-btn timeslot\" data-covers=\"2\" data-datetime=\"2017-09-30 19:30\" data-name=\"Fire Works - Arlington\" data-rid=\"172918\" href=\"/book/validate?rid=172918&amp;d=2017-09-30 19:30&amp;p=2&amp;pt=100&amp;ss=0&amp;sd=2017-09-30 19:30&amp;pofids=&amp;hash=678837726\" onclick=\"OT.BestAnalytics.logRestaurantVisit(172918, '19:30')\"> 7:30 pm  </a> </li> </ul></div> </div></div> </div></div> </div>,\n",
       " <div class=\"result content-section-list-row cf with-times\" data-id=\"98\" data-index=\"99\" data-lat=\"38.9269050\" data-lon=\"-77.2169920\" data-offers=\"\" data-rid=\"54820\"><div class=\"rest-row with-image\"> <div class=\"rest-row-image\"> <a href=\"/harth\" onclick=\"OT.BestAnalytics.logRestaurantVisit(54820)\" target=\"_blank\"><img alt=\"photo of h\\xe4rth restaurant\" class=\"lazy rest-image\" data-src=\"//resizer.otstatic.com/v2/profiles/legacy/54820.jpg\" src=\"//media.otstatic.com/search-result-node/images/no-image.png\"/></a></div> <div class=\"rest-row-info\"><div class=\"rest-row-header\"> <a class=\"rest-row-name rest-name \" href=\"/harth\" onclick=\"OT.BestAnalytics.logRestaurantVisit(54820)\" target=\"_blank\"> <span class=\"rest-row-name-text\">H\\xe4rth</span> </a> </div> <div class=\" flex-row-justify\"> <div class=\"rest-row-review\"> <div class=\"star-rating review-container\"><div class=\"star-wrapper small\"><div class=\"all-stars\"></div><div class=\"all-stars filled\" style=\"width: 82%;\"></div></div> <a class=\"review-link\" href=\"/harth#reviews\" target=\"_blank\"> <span class=\"star-rating-text underline-hover\">(791)</span> <span class=\"star-rating-text--review-text underline-hover\">791 reviews</span> </a></div> <span class=\"recommended-container\"><span class=\"thumbs-up-icon\"></span> <span class=\"recommended-small\">73%</span> <span class=\"recommended-text\">73% Recommend</span> </span> </div> <div class=\"rest-row-pricing\"><i>  $    $      </i>   $    $      </div> </div><div class=\"rest-row-meta rest-row-meta-grid flex-row-justify\"> <span class=\"rest-row-meta--cuisine rest-row-meta-text\">Contemporary American</span> <span class=\"rest-row-meta--location rest-row-meta-text\">Tysons Corner / McLean</span></div> <div class=\"message-alerts\"> <div class=\"notice-timeslot\"><span class=\"clock-icon\"></span> <span>Hurry, we only have 4 timeslots left!</span></div> </div> <div class=\"rest-row-times-cont\"><div class=\"rest-row-times\"> <div class=\"timeslot-window\"><ul class=\"availability-row-container\"> <li class=\"timeslot-option timeslot-control\"> <a class=\"rest-row-times-btn timeslot\" data-covers=\"2\" data-datetime=\"2017-09-30 18:30\" data-name=\"H\\xe4rth\" data-rid=\"54820\" href=\"/book/validate?rid=54820&amp;d=2017-09-30 18:30&amp;p=2&amp;pt=100&amp;ss=0&amp;sd=2017-09-30 18:30&amp;pofids=&amp;hash=2678992326\" onclick=\"OT.BestAnalytics.logRestaurantVisit(54820, '18:30')\"> 6:30 pm  </a> </li> <li class=\"timeslot-option timeslot-control\"> <a class=\"rest-row-times-btn timeslot\" data-covers=\"2\" data-datetime=\"2017-09-30 18:45\" data-name=\"H\\xe4rth\" data-rid=\"54820\" href=\"/book/validate?rid=54820&amp;d=2017-09-30 18:45&amp;p=2&amp;pt=100&amp;ss=0&amp;sd=2017-09-30 18:45&amp;pofids=&amp;hash=1019413769\" onclick=\"OT.BestAnalytics.logRestaurantVisit(54820, '18:45')\"> 6:45 pm  </a> </li> <li class=\"timeslot-option\"> <a class=\"rest-row-times-btn exact unavailable\" data-offers=\"\">\\xa0 </a> </li> <li class=\"timeslot-option timeslot-control\"> <a class=\"rest-row-times-btn timeslot\" data-covers=\"2\" data-datetime=\"2017-09-30 19:15\" data-name=\"H\\xe4rth\" data-rid=\"54820\" href=\"/book/validate?rid=54820&amp;d=2017-09-30 19:15&amp;p=2&amp;pt=100&amp;ss=0&amp;sd=2017-09-30 19:15&amp;pofids=&amp;hash=212908754\" onclick=\"OT.BestAnalytics.logRestaurantVisit(54820, '19:15')\"> 7:15 pm  </a> </li> <li class=\"timeslot-option timeslot-control\"> <a class=\"rest-row-times-btn timeslot\" data-covers=\"2\" data-datetime=\"2017-09-30 19:30\" data-name=\"H\\xe4rth\" data-rid=\"54820\" href=\"/book/validate?rid=54820&amp;d=2017-09-30 19:30&amp;p=2&amp;pt=100&amp;ss=0&amp;sd=2017-09-30 19:30&amp;pofids=&amp;hash=379947839\" onclick=\"OT.BestAnalytics.logRestaurantVisit(54820, '19:30')\"> 7:30 pm  </a> </li> </ul></div> </div></div> </div></div> </div>,\n",
       " <div class=\"result content-section-list-row cf with-times\" data-id=\"99\" data-index=\"100\" data-lat=\"38.9346560\" data-lon=\"-77.0726110\" data-offers=\"\" data-rid=\"215116\"><div class=\"rest-row with-image\"> <div class=\"rest-row-image\"> <a href=\"/the-grilled-oyster-company-dc\" onclick=\"OT.BestAnalytics.logRestaurantVisit(215116)\" target=\"_blank\"><img alt=\"photo of the grilled oyster company - dc restaurant\" class=\"lazy rest-image\" data-src=\"//resizer.otstatic.com/v2/profiles/legacy/215116.jpg\" src=\"//media.otstatic.com/search-result-node/images/no-image.png\"/></a></div> <div class=\"rest-row-info\"><div class=\"rest-row-header\"> <a class=\"rest-row-name rest-name \" href=\"/the-grilled-oyster-company-dc\" onclick=\"OT.BestAnalytics.logRestaurantVisit(215116)\" target=\"_blank\"> <span class=\"rest-row-name-text\">The Grilled Oyster Company - DC</span> </a> </div> <div class=\" flex-row-justify\"> <div class=\"rest-row-review\"> <div class=\"star-rating review-container\"><div class=\"star-wrapper small\"><div class=\"all-stars\"></div><div class=\"all-stars filled\" style=\"width: 82%;\"></div></div> <a class=\"review-link\" href=\"/the-grilled-oyster-company-dc#reviews\" target=\"_blank\"> <span class=\"star-rating-text underline-hover\">(154)</span> <span class=\"star-rating-text--review-text underline-hover\">154 reviews</span> </a></div> <span class=\"recommended-container\"><span class=\"thumbs-up-icon\"></span> <span class=\"recommended-small\">78%</span> <span class=\"recommended-text\">78% Recommend</span> </span> </div> <div class=\"rest-row-pricing\"><i>  $    $      </i>   $    $      </div> </div><div class=\"rest-row-meta rest-row-meta-grid flex-row-justify\"> <span class=\"rest-row-meta--cuisine rest-row-meta-text\">American</span> <span class=\"rest-row-meta--location rest-row-meta-text\">Cleveland Park</span></div> <div class=\"message-alerts\"> </div> <div class=\"rest-row-times-cont\"><div class=\"rest-row-times\"> <div class=\"timeslot-window\"><ul class=\"availability-row-container\"> <li class=\"timeslot-option timeslot-control\"> <a class=\"rest-row-times-btn timeslot\" data-covers=\"2\" data-datetime=\"2017-09-30 18:30\" data-name=\"The Grilled Oyster Company - DC\" data-rid=\"215116\" href=\"/book/validate?rid=215116&amp;d=2017-09-30 18:30&amp;p=2&amp;pt=100&amp;ss=0&amp;sd=2017-09-30 18:30&amp;pofids=&amp;hash=1631500177\" onclick=\"OT.BestAnalytics.logRestaurantVisit(215116, '18:30')\"> 6:30 pm  </a> </li> <li class=\"timeslot-option timeslot-control\"> <a class=\"rest-row-times-btn timeslot\" data-covers=\"2\" data-datetime=\"2017-09-30 18:45\" data-name=\"The Grilled Oyster Company - DC\" data-rid=\"215116\" href=\"/book/validate?rid=215116&amp;d=2017-09-30 18:45&amp;p=2&amp;pt=100&amp;ss=0&amp;sd=2017-09-30 18:45&amp;pofids=&amp;hash=3402213990\" onclick=\"OT.BestAnalytics.logRestaurantVisit(215116, '18:45')\"> 6:45 pm  </a> </li> <li class=\"timeslot-option timeslot-control\"> <a class=\"rest-row-times-btn exact timeslot\" data-covers=\"2\" data-datetime=\"2017-09-30 19:00\" data-name=\"The Grilled Oyster Company - DC\" data-rid=\"215116\" href=\"/book/validate?rid=215116&amp;d=2017-09-30 19:00&amp;p=2&amp;pt=100&amp;ss=0&amp;sd=2017-09-30 19:00&amp;pofids=&amp;hash=1619682143\" onclick=\"OT.BestAnalytics.logRestaurantVisit(215116, '19:00')\"> 7:00 pm  </a> </li> <li class=\"timeslot-option timeslot-control\"> <a class=\"rest-row-times-btn timeslot\" data-covers=\"2\" data-datetime=\"2017-09-30 19:15\" data-name=\"The Grilled Oyster Company - DC\" data-rid=\"215116\" href=\"/book/validate?rid=215116&amp;d=2017-09-30 19:15&amp;p=2&amp;pt=100&amp;ss=0&amp;sd=2017-09-30 19:15&amp;pofids=&amp;hash=2453823568\" onclick=\"OT.BestAnalytics.logRestaurantVisit(215116, '19:15')\"> 7:15 pm  </a> </li> <li class=\"timeslot-option timeslot-control\"> <a class=\"rest-row-times-btn timeslot\" data-covers=\"2\" data-datetime=\"2017-09-30 19:30\" data-name=\"The Grilled Oyster Company - DC\" data-rid=\"215116\" href=\"/book/validate?rid=215116&amp;d=2017-09-30 19:30&amp;p=2&amp;pt=100&amp;ss=0&amp;sd=2017-09-30 19:30&amp;pofids=&amp;hash=2265909203\" onclick=\"OT.BestAnalytics.logRestaurantVisit(215116, '19:30')\"> 7:30 pm  </a> </li> </ul></div> </div></div> </div></div> </div>]"
      ]
     },
     "execution_count": 73,
     "metadata": {},
     "output_type": "execute_result"
    }
   ],
   "source": [
    "# print out all entries\n",
    "#   NOTE: Has many entries. Uncomment the below code to run it!\n",
    "\n",
    "soup.find_all('div', {'class':'result content-section-list-row cf with-times'})"
   ]
  },
  {
   "cell_type": "markdown",
   "metadata": {},
   "source": [
    "Look over the page. Does every single entry have each element we're seeking?\n",
    "> I did this previously. I know for a fact that not every element has a number of recent bookings. That's probably exactly why OpenTable houses this in JavaScript: they want to continously update the number of bookings with the most relevant number of values."
   ]
  },
  {
   "cell_type": "code",
   "execution_count": 74,
   "metadata": {
    "scrolled": true
   },
   "outputs": [
    {
     "name": "stdout",
     "output_type": "stream",
     "text": [
      "None\n",
      "None\n",
      "<div class=\"booking\"><span class=\"tadpole\"></span>Booked 455 times today</div>\n",
      "<div class=\"booking\"><span class=\"tadpole\"></span>Booked 132 times today</div>\n",
      "<div class=\"booking\"><span class=\"tadpole\"></span>Booked 132 times today</div>\n",
      "<div class=\"booking\"><span class=\"tadpole\"></span>Booked 305 times today</div>\n",
      "<div class=\"booking\"><span class=\"tadpole\"></span>Booked 307 times today</div>\n",
      "<div class=\"booking\"><span class=\"tadpole\"></span>Booked 152 times today</div>\n",
      "<div class=\"booking\"><span class=\"tadpole\"></span>Booked 92 times today</div>\n",
      "<div class=\"booking\"><span class=\"tadpole\"></span>Booked 86 times today</div>\n",
      "<div class=\"booking\"><span class=\"tadpole\"></span>Booked 54 times today</div>\n",
      "<div class=\"booking\"><span class=\"tadpole\"></span>Booked 71 times today</div>\n",
      "<div class=\"booking\"><span class=\"tadpole\"></span>Booked 52 times today</div>\n",
      "<div class=\"booking\"><span class=\"tadpole\"></span>Booked 55 times today</div>\n",
      "<div class=\"booking\"><span class=\"tadpole\"></span>Booked 56 times today</div>\n",
      "<div class=\"booking\"><span class=\"tadpole\"></span>Booked 38 times today</div>\n",
      "<div class=\"booking\"><span class=\"tadpole\"></span>Booked 117 times today</div>\n",
      "<div class=\"booking\"><span class=\"tadpole\"></span>Booked 63 times today</div>\n",
      "<div class=\"booking\"><span class=\"tadpole\"></span>Booked 68 times today</div>\n",
      "<div class=\"booking\"><span class=\"tadpole\"></span>Booked 43 times today</div>\n",
      "<div class=\"booking\"><span class=\"tadpole\"></span>Booked 41 times today</div>\n",
      "<div class=\"booking\"><span class=\"tadpole\"></span>Booked 46 times today</div>\n",
      "<div class=\"booking\"><span class=\"tadpole\"></span>Booked 45 times today</div>\n",
      "<div class=\"booking\"><span class=\"tadpole\"></span>Booked 71 times today</div>\n",
      "<div class=\"booking\"><span class=\"tadpole\"></span>Booked 35 times today</div>\n",
      "<div class=\"booking\"><span class=\"tadpole\"></span>Booked 33 times today</div>\n",
      "<div class=\"booking\"><span class=\"tadpole\"></span>Booked 31 times today</div>\n",
      "<div class=\"booking\"><span class=\"tadpole\"></span>Booked 31 times today</div>\n",
      "<div class=\"booking\"><span class=\"tadpole\"></span>Booked 48 times today</div>\n",
      "<div class=\"booking\"><span class=\"tadpole\"></span>Booked 79 times today</div>\n",
      "<div class=\"booking\"><span class=\"tadpole\"></span>Booked 29 times today</div>\n",
      "<div class=\"booking\"><span class=\"tadpole\"></span>Booked 19 times today</div>\n",
      "<div class=\"booking\"><span class=\"tadpole\"></span>Booked 59 times today</div>\n",
      "<div class=\"booking\"><span class=\"tadpole\"></span>Booked 26 times today</div>\n",
      "<div class=\"booking\"><span class=\"tadpole\"></span>Booked 53 times today</div>\n",
      "<div class=\"booking\"><span class=\"tadpole\"></span>Booked 29 times today</div>\n",
      "<div class=\"booking\"><span class=\"tadpole\"></span>Booked 20 times today</div>\n",
      "<div class=\"booking\"><span class=\"tadpole\"></span>Booked 19 times today</div>\n",
      "<div class=\"booking\"><span class=\"tadpole\"></span>Booked 80 times today</div>\n",
      "<div class=\"booking\"><span class=\"tadpole\"></span>Booked 34 times today</div>\n",
      "<div class=\"booking\"><span class=\"tadpole\"></span>Booked 29 times today</div>\n",
      "<div class=\"booking\"><span class=\"tadpole\"></span>Booked 47 times today</div>\n",
      "<div class=\"booking\"><span class=\"tadpole\"></span>Booked 21 times today</div>\n",
      "<div class=\"booking\"><span class=\"tadpole\"></span>Booked 43 times today</div>\n",
      "<div class=\"booking\"><span class=\"tadpole\"></span>Booked 37 times today</div>\n",
      "<div class=\"booking\"><span class=\"tadpole\"></span>Booked 15 times today</div>\n",
      "<div class=\"booking\"><span class=\"tadpole\"></span>Booked 24 times today</div>\n",
      "<div class=\"booking\"><span class=\"tadpole\"></span>Booked 27 times today</div>\n",
      "<div class=\"booking\"><span class=\"tadpole\"></span>Booked 37 times today</div>\n",
      "<div class=\"booking\"><span class=\"tadpole\"></span>Booked 24 times today</div>\n",
      "<div class=\"booking\"><span class=\"tadpole\"></span>Booked 21 times today</div>\n",
      "<div class=\"booking\"><span class=\"tadpole\"></span>Booked 31 times today</div>\n",
      "<div class=\"booking\"><span class=\"tadpole\"></span>Booked 24 times today</div>\n",
      "<div class=\"booking\"><span class=\"tadpole\"></span>Booked 22 times today</div>\n",
      "<div class=\"booking\"><span class=\"tadpole\"></span>Booked 20 times today</div>\n",
      "<div class=\"booking\"><span class=\"tadpole\"></span>Booked 36 times today</div>\n",
      "<div class=\"booking\"><span class=\"tadpole\"></span>Booked 48 times today</div>\n",
      "<div class=\"booking\"><span class=\"tadpole\"></span>Booked 14 times today</div>\n",
      "<div class=\"booking\"><span class=\"tadpole\"></span>Booked 38 times today</div>\n",
      "<div class=\"booking\"><span class=\"tadpole\"></span>Booked 40 times today</div>\n",
      "<div class=\"booking\"><span class=\"tadpole\"></span>Booked 52 times today</div>\n",
      "<div class=\"booking\"><span class=\"tadpole\"></span>Booked 49 times today</div>\n",
      "<div class=\"booking\"><span class=\"tadpole\"></span>Booked 52 times today</div>\n",
      "<div class=\"booking\"><span class=\"tadpole\"></span>Booked 54 times today</div>\n",
      "<div class=\"booking\"><span class=\"tadpole\"></span>Booked 5 times today</div>\n",
      "<div class=\"booking\"><span class=\"tadpole\"></span>Booked 17 times today</div>\n",
      "<div class=\"booking\"><span class=\"tadpole\"></span>Booked 32 times today</div>\n",
      "<div class=\"booking\"><span class=\"tadpole\"></span>Booked 12 times today</div>\n",
      "<div class=\"booking\"><span class=\"tadpole\"></span>Booked 21 times today</div>\n",
      "<div class=\"booking\"><span class=\"tadpole\"></span>Booked 13 times today</div>\n",
      "<div class=\"booking\"><span class=\"tadpole\"></span>Booked 19 times today</div>\n",
      "<div class=\"booking\"><span class=\"tadpole\"></span>Booked 34 times today</div>\n",
      "<div class=\"booking\"><span class=\"tadpole\"></span>Booked 17 times today</div>\n",
      "<div class=\"booking\"><span class=\"tadpole\"></span>Booked 27 times today</div>\n",
      "<div class=\"booking\"><span class=\"tadpole\"></span>Booked 14 times today</div>\n",
      "<div class=\"booking\"><span class=\"tadpole\"></span>Booked 18 times today</div>\n",
      "<div class=\"booking\"><span class=\"tadpole\"></span>Booked 37 times today</div>\n",
      "<div class=\"booking\"><span class=\"tadpole\"></span>Booked 21 times today</div>\n",
      "<div class=\"booking\"><span class=\"tadpole\"></span>Booked 28 times today</div>\n",
      "<div class=\"booking\"><span class=\"tadpole\"></span>Booked 63 times today</div>\n",
      "<div class=\"booking\"><span class=\"tadpole\"></span>Booked 53 times today</div>\n",
      "<div class=\"booking\"><span class=\"tadpole\"></span>Booked 43 times today</div>\n",
      "<div class=\"booking\"><span class=\"tadpole\"></span>Booked 49 times today</div>\n",
      "<div class=\"booking\"><span class=\"tadpole\"></span>Booked 25 times today</div>\n",
      "<div class=\"booking\"><span class=\"tadpole\"></span>Booked 10 times today</div>\n",
      "<div class=\"booking\"><span class=\"tadpole\"></span>Booked 14 times today</div>\n",
      "<div class=\"booking\"><span class=\"tadpole\"></span>Booked 31 times today</div>\n",
      "<div class=\"booking\"><span class=\"tadpole\"></span>Booked 25 times today</div>\n",
      "<div class=\"booking\"><span class=\"tadpole\"></span>Booked 22 times today</div>\n",
      "<div class=\"booking\"><span class=\"tadpole\"></span>Booked 12 times today</div>\n",
      "<div class=\"booking\"><span class=\"tadpole\"></span>Booked 30 times today</div>\n",
      "<div class=\"booking\"><span class=\"tadpole\"></span>Booked 25 times today</div>\n",
      "<div class=\"booking\"><span class=\"tadpole\"></span>Booked 16 times today</div>\n",
      "<div class=\"booking\"><span class=\"tadpole\"></span>Booked 25 times today</div>\n",
      "<div class=\"booking\"><span class=\"tadpole\"></span>Booked 18 times today</div>\n",
      "<div class=\"booking\"><span class=\"tadpole\"></span>Booked 19 times today</div>\n",
      "<div class=\"booking\"><span class=\"tadpole\"></span>Booked 18 times today</div>\n",
      "<div class=\"booking\"><span class=\"tadpole\"></span>Booked 17 times today</div>\n",
      "<div class=\"booking\"><span class=\"tadpole\"></span>Booked 15 times today</div>\n",
      "<div class=\"booking\"><span class=\"tadpole\"></span>Booked 6 times today</div>\n"
     ]
    }
   ],
   "source": [
    "# What happens when a booking is not available?\n",
    "# Print out each booking entry, using the identification code we wrote above\n",
    "\n",
    "for entry in html.find_all('div', {'class':'result content-section-list-row cf with-times'}):\n",
    "    print entry.find('div', {'class':'booking'})"
   ]
  },
  {
   "cell_type": "code",
   "execution_count": 75,
   "metadata": {},
   "outputs": [
    {
     "ename": "AttributeError",
     "evalue": "'NoneType' object has no attribute 'text'",
     "output_type": "error",
     "traceback": [
      "\u001b[0;31m---------------------------------------------------------------------------\u001b[0m",
      "\u001b[0;31mAttributeError\u001b[0m                            Traceback (most recent call last)",
      "\u001b[0;32m<ipython-input-75-2fb7387ce5b1>\u001b[0m in \u001b[0;36m<module>\u001b[0;34m()\u001b[0m\n\u001b[1;32m      1\u001b[0m \u001b[0;31m# if we find the element we want, we print it. Otherwise, we print 'ZERO'\u001b[0m\u001b[0;34m\u001b[0m\u001b[0;34m\u001b[0m\u001b[0m\n\u001b[1;32m      2\u001b[0m \u001b[0;32mfor\u001b[0m \u001b[0mentry\u001b[0m \u001b[0;32min\u001b[0m \u001b[0mhtml\u001b[0m\u001b[0;34m.\u001b[0m\u001b[0mfind_all\u001b[0m\u001b[0;34m(\u001b[0m\u001b[0;34m'div'\u001b[0m\u001b[0;34m,\u001b[0m \u001b[0;34m{\u001b[0m\u001b[0;34m'class'\u001b[0m\u001b[0;34m:\u001b[0m\u001b[0;34m'result content-section-list-row cf with-times'\u001b[0m\u001b[0;34m}\u001b[0m\u001b[0;34m)\u001b[0m\u001b[0;34m:\u001b[0m\u001b[0;34m\u001b[0m\u001b[0m\n\u001b[0;32m----> 3\u001b[0;31m         \u001b[0;32mprint\u001b[0m \u001b[0mentry\u001b[0m\u001b[0;34m.\u001b[0m\u001b[0mfind\u001b[0m\u001b[0;34m(\u001b[0m\u001b[0;34m'div'\u001b[0m\u001b[0;34m,\u001b[0m \u001b[0;34m{\u001b[0m\u001b[0;34m'class'\u001b[0m\u001b[0;34m:\u001b[0m\u001b[0;34m'booking'\u001b[0m\u001b[0;34m}\u001b[0m\u001b[0;34m)\u001b[0m\u001b[0;34m.\u001b[0m\u001b[0mtext\u001b[0m\u001b[0;34m\u001b[0m\u001b[0m\n\u001b[0m",
      "\u001b[0;31mAttributeError\u001b[0m: 'NoneType' object has no attribute 'text'"
     ]
    }
   ],
   "source": [
    "# if we find the element we want, we print it. Otherwise, we print 'ZERO'\n",
    "for entry in html.find_all('div', {'class':'result content-section-list-row cf with-times'}):\n",
    "        print entry.find('div', {'class':'booking'}).text"
   ]
  },
  {
   "cell_type": "markdown",
   "metadata": {},
   "source": [
    "What do you notice takes the place when booking is not found?\n",
    "\n",
    "We could use exception handling (`try`/`except` blocks) to resolve this. However, exceptions should only be used to handle rare or unexpected errors -- never for normal program flow.\n",
    "\n",
    "In this case, we expect that some entries will be zero. So, we can just use an `if` statement that tests whether there are any `divs` present; if not, display `'ZERO'`. Here's a demo:"
   ]
  },
  {
   "cell_type": "code",
   "execution_count": 76,
   "metadata": {},
   "outputs": [
    {
     "name": "stdout",
     "output_type": "stream",
     "text": [
      "ZERO\n",
      "ZERO\n",
      "Booked 455 times today\n",
      "Booked 132 times today\n",
      "Booked 132 times today\n",
      "Booked 305 times today\n",
      "Booked 307 times today\n",
      "Booked 152 times today\n",
      "Booked 92 times today\n",
      "Booked 86 times today\n",
      "Booked 54 times today\n",
      "Booked 71 times today\n",
      "Booked 52 times today\n",
      "Booked 55 times today\n",
      "Booked 56 times today\n",
      "Booked 38 times today\n",
      "Booked 117 times today\n",
      "Booked 63 times today\n",
      "Booked 68 times today\n",
      "Booked 43 times today\n",
      "Booked 41 times today\n",
      "Booked 46 times today\n",
      "Booked 45 times today\n",
      "Booked 71 times today\n",
      "Booked 35 times today\n",
      "Booked 33 times today\n",
      "Booked 31 times today\n",
      "Booked 31 times today\n",
      "Booked 48 times today\n",
      "Booked 79 times today\n",
      "Booked 29 times today\n",
      "Booked 19 times today\n",
      "Booked 59 times today\n",
      "Booked 26 times today\n",
      "Booked 53 times today\n",
      "Booked 29 times today\n",
      "Booked 20 times today\n",
      "Booked 19 times today\n",
      "Booked 80 times today\n",
      "Booked 34 times today\n",
      "Booked 29 times today\n",
      "Booked 47 times today\n",
      "Booked 21 times today\n",
      "Booked 43 times today\n",
      "Booked 37 times today\n",
      "Booked 15 times today\n",
      "Booked 24 times today\n",
      "Booked 27 times today\n",
      "Booked 37 times today\n",
      "Booked 24 times today\n",
      "Booked 21 times today\n",
      "Booked 31 times today\n",
      "Booked 24 times today\n",
      "Booked 22 times today\n",
      "Booked 20 times today\n",
      "Booked 36 times today\n",
      "Booked 48 times today\n",
      "Booked 14 times today\n",
      "Booked 38 times today\n",
      "Booked 40 times today\n",
      "Booked 52 times today\n",
      "Booked 49 times today\n",
      "Booked 52 times today\n",
      "Booked 54 times today\n",
      "Booked 5 times today\n",
      "Booked 17 times today\n",
      "Booked 32 times today\n",
      "Booked 12 times today\n",
      "Booked 21 times today\n",
      "Booked 13 times today\n",
      "Booked 19 times today\n",
      "Booked 34 times today\n",
      "Booked 17 times today\n",
      "Booked 27 times today\n",
      "Booked 14 times today\n",
      "Booked 18 times today\n",
      "Booked 37 times today\n",
      "Booked 21 times today\n",
      "Booked 28 times today\n",
      "Booked 63 times today\n",
      "Booked 53 times today\n",
      "Booked 43 times today\n",
      "Booked 49 times today\n",
      "Booked 25 times today\n",
      "Booked 10 times today\n",
      "Booked 14 times today\n",
      "Booked 31 times today\n",
      "Booked 25 times today\n",
      "Booked 22 times today\n",
      "Booked 12 times today\n",
      "Booked 30 times today\n",
      "Booked 25 times today\n",
      "Booked 16 times today\n",
      "Booked 25 times today\n",
      "Booked 18 times today\n",
      "Booked 19 times today\n",
      "Booked 18 times today\n",
      "Booked 17 times today\n",
      "Booked 15 times today\n",
      "Booked 6 times today\n"
     ]
    }
   ],
   "source": [
    "# if we find the element we want, we print it. Otherwise, we print 'ZERO'\n",
    "for entry in html.find_all('div', {'class':'result content-section-list-row cf with-times'}):\n",
    "    booking_tag = entry.find('div', {'class':'booking'})\n",
    "    \n",
    "    if booking_tag:\n",
    "        print booking_tag.text\n",
    "    else:\n",
    "        print 'ZERO'"
   ]
  },
  {
   "cell_type": "markdown",
   "metadata": {},
   "source": [
    "After previously completing this, we observed that all other elements WILL be returned. This means we do not have to always handle these cases.\n",
    "\n",
    "<a id=\"challenge-pandas\"></a>\n",
    "### Challenge: Use Pandas to create a DataFrame of bookings\n",
    "\n",
    "However, the onus is on you to now put all the pieces together.\n",
    "\n",
    "Loop through each entry. For each entry, grab the relevant information we want (name, location, price, bookings). Produce a dataframe with the columns \"name\",\"location\",\"price\",\"bookings\" that contains the 100 entries we would like."
   ]
  },
  {
   "cell_type": "code",
   "execution_count": 77,
   "metadata": {
    "collapsed": true
   },
   "outputs": [],
   "source": [
    "import pandas as pd"
   ]
  },
  {
   "cell_type": "code",
   "execution_count": 78,
   "metadata": {
    "collapsed": true
   },
   "outputs": [],
   "source": [
    "# I'm going to create my empty df first\n",
    "dc_eats = pd.DataFrame(columns=[\"name\",\"location\",\"price\",\"bookings\"])"
   ]
  },
  {
   "cell_type": "code",
   "execution_count": 75,
   "metadata": {
    "collapsed": true
   },
   "outputs": [],
   "source": [
    "# Put code here that populates the DataFrame using Selenium and BeautifulSoup!"
   ]
  },
  {
   "cell_type": "code",
   "execution_count": 86,
   "metadata": {
    "collapsed": true
   },
   "outputs": [],
   "source": [
    "for entry in html.find_all('div', {'class':'result content-section-list-row cf with-times'}):\n",
    "    # grab the name\n",
    "    name =  entry.find('span', {'class':'rest-row-name-text'}).text\n",
    "    \n",
    "    # grab the location \n",
    "    location = entry.find('span', {'class':'rest-row-meta--location rest-row-meta-text'}).renderContents()\n",
    "    \n",
    "    # grab the price\n",
    "    price =  entry.find('div', {'class':'rest-row-pricing'}).find('i').renderContents().count('$')\n",
    "    \n",
    "    # try to find the number of bookings\n",
    "    bookings = 'NA'\n",
    "    booking_tag = entry.find('div', {'class':'booking'})\n",
    "    if booking_tag:\n",
    "        match = re.search(r'\\d+', booking_tag.text)\n",
    "        \n",
    "        if match:\n",
    "            bookings = match.group()\n",
    "    \n",
    "    dc_eats.loc[len(dc_eats)]=[name, location, price, bookings]"
   ]
  },
  {
   "cell_type": "code",
   "execution_count": 87,
   "metadata": {},
   "outputs": [
    {
     "data": {
      "text/html": [
       "<div>\n",
       "<style>\n",
       "    .dataframe thead tr:only-child th {\n",
       "        text-align: right;\n",
       "    }\n",
       "\n",
       "    .dataframe thead th {\n",
       "        text-align: left;\n",
       "    }\n",
       "\n",
       "    .dataframe tbody tr th {\n",
       "        vertical-align: top;\n",
       "    }\n",
       "</style>\n",
       "<table border=\"1\" class=\"dataframe\">\n",
       "  <thead>\n",
       "    <tr style=\"text-align: right;\">\n",
       "      <th></th>\n",
       "      <th>name</th>\n",
       "      <th>location</th>\n",
       "      <th>price</th>\n",
       "      <th>bookings</th>\n",
       "    </tr>\n",
       "  </thead>\n",
       "  <tbody>\n",
       "    <tr>\n",
       "      <th>0</th>\n",
       "      <td>Ruffino's - Arlington</td>\n",
       "      <td>Arlington</td>\n",
       "      <td>2</td>\n",
       "      <td>NA</td>\n",
       "    </tr>\n",
       "    <tr>\n",
       "      <th>1</th>\n",
       "      <td>Joe's Place Pizza and Pasta</td>\n",
       "      <td>Arlington</td>\n",
       "      <td>2</td>\n",
       "      <td>NA</td>\n",
       "    </tr>\n",
       "    <tr>\n",
       "      <th>2</th>\n",
       "      <td>Founding Farmers - DC</td>\n",
       "      <td>Foggy Bottom</td>\n",
       "      <td>2</td>\n",
       "      <td>455</td>\n",
       "    </tr>\n",
       "    <tr>\n",
       "      <th>3</th>\n",
       "      <td>Rasika West End</td>\n",
       "      <td>West End</td>\n",
       "      <td>3</td>\n",
       "      <td>132</td>\n",
       "    </tr>\n",
       "    <tr>\n",
       "      <th>4</th>\n",
       "      <td>Blue Duck Tavern</td>\n",
       "      <td>West End</td>\n",
       "      <td>3</td>\n",
       "      <td>132</td>\n",
       "    </tr>\n",
       "  </tbody>\n",
       "</table>\n",
       "</div>"
      ],
      "text/plain": [
       "                          name      location price bookings\n",
       "0        Ruffino's - Arlington     Arlington     2       NA\n",
       "1  Joe's Place Pizza and Pasta     Arlington     2       NA\n",
       "2        Founding Farmers - DC  Foggy Bottom     2      455\n",
       "3              Rasika West End      West End     3      132\n",
       "4             Blue Duck Tavern      West End     3      132"
      ]
     },
     "execution_count": 87,
     "metadata": {},
     "output_type": "execute_result"
    }
   ],
   "source": [
    "# check out our work\n",
    "dc_eats.head()"
   ]
  },
  {
   "cell_type": "markdown",
   "metadata": {},
   "source": [
    "Awesome! We succeeded.\n",
    "\n",
    "<a id=\"selenium-typing\"></a>\n",
    "### Auto-typing using Selenium\n",
    "\n",
    "Now, let's explore some of the other functionality of a webdriver. We've barely scratched the surface."
   ]
  },
  {
   "cell_type": "code",
   "execution_count": 80,
   "metadata": {
    "collapsed": true
   },
   "outputs": [],
   "source": [
    "# we can send keys as well\n",
    "# import\n",
    "from selenium.webdriver.common.keys import Keys"
   ]
  },
  {
   "cell_type": "code",
   "execution_count": 81,
   "metadata": {
    "collapsed": true
   },
   "outputs": [],
   "source": [
    "# open Firefox\n",
    "driver = webdriver.Firefox()\n",
    "# visit Python\n",
    "driver.get(\"http://www.python.org\")\n",
    "# verify we're in the right place\n",
    "assert \"Python\" in driver.title"
   ]
  },
  {
   "cell_type": "markdown",
   "metadata": {},
   "source": [
    "Let's try automatedly typing `pycon` in the search box and hitting the return key:"
   ]
  },
  {
   "cell_type": "code",
   "execution_count": 82,
   "metadata": {
    "collapsed": true
   },
   "outputs": [],
   "source": [
    "# find the search position\n",
    "elem = driver.find_element_by_name(\"q\")\n",
    "\n",
    "# clear it\n",
    "elem.clear()\n",
    "\n",
    "# type in pycon\n",
    "elem.send_keys(\"pycon\")\n",
    "\n",
    "# send those keys\n",
    "elem.send_keys(Keys.RETURN)"
   ]
  },
  {
   "cell_type": "code",
   "execution_count": 83,
   "metadata": {
    "collapsed": true
   },
   "outputs": [],
   "source": [
    "# close\n",
    "driver.close()"
   ]
  },
  {
   "cell_type": "code",
   "execution_count": 84,
   "metadata": {
    "collapsed": true
   },
   "outputs": [],
   "source": [
    "# all at once:\n",
    "driver = webdriver.Firefox()\n",
    "driver.get(\"http://www.python.org\")\n",
    "assert \"Python\" in driver.title\n",
    "\n",
    "elem = driver.find_element_by_name(\"q\")\n",
    "elem.clear()\n",
    "elem.send_keys(\"pycon\")\n",
    "elem.send_keys(Keys.RETURN)\n",
    "#assert \"No results found.\" not in driver.page_source\n",
    "driver.close()"
   ]
  },
  {
   "cell_type": "markdown",
   "metadata": {},
   "source": [
    "The above example (and many others) are available in the Selenium docs: http://selenium-python.readthedocs.io/getting-started.html\n",
    "\n",
    "What is especially important is exploring functionality like locating elements: http://selenium-python.readthedocs.io/locating-elements.html#locating-elements\n",
    "\n",
    "FAQ:\n",
    "http://selenium-python.readthedocs.io/faq.html"
   ]
  },
  {
   "cell_type": "markdown",
   "metadata": {},
   "source": [
    "### Summary\n",
    "\n",
    "In this lesson, we used the Beautiful Soup library to locate elements on a website then scrape their text. We also used the Selenium headless browser to run JavaScript first before retrieving the page contents."
   ]
  },
  {
   "cell_type": "code",
   "execution_count": null,
   "metadata": {
    "collapsed": true
   },
   "outputs": [],
   "source": []
  }
 ],
 "metadata": {
  "anaconda-cloud": {},
  "kernelspec": {
   "display_name": "Python 2",
   "language": "python",
   "name": "python2"
  },
  "language_info": {
   "codemirror_mode": {
    "name": "ipython",
    "version": 2
   },
   "file_extension": ".py",
   "mimetype": "text/x-python",
   "name": "python",
   "nbconvert_exporter": "python",
   "pygments_lexer": "ipython2",
   "version": "2.7.13"
  }
 },
 "nbformat": 4,
 "nbformat_minor": 1
}
