{
 "cells": [
  {
   "cell_type": "markdown",
   "metadata": {
    "collapsed": true
   },
   "source": [
    "### There is a problem with Q3 - the price already factors in quantity.  Need to fix.\n",
    "\n",
    "brendanbailey [11:03 AM] Tue Sep 5, 2017\n",
    "\n",
    "Hello Joanne\n",
    "\n",
    "I have your unit 2 feedback.\n",
    "\n",
    "8/8!\n",
    "\n",
    "+s: Great job in solving these problems!\n",
    "Great analysis on the bonus seeing which items are the most popular. I gave an extra point for the bonus to offset the error on question 3.\n",
    "\n",
    "-s: So quantity is already taken into account in the item price for question 3. That's why for a Chicken Bowl price is around `$`8 for 1 bowl and about `$`16 for 2 bowls. Despite this you multiplied the item price by quantity thus inflating the item price. The correct answer is `$`18.81.\n",
    "\n",
    "Amazing :rainbow:"
   ]
  },
  {
   "cell_type": "markdown",
   "metadata": {},
   "source": [
    "<img src=\"http://imgur.com/1ZcRyrc.png\" style=\"float: left; margin: 20px; height: 55px\">\n",
    "\n",
    "# Project 2: Analyzing Chipotle Data\n",
    "\n",
    "_Author: Joseph Nelson (DC)_\n",
    "\n",
    "---"
   ]
  },
  {
   "cell_type": "markdown",
   "metadata": {},
   "source": [
    "For Project 2, you will complete a series of exercises exploring [order data from Chipotle](https://github.com/TheUpshot/chipotle), compliments of _The New York Times'_ \"The Upshot.\"\n",
    "\n",
    "For these exercises, you will conduct basic exploratory data analysis (Pandas not required) to understand the essentials of Chipotle's order data: how many orders are being made, the average price per order, how many different ingredients are used, etc. These allow you to practice business analysis skills while also becoming comfortable with Python."
   ]
  },
  {
   "cell_type": "markdown",
   "metadata": {},
   "source": [
    "---\n",
    "\n",
    "## Basic Level"
   ]
  },
  {
   "cell_type": "markdown",
   "metadata": {},
   "source": [
    "### Part 1: Read in the file with `csv.reader()` and store it in an object called `file_nested_list`.\n",
    "\n",
    "Hint: This is a TSV (tab-separated value) file, and `csv.reader()` needs to be told [how to handle it](https://docs.python.org/2/library/csv.html)."
   ]
  },
  {
   "cell_type": "code",
   "execution_count": 30,
   "metadata": {
    "collapsed": true
   },
   "outputs": [],
   "source": [
    "import csv\n",
    "\n",
    "master_list = []   # list storage for tsv file\n",
    "\n",
    "with open('data/chipotle.tsv') as csvfile:\n",
    "    file_nested_list = csv.reader(csvfile, delimiter='\\t')\n",
    "    for rec in file_nested_list:\n",
    "        master_list.append(rec)"
   ]
  },
  {
   "cell_type": "code",
   "execution_count": 228,
   "metadata": {},
   "outputs": [
    {
     "data": {
      "text/plain": [
       "[['order_id', 'quantity', 'item_name', 'choice_description', 'item_price'],\n",
       " ['1', '1', 'Chips and Fresh Tomato Salsa', 'NULL', '$2.39 '],\n",
       " ['1', '1', 'Izze', '[Clementine]', '$3.39 '],\n",
       " ['1', '1', 'Nantucket Nectar', '[Apple]', '$3.39 '],\n",
       " ['1', '1', 'Chips and Tomatillo-Green Chili Salsa', 'NULL', '$2.39 ']]"
      ]
     },
     "execution_count": 228,
     "metadata": {},
     "output_type": "execute_result"
    }
   ],
   "source": [
    "# first 5 items in the list of lists\n",
    "master_list[:5]"
   ]
  },
  {
   "cell_type": "markdown",
   "metadata": {},
   "source": [
    "### Part 2: Separate `file_nested_list` into the `header` and the `data`.\n"
   ]
  },
  {
   "cell_type": "code",
   "execution_count": 31,
   "metadata": {},
   "outputs": [
    {
     "data": {
      "text/plain": [
       "['order_id', 'quantity', 'item_name', 'choice_description', 'item_price']"
      ]
     },
     "execution_count": 31,
     "metadata": {},
     "output_type": "execute_result"
    }
   ],
   "source": [
    "# header is the first record in the dataset\n",
    "header = master_list[0]\n",
    "header"
   ]
  },
  {
   "cell_type": "code",
   "execution_count": 32,
   "metadata": {},
   "outputs": [
    {
     "data": {
      "text/plain": [
       "[['1', '1', 'Chips and Fresh Tomato Salsa', 'NULL', '$2.39 '],\n",
       " ['1', '1', 'Izze', '[Clementine]', '$3.39 '],\n",
       " ['1', '1', 'Nantucket Nectar', '[Apple]', '$3.39 '],\n",
       " ['1', '1', 'Chips and Tomatillo-Green Chili Salsa', 'NULL', '$2.39 '],\n",
       " ['2',\n",
       "  '2',\n",
       "  'Chicken Bowl',\n",
       "  '[Tomatillo-Red Chili Salsa (Hot), [Black Beans, Rice, Cheese, Sour Cream]]',\n",
       "  '$16.98 ']]"
      ]
     },
     "execution_count": 32,
     "metadata": {},
     "output_type": "execute_result"
    }
   ],
   "source": [
    "# data includes all records after the header\n",
    "data = master_list[1:]\n",
    "data[:5]   # shows first 5 records in the data dataset"
   ]
  },
  {
   "cell_type": "markdown",
   "metadata": {},
   "source": [
    "---\n",
    "\n",
    "## Intermediate Level"
   ]
  },
  {
   "cell_type": "markdown",
   "metadata": {},
   "source": [
    "### Part 3: Calculate the average price of an order.\n",
    "\n",
    "Hint: Examine the data to see if the `quantity` column is relevant to this calculation.\n",
    "\n",
    "Hint: Think carefully about the simplest way to do this!"
   ]
  },
  {
   "cell_type": "code",
   "execution_count": 69,
   "metadata": {},
   "outputs": [
    {
     "name": "stdout",
     "output_type": "stream",
     "text": [
      "Average Price of an Order: $39237.02 / 1834 = $21.39\n"
     ]
    }
   ],
   "source": [
    "# assumes that the order_id is sorted in ascending order and every order_id in the sequence exists\n",
    "\n",
    "curr_order_id = 0          # order_id pointer tracks order_id (many recs per order_id)\n",
    "grand_total = 0            # total of all orders\n",
    "num_orders = 0             # number of orders to average over\n",
    "avg_order_amt = 0          # final answer: the average price of an order\n",
    "\n",
    "for rec in data:\n",
    "    \n",
    "    curr_order_amt = 0     # cumulative over all recs in an order\n",
    "    curr_rec_qty = 0       # item quantity to be multiplied by item price\n",
    "    curr_rec_price = 0     # item price\n",
    "    curr_rec_total = 0     # record total is qty * price for item\n",
    "    \n",
    "    rec_order_id = int(rec[int(header.index('order_id'))])\n",
    "    \n",
    "    # when current order_id pointer does not match reference pointer, \n",
    "    #  we have moved onto a record that has a different order_id\n",
    "    \n",
    "    # initializes order per order_id:\n",
    "    if rec_order_id != curr_order_id:\n",
    "        num_orders += 1\n",
    "        curr_order_id += 1\n",
    "\n",
    "    # calculates and updates amounts per order:\n",
    "    curr_rec_qty = float(rec[int(header.index('quantity'))])\n",
    "    curr_rec_price = float(rec[int(header.index('item_price'))][1:])        \n",
    "    curr_rec_total = curr_rec_qty * curr_rec_price\n",
    "    grand_total += curr_rec_total\n",
    "\n",
    "avg_order_amt = round(grand_total / num_orders, 2)\n",
    "print 'Average Price of an Order: $' + str(grand_total) + ' / ' + str(num_orders) + ' = $' + str(avg_order_amt)"
   ]
  },
  {
   "cell_type": "markdown",
   "metadata": {},
   "source": [
    "### Part 4: Create a list (or set) named `unique_sodas` containing all of unique sodas and soft drinks that Chipotle sells.\n",
    "\n",
    "Note: Just look for `'Canned Soda'` and `'Canned Soft Drink'`, and ignore other drinks like `'Izze'`."
   ]
  },
  {
   "cell_type": "code",
   "execution_count": 70,
   "metadata": {},
   "outputs": [
    {
     "name": "stdout",
     "output_type": "stream",
     "text": [
      "Chipotle sells 9 kinds of sodas and soft drinks:\n",
      "  Lemonade\n",
      "  Dr. Pepper\n",
      "  Diet Coke\n",
      "  Nestea\n",
      "  Mountain Dew\n",
      "  Diet Dr. Pepper\n",
      "  Coke\n",
      "  Coca Cola\n",
      "  Sprite\n"
     ]
    }
   ],
   "source": [
    "all_sodas = []     # holds all sodas and soft drinks from dataset (includes duplicates)\n",
    "\n",
    "# generates list of all sodas and soft drinks from each record in the dataset (includes duplicates)\n",
    "for order in data:\n",
    "    if (order[int(header.index('item_name'))] == 'Canned Soda') or (order[int(header.index('item_name'))] == 'Canned Soft Drink'):\n",
    "        all_sodas.append(order[int(header.index('choice_description'))])\n",
    "        \n",
    "# creates unique set of all sodas (removes duplicates)\n",
    "sodas = set(all_sodas)\n",
    "\n",
    "# shows results of number of sodas and soft drinks sold at Chipotle\n",
    "print 'Chipotle sells', len(sodas), 'kinds of sodas and soft drinks:'\n",
    "for soda in sodas:\n",
    "    print ' ',soda[1:-1]"
   ]
  },
  {
   "cell_type": "markdown",
   "metadata": {},
   "source": [
    "---\n",
    "\n",
    "## Advanced Level\n"
   ]
  },
  {
   "cell_type": "markdown",
   "metadata": {},
   "source": [
    "### Part 5: Calculate the average number of toppings per burrito.\n",
    "\n",
    "Note: Let's ignore the `quantity` column to simplify this task.\n",
    "\n",
    "Hint: Think carefully about the easiest way to count the number of toppings!\n"
   ]
  },
  {
   "cell_type": "code",
   "execution_count": 352,
   "metadata": {},
   "outputs": [
    {
     "name": "stdout",
     "output_type": "stream",
     "text": [
      "Average toppings per burrito:  6323 toppings / 1172 burritos =  5\n"
     ]
    }
   ],
   "source": [
    "# disregards 'quantity'\n",
    "num_burritos = 0\n",
    "total_toppings = 0\n",
    "avg_toppings_per_burrito = 0\n",
    "\n",
    "for item in data:\n",
    "    \n",
    "    # flattens choice_description and counts toppings for burritos\n",
    "    if 'Burrito' in item[int(header.index('item_name'))]:\n",
    "        # toppings list is actually a string; removes '[' and ']' in case actual items matter, later\n",
    "        toppings = item[int(header.index('choice_description'))].replace('[','').replace(']','').split(',')\n",
    "        num_toppings = len(toppings)\n",
    "        total_toppings += num_toppings\n",
    "        num_burritos += 1\n",
    "\n",
    "avg_toppings_per_burrito = total_toppings / num_burritos\n",
    "print 'Average toppings per burrito: ', total_toppings, 'toppings /', num_burritos, 'burritos = ', avg_toppings_per_burrito"
   ]
  },
  {
   "cell_type": "markdown",
   "metadata": {},
   "source": [
    "### Part 6: Create a dictionary. Let the keys represent chip orders and the values represent the total number of orders.\n",
    "\n",
    "Expected output: `{'Chips and Roasted Chili-Corn Salsa': 18, ... }`\n",
    "\n",
    "Note: Please take the `quantity` column into account!\n",
    "\n",
    "Optional: Learn how to use `.defaultdict()` to simplify your code."
   ]
  },
  {
   "cell_type": "code",
   "execution_count": 68,
   "metadata": {},
   "outputs": [
    {
     "name": "stdout",
     "output_type": "stream",
     "text": [
      "defaultdict(<type 'int'>, {'Chips and Mild Fresh Tomato Salsa': 1, 'Chips and Guacamole': 506, 'Chips and Fresh Tomato Salsa': 130, 'Chips and Tomatillo Red Chili Salsa': 75, 'Side of Chips': 110, 'Chips and Roasted Chili Corn Salsa': 41, 'Chips': 230, 'Chips and Tomatillo Green Chili Salsa': 78}) \n",
      "\n",
      "1 Chips and Mild Fresh Tomato Salsa\n",
      "506 Chips and Guacamole\n",
      "130 Chips and Fresh Tomato Salsa\n",
      "75 Chips and Tomatillo Red Chili Salsa\n",
      "110 Side of Chips\n",
      "41 Chips and Roasted Chili Corn Salsa\n",
      "230 Chips\n",
      "78 Chips and Tomatillo Green Chili Salsa\n"
     ]
    }
   ],
   "source": [
    "from collections import defaultdict\n",
    "\n",
    "chips_dict = defaultdict(int)\n",
    "\n",
    "for item in data:\n",
    "    if 'Chips' in item[int(header.index('item_name'))]:\n",
    "        curr_chip_qty = int(item[int(header.index('quantity'))])\n",
    "        # consolidates same chip types that contain '-'\n",
    "        chips_dict[item[int(header.index('item_name'))].replace('-',' ')] += curr_chip_qty\n",
    "\n",
    "print chips_dict, '\\n'\n",
    "for chip, amt  in chips_dict.items():\n",
    "    print amt, chip"
   ]
  },
  {
   "cell_type": "markdown",
   "metadata": {},
   "source": [
    "---\n",
    "\n",
    "## Bonus: Craft a problem statement about this data that interests you, and then answer it!\n"
   ]
  },
  {
   "cell_type": "markdown",
   "metadata": {
    "collapsed": true
   },
   "source": [
    "Create a list of single ingredient toppings (burritos, bowls, tacos, salads) by order of popularity, with consideration to order quantity.  Remove multi-item toppings from the choice_description list or sublist."
   ]
  },
  {
   "cell_type": "code",
   "execution_count": 176,
   "metadata": {
    "scrolled": false
   },
   "outputs": [
    {
     "name": "stdout",
     "output_type": "stream",
     "text": [
      "defaultdict(<type 'int'>, {'Pinto Beans': 608, 'Cheese': 2389, 'Sour Cream': 1785, 'Guacamole': 1077, 'Brown Rice': 2, 'Fresh Tomato (Mild)': 33, 'Vegetarian Black Beans': 3, 'Lettuce': 1804, 'Black Beans': 1412, 'Rice': 2497, 'White Rice': 5}) \n",
      "\n",
      " 2497 Rice\n",
      " 2389 Cheese\n",
      " 1804 Lettuce\n",
      " 1785 Sour Cream\n",
      " 1412 Black Beans\n",
      " 1077 Guacamole\n",
      "  608 Pinto Beans\n",
      "   33 Fresh Tomato (Mild)\n",
      "    5 White Rice\n",
      "    3 Vegetarian Black Beans\n",
      "    2 Brown Rice\n"
     ]
    }
   ],
   "source": [
    "from collections import defaultdict\n",
    "\n",
    "single_ingredients = defaultdict(int)\n",
    "\n",
    "for rec in data:\n",
    "\n",
    "    # examines menu items that come with toppings (burritos, bowls, tacos, and salads) and their quantity, \n",
    "    #  as number of servings.  \n",
    "    if rec[int(header.index('item_name'))].split(' ')[-1] in ['Burrito', 'Bowl', 'Tacos', 'Salad']:\n",
    "        item_servings = int(rec[int(header.index('quantity'))])\n",
    "        # sub list is actually a string, so removes square brackets and creates a flat list of ingredients\n",
    "        item_choices = rec[int(header.index('choice_description'))].replace('[','').replace(']','').strip().split(', ')\n",
    "\n",
    "        for item in item_choices:\n",
    "            # removes multi-ingredient toppings\n",
    "            if item.find('Salsa') == -1 \\\n",
    "                and item.find('Fajita') == -1 \\\n",
    "                and item.find('Carnitas') == -1 \\\n",
    "                and item.find('Chili') == -1 \\\n",
    "                and item.find('Barbacoa') == -1 \\\n",
    "                and item.find('-') == -1:\n",
    "                # updates single ingredient's serving count / quantity\n",
    "                single_ingredients[item] += item_servings\n",
    "\n",
    "print single_ingredients, '\\n'\n",
    "\n",
    "# order by popularity - sorts single_ingredients dictionary by value\n",
    "for servings in sorted(single_ingredients, key=single_ingredients.get, reverse=True):\n",
    "      print str(single_ingredients[servings]).rjust(5), servings"
   ]
  }
 ],
 "metadata": {
  "anaconda-cloud": {},
  "kernelspec": {
   "display_name": "Python 2",
   "language": "python",
   "name": "python2"
  },
  "language_info": {
   "codemirror_mode": {
    "name": "ipython",
    "version": 2
   },
   "file_extension": ".py",
   "mimetype": "text/x-python",
   "name": "python",
   "nbconvert_exporter": "python",
   "pygments_lexer": "ipython2",
   "version": "2.7.13"
  }
 },
 "nbformat": 4,
 "nbformat_minor": 2
}
