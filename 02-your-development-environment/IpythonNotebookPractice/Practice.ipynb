{
 "cells": [
  {
   "cell_type": "markdown",
   "metadata": {},
   "source": [
    "### Practice Notebook"
   ]
  },
  {
   "cell_type": "code",
   "execution_count": 1,
   "metadata": {},
   "outputs": [],
   "source": [
    "import pandas as pd\n",
    "import numpy as np\n",
    "%matplotlib inline"
   ]
  },
  {
   "cell_type": "code",
   "execution_count": 3,
   "metadata": {},
   "outputs": [],
   "source": [
    "listo = [0,1,2,3,4,5]"
   ]
  },
  {
   "cell_type": "code",
   "execution_count": 4,
   "metadata": {},
   "outputs": [
    {
     "data": {
      "text/plain": [
       "[0, 1, 2, 3, 4, 5]"
      ]
     },
     "execution_count": 4,
     "metadata": {},
     "output_type": "execute_result"
    }
   ],
   "source": [
    "listo"
   ]
  },
  {
   "cell_type": "code",
   "execution_count": 5,
   "metadata": {},
   "outputs": [
    {
     "name": "stdout",
     "output_type": "stream",
     "text": [
      "0\n",
      "1\n",
      "2\n",
      "3\n",
      "4\n",
      "5\n"
     ]
    }
   ],
   "source": [
    "for item in listo:\n",
    "    print(item)"
   ]
  },
  {
   "cell_type": "code",
   "execution_count": 18,
   "metadata": {},
   "outputs": [],
   "source": [
    "data = np.random.randn(100)"
   ]
  },
  {
   "cell_type": "code",
   "execution_count": 19,
   "metadata": {},
   "outputs": [
    {
     "data": {
      "text/plain": [
       "array([-0.52537632, -1.52078524,  0.85380182, -0.74403687, -0.54058854,\n",
       "       -0.04415007,  0.06217848,  0.49392854, -0.2196255 ,  0.17001846,\n",
       "        0.94916273, -0.00796883,  1.41711964, -1.39193867,  2.09635224,\n",
       "        1.03668638,  1.3874367 ,  0.20013501,  0.91682386, -0.11875153,\n",
       "       -0.46975377, -1.59729293,  1.61827075, -0.66138996, -0.49910907,\n",
       "        1.37563315, -0.91356775, -0.05114706,  0.33006643,  1.40016652,\n",
       "       -1.04365222,  1.14922735, -1.8710521 ,  1.81137106, -0.45271705,\n",
       "       -0.64315021,  0.65152898,  0.39149087, -0.03194894, -0.29639735,\n",
       "       -0.90768424,  0.71865165,  0.04716087, -1.21341511, -0.9351309 ,\n",
       "       -1.45313603, -1.13995355,  0.64374436, -1.45836336,  1.00598219,\n",
       "        0.45445715,  0.84474927,  0.22525346,  1.65251916, -0.60743973,\n",
       "        0.5598231 , -1.19076635,  1.16606023,  0.80553355, -0.7862339 ,\n",
       "        1.67432459,  1.34059447,  0.37567164, -1.19833233, -0.34926228,\n",
       "        1.40259925, -0.89958096, -1.00971649,  1.18234718,  0.15012018,\n",
       "        1.05168948,  0.51679092, -2.01944657,  0.00405069, -0.04956615,\n",
       "       -1.43891528,  0.6864526 ,  0.37548982,  1.45294055, -0.8989852 ,\n",
       "        0.46073722, -0.97114579,  1.06051277, -0.56670287,  0.26589737,\n",
       "       -1.3762403 , -1.20381408, -1.13183962,  0.90007223,  0.38138972,\n",
       "        0.50138466,  1.29701229, -0.07250746,  0.12063573,  0.960151  ,\n",
       "        0.60040372,  1.97600785, -0.21840857,  0.09772366,  0.9980939 ])"
      ]
     },
     "execution_count": 19,
     "metadata": {},
     "output_type": "execute_result"
    }
   ],
   "source": [
    "data"
   ]
  },
  {
   "cell_type": "code",
   "execution_count": 20,
   "metadata": {},
   "outputs": [
    {
     "data": {
      "text/plain": [
       "0    -0.525376\n",
       "1    -1.520785\n",
       "2     0.853802\n",
       "3    -0.744037\n",
       "4    -0.540589\n",
       "5    -0.044150\n",
       "6     0.062178\n",
       "7     0.493929\n",
       "8    -0.219625\n",
       "9     0.170018\n",
       "10    0.949163\n",
       "11   -0.007969\n",
       "12    1.417120\n",
       "13   -1.391939\n",
       "14    2.096352\n",
       "15    1.036686\n",
       "16    1.387437\n",
       "17    0.200135\n",
       "18    0.916824\n",
       "19   -0.118752\n",
       "20   -0.469754\n",
       "21   -1.597293\n",
       "22    1.618271\n",
       "23   -0.661390\n",
       "24   -0.499109\n",
       "25    1.375633\n",
       "26   -0.913568\n",
       "27   -0.051147\n",
       "28    0.330066\n",
       "29    1.400167\n",
       "        ...   \n",
       "70    1.051689\n",
       "71    0.516791\n",
       "72   -2.019447\n",
       "73    0.004051\n",
       "74   -0.049566\n",
       "75   -1.438915\n",
       "76    0.686453\n",
       "77    0.375490\n",
       "78    1.452941\n",
       "79   -0.898985\n",
       "80    0.460737\n",
       "81   -0.971146\n",
       "82    1.060513\n",
       "83   -0.566703\n",
       "84    0.265897\n",
       "85   -1.376240\n",
       "86   -1.203814\n",
       "87   -1.131840\n",
       "88    0.900072\n",
       "89    0.381390\n",
       "90    0.501385\n",
       "91    1.297012\n",
       "92   -0.072507\n",
       "93    0.120636\n",
       "94    0.960151\n",
       "95    0.600404\n",
       "96    1.976008\n",
       "97   -0.218409\n",
       "98    0.097724\n",
       "99    0.998094\n",
       "Length: 100, dtype: float64"
      ]
     },
     "execution_count": 20,
     "metadata": {},
     "output_type": "execute_result"
    }
   ],
   "source": [
    "pd.Series(data) # 1-dim series, includes data and indexes"
   ]
  },
  {
   "cell_type": "code",
   "execution_count": 21,
   "metadata": {},
   "outputs": [
    {
     "data": {
      "text/plain": [
       "0    -0.525376\n",
       "1    -2.046162\n",
       "2    -1.192360\n",
       "3    -1.936397\n",
       "4    -2.476985\n",
       "5    -2.521135\n",
       "6    -2.458957\n",
       "7    -1.965028\n",
       "8    -2.184654\n",
       "9    -2.014635\n",
       "10   -1.065472\n",
       "11   -1.073441\n",
       "12    0.343678\n",
       "13   -1.048260\n",
       "14    1.048092\n",
       "15    2.084778\n",
       "16    3.472215\n",
       "17    3.672350\n",
       "18    4.589174\n",
       "19    4.470422\n",
       "20    4.000669\n",
       "21    2.403376\n",
       "22    4.021646\n",
       "23    3.360256\n",
       "24    2.861147\n",
       "25    4.236780\n",
       "26    3.323213\n",
       "27    3.272066\n",
       "28    3.602132\n",
       "29    5.002299\n",
       "        ...   \n",
       "70    6.819266\n",
       "71    7.336056\n",
       "72    5.316610\n",
       "73    5.320661\n",
       "74    5.271094\n",
       "75    3.832179\n",
       "76    4.518632\n",
       "77    4.894122\n",
       "78    6.347062\n",
       "79    5.448077\n",
       "80    5.908814\n",
       "81    4.937668\n",
       "82    5.998181\n",
       "83    5.431478\n",
       "84    5.697376\n",
       "85    4.321135\n",
       "86    3.117321\n",
       "87    1.985482\n",
       "88    2.885554\n",
       "89    3.266944\n",
       "90    3.768328\n",
       "91    5.065341\n",
       "92    4.992833\n",
       "93    5.113469\n",
       "94    6.073620\n",
       "95    6.674024\n",
       "96    8.650031\n",
       "97    8.431623\n",
       "98    8.529346\n",
       "99    9.527440\n",
       "Length: 100, dtype: float64"
      ]
     },
     "execution_count": 21,
     "metadata": {},
     "output_type": "execute_result"
    }
   ],
   "source": [
    "pd.Series(data).cumsum()  # cumulative sum"
   ]
  },
  {
   "cell_type": "code",
   "execution_count": 22,
   "metadata": {},
   "outputs": [
    {
     "data": {
      "text/plain": [
       "<matplotlib.axes._subplots.AxesSubplot at 0x111f85c18>"
      ]
     },
     "execution_count": 22,
     "metadata": {},
     "output_type": "execute_result"
    },
    {
     "data": {
      "image/png": "[encoded data removed]",
      "text/plain": [
       "<Figure size 432x288 with 1 Axes>"
      ]
     },
     "metadata": {},
     "output_type": "display_data"
    }
   ],
   "source": [
    "pd.Series(data).cumsum().plot()  # plots cumulative sum"
   ]
  },
  {
   "cell_type": "markdown",
   "metadata": {},
   "source": [
    "### Help"
   ]
  },
  {
   "cell_type": "code",
   "execution_count": 17,
   "metadata": {},
   "outputs": [
    {
     "data": {
      "text/plain": [
       "\u001b[0;31mInit signature:\u001b[0m \u001b[0mpd\u001b[0m\u001b[0;34m.\u001b[0m\u001b[0mSeries\u001b[0m\u001b[0;34m(\u001b[0m\u001b[0mdata\u001b[0m\u001b[0;34m=\u001b[0m\u001b[0;32mNone\u001b[0m\u001b[0;34m,\u001b[0m \u001b[0mindex\u001b[0m\u001b[0;34m=\u001b[0m\u001b[0;32mNone\u001b[0m\u001b[0;34m,\u001b[0m \u001b[0mdtype\u001b[0m\u001b[0;34m=\u001b[0m\u001b[0;32mNone\u001b[0m\u001b[0;34m,\u001b[0m \u001b[0mname\u001b[0m\u001b[0;34m=\u001b[0m\u001b[0;32mNone\u001b[0m\u001b[0;34m,\u001b[0m \u001b[0mcopy\u001b[0m\u001b[0;34m=\u001b[0m\u001b[0;32mFalse\u001b[0m\u001b[0;34m,\u001b[0m \u001b[0mfastpath\u001b[0m\u001b[0;34m=\u001b[0m\u001b[0;32mFalse\u001b[0m\u001b[0;34m)\u001b[0m\u001b[0;34m\u001b[0m\u001b[0m\n",
       "\u001b[0;31mDocstring:\u001b[0m     \n",
       "One-dimensional ndarray with axis labels (including time series).\n",
       "\n",
       "Labels need not be unique but must be a hashable type. The object\n",
       "supports both integer- and label-based indexing and provides a host of\n",
       "methods for performing operations involving the index. Statistical\n",
       "methods from ndarray have been overridden to automatically exclude\n",
       "missing data (currently represented as NaN).\n",
       "\n",
       "Operations between Series (+, -, /, *, **) align values based on their\n",
       "associated index values-- they need not be the same length. The result\n",
       "index will be the sorted union of the two indexes.\n",
       "\n",
       "Parameters\n",
       "----------\n",
       "data : array-like, dict, or scalar value\n",
       "    Contains data stored in Series\n",
       "\n",
       "    .. versionchanged :: 0.23.0\n",
       "       If data is a dict, argument order is maintained for Python 3.6\n",
       "       and later.\n",
       "\n",
       "index : array-like or Index (1d)\n",
       "    Values must be hashable and have the same length as `data`.\n",
       "    Non-unique index values are allowed. Will default to\n",
       "    RangeIndex (0, 1, 2, ..., n) if not provided. If both a dict and index\n",
       "    sequence are used, the index will override the keys found in the\n",
       "    dict.\n",
       "dtype : numpy.dtype or None\n",
       "    If None, dtype will be inferred\n",
       "copy : boolean, default False\n",
       "    Copy input data\n",
       "\u001b[0;31mFile:\u001b[0m           /anaconda3/lib/python3.6/site-packages/pandas/core/series.py\n",
       "\u001b[0;31mType:\u001b[0m           type\n"
      ]
     },
     "metadata": {},
     "output_type": "display_data"
    }
   ],
   "source": [
    "# Tab autocompletes variables\n",
    "# pd.Tab -> dropdown list of available options\n",
    "pd.Series?"
   ]
  },
  {
   "cell_type": "code",
   "execution_count": null,
   "metadata": {},
   "outputs": [],
   "source": []
  }
 ],
 "metadata": {
  "kernelspec": {
   "display_name": "Python 3",
   "language": "python",
   "name": "python3"
  },
  "language_info": {
   "codemirror_mode": {
    "name": "ipython",
    "version": 3
   },
   "file_extension": ".py",
   "mimetype": "text/x-python",
   "name": "python",
   "nbconvert_exporter": "python",
   "pygments_lexer": "ipython3",
   "version": "3.6.4"
  }
 },
 "nbformat": 4,
 "nbformat_minor": 2
}
