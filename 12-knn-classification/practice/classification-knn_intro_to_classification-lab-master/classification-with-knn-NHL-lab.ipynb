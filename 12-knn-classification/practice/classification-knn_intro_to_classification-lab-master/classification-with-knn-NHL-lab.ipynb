{
 "cells": [
  {
   "cell_type": "markdown",
   "metadata": {},
   "source": [
    "<img src=\"http://imgur.com/1ZcRyrc.png\" style=\"float: left; margin: 20px; height: 55px\">\n",
    "\n",
    "# Classification and KNN with NHL data\n",
    "\n",
    "_Authors: Joseph Nelson (DC)_\n",
    "\n",
    "---\n",
    "\n",
    "Below you will practice KNN classification on a dataset of NHL statistics.\n",
    "\n",
    "You will be predicting the `Rank` of a team from predictor variables of your choice."
   ]
  },
  {
   "cell_type": "code",
   "execution_count": 3,
   "metadata": {
    "collapsed": true
   },
   "outputs": [],
   "source": [
    "import matplotlib.pyplot as plt\n",
    "import numpy as np\n",
    "import pandas as pd\n",
    "import seaborn as sns\n",
    "\n",
    "%matplotlib inline\n",
    "%config InlineBackend.figure_format = 'retina'"
   ]
  },
  {
   "cell_type": "code",
   "execution_count": 4,
   "metadata": {
    "collapsed": true
   },
   "outputs": [],
   "source": [
    "# web location:\n",
    "web_csv = 'https://raw.githubusercontent.com/josephofiowa/GA-DSI/master/NHL_Data_GA.csv'\n",
    "local_csv = './datasets/NHL_Data_GA.csv'"
   ]
  },
  {
   "cell_type": "markdown",
   "metadata": {},
   "source": [
    "### 1. Load the NHL data"
   ]
  },
  {
   "cell_type": "code",
   "execution_count": 5,
   "metadata": {
    "collapsed": false
   },
   "outputs": [],
   "source": [
    "# A:\n",
    "NHL = pd.read_csv(web_csv)"
   ]
  },
  {
   "cell_type": "markdown",
   "metadata": {},
   "source": [
    "### 2. Perform any required data cleaning. Do some EDA."
   ]
  },
  {
   "cell_type": "code",
   "execution_count": 23,
   "metadata": {
    "collapsed": false
   },
   "outputs": [
    {
     "data": {
      "text/html": [
       "<div>\n",
       "<style>\n",
       "    .dataframe thead tr:only-child th {\n",
       "        text-align: right;\n",
       "    }\n",
       "\n",
       "    .dataframe thead th {\n",
       "        text-align: left;\n",
       "    }\n",
       "\n",
       "    .dataframe tbody tr th {\n",
       "        vertical-align: top;\n",
       "    }\n",
       "</style>\n",
       "<table border=\"1\" class=\"dataframe\">\n",
       "  <thead>\n",
       "    <tr style=\"text-align: right;\">\n",
       "      <th></th>\n",
       "      <th>Team</th>\n",
       "      <th>PTS</th>\n",
       "      <th>Rank</th>\n",
       "      <th>TOI</th>\n",
       "      <th>GF</th>\n",
       "      <th>GA</th>\n",
       "      <th>GF60</th>\n",
       "      <th>GA60</th>\n",
       "      <th>GF%</th>\n",
       "      <th>SF</th>\n",
       "      <th>...</th>\n",
       "      <th>FF%</th>\n",
       "      <th>CF</th>\n",
       "      <th>CA</th>\n",
       "      <th>CF60</th>\n",
       "      <th>CA60</th>\n",
       "      <th>CF%</th>\n",
       "      <th>Sh%</th>\n",
       "      <th>Sv%</th>\n",
       "      <th>PDO</th>\n",
       "      <th>PIM</th>\n",
       "    </tr>\n",
       "  </thead>\n",
       "  <tbody>\n",
       "    <tr>\n",
       "      <th>0</th>\n",
       "      <td>Washington10</td>\n",
       "      <td>121</td>\n",
       "      <td>1</td>\n",
       "      <td>2001:52:00</td>\n",
       "      <td>115</td>\n",
       "      <td>73</td>\n",
       "      <td>3.45</td>\n",
       "      <td>2.19</td>\n",
       "      <td>61.2</td>\n",
       "      <td>1112</td>\n",
       "      <td>...</td>\n",
       "      <td>51.3</td>\n",
       "      <td>2138</td>\n",
       "      <td>1935</td>\n",
       "      <td>64.1</td>\n",
       "      <td>58.0</td>\n",
       "      <td>52.5</td>\n",
       "      <td>10.34</td>\n",
       "      <td>93.03</td>\n",
       "      <td>1034</td>\n",
       "      <td>1269</td>\n",
       "    </tr>\n",
       "    <tr>\n",
       "      <th>1</th>\n",
       "      <td>Vancouver11</td>\n",
       "      <td>117</td>\n",
       "      <td>1</td>\n",
       "      <td>2056:14:00</td>\n",
       "      <td>94</td>\n",
       "      <td>72</td>\n",
       "      <td>2.74</td>\n",
       "      <td>2.10</td>\n",
       "      <td>56.6</td>\n",
       "      <td>1143</td>\n",
       "      <td>...</td>\n",
       "      <td>53.1</td>\n",
       "      <td>2144</td>\n",
       "      <td>1870</td>\n",
       "      <td>62.6</td>\n",
       "      <td>54.6</td>\n",
       "      <td>53.4</td>\n",
       "      <td>8.22</td>\n",
       "      <td>93.16</td>\n",
       "      <td>1014</td>\n",
       "      <td>985</td>\n",
       "    </tr>\n",
       "    <tr>\n",
       "      <th>2</th>\n",
       "      <td>San Jose10</td>\n",
       "      <td>113</td>\n",
       "      <td>1</td>\n",
       "      <td>1929:54:00</td>\n",
       "      <td>90</td>\n",
       "      <td>68</td>\n",
       "      <td>2.80</td>\n",
       "      <td>2.11</td>\n",
       "      <td>57.0</td>\n",
       "      <td>1065</td>\n",
       "      <td>...</td>\n",
       "      <td>50.9</td>\n",
       "      <td>1985</td>\n",
       "      <td>1876</td>\n",
       "      <td>61.7</td>\n",
       "      <td>58.3</td>\n",
       "      <td>51.4</td>\n",
       "      <td>8.45</td>\n",
       "      <td>93.46</td>\n",
       "      <td>1019</td>\n",
       "      <td>1195</td>\n",
       "    </tr>\n",
       "    <tr>\n",
       "      <th>3</th>\n",
       "      <td>Chicago10</td>\n",
       "      <td>112</td>\n",
       "      <td>1</td>\n",
       "      <td>2020:23:00</td>\n",
       "      <td>104</td>\n",
       "      <td>83</td>\n",
       "      <td>3.09</td>\n",
       "      <td>2.46</td>\n",
       "      <td>55.6</td>\n",
       "      <td>1186</td>\n",
       "      <td>...</td>\n",
       "      <td>58.1</td>\n",
       "      <td>2093</td>\n",
       "      <td>1572</td>\n",
       "      <td>62.2</td>\n",
       "      <td>46.7</td>\n",
       "      <td>57.1</td>\n",
       "      <td>8.77</td>\n",
       "      <td>90.44</td>\n",
       "      <td>992</td>\n",
       "      <td>966</td>\n",
       "    </tr>\n",
       "    <tr>\n",
       "      <th>4</th>\n",
       "      <td>Vancouver12</td>\n",
       "      <td>111</td>\n",
       "      <td>1</td>\n",
       "      <td>2052:02:00</td>\n",
       "      <td>86</td>\n",
       "      <td>74</td>\n",
       "      <td>2.51</td>\n",
       "      <td>2.16</td>\n",
       "      <td>53.8</td>\n",
       "      <td>1078</td>\n",
       "      <td>...</td>\n",
       "      <td>51.0</td>\n",
       "      <td>2085</td>\n",
       "      <td>1880</td>\n",
       "      <td>61.0</td>\n",
       "      <td>55.0</td>\n",
       "      <td>52.6</td>\n",
       "      <td>7.98</td>\n",
       "      <td>93.36</td>\n",
       "      <td>1013</td>\n",
       "      <td>1049</td>\n",
       "    </tr>\n",
       "  </tbody>\n",
       "</table>\n",
       "<p>5 rows × 28 columns</p>\n",
       "</div>"
      ],
      "text/plain": [
       "           Team  PTS  Rank         TOI   GF  GA  GF60  GA60   GF%    SF  ...   \\\n",
       "0  Washington10  121     1  2001:52:00  115  73  3.45  2.19  61.2  1112  ...    \n",
       "1   Vancouver11  117     1  2056:14:00   94  72  2.74  2.10  56.6  1143  ...    \n",
       "2    San Jose10  113     1  1929:54:00   90  68  2.80  2.11  57.0  1065  ...    \n",
       "3     Chicago10  112     1  2020:23:00  104  83  3.09  2.46  55.6  1186  ...    \n",
       "4   Vancouver12  111     1  2052:02:00   86  74  2.51  2.16  53.8  1078  ...    \n",
       "\n",
       "    FF%    CF    CA  CF60  CA60   CF%    Sh%    Sv%   PDO   PIM  \n",
       "0  51.3  2138  1935  64.1  58.0  52.5  10.34  93.03  1034  1269  \n",
       "1  53.1  2144  1870  62.6  54.6  53.4   8.22  93.16  1014   985  \n",
       "2  50.9  1985  1876  61.7  58.3  51.4   8.45  93.46  1019  1195  \n",
       "3  58.1  2093  1572  62.2  46.7  57.1   8.77  90.44   992   966  \n",
       "4  51.0  2085  1880  61.0  55.0  52.6   7.98  93.36  1013  1049  \n",
       "\n",
       "[5 rows x 28 columns]"
      ]
     },
     "execution_count": 23,
     "metadata": {},
     "output_type": "execute_result"
    }
   ],
   "source": [
    "# A:\n",
    "NHL.head()"
   ]
  },
  {
   "cell_type": "code",
   "execution_count": 24,
   "metadata": {
    "collapsed": false
   },
   "outputs": [
    {
     "data": {
      "text/plain": [
       "(90, 28)"
      ]
     },
     "execution_count": 24,
     "metadata": {},
     "output_type": "execute_result"
    }
   ],
   "source": [
    "NHL.shape"
   ]
  },
  {
   "cell_type": "code",
   "execution_count": 19,
   "metadata": {
    "collapsed": false,
    "scrolled": true
   },
   "outputs": [
    {
     "name": "stdout",
     "output_type": "stream",
     "text": [
      "<class 'pandas.core.frame.DataFrame'>\n",
      "RangeIndex: 90 entries, 0 to 89\n",
      "Data columns (total 28 columns):\n",
      "Team    90 non-null object\n",
      "PTS     90 non-null int64\n",
      "Rank    90 non-null int64\n",
      "TOI     90 non-null object\n",
      "GF      90 non-null int64\n",
      "GA      90 non-null int64\n",
      "GF60    90 non-null float64\n",
      "GA60    90 non-null float64\n",
      "GF%     90 non-null float64\n",
      "SF      90 non-null int64\n",
      "SA      90 non-null int64\n",
      "SF60    90 non-null float64\n",
      "SA60    90 non-null float64\n",
      "SF%     90 non-null float64\n",
      "FF      90 non-null int64\n",
      "FA      90 non-null int64\n",
      "FF60    90 non-null float64\n",
      "FA60    90 non-null float64\n",
      "FF%     90 non-null float64\n",
      "CF      90 non-null int64\n",
      "CA      90 non-null int64\n",
      "CF60    90 non-null float64\n",
      "CA60    90 non-null float64\n",
      "CF%     90 non-null float64\n",
      "Sh%     90 non-null float64\n",
      "Sv%     90 non-null float64\n",
      "PDO     90 non-null int64\n",
      "PIM     90 non-null int64\n",
      "dtypes: float64(14), int64(12), object(2)\n",
      "memory usage: 19.8+ KB\n"
     ]
    }
   ],
   "source": [
    "NHL.info()"
   ]
  },
  {
   "cell_type": "code",
   "execution_count": 14,
   "metadata": {
    "collapsed": false
   },
   "outputs": [
    {
     "data": {
      "text/html": [
       "<div>\n",
       "<style>\n",
       "    .dataframe thead tr:only-child th {\n",
       "        text-align: right;\n",
       "    }\n",
       "\n",
       "    .dataframe thead th {\n",
       "        text-align: left;\n",
       "    }\n",
       "\n",
       "    .dataframe tbody tr th {\n",
       "        vertical-align: top;\n",
       "    }\n",
       "</style>\n",
       "<table border=\"1\" class=\"dataframe\">\n",
       "  <thead>\n",
       "    <tr style=\"text-align: right;\">\n",
       "      <th></th>\n",
       "      <th>count</th>\n",
       "      <th>mean</th>\n",
       "      <th>std</th>\n",
       "      <th>min</th>\n",
       "      <th>25%</th>\n",
       "      <th>50%</th>\n",
       "      <th>75%</th>\n",
       "      <th>max</th>\n",
       "    </tr>\n",
       "  </thead>\n",
       "  <tbody>\n",
       "    <tr>\n",
       "      <th>PTS</th>\n",
       "      <td>90.0</td>\n",
       "      <td>91.977778</td>\n",
       "      <td>12.524114</td>\n",
       "      <td>62.00</td>\n",
       "      <td>82.2500</td>\n",
       "      <td>92.500</td>\n",
       "      <td>102.000</td>\n",
       "      <td>121.00</td>\n",
       "    </tr>\n",
       "    <tr>\n",
       "      <th>Rank</th>\n",
       "      <td>90.0</td>\n",
       "      <td>2.022222</td>\n",
       "      <td>0.820767</td>\n",
       "      <td>1.00</td>\n",
       "      <td>1.0000</td>\n",
       "      <td>2.000</td>\n",
       "      <td>3.000</td>\n",
       "      <td>3.00</td>\n",
       "    </tr>\n",
       "    <tr>\n",
       "      <th>GF</th>\n",
       "      <td>90.0</td>\n",
       "      <td>83.288889</td>\n",
       "      <td>10.376339</td>\n",
       "      <td>57.00</td>\n",
       "      <td>76.0000</td>\n",
       "      <td>84.000</td>\n",
       "      <td>90.000</td>\n",
       "      <td>115.00</td>\n",
       "    </tr>\n",
       "    <tr>\n",
       "      <th>GA</th>\n",
       "      <td>90.0</td>\n",
       "      <td>83.288889</td>\n",
       "      <td>9.694484</td>\n",
       "      <td>64.00</td>\n",
       "      <td>75.5000</td>\n",
       "      <td>84.000</td>\n",
       "      <td>89.000</td>\n",
       "      <td>107.00</td>\n",
       "    </tr>\n",
       "    <tr>\n",
       "      <th>GF60</th>\n",
       "      <td>90.0</td>\n",
       "      <td>2.442222</td>\n",
       "      <td>0.325331</td>\n",
       "      <td>1.70</td>\n",
       "      <td>2.2325</td>\n",
       "      <td>2.400</td>\n",
       "      <td>2.600</td>\n",
       "      <td>3.45</td>\n",
       "    </tr>\n",
       "    <tr>\n",
       "      <th>GA60</th>\n",
       "      <td>90.0</td>\n",
       "      <td>2.444000</td>\n",
       "      <td>0.313522</td>\n",
       "      <td>1.73</td>\n",
       "      <td>2.2025</td>\n",
       "      <td>2.495</td>\n",
       "      <td>2.670</td>\n",
       "      <td>3.24</td>\n",
       "    </tr>\n",
       "    <tr>\n",
       "      <th>GF%</th>\n",
       "      <td>90.0</td>\n",
       "      <td>49.981111</td>\n",
       "      <td>4.644554</td>\n",
       "      <td>38.00</td>\n",
       "      <td>46.8250</td>\n",
       "      <td>49.700</td>\n",
       "      <td>53.625</td>\n",
       "      <td>61.20</td>\n",
       "    </tr>\n",
       "    <tr>\n",
       "      <th>SF</th>\n",
       "      <td>90.0</td>\n",
       "      <td>1068.333333</td>\n",
       "      <td>95.929047</td>\n",
       "      <td>815.00</td>\n",
       "      <td>1011.5000</td>\n",
       "      <td>1072.000</td>\n",
       "      <td>1143.000</td>\n",
       "      <td>1311.00</td>\n",
       "    </tr>\n",
       "    <tr>\n",
       "      <th>SA</th>\n",
       "      <td>90.0</td>\n",
       "      <td>1068.333333</td>\n",
       "      <td>75.514118</td>\n",
       "      <td>868.00</td>\n",
       "      <td>1022.2500</td>\n",
       "      <td>1072.000</td>\n",
       "      <td>1125.750</td>\n",
       "      <td>1245.00</td>\n",
       "    </tr>\n",
       "    <tr>\n",
       "      <th>SF60</th>\n",
       "      <td>90.0</td>\n",
       "      <td>31.252222</td>\n",
       "      <td>2.237637</td>\n",
       "      <td>25.80</td>\n",
       "      <td>29.5500</td>\n",
       "      <td>31.400</td>\n",
       "      <td>32.775</td>\n",
       "      <td>35.60</td>\n",
       "    </tr>\n",
       "    <tr>\n",
       "      <th>SA60</th>\n",
       "      <td>90.0</td>\n",
       "      <td>31.292222</td>\n",
       "      <td>2.100306</td>\n",
       "      <td>25.80</td>\n",
       "      <td>29.8000</td>\n",
       "      <td>31.500</td>\n",
       "      <td>32.900</td>\n",
       "      <td>35.90</td>\n",
       "    </tr>\n",
       "    <tr>\n",
       "      <th>SF%</th>\n",
       "      <td>90.0</td>\n",
       "      <td>49.956667</td>\n",
       "      <td>2.793494</td>\n",
       "      <td>43.20</td>\n",
       "      <td>48.3000</td>\n",
       "      <td>50.150</td>\n",
       "      <td>51.675</td>\n",
       "      <td>57.70</td>\n",
       "    </tr>\n",
       "    <tr>\n",
       "      <th>FF</th>\n",
       "      <td>90.0</td>\n",
       "      <td>1475.377778</td>\n",
       "      <td>129.880116</td>\n",
       "      <td>1138.00</td>\n",
       "      <td>1380.7500</td>\n",
       "      <td>1474.500</td>\n",
       "      <td>1566.250</td>\n",
       "      <td>1762.00</td>\n",
       "    </tr>\n",
       "    <tr>\n",
       "      <th>FA</th>\n",
       "      <td>90.0</td>\n",
       "      <td>1475.377778</td>\n",
       "      <td>109.025569</td>\n",
       "      <td>1151.00</td>\n",
       "      <td>1409.5000</td>\n",
       "      <td>1477.500</td>\n",
       "      <td>1551.000</td>\n",
       "      <td>1735.00</td>\n",
       "    </tr>\n",
       "    <tr>\n",
       "      <th>FF60</th>\n",
       "      <td>90.0</td>\n",
       "      <td>43.155556</td>\n",
       "      <td>2.951180</td>\n",
       "      <td>36.00</td>\n",
       "      <td>40.9000</td>\n",
       "      <td>43.400</td>\n",
       "      <td>45.500</td>\n",
       "      <td>49.50</td>\n",
       "    </tr>\n",
       "    <tr>\n",
       "      <th>FA60</th>\n",
       "      <td>90.0</td>\n",
       "      <td>43.217778</td>\n",
       "      <td>3.047105</td>\n",
       "      <td>34.20</td>\n",
       "      <td>41.3500</td>\n",
       "      <td>43.450</td>\n",
       "      <td>45.150</td>\n",
       "      <td>50.50</td>\n",
       "    </tr>\n",
       "    <tr>\n",
       "      <th>FF%</th>\n",
       "      <td>90.0</td>\n",
       "      <td>49.966667</td>\n",
       "      <td>2.797913</td>\n",
       "      <td>43.10</td>\n",
       "      <td>47.7750</td>\n",
       "      <td>50.050</td>\n",
       "      <td>51.775</td>\n",
       "      <td>58.10</td>\n",
       "    </tr>\n",
       "    <tr>\n",
       "      <th>CF</th>\n",
       "      <td>90.0</td>\n",
       "      <td>1973.466667</td>\n",
       "      <td>176.468299</td>\n",
       "      <td>1565.00</td>\n",
       "      <td>1855.2500</td>\n",
       "      <td>1981.500</td>\n",
       "      <td>2112.750</td>\n",
       "      <td>2341.00</td>\n",
       "    </tr>\n",
       "    <tr>\n",
       "      <th>CA</th>\n",
       "      <td>90.0</td>\n",
       "      <td>1973.466667</td>\n",
       "      <td>154.148928</td>\n",
       "      <td>1572.00</td>\n",
       "      <td>1877.0000</td>\n",
       "      <td>1961.000</td>\n",
       "      <td>2077.250</td>\n",
       "      <td>2332.00</td>\n",
       "    </tr>\n",
       "    <tr>\n",
       "      <th>CF60</th>\n",
       "      <td>90.0</td>\n",
       "      <td>57.735556</td>\n",
       "      <td>4.124476</td>\n",
       "      <td>49.50</td>\n",
       "      <td>54.2750</td>\n",
       "      <td>58.050</td>\n",
       "      <td>60.850</td>\n",
       "      <td>64.90</td>\n",
       "    </tr>\n",
       "    <tr>\n",
       "      <th>CA60</th>\n",
       "      <td>90.0</td>\n",
       "      <td>57.798889</td>\n",
       "      <td>4.291106</td>\n",
       "      <td>46.70</td>\n",
       "      <td>54.6000</td>\n",
       "      <td>58.350</td>\n",
       "      <td>60.400</td>\n",
       "      <td>67.50</td>\n",
       "    </tr>\n",
       "    <tr>\n",
       "      <th>CF%</th>\n",
       "      <td>90.0</td>\n",
       "      <td>49.972222</td>\n",
       "      <td>2.844313</td>\n",
       "      <td>43.70</td>\n",
       "      <td>47.9250</td>\n",
       "      <td>50.400</td>\n",
       "      <td>52.000</td>\n",
       "      <td>57.10</td>\n",
       "    </tr>\n",
       "    <tr>\n",
       "      <th>Sh%</th>\n",
       "      <td>90.0</td>\n",
       "      <td>7.814556</td>\n",
       "      <td>0.866942</td>\n",
       "      <td>5.90</td>\n",
       "      <td>7.2350</td>\n",
       "      <td>7.730</td>\n",
       "      <td>8.270</td>\n",
       "      <td>10.34</td>\n",
       "    </tr>\n",
       "    <tr>\n",
       "      <th>Sv%</th>\n",
       "      <td>90.0</td>\n",
       "      <td>92.182556</td>\n",
       "      <td>0.928621</td>\n",
       "      <td>89.83</td>\n",
       "      <td>91.5550</td>\n",
       "      <td>92.250</td>\n",
       "      <td>92.870</td>\n",
       "      <td>93.94</td>\n",
       "    </tr>\n",
       "    <tr>\n",
       "      <th>PDO</th>\n",
       "      <td>90.0</td>\n",
       "      <td>999.988889</td>\n",
       "      <td>12.292772</td>\n",
       "      <td>978.00</td>\n",
       "      <td>992.0000</td>\n",
       "      <td>1000.500</td>\n",
       "      <td>1007.750</td>\n",
       "      <td>1034.00</td>\n",
       "    </tr>\n",
       "    <tr>\n",
       "      <th>PIM</th>\n",
       "      <td>90.0</td>\n",
       "      <td>990.966667</td>\n",
       "      <td>178.049321</td>\n",
       "      <td>689.00</td>\n",
       "      <td>881.2500</td>\n",
       "      <td>960.000</td>\n",
       "      <td>1101.500</td>\n",
       "      <td>1515.00</td>\n",
       "    </tr>\n",
       "  </tbody>\n",
       "</table>\n",
       "</div>"
      ],
      "text/plain": [
       "      count         mean         std      min        25%       50%       75%  \\\n",
       "PTS    90.0    91.977778   12.524114    62.00    82.2500    92.500   102.000   \n",
       "Rank   90.0     2.022222    0.820767     1.00     1.0000     2.000     3.000   \n",
       "GF     90.0    83.288889   10.376339    57.00    76.0000    84.000    90.000   \n",
       "GA     90.0    83.288889    9.694484    64.00    75.5000    84.000    89.000   \n",
       "GF60   90.0     2.442222    0.325331     1.70     2.2325     2.400     2.600   \n",
       "GA60   90.0     2.444000    0.313522     1.73     2.2025     2.495     2.670   \n",
       "GF%    90.0    49.981111    4.644554    38.00    46.8250    49.700    53.625   \n",
       "SF     90.0  1068.333333   95.929047   815.00  1011.5000  1072.000  1143.000   \n",
       "SA     90.0  1068.333333   75.514118   868.00  1022.2500  1072.000  1125.750   \n",
       "SF60   90.0    31.252222    2.237637    25.80    29.5500    31.400    32.775   \n",
       "SA60   90.0    31.292222    2.100306    25.80    29.8000    31.500    32.900   \n",
       "SF%    90.0    49.956667    2.793494    43.20    48.3000    50.150    51.675   \n",
       "FF     90.0  1475.377778  129.880116  1138.00  1380.7500  1474.500  1566.250   \n",
       "FA     90.0  1475.377778  109.025569  1151.00  1409.5000  1477.500  1551.000   \n",
       "FF60   90.0    43.155556    2.951180    36.00    40.9000    43.400    45.500   \n",
       "FA60   90.0    43.217778    3.047105    34.20    41.3500    43.450    45.150   \n",
       "FF%    90.0    49.966667    2.797913    43.10    47.7750    50.050    51.775   \n",
       "CF     90.0  1973.466667  176.468299  1565.00  1855.2500  1981.500  2112.750   \n",
       "CA     90.0  1973.466667  154.148928  1572.00  1877.0000  1961.000  2077.250   \n",
       "CF60   90.0    57.735556    4.124476    49.50    54.2750    58.050    60.850   \n",
       "CA60   90.0    57.798889    4.291106    46.70    54.6000    58.350    60.400   \n",
       "CF%    90.0    49.972222    2.844313    43.70    47.9250    50.400    52.000   \n",
       "Sh%    90.0     7.814556    0.866942     5.90     7.2350     7.730     8.270   \n",
       "Sv%    90.0    92.182556    0.928621    89.83    91.5550    92.250    92.870   \n",
       "PDO    90.0   999.988889   12.292772   978.00   992.0000  1000.500  1007.750   \n",
       "PIM    90.0   990.966667  178.049321   689.00   881.2500   960.000  1101.500   \n",
       "\n",
       "          max  \n",
       "PTS    121.00  \n",
       "Rank     3.00  \n",
       "GF     115.00  \n",
       "GA     107.00  \n",
       "GF60     3.45  \n",
       "GA60     3.24  \n",
       "GF%     61.20  \n",
       "SF    1311.00  \n",
       "SA    1245.00  \n",
       "SF60    35.60  \n",
       "SA60    35.90  \n",
       "SF%     57.70  \n",
       "FF    1762.00  \n",
       "FA    1735.00  \n",
       "FF60    49.50  \n",
       "FA60    50.50  \n",
       "FF%     58.10  \n",
       "CF    2341.00  \n",
       "CA    2332.00  \n",
       "CF60    64.90  \n",
       "CA60    67.50  \n",
       "CF%     57.10  \n",
       "Sh%     10.34  \n",
       "Sv%     93.94  \n",
       "PDO   1034.00  \n",
       "PIM   1515.00  "
      ]
     },
     "execution_count": 14,
     "metadata": {},
     "output_type": "execute_result"
    }
   ],
   "source": [
    "NHL.describe().T"
   ]
  },
  {
   "cell_type": "code",
   "execution_count": 25,
   "metadata": {
    "collapsed": false
   },
   "outputs": [
    {
     "data": {
      "text/plain": [
       "Team    0\n",
       "PTS     0\n",
       "Rank    0\n",
       "TOI     0\n",
       "GF      0\n",
       "GA      0\n",
       "GF60    0\n",
       "GA60    0\n",
       "GF%     0\n",
       "SF      0\n",
       "SA      0\n",
       "SF60    0\n",
       "SA60    0\n",
       "SF%     0\n",
       "FF      0\n",
       "FA      0\n",
       "FF60    0\n",
       "FA60    0\n",
       "FF%     0\n",
       "CF      0\n",
       "CA      0\n",
       "CF60    0\n",
       "CA60    0\n",
       "CF%     0\n",
       "Sh%     0\n",
       "Sv%     0\n",
       "PDO     0\n",
       "PIM     0\n",
       "dtype: int64"
      ]
     },
     "execution_count": 25,
     "metadata": {},
     "output_type": "execute_result"
    }
   ],
   "source": [
    "# A:\n",
    "NHL.isnull().sum()"
   ]
  },
  {
   "cell_type": "code",
   "execution_count": 27,
   "metadata": {
    "collapsed": false
   },
   "outputs": [
    {
     "data": {
      "image/png": "[encoded data removed]",
      "text/plain": [
       "<matplotlib.figure.Figure at 0x11b668650>"
      ]
     },
     "metadata": {
      "image/png": {
       "height": 415,
       "width": 547
      }
     },
     "output_type": "display_data"
    }
   ],
   "source": [
    "corr = NHL.corr()\n",
    "\n",
    "fig, ax = plt.subplots(figsize=(9,7))\n",
    "\n",
    "mask = np.zeros_like(corr, dtype=np.bool)\n",
    "\n",
    "\n",
    "plt.show()"
   ]
  },
  {
   "cell_type": "markdown",
   "metadata": {},
   "source": [
    "### 3. Set up the `Rank` variable as your target. How many classes are there?"
   ]
  },
  {
   "cell_type": "code",
   "execution_count": 16,
   "metadata": {
    "collapsed": false
   },
   "outputs": [
    {
     "data": {
      "text/plain": [
       "count    90.000000\n",
       "mean      2.022222\n",
       "std       0.820767\n",
       "min       1.000000\n",
       "25%       1.000000\n",
       "50%       2.000000\n",
       "75%       3.000000\n",
       "max       3.000000\n",
       "Name: Rank, dtype: float64"
      ]
     },
     "execution_count": 16,
     "metadata": {},
     "output_type": "execute_result"
    }
   ],
   "source": [
    "# A:\n",
    "NHL.Rank.describe()"
   ]
  },
  {
   "cell_type": "markdown",
   "metadata": {},
   "source": [
    "### 4. What is the baseline accuracy?"
   ]
  },
  {
   "cell_type": "code",
   "execution_count": 6,
   "metadata": {
    "collapsed": false
   },
   "outputs": [],
   "source": [
    "# A:"
   ]
  },
  {
   "cell_type": "markdown",
   "metadata": {},
   "source": [
    "### 5. Choose 4 features to be your predictor variables and set up your design matrix."
   ]
  },
  {
   "cell_type": "code",
   "execution_count": 7,
   "metadata": {
    "collapsed": true
   },
   "outputs": [],
   "source": [
    "# A:"
   ]
  },
  {
   "cell_type": "markdown",
   "metadata": {},
   "source": [
    "### 6. Fit a `KNeighborsClassifier` with 1 neighbor using the target and predictors."
   ]
  },
  {
   "cell_type": "code",
   "execution_count": 8,
   "metadata": {
    "collapsed": false
   },
   "outputs": [],
   "source": [
    "# A:"
   ]
  },
  {
   "cell_type": "markdown",
   "metadata": {},
   "source": [
    "### 7. Evaluate the accuracy of your model.\n",
    "- Is it better than baseline?\n",
    "- Is it legitimate?"
   ]
  },
  {
   "cell_type": "code",
   "execution_count": 9,
   "metadata": {
    "collapsed": false
   },
   "outputs": [],
   "source": [
    "# A:"
   ]
  },
  {
   "cell_type": "markdown",
   "metadata": {},
   "source": [
    "### 8. Create a 50-50 train-test-split of your target and predictors. Refit the KNN and assess the accuracy."
   ]
  },
  {
   "cell_type": "code",
   "execution_count": 10,
   "metadata": {
    "collapsed": false
   },
   "outputs": [],
   "source": [
    "# A:"
   ]
  },
  {
   "cell_type": "markdown",
   "metadata": {},
   "source": [
    "### 9. Evaluate the test accuracy of a KNN where K == number of rows in the training data."
   ]
  },
  {
   "cell_type": "code",
   "execution_count": 11,
   "metadata": {
    "collapsed": false
   },
   "outputs": [],
   "source": [
    "# A:"
   ]
  },
  {
   "cell_type": "markdown",
   "metadata": {},
   "source": [
    "### 10. Fit the KNN at values of K from 1 to the number of rows in the training data.\n",
    "- Store the test accuracy in a list.\n",
    "- Plot the test accuracy vs. the number of neighbors."
   ]
  },
  {
   "cell_type": "code",
   "execution_count": 12,
   "metadata": {
    "collapsed": true
   },
   "outputs": [],
   "source": [
    "# A:"
   ]
  },
  {
   "cell_type": "markdown",
   "metadata": {},
   "source": [
    "### 11. Fit KNN across different values of K and plot the mean cross-validated accuracy with 5 folds."
   ]
  },
  {
   "cell_type": "code",
   "execution_count": 13,
   "metadata": {
    "collapsed": false
   },
   "outputs": [],
   "source": [
    "# A:"
   ]
  },
  {
   "cell_type": "markdown",
   "metadata": {},
   "source": [
    "### 12. Standardize the predictor matrix and cross-validate across the different K.\n",
    "- Plot the standardized mean cross-validated accuracy against the unstandardized. Which is better?\n",
    "- Why?"
   ]
  },
  {
   "cell_type": "code",
   "execution_count": 14,
   "metadata": {
    "collapsed": true
   },
   "outputs": [],
   "source": [
    "# A:"
   ]
  }
 ],
 "metadata": {
  "kernelspec": {
   "display_name": "Python 2",
   "language": "python",
   "name": "python2"
  },
  "language_info": {
   "codemirror_mode": {
    "name": "ipython",
    "version": 2
   },
   "file_extension": ".py",
   "mimetype": "text/x-python",
   "name": "python",
   "nbconvert_exporter": "python",
   "pygments_lexer": "ipython2",
   "version": "2.7.13"
  }
 },
 "nbformat": 4,
 "nbformat_minor": 2
}
