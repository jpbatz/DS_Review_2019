{
 "cells": [
  {
   "cell_type": "markdown",
   "metadata": {},
   "source": [
    "## Intro to Pandas\n",
    "+ Object Creation\n",
    "+ Viewing data\n",
    "+ Selection\n",
    "+ Missing data\n",
    "+ Grouping\n",
    "+ Reshaping\n",
    "+ Time series\n",
    "+ Plotting\n",
    "+ i/o\n",
    "\n",
    "pandas.pydata.org\n"
   ]
  },
  {
   "cell_type": "code",
   "execution_count": 1,
   "metadata": {},
   "outputs": [],
   "source": [
    "import pandas as pd\n",
    "import numpy as np\n",
    "import matplotlib.pyplot as plt\n",
    "plt.style.use('ggplot')\n",
    "%matplotlib inline"
   ]
  },
  {
   "cell_type": "code",
   "execution_count": 6,
   "metadata": {},
   "outputs": [
    {
     "name": "stdout",
     "output_type": "stream",
     "text": [
      "<class 'numpy.ndarray'>\n",
      "(24,)\n"
     ]
    },
    {
     "data": {
      "text/plain": [
       "array([ 0,  1,  2,  3,  4,  5,  6,  7,  8,  9, 10, 11, 12, 13, 14, 15, 16,\n",
       "       17, 18, 19, 20, 21, 22, 23])"
      ]
     },
     "execution_count": 6,
     "metadata": {},
     "output_type": "execute_result"
    }
   ],
   "source": [
    "demo_2d = np.arange(24)\n",
    "print(type(demo_2d))\n",
    "print(demo_2d.shape)\n",
    "demo_2d"
   ]
  },
  {
   "cell_type": "code",
   "execution_count": 7,
   "metadata": {},
   "outputs": [
    {
     "name": "stdout",
     "output_type": "stream",
     "text": [
      "<class 'numpy.ndarray'>\n",
      "(12, 2)\n"
     ]
    },
    {
     "data": {
      "text/plain": [
       "array([[ 0,  1],\n",
       "       [ 2,  3],\n",
       "       [ 4,  5],\n",
       "       [ 6,  7],\n",
       "       [ 8,  9],\n",
       "       [10, 11],\n",
       "       [12, 13],\n",
       "       [14, 15],\n",
       "       [16, 17],\n",
       "       [18, 19],\n",
       "       [20, 21],\n",
       "       [22, 23]])"
      ]
     },
     "execution_count": 7,
     "metadata": {},
     "output_type": "execute_result"
    }
   ],
   "source": [
    "demo_2d = np.arange(24).reshape(-1,2)\n",
    "print(type(demo_2d))\n",
    "print(demo_2d.shape)\n",
    "demo_2d"
   ]
  },
  {
   "cell_type": "markdown",
   "metadata": {},
   "source": [
    "### Q: Why is -1 the same as 12?"
   ]
  },
  {
   "cell_type": "code",
   "execution_count": 8,
   "metadata": {},
   "outputs": [
    {
     "data": {
      "text/html": [
       "<div>\n",
       "<style scoped>\n",
       "    .dataframe tbody tr th:only-of-type {\n",
       "        vertical-align: middle;\n",
       "    }\n",
       "\n",
       "    .dataframe tbody tr th {\n",
       "        vertical-align: top;\n",
       "    }\n",
       "\n",
       "    .dataframe thead th {\n",
       "        text-align: right;\n",
       "    }\n",
       "</style>\n",
       "<table border=\"1\" class=\"dataframe\">\n",
       "  <thead>\n",
       "    <tr style=\"text-align: right;\">\n",
       "      <th></th>\n",
       "      <th>0</th>\n",
       "      <th>1</th>\n",
       "    </tr>\n",
       "  </thead>\n",
       "  <tbody>\n",
       "    <tr>\n",
       "      <th>0</th>\n",
       "      <td>0</td>\n",
       "      <td>1</td>\n",
       "    </tr>\n",
       "    <tr>\n",
       "      <th>1</th>\n",
       "      <td>2</td>\n",
       "      <td>3</td>\n",
       "    </tr>\n",
       "    <tr>\n",
       "      <th>2</th>\n",
       "      <td>4</td>\n",
       "      <td>5</td>\n",
       "    </tr>\n",
       "    <tr>\n",
       "      <th>3</th>\n",
       "      <td>6</td>\n",
       "      <td>7</td>\n",
       "    </tr>\n",
       "    <tr>\n",
       "      <th>4</th>\n",
       "      <td>8</td>\n",
       "      <td>9</td>\n",
       "    </tr>\n",
       "    <tr>\n",
       "      <th>5</th>\n",
       "      <td>10</td>\n",
       "      <td>11</td>\n",
       "    </tr>\n",
       "    <tr>\n",
       "      <th>6</th>\n",
       "      <td>12</td>\n",
       "      <td>13</td>\n",
       "    </tr>\n",
       "    <tr>\n",
       "      <th>7</th>\n",
       "      <td>14</td>\n",
       "      <td>15</td>\n",
       "    </tr>\n",
       "    <tr>\n",
       "      <th>8</th>\n",
       "      <td>16</td>\n",
       "      <td>17</td>\n",
       "    </tr>\n",
       "    <tr>\n",
       "      <th>9</th>\n",
       "      <td>18</td>\n",
       "      <td>19</td>\n",
       "    </tr>\n",
       "    <tr>\n",
       "      <th>10</th>\n",
       "      <td>20</td>\n",
       "      <td>21</td>\n",
       "    </tr>\n",
       "    <tr>\n",
       "      <th>11</th>\n",
       "      <td>22</td>\n",
       "      <td>23</td>\n",
       "    </tr>\n",
       "  </tbody>\n",
       "</table>\n",
       "</div>"
      ],
      "text/plain": [
       "     0   1\n",
       "0    0   1\n",
       "1    2   3\n",
       "2    4   5\n",
       "3    6   7\n",
       "4    8   9\n",
       "5   10  11\n",
       "6   12  13\n",
       "7   14  15\n",
       "8   16  17\n",
       "9   18  19\n",
       "10  20  21\n",
       "11  22  23"
      ]
     },
     "execution_count": 8,
     "metadata": {},
     "output_type": "execute_result"
    }
   ],
   "source": [
    "pd.DataFrame(demo_2d)   # note row and col indexes are auto-generated"
   ]
  },
  {
   "cell_type": "code",
   "execution_count": 9,
   "metadata": {},
   "outputs": [],
   "source": [
    "pd.date_range?"
   ]
  },
  {
   "cell_type": "code",
   "execution_count": 11,
   "metadata": {},
   "outputs": [
    {
     "data": {
      "text/plain": [
       "DatetimeIndex(['2014-01-01', '2014-01-02', '2014-01-03', '2014-01-04',\n",
       "               '2014-01-05', '2014-01-06'],\n",
       "              dtype='datetime64[ns]', freq='D')"
      ]
     },
     "execution_count": 11,
     "metadata": {},
     "output_type": "execute_result"
    }
   ],
   "source": [
    "# creates a DateTime index\n",
    "dates = pd.date_range('20140101', periods=6)\n",
    "dates"
   ]
  },
  {
   "cell_type": "code",
   "execution_count": 12,
   "metadata": {},
   "outputs": [
    {
     "data": {
      "text/plain": [
       "['A', 'B', 'C', 'D']"
      ]
     },
     "execution_count": 12,
     "metadata": {},
     "output_type": "execute_result"
    }
   ],
   "source": [
    "list('ABCD')"
   ]
  },
  {
   "cell_type": "code",
   "execution_count": 13,
   "metadata": {},
   "outputs": [
    {
     "data": {
      "text/html": [
       "<div>\n",
       "<style scoped>\n",
       "    .dataframe tbody tr th:only-of-type {\n",
       "        vertical-align: middle;\n",
       "    }\n",
       "\n",
       "    .dataframe tbody tr th {\n",
       "        vertical-align: top;\n",
       "    }\n",
       "\n",
       "    .dataframe thead th {\n",
       "        text-align: right;\n",
       "    }\n",
       "</style>\n",
       "<table border=\"1\" class=\"dataframe\">\n",
       "  <thead>\n",
       "    <tr style=\"text-align: right;\">\n",
       "      <th></th>\n",
       "      <th>A</th>\n",
       "      <th>B</th>\n",
       "      <th>C</th>\n",
       "      <th>D</th>\n",
       "    </tr>\n",
       "  </thead>\n",
       "  <tbody>\n",
       "    <tr>\n",
       "      <th>2014-01-01</th>\n",
       "      <td>0.037203</td>\n",
       "      <td>1.448711</td>\n",
       "      <td>1.279602</td>\n",
       "      <td>-0.014906</td>\n",
       "    </tr>\n",
       "    <tr>\n",
       "      <th>2014-01-02</th>\n",
       "      <td>0.243059</td>\n",
       "      <td>0.890902</td>\n",
       "      <td>-0.331032</td>\n",
       "      <td>-2.085118</td>\n",
       "    </tr>\n",
       "    <tr>\n",
       "      <th>2014-01-03</th>\n",
       "      <td>-0.896884</td>\n",
       "      <td>-0.271741</td>\n",
       "      <td>0.457335</td>\n",
       "      <td>1.484917</td>\n",
       "    </tr>\n",
       "    <tr>\n",
       "      <th>2014-01-04</th>\n",
       "      <td>1.237440</td>\n",
       "      <td>1.748171</td>\n",
       "      <td>-0.380199</td>\n",
       "      <td>-0.050542</td>\n",
       "    </tr>\n",
       "    <tr>\n",
       "      <th>2014-01-05</th>\n",
       "      <td>-0.097982</td>\n",
       "      <td>-0.913569</td>\n",
       "      <td>1.004484</td>\n",
       "      <td>0.099598</td>\n",
       "    </tr>\n",
       "    <tr>\n",
       "      <th>2014-01-06</th>\n",
       "      <td>1.458151</td>\n",
       "      <td>-0.618865</td>\n",
       "      <td>-0.387347</td>\n",
       "      <td>-0.419083</td>\n",
       "    </tr>\n",
       "  </tbody>\n",
       "</table>\n",
       "</div>"
      ],
      "text/plain": [
       "                   A         B         C         D\n",
       "2014-01-01  0.037203  1.448711  1.279602 -0.014906\n",
       "2014-01-02  0.243059  0.890902 -0.331032 -2.085118\n",
       "2014-01-03 -0.896884 -0.271741  0.457335  1.484917\n",
       "2014-01-04  1.237440  1.748171 -0.380199 -0.050542\n",
       "2014-01-05 -0.097982 -0.913569  1.004484  0.099598\n",
       "2014-01-06  1.458151 -0.618865 -0.387347 -0.419083"
      ]
     },
     "execution_count": 13,
     "metadata": {},
     "output_type": "execute_result"
    }
   ],
   "source": [
    "# generates 6x4 dataframe with random numbers\n",
    "# assigns dates (derined above) as indexes\n",
    "df = pd.DataFrame(np.random.randn(6,4), \n",
    "                  index=dates, \n",
    "                  columns=list('ABCD'))\n",
    "df"
   ]
  },
  {
   "cell_type": "code",
   "execution_count": 14,
   "metadata": {},
   "outputs": [
    {
     "name": "stdout",
     "output_type": "stream",
     "text": [
      "<class 'pandas.core.frame.DataFrame'>\n",
      "DatetimeIndex: 6 entries, 2014-01-01 to 2014-01-06\n",
      "Freq: D\n",
      "Data columns (total 4 columns):\n",
      "A    6 non-null float64\n",
      "B    6 non-null float64\n",
      "C    6 non-null float64\n",
      "D    6 non-null float64\n",
      "dtypes: float64(4)\n",
      "memory usage: 240.0 bytes\n"
     ]
    }
   ],
   "source": [
    "df.info()"
   ]
  },
  {
   "cell_type": "code",
   "execution_count": 16,
   "metadata": {},
   "outputs": [
    {
     "data": {
      "text/html": [
       "<div>\n",
       "<style scoped>\n",
       "    .dataframe tbody tr th:only-of-type {\n",
       "        vertical-align: middle;\n",
       "    }\n",
       "\n",
       "    .dataframe tbody tr th {\n",
       "        vertical-align: top;\n",
       "    }\n",
       "\n",
       "    .dataframe thead th {\n",
       "        text-align: right;\n",
       "    }\n",
       "</style>\n",
       "<table border=\"1\" class=\"dataframe\">\n",
       "  <thead>\n",
       "    <tr style=\"text-align: right;\">\n",
       "      <th></th>\n",
       "      <th>A</th>\n",
       "      <th>B</th>\n",
       "      <th>C</th>\n",
       "      <th>D</th>\n",
       "    </tr>\n",
       "  </thead>\n",
       "  <tbody>\n",
       "    <tr>\n",
       "      <th>count</th>\n",
       "      <td>6.000000</td>\n",
       "      <td>6.000000</td>\n",
       "      <td>6.000000</td>\n",
       "      <td>6.000000</td>\n",
       "    </tr>\n",
       "    <tr>\n",
       "      <th>mean</th>\n",
       "      <td>0.330165</td>\n",
       "      <td>0.380601</td>\n",
       "      <td>0.273807</td>\n",
       "      <td>-0.164189</td>\n",
       "    </tr>\n",
       "    <tr>\n",
       "      <th>std</th>\n",
       "      <td>0.880667</td>\n",
       "      <td>1.128793</td>\n",
       "      <td>0.749650</td>\n",
       "      <td>1.147107</td>\n",
       "    </tr>\n",
       "    <tr>\n",
       "      <th>min</th>\n",
       "      <td>-0.896884</td>\n",
       "      <td>-0.913569</td>\n",
       "      <td>-0.387347</td>\n",
       "      <td>-2.085118</td>\n",
       "    </tr>\n",
       "    <tr>\n",
       "      <th>25%</th>\n",
       "      <td>-0.064186</td>\n",
       "      <td>-0.532084</td>\n",
       "      <td>-0.367907</td>\n",
       "      <td>-0.326948</td>\n",
       "    </tr>\n",
       "    <tr>\n",
       "      <th>50%</th>\n",
       "      <td>0.140131</td>\n",
       "      <td>0.309580</td>\n",
       "      <td>0.063151</td>\n",
       "      <td>-0.032724</td>\n",
       "    </tr>\n",
       "    <tr>\n",
       "      <th>75%</th>\n",
       "      <td>0.988845</td>\n",
       "      <td>1.309259</td>\n",
       "      <td>0.867697</td>\n",
       "      <td>0.070972</td>\n",
       "    </tr>\n",
       "    <tr>\n",
       "      <th>max</th>\n",
       "      <td>1.458151</td>\n",
       "      <td>1.748171</td>\n",
       "      <td>1.279602</td>\n",
       "      <td>1.484917</td>\n",
       "    </tr>\n",
       "  </tbody>\n",
       "</table>\n",
       "</div>"
      ],
      "text/plain": [
       "              A         B         C         D\n",
       "count  6.000000  6.000000  6.000000  6.000000\n",
       "mean   0.330165  0.380601  0.273807 -0.164189\n",
       "std    0.880667  1.128793  0.749650  1.147107\n",
       "min   -0.896884 -0.913569 -0.387347 -2.085118\n",
       "25%   -0.064186 -0.532084 -0.367907 -0.326948\n",
       "50%    0.140131  0.309580  0.063151 -0.032724\n",
       "75%    0.988845  1.309259  0.867697  0.070972\n",
       "max    1.458151  1.748171  1.279602  1.484917"
      ]
     },
     "execution_count": 16,
     "metadata": {},
     "output_type": "execute_result"
    }
   ],
   "source": [
    "df.describe()"
   ]
  },
  {
   "cell_type": "code",
   "execution_count": 17,
   "metadata": {},
   "outputs": [
    {
     "data": {
      "text/plain": [
       "<bound method NDFrame.describe of                    A         B         C         D\n",
       "2014-01-01  0.037203  1.448711  1.279602 -0.014906\n",
       "2014-01-02  0.243059  0.890902 -0.331032 -2.085118\n",
       "2014-01-03 -0.896884 -0.271741  0.457335  1.484917\n",
       "2014-01-04  1.237440  1.748171 -0.380199 -0.050542\n",
       "2014-01-05 -0.097982 -0.913569  1.004484  0.099598\n",
       "2014-01-06  1.458151 -0.618865 -0.387347 -0.419083>"
      ]
     },
     "execution_count": 17,
     "metadata": {},
     "output_type": "execute_result"
    }
   ],
   "source": [
    "df.describe"
   ]
  },
  {
   "cell_type": "code",
   "execution_count": 18,
   "metadata": {},
   "outputs": [
    {
     "data": {
      "text/html": [
       "<div>\n",
       "<style scoped>\n",
       "    .dataframe tbody tr th:only-of-type {\n",
       "        vertical-align: middle;\n",
       "    }\n",
       "\n",
       "    .dataframe tbody tr th {\n",
       "        vertical-align: top;\n",
       "    }\n",
       "\n",
       "    .dataframe thead th {\n",
       "        text-align: right;\n",
       "    }\n",
       "</style>\n",
       "<table border=\"1\" class=\"dataframe\">\n",
       "  <thead>\n",
       "    <tr style=\"text-align: right;\">\n",
       "      <th></th>\n",
       "      <th>A</th>\n",
       "      <th>B</th>\n",
       "      <th>C</th>\n",
       "      <th>D</th>\n",
       "    </tr>\n",
       "  </thead>\n",
       "  <tbody>\n",
       "    <tr>\n",
       "      <th>2014-01-01</th>\n",
       "      <td>0.037203</td>\n",
       "      <td>1.448711</td>\n",
       "      <td>1.279602</td>\n",
       "      <td>-0.014906</td>\n",
       "    </tr>\n",
       "    <tr>\n",
       "      <th>2014-01-02</th>\n",
       "      <td>0.243059</td>\n",
       "      <td>0.890902</td>\n",
       "      <td>-0.331032</td>\n",
       "      <td>-2.085118</td>\n",
       "    </tr>\n",
       "    <tr>\n",
       "      <th>2014-01-03</th>\n",
       "      <td>-0.896884</td>\n",
       "      <td>-0.271741</td>\n",
       "      <td>0.457335</td>\n",
       "      <td>1.484917</td>\n",
       "    </tr>\n",
       "    <tr>\n",
       "      <th>2014-01-04</th>\n",
       "      <td>1.237440</td>\n",
       "      <td>1.748171</td>\n",
       "      <td>-0.380199</td>\n",
       "      <td>-0.050542</td>\n",
       "    </tr>\n",
       "    <tr>\n",
       "      <th>2014-01-05</th>\n",
       "      <td>-0.097982</td>\n",
       "      <td>-0.913569</td>\n",
       "      <td>1.004484</td>\n",
       "      <td>0.099598</td>\n",
       "    </tr>\n",
       "    <tr>\n",
       "      <th>2014-01-06</th>\n",
       "      <td>1.458151</td>\n",
       "      <td>-0.618865</td>\n",
       "      <td>-0.387347</td>\n",
       "      <td>-0.419083</td>\n",
       "    </tr>\n",
       "  </tbody>\n",
       "</table>\n",
       "</div>"
      ],
      "text/plain": [
       "                   A         B         C         D\n",
       "2014-01-01  0.037203  1.448711  1.279602 -0.014906\n",
       "2014-01-02  0.243059  0.890902 -0.331032 -2.085118\n",
       "2014-01-03 -0.896884 -0.271741  0.457335  1.484917\n",
       "2014-01-04  1.237440  1.748171 -0.380199 -0.050542\n",
       "2014-01-05 -0.097982 -0.913569  1.004484  0.099598\n",
       "2014-01-06  1.458151 -0.618865 -0.387347 -0.419083"
      ]
     },
     "execution_count": 18,
     "metadata": {},
     "output_type": "execute_result"
    }
   ],
   "source": [
    "# index, columns, underlying numpy data\n",
    "df"
   ]
  },
  {
   "cell_type": "code",
   "execution_count": 19,
   "metadata": {},
   "outputs": [
    {
     "data": {
      "text/html": [
       "<div>\n",
       "<style scoped>\n",
       "    .dataframe tbody tr th:only-of-type {\n",
       "        vertical-align: middle;\n",
       "    }\n",
       "\n",
       "    .dataframe tbody tr th {\n",
       "        vertical-align: top;\n",
       "    }\n",
       "\n",
       "    .dataframe thead th {\n",
       "        text-align: right;\n",
       "    }\n",
       "</style>\n",
       "<table border=\"1\" class=\"dataframe\">\n",
       "  <thead>\n",
       "    <tr style=\"text-align: right;\">\n",
       "      <th></th>\n",
       "      <th>2014-01-01 00:00:00</th>\n",
       "      <th>2014-01-02 00:00:00</th>\n",
       "      <th>2014-01-03 00:00:00</th>\n",
       "      <th>2014-01-04 00:00:00</th>\n",
       "      <th>2014-01-05 00:00:00</th>\n",
       "      <th>2014-01-06 00:00:00</th>\n",
       "    </tr>\n",
       "  </thead>\n",
       "  <tbody>\n",
       "    <tr>\n",
       "      <th>A</th>\n",
       "      <td>0.037203</td>\n",
       "      <td>0.243059</td>\n",
       "      <td>-0.896884</td>\n",
       "      <td>1.237440</td>\n",
       "      <td>-0.097982</td>\n",
       "      <td>1.458151</td>\n",
       "    </tr>\n",
       "    <tr>\n",
       "      <th>B</th>\n",
       "      <td>1.448711</td>\n",
       "      <td>0.890902</td>\n",
       "      <td>-0.271741</td>\n",
       "      <td>1.748171</td>\n",
       "      <td>-0.913569</td>\n",
       "      <td>-0.618865</td>\n",
       "    </tr>\n",
       "    <tr>\n",
       "      <th>C</th>\n",
       "      <td>1.279602</td>\n",
       "      <td>-0.331032</td>\n",
       "      <td>0.457335</td>\n",
       "      <td>-0.380199</td>\n",
       "      <td>1.004484</td>\n",
       "      <td>-0.387347</td>\n",
       "    </tr>\n",
       "    <tr>\n",
       "      <th>D</th>\n",
       "      <td>-0.014906</td>\n",
       "      <td>-2.085118</td>\n",
       "      <td>1.484917</td>\n",
       "      <td>-0.050542</td>\n",
       "      <td>0.099598</td>\n",
       "      <td>-0.419083</td>\n",
       "    </tr>\n",
       "  </tbody>\n",
       "</table>\n",
       "</div>"
      ],
      "text/plain": [
       "   2014-01-01  2014-01-02  2014-01-03  2014-01-04  2014-01-05  2014-01-06\n",
       "A    0.037203    0.243059   -0.896884    1.237440   -0.097982    1.458151\n",
       "B    1.448711    0.890902   -0.271741    1.748171   -0.913569   -0.618865\n",
       "C    1.279602   -0.331032    0.457335   -0.380199    1.004484   -0.387347\n",
       "D   -0.014906   -2.085118    1.484917   -0.050542    0.099598   -0.419083"
      ]
     },
     "execution_count": 19,
     "metadata": {},
     "output_type": "execute_result"
    }
   ],
   "source": [
    "df.transpose()"
   ]
  },
  {
   "cell_type": "code",
   "execution_count": 21,
   "metadata": {},
   "outputs": [
    {
     "data": {
      "text/html": [
       "<div>\n",
       "<style scoped>\n",
       "    .dataframe tbody tr th:only-of-type {\n",
       "        vertical-align: middle;\n",
       "    }\n",
       "\n",
       "    .dataframe tbody tr th {\n",
       "        vertical-align: top;\n",
       "    }\n",
       "\n",
       "    .dataframe thead th {\n",
       "        text-align: right;\n",
       "    }\n",
       "</style>\n",
       "<table border=\"1\" class=\"dataframe\">\n",
       "  <thead>\n",
       "    <tr style=\"text-align: right;\">\n",
       "      <th></th>\n",
       "      <th>2014-01-01 00:00:00</th>\n",
       "      <th>2014-01-02 00:00:00</th>\n",
       "      <th>2014-01-03 00:00:00</th>\n",
       "      <th>2014-01-04 00:00:00</th>\n",
       "      <th>2014-01-05 00:00:00</th>\n",
       "      <th>2014-01-06 00:00:00</th>\n",
       "    </tr>\n",
       "  </thead>\n",
       "  <tbody>\n",
       "    <tr>\n",
       "      <th>A</th>\n",
       "      <td>0.037203</td>\n",
       "      <td>0.243059</td>\n",
       "      <td>-0.896884</td>\n",
       "      <td>1.237440</td>\n",
       "      <td>-0.097982</td>\n",
       "      <td>1.458151</td>\n",
       "    </tr>\n",
       "    <tr>\n",
       "      <th>B</th>\n",
       "      <td>1.448711</td>\n",
       "      <td>0.890902</td>\n",
       "      <td>-0.271741</td>\n",
       "      <td>1.748171</td>\n",
       "      <td>-0.913569</td>\n",
       "      <td>-0.618865</td>\n",
       "    </tr>\n",
       "    <tr>\n",
       "      <th>C</th>\n",
       "      <td>1.279602</td>\n",
       "      <td>-0.331032</td>\n",
       "      <td>0.457335</td>\n",
       "      <td>-0.380199</td>\n",
       "      <td>1.004484</td>\n",
       "      <td>-0.387347</td>\n",
       "    </tr>\n",
       "    <tr>\n",
       "      <th>D</th>\n",
       "      <td>-0.014906</td>\n",
       "      <td>-2.085118</td>\n",
       "      <td>1.484917</td>\n",
       "      <td>-0.050542</td>\n",
       "      <td>0.099598</td>\n",
       "      <td>-0.419083</td>\n",
       "    </tr>\n",
       "  </tbody>\n",
       "</table>\n",
       "</div>"
      ],
      "text/plain": [
       "   2014-01-01  2014-01-02  2014-01-03  2014-01-04  2014-01-05  2014-01-06\n",
       "A    0.037203    0.243059   -0.896884    1.237440   -0.097982    1.458151\n",
       "B    1.448711    0.890902   -0.271741    1.748171   -0.913569   -0.618865\n",
       "C    1.279602   -0.331032    0.457335   -0.380199    1.004484   -0.387347\n",
       "D   -0.014906   -2.085118    1.484917   -0.050542    0.099598   -0.419083"
      ]
     },
     "execution_count": 21,
     "metadata": {},
     "output_type": "execute_result"
    }
   ],
   "source": [
    "# shorthand for transpose\n",
    "df.T"
   ]
  },
  {
   "cell_type": "code",
   "execution_count": 24,
   "metadata": {},
   "outputs": [
    {
     "data": {
      "text/plain": [
       "DatetimeIndex(['2014-01-01', '2014-01-02', '2014-01-03', '2014-01-04',\n",
       "               '2014-01-05', '2014-01-06'],\n",
       "              dtype='datetime64[ns]', freq='D')"
      ]
     },
     "execution_count": 24,
     "metadata": {},
     "output_type": "execute_result"
    }
   ],
   "source": [
    "df.index"
   ]
  },
  {
   "cell_type": "code",
   "execution_count": 27,
   "metadata": {},
   "outputs": [
    {
     "data": {
      "text/plain": [
       "Index(['A', 'B', 'C', 'D'], dtype='object')"
      ]
     },
     "execution_count": 27,
     "metadata": {},
     "output_type": "execute_result"
    }
   ],
   "source": [
    "df.columns"
   ]
  },
  {
   "cell_type": "code",
   "execution_count": 28,
   "metadata": {},
   "outputs": [
    {
     "data": {
      "text/plain": [
       "array([[ 0.03720268,  1.44871125,  1.27960228, -0.01490582],\n",
       "       [ 0.24305909,  0.89090212, -0.3310319 , -2.08511764],\n",
       "       [-0.89688385, -0.27174126,  0.45733455,  1.48491711],\n",
       "       [ 1.23743988,  1.74817057, -0.38019862, -0.05054186],\n",
       "       [-0.0979819 , -0.91356948,  1.00448428,  0.09959807],\n",
       "       [ 1.45815149, -0.61886513, -0.38734744, -0.41908314]])"
      ]
     },
     "execution_count": 28,
     "metadata": {},
     "output_type": "execute_result"
    }
   ],
   "source": [
    "df.values"
   ]
  },
  {
   "cell_type": "markdown",
   "metadata": {},
   "source": [
    "### New Example"
   ]
  },
  {
   "cell_type": "code",
   "execution_count": 29,
   "metadata": {},
   "outputs": [
    {
     "data": {
      "text/plain": [
       "0    1.0\n",
       "1    1.0\n",
       "2    1.0\n",
       "3    1.0\n",
       "dtype: float32"
      ]
     },
     "execution_count": 29,
     "metadata": {},
     "output_type": "execute_result"
    }
   ],
   "source": [
    "pd.Series(1, \n",
    "          index=list(range(4)), \n",
    "          dtype='float32')"
   ]
  },
  {
   "cell_type": "code",
   "execution_count": 39,
   "metadata": {},
   "outputs": [
    {
     "data": {
      "text/html": [
       "<div>\n",
       "<style scoped>\n",
       "    .dataframe tbody tr th:only-of-type {\n",
       "        vertical-align: middle;\n",
       "    }\n",
       "\n",
       "    .dataframe tbody tr th {\n",
       "        vertical-align: top;\n",
       "    }\n",
       "\n",
       "    .dataframe thead th {\n",
       "        text-align: right;\n",
       "    }\n",
       "</style>\n",
       "<table border=\"1\" class=\"dataframe\">\n",
       "  <thead>\n",
       "    <tr style=\"text-align: right;\">\n",
       "      <th></th>\n",
       "      <th>A</th>\n",
       "      <th>B</th>\n",
       "      <th>C</th>\n",
       "      <th>D</th>\n",
       "      <th>E</th>\n",
       "    </tr>\n",
       "  </thead>\n",
       "  <tbody>\n",
       "    <tr>\n",
       "      <th>0</th>\n",
       "      <td>1.0</td>\n",
       "      <td>2013-01-02</td>\n",
       "      <td>1.0</td>\n",
       "      <td>3</td>\n",
       "      <td>foo</td>\n",
       "    </tr>\n",
       "    <tr>\n",
       "      <th>1</th>\n",
       "      <td>1.0</td>\n",
       "      <td>2013-01-02</td>\n",
       "      <td>1.0</td>\n",
       "      <td>3</td>\n",
       "      <td>foo</td>\n",
       "    </tr>\n",
       "    <tr>\n",
       "      <th>2</th>\n",
       "      <td>1.0</td>\n",
       "      <td>2013-01-02</td>\n",
       "      <td>1.0</td>\n",
       "      <td>3</td>\n",
       "      <td>foo</td>\n",
       "    </tr>\n",
       "    <tr>\n",
       "      <th>3</th>\n",
       "      <td>1.0</td>\n",
       "      <td>2013-01-02</td>\n",
       "      <td>1.0</td>\n",
       "      <td>3</td>\n",
       "      <td>foo</td>\n",
       "    </tr>\n",
       "  </tbody>\n",
       "</table>\n",
       "</div>"
      ],
      "text/plain": [
       "     A          B    C  D    E\n",
       "0  1.0 2013-01-02  1.0  3  foo\n",
       "1  1.0 2013-01-02  1.0  3  foo\n",
       "2  1.0 2013-01-02  1.0  3  foo\n",
       "3  1.0 2013-01-02  1.0  3  foo"
      ]
     },
     "execution_count": 39,
     "metadata": {},
     "output_type": "execute_result"
    }
   ],
   "source": [
    "df2 = pd.DataFrame(\n",
    "    { 'A' : 1.,\n",
    "      'B' : pd.Timestamp('20130102'),\n",
    "      'C' : pd.Series(1, index=list(range(4)), dtype='float32'),\n",
    "      'D' : np.array([3] * 4, dtype='int32'),\n",
    "      'E' : 'foo'})\n",
    "df2"
   ]
  },
  {
   "cell_type": "code",
   "execution_count": 36,
   "metadata": {},
   "outputs": [
    {
     "data": {
      "text/plain": [
       "A           float64\n",
       "B    datetime64[ns]\n",
       "C           float32\n",
       "D             int32\n",
       "E            object\n",
       "dtype: object"
      ]
     },
     "execution_count": 36,
     "metadata": {},
     "output_type": "execute_result"
    }
   ],
   "source": [
    "# with specific dtypes\n",
    "df2.dtypes"
   ]
  },
  {
   "cell_type": "markdown",
   "metadata": {},
   "source": [
    "### Viewing Data"
   ]
  },
  {
   "cell_type": "code",
   "execution_count": 41,
   "metadata": {},
   "outputs": [
    {
     "data": {
      "text/html": [
       "<div>\n",
       "<style scoped>\n",
       "    .dataframe tbody tr th:only-of-type {\n",
       "        vertical-align: middle;\n",
       "    }\n",
       "\n",
       "    .dataframe tbody tr th {\n",
       "        vertical-align: top;\n",
       "    }\n",
       "\n",
       "    .dataframe thead th {\n",
       "        text-align: right;\n",
       "    }\n",
       "</style>\n",
       "<table border=\"1\" class=\"dataframe\">\n",
       "  <thead>\n",
       "    <tr style=\"text-align: right;\">\n",
       "      <th></th>\n",
       "      <th>A</th>\n",
       "      <th>B</th>\n",
       "      <th>C</th>\n",
       "      <th>D</th>\n",
       "    </tr>\n",
       "  </thead>\n",
       "  <tbody>\n",
       "    <tr>\n",
       "      <th>2014-01-01</th>\n",
       "      <td>0.037203</td>\n",
       "      <td>1.448711</td>\n",
       "      <td>1.279602</td>\n",
       "      <td>-0.014906</td>\n",
       "    </tr>\n",
       "  </tbody>\n",
       "</table>\n",
       "</div>"
      ],
      "text/plain": [
       "                   A         B         C         D\n",
       "2014-01-01  0.037203  1.448711  1.279602 -0.014906"
      ]
     },
     "execution_count": 41,
     "metadata": {},
     "output_type": "execute_result"
    }
   ],
   "source": [
    "df.head(1)"
   ]
  },
  {
   "cell_type": "code",
   "execution_count": 42,
   "metadata": {},
   "outputs": [
    {
     "data": {
      "text/html": [
       "<div>\n",
       "<style scoped>\n",
       "    .dataframe tbody tr th:only-of-type {\n",
       "        vertical-align: middle;\n",
       "    }\n",
       "\n",
       "    .dataframe tbody tr th {\n",
       "        vertical-align: top;\n",
       "    }\n",
       "\n",
       "    .dataframe thead th {\n",
       "        text-align: right;\n",
       "    }\n",
       "</style>\n",
       "<table border=\"1\" class=\"dataframe\">\n",
       "  <thead>\n",
       "    <tr style=\"text-align: right;\">\n",
       "      <th></th>\n",
       "      <th>A</th>\n",
       "      <th>B</th>\n",
       "      <th>C</th>\n",
       "      <th>D</th>\n",
       "    </tr>\n",
       "  </thead>\n",
       "  <tbody>\n",
       "    <tr>\n",
       "      <th>2014-01-05</th>\n",
       "      <td>-0.097982</td>\n",
       "      <td>-0.913569</td>\n",
       "      <td>1.004484</td>\n",
       "      <td>0.099598</td>\n",
       "    </tr>\n",
       "    <tr>\n",
       "      <th>2014-01-06</th>\n",
       "      <td>1.458151</td>\n",
       "      <td>-0.618865</td>\n",
       "      <td>-0.387347</td>\n",
       "      <td>-0.419083</td>\n",
       "    </tr>\n",
       "  </tbody>\n",
       "</table>\n",
       "</div>"
      ],
      "text/plain": [
       "                   A         B         C         D\n",
       "2014-01-05 -0.097982 -0.913569  1.004484  0.099598\n",
       "2014-01-06  1.458151 -0.618865 -0.387347 -0.419083"
      ]
     },
     "execution_count": 42,
     "metadata": {},
     "output_type": "execute_result"
    }
   ],
   "source": [
    "df.tail(2)"
   ]
  },
  {
   "cell_type": "code",
   "execution_count": 43,
   "metadata": {},
   "outputs": [
    {
     "data": {
      "text/plain": [
       "DatetimeIndex(['2014-01-01', '2014-01-02', '2014-01-03', '2014-01-04',\n",
       "               '2014-01-05', '2014-01-06'],\n",
       "              dtype='datetime64[ns]', freq='D')"
      ]
     },
     "execution_count": 43,
     "metadata": {},
     "output_type": "execute_result"
    }
   ],
   "source": [
    "df.index"
   ]
  },
  {
   "cell_type": "code",
   "execution_count": 46,
   "metadata": {},
   "outputs": [
    {
     "data": {
      "text/plain": [
       "Index(['A', 'B', 'C', 'D'], dtype='object')"
      ]
     },
     "execution_count": 46,
     "metadata": {},
     "output_type": "execute_result"
    }
   ],
   "source": [
    "# Note: columns are also of type 'Index'\n",
    "df.columns"
   ]
  },
  {
   "cell_type": "markdown",
   "metadata": {},
   "source": [
    "### Quick summary statistics"
   ]
  },
  {
   "cell_type": "code",
   "execution_count": 45,
   "metadata": {},
   "outputs": [
    {
     "data": {
      "text/html": [
       "<div>\n",
       "<style scoped>\n",
       "    .dataframe tbody tr th:only-of-type {\n",
       "        vertical-align: middle;\n",
       "    }\n",
       "\n",
       "    .dataframe tbody tr th {\n",
       "        vertical-align: top;\n",
       "    }\n",
       "\n",
       "    .dataframe thead th {\n",
       "        text-align: right;\n",
       "    }\n",
       "</style>\n",
       "<table border=\"1\" class=\"dataframe\">\n",
       "  <thead>\n",
       "    <tr style=\"text-align: right;\">\n",
       "      <th></th>\n",
       "      <th>A</th>\n",
       "      <th>B</th>\n",
       "      <th>C</th>\n",
       "      <th>D</th>\n",
       "    </tr>\n",
       "  </thead>\n",
       "  <tbody>\n",
       "    <tr>\n",
       "      <th>count</th>\n",
       "      <td>6.000000</td>\n",
       "      <td>6.000000</td>\n",
       "      <td>6.000000</td>\n",
       "      <td>6.000000</td>\n",
       "    </tr>\n",
       "    <tr>\n",
       "      <th>mean</th>\n",
       "      <td>0.330165</td>\n",
       "      <td>0.380601</td>\n",
       "      <td>0.273807</td>\n",
       "      <td>-0.164189</td>\n",
       "    </tr>\n",
       "    <tr>\n",
       "      <th>std</th>\n",
       "      <td>0.880667</td>\n",
       "      <td>1.128793</td>\n",
       "      <td>0.749650</td>\n",
       "      <td>1.147107</td>\n",
       "    </tr>\n",
       "    <tr>\n",
       "      <th>min</th>\n",
       "      <td>-0.896884</td>\n",
       "      <td>-0.913569</td>\n",
       "      <td>-0.387347</td>\n",
       "      <td>-2.085118</td>\n",
       "    </tr>\n",
       "    <tr>\n",
       "      <th>25%</th>\n",
       "      <td>-0.064186</td>\n",
       "      <td>-0.532084</td>\n",
       "      <td>-0.367907</td>\n",
       "      <td>-0.326948</td>\n",
       "    </tr>\n",
       "    <tr>\n",
       "      <th>50%</th>\n",
       "      <td>0.140131</td>\n",
       "      <td>0.309580</td>\n",
       "      <td>0.063151</td>\n",
       "      <td>-0.032724</td>\n",
       "    </tr>\n",
       "    <tr>\n",
       "      <th>75%</th>\n",
       "      <td>0.988845</td>\n",
       "      <td>1.309259</td>\n",
       "      <td>0.867697</td>\n",
       "      <td>0.070972</td>\n",
       "    </tr>\n",
       "    <tr>\n",
       "      <th>max</th>\n",
       "      <td>1.458151</td>\n",
       "      <td>1.748171</td>\n",
       "      <td>1.279602</td>\n",
       "      <td>1.484917</td>\n",
       "    </tr>\n",
       "  </tbody>\n",
       "</table>\n",
       "</div>"
      ],
      "text/plain": [
       "              A         B         C         D\n",
       "count  6.000000  6.000000  6.000000  6.000000\n",
       "mean   0.330165  0.380601  0.273807 -0.164189\n",
       "std    0.880667  1.128793  0.749650  1.147107\n",
       "min   -0.896884 -0.913569 -0.387347 -2.085118\n",
       "25%   -0.064186 -0.532084 -0.367907 -0.326948\n",
       "50%    0.140131  0.309580  0.063151 -0.032724\n",
       "75%    0.988845  1.309259  0.867697  0.070972\n",
       "max    1.458151  1.748171  1.279602  1.484917"
      ]
     },
     "execution_count": 45,
     "metadata": {},
     "output_type": "execute_result"
    }
   ],
   "source": [
    "df.describe()"
   ]
  },
  {
   "cell_type": "code",
   "execution_count": 53,
   "metadata": {},
   "outputs": [
    {
     "name": "stdout",
     "output_type": "stream",
     "text": [
      "<class 'numpy.ndarray'>\n"
     ]
    },
    {
     "data": {
      "text/plain": [
       "array([0. , 0.1, 0.2, 0.3, 0.4, 0.5, 0.6, 0.7, 0.8, 0.9])"
      ]
     },
     "execution_count": 53,
     "metadata": {},
     "output_type": "execute_result"
    }
   ],
   "source": [
    "percentiles = np.arange(0, 1, 0.1)\n",
    "print(type(percentiles))\n",
    "percentiles"
   ]
  },
  {
   "cell_type": "code",
   "execution_count": 54,
   "metadata": {},
   "outputs": [
    {
     "name": "stdout",
     "output_type": "stream",
     "text": [
      "<class 'list'>\n"
     ]
    },
    {
     "data": {
      "text/plain": [
       "[0.0,\n",
       " 0.1,\n",
       " 0.2,\n",
       " 0.30000000000000004,\n",
       " 0.4,\n",
       " 0.5,\n",
       " 0.6000000000000001,\n",
       " 0.7000000000000001,\n",
       " 0.8,\n",
       " 0.9]"
      ]
     },
     "execution_count": 54,
     "metadata": {},
     "output_type": "execute_result"
    }
   ],
   "source": [
    "# convert to list\n",
    "percentiles=list(percentiles)\n",
    "print(type(percentiles))\n",
    "percentiles"
   ]
  },
  {
   "cell_type": "code",
   "execution_count": 55,
   "metadata": {},
   "outputs": [
    {
     "data": {
      "text/html": [
       "<div>\n",
       "<style scoped>\n",
       "    .dataframe tbody tr th:only-of-type {\n",
       "        vertical-align: middle;\n",
       "    }\n",
       "\n",
       "    .dataframe tbody tr th {\n",
       "        vertical-align: top;\n",
       "    }\n",
       "\n",
       "    .dataframe thead th {\n",
       "        text-align: right;\n",
       "    }\n",
       "</style>\n",
       "<table border=\"1\" class=\"dataframe\">\n",
       "  <thead>\n",
       "    <tr style=\"text-align: right;\">\n",
       "      <th></th>\n",
       "      <th>A</th>\n",
       "      <th>B</th>\n",
       "      <th>C</th>\n",
       "      <th>D</th>\n",
       "    </tr>\n",
       "  </thead>\n",
       "  <tbody>\n",
       "    <tr>\n",
       "      <th>count</th>\n",
       "      <td>6.000000</td>\n",
       "      <td>6.000000</td>\n",
       "      <td>6.000000</td>\n",
       "      <td>6.000000</td>\n",
       "    </tr>\n",
       "    <tr>\n",
       "      <th>mean</th>\n",
       "      <td>0.330165</td>\n",
       "      <td>0.380601</td>\n",
       "      <td>0.273807</td>\n",
       "      <td>-0.164189</td>\n",
       "    </tr>\n",
       "    <tr>\n",
       "      <th>std</th>\n",
       "      <td>0.880667</td>\n",
       "      <td>1.128793</td>\n",
       "      <td>0.749650</td>\n",
       "      <td>1.147107</td>\n",
       "    </tr>\n",
       "    <tr>\n",
       "      <th>min</th>\n",
       "      <td>-0.896884</td>\n",
       "      <td>-0.913569</td>\n",
       "      <td>-0.387347</td>\n",
       "      <td>-2.085118</td>\n",
       "    </tr>\n",
       "    <tr>\n",
       "      <th>0%</th>\n",
       "      <td>-0.896884</td>\n",
       "      <td>-0.913569</td>\n",
       "      <td>-0.387347</td>\n",
       "      <td>-2.085118</td>\n",
       "    </tr>\n",
       "    <tr>\n",
       "      <th>10%</th>\n",
       "      <td>-0.497433</td>\n",
       "      <td>-0.766217</td>\n",
       "      <td>-0.383773</td>\n",
       "      <td>-1.252100</td>\n",
       "    </tr>\n",
       "    <tr>\n",
       "      <th>20%</th>\n",
       "      <td>-0.097982</td>\n",
       "      <td>-0.618865</td>\n",
       "      <td>-0.380199</td>\n",
       "      <td>-0.419083</td>\n",
       "    </tr>\n",
       "    <tr>\n",
       "      <th>30.0%</th>\n",
       "      <td>-0.030390</td>\n",
       "      <td>-0.445303</td>\n",
       "      <td>-0.355615</td>\n",
       "      <td>-0.234813</td>\n",
       "    </tr>\n",
       "    <tr>\n",
       "      <th>40%</th>\n",
       "      <td>0.037203</td>\n",
       "      <td>-0.271741</td>\n",
       "      <td>-0.331032</td>\n",
       "      <td>-0.050542</td>\n",
       "    </tr>\n",
       "    <tr>\n",
       "      <th>50%</th>\n",
       "      <td>0.140131</td>\n",
       "      <td>0.309580</td>\n",
       "      <td>0.063151</td>\n",
       "      <td>-0.032724</td>\n",
       "    </tr>\n",
       "    <tr>\n",
       "      <th>60.0%</th>\n",
       "      <td>0.243059</td>\n",
       "      <td>0.890902</td>\n",
       "      <td>0.457335</td>\n",
       "      <td>-0.014906</td>\n",
       "    </tr>\n",
       "    <tr>\n",
       "      <th>70%</th>\n",
       "      <td>0.740249</td>\n",
       "      <td>1.169807</td>\n",
       "      <td>0.730909</td>\n",
       "      <td>0.042346</td>\n",
       "    </tr>\n",
       "    <tr>\n",
       "      <th>80%</th>\n",
       "      <td>1.237440</td>\n",
       "      <td>1.448711</td>\n",
       "      <td>1.004484</td>\n",
       "      <td>0.099598</td>\n",
       "    </tr>\n",
       "    <tr>\n",
       "      <th>90%</th>\n",
       "      <td>1.347796</td>\n",
       "      <td>1.598441</td>\n",
       "      <td>1.142043</td>\n",
       "      <td>0.792258</td>\n",
       "    </tr>\n",
       "    <tr>\n",
       "      <th>max</th>\n",
       "      <td>1.458151</td>\n",
       "      <td>1.748171</td>\n",
       "      <td>1.279602</td>\n",
       "      <td>1.484917</td>\n",
       "    </tr>\n",
       "  </tbody>\n",
       "</table>\n",
       "</div>"
      ],
      "text/plain": [
       "              A         B         C         D\n",
       "count  6.000000  6.000000  6.000000  6.000000\n",
       "mean   0.330165  0.380601  0.273807 -0.164189\n",
       "std    0.880667  1.128793  0.749650  1.147107\n",
       "min   -0.896884 -0.913569 -0.387347 -2.085118\n",
       "0%    -0.896884 -0.913569 -0.387347 -2.085118\n",
       "10%   -0.497433 -0.766217 -0.383773 -1.252100\n",
       "20%   -0.097982 -0.618865 -0.380199 -0.419083\n",
       "30.0% -0.030390 -0.445303 -0.355615 -0.234813\n",
       "40%    0.037203 -0.271741 -0.331032 -0.050542\n",
       "50%    0.140131  0.309580  0.063151 -0.032724\n",
       "60.0%  0.243059  0.890902  0.457335 -0.014906\n",
       "70%    0.740249  1.169807  0.730909  0.042346\n",
       "80%    1.237440  1.448711  1.004484  0.099598\n",
       "90%    1.347796  1.598441  1.142043  0.792258\n",
       "max    1.458151  1.748171  1.279602  1.484917"
      ]
     },
     "execution_count": 55,
     "metadata": {},
     "output_type": "execute_result"
    }
   ],
   "source": [
    "percentiles = np.arange(0, 1, 0.1)\n",
    "df.describe(percentiles=list(percentiles))  # instead of 25%, 50%, 75% => 10%, 20%, 30%, ,,,"
   ]
  },
  {
   "cell_type": "code",
   "execution_count": 56,
   "metadata": {},
   "outputs": [
    {
     "data": {
      "text/html": [
       "<div>\n",
       "<style scoped>\n",
       "    .dataframe tbody tr th:only-of-type {\n",
       "        vertical-align: middle;\n",
       "    }\n",
       "\n",
       "    .dataframe tbody tr th {\n",
       "        vertical-align: top;\n",
       "    }\n",
       "\n",
       "    .dataframe thead th {\n",
       "        text-align: right;\n",
       "    }\n",
       "</style>\n",
       "<table border=\"1\" class=\"dataframe\">\n",
       "  <thead>\n",
       "    <tr style=\"text-align: right;\">\n",
       "      <th></th>\n",
       "      <th>A</th>\n",
       "      <th>B</th>\n",
       "      <th>C</th>\n",
       "      <th>D</th>\n",
       "    </tr>\n",
       "  </thead>\n",
       "  <tbody>\n",
       "    <tr>\n",
       "      <th>2014-01-04</th>\n",
       "      <td>1.237440</td>\n",
       "      <td>1.748171</td>\n",
       "      <td>-0.380199</td>\n",
       "      <td>-0.050542</td>\n",
       "    </tr>\n",
       "    <tr>\n",
       "      <th>2014-01-01</th>\n",
       "      <td>0.037203</td>\n",
       "      <td>1.448711</td>\n",
       "      <td>1.279602</td>\n",
       "      <td>-0.014906</td>\n",
       "    </tr>\n",
       "    <tr>\n",
       "      <th>2014-01-02</th>\n",
       "      <td>0.243059</td>\n",
       "      <td>0.890902</td>\n",
       "      <td>-0.331032</td>\n",
       "      <td>-2.085118</td>\n",
       "    </tr>\n",
       "    <tr>\n",
       "      <th>2014-01-03</th>\n",
       "      <td>-0.896884</td>\n",
       "      <td>-0.271741</td>\n",
       "      <td>0.457335</td>\n",
       "      <td>1.484917</td>\n",
       "    </tr>\n",
       "    <tr>\n",
       "      <th>2014-01-06</th>\n",
       "      <td>1.458151</td>\n",
       "      <td>-0.618865</td>\n",
       "      <td>-0.387347</td>\n",
       "      <td>-0.419083</td>\n",
       "    </tr>\n",
       "    <tr>\n",
       "      <th>2014-01-05</th>\n",
       "      <td>-0.097982</td>\n",
       "      <td>-0.913569</td>\n",
       "      <td>1.004484</td>\n",
       "      <td>0.099598</td>\n",
       "    </tr>\n",
       "  </tbody>\n",
       "</table>\n",
       "</div>"
      ],
      "text/plain": [
       "                   A         B         C         D\n",
       "2014-01-04  1.237440  1.748171 -0.380199 -0.050542\n",
       "2014-01-01  0.037203  1.448711  1.279602 -0.014906\n",
       "2014-01-02  0.243059  0.890902 -0.331032 -2.085118\n",
       "2014-01-03 -0.896884 -0.271741  0.457335  1.484917\n",
       "2014-01-06  1.458151 -0.618865 -0.387347 -0.419083\n",
       "2014-01-05 -0.097982 -0.913569  1.004484  0.099598"
      ]
     },
     "execution_count": 56,
     "metadata": {},
     "output_type": "execute_result"
    }
   ],
   "source": [
    "df.sort_values(by=['B', 'D'], ascending=False)"
   ]
  },
  {
   "cell_type": "markdown",
   "metadata": {},
   "source": [
    "### Selection"
   ]
  },
  {
   "cell_type": "code",
   "execution_count": null,
   "metadata": {},
   "outputs": [],
   "source": []
  }
 ],
 "metadata": {
  "kernelspec": {
   "display_name": "Python 3",
   "language": "python",
   "name": "python3"
  },
  "language_info": {
   "codemirror_mode": {
    "name": "ipython",
    "version": 3
   },
   "file_extension": ".py",
   "mimetype": "text/x-python",
   "name": "python",
   "nbconvert_exporter": "python",
   "pygments_lexer": "ipython3",
   "version": "3.6.4"
  }
 },
 "nbformat": 4,
 "nbformat_minor": 2
}
