{
 "cells": [
  {
   "cell_type": "markdown",
   "metadata": {},
   "source": [
    "### Q3: Re-do as a single function\n",
    "\n",
    "brendanbailey [11:49 AM] Mon Aug 21, 2017\n",
    "\n",
    "Hello Joanne\n",
    "\n",
    "I have your unit 1 feedback.\n",
    "\n",
    "8/8!\n",
    "\n",
    "+s:\n",
    "Great job in solving these problems! Your answer to question 1.1 is the first time I've seen a solution address the middle digit. Very unique! I also like how your solution lists the multipliers that lead to the product.\n",
    "\n",
    "I like how your solution for 1.2 uses a break for efficiency.\n",
    "\n",
    "-s:\n",
    "Great job in creating functions that are case sensitive and insensitive for question 3. What I think would be good would be to combine these into a single function, and have the user designate via an argument whether they would like the function to compress case sensitively or insensitively.\n",
    "\n",
    "Amazing :confetti_ball:"
   ]
  },
  {
   "cell_type": "markdown",
   "metadata": {},
   "source": [
    "<img src=\"http://imgur.com/1ZcRyrc.png\" style=\"float: left; margin: 20px; height: 55px\">\n",
    "\n",
    "# Project 1: Python Coding Exercises\n",
    "\n",
    "_Authors: Joseph Nelson (DC) _\n",
    "\n",
    "---"
   ]
  },
  {
   "cell_type": "markdown",
   "metadata": {},
   "source": [
    "The following code challenges are drawn from common exercises used in technical interviews.\n",
    "\n",
    "Note that there may be several ways to approach each challenge!"
   ]
  },
  {
   "cell_type": "markdown",
   "metadata": {},
   "source": [
    "### Challenge 1.1: Largest Palindrome\n",
    "A palindromic number reads the same both ways. For example, 1234321 is a palindrome. The largest palindrome made from the product of two two-digit numbers is 9009 = 91 × 99. Find the largest palindrome made from the product of two three-digit numbers."
   ]
  },
  {
   "cell_type": "code",
   "execution_count": 30,
   "metadata": {},
   "outputs": [
    {
     "name": "stdout",
     "output_type": "stream",
     "text": [
      "Largest Palindrome from two 3-digit numbers is 913 x 993 = 906609\n"
     ]
    }
   ],
   "source": [
    "import math\n",
    "\n",
    "min = 100\n",
    "max = 999\n",
    "\n",
    "largest_palindrome = 0\n",
    "\n",
    "for n1 in range(min, max+1):\n",
    "    for n2 in range(min, max+1):\n",
    "        num = n1 * n2\n",
    "        num_str = str(num)\n",
    "        num_length = len(num_str)\n",
    "        \n",
    "        if num_length%2 == 1:\n",
    "            mid_index = int(num_length/2)\n",
    "            # drops the middle digit if the number string length is odd -\n",
    "            # the middle digit does not need to be compared, and an even\n",
    "            # number of digits may readily be divided into two parts\n",
    "            num_str = num_str.replace(num_str[mid_index], '')\n",
    "        else:\n",
    "            mid_index = int(math.ceil(num_length/2))\n",
    "\n",
    "        # compare the first half of the number string to the reverse of the last half\n",
    "        if num_str[:mid_index] == num_str[mid_index:][::-1]:\n",
    "            curr_largest = num\n",
    "            if curr_largest > largest_palindrome:\n",
    "                largest_palindrome = curr_largest\n",
    "                factors = [n1, n2]\n",
    "\n",
    "print 'Largest Palindrome from two 3-digit numbers is', factors[0], 'x', factors[1], '=', str(largest_palindrome)"
   ]
  },
  {
   "cell_type": "markdown",
   "metadata": {},
   "source": [
    "\n",
    "### Challenge 1.2: Summation of Primes\n",
    "The sum of the primes below 10 is 2 + 3 + 5 + 7 = 17. Find the sum of all the primes below 2,000."
   ]
  },
  {
   "cell_type": "code",
   "execution_count": 1,
   "metadata": {},
   "outputs": [
    {
     "name": "stdout",
     "output_type": "stream",
     "text": [
      "The sum of all the primes below 2000 = 277050\n"
     ]
    }
   ],
   "source": [
    "# a prime number is divisible only by 1 and itself, but 1 itself is not a prime number\n",
    "\n",
    "min = 1\n",
    "max = 2000\n",
    "\n",
    "# how can code take care of initial value?\n",
    "primes = [2]\n",
    "\n",
    "# print min, max\n",
    "for num in range(min, max):\n",
    "    #print 'outer num: ', num\n",
    "    for i in range(min, num):\n",
    "        if i > 1:\n",
    "            #print '  i: ', i\n",
    "\n",
    "            if num%i == 0:\n",
    "                \n",
    "                #print num, 'is divisible by', i\n",
    "                break  # first occurence disqualifies num as prime\n",
    "            else:\n",
    "                if i == num-1:\n",
    "                    # we have reached last i wihtout being disqualified, num must be prime\n",
    "                    #print num, ' is prime <<====='\n",
    "                    primes.append(num)\n",
    "\n",
    "# print '\\nPrimes: \\n', primes\n",
    "print 'The sum of all the primes below', max, '=', sum(primes)"
   ]
  },
  {
   "cell_type": "markdown",
   "metadata": {},
   "source": [
    "### Challenge 1.3: Multiples of 3 and 5\n",
    "If we list all of the natural numbers below 10 that are multiples of 3 or 5, we get 3, 5, 6, and 9. The sum of these multiples is 23. Find the sum of all the multiples of 3 and 5 below 1,000."
   ]
  },
  {
   "cell_type": "code",
   "execution_count": 32,
   "metadata": {},
   "outputs": [
    {
     "name": "stdout",
     "output_type": "stream",
     "text": [
      "The sum of all multiples of 3 and 5 below 1000 = 233168\n"
     ]
    }
   ],
   "source": [
    "sumx = 0\n",
    "for i in range(1, 1000):\n",
    "    if (i%3 == 0) or (i%5 == 0):\n",
    "        sumx += i\n",
    "\n",
    "print 'The sum of all multiples of 3 and 5 below 1000 =', sumx"
   ]
  },
  {
   "cell_type": "markdown",
   "metadata": {},
   "source": [
    "# Challenge 2: FizzBuzz\n",
    "Write a program that prints all of the numbers from 1 to 100. For multiples of 3, instead of the number, print \"Fizz;\" for multiples of 5, print \"Buzz.\" For numbers that are multiples of both 3 and 5, print \"FizzBuzz.\" Bonus: If that's too easy, create three unique solutions. Sometimes you'll encounter unexpected constraints, so make sure you're able to think creatively!"
   ]
  },
  {
   "cell_type": "code",
   "execution_count": 4,
   "metadata": {},
   "outputs": [
    {
     "name": "stdout",
     "output_type": "stream",
     "text": [
      "1\n",
      "2\n",
      "Fizz\n",
      "4\n",
      "Buzz\n",
      "Fizz\n",
      "7\n",
      "8\n",
      "Fizz\n",
      "Buzz\n",
      "11\n",
      "Fizz\n",
      "13\n",
      "14\n",
      "FizzBuzz\n",
      "16\n",
      "17\n",
      "Fizz\n",
      "19\n",
      "Buzz\n",
      "Fizz\n",
      "22\n",
      "23\n",
      "Fizz\n",
      "Buzz\n",
      "26\n",
      "Fizz\n",
      "28\n",
      "29\n",
      "FizzBuzz\n",
      "31\n",
      "32\n",
      "Fizz\n",
      "34\n",
      "Buzz\n",
      "Fizz\n",
      "37\n",
      "38\n",
      "Fizz\n",
      "Buzz\n",
      "41\n",
      "Fizz\n",
      "43\n",
      "44\n",
      "FizzBuzz\n",
      "46\n",
      "47\n",
      "Fizz\n",
      "49\n",
      "Buzz\n",
      "Fizz\n",
      "52\n",
      "53\n",
      "Fizz\n",
      "Buzz\n",
      "56\n",
      "Fizz\n",
      "58\n",
      "59\n",
      "FizzBuzz\n",
      "61\n",
      "62\n",
      "Fizz\n",
      "64\n",
      "Buzz\n",
      "Fizz\n",
      "67\n",
      "68\n",
      "Fizz\n",
      "Buzz\n",
      "71\n",
      "Fizz\n",
      "73\n",
      "74\n",
      "FizzBuzz\n",
      "76\n",
      "77\n",
      "Fizz\n",
      "79\n",
      "Buzz\n",
      "Fizz\n",
      "82\n",
      "83\n",
      "Fizz\n",
      "Buzz\n",
      "86\n",
      "Fizz\n",
      "88\n",
      "89\n",
      "FizzBuzz\n",
      "91\n",
      "92\n",
      "Fizz\n",
      "94\n",
      "Buzz\n",
      "Fizz\n",
      "97\n",
      "98\n",
      "Fizz\n",
      "Buzz\n"
     ]
    }
   ],
   "source": [
    "#   prints numbers form 1 to 100\n",
    "#   prints \"Fizz\" if a number is divisible by 3\n",
    "#   prints \"Buzz\" if a number is divisible by 5\n",
    "#   prints \"FizzBuzz\" if a number is divisible by both 3 and 5\n",
    "\n",
    "for i in range(1, 101):\n",
    "    if (i % 3 == 0) and (i % 5 == 0):\n",
    "        print \"FizzBuzz\"\n",
    "    elif i%3==0:\n",
    "        print \"Fizz\"\n",
    "    elif i%5==0:\n",
    "        print \"Buzz\"\n",
    "    else:\n",
    "        print i"
   ]
  },
  {
   "cell_type": "markdown",
   "metadata": {},
   "source": [
    "### Challenge 3: String Compressor\n",
    "Implement a method to perform basic string compression using the counts of repeated characters. (This is called run-length encoding.) For example, the string \"aabcccccaaa\" would become a2b1c5a3. If the “compressed” string would not become smaller than the original string, your method should return the original string. You can assume the string has only uppercase and lowercase letters (a–z). Specify whether your solution is case sensitive or case insensitive and what you would need to change to make it the other."
   ]
  },
  {
   "cell_type": "code",
   "execution_count": 5,
   "metadata": {},
   "outputs": [],
   "source": [
    "def StringCompressor_CaseSensitive(input_string):\n",
    "# input: a string that consists of lowercase and uppercase letters, i.e., \"aabcccccaaa\"\n",
    "# output: a single compressed string in the form of letter count, i.e., \"a2b1c5a3\" \n",
    "#         if the compressed string is shorter in length than the original input string,  \n",
    "#         otherwise, returns the original equal or shorter length input string\n",
    "# note: the case insensitive version requires uncommenting two lines, as indicated, \n",
    "#       see code segment that follows\n",
    "\n",
    "    # declaration of data structures\n",
    "    comp_string = []\n",
    "    letters = []  # list of letters in sequence\n",
    "    counts = []   # corresponding list of counts[] of letters[]\n",
    "    i = 0         # index to track letters[] and counts[]\n",
    "    \n",
    "    # initialization of data structures\n",
    "    letters.append(input_string[i])   # initialize first letter in letters[0]\n",
    "#     letters[i] = letters[i].lower()   # uncomment for case insensitivity\n",
    "    counts.append(1)                  # initialize counts[] with count of first letter\n",
    "\n",
    "    # creates list of letters and corresponding list of counts\n",
    "    for char in input_string[1:]:\n",
    "#         char = char.lower()           # uncomment for case insensitivity\n",
    "        if char == letters[i]:\n",
    "            counts[i] += 1\n",
    "        else:\n",
    "            letters.append(char)\n",
    "            counts.append(1)\n",
    "            i += 1\n",
    "\n",
    "    # combines letters and counts into single list        \n",
    "    for indx in range(len(letters)):\n",
    "        comp_string.append(letters[indx])\n",
    "        comp_string.append(str(counts[indx]))\n",
    "\n",
    "    # combines list elements into single string\n",
    "    result = ''.join(comp_string)\n",
    "    \n",
    "    # returns the original string if the compressed stringlength is >= to the original string length\n",
    "    if len(result) <= len(input_string):\n",
    "        return result\n",
    "    else:\n",
    "        return input_string"
   ]
  },
  {
   "cell_type": "code",
   "execution_count": 34,
   "metadata": {},
   "outputs": [
    {
     "name": "stdout",
     "output_type": "stream",
     "text": [
      "a2b1c5a3\n",
      "AabcCcccaaA\n",
      "AbCdEfG\n"
     ]
    }
   ],
   "source": [
    "print(StringCompressor_CaseSensitive(\"aabcccccaaa\")) # given case\n",
    "print(StringCompressor_CaseSensitive(\"AabcCcccaaA\")) # case sensitive\n",
    "print(StringCompressor_CaseSensitive(\"AbCdEfG\"))     # result length is longer than input_string"
   ]
  },
  {
   "cell_type": "code",
   "execution_count": 7,
   "metadata": {
    "collapsed": true
   },
   "outputs": [],
   "source": [
    "def StringCompressor_CaseInsensitive(input_string):\n",
    "# same code  as StringCompressor_CaseSensitive(), but with two uncommented lines\n",
    "\n",
    "    # declaration of data structures\n",
    "    comp_string = []\n",
    "    letters = []  # list of letters in sequence\n",
    "    counts = []   # corresponding list of counts[] of letters[]\n",
    "    i = 0         # index to track letters[] and counts[]\n",
    "    \n",
    "    # initialization of data structures\n",
    "    letters.append(input_string[i])   # initialize first letter in letters[0]\n",
    "    letters[i] = letters[i].lower()   # *** comment out for case sensitivity ***\n",
    "    counts.append(1)                  # initialize counts[] with count of first letter\n",
    "\n",
    "    # creates list of letters and corresponding list of counts\n",
    "    for char in input_string[1:]:\n",
    "        char = char.lower()           # *** comment out for case sensitivity ***\n",
    "        if char == letters[i]:\n",
    "            counts[i] += 1\n",
    "        else:\n",
    "            letters.append(char)\n",
    "            counts.append(1)\n",
    "            i += 1\n",
    "\n",
    "    # combines letters and counts into single list\n",
    "    for indx in range(len(letters)):\n",
    "        comp_string.append(letters[indx])\n",
    "        comp_string.append(str(counts[indx]))\n",
    "\n",
    "    # combines list elements into single string\n",
    "    result = ''.join(comp_string)\n",
    "    \n",
    "    # return the original string if the compressed stringlength is >= to the original string length\n",
    "    if len(result) <= len(input_string):\n",
    "        return result\n",
    "    else:\n",
    "        return input_string"
   ]
  },
  {
   "cell_type": "code",
   "execution_count": 33,
   "metadata": {},
   "outputs": [
    {
     "name": "stdout",
     "output_type": "stream",
     "text": [
      "a2b1c5a3\n",
      "AbCdEfG\n"
     ]
    }
   ],
   "source": [
    "print(StringCompressor_CaseInsensitive(\"AabcCcccaaA\")) # case insensitive\n",
    "print(StringCompressor_CaseInsensitive(\"AbCdEfG\"))     # result length is longer than input_string"
   ]
  }
 ],
 "metadata": {
  "anaconda-cloud": {},
  "kernelspec": {
   "display_name": "Python 2",
   "language": "python",
   "name": "python2"
  },
  "language_info": {
   "codemirror_mode": {
    "name": "ipython",
    "version": 2
   },
   "file_extension": ".py",
   "mimetype": "text/x-python",
   "name": "python",
   "nbconvert_exporter": "python",
   "pygments_lexer": "ipython2",
   "version": "2.7.13"
  }
 },
 "nbformat": 4,
 "nbformat_minor": 2
}
